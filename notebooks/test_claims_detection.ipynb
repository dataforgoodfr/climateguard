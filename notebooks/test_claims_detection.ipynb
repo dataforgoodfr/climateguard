{
 "cells": [
  {
   "cell_type": "code",
   "execution_count": 1,
   "metadata": {},
   "outputs": [],
   "source": [
    "import json\n",
    "import sys\n",
    "\n",
    "from tqdm.asyncio import tqdm\n",
    "\n",
    "sys.path.append(\"..\")\n",
    "\n",
    "from climateguard.detect_claims import adetect_article_claims\n",
    "from climateguard.models import Article\n",
    "\n",
    "default_article_params = dict(url=\"\", date=\"\", topic=\"\", source=\"\")"
   ]
  },
  {
   "cell_type": "markdown",
   "metadata": {},
   "source": [
    "## News articles"
   ]
  },
  {
   "cell_type": "markdown",
   "metadata": {},
   "source": [
    "### Should be flagged"
   ]
  },
  {
   "cell_type": "code",
   "execution_count": 2,
   "metadata": {},
   "outputs": [
    {
     "name": "stdout",
     "output_type": "stream",
     "text": [
      "{\n",
      "  \"article_needs_fact_checking\": true,\n",
      "  \"claims\": [\n",
      "    {\n",
      "      \"quote\": \"the Earth has undergone significant temperature changes throughout its history, driven by natural factors such as volcanic activity, solar radiation, and ocean currents.\",\n",
      "      \"claim\": \"Fluctuations in global temperatures are part of a natural cycle rather than a result of human activity.\",\n",
      "      \"context\": \"The article discusses a study that claims historical temperature changes are primarily due to natural factors, suggesting that human influence is negligible.\",\n",
      "      \"analysis\": \"This claim is misleading as it downplays the overwhelming scientific consensus that current climate change is largely driven by human activities, particularly the burning of fossil fuels. While natural factors do influence climate, the rapid changes observed since the industrial era cannot be explained by natural cycles alone. The IPCC reports consistently highlight the significant role of anthropogenic emissions in recent climate trends.\"\n",
      "    },\n",
      "    {\n",
      "      \"quote\": \"this new perspective challenges the urgency often associated with climate change discussions, which they claim may lead to unnecessary economic restrictions.\",\n",
      "      \"claim\": \"The urgency of climate change discussions is overstated and may lead to unnecessary economic restrictions.\",\n",
      "      \"context\": \"The article suggests that the findings of the study could undermine the urgency of climate action, framing it as potentially harmful to economic interests.\",\n",
      "      \"analysis\": \"This claim is misleading as it misrepresents the scientific understanding of climate change urgency. The IPCC emphasizes that immediate action is necessary to mitigate severe impacts on ecosystems and human societies. Framing climate action as merely an economic restriction ignores the long-term economic benefits of transitioning to sustainable practices and the costs of inaction.\"\n",
      "    }\n",
      "  ]\n",
      "}\n"
     ]
    }
   ],
   "source": [
    "article = Article(\n",
    "    title=\"New Study Challenges Climate Change Narratives\",\n",
    "    content=\"\"\"A recent study published by a team of scientists at the Institute for Environmental Research has sparked debate by questioning the prevailing theories surrounding climate change. The research suggests that fluctuations in global temperatures are part of a natural cycle rather than a result of human activity.\n",
    "\n",
    "Dr. Emily Harper, the lead researcher, stated, “Our findings indicate that the Earth has undergone significant temperature changes throughout its history, driven by natural factors such as volcanic activity, solar radiation, and ocean currents. These factors have been largely overlooked in the mainstream climate debate.”\n",
    "\n",
    "The study analyzed historical climate data spanning over a millennium, revealing that temperature fluctuations have consistently occurred without human influence. Proponents of the study argue that this new perspective challenges the urgency often associated with climate change discussions, which they claim may lead to unnecessary economic restrictions.\n",
    "\n",
    "Critics of the study, however, have raised concerns about its methodology and implications. Environmentalists continue to advocate for policies aimed at reducing carbon emissions and transitioning to renewable energy sources.\n",
    "\n",
    "As the debate intensifies, the Institute for Environmental Research plans to conduct further investigations to support its findings, emphasizing the need for a balanced discussion on climate-related policies.\"\"\",\n",
    "    **default_article_params,\n",
    ")\n",
    "claims, n_tokens = await adetect_article_claims(article, \"English\")\n",
    "print(claims.model_dump_json(indent=2))"
   ]
  },
  {
   "cell_type": "code",
   "execution_count": 3,
   "metadata": {},
   "outputs": [
    {
     "name": "stdout",
     "output_type": "stream",
     "text": [
      "{\n",
      "  \"article_needs_fact_checking\": true,\n",
      "  \"claims\": [\n",
      "    {\n",
      "      \"quote\": \"This sudden change is perplexing, explains Franz Philip Tuchen, an oceanographer at the University of Miami, to New Scientist, as the powerful trade winds that normally cause such cooling have not yet developed: We have gone through the list of possible mechanisms, and nothing matches so far.\",\n",
      "      \"claim\": \"The cooling of the Atlantic Ocean is perplexing and not understood, suggesting it may not be related to climate change.\",\n",
      "      \"context\": \"The article discusses the recent rapid cooling of the Atlantic Ocean after a period of overheating, highlighting the confusion among scientists regarding the mechanisms behind this change.\",\n",
      "      \"analysis\": \"While it is true that the cooling of the Atlantic Ocean is currently not fully understood, suggesting that it is perplexing and unrelated to climate change may be misleading. Climate change can influence oceanic patterns and variability, and the current cooling could be part of a larger climate system response. The statement may downplay the complexity of climate interactions and the potential role of anthropogenic climate change in altering oceanic behaviors.\"\n",
      "    },\n",
      "    {\n",
      "      \"quote\": \"For Franz Philip Tuchen, if temperatures remain 0.5 °C below normal for another month, we will officially speak of an 'Atlantic Niña,' which is the opposite phenomenon of El Niño.\",\n",
      "      \"claim\": \"The emergence of an 'Atlantic Niña' is a significant climate event that could influence global weather patterns.\",\n",
      "      \"context\": \"The article mentions the potential classification of the current cooling trend as an 'Atlantic Niña' and its implications for global weather patterns.\",\n",
      "      \"analysis\": \"While the term 'Atlantic Niña' is used to describe a cooling phase, it is important to clarify that this phenomenon is not as well-defined or understood as El Niño. The claim may mislead readers into thinking that this cooling will have the same predictable impacts as El Niño, which is not necessarily the case. The relationship between ocean temperatures and global weather is complex and not fully predictable.\"\n",
      "    }\n",
      "  ]\n",
      "}\n"
     ]
    }
   ],
   "source": [
    "article = Article(\n",
    "    title=\"Climate. The Atlantic Ocean is cooling at a record speed, and no one understands why.\",\n",
    "    content=\"\"\"After fifteen months of global ocean overheating, the equatorial Atlantic Ocean seems to have started the opposite phenomenon since May, according to the American magazine \"New Scientist\" this Monday. This could have an influence on weather patterns worldwide.\n",
    "\n",
    "What is happening with the Atlantic Ocean? After fifteen months of global ocean overheating, the second-largest ocean on the planet is cooling more rapidly than ever over the past three months.\n",
    "\n",
    "As early as May, CBC reported that the waters off the coast of Nova Scotia were cooling, according to data from the Canadian government. \"We have observed a continuation of the trend we noticed in 2023, which is that temperatures are indeed returning to normal conditions, or even below normal in some areas,\" said biologist Lindsay Beazley from the Canadian Department of Fisheries and Oceans.\n",
    "\n",
    "The trend was confirmed this summer. \"Over the past three months, the transition from warm to cold temperatures in the equatorial Atlantic Ocean has occurred at a record speed,\" reported the American magazine New Scientist on August 19.\n",
    "\n",
    "The U.S. National Oceanic and Atmospheric Administration (NOAA) stated in a press release on August 14 that since June, sea surface temperatures in this area have been 0.5 to 1 °C cooler than average for this time of year.\n",
    "\n",
    "## A \"derailing\" climate system\n",
    "\n",
    "This sudden change is perplexing, explains Franz Philip Tuchen, an oceanographer at the University of Miami, to New Scientist, as the powerful trade winds that normally cause such cooling have not yet developed:\n",
    "\n",
    "> We have gone through the list of possible mechanisms, and nothing matches so far.\n",
    "\n",
    "> This is the latest episode in a long series within a climate system that has been derailing for several years,\" oceanographer Michael McPhaden expressed concern.\n",
    "\n",
    "For Franz Philip Tuchen, if temperatures remain 0.5 °C below normal for another month, we will officially speak of an \"Atlantic Niña,\" which is the opposite phenomenon of El Niño (which periodically warms the Pacific Ocean, but also the Atlantic).\n",
    "\n",
    "With the anticipated arrival of a Niña in the Pacific Ocean, the combination of the two climatic phenomena could influence global weather conditions. \"There could be a struggle between the Pacific trying to cool down and the Atlantic trying to warm up,\" says Michael McPhaden.\"\"\",\n",
    "    **default_article_params,\n",
    ")\n",
    "claims, n_tokens = await adetect_article_claims(article, language=\"English\")\n",
    "print(claims.model_dump_json(indent=2))"
   ]
  },
  {
   "cell_type": "code",
   "execution_count": 4,
   "metadata": {},
   "outputs": [
    {
     "name": "stdout",
     "output_type": "stream",
     "text": [
      "{\n",
      "  \"article_needs_fact_checking\": true,\n",
      "  \"claims\": [\n",
      "    {\n",
      "      \"quote\": \"C’est le dernier épisode d’une longue série dans un système climatique qui déraille depuis plusieurs années\",\n",
      "      \"claim\": \"The climate system is derailing, indicating a significant and alarming trend in climate change.\",\n",
      "      \"context\": \"The article discusses the recent rapid cooling of the Atlantic Ocean after a period of warming, with experts expressing concern about the implications for the climate system.\",\n",
      "      \"analysis\": \"While the statement reflects a concern among scientists about unusual climate patterns, it may imply a more deterministic view of climate change that could mislead readers into thinking that current fluctuations are solely indicative of a 'derailing' system. Climate systems are complex and can exhibit variability, but this does not negate the overarching trend of global warming driven by human activities.\"\n",
      "    },\n",
      "    {\n",
      "      \"quote\": \"Nous avons parcouru la liste des mécanismes possibles, et rien ne correspond jusqu’à présent.\",\n",
      "      \"claim\": \"There is no clear explanation for the recent cooling of the Atlantic Ocean, suggesting a lack of understanding of climate dynamics.\",\n",
      "      \"context\": \"Experts are puzzled by the rapid cooling of the Atlantic Ocean, which is not aligning with expected climatic mechanisms.\",\n",
      "      \"analysis\": \"This claim may downplay the extensive research and understanding that exists regarding oceanic and atmospheric interactions. While specific mechanisms may not be fully understood, it is misleading to suggest that there is a complete lack of understanding in climate science. The complexities of climate systems often lead to unexpected phenomena, but this does not imply a failure of scientific knowledge.\"\n",
      "    },\n",
      "    {\n",
      "      \"quote\": \"si les températures se maintiennent à 0,5 °C sous la normale pour encore un mois, on parlera officiellement d’une 'Niña atlantique'\",\n",
      "      \"claim\": \"The cooling of the Atlantic could lead to an official designation of an 'Atlantic Niña', which is a significant climatic event.\",\n",
      "      \"context\": \"The article mentions that if the cooling trend continues, it may be classified as an 'Atlantic Niña', which could have implications for global weather patterns.\",\n",
      "      \"analysis\": \"While the concept of an 'Atlantic Niña' is valid, the claim may mislead readers into thinking that this phenomenon is as well-defined and understood as El Niño, which is not the case. The term 'Niña' is not widely recognized in the same way as El Niño, and its implications are still a subject of research. This could create confusion about the significance of the cooling trend.\"\n",
      "    }\n",
      "  ]\n",
      "}\n"
     ]
    }
   ],
   "source": [
    "article = Article(\n",
    "    title=\"Climat. L’océan Atlantique se refroidit à une vitesse record et personne ne comprend pourquoi\",\n",
    "    content=\"\"\"Après quinze mois de surchauffe mondiale des océans, l’océan Atlantique équatorial semble avoir amorcé depuis mai le phénomène inverse, indique ce lundi le magazine américain “New Scientist”. Ce qui pourrait avoir une influence sur la météo du monde entier.\n",
    "\n",
    "Que se passe-t-il avec l’océan Atlantique ? Après quinze mois de surchauffe mondiale des océans, le deuxième océan de la planète se refroidit plus rapidement que jamais depuis trois mois.\n",
    "\n",
    "Dès le début de mai, la CBC rapportait que les eaux au large de la Nouvelle-Écosse se refroidissaient, selon des relevés du gouvernement canadien. “Nous avons constaté une continuation de la tendance que nous avons observée en 2023, à savoir que les températures reviennent effectivement à des conditions normales, voire inférieures à la normale dans certaines régions”, déclarait alors la biologiste Lindsay Beazley, du ministère des Pêches et des Océans canadien.\n",
    "\n",
    "La tendance se confirme cet été. “Au cours des trois derniers mois, indique ce lundi 19 août le magazine américain New Scientist, le passage des températures chaudes aux températures froides dans l’océan Atlantique équatorial s’est produit à une vitesse record.”\n",
    "\n",
    "L’Administration nationale océanique et atmosphérique des États-Unis (NOAA) précise dans un communiqué du 14 août que, depuis juin, la température de la surface de la mer dans cette zone a été de 0,5 à 1 °C plus froide que la moyenne pour cette période de l’année.\n",
    "\n",
    "## Un système climatique “qui déraille”\n",
    "\n",
    "Ce changement soudain est déconcertant, explique au New Scientist Franz Philip Tuchen, océanographe à l’université de Miami, car les puissants alizés qui provoquent normalement un tel refroidissement ne se sont pas encore développés :\n",
    "\n",
    "> “Nous avons parcouru la liste des mécanismes possibles, et rien ne correspond jusqu’à présent.”\n",
    "\n",
    "> “C’est le dernier épisode d’une longue série dans un système climatique qui déraille depuis plusieurs années”, s’inquiète de son côté l’océanographe Michael McPhaden.\n",
    "\n",
    "Pour Franz Philip Tuchen, si les températures se maintiennent à 0,5 °C sous la normale pour encore un mois, on parlera officiellement d’une “Niña atlantique”, c’est-à-dire du phénomène inverse d’El Niño (qui réchauffe périodiquement l’océan Pacifique, mais aussi l’Atlantique).\n",
    "\n",
    "Avec l’arrivée attendue d’une Niña dans l’océan Pacifique, la conjugaison des deux phénomènes climatiques pourrait influencer les conditions météorologiques mondiales. “Il pourrait y avoir une lutte entre le Pacifique qui tente de se refroidir et l’Atlantique qui tente de le réchauffer”, dit Michael McPhaden.\"\"\",\n",
    "    **default_article_params,\n",
    ")\n",
    "claims, n_tokens = await adetect_article_claims(article, language=\"French\")\n",
    "print(claims.model_dump_json(indent=2))"
   ]
  },
  {
   "cell_type": "markdown",
   "metadata": {},
   "source": [
    "### Should not be flagged"
   ]
  },
  {
   "cell_type": "code",
   "execution_count": 5,
   "metadata": {},
   "outputs": [
    {
     "name": "stdout",
     "output_type": "stream",
     "text": [
      "{\n",
      "  \"article_needs_fact_checking\": false,\n",
      "  \"claims\": []\n",
      "}\n"
     ]
    }
   ],
   "source": [
    "article = Article(\n",
    "    title=\"Global Leaders Unite for Urgent Climate Action at International Summit\",\n",
    "    content=\"\"\"In a historic gathering, world leaders convened at the Global Climate Summit in New York City this week to address the urgent need for collective action against climate change. With rising temperatures, increasing natural disasters, and biodiversity loss threatening ecosystems and communities worldwide, the summit served as a platform for nations to commit to ambitious environmental goals.\n",
    "\n",
    "Keynote speakers, including UN Secretary-General António Guterres, emphasized the critical nature of the climate crisis. \"The science is clear: we are running out of time. We must act now to protect our planet for future generations,\" he urged, calling for immediate and sustained efforts to reduce greenhouse gas emissions.\n",
    "\n",
    "During the summit, countries unveiled a series of initiatives aimed at transitioning to renewable energy sources, promoting sustainable agriculture, and preserving natural habitats. Notably, several nations pledged to achieve net-zero emissions by 2050, reinforcing their commitment to the Paris Agreement.\n",
    "\n",
    "Activist Greta Thunberg also addressed the gathering, inspiring attendees with a passionate plea for climate justice. \"We are in a state of emergency. We must listen to the scientists and the voices of the young people who will inherit this planet,\" she declared, highlighting the importance of grassroots movements in driving change.\n",
    "\n",
    "The summit concluded with a renewed sense of urgency and cooperation, as nations recognized that climate action is not just an environmental imperative but also an opportunity for economic growth and innovation. As countries continue to collaborate on solutions, the message is clear: the time to protect our planet is now.\"\"\",\n",
    "    **default_article_params,\n",
    ")\n",
    "claims, n_tokens = await adetect_article_claims(article, language=\"English\")\n",
    "print(claims.model_dump_json(indent=2))"
   ]
  },
  {
   "cell_type": "markdown",
   "metadata": {},
   "source": [
    "### Testing on scrapped articles"
   ]
  },
  {
   "cell_type": "code",
   "execution_count": 6,
   "metadata": {},
   "outputs": [
    {
     "name": "stderr",
     "output_type": "stream",
     "text": [
      "100%|██████████| 5/5 [00:01<00:00,  4.43it/s]"
     ]
    },
    {
     "name": "stdout",
     "output_type": "stream",
     "text": [
      "https://www.lsm.lv/raksts/dzive--stils/vide-un-dzivnieki/03.10.2024-zinojums-lidz-gadsimta-beigam-latvija-prognozeta-krasta-linijas-atkapsanas-par-47-72-metriem.a571093/\n",
      "{\n",
      "  \"article_needs_fact_checking\": false,\n",
      "  \"claims\": []\n",
      "}\n",
      "\n",
      "https://www.delfi.lv/bizness/56234200/eiropas-zinas/120042670/zinam-problemu-un-neizmantojam-risinajumus-ko-latvijas-iedzivotaji-doma-par-klimata-parmainam\n",
      "{\n",
      "  \"article_needs_fact_checking\": false,\n",
      "  \"claims\": []\n",
      "}\n",
      "\n",
      "https://www.delfi.lv/bizness/56234200/eiropas-zinas/120042670/kutri-izmantojam-dzerama-udens-kranus-kapec-iedzivotajiem-trukst-pamudinajuma-dzivot-zalak\n",
      "{\n",
      "  \"article_needs_fact_checking\": false,\n",
      "  \"claims\": []\n",
      "}\n",
      "\n",
      "https://nra.lv/pasaule/465572-sliktas-zinas-baltvina-cienitajiem.htm\n",
      "{\n",
      "  \"article_needs_fact_checking\": false,\n",
      "  \"claims\": []\n",
      "}\n",
      "\n",
      "https://www.lsm.lv/raksts/dzive--stils/vide-un-dzivnieki/20.09.2024-par-zalaku-rigu-spriedis-piecas-sestdienas-ko-sagaida-no-pirmas-iedzivotaju-klimata-asamblejas.a569637/\n",
      "{\n",
      "  \"article_needs_fact_checking\": false,\n",
      "  \"claims\": []\n",
      "}\n",
      "\n"
     ]
    },
    {
     "name": "stderr",
     "output_type": "stream",
     "text": [
      "\n"
     ]
    }
   ],
   "source": [
    "articles = Article.from_json(\"../scraped_articles.json\")\n",
    "detection_tasks = [adetect_article_claims(article, \"Latvian\") for article in articles]\n",
    "for i, [claims, n_tokens] in enumerate(await tqdm.gather(*detection_tasks)):\n",
    "    print(articles[i].url)\n",
    "    print(claims.model_dump_json(indent=2))\n",
    "    print()"
   ]
  },
  {
   "cell_type": "markdown",
   "metadata": {},
   "source": [
    "## Video transcripts"
   ]
  },
  {
   "cell_type": "markdown",
   "metadata": {},
   "source": [
    "### Should be flagged"
   ]
  },
  {
   "cell_type": "code",
   "execution_count": 7,
   "metadata": {},
   "outputs": [
    {
     "name": "stdout",
     "output_type": "stream",
     "text": [
      "{\n",
      "  \"article_needs_fact_checking\": true,\n",
      "  \"claims\": [\n",
      "    {\n",
      "      \"quote\": \"Les calottes glaciaires continuent à grouiller. Nous continuerons de se multiplier.\",\n",
      "      \"claim\": \"Glaciers are continuing to grow and multiply, indicating no climate change impact.\",\n",
      "      \"context\": \"The article suggests that glaciers are thriving and multiplying, which contradicts scientific consensus on glacier retreat due to climate change.\",\n",
      "      \"analysis\": \"This claim is misleading as it contradicts extensive scientific evidence showing that glaciers worldwide are retreating due to rising global temperatures. The IPCC reports consistently indicate that climate change is causing significant ice loss in polar regions.\"\n",
      "    },\n",
      "    {\n",
      "      \"quote\": \"Il faut vite donner tout notre argent, nos droits et nos libertés fondamentales, pour que nos gouvernements empêchent la Terre de littéralement bouillir.\",\n",
      "      \"claim\": \"Governments are asking for money and rights to prevent the Earth from boiling, implying a loss of freedom.\",\n",
      "      \"context\": \"The article implies that climate action is a means for governments to control citizens and take away their freedoms.\",\n",
      "      \"analysis\": \"This claim is misleading as it frames climate action as a coercive measure rather than a necessary response to a global crisis. Climate policies are aimed at mitigating the impacts of climate change, which poses significant risks to human rights and freedoms if left unaddressed.\"\n",
      "    },\n",
      "    {\n",
      "      \"quote\": \"Les influenceurs bozoesques qui commentent quotidiennement la météo jusqu'à expliquer que le réchauffement climatique impacte plus les communautés LGBTQ plus plus ou qu'un avion a eu une turbulence à cause du réchauffement climatique ont raison et sont très intelligents.\",\n",
      "      \"claim\": \"Influencers are correctly attributing weather events to climate change, suggesting a trivialization of serious climate discussions.\",\n",
      "      \"context\": \"The article mocks influencers discussing climate change, suggesting that their views are trivial or incorrect.\",\n",
      "      \"analysis\": \"This claim is misleading as it dismisses the scientific basis for linking extreme weather events to climate change. The IPCC reports indicate that climate change is increasing the frequency and intensity of certain weather events.\"\n",
      "    },\n",
      "    {\n",
      "      \"quote\": \"En réalité, les rendements agricoles ont plus que doublé les 50 dernières années, avec un record en 2020 pour les céréales.\",\n",
      "      \"claim\": \"Agricultural yields have doubled in the last 50 years, suggesting climate change has no negative impact on food production.\",\n",
      "      \"context\": \"The article claims that agricultural productivity has increased significantly, implying that climate change is not a threat to food security.\",\n",
      "      \"analysis\": \"This claim is misleading as it oversimplifies the complex relationship between climate change and agriculture. While yields have increased, climate change poses significant risks to food security through extreme weather, changing precipitation patterns, and other factors that can negatively impact crop production.\"\n",
      "    },\n",
      "    {\n",
      "      \"quote\": \"La montée des eaux, c'est le cas depuis 12 000 ans, c'était 4 fois plus rapide jusqu'à il y a 7 000 ans, et aujourd'hui, c'est sinusoïdal.\",\n",
      "      \"claim\": \"Sea level rise is a natural phenomenon that has been occurring for thousands of years and is not significantly impacted by human activity.\",\n",
      "      \"context\": \"The article argues that current sea level rise is part of a natural cycle and not primarily driven by human-induced climate change.\",\n",
      "      \"analysis\": \"This claim is misleading as it ignores the overwhelming scientific consensus that current rates of sea level rise are unprecedented in the context of the last several thousand years and are primarily driven by human-induced climate change, particularly through the melting of ice sheets and thermal expansion of seawater.\"\n",
      "    },\n",
      "    {\n",
      "      \"quote\": \"Les ouragans et les tempêtes, RAS, pareil pour les sécheresses, inondations et feux de forêt, et la végétation a augmenté de la taille d'un 6ème continent grâce au CO2.\",\n",
      "      \"claim\": \"Natural disasters are not increasing due to climate change, and vegetation is thriving due to higher CO2 levels.\",\n",
      "      \"context\": \"The article claims that natural disasters are not on the rise and that increased CO2 is beneficial for vegetation.\",\n",
      "      \"analysis\": \"This claim is misleading as it contradicts scientific evidence showing that climate change is increasing the frequency and intensity of natural disasters. Additionally, while CO2 can enhance plant growth, the overall impacts of climate change, including droughts and extreme weather, can severely threaten ecosystems and biodiversity.\"\n",
      "    },\n",
      "    {\n",
      "      \"quote\": \"Les énergies renouvelables sont pour l'instant encore un mirage idéologique, rempli de promesses impossibles à tenir au vu des technologies actuelles.\",\n",
      "      \"claim\": \"Renewable energy is not a viable solution to climate change and is based on unrealistic promises.\",\n",
      "      \"context\": \"The article dismisses renewable energy as an ineffective solution to climate change, suggesting that it cannot meet energy demands.\",\n",
      "      \"analysis\": \"This claim is misleading as it overlooks the rapid advancements in renewable energy technologies and their increasing role in reducing greenhouse gas emissions. The IPCC emphasizes the importance of transitioning to renewable energy to mitigate climate change impacts.\"\n",
      "    }\n",
      "  ]\n",
      "}\n"
     ]
    }
   ],
   "source": [
    "import pandas as pd\n",
    "\n",
    "raptor = pd.read_csv(\"../data/test_claims_detection/youtube_transcript_raptor_not_ok.csv\")\n",
    "article = Article(\n",
    "    title=\"RÉCHAUFFEMENT CLIMATIQUE : DÉCRYPTAGE D'UNE ARNAQUE MONDIALE\",\n",
    "    content=\"- \" + \"\\n- \".join(raptor[\"text\"].str.strip().tolist()),\n",
    "    **default_article_params,\n",
    ")\n",
    "claims, n_tokens = await adetect_article_claims(article, language=\"French\")\n",
    "print(claims.model_dump_json(indent=2))"
   ]
  },
  {
   "cell_type": "code",
   "execution_count": 8,
   "metadata": {},
   "outputs": [
    {
     "name": "stdout",
     "output_type": "stream",
     "text": [
      "{\n",
      "  \"article_needs_fact_checking\": true,\n",
      "  \"claims\": [\n",
      "    {\n",
      "      \"quote\": \"la terre se réchauffe d'elle-même, naturellement.\",\n",
      "      \"claim\": \"The Earth naturally warms itself, so human impact on climate change is not significant.\",\n",
      "      \"context\": \"Estelle Chevalier from the Rassemblement National claims that the Earth naturally goes through warming phases, implying that human-induced climate change is not a major concern.\",\n",
      "      \"analysis\": \"This claim is misleading as it downplays the overwhelming scientific consensus that human activities, particularly the burning of fossil fuels, are the primary drivers of recent climate change. While the Earth has experienced natural climate variations, the current rate of warming is unprecedented and closely correlated with human industrial activity.\"\n",
      "    },\n",
      "    {\n",
      "      \"quote\": \"la France est vraiment à 0,2% comparée aux autres pays.\",\n",
      "      \"claim\": \"France's contribution to global CO2 emissions is negligible at 0.2%, so efforts to reduce emissions are less important.\",\n",
      "      \"context\": \"Estelle Chevalier argues that since France's CO2 emissions are only 0.2% of global emissions, the country should not prioritize aggressive climate policies.\",\n",
      "      \"analysis\": \"This claim is misleading as it suggests that a small percentage of emissions absolves a country from responsibility. Every country's emissions contribute to global climate change, and developed nations like France have a moral obligation to lead in reducing emissions, regardless of their percentage of the total.\"\n",
      "    },\n",
      "    {\n",
      "      \"quote\": \"C'est très polluant. Une éolienne, c'est polluant et c'est dangereux pour la santé des personnes qui habitent autour.\",\n",
      "      \"claim\": \"Wind turbines are polluting and harmful to the health of nearby residents.\",\n",
      "      \"context\": \"Estelle Chevalier states that wind turbines are polluting and pose health risks to people living nearby, suggesting a halt to their development.\",\n",
      "      \"analysis\": \"This claim is misleading as numerous studies have shown that wind energy is one of the cleanest forms of energy production, with a significantly lower environmental impact compared to fossil fuels. While there can be localized concerns regarding noise and aesthetics, the health risks associated with wind turbines are not supported by scientific evidence.\"\n",
      "    },\n",
      "    {\n",
      "      \"quote\": \"Nous, on fera voter une loi énergie-climat et puis un des points forts, c'est le fait d'inscrire le principe de la règle verte, c'est-à-dire le principe selon lequel on ne prélève pas à la nature plus qu'elle ne peut reconstituer sur une année.\",\n",
      "      \"claim\": \"The principle of the 'green rule' will ensure sustainable resource use by not taking more from nature than it can regenerate.\",\n",
      "      \"context\": \"Valérie Soumaille proposes a 'green rule' to ensure that resource extraction does not exceed natural regeneration rates, suggesting it as a solution for environmental sustainability.\",\n",
      "      \"analysis\": \"While the concept of a 'green rule' is a positive step towards sustainability, the effectiveness of such a principle depends on its implementation and enforcement. Without specific measures and accountability, this claim may be more of a political statement than a practical solution.\"\n",
      "    }\n",
      "  ]\n",
      "}\n"
     ]
    }
   ],
   "source": [
    "# https://www.linkedin.com/posts/quotaclimat_entendu-sur-france-bleu-poitou-en-plein-d%C3%A9bat-activity-7215281303405891584-0zsP?utm_source=share&utm_medium=member_desktop\n",
    "# https://www.dailymotion.com/video/x91cbeu\n",
    "\n",
    "with open(\"../data/test_claims_detection/france_bleu_transcript_legislatives_not_ok.json\") as f:\n",
    "    data = json.load(f)\n",
    "\n",
    "article = Article(\n",
    "    title=data[\"data\"][\"video\"][\"title\"],\n",
    "    content=\"- \"\n",
    "    + \"\\n- \".join(\n",
    "        [node[\"node\"][\"text\"] for node in data[\"data\"][\"video\"][\"transcript\"][\"edges\"]]\n",
    "    ),\n",
    "    **default_article_params,\n",
    ")\n",
    "claims, n_tokens = await adetect_article_claims(article, language=\"French\")\n",
    "print(claims.model_dump_json(indent=2))"
   ]
  },
  {
   "cell_type": "markdown",
   "metadata": {},
   "source": [
    "### Should not be flagged"
   ]
  },
  {
   "cell_type": "code",
   "execution_count": 9,
   "metadata": {},
   "outputs": [
    {
     "name": "stdout",
     "output_type": "stream",
     "text": [
      "{\n",
      "  \"article_needs_fact_checking\": false,\n",
      "  \"claims\": []\n",
      "}\n"
     ]
    }
   ],
   "source": [
    "# https://www.dailymotion.com/video/x8jxqc9\n",
    "\n",
    "with open(\n",
    "    \"../data/test_claims_detection/europe_1_chateau_versailles_transcript_ok.json\"\n",
    ") as f:\n",
    "    data = json.load(f)\n",
    "\n",
    "article = Article(\n",
    "    title=data[\"data\"][\"video\"][\"title\"],\n",
    "    content=\"- \"\n",
    "    + \"\\n- \".join(\n",
    "        [node[\"node\"][\"text\"] for node in data[\"data\"][\"video\"][\"transcript\"][\"edges\"]]\n",
    "    ),\n",
    "    **default_article_params,\n",
    ")\n",
    "claims, n_tokens = await adetect_article_claims(article, language=\"French\")\n",
    "print(claims.model_dump_json(indent=2))"
   ]
  }
 ],
 "metadata": {
  "kernelspec": {
   "display_name": "venv",
   "language": "python",
   "name": "python3"
  },
  "language_info": {
   "codemirror_mode": {
    "name": "ipython",
    "version": 3
   },
   "file_extension": ".py",
   "mimetype": "text/x-python",
   "name": "python",
   "nbconvert_exporter": "python",
   "pygments_lexer": "ipython3",
   "version": "3.12.6"
  }
 },
 "nbformat": 4,
 "nbformat_minor": 2
}
