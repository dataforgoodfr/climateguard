{
 "cells": [
  {
   "cell_type": "code",
   "execution_count": 1,
   "id": "11b31dd7",
   "metadata": {},
   "outputs": [
    {
     "name": "stdout",
     "output_type": "stream",
     "text": [
      "{'id': 'chatcmpl-17ae22f4-09fe-4112-b9bc-68d7c130394c', 'choices': [{'finish_reason': 'stop', 'index': 0, 'logprobs': None, 'message': {'content': 'Let me analyze this text carefully:\\n\\n1. **Understanding the Text:**\\n   - The statement \"Climate change is a joke created by woke left\" suggests that climate change is not a serious issue and is instead a fabrication or exaggeration by a specific political group, referred to as the \"woke left.\"\\n\\n2. **Identifying Key Themes:**\\n   - The text implies that climate change is not a genuine concern but rather a product of political or ideological motives.\\n   - It suggests a conspiracy or deception aspect, where climate change is portrayed as a \"joke\" or not serious.\\n\\n3. **Mapping to the Codebook:**\\n   - The text aligns with the idea that climate change is a hoax or conspiracy, as it suggests that the issue is not real but rather a creation of a political group.\\n   - This directly corresponds to the category `<6_2_0>Climate change is a hoax or conspiracy. We have been deceived by climate scientists, politicians, bureaucrats, and environmental organizations on climate change.</6_2_0>`, which captures the essence of the statement.\\n\\n4. **Conclusion:**\\n   - The text fits well within the category of climate change being a hoax or conspiracy, as it attributes the creation of the climate change narrative to a political group, implying deception.\\n\\nBased on this analysis, the text is appropriately classified under the category `<6_2_0>`.\\n\\n```json\\n{\\n  \"review\": \"no\",\\n  \"categories\": [\\n    {\\n      \"category\": \"6_2_0\",\\n      \"text\": \"Climate change is a joke created by woke left\"\\n    }\\n  ]\\n}\\n```', 'refusal': None, 'role': 'assistant', 'annotations': None, 'audio': None, 'function_call': None, 'tool_calls': None}}], 'created': 1748001384, 'model': 'cards-mini-gpt-2024-11-07', 'object': 'chat.completion', 'service_tier': None, 'system_fingerprint': None, 'usage': {'completion_tokens': 379, 'prompt_tokens': 5369, 'total_tokens': 5757, 'completion_tokens_details': None, 'prompt_tokens_details': None, 'user_input_tokens': 9, 'cached_tokens': 0, 'prompt_cost': 0.0016133999999999999, 'completion_cost': 0.0004548, 'cached_cost': 0.0, 'total_cost': 0.0020682}, 'structured_output': {'categories': [{'category': '6_2_0', 'label': 'Climate change is a hoax or conspiracy. We have been deceived by climate scientists, politicians, bureaucrats, and environmental organizations on climate change.', 'text': 'Climate change is a joke created by woke left'}]}}\n",
      "Let me analyze this text carefully:\n",
      "\n",
      "1. **Understanding the Text:**\n",
      "   - The statement \"Climate change is a joke created by woke left\" suggests that climate change is not a serious issue and is instead a fabrication or exaggeration by a specific political group, referred to as the \"woke left.\"\n",
      "\n",
      "2. **Identifying Key Themes:**\n",
      "   - The text implies that climate change is not a genuine concern but rather a product of political or ideological motives.\n",
      "   - It suggests a conspiracy or deception aspect, where climate change is portrayed as a \"joke\" or not serious.\n",
      "\n",
      "3. **Mapping to the Codebook:**\n",
      "   - The text aligns with the idea that climate change is a hoax or conspiracy, as it suggests that the issue is not real but rather a creation of a political group.\n",
      "   - This directly corresponds to the category `<6_2_0>Climate change is a hoax or conspiracy. We have been deceived by climate scientists, politicians, bureaucrats, and environmental organizations on climate change.</6_2_0>`, which captures the essence of the statement.\n",
      "\n",
      "4. **Conclusion:**\n",
      "   - The text fits well within the category of climate change being a hoax or conspiracy, as it attributes the creation of the climate change narrative to a political group, implying deception.\n",
      "\n",
      "Based on this analysis, the text is appropriately classified under the category `<6_2_0>`.\n",
      "\n",
      "```json\n",
      "{\n",
      "  \"review\": \"no\",\n",
      "  \"categories\": [\n",
      "    {\n",
      "      \"category\": \"6_2_0\",\n",
      "      \"text\": \"Climate change is a joke created by woke left\"\n",
      "    }\n",
      "  ]\n",
      "}\n",
      "```\n",
      "CompletionUsage(completion_tokens=379, prompt_tokens=5369, total_tokens=5757, completion_tokens_details=None, prompt_tokens_details=None, user_input_tokens=9, cached_tokens=0, prompt_cost=0.0016133999999999999, completion_cost=0.0004548, cached_cost=0.0, total_cost=0.0020682)\n",
      "{'categories': [{'category': '6_2_0', 'label': 'Climate change is a hoax or conspiracy. We have been deceived by climate scientists, politicians, bureaucrats, and environmental organizations on climate change.', 'text': 'Climate change is a joke created by woke left'}]}\n"
     ]
    }
   ],
   "source": [
    "import os\n",
    "\n",
    "from dotenv import load_dotenv\n",
    "from openai import OpenAI\n",
    "\n",
    "load_dotenv()\n",
    "\n",
    "client = OpenAI(\n",
    "    api_key=os.getenv(\"CARDS_API_KEY\"),\n",
    "    base_url=\"https://api.discourselab.ai/v1\"\n",
    ")\n",
    "\n",
    "# NOTE: The CARDS API automatically applies a global system message. Please don't include your own system message in requests unless you specifically need to add custom instructions.\n",
    "response = client.chat.completions.create(\n",
    "    model=\"cards-mini-gpt-2024-11-07\",\n",
    "    messages=[\n",
    "        {\"role\": \"user\", \"content\": \"Climate change is a joke created by woke left\"}\n",
    "    ],\n",
    "    temperature=0,\n",
    "    max_tokens=1000\n",
    ")\n",
    "\n",
    "# Don't print full response - it's too verbose\n",
    "# More practical ways to access the response:\n",
    "print(response.model_dump())  # Convenient method to get all fields as dict\n",
    "print(response.choices[0].message.content)  # Just the content\n",
    "print(response.usage)  # Usage statistics\n",
    "print(response.structured_output)  # Just the structured output"
   ]
  },
  {
   "cell_type": "code",
   "execution_count": 12,
   "id": "0cd84a7e",
   "metadata": {},
   "outputs": [
    {
     "name": "stdout",
     "output_type": "stream",
     "text": [
      "[{'category': '6_2_0', 'label': 'Climate change is a hoax or conspiracy. We have been deceived by climate scientists, politicians, bureaucrats, and environmental organizations on climate change.', 'text': 'Climate change is a joke created by woke left'}]\n"
     ]
    }
   ],
   "source": [
    "print(response.structured_output[\"categories\"])  # Just the structured output"
   ]
  },
  {
   "cell_type": "code",
   "execution_count": 2,
   "id": "664ddd85",
   "metadata": {},
   "outputs": [],
   "source": [
    "from datasets import load_dataset\n",
    "\n",
    "dataset = load_dataset(\"DataForGood/climateguard\")"
   ]
  },
  {
   "cell_type": "code",
   "execution_count": 13,
   "id": "e1842636",
   "metadata": {},
   "outputs": [],
   "source": [
    "results = []\n",
    "# for example in dataset[\"train\"]:\n",
    "#     print(example[\"cards_claims\"])\n",
    "#     for claim in example[\"cards_claims\"]:\n",
    "#         records.append({claim})\n",
    "for example in dataset[\"test\"]:\n",
    "    for claim in example[\"cards_claims\"]:\n",
    "        predicted_categories = []\n",
    "        response = client.chat.completions.create(\n",
    "            model=\"cards-mini-gpt-2024-11-07\",\n",
    "            messages=[\n",
    "                {\"role\": \"user\", \"content\": claim[\"text\"]}\n",
    "            ],\n",
    "            temperature=0,\n",
    "            max_tokens=1000\n",
    "        )\n",
    "        for category in response.structured_output[\"categories\"]:\n",
    "            predicted_categories.append(category['category'])\n",
    "        \n",
    "        results.append({\n",
    "            \"text\": claim[\"text\"],\n",
    "            \"y_true\": claim[\"labels\"],\n",
    "            \"y_pred\": predicted_categories,\n",
    "        })"
   ]
  },
  {
   "cell_type": "code",
   "execution_count": 15,
   "id": "f7bbc8a5",
   "metadata": {},
   "outputs": [
    {
     "data": {
      "text/plain": [
       "138"
      ]
     },
     "execution_count": 15,
     "metadata": {},
     "output_type": "execute_result"
    }
   ],
   "source": [
    "len(results)"
   ]
  },
  {
   "cell_type": "code",
   "execution_count": 20,
   "id": "ff2f3ddb",
   "metadata": {},
   "outputs": [],
   "source": [
    "import json\n",
    "with open(\"cards_results.json\", \"w\") as jf:\n",
    "    json.dump(results, jf)"
   ]
  },
  {
   "cell_type": "code",
   "execution_count": 3,
   "id": "6354d627",
   "metadata": {},
   "outputs": [],
   "source": [
    "import json"
   ]
  },
  {
   "cell_type": "code",
   "execution_count": 4,
   "id": "bd967f27",
   "metadata": {},
   "outputs": [],
   "source": [
    "with open(\"cards_results.json\") as jf:\n",
    "    results = json.load(jf)"
   ]
  },
  {
   "cell_type": "code",
   "execution_count": 10,
   "id": "c1c6c0c5",
   "metadata": {},
   "outputs": [],
   "source": [
    "import numpy as np\n",
    "\n",
    "predictions = []\n",
    "labels = []\n",
    "\n",
    "for res in results:\n",
    "    prediction = [0] * 8\n",
    "    gt = [0] * 8\n",
    "    for label in res[\"y_true\"]:\n",
    "        idx = int(label[0])\n",
    "        gt[idx] = 1\n",
    "    for pred in res[\"y_pred\"]:\n",
    "        idx = int(pred[0])\n",
    "        prediction[idx] = 1\n",
    "    predictions.append(prediction)\n",
    "    labels.append(gt)"
   ]
  },
  {
   "cell_type": "code",
   "execution_count": 11,
   "id": "f3f7edbb",
   "metadata": {},
   "outputs": [
    {
     "name": "stdout",
     "output_type": "stream",
     "text": [
      "              precision    recall  f1-score   support\n",
      "\n",
      "           0       0.00      0.00      0.00         0\n",
      "           1       0.00      0.00      0.00         2\n",
      "           2       0.00      0.00      0.00         4\n",
      "           3       0.00      0.00      0.00         6\n",
      "           4       0.85      0.51      0.64        93\n",
      "           5       0.50      0.33      0.40         3\n",
      "           6       0.85      0.38      0.52        29\n",
      "           7       0.00      0.00      0.00         1\n",
      "\n",
      "   micro avg       0.40      0.43      0.41       138\n",
      "   macro avg       0.28      0.15      0.19       138\n",
      "weighted avg       0.76      0.43      0.55       138\n",
      " samples avg       0.40      0.43      0.41       138\n",
      "\n"
     ]
    },
    {
     "name": "stderr",
     "output_type": "stream",
     "text": [
      "/Users/giuseppeguarino/Documents/d4g/climateguard/.venv/lib/python3.12/site-packages/sklearn/metrics/_classification.py:1531: UndefinedMetricWarning: Recall is ill-defined and being set to 0.0 in labels with no true samples. Use `zero_division` parameter to control this behavior.\n",
      "  _warn_prf(average, modifier, f\"{metric.capitalize()} is\", len(result))\n",
      "/Users/giuseppeguarino/Documents/d4g/climateguard/.venv/lib/python3.12/site-packages/sklearn/metrics/_classification.py:1531: UndefinedMetricWarning: Precision is ill-defined and being set to 0.0 in samples with no predicted labels. Use `zero_division` parameter to control this behavior.\n",
      "  _warn_prf(average, modifier, f\"{metric.capitalize()} is\", len(result))\n"
     ]
    }
   ],
   "source": [
    "from sklearn.metrics import classification_report\n",
    "print(classification_report(np.array(labels), np.array(predictions)))"
   ]
  },
  {
   "cell_type": "code",
   "execution_count": 12,
   "id": "8d827c68",
   "metadata": {},
   "outputs": [
    {
     "data": {
      "text/plain": [
       "array([1, 2, 3, 4, 5, 6, 7])"
      ]
     },
     "execution_count": 12,
     "metadata": {},
     "output_type": "execute_result"
    }
   ],
   "source": [
    "np.unique(np.array(labels).argmax(1))"
   ]
  },
  {
   "cell_type": "code",
   "execution_count": null,
   "id": "0eec32a7",
   "metadata": {},
   "outputs": [],
   "source": []
  }
 ],
 "metadata": {
  "kernelspec": {
   "display_name": ".venv",
   "language": "python",
   "name": "python3"
  },
  "language_info": {
   "codemirror_mode": {
    "name": "ipython",
    "version": 3
   },
   "file_extension": ".py",
   "mimetype": "text/x-python",
   "name": "python",
   "nbconvert_exporter": "python",
   "pygments_lexer": "ipython3",
   "version": "3.12.8"
  }
 },
 "nbformat": 4,
 "nbformat_minor": 5
}
