{
 "cells": [
  {
   "cell_type": "markdown",
   "metadata": {},
   "source": [
    "# Quote identification & text correction\n",
    "\n",
    "- vérifier si la citation est dans le texte et renvoyer les indices de début et de fin \n",
    "\n",
    "    a) citation exacte \n",
    "\n",
    "    b) s'il n'y a pas la citation exacte, trouver le passage le plus similaire \n",
    "    \n",
    "- corriger le texte pour qu'il soit lisible"
   ]
  },
  {
   "cell_type": "code",
   "execution_count": null,
   "metadata": {},
   "outputs": [],
   "source": [
    "import pandas as pd\n",
    "import json \n",
    "import re\n",
    "import math \n",
    "import ast \n",
    "\n",
    "from openai import AsyncOpenAI\n",
    "import asyncio\n",
    "from tqdm.asyncio import tqdm\n",
    "import tiktoken\n",
    "import time \n",
    "\n",
    "import os\n",
    "from dotenv import load_dotenv\n",
    "from openai import OpenAI\n",
    "\n",
    "import pprint"
   ]
  },
  {
   "cell_type": "code",
   "execution_count": null,
   "metadata": {},
   "outputs": [],
   "source": [
    "# gpt 4o mini\n",
    "load_dotenv()\n",
    "os.getenv('OPENAI_API_KEY')\n",
    "\n",
    "client = AsyncOpenAI()\n",
    "model = \"gpt-4o-mini\""
   ]
  },
  {
   "cell_type": "code",
   "execution_count": null,
   "metadata": {},
   "outputs": [],
   "source": [
    "# llama\n",
    "client = AsyncOpenAI(\n",
    "    base_url=\"https://api.scaleway.ai/f1ced67f-44e3-466f-952f-9f6ea4271e45/v1\", # Scaleway's Generative APIs service URL\n",
    "    api_key= os.getenv(\"SCW_SECRET_KEY\") # Your unique API secret key from Scaleway\n",
    ")\n",
    "model=\"llama-3.1-70b-instruct\""
   ]
  },
  {
   "cell_type": "code",
   "execution_count": 3,
   "metadata": {},
   "outputs": [
    {
     "data": {
      "text/html": [
       "<div>\n",
       "<style scoped>\n",
       "    .dataframe tbody tr th:only-of-type {\n",
       "        vertical-align: middle;\n",
       "    }\n",
       "\n",
       "    .dataframe tbody tr th {\n",
       "        vertical-align: top;\n",
       "    }\n",
       "\n",
       "    .dataframe thead th {\n",
       "        text-align: right;\n",
       "    }\n",
       "</style>\n",
       "<table border=\"1\" class=\"dataframe\">\n",
       "  <thead>\n",
       "    <tr style=\"text-align: right;\">\n",
       "      <th></th>\n",
       "      <th>id</th>\n",
       "      <th>start</th>\n",
       "      <th>text</th>\n",
       "      <th>channel_name</th>\n",
       "      <th>channel_is_radio</th>\n",
       "      <th>channel_program_type</th>\n",
       "      <th>channel_program</th>\n",
       "      <th>themes</th>\n",
       "      <th>keywords</th>\n",
       "      <th>num_keywords</th>\n",
       "      <th>num_tokens</th>\n",
       "      <th>analysis</th>\n",
       "      <th>claim</th>\n",
       "      <th>context</th>\n",
       "      <th>contradiction</th>\n",
       "      <th>disinformation_category</th>\n",
       "      <th>disinformation_score</th>\n",
       "      <th>pro_anti</th>\n",
       "      <th>quote</th>\n",
       "      <th>speaker</th>\n",
       "    </tr>\n",
       "  </thead>\n",
       "  <tbody>\n",
       "    <tr>\n",
       "      <th>67</th>\n",
       "      <td>f17cb36a314156417616ef1ebb9232bbf203a1ecdc983c...</td>\n",
       "      <td>2023-09-04 05:56:00</td>\n",
       "      <td>série qu'on peut redire par fonction juré déjà...</td>\n",
       "      <td>europe1</td>\n",
       "      <td>True</td>\n",
       "      <td>Information - Magazine</td>\n",
       "      <td>Bonjour</td>\n",
       "      <td>[\"biodiversite_concepts_generaux\", \"changement...</td>\n",
       "      <td>[{\"keyword\": \"eaux\", \"timestamp\": 169379984302...</td>\n",
       "      <td>2</td>\n",
       "      <td>559</td>\n",
       "      <td>Cette allégation semble associée à une interpr...</td>\n",
       "      <td>le giec est transhumaniste</td>\n",
       "      <td>Dans un passage en parlant des personnages du ...</td>\n",
       "      <td>N/A</td>\n",
       "      <td>consensus</td>\n",
       "      <td>high</td>\n",
       "      <td>anti-écologie</td>\n",
       "      <td>il y a par exemple le giec transhumaniste qui ...</td>\n",
       "      <td>narrative</td>\n",
       "    </tr>\n",
       "    <tr>\n",
       "      <th>87</th>\n",
       "      <td>e57e39657004072e5f998d19e6a8a952ee8f35923b9072...</td>\n",
       "      <td>2023-09-04 07:50:00</td>\n",
       "      <td>salle d'attente il y a toutes les classes rage...</td>\n",
       "      <td>europe1</td>\n",
       "      <td>True</td>\n",
       "      <td>Information - Magazine</td>\n",
       "      <td>Europe 1 Matin</td>\n",
       "      <td>[\"changement_climatique_causes\", \"changement_c...</td>\n",
       "      <td>[{\"keyword\": \"giec\", \"timestamp\": 169380664205...</td>\n",
       "      <td>2</td>\n",
       "      <td>554</td>\n",
       "      <td>Cette allégation semble utiliser le terme 'tra...</td>\n",
       "      <td>La mention du GIEC comme un \"transhumaniste\".</td>\n",
       "      <td>Dans un extrait de programme où différents per...</td>\n",
       "      <td>N/A</td>\n",
       "      <td>consensus</td>\n",
       "      <td>high</td>\n",
       "      <td>anti-écologie</td>\n",
       "      <td>il y a par exemple le giec transhumaniste qui ...</td>\n",
       "      <td>narrative</td>\n",
       "    </tr>\n",
       "    <tr>\n",
       "      <th>251</th>\n",
       "      <td>5b7207073227562ad5fd7b252e290d0a2079f3cbbb2e5c...</td>\n",
       "      <td>2023-09-06 07:22:00</td>\n",
       "      <td>en france on peut quand même s'appuyer sur ce ...</td>\n",
       "      <td>europe1</td>\n",
       "      <td>True</td>\n",
       "      <td>Information - Magazine</td>\n",
       "      <td>Europe 1 Matin</td>\n",
       "      <td>[\"changement_climatique_consequences_indirecte...</td>\n",
       "      <td>[{\"keyword\": \"incendies\", \"timestamp\": 1693977...</td>\n",
       "      <td>2</td>\n",
       "      <td>594</td>\n",
       "      <td>Cette allégation semble hautement exagérée et ...</td>\n",
       "      <td>Il y a eu beaucoup de morts tués par des pharm...</td>\n",
       "      <td>Lors d'une discussion sur le rôle des pharmaci...</td>\n",
       "      <td>N/A</td>\n",
       "      <td>narrative</td>\n",
       "      <td>high</td>\n",
       "      <td>anti-écologie</td>\n",
       "      <td>j'ai l'impression qu'il y a eu beaucoup de mor...</td>\n",
       "      <td>narrative</td>\n",
       "    </tr>\n",
       "    <tr>\n",
       "      <th>259</th>\n",
       "      <td>53b6b045672a2327c58c72a38a3ddb603587ad43421f8c...</td>\n",
       "      <td>2023-09-06 08:38:00</td>\n",
       "      <td>je suis même allé plus loin je vais essayer de...</td>\n",
       "      <td>europe1</td>\n",
       "      <td>True</td>\n",
       "      <td>Information - Magazine</td>\n",
       "      <td>Europe 1 Matin</td>\n",
       "      <td>[\"changement_climatique_consequences\", \"ressou...</td>\n",
       "      <td>[{\"keyword\": \"\\u00e9coresponsable\", \"timestamp...</td>\n",
       "      <td>2</td>\n",
       "      <td>614</td>\n",
       "      <td>Cette allégation frôle la théorie du complot, ...</td>\n",
       "      <td>Le réchauffement climatique est causé par une ...</td>\n",
       "      <td>Lors d'une discussion sur les enjeux environne...</td>\n",
       "      <td>N/A</td>\n",
       "      <td>consensus</td>\n",
       "      <td>high</td>\n",
       "      <td>anti-écologie</td>\n",
       "      <td>Le réchauffement climatique est causé par une ...</td>\n",
       "      <td>narrative</td>\n",
       "    </tr>\n",
       "    <tr>\n",
       "      <th>313</th>\n",
       "      <td>6c3bb9299d31332c644b54832399976117d28776c9e22c...</td>\n",
       "      <td>2023-09-07 08:56:00</td>\n",
       "      <td>pour faire réussir nos enfants dans quel monde...</td>\n",
       "      <td>europe1</td>\n",
       "      <td>True</td>\n",
       "      <td>Information - Magazine</td>\n",
       "      <td>L'heure des pros</td>\n",
       "      <td>[\"changement_climatique_constat\"]</td>\n",
       "      <td>[{\"keyword\": \"climatique\", \"timestamp\": 169406...</td>\n",
       "      <td>1</td>\n",
       "      <td>563</td>\n",
       "      <td>Si le changement climatique est parfois utilis...</td>\n",
       "      <td>Le changement climatique est traité comme une ...</td>\n",
       "      <td>Le commentaire sur une polémique entre personn...</td>\n",
       "      <td>N/A</td>\n",
       "      <td>consensus</td>\n",
       "      <td>high</td>\n",
       "      <td>anti-écologie</td>\n",
       "      <td>...c'était hier soir dans cette à vous sur fra...</td>\n",
       "      <td>narrative</td>\n",
       "    </tr>\n",
       "    <tr>\n",
       "      <th>...</th>\n",
       "      <td>...</td>\n",
       "      <td>...</td>\n",
       "      <td>...</td>\n",
       "      <td>...</td>\n",
       "      <td>...</td>\n",
       "      <td>...</td>\n",
       "      <td>...</td>\n",
       "      <td>...</td>\n",
       "      <td>...</td>\n",
       "      <td>...</td>\n",
       "      <td>...</td>\n",
       "      <td>...</td>\n",
       "      <td>...</td>\n",
       "      <td>...</td>\n",
       "      <td>...</td>\n",
       "      <td>...</td>\n",
       "      <td>...</td>\n",
       "      <td>...</td>\n",
       "      <td>...</td>\n",
       "      <td>...</td>\n",
       "    </tr>\n",
       "    <tr>\n",
       "      <th>73775</th>\n",
       "      <td>f875741067fda8011d4aa9ad4c543e52227e31b525fed1...</td>\n",
       "      <td>2024-07-29 13:14:00</td>\n",
       "      <td>sur place voilà ce qu'ils restent par exemple ...</td>\n",
       "      <td>tf1</td>\n",
       "      <td>False</td>\n",
       "      <td>Information - Journal</td>\n",
       "      <td>JT 13h</td>\n",
       "      <td>[\"changement_climatique_constat_indirectes\", \"...</td>\n",
       "      <td>[{\"keyword\": \"feux\", \"timestamp\": 172225164506...</td>\n",
       "      <td>1</td>\n",
       "      <td>446</td>\n",
       "      <td>Cette allégation est sérieuse et nécessite une...</td>\n",
       "      <td>L'incendie serait d'origine volontaire.</td>\n",
       "      <td>Le journaliste fait état des enquêtes en cours...</td>\n",
       "      <td>N/A</td>\n",
       "      <td>consensus</td>\n",
       "      <td>high</td>\n",
       "      <td>anti-écologie</td>\n",
       "      <td>d'après les autorités le feu serait d'origine ...</td>\n",
       "      <td>narrative</td>\n",
       "    </tr>\n",
       "    <tr>\n",
       "      <th>74166</th>\n",
       "      <td>cdfed233896d49971897df448465dd43b79ae871b33adb...</td>\n",
       "      <td>2024-08-05 09:16:00</td>\n",
       "      <td>les insectes non on pense que c'est la chaleur...</td>\n",
       "      <td>tf1</td>\n",
       "      <td>False</td>\n",
       "      <td>Information - Magazine</td>\n",
       "      <td>Bonjour ! La Matinale</td>\n",
       "      <td>[\"changement_climatique_constat_indirectes\", \"...</td>\n",
       "      <td>[{\"keyword\": \"g\\u00e9othermie\", \"timestamp\": 1...</td>\n",
       "      <td>2</td>\n",
       "      <td>479</td>\n",
       "      <td>Ce claim fait l'impasse sur le fait que la gén...</td>\n",
       "      <td>La climatisation industrialisée a été une répo...</td>\n",
       "      <td>Il est mentionné que la climatisation, qui est...</td>\n",
       "      <td>N/A</td>\n",
       "      <td>consensus</td>\n",
       "      <td>high</td>\n",
       "      <td>anti-écologie</td>\n",
       "      <td>le progrès sur le réchauffement climatique la ...</td>\n",
       "      <td>narrative</td>\n",
       "    </tr>\n",
       "    <tr>\n",
       "      <th>74219</th>\n",
       "      <td>9441e27a4c144b4ceef27cb8bd44ae5b7ae0fd545fde2b...</td>\n",
       "      <td>2024-08-06 09:04:00</td>\n",
       "      <td>chute de séracs sont communs commune à toutes ...</td>\n",
       "      <td>tf1</td>\n",
       "      <td>False</td>\n",
       "      <td>Information - Magazine</td>\n",
       "      <td>Bonjour ! La Matinale</td>\n",
       "      <td>[\"changement_climatique_constat_indirectes\", \"...</td>\n",
       "      <td>[{\"keyword\": \"climatique\", \"timestamp\": 172292...</td>\n",
       "      <td>1</td>\n",
       "      <td>400</td>\n",
       "      <td>Cette affirmation semble contestable, car de n...</td>\n",
       "      <td>Le risque de chutes de séracs n'est pas partic...</td>\n",
       "      <td>Le chercheur indique que, pour l'instant, le r...</td>\n",
       "      <td>N/A</td>\n",
       "      <td>consensus</td>\n",
       "      <td>high</td>\n",
       "      <td>anti-écologie</td>\n",
       "      <td>Pour l'instant, le risque de chutes de séracs ...</td>\n",
       "      <td>narrative</td>\n",
       "    </tr>\n",
       "    <tr>\n",
       "      <th>74850</th>\n",
       "      <td>6f48350bc56ebb262e90f9950e95de345ce69e3fb0053b...</td>\n",
       "      <td>2024-08-17 20:24:00</td>\n",
       "      <td>le vaucluse ses problèmes d'étiquetage représe...</td>\n",
       "      <td>tf1</td>\n",
       "      <td>False</td>\n",
       "      <td>Information - Journal</td>\n",
       "      <td>JT 20h + météo</td>\n",
       "      <td>[\"biodiversite_concepts_generaux\", \"biodiversi...</td>\n",
       "      <td>[{\"keyword\": \"agriculteur\", \"timestamp\": 17239...</td>\n",
       "      <td>1</td>\n",
       "      <td>494</td>\n",
       "      <td>Cette information est manifestement fausse et ...</td>\n",
       "      <td>Une astuce sur les réseaux sociaux prétend que...</td>\n",
       "      <td>Un segment aborde une nouvelle tendance sur le...</td>\n",
       "      <td>N/A</td>\n",
       "      <td>narrative</td>\n",
       "      <td>high</td>\n",
       "      <td>anti-écologie</td>\n",
       "      <td>Cette astuce elle est fausse et voilà pourquoi.</td>\n",
       "      <td>narrative</td>\n",
       "    </tr>\n",
       "    <tr>\n",
       "      <th>75109</th>\n",
       "      <td>e641edd619674384dd37c0f35d0dff55354a299f76e564...</td>\n",
       "      <td>2024-08-26 13:32:00</td>\n",
       "      <td>de foot passant déclinent c'est un signe qui a...</td>\n",
       "      <td>tf1</td>\n",
       "      <td>False</td>\n",
       "      <td>Information - Journal</td>\n",
       "      <td>JT 13h</td>\n",
       "      <td>[\"changement_climatique_causes_indirectes\", \"b...</td>\n",
       "      <td>[{\"keyword\": \"pollution\", \"timestamp\": 1724671...</td>\n",
       "      <td>2</td>\n",
       "      <td>387</td>\n",
       "      <td>Cette allégation sur la modification génétique...</td>\n",
       "      <td>Il y a une modification génétique chez les hér...</td>\n",
       "      <td>L'intervenant suggère que la population de hér...</td>\n",
       "      <td>N/A</td>\n",
       "      <td>consensus</td>\n",
       "      <td>high</td>\n",
       "      <td>anti-écologie</td>\n",
       "      <td>en théorie ça doit être parce qu'il y a une mo...</td>\n",
       "      <td>consensus</td>\n",
       "    </tr>\n",
       "  </tbody>\n",
       "</table>\n",
       "<p>1454 rows × 20 columns</p>\n",
       "</div>"
      ],
      "text/plain": [
       "                                                      id               start  \\\n",
       "67     f17cb36a314156417616ef1ebb9232bbf203a1ecdc983c... 2023-09-04 05:56:00   \n",
       "87     e57e39657004072e5f998d19e6a8a952ee8f35923b9072... 2023-09-04 07:50:00   \n",
       "251    5b7207073227562ad5fd7b252e290d0a2079f3cbbb2e5c... 2023-09-06 07:22:00   \n",
       "259    53b6b045672a2327c58c72a38a3ddb603587ad43421f8c... 2023-09-06 08:38:00   \n",
       "313    6c3bb9299d31332c644b54832399976117d28776c9e22c... 2023-09-07 08:56:00   \n",
       "...                                                  ...                 ...   \n",
       "73775  f875741067fda8011d4aa9ad4c543e52227e31b525fed1... 2024-07-29 13:14:00   \n",
       "74166  cdfed233896d49971897df448465dd43b79ae871b33adb... 2024-08-05 09:16:00   \n",
       "74219  9441e27a4c144b4ceef27cb8bd44ae5b7ae0fd545fde2b... 2024-08-06 09:04:00   \n",
       "74850  6f48350bc56ebb262e90f9950e95de345ce69e3fb0053b... 2024-08-17 20:24:00   \n",
       "75109  e641edd619674384dd37c0f35d0dff55354a299f76e564... 2024-08-26 13:32:00   \n",
       "\n",
       "                                                    text channel_name  \\\n",
       "67     série qu'on peut redire par fonction juré déjà...      europe1   \n",
       "87     salle d'attente il y a toutes les classes rage...      europe1   \n",
       "251    en france on peut quand même s'appuyer sur ce ...      europe1   \n",
       "259    je suis même allé plus loin je vais essayer de...      europe1   \n",
       "313    pour faire réussir nos enfants dans quel monde...      europe1   \n",
       "...                                                  ...          ...   \n",
       "73775  sur place voilà ce qu'ils restent par exemple ...          tf1   \n",
       "74166  les insectes non on pense que c'est la chaleur...          tf1   \n",
       "74219  chute de séracs sont communs commune à toutes ...          tf1   \n",
       "74850  le vaucluse ses problèmes d'étiquetage représe...          tf1   \n",
       "75109  de foot passant déclinent c'est un signe qui a...          tf1   \n",
       "\n",
       "       channel_is_radio    channel_program_type        channel_program  \\\n",
       "67                 True  Information - Magazine                Bonjour   \n",
       "87                 True  Information - Magazine         Europe 1 Matin   \n",
       "251                True  Information - Magazine         Europe 1 Matin   \n",
       "259                True  Information - Magazine         Europe 1 Matin   \n",
       "313                True  Information - Magazine       L'heure des pros   \n",
       "...                 ...                     ...                    ...   \n",
       "73775             False   Information - Journal                 JT 13h   \n",
       "74166             False  Information - Magazine  Bonjour ! La Matinale   \n",
       "74219             False  Information - Magazine  Bonjour ! La Matinale   \n",
       "74850             False   Information - Journal         JT 20h + météo   \n",
       "75109             False   Information - Journal                 JT 13h   \n",
       "\n",
       "                                                  themes  \\\n",
       "67     [\"biodiversite_concepts_generaux\", \"changement...   \n",
       "87     [\"changement_climatique_causes\", \"changement_c...   \n",
       "251    [\"changement_climatique_consequences_indirecte...   \n",
       "259    [\"changement_climatique_consequences\", \"ressou...   \n",
       "313                    [\"changement_climatique_constat\"]   \n",
       "...                                                  ...   \n",
       "73775  [\"changement_climatique_constat_indirectes\", \"...   \n",
       "74166  [\"changement_climatique_constat_indirectes\", \"...   \n",
       "74219  [\"changement_climatique_constat_indirectes\", \"...   \n",
       "74850  [\"biodiversite_concepts_generaux\", \"biodiversi...   \n",
       "75109  [\"changement_climatique_causes_indirectes\", \"b...   \n",
       "\n",
       "                                                keywords  num_keywords  \\\n",
       "67     [{\"keyword\": \"eaux\", \"timestamp\": 169379984302...             2   \n",
       "87     [{\"keyword\": \"giec\", \"timestamp\": 169380664205...             2   \n",
       "251    [{\"keyword\": \"incendies\", \"timestamp\": 1693977...             2   \n",
       "259    [{\"keyword\": \"\\u00e9coresponsable\", \"timestamp...             2   \n",
       "313    [{\"keyword\": \"climatique\", \"timestamp\": 169406...             1   \n",
       "...                                                  ...           ...   \n",
       "73775  [{\"keyword\": \"feux\", \"timestamp\": 172225164506...             1   \n",
       "74166  [{\"keyword\": \"g\\u00e9othermie\", \"timestamp\": 1...             2   \n",
       "74219  [{\"keyword\": \"climatique\", \"timestamp\": 172292...             1   \n",
       "74850  [{\"keyword\": \"agriculteur\", \"timestamp\": 17239...             1   \n",
       "75109  [{\"keyword\": \"pollution\", \"timestamp\": 1724671...             2   \n",
       "\n",
       "       num_tokens                                           analysis  \\\n",
       "67            559  Cette allégation semble associée à une interpr...   \n",
       "87            554  Cette allégation semble utiliser le terme 'tra...   \n",
       "251           594  Cette allégation semble hautement exagérée et ...   \n",
       "259           614  Cette allégation frôle la théorie du complot, ...   \n",
       "313           563  Si le changement climatique est parfois utilis...   \n",
       "...           ...                                                ...   \n",
       "73775         446  Cette allégation est sérieuse et nécessite une...   \n",
       "74166         479  Ce claim fait l'impasse sur le fait que la gén...   \n",
       "74219         400  Cette affirmation semble contestable, car de n...   \n",
       "74850         494  Cette information est manifestement fausse et ...   \n",
       "75109         387  Cette allégation sur la modification génétique...   \n",
       "\n",
       "                                                   claim  \\\n",
       "67                            le giec est transhumaniste   \n",
       "87         La mention du GIEC comme un \"transhumaniste\".   \n",
       "251    Il y a eu beaucoup de morts tués par des pharm...   \n",
       "259    Le réchauffement climatique est causé par une ...   \n",
       "313    Le changement climatique est traité comme une ...   \n",
       "...                                                  ...   \n",
       "73775            L'incendie serait d'origine volontaire.   \n",
       "74166  La climatisation industrialisée a été une répo...   \n",
       "74219  Le risque de chutes de séracs n'est pas partic...   \n",
       "74850  Une astuce sur les réseaux sociaux prétend que...   \n",
       "75109  Il y a une modification génétique chez les hér...   \n",
       "\n",
       "                                                 context contradiction  \\\n",
       "67     Dans un passage en parlant des personnages du ...           N/A   \n",
       "87     Dans un extrait de programme où différents per...           N/A   \n",
       "251    Lors d'une discussion sur le rôle des pharmaci...           N/A   \n",
       "259    Lors d'une discussion sur les enjeux environne...           N/A   \n",
       "313    Le commentaire sur une polémique entre personn...           N/A   \n",
       "...                                                  ...           ...   \n",
       "73775  Le journaliste fait état des enquêtes en cours...           N/A   \n",
       "74166  Il est mentionné que la climatisation, qui est...           N/A   \n",
       "74219  Le chercheur indique que, pour l'instant, le r...           N/A   \n",
       "74850  Un segment aborde une nouvelle tendance sur le...           N/A   \n",
       "75109  L'intervenant suggère que la population de hér...           N/A   \n",
       "\n",
       "      disinformation_category disinformation_score       pro_anti  \\\n",
       "67                  consensus                 high  anti-écologie   \n",
       "87                  consensus                 high  anti-écologie   \n",
       "251                 narrative                 high  anti-écologie   \n",
       "259                 consensus                 high  anti-écologie   \n",
       "313                 consensus                 high  anti-écologie   \n",
       "...                       ...                  ...            ...   \n",
       "73775               consensus                 high  anti-écologie   \n",
       "74166               consensus                 high  anti-écologie   \n",
       "74219               consensus                 high  anti-écologie   \n",
       "74850               narrative                 high  anti-écologie   \n",
       "75109               consensus                 high  anti-écologie   \n",
       "\n",
       "                                                   quote    speaker  \n",
       "67     il y a par exemple le giec transhumaniste qui ...  narrative  \n",
       "87     il y a par exemple le giec transhumaniste qui ...  narrative  \n",
       "251    j'ai l'impression qu'il y a eu beaucoup de mor...  narrative  \n",
       "259    Le réchauffement climatique est causé par une ...  narrative  \n",
       "313    ...c'était hier soir dans cette à vous sur fra...  narrative  \n",
       "...                                                  ...        ...  \n",
       "73775  d'après les autorités le feu serait d'origine ...  narrative  \n",
       "74166  le progrès sur le réchauffement climatique la ...  narrative  \n",
       "74219  Pour l'instant, le risque de chutes de séracs ...  narrative  \n",
       "74850    Cette astuce elle est fausse et voilà pourquoi.  narrative  \n",
       "75109  en théorie ça doit être parce qu'il y a une mo...  consensus  \n",
       "\n",
       "[1454 rows x 20 columns]"
      ]
     },
     "execution_count": 3,
     "metadata": {},
     "output_type": "execute_result"
    }
   ],
   "source": [
    "def read_parquet(uploaded_file):\n",
    "    return pd.read_parquet(uploaded_file)\n",
    "\n",
    "df = read_parquet(\"//Users/anne/Desktop/Data4Good/ECF GenAI/4_channels_predictions_09_2023_09_2024.parquet\")\n",
    "df.reset_index(inplace=True)\n",
    "df_exploded = df.explode('claims', ignore_index=True)\n",
    "df_normalized = pd.json_normalize(df_exploded['claims'])\n",
    "df_result = df_exploded.drop(columns=['claims']).join(df_normalized)\n",
    "df_claims = df_result[(df_result['disinformation_score']=='high') & (df_result['pro_anti']!='pro-écologie')]\n",
    "df_claims"
   ]
  },
  {
   "cell_type": "markdown",
   "metadata": {},
   "source": [
    "## Find quotes \n",
    "\n",
    "- checker qu'il n'y a pas d'hallucination\n",
    "- trouver une méthode pour souligner la quote dans le texte "
   ]
  },
  {
   "cell_type": "code",
   "execution_count": 46,
   "metadata": {},
   "outputs": [
    {
     "name": "stderr",
     "output_type": "stream",
     "text": [
      "/var/folders/qs/h69xc93902zdpt61kf3m_p1r0000gn/T/ipykernel_5363/2088228417.py:1: SettingWithCopyWarning: \n",
      "A value is trying to be set on a copy of a slice from a DataFrame.\n",
      "Try using .loc[row_indexer,col_indexer] = value instead\n",
      "\n",
      "See the caveats in the documentation: https://pandas.pydata.org/pandas-docs/stable/user_guide/indexing.html#returning-a-view-versus-a-copy\n",
      "  df_claims[\"quote_in_text\"] = df_claims.apply(lambda row: row[\"quote\"] in row[\"text\"], axis=1)\n"
     ]
    },
    {
     "data": {
      "text/plain": [
       "quote_in_text\n",
       "False    908\n",
       "True     546\n",
       "Name: id, dtype: int64"
      ]
     },
     "execution_count": 46,
     "metadata": {},
     "output_type": "execute_result"
    }
   ],
   "source": [
    "df_claims[\"quote_in_text\"] = df_claims.apply(lambda row: row[\"quote\"] in row[\"text\"], axis=1)\n",
    "# les quote ne sont pas toujours dans les textes -> mesure de similarité entre claim et quote ? \n",
    "df_claims.groupby('quote_in_text').count()['id']"
   ]
  },
  {
   "cell_type": "code",
   "execution_count": 47,
   "metadata": {},
   "outputs": [],
   "source": [
    "not_exact = df_claims[df_claims.quote_in_text == False]"
   ]
  },
  {
   "cell_type": "code",
   "execution_count": 56,
   "metadata": {},
   "outputs": [
    {
     "name": "stderr",
     "output_type": "stream",
     "text": [
      "/var/folders/qs/h69xc93902zdpt61kf3m_p1r0000gn/T/ipykernel_5363/3782613564.py:1: SettingWithCopyWarning: \n",
      "A value is trying to be set on a copy of a slice from a DataFrame.\n",
      "Try using .loc[row_indexer,col_indexer] = value instead\n",
      "\n",
      "See the caveats in the documentation: https://pandas.pydata.org/pandas-docs/stable/user_guide/indexing.html#returning-a-view-versus-a-copy\n",
      "  not_exact['m_quote'] = not_exact['quote'].apply(lambda s: re.sub(r'[^\\w\\s]', '', s))\n"
     ]
    }
   ],
   "source": [
    "not_exact['m_quote'] = not_exact['quote'].apply(lambda s: re.sub(r'[^\\w\\s]', '', s))"
   ]
  },
  {
   "cell_type": "code",
   "execution_count": 57,
   "metadata": {},
   "outputs": [
    {
     "name": "stderr",
     "output_type": "stream",
     "text": [
      "/var/folders/qs/h69xc93902zdpt61kf3m_p1r0000gn/T/ipykernel_5363/2620873879.py:1: SettingWithCopyWarning: \n",
      "A value is trying to be set on a copy of a slice from a DataFrame.\n",
      "Try using .loc[row_indexer,col_indexer] = value instead\n",
      "\n",
      "See the caveats in the documentation: https://pandas.pydata.org/pandas-docs/stable/user_guide/indexing.html#returning-a-view-versus-a-copy\n",
      "  not_exact[\"m_quote_in_text\"] = not_exact.apply(lambda row: row[\"m_quote\"] in row[\"text\"], axis=1)\n"
     ]
    },
    {
     "data": {
      "text/plain": [
       "m_quote_in_text\n",
       "False    888\n",
       "True      20\n",
       "Name: id, dtype: int64"
      ]
     },
     "execution_count": 57,
     "metadata": {},
     "output_type": "execute_result"
    }
   ],
   "source": [
    "not_exact[\"m_quote_in_text\"] = not_exact.apply(lambda row: row[\"m_quote\"] in row[\"text\"], axis=1)\n",
    "# les quote ne sont pas toujours dans les textes -> mesure de similarité entre claim et quote ? \n",
    "not_exact.groupby('m_quote_in_text').count()['id']"
   ]
  },
  {
   "cell_type": "code",
   "execution_count": 58,
   "metadata": {},
   "outputs": [],
   "source": [
    "not_exact_2 = not_exact[not_exact.m_quote_in_text == False]"
   ]
  },
  {
   "cell_type": "code",
   "execution_count": null,
   "metadata": {},
   "outputs": [],
   "source": [
    "# extract main words from the quote and see if it is in the text "
   ]
  },
  {
   "cell_type": "code",
   "execution_count": 59,
   "metadata": {},
   "outputs": [
    {
     "name": "stdout",
     "output_type": "stream",
     "text": [
      "('Le réchauffement climatique est causé par une élite qui contrôle les médias '\n",
      " 'pour imposer un agenda eco-responsable.')\n",
      "('Le réchauffement climatique est causé par une élite qui contrôle les médias '\n",
      " 'pour imposer un agenda eco-responsable.')\n",
      "('je suis même allé plus loin je vais essayer de me mettre à sa place vous '\n",
      " 'laisser de vous mettre à la place de manuel bompard un moment dimitri il '\n",
      " 'faut passer par là parce que si vous voulez faire avancer le vivre ensemble '\n",
      " 'il faut essayer de comprendre les gens plutôt que de les juger je crois que '\n",
      " 'ça fait pas du bien à la canicule mais pour répondre à votre question oui ce '\n",
      " \"matin j'essaie de m'imaginer l'état d'esprit notre invité quand ils bien ici \"\n",
      " \"bon alors racontait alors il faut l'imaginée quand il est en approche de \"\n",
      " \"notre immeuble c'est-à-dire ben il est la marche sur les quais de seine avec \"\n",
      " \"son attaché de presse un moment il s'arrête il lève la tête yvonne la autres \"\n",
      " \"dent immeubles ira et là dedans europe et un europe un le jdd cnews c'est la \"\n",
      " \"tour du mordor l'âge l'observer jouer bien plus il approchait plus le \"\n",
      " 'fardeau était lourd je souffrais et comme vous le voyez je suivais aux '\n",
      " 'jumelles du bureau de lagardère aux jumelles depuis le bureau du papa auch '\n",
      " 'voyait sa souffrance je débriefer o bosch dix émettre il y a deux hobbit qui '\n",
      " \"approchent qu'est ce qu'on fait on leur baisse le pont levis on l'envoie \"\n",
      " \"direct mabrouk à cheval sur un an vous avez vu le boss ce matin je l'je ai \"\n",
      " \"l'vu ai je vu l'je ai l'vu ai comment ça vu se comment passe ça se passe \"\n",
      " \"quand on est dans son bureau c'est toujours de dos sur son fauteuil en train \"\n",
      " 'de caresser un chat avec un gant faire prudence bouffon bompard le hobbit il '\n",
      " 'possède peut-être la capsule du pouvoir et moi je dis la capsule du pouvoir '\n",
      " 'la capsule du pouvoir ces capsules de café forgée par hugo chavez qui aurait '\n",
      " 'été récupéré par jean-luc mélenchon il se murmure que celui qui viendrait '\n",
      " \"dans une machine à café de n'importe quel rédaction transformerait \"\n",
      " 'instantanément tous les journalistes du bâtiment disent écoresponsable aux '\n",
      " 'cheveux bouche bleus le bleu bref ce ce serait la fin de fin la de '\n",
      " \"civilisation la vous pensez civis qu'il a la capsule dans l'une de ses bas \"\n",
      " \"j'en sais rien mais en tout cas si on lui apporte le café tout le temps ce \"\n",
      " \"qu'il y a une raison mais en tout cas je suis content qu'il soit ne \"\n",
      " \"reçoivent pas ce qu'on ait baissé le pont levis a pourquoi parce que j'ai \"\n",
      " \"une histoire lui raconter une histoire c'est le haut c'est un retour \"\n",
      " \"d'expérience parce que si j'ai bien compris chez les filles on croit \"\n",
      " \"beaucoup à l'éducation et à l'intelligence collective et d'accord bon alors \"\n",
      " \"que je réponde sait qu'elle aurait raison alors juste l'est moins déroule et \"\n",
      " \"jusqu'au bout parce que le tac deux fois est quand même pas mal\")\n"
     ]
    }
   ],
   "source": [
    "pprint.pprint(not_exact_2.iloc[0].quote)\n",
    "pprint.pprint(not_exact_2.iloc[0].claim)\n",
    "pprint.pprint(not_exact_2.iloc[0].text)"
   ]
  },
  {
   "cell_type": "code",
   "execution_count": 67,
   "metadata": {},
   "outputs": [
    {
     "data": {
      "text/plain": [
       "id                         53b6b045672a2327c58c72a38a3ddb603587ad43421f8c...\n",
       "start                                                    2023-09-06 08:38:00\n",
       "text                       je suis même allé plus loin je vais essayer de...\n",
       "channel_name                                                         europe1\n",
       "channel_is_radio                                                        True\n",
       "channel_program_type                                  Information - Magazine\n",
       "channel_program                                               Europe 1 Matin\n",
       "themes                     [\"changement_climatique_consequences\", \"ressou...\n",
       "keywords                   [{\"keyword\": \"\\u00e9coresponsable\", \"timestamp...\n",
       "num_keywords                                                               2\n",
       "num_tokens                                                               614\n",
       "analysis                   Cette allégation frôle la théorie du complot, ...\n",
       "claim                      Le réchauffement climatique est causé par une ...\n",
       "context                    Lors d'une discussion sur les enjeux environne...\n",
       "contradiction                                                            N/A\n",
       "disinformation_category                                            consensus\n",
       "disinformation_score                                                    high\n",
       "pro_anti                                                       anti-écologie\n",
       "quote                      Le réchauffement climatique est causé par une ...\n",
       "speaker                                                            narrative\n",
       "quote_in_text                                                          False\n",
       "Name: 259, dtype: object"
      ]
     },
     "execution_count": 67,
     "metadata": {},
     "output_type": "execute_result"
    }
   ],
   "source": [
    "# quantifier la similitude entre la quote et le texte \n",
    "#not_exact_2\n",
    "df_claims.loc[259]"
   ]
  },
  {
   "cell_type": "code",
   "execution_count": 68,
   "metadata": {},
   "outputs": [
    {
     "name": "stdout",
     "output_type": "stream",
     "text": [
      "('Le réchauffement climatique est causé par une élite qui contrôle les médias '\n",
      " 'pour imposer un agenda eco-responsable.')\n",
      "('Le réchauffement climatique est causé par une élite qui contrôle les médias '\n",
      " 'pour imposer un agenda eco-responsable.')\n",
      "('je suis même allé plus loin je vais essayer de me mettre à sa place vous '\n",
      " 'laisser de vous mettre à la place de manuel bompard un moment dimitri il '\n",
      " 'faut passer par là parce que si vous voulez faire avancer le vivre ensemble '\n",
      " 'il faut essayer de comprendre les gens plutôt que de les juger je crois que '\n",
      " 'ça fait pas du bien à la canicule mais pour répondre à votre question oui ce '\n",
      " \"matin j'essaie de m'imaginer l'état d'esprit notre invité quand ils bien ici \"\n",
      " \"bon alors racontait alors il faut l'imaginée quand il est en approche de \"\n",
      " \"notre immeuble c'est-à-dire ben il est la marche sur les quais de seine avec \"\n",
      " \"son attaché de presse un moment il s'arrête il lève la tête yvonne la autres \"\n",
      " \"dent immeubles ira et là dedans europe et un europe un le jdd cnews c'est la \"\n",
      " \"tour du mordor l'âge l'observer jouer bien plus il approchait plus le \"\n",
      " 'fardeau était lourd je souffrais et comme vous le voyez je suivais aux '\n",
      " 'jumelles du bureau de lagardère aux jumelles depuis le bureau du papa auch '\n",
      " 'voyait sa souffrance je débriefer o bosch dix émettre il y a deux hobbit qui '\n",
      " \"approchent qu'est ce qu'on fait on leur baisse le pont levis on l'envoie \"\n",
      " \"direct mabrouk à cheval sur un an vous avez vu le boss ce matin je l'je ai \"\n",
      " \"l'vu ai je vu l'je ai l'vu ai comment ça vu se comment passe ça se passe \"\n",
      " \"quand on est dans son bureau c'est toujours de dos sur son fauteuil en train \"\n",
      " 'de caresser un chat avec un gant faire prudence bouffon bompard le hobbit il '\n",
      " 'possède peut-être la capsule du pouvoir et moi je dis la capsule du pouvoir '\n",
      " 'la capsule du pouvoir ces capsules de café forgée par hugo chavez qui aurait '\n",
      " 'été récupéré par jean-luc mélenchon il se murmure que celui qui viendrait '\n",
      " \"dans une machine à café de n'importe quel rédaction transformerait \"\n",
      " 'instantanément tous les journalistes du bâtiment disent écoresponsable aux '\n",
      " 'cheveux bouche bleus le bleu bref ce ce serait la fin de fin la de '\n",
      " \"civilisation la vous pensez civis qu'il a la capsule dans l'une de ses bas \"\n",
      " \"j'en sais rien mais en tout cas si on lui apporte le café tout le temps ce \"\n",
      " \"qu'il y a une raison mais en tout cas je suis content qu'il soit ne \"\n",
      " \"reçoivent pas ce qu'on ait baissé le pont levis a pourquoi parce que j'ai \"\n",
      " \"une histoire lui raconter une histoire c'est le haut c'est un retour \"\n",
      " \"d'expérience parce que si j'ai bien compris chez les filles on croit \"\n",
      " \"beaucoup à l'éducation et à l'intelligence collective et d'accord bon alors \"\n",
      " \"que je réponde sait qu'elle aurait raison alors juste l'est moins déroule et \"\n",
      " \"jusqu'au bout parce que le tac deux fois est quand même pas mal\")\n"
     ]
    }
   ],
   "source": [
    "pprint.pprint(df_claims.loc[259].quote)\n",
    "pprint.pprint(df_claims.loc[259].claim)\n",
    "pprint.pprint(df_claims.loc[259].text)"
   ]
  },
  {
   "cell_type": "code",
   "execution_count": 80,
   "metadata": {},
   "outputs": [
    {
     "data": {
      "text/plain": [
       "[\"je suis même allé plus loin je vais essayer de me mettre à sa place vous laisser de vous mettre à la place de manuel bompard un moment dimitri il faut passer par là parce que si vous voulez faire avancer le vivre ensemble il faut essayer de comprendre les gens plutôt que de les juger je crois que ça fait pas du bien à la canicule mais pour répondre à votre question oui ce matin j'essaie de m'imaginer l'état d'esprit notre invité quand ils bien ici bon alors racontait alors il faut l'imaginée quand il est en approche de notre immeuble c'est-à-dire ben il est la marche sur les quais de seine avec son attaché de presse un moment il s'arrête il lève la tête yvonne la autres dent immeubles ira et là dedans europe et un europe un le jdd cnews c'est la tour du mordor l'âge l'observer jouer bien plus il approchait plus le fardeau était lourd je souffrais et comme vous le voyez je suivais aux jumelles du bureau de lagardère aux jumelles depuis le bureau du papa auch voyait sa souffrance je débriefer o bosch dix émettre il y a deux hobbit qui approchent qu'est ce qu'on fait on leur baisse le pont levis on l'envoie direct mabrouk à cheval sur un an vous avez vu le boss ce matin je l'je ai l'vu ai je vu l'je ai l'vu ai comment ça vu se comment passe ça se passe quand on est dans son bureau c'est toujours de dos sur son fauteuil en train de caresser un chat avec un gant faire prudence bouffon bompard le hobbit il possède peut-être la capsule du pouvoir et moi je dis la capsule du pouvoir la capsule du pouvoir ces capsules de café forgée par hugo chavez qui aurait été récupéré par jean-luc mélenchon il se murmure que celui qui viendrait dans une machine à café de n'importe quel rédaction transformerait instantanément tous les journalistes du bâtiment disent écoresponsable aux cheveux bouche bleus le bleu bref ce ce serait la fin de fin la de civilisation la vous pensez civis qu'il a la capsule dans l'une de ses bas j'en sais rien mais en tout cas si on lui apporte le café tout le temps ce qu'il y a une raison mais en tout cas je suis content qu'il soit ne reçoivent pas ce qu'on ait baissé le pont levis a pourquoi parce que j'ai une histoire lui raconter une histoire c'est le haut c'est un retour d'expérience parce que si j'ai bien compris chez les filles on croit beaucoup à l'éducation et à l'intelligence collective et d'accord bon alors que je réponde sait qu'elle aurait raison alors juste l'est moins déroule et jusqu'au bout parce que le tac deux fois est quand même pas mal\"]"
      ]
     },
     "execution_count": 80,
     "metadata": {},
     "output_type": "execute_result"
    }
   ],
   "source": [
    "df_claims.loc[259].text.split('.')"
   ]
  },
  {
   "cell_type": "code",
   "execution_count": null,
   "metadata": {},
   "outputs": [
    {
     "data": {
      "text/plain": [
       "259      Le réchauffement climatique est causé par une ...\n",
       "313      ...c'était hier soir dans cette à vous sur fra...\n",
       "444      les climatologues ne croient plus leurs termes...\n",
       "607      Les canicules sont des événements normaux et n...\n",
       "608      Il n'y a pas de lien entre la hausse des tempé...\n",
       "                               ...                        \n",
       "73449         le dérèglement climatique phénomène naturel.\n",
       "73531    nous on partirait plutôt sur de la capture eff...\n",
       "73690    Les bénéfices de fruits et légumes frais n'ont...\n",
       "74219    Pour l'instant, le risque de chutes de séracs ...\n",
       "74850      Cette astuce elle est fausse et voilà pourquoi.\n",
       "Name: quote, Length: 888, dtype: object"
      ]
     },
     "execution_count": 78,
     "metadata": {},
     "output_type": "execute_result"
    }
   ],
   "source": [
    "# combien de phrases par quote\n",
    "not_exact_2.quote.apply(lambda t: )"
   ]
  },
  {
   "cell_type": "code",
   "execution_count": 70,
   "metadata": {},
   "outputs": [
    {
     "name": "stderr",
     "output_type": "stream",
     "text": [
      "\n",
      "A module that was compiled using NumPy 1.x cannot be run in\n",
      "NumPy 2.1.1 as it may crash. To support both 1.x and 2.x\n",
      "versions of NumPy, modules must be compiled with NumPy 2.0.\n",
      "Some module may need to rebuild instead e.g. with 'pybind11>=2.12'.\n",
      "\n",
      "If you are a user of the module, the easiest solution will be to\n",
      "downgrade to 'numpy<2' or try to upgrade the affected module.\n",
      "We expect that some modules will need time to support NumPy 2.\n",
      "\n",
      "Traceback (most recent call last):  File \"<frozen runpy>\", line 198, in _run_module_as_main\n",
      "  File \"<frozen runpy>\", line 88, in _run_code\n",
      "  File \"/Users/anne/Desktop/Data4Good/climateguard/.venv/lib/python3.12/site-packages/ipykernel_launcher.py\", line 18, in <module>\n",
      "    app.launch_new_instance()\n",
      "  File \"/Users/anne/Desktop/Data4Good/climateguard/.venv/lib/python3.12/site-packages/traitlets/config/application.py\", line 1075, in launch_instance\n",
      "    app.start()\n",
      "  File \"/Users/anne/Desktop/Data4Good/climateguard/.venv/lib/python3.12/site-packages/ipykernel/kernelapp.py\", line 739, in start\n",
      "    self.io_loop.start()\n",
      "  File \"/Users/anne/Desktop/Data4Good/climateguard/.venv/lib/python3.12/site-packages/tornado/platform/asyncio.py\", line 205, in start\n",
      "    self.asyncio_loop.run_forever()\n",
      "  File \"/Users/anne/.local/share/uv/python/cpython-3.12.7-macos-x86_64-none/lib/python3.12/asyncio/base_events.py\", line 641, in run_forever\n",
      "    self._run_once()\n",
      "  File \"/Users/anne/.local/share/uv/python/cpython-3.12.7-macos-x86_64-none/lib/python3.12/asyncio/base_events.py\", line 1986, in _run_once\n",
      "    handle._run()\n",
      "  File \"/Users/anne/.local/share/uv/python/cpython-3.12.7-macos-x86_64-none/lib/python3.12/asyncio/events.py\", line 88, in _run\n",
      "    self._context.run(self._callback, *self._args)\n",
      "  File \"/Users/anne/Desktop/Data4Good/climateguard/.venv/lib/python3.12/site-packages/ipykernel/kernelbase.py\", line 545, in dispatch_queue\n",
      "    await self.process_one()\n",
      "  File \"/Users/anne/Desktop/Data4Good/climateguard/.venv/lib/python3.12/site-packages/ipykernel/kernelbase.py\", line 534, in process_one\n",
      "    await dispatch(*args)\n",
      "  File \"/Users/anne/Desktop/Data4Good/climateguard/.venv/lib/python3.12/site-packages/ipykernel/kernelbase.py\", line 437, in dispatch_shell\n",
      "    await result\n",
      "  File \"/Users/anne/Desktop/Data4Good/climateguard/.venv/lib/python3.12/site-packages/ipykernel/ipkernel.py\", line 362, in execute_request\n",
      "    await super().execute_request(stream, ident, parent)\n",
      "  File \"/Users/anne/Desktop/Data4Good/climateguard/.venv/lib/python3.12/site-packages/ipykernel/kernelbase.py\", line 778, in execute_request\n",
      "    reply_content = await reply_content\n",
      "  File \"/Users/anne/Desktop/Data4Good/climateguard/.venv/lib/python3.12/site-packages/ipykernel/ipkernel.py\", line 449, in do_execute\n",
      "    res = shell.run_cell(\n",
      "  File \"/Users/anne/Desktop/Data4Good/climateguard/.venv/lib/python3.12/site-packages/ipykernel/zmqshell.py\", line 549, in run_cell\n",
      "    return super().run_cell(*args, **kwargs)\n",
      "  File \"/Users/anne/Desktop/Data4Good/climateguard/.venv/lib/python3.12/site-packages/IPython/core/interactiveshell.py\", line 3075, in run_cell\n",
      "    result = self._run_cell(\n",
      "  File \"/Users/anne/Desktop/Data4Good/climateguard/.venv/lib/python3.12/site-packages/IPython/core/interactiveshell.py\", line 3130, in _run_cell\n",
      "    result = runner(coro)\n",
      "  File \"/Users/anne/Desktop/Data4Good/climateguard/.venv/lib/python3.12/site-packages/IPython/core/async_helpers.py\", line 128, in _pseudo_sync_runner\n",
      "    coro.send(None)\n",
      "  File \"/Users/anne/Desktop/Data4Good/climateguard/.venv/lib/python3.12/site-packages/IPython/core/interactiveshell.py\", line 3334, in run_cell_async\n",
      "    has_raised = await self.run_ast_nodes(code_ast.body, cell_name,\n",
      "  File \"/Users/anne/Desktop/Data4Good/climateguard/.venv/lib/python3.12/site-packages/IPython/core/interactiveshell.py\", line 3517, in run_ast_nodes\n",
      "    if await self.run_code(code, result, async_=asy):\n",
      "  File \"/Users/anne/Desktop/Data4Good/climateguard/.venv/lib/python3.12/site-packages/IPython/core/interactiveshell.py\", line 3577, in run_code\n",
      "    exec(code_obj, self.user_global_ns, self.user_ns)\n",
      "  File \"/var/folders/qs/h69xc93902zdpt61kf3m_p1r0000gn/T/ipykernel_5363/1061729420.py\", line 1, in <module>\n",
      "    from sentence_transformers import SentenceTransformer, util\n",
      "  File \"/Users/anne/Desktop/Data4Good/climateguard/.venv/lib/python3.12/site-packages/sentence_transformers/__init__.py\", line 9, in <module>\n",
      "    from sentence_transformers.backend import (\n",
      "  File \"/Users/anne/Desktop/Data4Good/climateguard/.venv/lib/python3.12/site-packages/sentence_transformers/backend.py\", line 11, in <module>\n",
      "    from sentence_transformers.util import disable_datasets_caching, is_datasets_available\n",
      "  File \"/Users/anne/Desktop/Data4Good/climateguard/.venv/lib/python3.12/site-packages/sentence_transformers/util.py\", line 17, in <module>\n",
      "    import torch\n",
      "  File \"/Users/anne/Desktop/Data4Good/climateguard/.venv/lib/python3.12/site-packages/torch/__init__.py\", line 1477, in <module>\n",
      "    from .functional import *  # noqa: F403\n",
      "  File \"/Users/anne/Desktop/Data4Good/climateguard/.venv/lib/python3.12/site-packages/torch/functional.py\", line 9, in <module>\n",
      "    import torch.nn.functional as F\n",
      "  File \"/Users/anne/Desktop/Data4Good/climateguard/.venv/lib/python3.12/site-packages/torch/nn/__init__.py\", line 1, in <module>\n",
      "    from .modules import *  # noqa: F403\n",
      "  File \"/Users/anne/Desktop/Data4Good/climateguard/.venv/lib/python3.12/site-packages/torch/nn/modules/__init__.py\", line 35, in <module>\n",
      "    from .transformer import TransformerEncoder, TransformerDecoder, \\\n",
      "  File \"/Users/anne/Desktop/Data4Good/climateguard/.venv/lib/python3.12/site-packages/torch/nn/modules/transformer.py\", line 20, in <module>\n",
      "    device: torch.device = torch.device(torch._C._get_default_device()),  # torch.device('cpu'),\n",
      "/Users/anne/Desktop/Data4Good/climateguard/.venv/lib/python3.12/site-packages/torch/nn/modules/transformer.py:20: UserWarning: Failed to initialize NumPy: _ARRAY_API not found (Triggered internally at /Users/runner/work/pytorch/pytorch/pytorch/torch/csrc/utils/tensor_numpy.cpp:84.)\n",
      "  device: torch.device = torch.device(torch._C._get_default_device()),  # torch.device('cpu'),\n",
      "python(8388) MallocStackLogging: can't turn off malloc stack logging because it was not enabled.\n"
     ]
    },
    {
     "data": {
      "application/vnd.jupyter.widget-view+json": {
       "model_id": "5c485941dc9748589a87c22ce886325a",
       "version_major": 2,
       "version_minor": 0
      },
      "text/plain": [
       "modules.json:   0%|          | 0.00/229 [00:00<?, ?B/s]"
      ]
     },
     "metadata": {},
     "output_type": "display_data"
    },
    {
     "data": {
      "application/vnd.jupyter.widget-view+json": {
       "model_id": "03812b951bef4deb83f39b12a756dc2d",
       "version_major": 2,
       "version_minor": 0
      },
      "text/plain": [
       "config_sentence_transformers.json:   0%|          | 0.00/122 [00:00<?, ?B/s]"
      ]
     },
     "metadata": {},
     "output_type": "display_data"
    },
    {
     "data": {
      "application/vnd.jupyter.widget-view+json": {
       "model_id": "428a822555fa4c76b99e0b2db958affd",
       "version_major": 2,
       "version_minor": 0
      },
      "text/plain": [
       "README.md:   0%|          | 0.00/3.73k [00:00<?, ?B/s]"
      ]
     },
     "metadata": {},
     "output_type": "display_data"
    },
    {
     "data": {
      "application/vnd.jupyter.widget-view+json": {
       "model_id": "f9af06beac4a46428c078799df4855b9",
       "version_major": 2,
       "version_minor": 0
      },
      "text/plain": [
       "sentence_bert_config.json:   0%|          | 0.00/53.0 [00:00<?, ?B/s]"
      ]
     },
     "metadata": {},
     "output_type": "display_data"
    },
    {
     "data": {
      "application/vnd.jupyter.widget-view+json": {
       "model_id": "f4c230099518420d8f8d2c46c4cf8a72",
       "version_major": 2,
       "version_minor": 0
      },
      "text/plain": [
       "config.json:   0%|          | 0.00/629 [00:00<?, ?B/s]"
      ]
     },
     "metadata": {},
     "output_type": "display_data"
    },
    {
     "data": {
      "application/vnd.jupyter.widget-view+json": {
       "model_id": "0f1690249fd745f0bf3ad7dd3c54b43b",
       "version_major": 2,
       "version_minor": 0
      },
      "text/plain": [
       "model.safetensors:   0%|          | 0.00/90.9M [00:00<?, ?B/s]"
      ]
     },
     "metadata": {},
     "output_type": "display_data"
    },
    {
     "data": {
      "application/vnd.jupyter.widget-view+json": {
       "model_id": "7a6e4ecf49b5415b9ac23e0bab14ce3f",
       "version_major": 2,
       "version_minor": 0
      },
      "text/plain": [
       "tokenizer_config.json:   0%|          | 0.00/314 [00:00<?, ?B/s]"
      ]
     },
     "metadata": {},
     "output_type": "display_data"
    },
    {
     "data": {
      "application/vnd.jupyter.widget-view+json": {
       "model_id": "b9bd59470d4742679ee27c5d25692615",
       "version_major": 2,
       "version_minor": 0
      },
      "text/plain": [
       "vocab.txt:   0%|          | 0.00/232k [00:00<?, ?B/s]"
      ]
     },
     "metadata": {},
     "output_type": "display_data"
    },
    {
     "data": {
      "application/vnd.jupyter.widget-view+json": {
       "model_id": "89ac7bd5a4f34d289a02713c9346e093",
       "version_major": 2,
       "version_minor": 0
      },
      "text/plain": [
       "tokenizer.json:   0%|          | 0.00/466k [00:00<?, ?B/s]"
      ]
     },
     "metadata": {},
     "output_type": "display_data"
    },
    {
     "data": {
      "application/vnd.jupyter.widget-view+json": {
       "model_id": "706d5ec05ca64163ab73bc71b10aa587",
       "version_major": 2,
       "version_minor": 0
      },
      "text/plain": [
       "special_tokens_map.json:   0%|          | 0.00/112 [00:00<?, ?B/s]"
      ]
     },
     "metadata": {},
     "output_type": "display_data"
    },
    {
     "data": {
      "application/vnd.jupyter.widget-view+json": {
       "model_id": "bcbb427be5a64732bad0792325180df6",
       "version_major": 2,
       "version_minor": 0
      },
      "text/plain": [
       "1_Pooling/config.json:   0%|          | 0.00/190 [00:00<?, ?B/s]"
      ]
     },
     "metadata": {},
     "output_type": "display_data"
    }
   ],
   "source": [
    "from sentence_transformers import SentenceTransformer, util\n",
    "model = SentenceTransformer('paraphrase-MiniLM-L6-v2')"
   ]
  },
  {
   "cell_type": "markdown",
   "metadata": {},
   "source": [
    "Problème avec le sentence embedding : le texte n'a pas de ponctuation "
   ]
  },
  {
   "cell_type": "code",
   "execution_count": 71,
   "metadata": {},
   "outputs": [
    {
     "name": "stdout",
     "output_type": "stream",
     "text": [
      "Aucun passage significativement similaire trouvé.\n"
     ]
    }
   ],
   "source": [
    "quote = df_claims.loc[259].quote\n",
    "text = df_claims.loc[259].text\n",
    "\n",
    "# Diviser le texte en segments (phrases)\n",
    "segments = text.split(\". \")\n",
    "\n",
    "# Encoder la citation et les segments\n",
    "quote_embedding = model.encode(quote, convert_to_tensor=True)\n",
    "segment_embeddings = model.encode(segments, convert_to_tensor=True)\n",
    "\n",
    "# Calculer les similarités cosinus\n",
    "similarities = util.pytorch_cos_sim(quote_embedding, segment_embeddings)\n",
    "\n",
    "# Trouver le segment le plus proche\n",
    "most_similar_idx = similarities.argmax()\n",
    "most_similar_segment = segments[most_similar_idx]\n",
    "similarity_score = similarities[0][most_similar_idx].item()\n",
    "\n",
    "# Résultat\n",
    "if similarity_score > 0.8:  # Ajustez le seuil selon vos besoins\n",
    "    print(f\"Match trouvé : '{most_similar_segment}' avec un score de similarité de {similarity_score:.2f}\")\n",
    "else:\n",
    "    print(\"Aucun passage significativement similaire trouvé.\")"
   ]
  },
  {
   "cell_type": "code",
   "execution_count": null,
   "metadata": {},
   "outputs": [],
   "source": [
    "Class Find\n",
    "\n",
    "def closest_segment(text, quote):\n",
    "    segments = text.split(\". \")\n",
    "\n",
    "    # Encoder la citation et les segments\n",
    "    quote_embedding = model.encode(quote, convert_to_tensor=True)\n",
    "    segment_embeddings = model.encode(segments, convert_to_tensor=True)\n",
    "\n",
    "    # Calculer les similarités cosinus\n",
    "    similarities = util.pytorch_cos_sim(quote_embedding, segment_embeddings)\n",
    "\n",
    "    # Trouver le segment le plus proche\n",
    "    most_similar_idx = similarities.argmax()\n",
    "    most_similar_segment = segments[most_similar_idx]\n",
    "    similarity_score = similarities[0][most_similar_idx].item()\n",
    "\n",
    "    # Résultat\n",
    "    if similarity_score > 0.8:  # Ajustez le seuil selon vos besoins\n",
    "        print(f\"Match trouvé : '{most_similar_segment}' avec un score de similarité de {similarity_score:.2f}\")\n",
    "    else:\n",
    "        print(\"Aucun passage significativement similaire trouvé.\")"
   ]
  },
  {
   "cell_type": "code",
   "execution_count": 74,
   "metadata": {},
   "outputs": [
    {
     "data": {
      "text/plain": [
       "False"
      ]
     },
     "execution_count": 74,
     "metadata": {},
     "output_type": "execute_result"
    }
   ],
   "source": [
    "not_exact_2.iloc[1].m_quote in not_exact_2.iloc[1].text"
   ]
  },
  {
   "cell_type": "code",
   "execution_count": 81,
   "metadata": {},
   "outputs": [
    {
     "name": "stdout",
     "output_type": "stream",
     "text": [
      "Différence générée dans 'diff.html'\n"
     ]
    }
   ],
   "source": [
    "from difflib import HtmlDiff\n",
    "\n",
    "text1 = not_exact_2.iloc[1].m_quote\n",
    "text2 = not_exact_2.iloc[1].text\n",
    "\n",
    "html_diff = HtmlDiff()\n",
    "html_result = html_diff.make_file(text1.splitlines(), text2.splitlines())\n",
    "\n",
    "# Sauvegarder le résultat dans un fichier HTML\n",
    "with open(\"diff.html\", \"w\") as file:\n",
    "    file.write(html_result)\n",
    "\n",
    "print(\"Différence générée dans 'diff.html'\")"
   ]
  },
  {
   "cell_type": "code",
   "execution_count": 124,
   "metadata": {},
   "outputs": [],
   "source": [
    "from sentence_transformers import SentenceTransformer, util\n",
    "\n",
    "def sliding_window(text, window_size, stride):\n",
    "    \"\"\"\n",
    "    Divise le texte en segments de taille fixe avec un saut défini.\n",
    "    \n",
    "    Args:\n",
    "    - text (str): Texte à diviser.\n",
    "    - window_size (int): Nombre de mots par segment.\n",
    "    - stride (int): Saut entre les segments.\n",
    "    \n",
    "    Returns:\n",
    "    - List[str]: Liste de segments.\n",
    "    \"\"\"\n",
    "    words = text.split()\n",
    "    return [\n",
    "        \" \".join(words[i:i+window_size])\n",
    "        for i in range(0, len(words) - window_size + 1, stride)\n",
    "    ]\n",
    "\n",
    "def find_most_similar_segments(df, model_name='paraphrase-MiniLM-L6-v2', pruning_threshold = 0.7):\n",
    "    \"\"\"\n",
    "    Trouve le passage le plus similaire pour chaque ligne d'un DataFrame.\n",
    "    \n",
    "    Args:\n",
    "    - df (pd.DataFrame): DataFrame contenant 'quote' et 'text'.\n",
    "    - model_name (str): Modèle de SentenceTransformer.\n",
    "    - stride (int): Saut entre fenêtres (en mots).\n",
    "    \n",
    "    Returns:\n",
    "    - pd.DataFrame: DataFrame enrichi avec les résultats.\n",
    "    \"\"\"\n",
    "    # Charger le modèle\n",
    "    model = SentenceTransformer(model_name)\n",
    "    \n",
    "    results = []\n",
    "    \n",
    "    for idx, row in df.iterrows():\n",
    "        quote = row['m_quote']\n",
    "        text = row['text']\n",
    "        window_size = int(1 * len(quote.split()))\n",
    "        stride =  int(0.25 * len(quote.split()))\n",
    "        \n",
    "        # Générer des fenêtres glissantes\n",
    "        segments = sliding_window(text, window_size, stride)\n",
    "        \n",
    "        # Encoder la quote et les segments\n",
    "        quote_embedding = model.encode(quote, convert_to_tensor=True)\n",
    "\n",
    "        best_similarity = -1\n",
    "        \n",
    "        # Processus avec pruning\n",
    "        for segment in segments:\n",
    "            segment_embedding = model.encode(segment, convert_to_tensor=True)\n",
    "            similarity = util.pytorch_cos_sim(quote_embedding, segment_embedding).item()\n",
    "            \n",
    "            # Si on trouve une meilleure correspondance\n",
    "            if similarity > best_similarity:\n",
    "                best_similarity = similarity\n",
    "                best_segment = segment\n",
    "                start_index = text.find(segment)\n",
    "                end_index = start_index + len(segment)\n",
    "            \n",
    "            # Arrêter si le seuil de pruning est atteint\n",
    "            if best_similarity >= pruning_threshold:\n",
    "                break\n",
    "        \n",
    "        # Stocker les résultats\n",
    "        results.append({\n",
    "            \"quote\": quote,\n",
    "            \"most_similar_segment\": best_segment,\n",
    "            \"start_index\": start_index,\n",
    "            \"end_index\": end_index,\n",
    "            \"similarity_score\": similarity,\n",
    "        })\n",
    "    \n",
    "    # Ajouter les résultats au DataFrame\n",
    "    #result_df = pd.DataFrame(results)\n",
    "    return results #pd.concat([df.reset_index(drop=True), result_df], axis=1)\n",
    "\n",
    "result_df = find_most_similar_segments(not_exact_2.iloc[[1]])"
   ]
  },
  {
   "cell_type": "code",
   "execution_count": 125,
   "metadata": {},
   "outputs": [
    {
     "data": {
      "text/plain": [
       "[{'quote': 'cétait hier soir dans cette à vous sur france cinq nicolas sarkozy interrogé sur cette stupide polémique',\n",
       "  'most_similar_segment': \"petit dernier pour la route c'était hier soir dans cette à vous sur france cinq nicolas sarkozy\",\n",
       "  'start_index': 172,\n",
       "  'end_index': 267,\n",
       "  'similarity_score': 0.789903998374939}]"
      ]
     },
     "execution_count": 125,
     "metadata": {},
     "output_type": "execute_result"
    }
   ],
   "source": [
    "result_df"
   ]
  },
  {
   "cell_type": "code",
   "execution_count": 107,
   "metadata": {},
   "outputs": [
    {
     "data": {
      "text/plain": [
       "\"pour faire réussir nos enfants dans quel monde on est dans deux mille vingt et un avec de l'éco anxiété avec avec un changement climatique ils pèsent sur nos vies avait un petit dernier pour la route c'était hier soir dans cette à vous sur france cinq nicolas sarkozy interrogé sur cette stupide polémique sur ses généreux donc de quelques-uns en faveur des restos du c'cur est la mission très aussi pour l'ancien président françois hollande se prend une balle perdue c'est la différence entre landes et moi et vous les moins de riches moi je terminer veux en moins merci de beaucoup pauvres zéro c'mme est begley terminé c'était merci votre beaucoup zapping politique zéro tous les matins sur europe un exercice je sais que ça vous plaît chers auditeurs vous hésitez pas vous réagissez sur les réseaux sociaux et on vous attend aussi à l'antenne zéro à quatre vingt trente neuf vingt et un jérôme à la semaine prochaine à la semaine prochaine voilà il est huit heures cinquante six l'heure de retrouver thomas ivre et oui pour culture médias et à la figure et vous recommande dans un instant bonjour on saura alors ce gros succès aussi pour l'émission avec louise bourgoin hyères effectivement on a eu une notre autre petit succès ça succès nous ça arrive nous parfois arrive parfois qu'est ce que vous regardez encore la télé dimitri je vous avoue que je la regarde en replay je choisis mes programmes voilà vous êtes comme les jeunes à cesser ces jeunes parce que les moins de vingt-cinq ans ils ont pris beaucoup d'autres habitudes alors on va se poser la question ce matin la question qui interroge tous les patrons de chaîne comment faire revenir les jeunes devant la télé devant leurs programmes et on sera avec l'un des animateurs les plus jeunes bailleurs et surtout les plus occupées en ce moment sur le service public cyril féraud public qui cyril encore féraud de qui nouveaux projets encore de nouveaux projets pour cette rentrée il nous racontera et à partir de dix heures on reçoit l'un de mes humoristes préférées je le dis baptiste lecaplain vous avez la même coupe de cheveux ça tombe bien et beaucoup de points communs l'ambiance était bon ben écoutez rendez vous est pris ça commence dans quelques instants culture médias sur europe un bon émission tome i la nissan vous allez la accompagné oui je vous dis à demain bonne journée à demain et puis voilà et puis bon on est un bon travail chers auditeurs à damas c'était de dimitri pavlenko il y a quelque chose demain vendredi thématique on va parler de la coupe du monde de rugby n'oubliez pas serge blanco\""
      ]
     },
     "execution_count": 107,
     "metadata": {},
     "output_type": "execute_result"
    }
   ],
   "source": [
    "not_exact_2.iloc[1]['text']"
   ]
  },
  {
   "cell_type": "code",
   "execution_count": null,
   "metadata": {},
   "outputs": [
    {
     "data": {
      "text/plain": [
       "'cétai'"
      ]
     },
     "execution_count": 111,
     "metadata": {},
     "output_type": "execute_result"
    }
   ],
   "source": [
    "quote[:len(quote.split()[:5])]"
   ]
  },
  {
   "cell_type": "code",
   "execution_count": 122,
   "metadata": {},
   "outputs": [],
   "source": [
    "# trouver l'indice des premiers mots \n",
    "#aux_df = not_exact_2.iloc[[1]]\n",
    "text = not_exact_2.iloc[1]['text']\n",
    "quote = not_exact_2.iloc[1]['quote']\n",
    "\n",
    "start_index = text.find(quote[:sum([len(v) for v in quote.split()[:5]])])\n",
    "end_index = start_index + len(quote)"
   ]
  },
  {
   "cell_type": "code",
   "execution_count": 123,
   "metadata": {},
   "outputs": [
    {
     "data": {
      "text/plain": [
       "\"...c'était hier soir dans c\""
      ]
     },
     "execution_count": 123,
     "metadata": {},
     "output_type": "execute_result"
    }
   ],
   "source": [
    "quote[:sum([len(v) for v in quote.split()[:5]])]"
   ]
  },
  {
   "cell_type": "code",
   "execution_count": 121,
   "metadata": {},
   "outputs": [
    {
     "data": {
      "text/plain": [
       "\"pour faire réussir nos enfants dans quel monde on est dans deux mille vingt et un avec de l'éco anxiété avec avec un changement climatique ils pèsent sur nos vies avait un petit dernier pour la route c'était hier soir dans cette à vous sur france cinq nicolas sarkozy interrogé sur cette stupide polémique sur ses généreux donc de quelques-uns en faveur des restos du c'cur est la mission très aussi pour l'ancien président françois hollande se prend une balle perdue c'est la différence entre landes et moi et vous les moins de riches moi je terminer veux en moins merci de beaucoup pauvres zéro c'mme est begley terminé c'était merci votre beaucoup zapping politique zéro tous les matins sur europe un exercice je sais que ça vous plaît chers auditeurs vous hésitez pas vous réagissez sur les réseaux sociaux et on vous attend aussi à l'antenne zéro à quatre vingt trente neuf vingt et un jérôme à la semaine prochaine à la semaine prochaine voilà il est huit heures cinquante six l'heure de retrouver thomas ivre et oui pour culture médias et à la figure et vous recommande dans un instant bonjour on saura alors ce gros succès aussi pour l'émission avec louise bourgoin hyères effectivement on a eu une notre autre petit succès ça succès nous ça arrive nous parfois arrive parfois qu'est ce que vous regardez encore la télé dimitri je vous avoue que je la regarde en replay je choisis mes programmes voilà vous êtes comme les jeunes à cesser ces jeunes parce que les moins de vingt-cinq ans ils ont pris beaucoup d'autres habitudes alors on va se poser la question ce matin la question qui interroge tous les patrons de chaîne comment faire revenir les jeunes devant la télé devant leurs programmes et on sera avec l'un des animateurs les plus jeunes bailleurs et surtout les plus occupées en ce moment sur le service public cyril féraud public qui cyril encore féraud de qui nouveaux projets encore de nouveaux projets pour cette rentrée il nous racontera et à partir de dix heures on reçoit l'un de mes humoristes préférées je le dis baptiste lecaplain vous avez la même coupe de cheveux ça tombe bien et beaucoup de points communs l'ambiance était bon ben écoutez rendez vous est pris ça commence dans quelques instants culture médias sur europe un bon émission tome i la nissan vous allez la accompagné oui je vous dis à demain bonne journée à demain et puis voilà et puis bon on est un bon travail chers auditeurs à damas c'était de dimitri pavlenko il y a quelque chose demain vendredi thématique on va parler de la coupe du monde de rugby n'oubliez pas serge blanco\""
      ]
     },
     "execution_count": 121,
     "metadata": {},
     "output_type": "execute_result"
    }
   ],
   "source": [
    "text"
   ]
  },
  {
   "cell_type": "code",
   "execution_count": 118,
   "metadata": {},
   "outputs": [
    {
     "data": {
      "text/plain": [
       "''"
      ]
     },
     "execution_count": 118,
     "metadata": {},
     "output_type": "execute_result"
    }
   ],
   "source": [
    "text[start_index:end_index]"
   ]
  },
  {
   "cell_type": "code",
   "execution_count": 89,
   "metadata": {},
   "outputs": [
    {
     "data": {
      "text/html": [
       "<div>\n",
       "<style scoped>\n",
       "    .dataframe tbody tr th:only-of-type {\n",
       "        vertical-align: middle;\n",
       "    }\n",
       "\n",
       "    .dataframe tbody tr th {\n",
       "        vertical-align: top;\n",
       "    }\n",
       "\n",
       "    .dataframe thead th {\n",
       "        text-align: right;\n",
       "    }\n",
       "</style>\n",
       "<table border=\"1\" class=\"dataframe\">\n",
       "  <thead>\n",
       "    <tr style=\"text-align: right;\">\n",
       "      <th></th>\n",
       "      <th>id</th>\n",
       "      <th>start</th>\n",
       "      <th>text</th>\n",
       "      <th>channel_name</th>\n",
       "      <th>channel_is_radio</th>\n",
       "      <th>channel_program_type</th>\n",
       "      <th>channel_program</th>\n",
       "      <th>themes</th>\n",
       "      <th>keywords</th>\n",
       "      <th>num_keywords</th>\n",
       "      <th>...</th>\n",
       "      <th>context</th>\n",
       "      <th>contradiction</th>\n",
       "      <th>disinformation_category</th>\n",
       "      <th>disinformation_score</th>\n",
       "      <th>pro_anti</th>\n",
       "      <th>quote</th>\n",
       "      <th>speaker</th>\n",
       "      <th>quote_in_text</th>\n",
       "      <th>m_quote</th>\n",
       "      <th>m_quote_in_text</th>\n",
       "    </tr>\n",
       "  </thead>\n",
       "  <tbody>\n",
       "    <tr>\n",
       "      <th>313</th>\n",
       "      <td>6c3bb9299d31332c644b54832399976117d28776c9e22c...</td>\n",
       "      <td>2023-09-07 08:56:00</td>\n",
       "      <td>pour faire réussir nos enfants dans quel monde...</td>\n",
       "      <td>europe1</td>\n",
       "      <td>True</td>\n",
       "      <td>Information - Magazine</td>\n",
       "      <td>L'heure des pros</td>\n",
       "      <td>[\"changement_climatique_constat\"]</td>\n",
       "      <td>[{\"keyword\": \"climatique\", \"timestamp\": 169406...</td>\n",
       "      <td>1</td>\n",
       "      <td>...</td>\n",
       "      <td>Le commentaire sur une polémique entre personn...</td>\n",
       "      <td>N/A</td>\n",
       "      <td>consensus</td>\n",
       "      <td>high</td>\n",
       "      <td>anti-écologie</td>\n",
       "      <td>...c'était hier soir dans cette à vous sur fra...</td>\n",
       "      <td>narrative</td>\n",
       "      <td>False</td>\n",
       "      <td>cétait hier soir dans cette à vous sur france ...</td>\n",
       "      <td>False</td>\n",
       "    </tr>\n",
       "  </tbody>\n",
       "</table>\n",
       "<p>1 rows × 23 columns</p>\n",
       "</div>"
      ],
      "text/plain": [
       "                                                    id               start  \\\n",
       "313  6c3bb9299d31332c644b54832399976117d28776c9e22c... 2023-09-07 08:56:00   \n",
       "\n",
       "                                                  text channel_name  \\\n",
       "313  pour faire réussir nos enfants dans quel monde...      europe1   \n",
       "\n",
       "     channel_is_radio    channel_program_type   channel_program  \\\n",
       "313              True  Information - Magazine  L'heure des pros   \n",
       "\n",
       "                                themes  \\\n",
       "313  [\"changement_climatique_constat\"]   \n",
       "\n",
       "                                              keywords  num_keywords  ...  \\\n",
       "313  [{\"keyword\": \"climatique\", \"timestamp\": 169406...             1  ...   \n",
       "\n",
       "                                               context contradiction  \\\n",
       "313  Le commentaire sur une polémique entre personn...           N/A   \n",
       "\n",
       "    disinformation_category disinformation_score       pro_anti  \\\n",
       "313               consensus                 high  anti-écologie   \n",
       "\n",
       "                                                 quote    speaker  \\\n",
       "313  ...c'était hier soir dans cette à vous sur fra...  narrative   \n",
       "\n",
       "    quote_in_text                                            m_quote  \\\n",
       "313         False  cétait hier soir dans cette à vous sur france ...   \n",
       "\n",
       "    m_quote_in_text  \n",
       "313           False  \n",
       "\n",
       "[1 rows x 23 columns]"
      ]
     },
     "execution_count": 89,
     "metadata": {},
     "output_type": "execute_result"
    }
   ],
   "source": [
    "not_exact_2.iloc[[1]]"
   ]
  },
  {
   "cell_type": "code",
   "execution_count": 73,
   "metadata": {},
   "outputs": [
    {
     "name": "stdout",
     "output_type": "stream",
     "text": [
      "('cétait hier soir dans cette à vous sur france cinq nicolas sarkozy interrogé '\n",
      " 'sur cette stupide polémique')\n",
      "('Le changement climatique est traité comme une simple polémique par des '\n",
      " 'personnalités politiques.')\n",
      "('pour faire réussir nos enfants dans quel monde on est dans deux mille vingt '\n",
      " \"et un avec de l'éco anxiété avec avec un changement climatique ils pèsent \"\n",
      " \"sur nos vies avait un petit dernier pour la route c'était hier soir dans \"\n",
      " 'cette à vous sur france cinq nicolas sarkozy interrogé sur cette stupide '\n",
      " 'polémique sur ses généreux donc de quelques-uns en faveur des restos du '\n",
      " \"c'cur est la mission très aussi pour l'ancien président françois hollande se \"\n",
      " \"prend une balle perdue c'est la différence entre landes et moi et vous les \"\n",
      " 'moins de riches moi je terminer veux en moins merci de beaucoup pauvres zéro '\n",
      " \"c'mme est begley terminé c'était merci votre beaucoup zapping politique zéro \"\n",
      " 'tous les matins sur europe un exercice je sais que ça vous plaît chers '\n",
      " 'auditeurs vous hésitez pas vous réagissez sur les réseaux sociaux et on vous '\n",
      " \"attend aussi à l'antenne zéro à quatre vingt trente neuf vingt et un jérôme \"\n",
      " 'à la semaine prochaine à la semaine prochaine voilà il est huit heures '\n",
      " \"cinquante six l'heure de retrouver thomas ivre et oui pour culture médias et \"\n",
      " 'à la figure et vous recommande dans un instant bonjour on saura alors ce '\n",
      " \"gros succès aussi pour l'émission avec louise bourgoin hyères effectivement \"\n",
      " 'on a eu une notre autre petit succès ça succès nous ça arrive nous parfois '\n",
      " \"arrive parfois qu'est ce que vous regardez encore la télé dimitri je vous \"\n",
      " 'avoue que je la regarde en replay je choisis mes programmes voilà vous êtes '\n",
      " 'comme les jeunes à cesser ces jeunes parce que les moins de vingt-cinq ans '\n",
      " \"ils ont pris beaucoup d'autres habitudes alors on va se poser la question ce \"\n",
      " 'matin la question qui interroge tous les patrons de chaîne comment faire '\n",
      " 'revenir les jeunes devant la télé devant leurs programmes et on sera avec '\n",
      " \"l'un des animateurs les plus jeunes bailleurs et surtout les plus occupées \"\n",
      " 'en ce moment sur le service public cyril féraud public qui cyril encore '\n",
      " 'féraud de qui nouveaux projets encore de nouveaux projets pour cette rentrée '\n",
      " \"il nous racontera et à partir de dix heures on reçoit l'un de mes humoristes \"\n",
      " 'préférées je le dis baptiste lecaplain vous avez la même coupe de cheveux ça '\n",
      " \"tombe bien et beaucoup de points communs l'ambiance était bon ben écoutez \"\n",
      " 'rendez vous est pris ça commence dans quelques instants culture médias sur '\n",
      " 'europe un bon émission tome i la nissan vous allez la accompagné oui je vous '\n",
      " 'dis à demain bonne journée à demain et puis voilà et puis bon on est un bon '\n",
      " \"travail chers auditeurs à damas c'était de dimitri pavlenko il y a quelque \"\n",
      " 'chose demain vendredi thématique on va parler de la coupe du monde de rugby '\n",
      " \"n'oubliez pas serge blanco\")\n"
     ]
    }
   ],
   "source": [
    "pprint.pprint(not_exact_2.iloc[1].m_quote)\n",
    "pprint.pprint(not_exact_2.iloc[1].claim)\n",
    "pprint.pprint(not_exact_2.iloc[1].text)"
   ]
  },
  {
   "cell_type": "code",
   "execution_count": null,
   "metadata": {},
   "outputs": [],
   "source": [
    "# diff entre les deux textes\n"
   ]
  },
  {
   "cell_type": "code",
   "execution_count": null,
   "metadata": {},
   "outputs": [
    {
     "data": {
      "text/plain": [
       "'il y a par exemple le giec transhumaniste qui trimballe un pantalon chaise'"
      ]
     },
     "execution_count": 53,
     "metadata": {},
     "output_type": "execute_result"
    }
   ],
   "source": [
    "# remove \n",
    "res = re.sub(r'[^\\w\\s]', '', not_exact.iloc[0].quote)\n",
    "res"
   ]
  },
  {
   "cell_type": "code",
   "execution_count": 51,
   "metadata": {},
   "outputs": [
    {
     "name": "stdout",
     "output_type": "stream",
     "text": [
      "'il y a par exemple le giec transhumaniste qui trimballe un pantalon chaise.'\n",
      "'La mention du GIEC comme un \"transhumaniste\".'\n",
      "(\"salle d'attente il y a toutes les classes rageant tous les âges toutes les \"\n",
      " 'origines vraiment tout dire tout le monde dans cette salle vous avez une '\n",
      " \"question euh dimitris c'est terrible c'est le caucus de l'histoire ces ronal \"\n",
      " \"que vous venez d'entendre il n'est pas au bout de ses surprises à ce \"\n",
      " \"moment-là ils ignorent totalement qu'il est victime d'une gigantesque \"\n",
      " 'caméras cachées qui a duré douze jours mêlant se moque de lui en regardant '\n",
      " \"la série non justement c'est hilarant parce que les situations sont \"\n",
      " 'improbables déjà les jurés sont confinés pendant dix jours dans dix un jours '\n",
      " \"hôtel dans ce un qui hôtel n'ce arrivent jamais qui dans n'la arrivent \"\n",
      " 'réalité jamais dans la réalité et on sait que le procès en question oppose '\n",
      " \"la directrice d'une marque de vêtements à un ouvrier qui auraient uriné sur \"\n",
      " \"ces t-shirts à l'usine toutes les personnages sont sympas mais très bizarre \"\n",
      " 'il y a par exemple le giec transhumaniste qui trimballe un pantalon chaise '\n",
      " \"qui lui permet de s'asseoir quand il se pratique si l'avocat qui n'a pas \"\n",
      " \"bien compris qu'ils devaient défendre ou encore jeannie la nymphomane \"\n",
      " 'anti-système et pas très intellos une anarchiste je crois pas aux règles '\n",
      " \"j'aime pas les systèmes gouvernementaux cela montre que d'un autre côté je \"\n",
      " 'suis quand même assez bons love ronald la nôtre cocu comment il réagit quand '\n",
      " \"il a compris qu'il avait été piégé quand même et bae bien parce que je vous \"\n",
      " \"le disais la série ne se moque jamais de lui c'est bienveillant ronald est \"\n",
      " 'vraiment attachant il prend son rôle de jurée très à cur et puis je vous dis '\n",
      " \"pas que ça met une très belle récompense l'attend à la magnifique réconfort \"\n",
      " \"si vous cherchez des victimes de caméras cachées serait j'représente ai \"\n",
      " 'cherché mais je ne vois aucune vois bonne aucune raison bonne de raison ne '\n",
      " \"pas regarder cette série je vous assure vous n'en avais jamais vu une comme \"\n",
      " \"celle là voilà jury duty huit épisodes de trente minutes en plus c'est \"\n",
      " \"rapide c'est sur prime video la plateforme d'amazon merci beaucoup héloïse \"\n",
      " 'nicolas vincent à demain les amis pour de nouvelles découvertes dans moins '\n",
      " 'de dix minutes sur europe un journal de huit heures nous rendrons à lyon '\n",
      " \"dans le quartier de la duchère devant l'un des lycées les plus touchées \"\n",
      " \"depuis deux ans par le phénomène de l'abaya pour leur sur europe un à sept \"\n",
      " 'heures cinquante et un le journal permanent huit cents migrants ont traversé '\n",
      " 'la manche')\n"
     ]
    }
   ],
   "source": [
    "pprint.pprint(not_exact.iloc[0].quote)\n",
    "pprint.pprint(not_exact.iloc[0].claim)\n",
    "pprint.pprint(not_exact.iloc[0].text)"
   ]
  },
  {
   "cell_type": "code",
   "execution_count": null,
   "metadata": {},
   "outputs": [],
   "source": [
    "# comparaison de deux textes \n",
    "from difflib import HtmlDiff\n",
    "\n",
    "text1 = \"\"\"Bonjour, je m'appelle ChatGPT.\"\"\"\n",
    "text2 = \"\"\"Bonjour, je m'appelle ChatGPT, enchanté !\"\"\"\n",
    "\n",
    "html_diff = HtmlDiff()\n",
    "html_result = html_diff.make_file(text1.splitlines(), text2.splitlines())\n",
    "\n",
    "# Sauvegarder le résultat dans un fichier HTML\n",
    "with open(\"diff.html\", \"w\") as file:\n",
    "    file.write(html_result)\n",
    "\n",
    "print(\"Différence générée dans 'diff.html'\")"
   ]
  },
  {
   "cell_type": "code",
   "execution_count": 62,
   "metadata": {},
   "outputs": [
    {
     "data": {
      "text/plain": [
       "id                         e57e39657004072e5f998d19e6a8a952ee8f35923b9072...\n",
       "start                                                    2023-09-04 07:50:00\n",
       "text                       salle d'attente il y a toutes les classes rage...\n",
       "channel_name                                                         europe1\n",
       "channel_is_radio                                                        True\n",
       "channel_program_type                                  Information - Magazine\n",
       "channel_program                                               Europe 1 Matin\n",
       "themes                     [\"changement_climatique_causes\", \"changement_c...\n",
       "keywords                   [{\"keyword\": \"giec\", \"timestamp\": 169380664205...\n",
       "num_keywords                                                               2\n",
       "num_tokens                                                               554\n",
       "analysis                   Cette allégation semble utiliser le terme 'tra...\n",
       "claim                          La mention du GIEC comme un \"transhumaniste\".\n",
       "context                    Dans un extrait de programme où différents per...\n",
       "contradiction                                                            N/A\n",
       "disinformation_category                                            consensus\n",
       "disinformation_score                                                    high\n",
       "pro_anti                                                       anti-écologie\n",
       "quote                      il y a par exemple le giec transhumaniste qui ...\n",
       "speaker                                                            narrative\n",
       "quote_in_text                                                          False\n",
       "Name: 87, dtype: object"
      ]
     },
     "execution_count": 62,
     "metadata": {},
     "output_type": "execute_result"
    }
   ],
   "source": [
    "df_claims.loc[87]"
   ]
  },
  {
   "cell_type": "code",
   "execution_count": null,
   "metadata": {},
   "outputs": [],
   "source": [
    "system_prompt_v0 = '''\n",
    "    L'utilisateur fournira un extrait de 2 minutes d'une émission de télévision ou de radio, accompagné d'une citation tirée de cette transcription.\n",
    "    La transcription sera phonétique, sans ponctuation, et pourra contenir des erreurs (vocabulaire incorrect, mauvais découpage).\n",
    "    \n",
    "    Tâche principale : \n",
    "        Corrige le texte pour le rendre en français correct, en reformulant les phrases lorsqu'elles n'ont pas de sens, tout en respectant la phonétique.\n",
    "        Si des nombres apparaissent sous forme de texte, transforme-les en chiffres (par exemple, \"quatre-vingt\" devient 80).\n",
    "        Crée des paragraphes lorsque plusieurs sujets sont abordés dans le même transcript.\n",
    "    \n",
    "    Exceptions :\n",
    "        Dans le texte, ne modifie pas la citation fournie par l'utilisateur, même si elle comporte des erreurs. La citation (quote) doit rester identique à ce qui est donné.\n",
    "        \n",
    "    Exemple :\n",
    "        Text : elles doivent donc être renouvelés et sané col débuts en europe. \n",
    "        Quote : elles doivent donc être renouvelés\n",
    "        Correction : elles doivent donc être renouvelés, et ce n'est que le début en Europe.\n",
    "\n",
    "        Tu ne retournes que la correction, contenant la citation identique à ce qui a été fourni. \n",
    "\n",
    "    Rappel : Concentre-toi sur la correction de la transcription tout en maintenant la citation intacte et en appliquant les règles concernant les nombres.\n",
    "'''"
   ]
  },
  {
   "cell_type": "code",
   "execution_count": 64,
   "metadata": {},
   "outputs": [
    {
     "name": "stdout",
     "output_type": "stream",
     "text": [
      "(\"Salle d'attente, il y a toutes les classes, toutes les origines, vraiment \"\n",
      " 'tout le monde dans cette salle. Vous avez une question, euh, Dimitris ? '\n",
      " \"C'est terrible, c'est le cauchemar de l'histoire. Ce Ronald que vous venez \"\n",
      " \"d'entendre n'est pas au bout de ses surprises. À ce moment-là, ils ignorent \"\n",
      " \"totalement qu'il est victime d'une gigantesque caméra cachée qui a duré 12 \"\n",
      " \"jours. Mêlant se moque de lui en regardant la série, non, justement, c'est \"\n",
      " 'hilarant parce que les situations sont improbables. Déjà, les jurés sont '\n",
      " \"confinés pendant 10 jours dans un hôtel, ce qui n'arrive jamais dans la \"\n",
      " \"réalité. Et on sait que le procès en question oppose la directrice d'une \"\n",
      " 'marque de vêtements à un ouvrier qui aurait uriné sur ces t-shirts à '\n",
      " \"l'usine. Toutes les personnages sont sympas mais très bizarres. Il y a, par \"\n",
      " 'exemple, le GIEC transhumaniste qui trimballe un pantalon-chaise qui lui '\n",
      " \"permet de s'asseoir quand il le souhaite. Si l'avocat qui n'a pas bien \"\n",
      " \"compris qu'il devait défendre, ou encore Jeannie, la nymphomane anti-système \"\n",
      " \"et pas très intellectuelle, une anarchiste, je crois pas aux règles, j'aime \"\n",
      " \"pas les systèmes gouvernementaux. Cela montre que, d'un autre côté, je suis \"\n",
      " 'quand même assez bon. Love Ronald, la nôtre, comment il réagit quand il a '\n",
      " \"compris qu'il avait été piégé ? Quand même, et bien, parce que je vous le \"\n",
      " \"disais, la série ne se moque jamais de lui, c'est bienveillant. Ronald est \"\n",
      " 'vraiment attachant, il prend son rôle de jurée très à cœur. Et puis, je vous '\n",
      " \"dis pas que ça met une très belle récompense qui l'attend à la fin. Si vous \"\n",
      " \"cherchez des victimes de caméras cachées, je représente, j'ai cherché, mais \"\n",
      " 'je ne vois aucune bonne raison de ne pas regarder cette série. Je vous '\n",
      " 'assure, vous n\\'en avez jamais vu une comme celle-là. Voilà, \"Jury Duty\", 8 '\n",
      " \"épisodes de 30 minutes. En plus, c'est rapide, c'est sur Prime Video, la \"\n",
      " \"plateforme d'Amazon. Merci beaucoup, Héloïse, Nicolas, Vincent. À demain, \"\n",
      " 'les amis, pour de nouvelles découvertes. Dans moins de 10 minutes, sur '\n",
      " 'Europe 1, à 7 heures 50, le journal permanent. 800 migrants ont traversé la '\n",
      " 'Manche.')\n"
     ]
    }
   ],
   "source": [
    "system_prompt = '''\n",
    "    L'utilisateur fournira un extrait de 2 minutes d'une émission de télévision ou de radio accompagné d'une citation tirée de la transcription.\n",
    "\n",
    "    **Tâche principale** :\n",
    "    1. Corrigez la transcription pour la rendre en français correct, en reformulant les phrases pour leur donner du sens si nécessaire, tout en respectant la phonétique.\n",
    "    4. Supprime les répétitions inutiles (ex. \"l'vu ai je vu l'je ai l'vu ai\" devient \"je l'ai vu\").\n",
    "    2. Transformez les nombres écrits en toutes lettres dans le texte en chiffres (ex. \"quatre-vingt\" devient 80).\n",
    "    3. Divisez le texte en paragraphes si plusieurs sujets sont abordés.\n",
    "\n",
    "    **Exception** :\n",
    "    - Ne modifiez pas la citation fournie par l'utilisateur, même si elle contient des erreurs. La citation (quote) doit rester identique dans le texte corrigé.\n",
    "\n",
    "    **Exemple** :\n",
    "    - Texte : elles doivent donc être renouvelés et sané col débuts en europe.  \n",
    "    - Citation : elles doivent donc être renouvelés  \n",
    "    - Correction : elles doivent donc être renouvelés, et ce n'est que le début en Europe.\n",
    "\n",
    "    Retournez uniquement le texte corrigé, avec la citation inchangée.\n",
    "'''\n",
    "\n",
    "correction = await correct_text(df_claims.loc[87].text, df_claims.loc[87].claim)\n",
    "pprint.pprint(correction)"
   ]
  },
  {
   "cell_type": "code",
   "execution_count": null,
   "metadata": {},
   "outputs": [
    {
     "data": {
      "text/plain": [
       "\"salle d'attente il y a toutes les classes rageant tous les âges toutes les origines vraiment tout dire tout le monde dans cette salle vous avez une question euh dimitris c'est terrible c'est le caucus de l'histoire ces ronal que vous venez d'entendre il n'est pas au bout de ses surprises à ce moment-là ils ignorent totalement qu'il est victime d'une gigantesque caméras cachées qui a duré douze jours mêlant se moque de lui en regardant la série non justement c'est hilarant parce que les situations sont improbables déjà les jurés sont confinés pendant dix jours dans dix un jours hôtel dans ce un qui hôtel n'ce arrivent jamais qui dans n'la arrivent réalité jamais dans la réalité et on sait que le procès en question oppose la directrice d'une marque de vêtements à un ouvrier qui auraient uriné sur ces t-shirts à l'usine toutes les personnages sont sympas mais très bizarre il y a par exemple le giec transhumaniste qui trimballe un pantalon chaise qui lui permet de s'asseoir quand il se pratique si l'avocat qui n'a pas bien compris qu'ils devaient défendre ou encore jeannie la nymphomane anti-système et pas très intellos une anarchiste je crois pas aux règles j'aime pas les systèmes gouvernementaux cela montre que d'un autre côté je suis quand même assez bons love ronald la nôtre cocu comment il réagit quand il a compris qu'il avait été piégé quand même et bae bien parce que je vous le disais la série ne se moque jamais de lui c'est bienveillant ronald est vraiment attachant il prend son rôle de jurée très à cur et puis je vous dis pas que ça met une très belle récompense l'attend à la magnifique réconfort si vous cherchez des victimes de caméras cachées serait j'représente ai cherché mais je ne vois aucune vois bonne aucune raison bonne de raison ne pas regarder cette série je vous assure vous n'en avais jamais vu une comme celle là voilà jury duty huit épisodes de trente minutes en plus c'est rapide c'est sur prime video la plateforme d'amazon merci beaucoup héloïse nicolas vincent à demain les amis pour de nouvelles découvertes dans moins de dix minutes sur europe un journal de huit heures nous rendrons à lyon dans le quartier de la duchère devant l'un des lycées les plus touchées depuis deux ans par le phénomène de l'abaya pour leur sur europe un à sept heures cinquante et un le journal permanent huit cents migrants ont traversé la manche\""
      ]
     },
     "execution_count": 63,
     "metadata": {},
     "output_type": "execute_result"
    }
   ],
   "source": [
    "correction"
   ]
  },
  {
   "cell_type": "code",
   "execution_count": 7,
   "metadata": {},
   "outputs": [],
   "source": [
    "contradictions = df_claims[df_claims.contradiction != 'N/A']"
   ]
  },
  {
   "cell_type": "code",
   "execution_count": 14,
   "metadata": {},
   "outputs": [],
   "source": [
    "async def correct_text(\n",
    "        text: str, quote: str, system_prompt: str=system_prompt, tpm_limit: int=2e6\n",
    "    ):\n",
    "    content = \"Texte: {}, Citation: {}\" .format(text, quote)\n",
    "    if model==\"gpt-4o-mini\":\n",
    "        encoding = tiktoken.encoding_for_model(model)\n",
    "        prompt_tokens = len(encoding.encode(system_prompt))\n",
    "        text_tokens = len(encoding.encode(content))\n",
    "        total_tokens = prompt_tokens + text_tokens\n",
    "        wait_time_s = 60 * total_tokens / tpm_limit\n",
    "        await asyncio.sleep(wait_time_s)\n",
    "    else:\n",
    "        await asyncio.sleep(60 * 50 / tpm_limit)\n",
    "    \n",
    "    response = await client.beta.chat.completions.parse(\n",
    "        model=model,\n",
    "        messages=[\n",
    "            {\"role\": \"system\", \"content\": system_prompt},\n",
    "            {\"role\": \"user\", \"content\": content},\n",
    "        ],\n",
    "        temperature=0,\n",
    "    )\n",
    "    return response.choices[0].message.content\n",
    "\n",
    "async def run_correction(texts: list[str], quotes: list[str]):\n",
    "    semaphore = asyncio.Semaphore(10)\n",
    "    \n",
    "    async def bounded_detect_claim(text, quote):\n",
    "        async with semaphore:\n",
    "            return await correct_text(text, quote)\n",
    "    \n",
    "    correction = await tqdm.gather(*[bounded_detect_claim(text, quote) for text, quote in zip(texts, quotes)])\n",
    "    return correction"
   ]
  },
  {
   "cell_type": "code",
   "execution_count": 22,
   "metadata": {},
   "outputs": [
    {
     "data": {
      "text/plain": [
       "883    Les déplacements en voiture sont la seule solu...\n",
       "Name: quote, dtype: object"
      ]
     },
     "execution_count": 22,
     "metadata": {},
     "output_type": "execute_result"
    }
   ],
   "source": [
    "contradictions.iloc[:1].quote"
   ]
  },
  {
   "cell_type": "code",
   "execution_count": 27,
   "metadata": {},
   "outputs": [
    {
     "data": {
      "text/plain": [
       "array(['Les déplacements en voiture sont la seule solution viable pour la mobilité.',\n",
       "       'on ne peut pas faire le lien directement avec le réchauffement'],\n",
       "      dtype=object)"
      ]
     },
     "execution_count": 27,
     "metadata": {},
     "output_type": "execute_result"
    }
   ],
   "source": [
    "contradictions.iloc[:2].quote.values"
   ]
  },
  {
   "cell_type": "code",
   "execution_count": 45,
   "metadata": {},
   "outputs": [
    {
     "data": {
      "text/plain": [
       "\"l'effet de levier est un concept utilisé en comptabilité\""
      ]
     },
     "execution_count": 45,
     "metadata": {},
     "output_type": "execute_result"
    }
   ],
   "source": [
    "t = \"l'effet de levier est un concept utilisé en comptabilité \"\n",
    "t.strip()"
   ]
  },
  {
   "cell_type": "code",
   "execution_count": 41,
   "metadata": {},
   "outputs": [
    {
     "name": "stdout",
     "output_type": "stream",
     "text": [
      "('Voici la correction du texte :\\n'\n",
      " '\\n'\n",
      " '883     La conserve de 385 grammes...\\n'\n",
      " '1812    Le réchauffement climatique, la collecte de Grenoble...\\n'\n",
      " \"2612    Oui, j'utilise des pesticides, alors pour savoir...\\n\"\n",
      " '2728    Littoraux, donc pour trouver du soleil, vous allez...\\n'\n",
      " '2778    Réseaux sociaux, et je vous vois piloter des hélicoptères...\\n'\n",
      " '2878    Six seize, les actions qui ont commencé à vérifier...\\n'\n",
      " '3125    Le lendemain, et le lendemain du surlendemain...\\n'\n",
      " '3167    Font pour nous, pour nous spécialement, pauvres types...\\n'\n",
      " \"4004    Et aujourd'hui, on se retrouve à construire des...\\n\"\n",
      " \"4072    Ce fameux pot de yaourt, pour savoir ce qu'il devient...\\n\"\n",
      " '\\n'\n",
      " \"Notez que la citation fournie n'a pas été modifiée, même si elle comporte \"\n",
      " 'des erreurs. La citation doit rester identique à ce qui est donné.')\n"
     ]
    }
   ],
   "source": [
    "correction = await correct_text(contradictions.iloc[:10].text, contradictions.iloc[:10].quote)\n",
    "pprint.pprint(correction)"
   ]
  },
  {
   "cell_type": "code",
   "execution_count": null,
   "metadata": {},
   "outputs": [
    {
     "name": "stdout",
     "output_type": "stream",
     "text": [
      "('Voici les corrections du texte :\\n'\n",
      " '\\n'\n",
      " '\"La conserve de 385 grammes coûte 2,23 euros le kilo. Délicieuse, elle est '\n",
      " \"égale à délicieux pour votre santé. Bougez plus, à l'intention de notre très \"\n",
      " 'chère cliente, propriétaire de la Toyota AGO Cross. Vous pouvez la déplacer '\n",
      " \"vers les caméras de surveillance, car j'aimerais bien l'admirer de plus près \"\n",
      " \"sur les écrans. Merci d'avance. Découvrez la Toyota Yaris Cross, le \"\n",
      " 'crossover urbain, à partir de 119 euros par mois. Entretien clé Toyota Yaris '\n",
      " 'Cross dynamique LLD, 37 mois, 30 000 km. Premier loyer, 3 969 euros. Cent '\n",
      " 'réservée soixante-dix aux euros particuliers, réservée aux particuliers sous '\n",
      " \"conditions de reprise et commande jusqu'au 25 septembre. Détaillez sur \"\n",
      " 'Toyota.fr. Portes ouvertes ce week-end. Pensez à covoiturer. Écoutez Europe '\n",
      " '1 partout, dès maintenant en DAB+, entre Paris et Marseille sans changer de '\n",
      " \"fréquence, et bientôt dans toute la France. Europe 1, toute l'actualité, \"\n",
      " 'débat, cédant, punchline, à tout de suite sur Europe 1.\\n'\n",
      " '\\n'\n",
      " 'Klein, 18 heures, 19 heures, Laurence Ferrari sur Europe 1. « Une nouvelle '\n",
      " \"voiture, vraiment dire que c'est une voiture, c'est une véritable œuvre \"\n",
      " \"d'art aux lignes et courbes s'entremêlent dans un déluge coloriage. » Oui, \"\n",
      " 'oui, oui, Citroën C3, laisse, il est enfin accessible. Mène, en fait, pas '\n",
      " 'trop, quand même. Citroën C3, à partir de 99 euros par mois, à 4 ans de '\n",
      " 'garantie et assistance. Faites portes ouvertes ce week-end. Citroën, 48 mm, '\n",
      " \"à 48 km. Premier loyer de 3 500 euros. Offre particulier jusqu'au 30 \"\n",
      " \"septembre, sous réserve d'acceptation crédit. Détaillez sur Citroën.fr.\\n\"\n",
      " '\\n'\n",
      " 'Selon Point Réseau.fr, les participants aux trajets pour courts privilégient '\n",
      " 'la marche ou le vélo. Et voilà que maman et les chats told, elle peut lire '\n",
      " 'les paroles karaoké, mais voilà, mais pour une vision précise de près comme '\n",
      " \"de loin, découvrez les verts Varie Luxe d'Essilor, cent pour cent français. \"\n",
      " \"Votre opticien, Atol, dispositif médical, c'est un demander conseil à votre \"\n",
      " 'opticien. Prenez, parlons technologies électriques, parlons de Renault '\n",
      " 'Mégane, hi-tech, cent pour cent électriques, assemblés en France, à Douai. '\n",
      " 'Des trois cents euros par mois, bornes de recharge est installé.\\n'\n",
      " '\\n'\n",
      " 'Climatique, le réchauffement, collecte de Grenoble de glaciologues, on '\n",
      " \"mesurait, quand même, à 4 300 mètres d'altitude, qui ont fait un forage, \"\n",
      " \"c'est-à-dire que sous le Mont-Blanc, à 7 300 mètres, 500 mètres plus bas, et \"\n",
      " 'dans ce forage, il a été mesurée, soixante mètres de neige est en dessous, '\n",
      " \"donc à peu près, voilà, cent quatre-vingts maître de glace, c'est-à-dire de \"\n",
      " 'la neige imperméable, il a été, il a été foré, est en à 80 moins 14, onze '\n",
      " 'degrés ont à été soixante moins mètres onze de degrés profondeur. '\n",
      " \"Aujourd'hui, ça s'est réchauffée de deux degrés, on est à moins neuf degrés, \"\n",
      " 'on a 4 300 mètres à soixante mètres de profondeur dans la neige, et donc, il '\n",
      " \"y a quand même un réchauffement de ses effrois d'altitude. Et donc, le loup \"\n",
      " \"blanc, on n'a pas de thermomètre en permanence planté dans le Mont-Blanc, et \"\n",
      " 'si on est à moins quinze degrés, température moyenne, peut-être que '\n",
      " \"aujourd'hui on est à moins quatorze virgule cinq, au moins quatorze, euh, en \"\n",
      " \"effet, mais ça, ça reste froid, mais, mais cela dit, c'est vrai que tout est \"\n",
      " \"perturbée sur terre, y compris les calottes glaciaires. J'ai la chance de \"\n",
      " 'travailler au Groenland et en Antarctique, généralement, donc on voit que '\n",
      " 'partout, même les glaciers froid, les calottes glaciaires, les sommets, '\n",
      " 'voilà, son sont perturbés, mais on ne peut pas faire le lien directement '\n",
      " \"avec le réchauffement. Il y a pas de fond, en tout cas, d'accord, belge \"\n",
      " \"joué, que dans quelques dizaines d'années, le Mont-Blanc froid va se \"\n",
      " \"réchauffer aussi, un tous, toutou, tout se réchauffe, voilà, c'est bon, est \"\n",
      " \"pour non, laquelle on essaye de limiter tout ça, c'est ça, en fait, pour \"\n",
      " \"l'instant, on est encore relativement tranquille, mais ça ne va peut-être \"\n",
      " \"pas durer. Je vous remercie beaucoup, Luc Moreau, glaciologue, merci d'avoir \"\n",
      " 'été en direct sur Europe 1, depuis Chamonix, et à très bientôt, Europe 1.\\n'\n",
      " '\\n'\n",
      " 'Merci à tous de nous avoir suivis sur Europe 1. Rendez-vous demain pour un '\n",
      " 'nouvel Europa Soir, excellente soirée, avec la France Bouge, présenté par '\n",
      " 'Elisabeth Assayag. Bonsoir, Elisabeth, quel est le programme ? Bonsoir, '\n",
      " \"Hélène, si je vous dis trente millions d'amis et Mabrouk, je suis sûr...\\n\"\n",
      " '\\n'\n",
      " \"Oui, j'utilise des pesticides, alors, pour savoir, quand même, que on est \"\n",
      " 'très, très encadrée en France, dont il faisait des pesticides, euh, on a des '\n",
      " \"contrôles, on est obligé d'avoir dix artistes ito pour mettre ces produits \"\n",
      " \"là, et puis, s'est produit là, on les met à des doses minimes, eux qui sont \"\n",
      " \"autorisés par l'État, donc, faut savoir que la France, on a les douze minime \"\n",
      " \"par rapport aux pays autres d'Europe, par exemple, on a des produits qui \"\n",
      " \"sont interdits en France, mais par contre, on importe des céréales ou s'est \"\n",
      " \"produit là, son autorité, et le, donc, problème, euh, le problème, c'est que \"\n",
      " 'la variable barrière chez les agriculteurs est de dire, nous, en France, on '\n",
      " 'a des normes, les autres ne les ont pas, et ces nouvelles arrivées qui '\n",
      " \"sommes les victimes, j'entends, ça parfois, et voilà, et vous avez des pays \"\n",
      " \"très limitrophes, un, vous avez la Belgique, la Hollande, l'Espagne, d'e des \"\n",
      " 'pays comme la betterave, par exemple, sur des betteraves sucrières, je '\n",
      " 'crois, ou les détruire, les arrières, vous avez aussi, on parlait du '\n",
      " 'glyphosate, vous avez le glyphosate, voulus, utilisé, par exemple, du '\n",
      " 'glyphosate en Angleterre, en Angleterre, avant, comments de moissonner, '\n",
      " 'commandes, humblet, y moissonner, mette, humblet, du, y, glyphosate, mettre, '\n",
      " \"en français, interdit, aujourd'hui, on est une chose est sûre, des céréales, \"\n",
      " \"euh, mais, euh, avant d'implanter la culture, donc, euh, techniquement, il \"\n",
      " \"n'y a pas de résidus, si vous retrouver des résidus, ben, oui, parce que on \"\n",
      " \"importe de la production qui n'est pas aux normes françaises. Donc, avant de \"\n",
      " \"staps de se taper une une balle dans le pied, je pense qu'il faut qu'on met \"\n",
      " \"tout le monde en harmonie et dire, d'accord, peut-être que le glyphosate, \"\n",
      " \"sur un aliment, c'est pas bon, mais si on l'utilise dans l'essonne, dont \"\n",
      " \"est-il, dans s'les est sols, pas, ne, bon, sont, dans, pas, les bons sols, \"\n",
      " 'dans, non, les plus sols, pour, non, la plus bière, pour la biodiversité, '\n",
      " \"c'est une catastrophe, le moment, on en retrouve, pour le moment, on se \"\n",
      " \"trouve pas, le glyphosate, dans les salles, d'un souci, de glyphosate, dans \"\n",
      " 'les cellules, le montre, non, mais, le problème, monsieur Hugo Clément, '\n",
      " \"c'est que vous travaillez avec des études, mais vous ne travaillez pas sur \"\n",
      " \"le terrain, et voir les agriculteurs, allant, je peux vous répondre, c'est \"\n",
      " 'dommage, je vais répondre, tout de suite, après la pause.\\n'\n",
      " '\\n'\n",
      " 'Douze, je passe ma vie sur le terrain, regarder les émissions, on passe '\n",
      " 'notre vie avec des agriculteurs, notamment avec des agriculteurs qui '\n",
      " 'défendent, qui dénoncent.\\n'\n",
      " '\\n'\n",
      " 'Littoraux, donc, pour trouver du soleil, vous allez au sud, exactement, '\n",
      " \"demain, au sud d'une ligne Bordeaux-Aurillac-Lyon, un ciel généralement \"\n",
      " 'clairs, voilés, mais en tout cas, une atmosphère agréable, ensoleillée, avec '\n",
      " \"juste du vent d'autan, en plaine toulousaine, jusqu'à cinquante km en \"\n",
      " 'rafale, et puis, donc, les températures contrasté, demain, entre treize et '\n",
      " 'dix-sept, au nord, sous la pluie, sept à vingt-deux, voire vingt-quatre, '\n",
      " 'dans le sud, sous le soleil, vingt-quatre, ce sera pour Bastia, vingt-deux, '\n",
      " 'à Marseille, et Nice, vingt, à Bordeaux, et Toulouse, il fera dix-sept, à '\n",
      " 'Nantes, seize, à Paris, quinze, à Lille, et Strasbourg, treize, à Londres, '\n",
      " 'ça reste quand même doux, pour la saison. Saison, merci, Anthony Kaczmarek. '\n",
      " 'Chez Aldi, nos pains et viennoiseries sont cuits dans nos magasins, tout au '\n",
      " 'long de la journée. Tous nos engagements qualité sur Aldi.fr. Aldi, place un '\n",
      " 'nouveau consommateur, pour votre santé, bougez plus. Dix-neuf heures, sur '\n",
      " \"Europe 1, dans un instant, les GTA, les Grands Témoins de l'actualité, du \"\n",
      " \"vendredi, et aujourd'hui, Son Excellence, Raphaël Morave, chargé d'affaires \"\n",
      " \"d'Israël, en France, a tout de suite, sur Europe 1. Europe 1, Soir, \"\n",
      " 'Week-end, MMA, Business, Entreprises, je suis avec Franck, dirigeant, Franc, '\n",
      " \"d'une direct, entreprise de réparation d'électroménager, son élévateurs, est \"\n",
      " \"en panne, activités, à l'arrêt, chiffre d'affaires, en danger, non, grâce à \"\n",
      " \"la garantie, Bride, Machine, MMA, j'ai été vite indemnisé, et j'ai pu \"\n",
      " \"changer l'élévateur, sans impacter, la trésorerie, zéro tracas, en ce \"\n",
      " \"moment, cinquante pour cent, offerts, sur l'assurance, dirigeant, jusqu'au \"\n",
      " '25 novembre, deux mille vingt-trois, mois, cinquante pour cent, sur la '\n",
      " 'première cotisation annuelle, conditions, en agence.\\n'\n",
      " '\\n'\n",
      " 'Voici Kenza, a de quoi être fière, elle vient de faire cinq minutes de vélo, '\n",
      " 'pour aller chercher le pain, Kenza, a décidé, que, dorénavant, les pour '\n",
      " \"trajets, les courts trajets, fini, courts, la fini, voiture, c'est meilleur, \"\n",
      " \"pour la qualité de l'air, et ça lui permet, de faire des économies, est un \"\n",
      " \"peu d'exercice, en prime, alors, oui, vraiment, Kenza, a de quoi être fier, \"\n",
      " \"Saint-Jean d'Air, changeons de mobilités, renseignez-vous, sur les aides \"\n",
      " \"existantes, de l'État, des collectivités, et de votre employeur, sur Mieux \"\n",
      " \"Respirer en Ville, Gouv.fr. Ceci est un message, à l'ADEME, et du Ministère \"\n",
      " 'de la Transition Écologique.\\n'\n",
      " '\\n'\n",
      " \"On peut penser, qu'on a toujours pas, les moyens, de passer, à l'électrique, \"\n",
      " 'ou on ne peut franchir, le cap, avec Dacia Spring, Dacia Spring, cent pour '\n",
      " 'cent électrique, est à partir, partir de soixante-dix-neuf euros, par mois, '\n",
      " 'avec trois, avec trois, en entretien inclus, est disponible, immédiatement, '\n",
      " 'profitez, en, dans le réseau Dacia, avant la fin, du bonus écologique, deux '\n",
      " 'mille vingt-trois, le 15 décembre, Spring, hors actions, LLD, trente-sept '\n",
      " 'mois, trente mille km, premier loyer, ramené à zéro euro, après déduction, '\n",
      " \"des aides d'État, puis trente, si le loyer, de soixante-dix-neuf euros, par \"\n",
      " \"mois, Cardiaque, offre particulier, selon stock disponible, jusqu'au 15 \"\n",
      " 'décembre, voir Dacia.fr. Pensez à covoiturer.\\n'\n",
      " '\\n'\n",
      " 'Quand on fait son mariage, les soixante ans, de son épouse, le bac, tu '\n",
      " \"petit-fils, pour que tout se passe, au mieux, on sait, qu'il faut anticiper, \"\n",
      " \"l'organisation, pourtant, quand on souscrit, un contrat obsèques, chez son \"\n",
      " 'banquier, son banquier, ou son assureur, on parle, du financement, mais '\n",
      " 'rarement, de soulager, nos proches, face, au choix difficile, il faudrait, '\n",
      " \"pouvoir anticiper, l'organisation, des obsèques, mais comment, Rock Éclaire, \"\n",
      " 'crée, le contrat organisation, nos conseillers funéraires, on accompagne, '\n",
      " 'gratuitement, pour organiser, vos obsèques, clairs, la peau, plus '\n",
      " \"d'informations, en agence, retirez, Éclaire, tirait, Prévoyance, Proclame.\\n\"\n",
      " '\\n'\n",
      " 'Nous parlons, technologies électriques, parlons, autonomie, parlons, de '\n",
      " \"Renault Zoé, hi-tech, cent pour cent électrique, jusqu'à trois cents \"\n",
      " \"quatre-vingt-quinze km, d'autonomie, à partir de deux.\\n\"\n",
      " '\\n'\n",
      " 'Font, pour nous, pour nous spécialement, pauvre, toutes ces familles, qui '\n",
      " 'sont là, Fernand, soixante-dix-neuf ans, est arrivé, ici, avec sept membres, '\n",
      " \"de sa famille, là-bas, où nous étions, c'est infernal, bon, permettait, \"\n",
      " \"dorme, ma femme, on, jusqu'à présent, traumatisé, quelqu'un, qui, dans la \"\n",
      " 'rue, qui se passe, quelque chose, se infernal, vingt-cinq bénévoles, les '\n",
      " 'entoure, dont Léna, vingt-quatre ans, ils ne reçoivent, aucune, aide de '\n",
      " \"l'État, la nourriture, est offerte, par un restaurant voisin, et les \"\n",
      " 'chambres, sont mis, à disposition, gratuitement, par les propriétaires, on a '\n",
      " 'essayé, de créer, une bulle, dans laquelle, les familles, sécurité, se pour '\n",
      " 'sentir, répondre, en, à sécurité, une, pour précarité, répondre, extrême, à, '\n",
      " 'ils, une, sont, précarité, arrivés, en détresse, psychologique, ou physique, '\n",
      " 'il y a, des gens, qui sont arrivés, en pyjama, officiellement, le '\n",
      " 'gouvernement, ne prévoit, pas, un retour, dans les zones, évacuées, à la '\n",
      " 'frontière, de Gaza, et du Liban, avant, le 31 décembre, Tel Aviv, Sébastien, '\n",
      " 'le Belge, Europe 1, et deux cent mille, Israéliens, ont été déplacées, par '\n",
      " \"les combats, Benyamin Netanyahou, qui a aussi évoqué, l'après, c'est-à-dire, \"\n",
      " \"lorsque viendra, l'heure, de sonner, la fin, du conflit, et bien, Israël, \"\n",
      " 'devra, assurer, la sécurité, globale, de la bande, de Gaza.\\n'\n",
      " '\\n'\n",
      " \"L'actualité, de, actualité, ce, mardi, ce mardi, ce sont, aussi, les \"\n",
      " 'inondations, inondations, dans le Pas-de-Calais, on est plus, très loin, de '\n",
      " 'la crue, du siècle, départements, placés, en alerte rouge, le niveau, de '\n",
      " \"l'eau, dépasse, déjà, les un mètre cinquante, dans certaines communes, ont \"\n",
      " 'pourrait, battre, le record, de deux mille deux, on retrouve, tout de suite, '\n",
      " \"le correspondant, d'Europe 1, en direct, de Blanc, d'elle, dans la vallée, \"\n",
      " 'de la, bonjour, Lionel Bijelo, bonjour, Christophe, bonjour, à tous, à '\n",
      " \"Lionel, on imagine, l'angoisse, des habitants, c'est l'une, des communes, \"\n",
      " 'particulièrement, menacé, par cette, montée, des eaux, un, oui, '\n",
      " \"effectivement, l'angoisse, à l'image, de celle, de Patrick, l'un, des \"\n",
      " \"habitants, qui a passé, la nuit, à l'son, entrée, quartier, de inondé, son \"\n",
      " 'quartier, et inondé, kiss, et tant, qui, que, se, vous, tend, allez, devant, '\n",
      " \"vous, allez, l'entendre, comme, il, peut, avec, sa moto, pompe, personnelle, \"\n",
      " 'de lutter, contre, la montée, des eaux, pour vingt, maisons, euh, je '\n",
      " \"propose, de l'eau, voulez-vous, que, fasse, d'autres, mes, propres, moyens, \"\n",
      " 'en deux mille deux, il y avait, une forte, inondation, également, '\n",
      " 'craignaient, que, ce soit, cela, soit, pareil, ça aurait, peut-être, pire, '\n",
      " \"aujourd'hui, la journée, ça devrait, monter, encore, pire, on va, appeler, \"\n",
      " 'moralisant, pardon, amère, et plus, que, des mots, en lisant, surtout, '\n",
      " \"quand, on voit, que, on n'a, aucune, aide, hier, soir, plusieurs, habitants, \"\n",
      " 'de la commune, ont été, évacués.\\n'\n",
      " '\\n'\n",
      " \"Et aujourd'hui, on se retrouve, à construire, des éoliennes, qui sont, très \"\n",
      " \"laides, et qui ne sont, pas efficaces, parce qu'elles, ne produisent, pas, \"\n",
      " \"d'électricité, ou peu, d'électricité, je pense, notamment, à la baie, de la \"\n",
      " \"Baule, c'est, une horreur, c'est, eux, éoliennes, l'énergie, solaire, par \"\n",
      " \"définition, on produit, de l'électricité, dans la journée, à un moment, où, \"\n",
      " \"on en a, pas besoin, oui, mais, on n'a, pas besoin, de, mais, on se, n'est, \"\n",
      " \"dire, pas, là, que, qu'on, c'en, a, est, besoin, de, le, se, dire, que, \"\n",
      " \"soir, c'est, le soir, qu'on, a, besoin, qu'on, est, en paix, le gasoil, du \"\n",
      " \"solaire, Pascal Praud, s'est, pas, tout, à fait, c'est, pas, tout, à fait, \"\n",
      " 'vrai, parce que, en fait, dans le tertiaire, de la lumière, des besoins, de '\n",
      " 'faire, tourner, les ordinateurs, dans la journée, donc, il y a, une '\n",
      " 'certaine, cohérence, en revanche, le domestique, si, vous, ajoutez, la '\n",
      " 'choucroute, qui va, avec, deux, batteries, le fait, que, vous, êtes, limité, '\n",
      " 'à tous, les points, parce que, deux, dsp, un lobbying, forcené, pour '\n",
      " \"défendre, son, croûtons, qu'on, peut, comprendre, ils, ont, assez, de \"\n",
      " 'députés, qui sont, qui sont, plus, ou moins, a pointé, chez, défendent, eux, '\n",
      " \"le fait, le qu'fait, qu'EDF, EDF, grande, merveille, alors, maintenant, je \"\n",
      " 'reprends, une autre, les journalistes, ne sont, pas, trop, penché, sur, '\n",
      " \"pourquoi, l'électricité, doit, augmenter, de façon, inconsidérée, tout, \"\n",
      " \"simplement, parce que, des petites, entreprises, confidentiel, n'a, pu, les \"\n",
      " 'ressources, techniques, pour fabriquer, des EPR, du coup, on est, parti, sur '\n",
      " 'Flamanville, trois milliards, on en est, à vingt milliards, et ça, '\n",
      " \"fonctionne, toujours, pas, ben, moi, j'aimerais, bien, que, le journaliste, \"\n",
      " 'essaye, met, le, on, nez, met, dans, le même, il, le met, gala, pour, moi, '\n",
      " \"je vais, vous, poser, une question, vous, êtes, une éternité, le nom, d'un \"\n",
      " 'énarque, qui a été, été, condamné, pour incompétence, incompétence, ou '\n",
      " \"malversations, un seul, mais, alors, c'est, pas, la même, chose, \"\n",
      " \"incompétence, est, malade, c'est, on, ne, parle, pas, non, attendez, \"\n",
      " \"incompétence, malversations, quand, vous, êtes, euh, à la tête, d'une \"\n",
      " \"entreprise, d'un État, ou haut, vous, ne, ce, sont, deux choses, auxquelles, \"\n",
      " \"vous, n'avez, pas, droit, qui, devrait, donc, être, sanctionné, jamais, lu, \"\n",
      " \"j'ai, jamais, entendu, un journaliste, parlait, d'un, an, mais, c'est, \"\n",
      " 'scandaleux, euh, le pot, comment, le préfet, de machin, petite, Furiani, par '\n",
      " \"exemple, censé, être, le garant, de l'application, de la loi, ben, lui, la, \"\n",
      " 'pas, a été, inquiétée, quand, le stade, est tombé, il aurait, pu, il était, '\n",
      " \"censé, être, responsable, de l'ensemble, de chapeaux.\\n\"\n",
      " '\\n'\n",
      " \"Ce fameux, pot, de yaourt, pour savoir, ce qu'il, devenait, euh, réellement, \"\n",
      " \"et à l'arrivée, on apprend, que trois, pour cent, seulement, des pots, de \"\n",
      " 'yaourt, sont, vraiment, recyclés, est, encore, en est, pas, fichu, de le '\n",
      " \"faire, nous-même, en France, non, c'est, la seule, usine, de recyclage, dans \"\n",
      " 'laquelle, on envoie, nos pots, de yaourts, se trouvent, en Espagne, un, on '\n",
      " \"a, aucun, site, qui est capable, de le, en faire, France, donc, c'est, \"\n",
      " 'effectivement, trois, pour cent, du total, des pots, de yaourt, qui sont, '\n",
      " 'jetés, et on les transforme, dans cette usine, en Espagne, en cintres, ou '\n",
      " \"pots, de fleurs, on en refait, même, pas, d'autres, pots, de yaourt, donc, \"\n",
      " 'on est, plus, sûr, du, du, dessy, des clash, cyclades, que, sur, du, sur, '\n",
      " 'carrelage, du stéphane, recyclage, Stéphane, reprend, du recyclage, même, '\n",
      " 'pas, des nouveau, podium, tous, les autres, ben, on va, en reparler, alors, '\n",
      " \"il part, pas, qu'en Espagne, les autres, il y en a, certains, qui partent, \"\n",
      " \"en Suède, aussi, et là, c'est, pas, pour être, sittler, non, ils partent, en \"\n",
      " \"Suède, pour faire, ce qu'on appelle, du CSR, du combustible, solide, de \"\n",
      " 'récupération, donc, comme, son nom, Eddy, qui sont, brûlés, en fait, un, '\n",
      " \"pour faire, de l'énergie, de la chaleur, de l'énergie, dite, verte, de \"\n",
      " \"l'énergie, dite, verte, puisque, ça, vient, d'un déchet, donc, on considère, \"\n",
      " \"que c'est, de la revalorisation, alors, qu'évidemment, ça, n'a, ça, pas, \"\n",
      " \"n'grand-chose, a, de, pas, verre, grand-chose, puisqu'on, mais, verre, \"\n",
      " \"c'puisqu'est, on, peu, met, dire, ses pots, de yaourt, sur des bateaux, qui \"\n",
      " \"parcourt, des centaines, d'empreinte, carbone, yaourt, on les brûle, avec, \"\n",
      " 'évidemment, un rejet, important, de gaz, à effet, de serre, dans '\n",
      " \"l'atmosphère, euh, et on considère, que c'est, de l'énergie, verte, mais, on \"\n",
      " 'ne fait, pas, que, les envoyer, en Suède, une bonne partie, des pots, de '\n",
      " \"yaourts, qu'on jette, dans la poubelle, jaune, en France, sont, brûlés, par \"\n",
      " 'des cimenteries, ou des sites, industriels, pour chauffer, des fours, qui '\n",
      " \"ont besoin, d'énormément, de matière, pour, pour chauffer, pour faire, du \"\n",
      " 'ciment, pour faire, du ciment, et donc, on a suivi, euh, notamment, le '\n",
      " \"parcours, d'un pot, de d'yaourt, un pot, depuis, de un yaourt, centre, \"\n",
      " 'depuis, de un tri, centre, puis, de un tri, centre, puis, un centre, de '\n",
      " 'surtri, ou normalement, ezio, ils doivent, être, séparées, les podiums, des '\n",
      " 'autres, emballages, pour être, recyclées, en fait, on se rend, compte, que, '\n",
      " \"dans ce centre, de surtri, il n'arrive, pas, vraiment, à séparer, les pots, \"\n",
      " 'de yaourt, durrës, dont, qui transforme, tout, ça, encore, une fois, en '\n",
      " 'combustible, et ça part, dans une cimenterie, à Couvrant, e, ou ces pots, de '\n",
      " 'yaourt, sont, brûlés, bien sûr, pour faire, ces gros, tubes, ces gros, '\n",
      " 'cubes, compressé, ces gros, ballots, plein, de plastique, et bien, on les '\n",
      " \"enrobe, de plastique, évidemment, c'est, nécessaire, pour qu'on, a, du mal, \"\n",
      " 'à se.')\n"
     ]
    }
   ],
   "source": [
    "correction = await correct_text(contradictions.iloc[:10].text.values, contradictions.iloc[:10].quote.values)\n",
    "pprint.pprint(correction)"
   ]
  },
  {
   "cell_type": "code",
   "execution_count": 34,
   "metadata": {},
   "outputs": [
    {
     "data": {
      "text/plain": [
       "array([\"la conserve de trois cent quatre-vingt-cinq grammes c six ht soit deux euros vingt trois le kilo délicieuse au égale délicieux pour votre santé bougez plus a l'intention de notre très chère clientes propriétaire de la toyota ago crosses vous pouvez la déplacer vers les caméras de surveillance parce que j'aimerais bien admirer de plus près sur les écrans merci d'avance découvrez la toyota yaris cross le crossover urbain à partir de cent dix-neuf euros par mois entretien clé toyota yaris cross dynamique lld trente-sept mois trente mille km premier loyer premier trois loyer mille trois neuf cent mille soixante neuf euros cent réservée soixante-dix aux euros particuliers réservée aux particuliers sous conditions de reprise et commander jusqu'au vingt-cinq septembre détaille sur toyota point fr portes ouvertes ce week-end pensez à covoiturer écouter europe un partout dès maintenant en dab plus entre paris et marseille sans changer de fréquence et bientôt dans toute la france europe un toute l'actualité débat cédant punchline a tout de suite sur europe un klein dix-huit heures dix-neuf heures laurence ferrari sur europe un <unk> nouvelle voiture vraiment dire que c'est une voiture c'est une véritable uvre d'art aux lignes et courbes s'entremêlent dans un déluge coloriage oui oui oui citroën c3 laisse il est enfin accessible mène en fait pas trop quand même citroën c3 à partir de quatre-vingt dix-neuf euros par mois à quatre ans de garantie et assistance à faire portes ouvertes ce week-end citroën quarante-huit mm à quarante-huit km premier loyer de trois mille cinq cents euros offre particulier jusqu'au trente septembre sous réserve d'acceptation crédit par détaille sur citroën point fr selon point réseau fr participants selon pour réseau les participants trajets pour courts privilégier les la trajets marche courts privilégier la marche ou le vélo et voilà que maman et les chats told elle peut lire les paroles karaoké mais voilà mais pour une vision précise de près comme de loin découvrez les verts varie luxe d'essilor cent pourcent français votre opticiens atol dispositif médical c'est un demander conseil à votre opticien prenez parlons technologies électriques parlons de renault mégane hi tech cent pour cent électriques assemblés en france à douai des trois cents euros par mois bornes de recharge est installé\"],\n",
       "      dtype=object)"
      ]
     },
     "execution_count": 34,
     "metadata": {},
     "output_type": "execute_result"
    }
   ],
   "source": [
    "contradictions.iloc[:1].text.values"
   ]
  },
  {
   "cell_type": "code",
   "execution_count": 30,
   "metadata": {},
   "outputs": [
    {
     "data": {
      "text/plain": [
       "'Les déplacements en voiture sont la seule solution viable pour la mobilité. Cependant, il est important de prendre en compte les impacts environnementaux négatifs des voitures et leur contribution aux émissions de gaz à effet de serre. Des alternatives de transport comme le vélo et les transports en commun sont souvent plus viables et devraient être considérées.'"
      ]
     },
     "execution_count": 30,
     "metadata": {},
     "output_type": "execute_result"
    }
   ],
   "source": [
    "correction"
   ]
  },
  {
   "cell_type": "code",
   "execution_count": 35,
   "metadata": {},
   "outputs": [
    {
     "name": "stdout",
     "output_type": "stream",
     "text": [
      "('La conserve de 385 grammes coûte 6,23 euros le kilo. Délicieuse, elle est '\n",
      " \"égale à délicieux pour votre santé. Bougez plus, à l'intention de notre très \"\n",
      " 'chère cliente, propriétaire de la Toyota Ago Cross. Vous pouvez la déplacer '\n",
      " \"vers les caméras de surveillance, parce que j'aimerais bien l'admirer de \"\n",
      " \"plus près sur les écrans. Merci d'avance. Découvrez la Toyota Yaris Cross, \"\n",
      " 'le crossover urbain, à partir de 119 euros par mois, entretien clé en main. '\n",
      " 'Toyota Yaris Cross Dynamique LLD, 37 mois, 30 000 km, premier loyer 3 969 '\n",
      " 'euros, cent réservée soixante-dix euros aux particuliers, réservée aux '\n",
      " \"particuliers sous conditions de reprise et commande jusqu'au 25 septembre. \"\n",
      " 'Détaillez sur toyota.fr. Portes ouvertes ce week-end. Pensez à covoiturer. '\n",
      " 'Écoutez Europe 1 partout, dès maintenant en DAB+, entre Paris et Marseille '\n",
      " 'sans changer de fréquence, et bientôt dans toute la France. Europe 1, toute '\n",
      " \"l'actualité, débat, cédant, punchline, à tout de suite sur Europe 1. Klein, \"\n",
      " '18 heures, 19 heures, Laurence Ferrari sur Europe 1. Nouvelle voiture, '\n",
      " \"vraiment, dire que c'est une voiture, c'est une véritable œuvre d'art, aux \"\n",
      " \"lignes et courbes s'entremêlent dans un déluge de coloriage. Oui, oui, oui, \"\n",
      " 'Citroën C3, laisse, il est enfin accessible, mène en fait pas trop quand '\n",
      " 'même. Citroën C3, à partir de 99 euros par mois, à 4 ans de garantie et '\n",
      " 'assistance. Faites portes ouvertes ce week-end. Citroën, 48 mm à 48 km, '\n",
      " \"premier loyer de 3 500 euros, offre particulier jusqu'au 30 septembre, sous \"\n",
      " \"réserve d'acceptation de crédit. Détaillez sur citroën.fr. Selon point \"\n",
      " 'réseau.fr, les participants aux trajets courts privilégient la marche ou le '\n",
      " 'vélo. Et voilà que maman et les chats told, elle peut lire les paroles '\n",
      " 'karaoké, mais voilà, mais pour une vision précise de près comme de loin, '\n",
      " 'découvrez les verts Varilux de Essilor, cent pour cent français, votre '\n",
      " \"opticien, atol dispositif médical, c'est un, demander conseil à votre \"\n",
      " 'opticien. Prenez, parlons technologies électriques, parlons de Renault '\n",
      " 'Mégane, hi-tech, cent pour cent électriques, assemblés en France, à Douai, '\n",
      " 'des 300 euros par mois, bornes de recharge est installé.')\n"
     ]
    }
   ],
   "source": [
    "pprint.pprint(correction)"
   ]
  },
  {
   "cell_type": "code",
   "execution_count": 20,
   "metadata": {},
   "outputs": [
    {
     "data": {
      "text/plain": [
       "883    la conserve de trois cent quatre-vingt-cinq gr...\n",
       "Name: text, dtype: object"
      ]
     },
     "execution_count": 20,
     "metadata": {},
     "output_type": "execute_result"
    }
   ],
   "source": [
    "contradictions.iloc[:1].text"
   ]
  },
  {
   "cell_type": "code",
   "execution_count": 64,
   "metadata": {},
   "outputs": [
    {
     "name": "stderr",
     "output_type": "stream",
     "text": [
      "  0%|          | 0/10 [00:00<?, ?it/s]"
     ]
    },
    {
     "name": "stdout",
     "output_type": "stream",
     "text": [
      "Texte: littoraux donc pour trouver du soleil vous allez au sud exactement demain au sud d'une ligne bordeaux aurillac lyon un ciel généralement clairs voilés mais en tout cas une atmosphère agréable ensoleillée avec juste du vent d'autan en plaine toulousaine jusqu'à cinquante km en rafale et puis donc les températures contrasté demain entre treize et dix-sept au nord sous la pluie sept à vingt-deux voire vingt-quatre dans le sud sous le soleil vingt-quatre ce sera pour bastia vingt-deux à marseille et nice vingt à bordeaux et toulouse il fera dix-sept à nantes seize à paris quinze à lille et strasbourg treize à londres ça reste quand même doux pour la saison saison merci anthony kaczmarek chez aldi nos pains et viennoiseries sont cuits dans nos magasins tout au long de la journée tous nos engagements qualité sur aldi point fr aldi place un nouveau consommateur pour votre santé bougez plus dix-neuf heures sur europe un dans un instant les gta les grands témoins de l'actualité du vendredi et aujourd'hui son excellence raphaël morave chargé d'affaires d'israël en france a tout de suite sur europe un europe un soir week-end mma business entreprises entreprises je suis avec franck dirigeant franc d'une direct entreprise de réparation d'électroménager son élévateurs est en panne activités à l'arrêt chiffre d'affaires en danger non grâce à la garantie bride machine mma j'ai été vite indemnisés et j'ai pu changer l'élévateur sans impacter la trésorerie zéro tracas en ce moment cinquante pourcent offerts sur l'assurance dirigeant jusqu'au vingt-cinq nov chambre deux mille vingt-trois mois cinquante pourcent sur la première cotisation annuelle conditions en agence voici kenza a de quoi être fière elle vient de faire cinq minutes de vélo pour aller chercher le pain kenza a décidé que que dorénavant les pour trajets les courts trajets fini courts la voiture c'est meilleur pour la qualité de l'air et ça lui permet de faire des économies est un peu d'exercice en prime alors oui vraiment kenza a de quoi être fier saint-jean d'air changeons de mobilités renseignez-vous sur les aides existantes de l'etat des collectivités et de votre employeur sur mieux respirer en ville gouv point fr ceci est un message à l'ademe et du ministère de la transition écologique avec regnault les véhicules électriques sont enfin disponibles en occasion renault zoé texan pour cent électriques d'occasion trois à trente mille km à partir de cinq, Citation: la voiture c'est meilleur pour la qualité de l'air\n",
      "Texte: la conserve de trois cent quatre-vingt-cinq grammes c six ht soit deux euros vingt trois le kilo délicieuse au égale délicieux pour votre santé bougez plus a l'intention de notre très chère clientes propriétaire de la toyota ago crosses vous pouvez la déplacer vers les caméras de surveillance parce que j'aimerais bien admirer de plus près sur les écrans merci d'avance découvrez la toyota yaris cross le crossover urbain à partir de cent dix-neuf euros par mois entretien clé toyota yaris cross dynamique lld trente-sept mois trente mille km premier loyer premier trois loyer mille trois neuf cent mille soixante neuf euros cent réservée soixante-dix aux euros particuliers réservée aux particuliers sous conditions de reprise et commander jusqu'au vingt-cinq septembre détaille sur toyota point fr portes ouvertes ce week-end pensez à covoiturer écouter europe un partout dès maintenant en dab plus entre paris et marseille sans changer de fréquence et bientôt dans toute la france europe un toute l'actualité débat cédant punchline a tout de suite sur europe un klein dix-huit heures dix-neuf heures laurence ferrari sur europe un <unk> nouvelle voiture vraiment dire que c'est une voiture c'est une véritable uvre d'art aux lignes et courbes s'entremêlent dans un déluge coloriage oui oui oui citroën c3 laisse il est enfin accessible mène en fait pas trop quand même citroën c3 à partir de quatre-vingt dix-neuf euros par mois à quatre ans de garantie et assistance à faire portes ouvertes ce week-end citroën quarante-huit mm à quarante-huit km premier loyer de trois mille cinq cents euros offre particulier jusqu'au trente septembre sous réserve d'acceptation crédit par détaille sur citroën point fr selon point réseau fr participants selon pour réseau les participants trajets pour courts privilégier les la trajets marche courts privilégier la marche ou le vélo et voilà que maman et les chats told elle peut lire les paroles karaoké mais voilà mais pour une vision précise de près comme de loin découvrez les verts varie luxe d'essilor cent pourcent français votre opticiens atol dispositif médical c'est un demander conseil à votre opticien prenez parlons technologies électriques parlons de renault mégane hi tech cent pour cent électriques assemblés en france à douai des trois cents euros par mois bornes de recharge est installé, Citation: Les déplacements en voiture sont la seule solution viable pour la mobilité.\n",
      "Texte: oui j'utilise des pesticides alors pour savoir quand même que on est très très encadrée en france dont il faisait des pesticides euh on a des contrôles on est obligé d'avoir dix artistes ito pour mettre ces produits là et puis s'est produit là on les met à des doses minimes eux qui sont autorisés par l'état donc faut savoir que la france on a les douze minime par rapport aux pays autres d'europe par exemple on a des produits qui sont interdits en france mais par contre on importe des céréales ou s'est produit là son autorité et le donc problème euh le c'problème c'est que la variable barrière chez les agriculteurs est de dire nous en france on a des normes les autres ne les ont pas et ces nouvelles arrivées qui sommes les victimes j'entends ça parfois et voilà et vous avez des pays très limitrophes un vous avez la belgique la hollande l'espagne d e des pays comme la betterave par exemple sur des betteraves sucrières je crois ou les détruire les arrières vous avez aussi on parlait du glyphosate vous avez le glyphosate voulus utilisé par exemple du glyphosate en angleterre en angleterre avant comments de moissonner commandes humblet y moissonner mette humblet du y glyphosate mettre en français interdit aujourd'hui on est une chose est sûre des céréales euh mais euh avant d'implanter la culture donc euh techniquement il n'y a pas de résidus si vous retrouver des résidus ben oui parce que on importe de la production qui n'est pas aux normes françaises donc avant de staps de se taper une une balle dans le pied je pense qu'il faut qu'on met tout le monde en harmonie et dire d'accord peut-être que le glyphosate sur un aliment c'est pas bon mais si on l'utilise dans l'essonne dont est il dans s'les est sols pas ne bon sont dans pas les bons sols dans non les plus sols pour non la plus bière pour la biodiversité c'est une catastrophe le moment on en retrouve pour le moment on se trouve pas le glyphosate dans les salles d'un souci de glyphosate dans les cellules le montre non mais le problème monsieur hugo clément c'est que vous travaillez avec des études mais vous ne travaillez pas sur le terrain et voir les agriculteurs allant je peux vous répondre c'est dommage je vais répondre tout de suite après la pause douze je passe ma vie sur le terrain regarder les émissions on passe notre vie avec des agriculteurs notamment avec des agriculteurs qui défend qui dénoncent, Citation: techniquement il n'y a pas de résidus si vous retrouver des résidus ben oui parce que on importe de la production qui n'est pas aux normes françaises\n",
      "Texte: ce fameux pot de yaourt pour savoir ce qu'il devenait euh réellement et à l'arrivée on apprend que trois pour cent seulement des pots de yaourt sont vraiment recyclés est encore en est pas fichu de le faire nous-même en france non c'est la seule usine de recyclage dans laquelle on envoie nos pots de yaourts se trouvent en espagne un on a aucun site qui est capable de le en faire france donc c'est effectivement trois pourcent du total des pots de yaourt qui sont jetés et on les transforme dans cette usine en espagne en en cintres ou pots de fleurs on en refait même pas d'autres pots de yaourt donc on est plus sûr du du dessy des clash cyclades que sur du sur carrelage du stéphane recyclage stéphane reprend du recyclage même pas des nouveau podium tous les autres ben on va en reparler alors il part pas qu'en espagne les autres il y en a certains qui partent en suède aussi et là c'est pas pour être sittler non ils partent en suède pour faire ce qu'on appelle du csr du combustible solide de récupération donc comme son nom eddy qui sont brûlés en fait un pour faire de l'énergie de la chaleur de l'énergie dite verte de l'énergie dite verte puisque ça vient d'un déchet donc on considère que c'est de la revalorisation alors qu'évidemment ça n'a ça pas n'grand-chose a de pas verre grand-chose puisqu'de on mais verre c'puisqu'est on peu met dire ses pots de yaourts sur des bateaux qui parcourt des centaines d'empreinte carbone yaourt on les brûle avec évidemment un rejet important de gaz à effet de serre dans l'atmosphère euh et on considère que c'est de l'énergie verte mais on ne fait pas que les envoyer en suède une bonne partie des pots de yaourts qu'on jette dans la poubelle jaune en france sont brûlés par des cimenteries ou des sites industriels pour chauffer des fours qui ont besoin d'énormément de matière pour pour chauffer pour faire du ciment pour faire du ciment et donc on a suivi euh notamment le parcours d'un pot de d'yaourt un pot depuis de un yaourt centre depuis de un tri centre puis de un tri centre puis un centre de surtri ou normalement ezio ils doivent être séparées les podiums des autres emballages pour être recyclées en fait on se rend compte que dans ce centre de surtri il n'arrive pas vraiment à séparer les pots de yaourt durrës dont qui transforme tout ça encore une fois en combustible et ça part dans une cimenterie à couvrant e ou ces pots de yaourt sont brûlés bien sûr pour faire ces gros tubes ces gros cubes compressé ces gros ballots plein de plastique et bien on les enrobe de plastique évidemment c'est nécessaire pour qu'on a du mal à se, Citation: Les pots de yaourt sont souvent envoyés à l'étranger pour produire de l'énergie dite verte.\n",
      "Texte: font pour nous pour nous spécialement pauvre toutes ces familles qui sont là fernand soixante-dix-neuf ans est arrivé ici avec sept membres de sa famille là-bas où nous étions c'est infernal bon permettait dorme ma femme on jusqu'à présent traumatisé quelqu'un qui dans la rue qui se passe quelque chose se infernal vingt-cinq bénévoles les entoure dont léna vingt-quatre ans ils ne reçoivent aucune <unk> aide de l'état la nourriture est offerte par un restaurant voisin et les chambres sont mis à disposition gratuitement par les propriétaires on a essayé de créer une bulle dans lequel les familles sécurité se pour sentir répondre en à sécurité une pour précarité répondre extrême à ils une sont précarité arrivés en détresse psychologique ou physique il y a des gens qui sont arrivés en pyjama officiellement le gouvernement ne prévoit pas un retour dans les zones évacuées à la frontière de gaza et du liban avant le trente et un décembre tel aviv sébastien le belgique europe un et deux cent mille israéliens ont été déplacées par les combats benyamin netanyahou qui a aussi évoqué l'après c'est à dire lorsque viendra l'heure de sonner la fin du conflit et bien israël devra assurer la sécurité globale de la bande de gaza l'actualité de actualité ce de mardi ce mardi ce sont aussi les inondations inondations dans le pas-de-calais on est plus très loin de la crue du siècle départements placés en alerte rouge le niveau de l'eau dépasse déjà les un mètre cinquante dans certaines communes ont pourrait battre le record de deux mille deux on retrouve tout de suite le correspondant d'europe un en direct de blanc d'elle dans la vallée de la à bonjour lionel bijelo bonjour christophe bonjour à tous à lionel on imagine l'angoisse des habitants c'est l'une des communes particulièrement menacé par cette montée des eaux un oui effectivement l'angoisse à l'image de celle de patrick l'un des habitants qui a passé la nuit à l'son entrée quartier de inondé son quartier et inondé kiss et tant qui que se vous tend allez devant vous allez l'entendre comme il peut avec sa moto pompe personnelle de lutter contre la montée des eaux pour vingt maisons euh je propose de l'eau voulez-vous que fasse d'autres mes propres moyens en deux mille deux il y avait une forte inondation également craignaient que ce soit cela soit pareil ça aurait peut-être pire aujourd'hui la journée ça devrait monter encore pire on va appeler moralisant pardon amère et plus que des mots en lisant surtout quand on voit que on n'a aucune aide hier soir plusieurs habitants de la commune ont été évacués, Citation: on a aucune aide\n",
      "Texte: réseaux sociaux et je vous vois piloter des hélicoptères ou des avions eux aller sur des deux-roues à toute vitesse ses ces c'est quoi de vous aimez les sports de vitesse ou vous êtes dans un gîte vous faire peur non alors moi j'aime déjà les challenge est passé c'est permis la et surtout l'avion parce que ça est un vrai challenge pour le coup le bouquin de théories de cinq cents pages quand je l'ai vu arriver j'ai repris les cours de maths pendant un an j'ai c'est le challenge qui m'éclate c'est cette adrénaline là qu'est-ce que je vais chercher la moto j'ai toujours aimé ça et je j'en avais vraiment ras-le-bol de derrière donc en fait je me suis mais y passent le achètent à moto fin de l'histoire et j'ai je je suis vraiment une amoureuse oui de ses sensations de liberté que toutes ces choses-là apporte alors vous avez toujours de droite et à l'empreinte carbone et pollution étouffement mon bref y a un moment donné il faut avancer aussi mais un jeu oui je crois que j'aime je crois que je me suis jamais sentie aussi libre que dans ma quarantaine j'ai quarante-sept ans et est pour rien au monde repartira en arrière on s'assume tellement plus quand on a on l'a l'âge qu'qu'on a et moi je me sens bien mais vraiment bien et le prochain shoot d'adrénaline à part le treize novembre est la première parisienne pour le spectacle qu'est ce que ce sera à votre avis la chanson vaches devenant alors non je sais je sais pas du tout chantée puis le pour le coup je vais vraiment pas envie mais ça s'en est un bon c'est-à-dire se retrouver sur scène en fait pendant vingt ans j'ai fait un métier où je ne voyais pas les et gens quand la vous sentez en face de vous cette matière vivante c'est juste extraordinaire et j'ai d'ailleurs je je crois que je vais beaucoup aimé le théâtre même par la suite euh si on me le propose parce que il y a y un a risque un sur scène risque qu'sur on scène n'qu'a on pas n'ailleurs a et pas puis ailleurs ben et puis ben j'ai des chouettes proposition de cinéma par ailleurs donc je me dis bon volo avance tranquillement mais sûrement et puis on verra je n'ai pas de jauge pas de plan de carrière fait quoi et la télé n'en fait plus partie c'est sûr absolument sûr que je le dis tellement partout maintenant un retour est impossible alors vous l'avez trop crier non et puis j'ai vraiment aimé ce que j'ai fait pendant vingt ans je suis partie de mon propre chef et n'est pas de regret et je suis en revanche très fier et très heureux de ce que j'ai fait pendant vingt ans et bien merci beaucoup alessandra séries avoir été avec nous pour les incontournables, Citation: un jeu oui je crois que j'aime je crois que je me suis jamais sentie aussi libre que dans ma quarantaine... il faut avancer aussi\n",
      "Texte: climatique le réchauffement collecte de grenoble de glaciologues on mesurait quand même à quatre mille trois cents mètres d'altitude qui ont fait un forage c'est-à-dire que sous le mont-blanc à sept mille trois cents mètres cinq cents mètres plus bas et dans ce forage il a été mesurée soixante mètres de neige est en dessous donc à peu près voilà cent quatre-vingts maître de glace c'est à dire de la neige imperméable il a été il a été foré est en à quatre-vingt moins quatorze onze degrés ont à été soixante moins mètres onze de degrés profondeur aujourd'hui ça s'est réchauffée de deux degrés on est à moins neuf degrés on a quatre mille trois cents mètres à soixante mètres de profondeur dans la neige et donc il y a quand même un réchauffement de ses effrois d'altitude et donc le loup blanc on n'a pas de thermomètre en permanence planté dans le mont-blanc et si on est à moins quinze degrés température moyenne peut être que aujourd'hui on est à moins quatorze virgule cinq au moins quatorze e en effet mais ça ça reste froid mais mais cela dit c'est vrai que tout est perturbée sur terre y compris les calottes glaciaires j'ai la chance de travailler au groenland et antarctique généralement donc on voit que partout même les glaciers froid les calottes glaciaires les sommets voilà son sont perturbés mais on ne peut pas faire le lien directement avec le réchauffement il y a pas de fond en tout cas d'accord belge joué que dans quelques dizaines d'années le mont-blanc froid va se réchauffer aussi un tous toutou tout se réchauffe voilà c'est bon est pour non laquelle on essaye de limiter tout ça c'est ça en fait pour l'instant on est encore relativement tranquille mais ça ne va peut-être pas durer je vous remercie beaucoup luc moreau glaciologue merci d'avoir été en direct sur europe un depuis chamonix et à très bientôt europe un reçoit merci à tous de nous avoir suivis sur europe un rendez-vous demain pour un nouvel europa soir excellente soirée avec la france bouge présenté par elisabeth assayag bonsoir elisabeth quel est le programme bonsoir hélène si je vous dis trente millions d'amis et mabrouk je suis sûr, Citation: on ne peut pas faire le lien directement avec le réchauffement\n",
      "Texte: lendemain et le lendemain du sur surlendemain bonne chance démarre déjà intermarché pour l'achat d'un calendrier de l'avent kinder le deuxième est à moins cinquante pour cent c'est ça les cent jours pouvoir d'achat et c'est aussi au drive et en livraison intermarché tous unis contre la vie chère jusqu'au dix-neuf novembre sur le moins cher des deux modalités sur internet chez point com pour votre santé limiter les aliments gras salés sucrés voici kenza kenza a de quoi être fière elle vient de faire cinq minutes de vélo pour aller chercher le pain kenza a décidé que pour dorénavant les pour trajets les courts trajets fini courts la fini voiture la c'voiture est meilleur pour la qualité de l'air et ça lui permet de faire des économies est un peu d'exercice en prime alors oui vraiment kenza a de quoi être fier saint-jean d'air changeons de mobilités renseignez-vous sur les ailes existant de l'etat des collectivités et de votre employeur sur mieux respirer en ville point gouv point fr ceci est un message à l'ademe et du ministère de la transition écologique on peut penser qu'on a toujours pas les moyens de passer à l'électrique ou on ne peut franchir le cap avec dacia spring dacia spring cent pour cent électrique est à partir partir de soixante-dix-neuf euros par par mois avec trois avec trois en entretien inclus est disponible immédiatement profitez en dans le réseau dacia avant la fin du bonus écologique deux mille vingt-trois le quinze décembre spring hors actions lld trente-sept mois trente mille km premier loyer ramené à zéro euro après déduction des aides d'état puis trente si le loyer de soixante-dix-neuf euros par mois cardiaque offre particulier selon stock disponible jusqu'au quinze décembre voir dacia point fr pensez à covoiturer quand on fait son mariage les soixante ans de son épouse le bac tu petit-fils pour que tout se passe au mieux on sait qu'il faut anticiper l'organisation pourtant quand on souscrit un contrat obsèques chez son banquier son banquier ou son assureur on parle du financement mais rarement de soulager nos proches face au choix difficile il faudrait pouvoir anticiper l'organisation des obsèques mais comment rock éclaire crée le contrat organisation nos conseillers funéraires on accompagne gratuitement pour organiser vos obsèques clairs la peau plus d'informations en agence retirez éclaire tirait prévoyance proclame nous parlons technologies électriques parlons autonomie parlons de renault zoé hi tech cent pour cent électrique jusqu'à trois cents quatre-vingt quinze km d'autonomie à partir de deux, Citation: la c'voiture est meilleur pour la qualité de l'air\n",
      "Texte: et aujourd'hui on se retrouve à construire des éoliennes qui sont très laides et qui ne sont pas efficaces parce qu'elles ne produisent pas d'électricité ou peu d'électricité je pense notamment à la baie de la baule c'est une horreur c'est eux éoliennes l'énergie solaire par définition on produit de l'électricité dans la journée à un moment où on en a pas besoin oui mais on n'a pas besoin de mais on se n'est dire pas là que qu'on c'en a est besoin de le se dire que soir c'est le soir qu'on a besoin qu'on est en paix le gasoil du solaire pascal praud s'est pas tout à fait c'est pas tout à fait vrai parce qu'en fait dans le tertiaire de la lumière des besoins de faire tourner les ordinateurs dans la journée donc il y a une certaine cohérence en revanche le domestique si vous ajoutez la choucroute qui va avec deux batteries le fait que vous êtes limité à tous les points parce que deux dsp un lobbying forcené pour défendre son croûtons qu'on peut comprendre ils ont assez de députés qui sont qui sont plus ou moins a pointé chez défendent eux le fait le qu'fait qu'edf edf grande merveille alors maintenant je reprends une autre les journalistes ne sont pas trop penché sur pourquoi l'électricité doit augmenter de façon inconsidérée tout simplement parce que des petites entreprises confidentiel n'a pu les ressources techniques pour fabriquer des epr du coup on est parti sur flamanville trois milliards on en est à vingt milliards et ça fonctionne toujours pas ben moi j'aimerais bien que le journaliste essaye met le on nez met dans le même il le met gala pour moi je vais vous poser une question vous êtes une éternité le nom d'un énarque qui a été été condamné pour incompétence incompétence ou malversations un seul mais alors c'est pas la même chose incompétence est malade c'est on ne parle pas non attendez incompétence malversations quand vous êtes euh à la tête d'une entreprise d'un etat ou haut vous ne ce sont deux choses auxquelles vous n'avez pas droit qui devrait donc être sanctionné jamais lu j'ai jamais entendu un journaliste parlait d'un an mais c'est scandaleux euh le pot comment le préfet de machin petite furiani par exemple censé être le garant de l'application de la loi ben lui la pas a été inquiétée quand le stade est tombé il aurait pu il était censé être responsable de l'ensemble de chapeaux, Citation: Les éoliennes sont très laides et peu efficaces parce qu'elles ne produisent pas d'électricité.\n",
      "Texte: six seize les actions qui ont commencé à vérifier autour de soi s'il y a des problèmes particuliers et puis surtout comme il a été dit éviter de circuler à partir de mercredi la nuit de mercredi à jeudi et jeudi matin sur un quart nord-ouest avec les vacances avec ce jour férié au milieu on ne sait que les jeunes son bon vouloir se déplacer c'est normal et les mesures de sécurité et d'anticipation alix roumagnac président de predict services avec nous en en direct dans europe europe un trésor un depuis trésor depuis xynthia en deux mille dix e on a fait beaucoup de progrès vous le constatez vous qui travaillez pour les communes les collectivités en termes de prévention de préparation d'anticipation beaucoup de beaucoup de choses ont évolué déjà c'est là la généralisation de ce qu'on appelle les plans communaux de sauvegarde c'est-à-dire que chaque commune a réalisé un plan d'action pour chaque type d'aléas inondations tempêtes submersions marines des des actions sont identifiés par les mairies pour être mis en anticipation uvre de par l'anticipation information de des l'information populations des de populations manière de à éviter vide vide de mise en danger on accompagne ses communes nous au quotidien en termes de ce genre d'événement mais il y a des recommandations pour activer ses plans communaux de sauvegarde il y a vraiment des chaînes ou incomplet même si sur les tempêtes hivernales il y a il y a aucun lien avec le dérèglement climatique et comme l'indiquent les experts c'est que ces événements extrêmes que ce soit les fortes pluies les inondations dans le sud le nord les baies les mairies puis et l'citoyens ensemble des aujourd'citoyens hui aujourd'il hui il y adopte a des mesures pour limiter ces ces gens à des phénomènes les on a beaucoup de partenariats avec les membres de l'assurance c'est ça aussi c'est un gros travail de prévention sur le sujet on voit que les choses évoluent dans le bon sens alix roumagnac vous restez avec nous bien sûr va prendre un autre auditeur vous êtes nombreux à téléphoner appelé à europa trésor bonjour éric bonjour à tout le monde bonjour merci beaucoup de nous appeler vous habitez dans la manche à granville exactement et vous êtes sauveteurs en mer oui entre autres, Citation: il y a il a aucun lien avec le dérèglement climatique\n"
     ]
    },
    {
     "name": "stderr",
     "output_type": "stream",
     "text": [
      "100%|██████████| 10/10 [00:08<00:00,  1.20it/s]\n"
     ]
    }
   ],
   "source": [
    "correction = await run_correction(contradictions.iloc[:10].text, contradictions.iloc[:10].quote)"
   ]
  },
  {
   "cell_type": "code",
   "execution_count": null,
   "metadata": {},
   "outputs": [
    {
     "name": "stderr",
     "output_type": "stream",
     "text": [
      "  0%|          | 0/10 [00:00<?, ?it/s]"
     ]
    },
    {
     "name": "stdout",
     "output_type": "stream",
     "text": [
      "Texte: six seize les actions qui ont commencé à vérifier autour de soi s'il y a des problèmes particuliers et puis surtout comme il a été dit éviter de circuler à partir de mercredi la nuit de mercredi à jeudi et jeudi matin sur un quart nord-ouest avec les vacances avec ce jour férié au milieu on ne sait que les jeunes son bon vouloir se déplacer c'est normal et les mesures de sécurité et d'anticipation alix roumagnac président de predict services avec nous en en direct dans europe europe un trésor un depuis trésor depuis xynthia en deux mille dix e on a fait beaucoup de progrès vous le constatez vous qui travaillez pour les communes les collectivités en termes de prévention de préparation d'anticipation beaucoup de beaucoup de choses ont évolué déjà c'est là la généralisation de ce qu'on appelle les plans communaux de sauvegarde c'est-à-dire que chaque commune a réalisé un plan d'action pour chaque type d'aléas inondations tempêtes submersions marines des des actions sont identifiés par les mairies pour être mis en anticipation uvre de par l'anticipation information de des l'information populations des de populations manière de à éviter vide vide de mise en danger on accompagne ses communes nous au quotidien en termes de ce genre d'événement mais il y a des recommandations pour activer ses plans communaux de sauvegarde il y a vraiment des chaînes ou incomplet même si sur les tempêtes hivernales il y a il y a aucun lien avec le dérèglement climatique et comme l'indiquent les experts c'est que ces événements extrêmes que ce soit les fortes pluies les inondations dans le sud le nord les baies les mairies puis et l'citoyens ensemble des aujourd'citoyens hui aujourd'il hui il y adopte a des mesures pour limiter ces ces gens à des phénomènes les on a beaucoup de partenariats avec les membres de l'assurance c'est ça aussi c'est un gros travail de prévention sur le sujet on voit que les choses évoluent dans le bon sens alix roumagnac vous restez avec nous bien sûr va prendre un autre auditeur vous êtes nombreux à téléphoner appelé à europa trésor bonjour éric bonjour à tout le monde bonjour merci beaucoup de nous appeler vous habitez dans la manche à granville exactement et vous êtes sauveteurs en mer oui entre autres, Citation: il y a il a aucun lien avec le dérèglement climatique\n",
      "Texte: littoraux donc pour trouver du soleil vous allez au sud exactement demain au sud d'une ligne bordeaux aurillac lyon un ciel généralement clairs voilés mais en tout cas une atmosphère agréable ensoleillée avec juste du vent d'autan en plaine toulousaine jusqu'à cinquante km en rafale et puis donc les températures contrasté demain entre treize et dix-sept au nord sous la pluie sept à vingt-deux voire vingt-quatre dans le sud sous le soleil vingt-quatre ce sera pour bastia vingt-deux à marseille et nice vingt à bordeaux et toulouse il fera dix-sept à nantes seize à paris quinze à lille et strasbourg treize à londres ça reste quand même doux pour la saison saison merci anthony kaczmarek chez aldi nos pains et viennoiseries sont cuits dans nos magasins tout au long de la journée tous nos engagements qualité sur aldi point fr aldi place un nouveau consommateur pour votre santé bougez plus dix-neuf heures sur europe un dans un instant les gta les grands témoins de l'actualité du vendredi et aujourd'hui son excellence raphaël morave chargé d'affaires d'israël en france a tout de suite sur europe un europe un soir week-end mma business entreprises entreprises je suis avec franck dirigeant franc d'une direct entreprise de réparation d'électroménager son élévateurs est en panne activités à l'arrêt chiffre d'affaires en danger non grâce à la garantie bride machine mma j'ai été vite indemnisés et j'ai pu changer l'élévateur sans impacter la trésorerie zéro tracas en ce moment cinquante pourcent offerts sur l'assurance dirigeant jusqu'au vingt-cinq nov chambre deux mille vingt-trois mois cinquante pourcent sur la première cotisation annuelle conditions en agence voici kenza a de quoi être fière elle vient de faire cinq minutes de vélo pour aller chercher le pain kenza a décidé que que dorénavant les pour trajets les courts trajets fini courts la voiture c'est meilleur pour la qualité de l'air et ça lui permet de faire des économies est un peu d'exercice en prime alors oui vraiment kenza a de quoi être fier saint-jean d'air changeons de mobilités renseignez-vous sur les aides existantes de l'etat des collectivités et de votre employeur sur mieux respirer en ville gouv point fr ceci est un message à l'ademe et du ministère de la transition écologique avec regnault les véhicules électriques sont enfin disponibles en occasion renault zoé texan pour cent électriques d'occasion trois à trente mille km à partir de cinq, Citation: la voiture c'est meilleur pour la qualité de l'air\n",
      "Texte: et aujourd'hui on se retrouve à construire des éoliennes qui sont très laides et qui ne sont pas efficaces parce qu'elles ne produisent pas d'électricité ou peu d'électricité je pense notamment à la baie de la baule c'est une horreur c'est eux éoliennes l'énergie solaire par définition on produit de l'électricité dans la journée à un moment où on en a pas besoin oui mais on n'a pas besoin de mais on se n'est dire pas là que qu'on c'en a est besoin de le se dire que soir c'est le soir qu'on a besoin qu'on est en paix le gasoil du solaire pascal praud s'est pas tout à fait c'est pas tout à fait vrai parce qu'en fait dans le tertiaire de la lumière des besoins de faire tourner les ordinateurs dans la journée donc il y a une certaine cohérence en revanche le domestique si vous ajoutez la choucroute qui va avec deux batteries le fait que vous êtes limité à tous les points parce que deux dsp un lobbying forcené pour défendre son croûtons qu'on peut comprendre ils ont assez de députés qui sont qui sont plus ou moins a pointé chez défendent eux le fait le qu'fait qu'edf edf grande merveille alors maintenant je reprends une autre les journalistes ne sont pas trop penché sur pourquoi l'électricité doit augmenter de façon inconsidérée tout simplement parce que des petites entreprises confidentiel n'a pu les ressources techniques pour fabriquer des epr du coup on est parti sur flamanville trois milliards on en est à vingt milliards et ça fonctionne toujours pas ben moi j'aimerais bien que le journaliste essaye met le on nez met dans le même il le met gala pour moi je vais vous poser une question vous êtes une éternité le nom d'un énarque qui a été été condamné pour incompétence incompétence ou malversations un seul mais alors c'est pas la même chose incompétence est malade c'est on ne parle pas non attendez incompétence malversations quand vous êtes euh à la tête d'une entreprise d'un etat ou haut vous ne ce sont deux choses auxquelles vous n'avez pas droit qui devrait donc être sanctionné jamais lu j'ai jamais entendu un journaliste parlait d'un an mais c'est scandaleux euh le pot comment le préfet de machin petite furiani par exemple censé être le garant de l'application de la loi ben lui la pas a été inquiétée quand le stade est tombé il aurait pu il était censé être responsable de l'ensemble de chapeaux, Citation: Les éoliennes sont très laides et peu efficaces parce qu'elles ne produisent pas d'électricité.\n",
      "Texte: climatique le réchauffement collecte de grenoble de glaciologues on mesurait quand même à quatre mille trois cents mètres d'altitude qui ont fait un forage c'est-à-dire que sous le mont-blanc à sept mille trois cents mètres cinq cents mètres plus bas et dans ce forage il a été mesurée soixante mètres de neige est en dessous donc à peu près voilà cent quatre-vingts maître de glace c'est à dire de la neige imperméable il a été il a été foré est en à quatre-vingt moins quatorze onze degrés ont à été soixante moins mètres onze de degrés profondeur aujourd'hui ça s'est réchauffée de deux degrés on est à moins neuf degrés on a quatre mille trois cents mètres à soixante mètres de profondeur dans la neige et donc il y a quand même un réchauffement de ses effrois d'altitude et donc le loup blanc on n'a pas de thermomètre en permanence planté dans le mont-blanc et si on est à moins quinze degrés température moyenne peut être que aujourd'hui on est à moins quatorze virgule cinq au moins quatorze e en effet mais ça ça reste froid mais mais cela dit c'est vrai que tout est perturbée sur terre y compris les calottes glaciaires j'ai la chance de travailler au groenland et antarctique généralement donc on voit que partout même les glaciers froid les calottes glaciaires les sommets voilà son sont perturbés mais on ne peut pas faire le lien directement avec le réchauffement il y a pas de fond en tout cas d'accord belge joué que dans quelques dizaines d'années le mont-blanc froid va se réchauffer aussi un tous toutou tout se réchauffe voilà c'est bon est pour non laquelle on essaye de limiter tout ça c'est ça en fait pour l'instant on est encore relativement tranquille mais ça ne va peut-être pas durer je vous remercie beaucoup luc moreau glaciologue merci d'avoir été en direct sur europe un depuis chamonix et à très bientôt europe un reçoit merci à tous de nous avoir suivis sur europe un rendez-vous demain pour un nouvel europa soir excellente soirée avec la france bouge présenté par elisabeth assayag bonsoir elisabeth quel est le programme bonsoir hélène si je vous dis trente millions d'amis et mabrouk je suis sûr, Citation: on ne peut pas faire le lien directement avec le réchauffement\n",
      "Texte: lendemain et le lendemain du sur surlendemain bonne chance démarre déjà intermarché pour l'achat d'un calendrier de l'avent kinder le deuxième est à moins cinquante pour cent c'est ça les cent jours pouvoir d'achat et c'est aussi au drive et en livraison intermarché tous unis contre la vie chère jusqu'au dix-neuf novembre sur le moins cher des deux modalités sur internet chez point com pour votre santé limiter les aliments gras salés sucrés voici kenza kenza a de quoi être fière elle vient de faire cinq minutes de vélo pour aller chercher le pain kenza a décidé que pour dorénavant les pour trajets les courts trajets fini courts la fini voiture la c'voiture est meilleur pour la qualité de l'air et ça lui permet de faire des économies est un peu d'exercice en prime alors oui vraiment kenza a de quoi être fier saint-jean d'air changeons de mobilités renseignez-vous sur les ailes existant de l'etat des collectivités et de votre employeur sur mieux respirer en ville point gouv point fr ceci est un message à l'ademe et du ministère de la transition écologique on peut penser qu'on a toujours pas les moyens de passer à l'électrique ou on ne peut franchir le cap avec dacia spring dacia spring cent pour cent électrique est à partir partir de soixante-dix-neuf euros par par mois avec trois avec trois en entretien inclus est disponible immédiatement profitez en dans le réseau dacia avant la fin du bonus écologique deux mille vingt-trois le quinze décembre spring hors actions lld trente-sept mois trente mille km premier loyer ramené à zéro euro après déduction des aides d'état puis trente si le loyer de soixante-dix-neuf euros par mois cardiaque offre particulier selon stock disponible jusqu'au quinze décembre voir dacia point fr pensez à covoiturer quand on fait son mariage les soixante ans de son épouse le bac tu petit-fils pour que tout se passe au mieux on sait qu'il faut anticiper l'organisation pourtant quand on souscrit un contrat obsèques chez son banquier son banquier ou son assureur on parle du financement mais rarement de soulager nos proches face au choix difficile il faudrait pouvoir anticiper l'organisation des obsèques mais comment rock éclaire crée le contrat organisation nos conseillers funéraires on accompagne gratuitement pour organiser vos obsèques clairs la peau plus d'informations en agence retirez éclaire tirait prévoyance proclame nous parlons technologies électriques parlons autonomie parlons de renault zoé hi tech cent pour cent électrique jusqu'à trois cents quatre-vingt quinze km d'autonomie à partir de deux, Citation: la c'voiture est meilleur pour la qualité de l'air\n",
      "Texte: réseaux sociaux et je vous vois piloter des hélicoptères ou des avions eux aller sur des deux-roues à toute vitesse ses ces c'est quoi de vous aimez les sports de vitesse ou vous êtes dans un gîte vous faire peur non alors moi j'aime déjà les challenge est passé c'est permis la et surtout l'avion parce que ça est un vrai challenge pour le coup le bouquin de théories de cinq cents pages quand je l'ai vu arriver j'ai repris les cours de maths pendant un an j'ai c'est le challenge qui m'éclate c'est cette adrénaline là qu'est-ce que je vais chercher la moto j'ai toujours aimé ça et je j'en avais vraiment ras-le-bol de derrière donc en fait je me suis mais y passent le achètent à moto fin de l'histoire et j'ai je je suis vraiment une amoureuse oui de ses sensations de liberté que toutes ces choses-là apporte alors vous avez toujours de droite et à l'empreinte carbone et pollution étouffement mon bref y a un moment donné il faut avancer aussi mais un jeu oui je crois que j'aime je crois que je me suis jamais sentie aussi libre que dans ma quarantaine j'ai quarante-sept ans et est pour rien au monde repartira en arrière on s'assume tellement plus quand on a on l'a l'âge qu'qu'on a et moi je me sens bien mais vraiment bien et le prochain shoot d'adrénaline à part le treize novembre est la première parisienne pour le spectacle qu'est ce que ce sera à votre avis la chanson vaches devenant alors non je sais je sais pas du tout chantée puis le pour le coup je vais vraiment pas envie mais ça s'en est un bon c'est-à-dire se retrouver sur scène en fait pendant vingt ans j'ai fait un métier où je ne voyais pas les et gens quand la vous sentez en face de vous cette matière vivante c'est juste extraordinaire et j'ai d'ailleurs je je crois que je vais beaucoup aimé le théâtre même par la suite euh si on me le propose parce que il y a y un a risque un sur scène risque qu'sur on scène n'qu'a on pas n'ailleurs a et pas puis ailleurs ben et puis ben j'ai des chouettes proposition de cinéma par ailleurs donc je me dis bon volo avance tranquillement mais sûrement et puis on verra je n'ai pas de jauge pas de plan de carrière fait quoi et la télé n'en fait plus partie c'est sûr absolument sûr que je le dis tellement partout maintenant un retour est impossible alors vous l'avez trop crier non et puis j'ai vraiment aimé ce que j'ai fait pendant vingt ans je suis partie de mon propre chef et n'est pas de regret et je suis en revanche très fier et très heureux de ce que j'ai fait pendant vingt ans et bien merci beaucoup alessandra séries avoir été avec nous pour les incontournables, Citation: un jeu oui je crois que j'aime je crois que je me suis jamais sentie aussi libre que dans ma quarantaine... il faut avancer aussi\n",
      "Texte: ce fameux pot de yaourt pour savoir ce qu'il devenait euh réellement et à l'arrivée on apprend que trois pour cent seulement des pots de yaourt sont vraiment recyclés est encore en est pas fichu de le faire nous-même en france non c'est la seule usine de recyclage dans laquelle on envoie nos pots de yaourts se trouvent en espagne un on a aucun site qui est capable de le en faire france donc c'est effectivement trois pourcent du total des pots de yaourt qui sont jetés et on les transforme dans cette usine en espagne en en cintres ou pots de fleurs on en refait même pas d'autres pots de yaourt donc on est plus sûr du du dessy des clash cyclades que sur du sur carrelage du stéphane recyclage stéphane reprend du recyclage même pas des nouveau podium tous les autres ben on va en reparler alors il part pas qu'en espagne les autres il y en a certains qui partent en suède aussi et là c'est pas pour être sittler non ils partent en suède pour faire ce qu'on appelle du csr du combustible solide de récupération donc comme son nom eddy qui sont brûlés en fait un pour faire de l'énergie de la chaleur de l'énergie dite verte de l'énergie dite verte puisque ça vient d'un déchet donc on considère que c'est de la revalorisation alors qu'évidemment ça n'a ça pas n'grand-chose a de pas verre grand-chose puisqu'de on mais verre c'puisqu'est on peu met dire ses pots de yaourts sur des bateaux qui parcourt des centaines d'empreinte carbone yaourt on les brûle avec évidemment un rejet important de gaz à effet de serre dans l'atmosphère euh et on considère que c'est de l'énergie verte mais on ne fait pas que les envoyer en suède une bonne partie des pots de yaourts qu'on jette dans la poubelle jaune en france sont brûlés par des cimenteries ou des sites industriels pour chauffer des fours qui ont besoin d'énormément de matière pour pour chauffer pour faire du ciment pour faire du ciment et donc on a suivi euh notamment le parcours d'un pot de d'yaourt un pot depuis de un yaourt centre depuis de un tri centre puis de un tri centre puis un centre de surtri ou normalement ezio ils doivent être séparées les podiums des autres emballages pour être recyclées en fait on se rend compte que dans ce centre de surtri il n'arrive pas vraiment à séparer les pots de yaourt durrës dont qui transforme tout ça encore une fois en combustible et ça part dans une cimenterie à couvrant e ou ces pots de yaourt sont brûlés bien sûr pour faire ces gros tubes ces gros cubes compressé ces gros ballots plein de plastique et bien on les enrobe de plastique évidemment c'est nécessaire pour qu'on a du mal à se, Citation: Les pots de yaourt sont souvent envoyés à l'étranger pour produire de l'énergie dite verte.\n",
      "Texte: oui j'utilise des pesticides alors pour savoir quand même que on est très très encadrée en france dont il faisait des pesticides euh on a des contrôles on est obligé d'avoir dix artistes ito pour mettre ces produits là et puis s'est produit là on les met à des doses minimes eux qui sont autorisés par l'état donc faut savoir que la france on a les douze minime par rapport aux pays autres d'europe par exemple on a des produits qui sont interdits en france mais par contre on importe des céréales ou s'est produit là son autorité et le donc problème euh le c'problème c'est que la variable barrière chez les agriculteurs est de dire nous en france on a des normes les autres ne les ont pas et ces nouvelles arrivées qui sommes les victimes j'entends ça parfois et voilà et vous avez des pays très limitrophes un vous avez la belgique la hollande l'espagne d e des pays comme la betterave par exemple sur des betteraves sucrières je crois ou les détruire les arrières vous avez aussi on parlait du glyphosate vous avez le glyphosate voulus utilisé par exemple du glyphosate en angleterre en angleterre avant comments de moissonner commandes humblet y moissonner mette humblet du y glyphosate mettre en français interdit aujourd'hui on est une chose est sûre des céréales euh mais euh avant d'implanter la culture donc euh techniquement il n'y a pas de résidus si vous retrouver des résidus ben oui parce que on importe de la production qui n'est pas aux normes françaises donc avant de staps de se taper une une balle dans le pied je pense qu'il faut qu'on met tout le monde en harmonie et dire d'accord peut-être que le glyphosate sur un aliment c'est pas bon mais si on l'utilise dans l'essonne dont est il dans s'les est sols pas ne bon sont dans pas les bons sols dans non les plus sols pour non la plus bière pour la biodiversité c'est une catastrophe le moment on en retrouve pour le moment on se trouve pas le glyphosate dans les salles d'un souci de glyphosate dans les cellules le montre non mais le problème monsieur hugo clément c'est que vous travaillez avec des études mais vous ne travaillez pas sur le terrain et voir les agriculteurs allant je peux vous répondre c'est dommage je vais répondre tout de suite après la pause douze je passe ma vie sur le terrain regarder les émissions on passe notre vie avec des agriculteurs notamment avec des agriculteurs qui défend qui dénoncent, Citation: techniquement il n'y a pas de résidus si vous retrouver des résidus ben oui parce que on importe de la production qui n'est pas aux normes françaises\n",
      "Texte: font pour nous pour nous spécialement pauvre toutes ces familles qui sont là fernand soixante-dix-neuf ans est arrivé ici avec sept membres de sa famille là-bas où nous étions c'est infernal bon permettait dorme ma femme on jusqu'à présent traumatisé quelqu'un qui dans la rue qui se passe quelque chose se infernal vingt-cinq bénévoles les entoure dont léna vingt-quatre ans ils ne reçoivent aucune <unk> aide de l'état la nourriture est offerte par un restaurant voisin et les chambres sont mis à disposition gratuitement par les propriétaires on a essayé de créer une bulle dans lequel les familles sécurité se pour sentir répondre en à sécurité une pour précarité répondre extrême à ils une sont précarité arrivés en détresse psychologique ou physique il y a des gens qui sont arrivés en pyjama officiellement le gouvernement ne prévoit pas un retour dans les zones évacuées à la frontière de gaza et du liban avant le trente et un décembre tel aviv sébastien le belgique europe un et deux cent mille israéliens ont été déplacées par les combats benyamin netanyahou qui a aussi évoqué l'après c'est à dire lorsque viendra l'heure de sonner la fin du conflit et bien israël devra assurer la sécurité globale de la bande de gaza l'actualité de actualité ce de mardi ce mardi ce sont aussi les inondations inondations dans le pas-de-calais on est plus très loin de la crue du siècle départements placés en alerte rouge le niveau de l'eau dépasse déjà les un mètre cinquante dans certaines communes ont pourrait battre le record de deux mille deux on retrouve tout de suite le correspondant d'europe un en direct de blanc d'elle dans la vallée de la à bonjour lionel bijelo bonjour christophe bonjour à tous à lionel on imagine l'angoisse des habitants c'est l'une des communes particulièrement menacé par cette montée des eaux un oui effectivement l'angoisse à l'image de celle de patrick l'un des habitants qui a passé la nuit à l'son entrée quartier de inondé son quartier et inondé kiss et tant qui que se vous tend allez devant vous allez l'entendre comme il peut avec sa moto pompe personnelle de lutter contre la montée des eaux pour vingt maisons euh je propose de l'eau voulez-vous que fasse d'autres mes propres moyens en deux mille deux il y avait une forte inondation également craignaient que ce soit cela soit pareil ça aurait peut-être pire aujourd'hui la journée ça devrait monter encore pire on va appeler moralisant pardon amère et plus que des mots en lisant surtout quand on voit que on n'a aucune aide hier soir plusieurs habitants de la commune ont été évacués, Citation: on a aucune aide\n",
      "Texte: la conserve de trois cent quatre-vingt-cinq grammes c six ht soit deux euros vingt trois le kilo délicieuse au égale délicieux pour votre santé bougez plus a l'intention de notre très chère clientes propriétaire de la toyota ago crosses vous pouvez la déplacer vers les caméras de surveillance parce que j'aimerais bien admirer de plus près sur les écrans merci d'avance découvrez la toyota yaris cross le crossover urbain à partir de cent dix-neuf euros par mois entretien clé toyota yaris cross dynamique lld trente-sept mois trente mille km premier loyer premier trois loyer mille trois neuf cent mille soixante neuf euros cent réservée soixante-dix aux euros particuliers réservée aux particuliers sous conditions de reprise et commander jusqu'au vingt-cinq septembre détaille sur toyota point fr portes ouvertes ce week-end pensez à covoiturer écouter europe un partout dès maintenant en dab plus entre paris et marseille sans changer de fréquence et bientôt dans toute la france europe un toute l'actualité débat cédant punchline a tout de suite sur europe un klein dix-huit heures dix-neuf heures laurence ferrari sur europe un <unk> nouvelle voiture vraiment dire que c'est une voiture c'est une véritable uvre d'art aux lignes et courbes s'entremêlent dans un déluge coloriage oui oui oui citroën c3 laisse il est enfin accessible mène en fait pas trop quand même citroën c3 à partir de quatre-vingt dix-neuf euros par mois à quatre ans de garantie et assistance à faire portes ouvertes ce week-end citroën quarante-huit mm à quarante-huit km premier loyer de trois mille cinq cents euros offre particulier jusqu'au trente septembre sous réserve d'acceptation crédit par détaille sur citroën point fr selon point réseau fr participants selon pour réseau les participants trajets pour courts privilégier les la trajets marche courts privilégier la marche ou le vélo et voilà que maman et les chats told elle peut lire les paroles karaoké mais voilà mais pour une vision précise de près comme de loin découvrez les verts varie luxe d'essilor cent pourcent français votre opticiens atol dispositif médical c'est un demander conseil à votre opticien prenez parlons technologies électriques parlons de renault mégane hi tech cent pour cent électriques assemblés en france à douai des trois cents euros par mois bornes de recharge est installé, Citation: Les déplacements en voiture sont la seule solution viable pour la mobilité.\n"
     ]
    },
    {
     "name": "stderr",
     "output_type": "stream",
     "text": [
      "100%|██████████| 10/10 [00:10<00:00,  1.08s/it]"
     ]
    },
    {
     "name": "stdout",
     "output_type": "stream",
     "text": [
      "Time taken for 10 items: 10.86 seconds\n"
     ]
    },
    {
     "name": "stderr",
     "output_type": "stream",
     "text": [
      "\n"
     ]
    }
   ],
   "source": [
    "# with gpt-4o-mini\n",
    "start_time = time.time()\n",
    "subset = contradictions.iloc[:10]\n",
    "correction = await run_correction(subset.text, subset.quote)\n",
    "\n",
    "elapsed_time = time.time() - start_time\n",
    "\n",
    "print(f\"Time taken for {len(subset)} items: {elapsed_time:.2f} seconds\")"
   ]
  },
  {
   "cell_type": "code",
   "execution_count": null,
   "metadata": {},
   "outputs": [
    {
     "name": "stderr",
     "output_type": "stream",
     "text": [
      "  0%|          | 0/10 [00:00<?, ?it/s]"
     ]
    }
   ],
   "source": [
    "# with llama\n",
    "start_time = time.time()\n",
    "subset = contradictions.iloc[:10]\n",
    "correction = await run_correction(subset.text, subset.quote)\n",
    "\n",
    "elapsed_time = time.time() - start_time\n",
    "\n",
    "print(f\"Time taken for {len(subset)} items: {elapsed_time:.2f} seconds\")"
   ]
  },
  {
   "cell_type": "code",
   "execution_count": 78,
   "metadata": {},
   "outputs": [
    {
     "data": {
      "text/plain": [
       "[\"La conserve de 385 grammes c'est 6 HT soit 2,23 euros le kilo, délicieuse, égale à délicieux pour votre santé. Bougez plus à l'intention de notre très chère cliente, propriétaire de la Toyota Yaris Cross. Vous pouvez la déplacer vers les caméras de surveillance parce que j'aimerais bien admirer de plus près sur les écrans, merci d'avance. Découvrez la Toyota Yaris Cross, le crossover urbain à partir de 119 euros par mois. Entretien clé Toyota Yaris Cross dynamique LLD 37 mois, 30 000 km, premier loyer, premier trois loyers, 1 369 euros, réservée aux particuliers sous conditions de reprise et commande jusqu'au 25 septembre. Détails sur toyota.fr. Portes ouvertes ce week-end, pensez à covoiturer. Écoutez Europe 1 partout dès maintenant en DAB+, entre Paris et Marseille sans changer de fréquence et bientôt dans toute la France. Europe 1, toute l'actualité, débat, cédant punchline, à tout de suite sur Europe 1. Klein, 18 heures, 19 heures, Laurence Ferrari sur Europe 1. Nouvelle voiture, vraiment dire que c'est une voiture, c'est une véritable œuvre d'art où les lignes et courbes s'entremêlent dans un déluge de coloriage. Oui, oui, oui, Citroën C3, elle est enfin accessible, mais en fait pas trop quand même. Citroën C3 à partir de 99 euros par mois, à 4 ans de garantie et assistance. Portes ouvertes ce week-end, Citroën 48 mois, 48 000 km, premier loyer de 3 500 euros, offre particulière jusqu'au 30 septembre sous réserve d'acceptation de crédit. Détails sur citroen.fr. Selon le réseau des participants, privilégiez les trajets courts, la marche ou le vélo. Et voilà que maman et les chats, elle peut lire les paroles de karaoké. Mais pour une vision précise de près comme de loin, découvrez les verres Varilux d'Essilor, 100% français, votre opticien Atol, dispositif médical. C'est un demander conseil à votre opticien. Parlons technologies électriques, parlons de Renault Mégane Hi-Tech, 100% électriques, assemblés en France à Douai, dès 300 euros par mois, bornes de recharge installées. Citation : Les déplacements en voiture sont la seule solution viable pour la mobilité.\",\n",
       " \"Le réchauffement climatique a été mesuré à Grenoble par des glaciologues. On mesurait quand même à 4 300 mètres d'altitude, où ils ont fait un forage, c'est-à-dire que sous le Mont-Blanc, à 7 300 mètres, 500 mètres plus bas, dans ce forage, il a été mesuré 60 mètres de neige en dessous. Donc, à peu près, voilà 180 mètres de glace, c'est-à-dire de la neige imperméable. Il a été foré à 80 moins 14, 11 degrés, et on a été à 60 moins 11 degrés de profondeur. Aujourd'hui, ça s'est réchauffé de 2 degrés, on est à moins 9 degrés, à 4 300 mètres, à 60 mètres de profondeur dans la neige. Donc, il y a quand même un réchauffement à ces altitudes. On n'a pas de thermomètre en permanence planté dans le Mont-Blanc, et si on est à moins 15 degrés de température moyenne, peut-être qu'aujourd'hui on est à moins 14,5. En effet, ça reste froid, mais cela dit, c'est vrai que tout est perturbé sur Terre, y compris les calottes glaciaires. J'ai la chance de travailler au Groenland et en Antarctique généralement, donc on voit que partout, même les glaciers froids, les calottes glaciaires, les sommets, sont perturbés. Mais on ne peut pas faire le lien directement avec le réchauffement. Il n'y a pas de fond, en tout cas, d'accord. Je joue que dans quelques dizaines d'années, le Mont-Blanc froid va se réchauffer aussi. Tout se réchauffe, voilà, c'est bon. Pour l'instant, on est encore relativement tranquille, mais ça ne va peut-être pas durer. Je vous remercie beaucoup, Luc Moreau, glaciologue. Merci d'avoir été en direct sur Europe 1 depuis Chamonix, et à très bientôt. Europe 1 reçoit, merci à tous de nous avoir suivis sur Europe 1. Rendez-vous demain pour un nouvel Europa Soir. Excellente soirée avec La France Bouge, présenté par Élisabeth Assayag. Bonsoir Élisabeth, quel est le programme ? Bonsoir Hélène, si je vous dis 30 millions d'amis et Mabrouk, je suis sûr. Citation : on ne peut pas faire le lien directement avec le réchauffement.\",\n",
       " \"Oui, j'utilise des pesticides. Alors pour savoir quand même qu'on est très encadrés en France, on fait des pesticides. On a des contrôles, on est obligé d'avoir 10 agriculteurs pour mettre ces produits-là. Et puis ces produits-là, on les met à des doses minimales qui sont autorisées par l'État. Donc il faut savoir qu'en France, on a les 12 minimales par rapport aux autres pays d'Europe. Par exemple, on a des produits qui sont interdits en France, mais par contre, on importe des céréales. Le problème, c'est que la variable barrière chez les agriculteurs est de dire : nous en France, on a des normes, les autres ne les ont pas. Et ces nouvelles arrivées, qui sont les victimes, j'entends ça parfois. Et voilà, vous avez des pays très limitrophes, comme la Belgique, la Hollande, l'Espagne. Des pays comme la betterave, par exemple, sur des betteraves sucrières, je crois, ou les détruire. On parlait du glyphosate, vous avez le glyphosate qui est utilisé, par exemple, en Angleterre. En Angleterre, avant de moissonner, on met du glyphosate. En France, c'est interdit aujourd'hui. Une chose est sûre, des céréales, mais avant d'implanter la culture, donc techniquement, il n'y a pas de résidus. Si vous retrouvez des résidus, ben oui, parce qu'on importe de la production qui n'est pas aux normes françaises. Donc avant de se tirer une balle dans le pied, je pense qu'il faut qu'on mette tout le monde en harmonie et dire d'accord, peut-être que le glyphosate sur un aliment, ce n'est pas bon, mais si on l'utilise dans les sols, ce n'est pas bon non plus pour la biodiversité. C'est une catastrophe. Au moment où on en retrouve, pour le moment, on ne retrouve pas le glyphosate dans les sols. Le souci, c'est que vous travaillez avec des études, mais vous ne travaillez pas sur le terrain. Je peux vous répondre, c'est dommage, je vais répondre tout de suite après la pause. Je passe ma vie sur le terrain, je regarde les émissions, on passe notre vie avec des agriculteurs, notamment avec des agriculteurs qui défendent, qui dénoncent. Citation : techniquement il n'y a pas de résidus si vous retrouver des résidus ben oui parce que on importe de la production qui n'est pas aux normes françaises.\",\n",
       " \"Littoraux donc pour trouver du soleil, vous allez au sud, exactement demain, au sud d'une ligne Bordeaux, Aurillac, Lyon. Un ciel généralement clair, voilé, mais en tout cas une atmosphère agréable, ensoleillée, avec juste du vent d'autan en plaine toulousaine, jusqu'à 50 km en rafale. Et puis donc, les températures seront contrastées demain, entre 13 et 17 au nord sous la pluie, 7 à 22, voire 24 dans le sud sous le soleil. 24 ce sera pour Bastia, 22 à Marseille et Nice, 20 à Bordeaux et Toulouse. Il fera 17 à Nantes, 16 à Paris, 15 à Lille et Strasbourg, 13 à Londres. Ça reste quand même doux pour la saison. Merci Anthony Kaczmarek. Chez Aldi, nos pains et viennoiseries sont cuits dans nos magasins tout au long de la journée. Tous nos engagements qualité sur aldi.fr. Aldi place un nouveau consommateur pour votre santé, bougez plus. 19 heures sur Europe 1, dans un instant les GTA, les grands témoins de l'actualité du vendredi. Et aujourd'hui, son excellence Raphaël Morave, chargé d'affaires d'Israël en France, à tout de suite sur Europe 1. Europe 1 soir week-end, MMA business, entreprises. Je suis avec Franck, dirigeant d'une entreprise de réparation d'électroménager. Son élévateur est en panne, activités à l'arrêt, chiffre d'affaires en danger. Non, grâce à la garantie Bride Machine MMA, j'ai été vite indemnisé et j'ai pu changer l'élévateur sans impacter la trésorerie. Zéro tracas en ce moment, 50 % offerts sur l'assurance dirigeant jusqu'au 25 novembre 2023. Mois 50 % sur la première cotisation annuelle, conditions en agence. Voici Kenza, a de quoi être fière. Elle vient de faire 5 minutes de vélo pour aller chercher le pain. Kenza a décidé que dorénavant, pour les courts trajets, fini la voiture. C'est meilleur pour la qualité de l'air et ça lui permet de faire des économies et un peu d'exercice en prime. Alors oui, vraiment, Kenza a de quoi être fière. Saint-Jean d'Air, changeons de mobilités. Renseignez-vous sur les aides existantes de l'État, des collectivités et de votre employeur sur mieuxrespirerenville.gouv.fr. Ceci est un message de l'ADEME et du ministère de la Transition écologique. Avec Renault, les véhicules électriques sont enfin disponibles en occasion. Renault Zoé, 100 % électriques d'occasion, 3 à 30 000 km, à partir de 5. Citation: la voiture c'est meilleur pour la qualité de l'air.\",\n",
       " \"Réseaux sociaux, et je vous vois piloter des hélicoptères ou des avions, aller sur des deux-roues à toute vitesse. C'est quoi, vous aimez les sports de vitesse ou vous êtes dans un gîte ? Ça ne vous fait pas peur ? Non, alors moi j'aime déjà les challenges. Passer des permis, là, et surtout l'avion, parce que c'est un vrai challenge. Pour le coup, le bouquin de théories de 500 pages, quand je l'ai vu arriver, j'ai repris les cours de maths pendant un an. C'est le challenge qui m'éclate, c'est cette adrénaline-là que je vais chercher. La moto, j'ai toujours aimé ça, et j'en avais vraiment ras-le-bol de rester derrière. Donc en fait, je me suis dit, je vais acheter une moto, fin de l'histoire. Et je suis vraiment une amoureuse, oui, de ces sensations de liberté que toutes ces choses-là apportent. Alors, vous avez toujours de droite et à l'empreinte carbone et pollution, étouffement. Bref, il y a un moment donné, il faut avancer aussi. Mais un jeu, oui, je crois que j'aime. Je crois que je ne me suis jamais sentie aussi libre que dans ma quarantaine. J'ai 47 ans et pour rien au monde, je ne repartirai en arrière. On s'assume tellement plus quand on a l'âge qu'on a, et moi je me sens bien, mais vraiment bien. Et le prochain shoot d'adrénaline, à part le 13 novembre, est la première parisienne pour le spectacle. Qu'est-ce que ce sera, à votre avis ? La chanson, je ne sais pas du tout chantée. Pour le coup, je n'ai vraiment pas envie, mais ça, c'en est un bon. C'est-à-dire se retrouver sur scène. En fait, pendant 20 ans, j'ai fait un métier où je ne voyais pas les gens. Quand là, vous sentez en face de vous cette matière vivante, c'est juste extraordinaire. D'ailleurs, je crois que je vais beaucoup aimer le théâtre, même par la suite, si on me le propose, parce qu'il y a un risque sur scène. Risque qu'on n'a pas ailleurs. Et puis, j'ai des chouettes propositions de cinéma par ailleurs. Donc je me dis, bon, j'avance tranquillement mais sûrement, et puis on verra. Je n'ai pas de jauge, pas de plan de carrière. La télé n'en fait plus partie, c'est sûr, absolument sûr. Je le dis tellement partout maintenant, un retour est impossible. Alors, vous l'avez trop crié ? Non, et puis j'ai vraiment aimé ce que j'ai fait pendant 20 ans. Je suis partie de mon propre chef et je n'ai pas de regrets. Je suis en revanche très fière et très heureuse de ce que j'ai fait pendant 20 ans. Bien, merci beaucoup Alessandra d'avoir été avec nous pour les incontournables. Citation : un jeu oui je crois que j'aime je crois que je me suis jamais sentie aussi libre que dans ma quarantaine... il faut avancer aussi.\",\n",
       " \"Les actions qui ont commencé à vérifier autour de soi s'il y a des problèmes particuliers, et puis surtout, comme il a été dit, éviter de circuler à partir de mercredi, la nuit de mercredi à jeudi et jeudi matin sur un quart nord-ouest. Avec les vacances et ce jour férié au milieu, on sait que les jeunes ont bon vouloir se déplacer, c'est normal. Les mesures de sécurité et d'anticipation, Alix Roumagnac, président de Predict Services, est avec nous en direct sur Europe. Depuis Xynthia en 2010, on a fait beaucoup de progrès. Vous le constatez, vous qui travaillez pour les communes et les collectivités, en termes de prévention, de préparation et d'anticipation. Beaucoup de choses ont évolué, déjà, c'est la généralisation de ce qu'on appelle les plans communaux de sauvegarde, c'est-à-dire que chaque commune a réalisé un plan d'action pour chaque type d'aléas : inondations, tempêtes, submersions marines. Des actions sont identifiées par les mairies pour être mises en œuvre par l'anticipation et l'information des populations, afin d'éviter toute mise en danger. On accompagne ces communes au quotidien en termes de ce genre d'événements. Mais il y a des recommandations pour activer ces plans communaux de sauvegarde. Il y a vraiment des chaînes ou des incomplets, même si sur les tempêtes hivernales, il n'y a aucun lien avec le dérèglement climatique. Comme l'indiquent les experts, ces événements extrêmes, que ce soit les fortes pluies ou les inondations dans le sud ou le nord, les mairies et les citoyens, ensemble, aujourd'hui, adoptent des mesures pour limiter ces phénomènes. On a beaucoup de partenariats avec les membres de l'assurance, c'est aussi un gros travail de prévention sur le sujet. On voit que les choses évoluent dans le bon sens. Alix Roumagnac, vous restez avec nous, bien sûr. On va prendre un autre auditeur, vous êtes nombreux à téléphoner à Europa. Trésor, bonjour Éric, bonjour à tout le monde, merci beaucoup de nous appeler. Vous habitez dans la Manche, à Granville, exactement, et vous êtes sauveteur en mer, oui, entre autres. Citation : il y a il a aucun lien avec le dérèglement climatique.\",\n",
       " \"Lendemain et le lendemain du surlendemain, bonne chance démarre déjà chez Intermarché pour l'achat d'un calendrier de l'avent Kinder. Le deuxième est à moins 50 %. C'est ça, les 100 jours du pouvoir d'achat, et c'est aussi au drive et en livraison. Intermarché, tous unis contre la vie chère jusqu'au 19 novembre, sur le moins cher des deux modalités sur internet chez point com. Pour votre santé, limitez les aliments gras, salés, sucrés. Voici Kenza. Kenza a de quoi être fière, elle vient de faire 5 minutes de vélo pour aller chercher le pain. Kenza a décidé que pour dorénavant, les courts trajets, fini la voiture. La voiture est meilleure pour la qualité de l'air et ça lui permet de faire des économies et un peu d'exercice en prime. Alors oui, vraiment, Kenza a de quoi être fière. Saint-Jean d'Air, changeons de mobilités. Renseignez-vous sur les aides existantes de l'État, des collectivités et de votre employeur sur mieux respirer en ville point gouv point fr. Ceci est un message de l'Ademe et du ministère de la Transition écologique. On peut penser qu'on n'a toujours pas les moyens de passer à l'électrique ou on ne peut franchir le cap avec Dacia Spring. Dacia Spring, 100 % électrique, est à partir de 79 euros par mois, avec 3 ans d'entretien inclus, est disponible immédiatement. Profitez-en dans le réseau Dacia avant la fin du bonus écologique 2023, le 15 décembre. Spring hors actions LLD, 37 mois, 30 000 km, premier loyer ramené à zéro euro après déduction des aides d'État, puis 30 si le loyer de 79 euros par mois. Offre particulière selon stock disponible jusqu'au 15 décembre, voir dacia point fr. Pensez à covoiturer quand on fait son mariage, les 60 ans de son épouse, le bac de son petit-fils, pour que tout se passe au mieux. On sait qu'il faut anticiper l'organisation. Pourtant, quand on souscrit un contrat obsèques chez son banquier ou son assureur, on parle du financement mais rarement de soulager nos proches face au choix difficile. Il faudrait pouvoir anticiper l'organisation des obsèques, mais comment ? Rock Éclaire crée le contrat organisation. Nos conseillers funéraires vous accompagnent gratuitement pour organiser vos obsèques. Éclaire, plus d'informations en agence. Retirez Éclaire Prévoyance. Parlons technologies électriques, parlons autonomie, parlons de Renault Zoé Hi-Tech, 100 % électrique, jusqu'à 395 km d'autonomie à partir de 2. Citation : la c'voiture est meilleur pour la qualité de l'air.\",\n",
       " \"Font pour nous, spécialement pour toutes ces familles qui sont là. Fernand, 79 ans, est arrivé ici avec sept membres de sa famille. Là-bas, où nous étions, c'était infernal. Bon, permettez-moi de dire que ma femme est jusqu'à présent traumatisée. Quand quelqu'un est dans la rue, il se passe quelque chose d'infernal. Vingt-cinq bénévoles les entourent, dont Léna, 24 ans. Ils ne reçoivent aucune aide de l'État. La nourriture est offerte par un restaurant voisin et les chambres sont mises à disposition gratuitement par les propriétaires. On a essayé de créer une bulle dans laquelle les familles peuvent se sentir en sécurité. Une réponse à la précarité extrême, car elles sont arrivées en détresse psychologique ou physique. Il y a des gens qui sont arrivés en pyjama. Officiellement, le gouvernement ne prévoit pas un retour dans les zones évacuées à la frontière de Gaza et du Liban avant le 31 décembre. À Tel Aviv, Sébastien, en Belgique, en Europe, 200 000 Israéliens ont été déplacés par les combats. Benyamin Netanyahou a aussi évoqué l'après, c'est-à-dire lorsque viendra l'heure de sonner la fin du conflit. Eh bien, Israël devra assurer la sécurité globale de la bande de Gaza. L'actualité de ce mardi, ce sont aussi les inondations dans le Pas-de-Calais. On n'est plus très loin de la crue du siècle. Des départements sont placés en alerte rouge. Le niveau de l'eau dépasse déjà 1,50 m dans certaines communes. On pourrait battre le record de 2002. On retrouve tout de suite le correspondant d'Europe 1 en direct de Blanc-Délan, dans la vallée de la. Bonjour Lionel Bijelo, bonjour Christophe, bonjour à tous. À Lionel, on imagine l'angoisse des habitants. C'est l'une des communes particulièrement menacées par cette montée des eaux. Oui, effectivement, l'angoisse est à l'image de celle de Patrick, l'un des habitants, qui a passé la nuit à son entrée, dans un quartier inondé. Son quartier est inondé. Il tente, avec sa moto-pompe personnelle, de lutter contre la montée des eaux pour vingt maisons. Je propose de l'eau. Voulez-vous que je fasse d'autres choses de mes propres moyens ? En 2002, il y avait une forte inondation également. Ils craignent que cela soit pareil, que ce soit peut-être pire aujourd'hui. La journée, ça devrait monter encore. On va appeler Moralisant, pardon, amère, et plus que des mots en lisant, surtout quand on voit qu'on n'a aucune aide. Hier soir, plusieurs habitants de la commune ont été évacués. Citation : on a aucune aide.\",\n",
       " \"et aujourd'hui on se retrouve à construire des éoliennes qui sont très laides et peu efficaces parce qu'elles ne produisent pas d'électricité ou peu d'électricité. Je pense notamment à la baie de La Baule, c'est une horreur ces éoliennes. L'énergie solaire, par définition, produit de l'électricité dans la journée, à un moment où on n'en a pas besoin. Oui, mais on ne peut pas dire que c'est le soir qu'on a besoin, qu'on est en paix. Le gazole du solaire, Pascal Praud, ce n'est pas tout à fait vrai, parce qu'en fait, dans le tertiaire, il y a des besoins de faire tourner les ordinateurs dans la journée, donc il y a une certaine cohérence. En revanche, pour le domestique, si vous ajoutez la choucroute qui va avec deux batteries, le fait que vous êtes limité à tous les points, parce que deux DSP, un lobbying forcené pour défendre son croûton, qu'on peut comprendre, ils ont assez de députés qui sont plus ou moins à pointer chez ceux qui défendent le fait qu'EDF, EDF grande merveille. Alors maintenant, je reprends, les journalistes ne se sont pas trop penchés sur pourquoi l'électricité doit augmenter de façon inconsidérée, tout simplement parce que des petites entreprises confidentielles n'ont plus les ressources techniques pour fabriquer des EPR. Du coup, on est parti sur Flamanville, 3 milliards, on en est à 20 milliards et ça ne fonctionne toujours pas. Ben moi, j'aimerais bien que le journaliste essaye de mettre le nez dans le même pot. Je vais vous poser une question, vous êtes une éternité, le nom d'un énarque qui a été condamné pour incompétence ou malversations, un seul. Mais alors, ce n'est pas la même chose, incompétence et malversations, on ne parle pas. Non, attendez, incompétence, malversations, quand vous êtes à la tête d'une entreprise ou d'un État, ce sont deux choses auxquelles vous n'avez pas droit et qui devraient donc être sanctionnées. Jamais lu, j'ai jamais entendu un journaliste parler d'un an. Mais c'est scandaleux. Le préfet de machin, petite Furiani par exemple, censé être le garant de l'application de la loi, ben lui, il n'a pas été inquiété quand le stade est tombé. Il aurait pu, il était censé être responsable de l'ensemble des chapeaux. Citation : Les éoliennes sont très laides et peu efficaces parce qu'elles ne produisent pas d'électricité.\",\n",
       " \"Ce fameux pot de yaourt, pour savoir ce qu'il devenait réellement, à l'arrivée, on apprend que 3 % seulement des pots de yaourt sont vraiment recyclés. Et encore, on n'est pas fichu de le faire nous-mêmes en France. Non, c'est la seule usine de recyclage dans laquelle on envoie nos pots de yaourt qui se trouve en Espagne. On n'a aucun site qui est capable de le faire en France. Donc, c'est effectivement 3 % du total des pots de yaourt qui sont jetés, et on les transforme dans cette usine en Espagne en cintres ou pots de fleurs. On ne refait même pas d'autres pots de yaourt. Donc, on n'est plus sûr du recyclage que sur du carrelage. Le recyclage reprend même pas des nouveaux pots. Tous les autres, on va en reparler. Alors, ils ne partent pas qu'en Espagne. Il y en a certains qui partent en Suède aussi, et là, ce n'est pas pour être cités. Non, ils partent en Suède pour faire ce qu'on appelle du CSR, du combustible solide de récupération. Donc, comme son nom l'indique, ils sont brûlés en fait pour faire de l'énergie, de la chaleur, de l'énergie dite verte, puisque ça vient d'un déchet. Donc, on considère que c'est de la revalorisation, alors qu'évidemment, ça n'a pas grand-chose à voir, puisque on peut dire que ces pots de yaourt sont mis sur des bateaux qui parcourent des centaines de kilomètres, avec une empreinte carbone importante. On les brûle, avec évidemment un rejet important de gaz à effet de serre dans l'atmosphère. Et on considère que c'est de l'énergie verte. Mais on ne fait pas que les envoyer en Suède. Une bonne partie des pots de yaourt qu'on jette dans la poubelle jaune en France sont brûlés par des cimenteries ou des sites industriels pour chauffer des fours qui ont besoin d'énormément de matière pour faire du ciment. Et donc, on a suivi notamment le parcours d'un pot de yaourt, depuis un centre de tri, puis un centre de surtri où normalement, ils doivent être séparés, les pots des autres emballages pour être recyclés. En fait, on se rend compte que dans ce centre de surtri, ils n'arrivent pas vraiment à séparer les pots de yaourt, donc ils transforment tout ça encore une fois en combustible, et ça part dans une cimenterie où ces pots de yaourt sont brûlés, bien sûr, pour faire ces gros tubes, ces gros cubes compressés, ces gros ballots pleins de plastique. Et bien, on les enrobe de plastique, évidemment, c'est nécessaire pour qu'on ait du mal à se... Citation : Les pots de yaourt sont souvent envoyés à l'étranger pour produire de l'énergie dite verte.\"]"
      ]
     },
     "execution_count": 78,
     "metadata": {},
     "output_type": "execute_result"
    }
   ],
   "source": [
    "correction"
   ]
  },
  {
   "cell_type": "code",
   "execution_count": 66,
   "metadata": {},
   "outputs": [
    {
     "data": {
      "text/plain": [
       "10"
      ]
     },
     "execution_count": 66,
     "metadata": {},
     "output_type": "execute_result"
    }
   ],
   "source": [
    "len(correction)"
   ]
  },
  {
   "cell_type": "code",
   "execution_count": 73,
   "metadata": {},
   "outputs": [
    {
     "name": "stdout",
     "output_type": "stream",
     "text": [
      "('Correction : La conserve de 385 grammes coûte 6 HT, soit 2,23 euros le kilo. '\n",
      " 'Délicieuse, elle est également délicieuse pour votre santé. Bougez plus ! À '\n",
      " \"l'intention de notre très chère cliente, propriétaire de la Toyota Yaris \"\n",
      " 'Cross, vous pouvez la déplacer vers les caméras de surveillance, parce que '\n",
      " \"j'aimerais bien admirer de plus près sur les écrans. Merci d'avance. \"\n",
      " 'Découvrez la Toyota Yaris Cross, le crossover urbain, à partir de 119 euros '\n",
      " 'par mois. Entretien clé Toyota Yaris Cross dynamique LLD 37 mois, 30 000 km, '\n",
      " 'premier loyer, premier trois loyers, 1 369 euros. Réservé aux particuliers, '\n",
      " \"sous conditions de reprise, et commandez jusqu'au 25 septembre. Détails sur \"\n",
      " 'toyota.fr. Portes ouvertes ce week-end, pensez à covoiturer. Écoutez Europe '\n",
      " '1 partout dès maintenant en DAB+, entre Paris et Marseille, sans changer de '\n",
      " \"fréquence, et bientôt dans toute la France. Europe 1, toute l'actualité, \"\n",
      " 'débat, cédant punchline. À tout de suite sur Europe 1, Klein, 18 heures, 19 '\n",
      " 'heures, Laurence Ferrari sur Europe 1. Nouvelle voiture, vraiment dire que '\n",
      " \"c'est une voiture, c'est une véritable œuvre d'art où les lignes et courbes \"\n",
      " \"s'entremêlent dans un déluge de coloriage. Oui, oui, oui, Citroën C3, elle \"\n",
      " 'est enfin accessible, mais pas trop quand même. Citroën C3 à partir de 99 '\n",
      " 'euros par mois, à 4 ans de garantie et assistance. Portes ouvertes ce '\n",
      " 'week-end, Citroën, 48 mois, 48 km, premier loyer de 3 500 euros, offre '\n",
      " \"particulière jusqu'au 30 septembre, sous réserve d'acceptation de crédit. \"\n",
      " 'Détails sur citroen.fr. Selon le réseau des participants, privilégiez les '\n",
      " 'trajets courts, la marche ou le vélo. Et voilà que maman et les chats... '\n",
      " 'Elle peut lire les paroles de karaoké. Mais pour une vision précise, de près '\n",
      " \"comme de loin, découvrez les verres Varilux d'Essilor, 100 % français, votre \"\n",
      " 'opticien Atol. Dispositif médical, demandez conseil à votre opticien. '\n",
      " 'Parlons technologies électriques, parlons de Renault Mégane Hi-Tech, 100 % '\n",
      " 'électriques, assemblés en France à Douai, dès 300 euros par mois. Bornes de '\n",
      " 'recharge installées.\\n'\n",
      " '\\n'\n",
      " 'Citation : Les déplacements en voiture sont la seule solution viable pour la '\n",
      " 'mobilité.')\n"
     ]
    }
   ],
   "source": [
    "pprint.pprint(correction[0])"
   ]
  },
  {
   "cell_type": "code",
   "execution_count": 72,
   "metadata": {},
   "outputs": [
    {
     "data": {
      "text/plain": [
       "\"la conserve de trois cent quatre-vingt-cinq grammes c six ht soit deux euros vingt trois le kilo délicieuse au égale délicieux pour votre santé bougez plus a l'intention de notre très chère clientes propriétaire de la toyota ago crosses vous pouvez la déplacer vers les caméras de surveillance parce que j'aimerais bien admirer de plus près sur les écrans merci d'avance découvrez la toyota yaris cross le crossover urbain à partir de cent dix-neuf euros par mois entretien clé toyota yaris cross dynamique lld trente-sept mois trente mille km premier loyer premier trois loyer mille trois neuf cent mille soixante neuf euros cent réservée soixante-dix aux euros particuliers réservée aux particuliers sous conditions de reprise et commander jusqu'au vingt-cinq septembre détaille sur toyota point fr portes ouvertes ce week-end pensez à covoiturer écouter europe un partout dès maintenant en dab plus entre paris et marseille sans changer de fréquence et bientôt dans toute la france europe un toute l'actualité débat cédant punchline a tout de suite sur europe un klein dix-huit heures dix-neuf heures laurence ferrari sur europe un <unk> nouvelle voiture vraiment dire que c'est une voiture c'est une véritable uvre d'art aux lignes et courbes s'entremêlent dans un déluge coloriage oui oui oui citroën c3 laisse il est enfin accessible mène en fait pas trop quand même citroën c3 à partir de quatre-vingt dix-neuf euros par mois à quatre ans de garantie et assistance à faire portes ouvertes ce week-end citroën quarante-huit mm à quarante-huit km premier loyer de trois mille cinq cents euros offre particulier jusqu'au trente septembre sous réserve d'acceptation crédit par détaille sur citroën point fr selon point réseau fr participants selon pour réseau les participants trajets pour courts privilégier les la trajets marche courts privilégier la marche ou le vélo et voilà que maman et les chats told elle peut lire les paroles karaoké mais voilà mais pour une vision précise de près comme de loin découvrez les verts varie luxe d'essilor cent pourcent français votre opticiens atol dispositif médical c'est un demander conseil à votre opticien prenez parlons technologies électriques parlons de renault mégane hi tech cent pour cent électriques assemblés en france à douai des trois cents euros par mois bornes de recharge est installé\""
      ]
     },
     "execution_count": 72,
     "metadata": {},
     "output_type": "execute_result"
    }
   ],
   "source": [
    "contradictions.iloc[:10].text.iloc[0]"
   ]
  },
  {
   "cell_type": "code",
   "execution_count": 65,
   "metadata": {},
   "outputs": [
    {
     "data": {
      "text/plain": [
       "[\"Correction : La conserve de 385 grammes coûte 6 HT, soit 2,23 euros le kilo. Délicieuse, elle est également délicieuse pour votre santé. Bougez plus ! À l'intention de notre très chère cliente, propriétaire de la Toyota Yaris Cross, vous pouvez la déplacer vers les caméras de surveillance, parce que j'aimerais bien admirer de plus près sur les écrans. Merci d'avance. Découvrez la Toyota Yaris Cross, le crossover urbain, à partir de 119 euros par mois. Entretien clé Toyota Yaris Cross dynamique LLD 37 mois, 30 000 km, premier loyer, premier trois loyers, 1 369 euros. Réservé aux particuliers, sous conditions de reprise, et commandez jusqu'au 25 septembre. Détails sur toyota.fr. Portes ouvertes ce week-end, pensez à covoiturer. Écoutez Europe 1 partout dès maintenant en DAB+, entre Paris et Marseille, sans changer de fréquence, et bientôt dans toute la France. Europe 1, toute l'actualité, débat, cédant punchline. À tout de suite sur Europe 1, Klein, 18 heures, 19 heures, Laurence Ferrari sur Europe 1. Nouvelle voiture, vraiment dire que c'est une voiture, c'est une véritable œuvre d'art où les lignes et courbes s'entremêlent dans un déluge de coloriage. Oui, oui, oui, Citroën C3, elle est enfin accessible, mais pas trop quand même. Citroën C3 à partir de 99 euros par mois, à 4 ans de garantie et assistance. Portes ouvertes ce week-end, Citroën, 48 mois, 48 km, premier loyer de 3 500 euros, offre particulière jusqu'au 30 septembre, sous réserve d'acceptation de crédit. Détails sur citroen.fr. Selon le réseau des participants, privilégiez les trajets courts, la marche ou le vélo. Et voilà que maman et les chats... Elle peut lire les paroles de karaoké. Mais pour une vision précise, de près comme de loin, découvrez les verres Varilux d'Essilor, 100 % français, votre opticien Atol. Dispositif médical, demandez conseil à votre opticien. Parlons technologies électriques, parlons de Renault Mégane Hi-Tech, 100 % électriques, assemblés en France à Douai, dès 300 euros par mois. Bornes de recharge installées.\\n\\nCitation : Les déplacements en voiture sont la seule solution viable pour la mobilité.\",\n",
       " \"Correction : Le réchauffement climatique, la collecte de Grenoble de glaciologues, on mesurait quand même à 4300 mètres d'altitude. Ils ont fait un forage, c'est-à-dire que sous le Mont-Blanc, à 7300 mètres, 500 mètres plus bas, et dans ce forage, il a été mesuré 60 mètres de neige en dessous. Donc, à peu près, voilà 180 mètres de glace, c'est-à-dire de la neige imperméable. Il a été foré à 80 moins 14, 11 degrés, on a été à 60 moins 11 degrés de profondeur. Aujourd'hui, ça s'est réchauffé de 2 degrés, on est à moins 9 degrés. On a 4300 mètres à 60 mètres de profondeur dans la neige, et donc il y a quand même un réchauffement de ces effrois d'altitude. Et donc, le Mont-Blanc, on n'a pas de thermomètre en permanence planté dans le Mont-Blanc, et si on est à moins 15 degrés, température moyenne, peut-être qu'aujourd'hui on est à moins 14,5. En effet, ça reste froid, mais cela dit, c'est vrai que tout est perturbé sur Terre, y compris les calottes glaciaires. J'ai la chance de travailler au Groenland et en Antarctique généralement, donc on voit que partout, même les glaciers froids, les calottes glaciaires, les sommets, voilà, sont perturbés. Mais on ne peut pas faire le lien directement avec le réchauffement. Il n'y a pas de fond, en tout cas, d'accord. Belge, je joue que dans quelques dizaines d'années, le Mont-Blanc froid va se réchauffer aussi. Tout se réchauffe, voilà, c'est bon. Et pour nous, on essaye de limiter tout ça. En fait, pour l'instant, on est encore relativement tranquille, mais ça ne va peut-être pas durer. Je vous remercie beaucoup, Luc Moreau, glaciologue. Merci d'avoir été en direct sur Europe 1 depuis Chamonix, et à très bientôt. Europe 1 reçoit, merci à tous de nous avoir suivis sur Europe 1. Rendez-vous demain pour un nouvel Europa Soir. Excellente soirée avec La France Bouge, présenté par Élisabeth Assayag. Bonsoir Élisabeth, quel est le programme ? Bonsoir Hélène, si je vous dis 30 millions d'amis et Mabrouk, je suis sûr...\",\n",
       " 'Correction : Oui, j\\'utilise des pesticides. Alors, pour savoir quand même que nous sommes très encadrés en France, on utilise des pesticides. Nous avons des contrôles, et nous sommes obligés d\\'avoir dix attestations pour mettre ces produits-là. Et puis, ces produits-là, on les met à des doses minimales qui sont autorisées par l\\'État. Donc, il faut savoir qu\\'en France, nous avons les normes les plus strictes par rapport aux autres pays d\\'Europe. Par exemple, nous avons des produits qui sont interdits en France, mais par contre, nous importons des céréales où ces produits-là sont autorisés. \\n\\nLe problème, c\\'est que la barrière variable chez les agriculteurs est de dire : \"Nous, en France, nous avons des normes, les autres ne les ont pas.\" Et ces nouvelles arrivées, ce sont les victimes, j\\'entends ça parfois. Et voilà, vous avez des pays très limitrophes, comme la Belgique, la Hollande, l\\'Espagne, et des pays comme ceux qui cultivent la betterave, par exemple, sur des betteraves sucrières. Je crois qu\\'ils utilisent aussi le glyphosate. Vous avez le glyphosate qui est utilisé, par exemple, en Angleterre. En Angleterre, avant de moissonner, ils mettent du glyphosate. En France, c\\'est interdit aujourd\\'hui. \\n\\nUne chose est sûre, pour les céréales, avant d\\'implanter la culture, techniquement, il n\\'y a pas de résidus. Si vous retrouvez des résidus, eh bien oui, parce que nous importons de la production qui n\\'est pas aux normes françaises. Donc, avant de se tirer une balle dans le pied, je pense qu\\'il faut que tout le monde soit en harmonie et dire : \"D\\'accord, peut-être que le glyphosate sur un aliment, ce n\\'est pas bon, mais si on l\\'utilise dans les sols, ce n\\'est pas bon non plus pour la biodiversité.\" C\\'est une catastrophe. Au moment où on en retrouve, pour le moment, on ne trouve pas de glyphosate dans les sols. \\n\\nLe souci, c\\'est que, Monsieur Hugo Clément, vous travaillez avec des études, mais vous ne travaillez pas sur le terrain et vous ne voyez pas les agriculteurs. Je peux vous répondre, c\\'est dommage, je vais répondre tout de suite après la pause. Je passe ma vie sur le terrain, je regarde les émissions, on passe notre vie avec des agriculteurs, notamment avec des agriculteurs qui défendent et qui dénoncent. \\n\\nCitation : techniquement il n\\'y a pas de résidus si vous retrouver des résidus ben oui parce que on importe de la production qui n\\'est pas aux normes françaises.',\n",
       " \"Correction : Les littoraux, donc pour trouver du soleil, vous allez au sud, exactement demain, au sud d'une ligne Bordeaux, Aurillac, Lyon. Un ciel généralement clair, voilé, mais en tout cas une atmosphère agréable, ensoleillée, avec juste du vent d'autan en plaine toulousaine, jusqu'à 50 km en rafale. Et puis donc, les températures seront contrastées demain, entre 13 et 17 au nord sous la pluie, 7 à 22, voire 24 dans le sud sous le soleil. 24 ce sera pour Bastia, 22 à Marseille et Nice, 20 à Bordeaux et Toulouse. Il fera 17 à Nantes, 16 à Paris, 15 à Lille et Strasbourg, 13 à Londres. Ça reste quand même doux pour la saison. Merci Anthony Kaczmarek. Chez Aldi, nos pains et viennoiseries sont cuits dans nos magasins tout au long de la journée. Tous nos engagements qualité sur aldi.fr. Aldi place un nouveau consommateur pour votre santé, bougez plus. 19 heures sur Europe 1, dans un instant, les GTA, les grands témoins de l'actualité du vendredi. Et aujourd'hui, son excellence Raphaël Morave, chargé d'affaires d'Israël en France, à tout de suite sur Europe 1. Europe 1 soir week-end, MMA business, entreprises. Je suis avec Franck, dirigeant d'une entreprise de réparation d'électroménager. Son élévateur est en panne, activités à l'arrêt, chiffre d'affaires en danger. Non, grâce à la garantie Bride Machine MMA, j'ai été vite indemnisé et j'ai pu changer l'élévateur sans impacter la trésorerie. Zéro tracas en ce moment, 50 % offerts sur l'assurance dirigeant jusqu'au 25 novembre 2023. Mois 50 % sur la première cotisation annuelle, conditions en agence. Voici Kenza, a de quoi être fière. Elle vient de faire 5 minutes de vélo pour aller chercher le pain. Kenza a décidé que dorénavant, pour les courts trajets, fini la voiture. C'est meilleur pour la qualité de l'air et ça lui permet de faire des économies et un peu d'exercice en prime. Alors oui, vraiment, Kenza a de quoi être fière. Saint-Jean d'Air, changeons de mobilités. Renseignez-vous sur les aides existantes de l'État, des collectivités et de votre employeur sur mieuxrespirerenville.gouv.fr. Ceci est un message de l'ADEME et du ministère de la Transition écologique. Avec Renault, les véhicules électriques sont enfin disponibles en occasion. Renault Zoé, 100 % électriques d'occasion, 3 à 30 000 km, à partir de 5. \\n\\nCitation : la voiture c'est meilleur pour la qualité de l'air.\",\n",
       " \"Correction : Les réseaux sociaux, et je vous vois piloter des hélicoptères ou des avions, aller sur des deux-roues à toute vitesse. C'est quoi, vous aimez les sports de vitesse ou vous êtes dans un gîte ? Vous ne vous faites pas peur ? Non, alors moi j'aime déjà les challenges. Passer le permis, là, et surtout l'avion, parce que c'est un vrai challenge. Pour le coup, le bouquin de théories de 500 pages, quand je l'ai vu arriver, j'ai repris les cours de maths pendant un an. C'est le challenge qui m'éclate, c'est cette adrénaline-là que je vais chercher. La moto, j'ai toujours aimé ça, et j'en avais vraiment ras-le-bol de rester derrière. Donc en fait, je me suis dit, je vais acheter une moto, fin de l'histoire. Et je suis vraiment une amoureuse, oui, de ces sensations de liberté que toutes ces choses-là apportent. Alors, vous avez toujours de droite et à l'empreinte carbone et pollution, étouffement. Bref, il y a un moment donné, il faut avancer aussi. Mais un jeu, oui, je crois que j'aime. Je crois que je ne me suis jamais sentie aussi libre que dans ma quarantaine. J'ai 47 ans et pour rien au monde, je ne repartirai en arrière. On s'assume tellement plus quand on a l'âge qu'on a, et moi je me sens bien, mais vraiment bien. Et le prochain shoot d'adrénaline, à part le 13 novembre, est la première parisienne pour le spectacle. Qu'est-ce que ce sera, à votre avis ? La chanson ? Je ne sais pas du tout. Chantée, puis pour le coup, je n'ai vraiment pas envie. Mais ça, c'en est un bon. C'est-à-dire se retrouver sur scène. En fait, pendant 20 ans, j'ai fait un métier où je ne voyais pas les gens. Quand là, vous sentez en face de vous cette matière vivante, c'est juste extraordinaire. Et d'ailleurs, je crois que je vais beaucoup aimer le théâtre, même par la suite, si on me le propose. Parce qu'il y a un risque sur scène, qu'on n'a pas ailleurs. Et puis, j'ai des chouettes propositions de cinéma par ailleurs. Donc je me dis, bon, j'avance tranquillement mais sûrement, et puis on verra. Je n'ai pas de jauge, pas de plan de carrière, et la télé n'en fait plus partie, c'est sûr. Absolument sûr que je le dis tellement partout maintenant, un retour est impossible. Alors, vous l'avez trop crié ? Non, et puis j'ai vraiment aimé ce que j'ai fait pendant 20 ans. Je suis partie de mon propre chef et je n'ai pas de regrets. Je suis en revanche très fière et très heureuse de ce que j'ai fait pendant 20 ans. Et bien, merci beaucoup Alessandra d'avoir été avec nous pour les incontournables.\\n\\nCitation : un jeu oui je crois que j'aime je crois que je me suis jamais sentie aussi libre que dans ma quarantaine... il faut avancer aussi.\",\n",
       " \"Correction : \\n\\nIl s'agit donc de vérifier autour de soi s'il y a des problèmes particuliers, et puis surtout, comme il a été dit, d'éviter de circuler à partir de mercredi, la nuit de mercredi à jeudi, et jeudi matin, sur un quart nord-ouest. Avec les vacances et ce jour férié au milieu, on sait que les jeunes ont bon vouloir de se déplacer, c'est normal. Les mesures de sécurité et d'anticipation sont importantes. \\n\\nAlix Roumagnac, président de Predict Services, est avec nous en direct sur Europe. Depuis Xynthia en 2010, nous avons fait beaucoup de progrès. Vous le constatez, vous qui travaillez pour les communes et les collectivités, en termes de prévention, de préparation et d'anticipation. Beaucoup de choses ont évolué, déjà avec la généralisation de ce qu'on appelle les plans communaux de sauvegarde. Chaque commune a réalisé un plan d'action pour chaque type d'aléa : inondations, tempêtes, submersions marines. Des actions sont identifiées par les mairies pour être mises en œuvre en anticipation, afin d'informer les populations et d'éviter de les mettre en danger. \\n\\nNous accompagnons ces communes au quotidien pour ce genre d'événements, mais il y a des recommandations pour activer ces plans communaux de sauvegarde. Il y a vraiment des chaînes ou des manques, même si, sur les tempêtes hivernales, il n'y a aucun lien avec le dérèglement climatique. Comme l'indiquent les experts, ces événements extrêmes, que ce soient les fortes pluies ou les inondations dans le sud ou le nord, concernent les mairies et les citoyens. Aujourd'hui, ils adoptent des mesures pour limiter ces phénomènes. Nous avons beaucoup de partenariats avec les membres de l'assurance, c'est aussi un gros travail de prévention sur le sujet. Nous voyons que les choses évoluent dans le bon sens. \\n\\nAlix Roumagnac, vous restez avec nous, bien sûr. Nous allons prendre un autre auditeur. Vous êtes nombreux à téléphoner, à appeler Europa. Trésor, bonjour Éric. Bonjour à tout le monde, merci beaucoup de nous appeler. Vous habitez dans la Manche, à Granville, exactement, et vous êtes sauveteur en mer, oui, entre autres. \\n\\nCitation : il y a il a aucun lien avec le dérèglement climatique.\",\n",
       " \"Correction : Le lendemain et le surlendemain, bonne chance démarre déjà chez Intermarché pour l'achat d'un calendrier de l'Avent Kinder. Le deuxième est à moins 50 %. C'est ça, les 100 jours du pouvoir d'achat, et c'est aussi au drive et en livraison. Intermarché, tous unis contre la vie chère jusqu'au 19 novembre, sur le moins cher des deux modalités sur Internet, chez point com. Pour votre santé, limitez les aliments gras, salés, sucrés. Voici Kenza. Kenza a de quoi être fière, elle vient de faire 5 minutes de vélo pour aller chercher le pain. Kenza a décidé que pour dorénavant, pour les courts trajets, fini la voiture. La voiture est meilleure pour la qualité de l'air et ça lui permet de faire des économies et un peu d'exercice en prime. Alors oui, vraiment, Kenza a de quoi être fière. Saint-Jean d'Air, changeons de mobilités. Renseignez-vous sur les aides existantes de l'État, des collectivités et de votre employeur sur mieux respirer en ville, point gouv point fr. Ceci est un message de l'Ademe et du ministère de la Transition écologique. On peut penser qu'on n'a toujours pas les moyens de passer à l'électrique, ou on ne peut franchir le cap avec Dacia Spring. Dacia Spring, 100 % électrique, est à partir de 79 euros par mois, avec 3 ans d'entretien inclus, et est disponible immédiatement. Profitez-en dans le réseau Dacia avant la fin du bonus écologique 2023, le 15 décembre. Spring hors actions LLD, 37 mois, 30 000 km, premier loyer ramené à zéro euro après déduction des aides d'État, puis 30 si le loyer de 79 euros par mois. Offre particulière selon stock disponible jusqu'au 15 décembre, voir dacia point fr. Pensez à covoiturer quand on fait son mariage, les 60 ans de son épouse, le bac de son petit-fils, pour que tout se passe au mieux. On sait qu'il faut anticiper l'organisation. Pourtant, quand on souscrit un contrat obsèques chez son banquier ou son assureur, on parle du financement, mais rarement de soulager nos proches face au choix difficile. Il faudrait pouvoir anticiper l'organisation des obsèques, mais comment ? Rock Éclaire crée le contrat organisation. Nos conseillers funéraires vous accompagnent gratuitement pour organiser vos obsèques. Clairs, la peau. Plus d'informations en agence, retirez Éclaire Prévoyance. Parlons technologies électriques, parlons autonomie, parlons de Renault Zoé Hi-Tech, 100 % électrique, jusqu'à 395 km d'autonomie à partir de 2. \\n\\nCitation : la c'voiture est meilleur pour la qualité de l'air.\",\n",
       " \"Correction : \\n\\nFont pour nous, spécialement pour toutes ces familles qui sont là. Fernand, 79 ans, est arrivé ici avec 7 membres de sa famille. Là-bas, où nous étions, c'était infernal. Bon, permettez-moi de dire que ma femme est jusqu'à présent traumatisée. Quelqu'un qui est dans la rue, il se passe quelque chose d'infernal. 25 bénévoles les entourent, dont Léna, 24 ans. Ils ne reçoivent aucune aide de l'État. La nourriture est offerte par un restaurant voisin et les chambres sont mises à disposition gratuitement par les propriétaires. On a essayé de créer une bulle dans laquelle les familles peuvent se sentir en sécurité. Une réponse à la précarité extrême, car elles sont arrivées en détresse psychologique ou physique. Il y a des gens qui sont arrivés en pyjama. Officiellement, le gouvernement ne prévoit pas un retour dans les zones évacuées à la frontière de Gaza et du Liban avant le 31 décembre. À Tel Aviv, Sébastien, en Belgique, en Europe, 200 000 Israéliens ont été déplacés par les combats. Benyamin Netanyahou a aussi évoqué l'après, c'est-à-dire lorsque viendra l'heure de sonner la fin du conflit. Eh bien, Israël devra assurer la sécurité globale de la bande de Gaza. L'actualité de ce mardi, ce sont aussi les inondations dans le Pas-de-Calais. On n'est plus très loin de la crue du siècle. Des départements sont placés en alerte rouge. Le niveau de l'eau dépasse déjà 1,50 m dans certaines communes. On pourrait battre le record de 2002. On retrouve tout de suite le correspondant d'Europe 1 en direct de Blanc-D'Aisne dans la vallée. Bonjour Lionel Bijelo, bonjour Christophe, bonjour à tous. À Lionel, on imagine l'angoisse des habitants. C'est l'une des communes particulièrement menacées par cette montée des eaux. Oui, effectivement, l'angoisse est à l'image de celle de Patrick, l'un des habitants, qui a passé la nuit à l'entrée de son quartier inondé. Il lutte avec sa moto-pompe personnelle contre la montée des eaux pour 20 maisons. Je propose de l'eau. Voulez-vous que je fasse d'autres choses par mes propres moyens ? En 2002, il y avait une forte inondation également. Ils craignent que cela soit pareil, que ce soit peut-être pire aujourd'hui. La journée, ça devrait encore monter. On va appeler Moralisant, pardon, amère, et plus que des mots en lisant, surtout quand on voit qu'on n'a aucune aide. \\n\\nCitation : on a aucune aide.\",\n",
       " \"Correction : \\n\\nEt aujourd'hui, on se retrouve à construire des éoliennes qui sont très laides et peu efficaces parce qu'elles ne produisent pas d'électricité. Je pense notamment à la baie de La Baule, c'est une horreur, ces éoliennes. L'énergie solaire, par définition, produit de l'électricité dans la journée, à un moment où on n'en a pas besoin. Oui, mais on ne peut pas dire que c'est le soir qu'on a besoin d'électricité. C'est le soir qu'on est en paix. Le gazole du solaire, Pascal Praud, ce n'est pas tout à fait vrai, parce qu'en fait, dans le tertiaire, il y a des besoins de faire tourner les ordinateurs dans la journée, donc il y a une certaine cohérence. En revanche, pour le domestique, si vous ajoutez la choucroute qui va avec deux batteries, le fait que vous êtes limité à tous les points, parce que deux DSP, un lobbying forcené pour défendre son croûton, qu'on peut comprendre, ils ont assez de députés qui sont plus ou moins à pointer chez eux. Ils défendent le fait qu'EDF, EDF, grande merveille. \\n\\nAlors maintenant, je reprends. Les journalistes ne se sont pas trop penchés sur pourquoi l'électricité doit augmenter de façon inconsidérée. Tout simplement parce que des petites entreprises confidentielles n'ont plus les ressources techniques pour fabriquer des EPR. Du coup, on est parti sur Flamanville, 3 milliards, et on en est à 20 milliards, et ça ne fonctionne toujours pas. Ben moi, j'aimerais bien que le journaliste essaie de mettre son nez dans le même pot. Je vais vous poser une question : connaissez-vous le nom d'un énarque qui a été condamné pour incompétence ou malversations ? Un seul. Mais alors, ce n'est pas la même chose. Incompétence et malversations, ce ne sont pas des choses dont on parle. Non, attendez, incompétence et malversations, quand vous êtes à la tête d'une entreprise ou d'un État, ce sont deux choses auxquelles vous n'avez pas droit et qui devraient donc être sanctionnées. Je n'ai jamais lu, je n'ai jamais entendu un journaliste parler d'un an. Mais c'est scandaleux. Le préfet de machin, petite Furiani par exemple, censé être le garant de l'application de la loi, ben lui, il n'a pas été inquiété quand le stade est tombé. Il aurait pu, il était censé être responsable de l'ensemble. \\n\\nCitation : Les éoliennes sont très laides et peu efficaces parce qu'elles ne produisent pas d'électricité.\",\n",
       " \"Correction : Ce fameux pot de yaourt, pour savoir ce qu'il devenait réellement, à l'arrivée, on apprend que 3 % seulement des pots de yaourt sont vraiment recyclés. Et encore, on n'est pas fichu de le faire nous-mêmes en France. Non, c'est la seule usine de recyclage dans laquelle on envoie nos pots de yaourt qui se trouve en Espagne. On n'a aucun site qui est capable de le faire en France. Donc, c'est effectivement 3 % du total des pots de yaourt qui sont jetés, et on les transforme dans cette usine en Espagne en cintres ou pots de fleurs. On ne refait même pas d'autres pots de yaourt. Donc, on n'est plus sûr du recyclage que sur du carrelage. Le recyclage reprend même pas des nouveaux pots. Tous les autres, on va en reparler. Alors, ils ne partent pas qu'en Espagne. Il y en a certains qui partent en Suède aussi, et là, ce n'est pas pour être cités. Non, ils partent en Suède pour faire ce qu'on appelle du CSR, du combustible solide de récupération. Donc, comme son nom l'indique, ils sont brûlés en fait pour faire de l'énergie, de la chaleur, de l'énergie dite verte, puisque ça vient d'un déchet. Donc, on considère que c'est de la revalorisation, alors qu'évidemment, ça n'a pas grand-chose à voir, puisque, on peut dire que ces pots de yaourt sont mis sur des bateaux qui parcourent des centaines de kilomètres, avec une empreinte carbone importante. On les brûle, avec évidemment un rejet important de gaz à effet de serre dans l'atmosphère. Et on considère que c'est de l'énergie verte. Mais on ne fait pas que les envoyer en Suède. Une bonne partie des pots de yaourt qu'on jette dans la poubelle jaune en France sont brûlés par des cimenteries ou des sites industriels pour chauffer des fours qui ont besoin d'énormément de matière pour faire du ciment. Donc, on a suivi notamment le parcours d'un pot de yaourt, depuis un centre de tri, puis un centre de surtri où normalement, ils doivent être séparés des autres emballages pour être recyclés. En fait, on se rend compte que dans ce centre de surtri, ils n'arrivent pas vraiment à séparer les pots de yaourt, donc ils transforment tout ça encore une fois en combustible, et ça part dans une cimenterie où ces pots de yaourt sont brûlés, bien sûr, pour faire ces gros tubes, ces gros cubes compressés, ces gros ballots pleins de plastique. Et bien, on les enrobe de plastique, évidemment, c'est nécessaire pour qu'on ait du mal à se... \\n\\nCitation : Les pots de yaourt sont souvent envoyés à l'étranger pour produire de l'énergie dite verte.\"]"
      ]
     },
     "execution_count": 65,
     "metadata": {},
     "output_type": "execute_result"
    }
   ],
   "source": [
    "correction"
   ]
  },
  {
   "cell_type": "code",
   "execution_count": 62,
   "metadata": {},
   "outputs": [
    {
     "name": "stdout",
     "output_type": "stream",
     "text": [
      "Texte: {text}, Citation: {quote}\n"
     ]
    },
    {
     "data": {
      "text/plain": [
       "\"Je suis désolé, mais il semble que vous n'ayez pas fourni de texte ou de citation. Pourriez-vous s'il vous plaît les partager afin que je puisse vous aider ?\""
      ]
     },
     "execution_count": 62,
     "metadata": {},
     "output_type": "execute_result"
    }
   ],
   "source": [
    "corr = await correct_text(\"Les déplacement en voiture sont la seule solution\", \"Les déplacement\")\n",
    "corr"
   ]
  },
  {
   "cell_type": "code",
   "execution_count": 59,
   "metadata": {},
   "outputs": [
    {
     "data": {
      "text/plain": [
       "883     Les déplacements en voiture sont la seule solu...\n",
       "1812    on ne peut pas faire le lien directement avec ...\n",
       "2612    techniquement il n'y a pas de résidus si vous ...\n",
       "2728    la voiture c'est meilleur pour la qualité de l...\n",
       "2778    un jeu oui je crois que j'aime je crois que je...\n",
       "2878    il y a il a aucun lien avec le dérèglement cli...\n",
       "3125    la c'voiture est meilleur pour la qualité de l...\n",
       "3167                                     on a aucune aide\n",
       "4004    Les éoliennes sont très laides et peu efficace...\n",
       "4072    Les pots de yaourt sont souvent envoyés à l'ét...\n",
       "Name: quote, dtype: object"
      ]
     },
     "execution_count": 59,
     "metadata": {},
     "output_type": "execute_result"
    }
   ],
   "source": [
    "contradictions.iloc[:10].quote"
   ]
  },
  {
   "cell_type": "code",
   "execution_count": 56,
   "metadata": {},
   "outputs": [
    {
     "data": {
      "text/plain": [
       "[\"Il semble que vous n'ayez pas fourni de texte ou de citation. Veuillez soumettre l'extrait de l'émission ainsi que la citation que vous souhaitez conserver, et je me ferai un plaisir de vous aider à corriger le texte.\",\n",
       " \"Il semble que vous n'ayez pas fourni de texte ou de citation. Veuillez soumettre l'extrait de l'émission ainsi que la citation que vous souhaitez conserver, et je me ferai un plaisir de vous aider à corriger le texte.\",\n",
       " \"Il semble que vous n'ayez pas fourni de texte ou de citation. Veuillez soumettre l'extrait de l'émission ainsi que la citation que vous souhaitez que je corrige.\",\n",
       " \"Il semble que vous n'ayez pas fourni de texte ou de citation. Veuillez soumettre l'extrait de l'émission ainsi que la citation que vous souhaitez que je corrige.\",\n",
       " \"Il semble que vous n'ayez pas fourni de texte ou de citation. Veuillez soumettre l'extrait de l'émission ainsi que la citation que vous souhaitez conserver, et je me ferai un plaisir de vous aider à corriger le texte.\",\n",
       " \"Il semble que vous n'ayez pas fourni de texte ou de citation. Veuillez soumettre l'extrait de l'émission ainsi que la citation que vous souhaitez conserver, et je me ferai un plaisir de vous aider à corriger le texte.\",\n",
       " \"Il semble que vous n'ayez pas fourni de texte ou de citation. Veuillez soumettre l'extrait de l'émission ainsi que la citation que vous souhaitez conserver, et je me ferai un plaisir de vous aider à corriger le texte.\",\n",
       " \"Je suis désolé, mais il semble que vous n'ayez pas fourni de texte ou de citation. Pourriez-vous s'il vous plaît les partager afin que je puisse vous aider ?\",\n",
       " \"Il semble que vous n'ayez pas fourni de texte ou de citation. Veuillez soumettre l'extrait de l'émission ainsi que la citation que vous souhaitez que je corrige.\",\n",
       " \"Il semble que vous n'ayez pas fourni de texte ou de citation. Veuillez soumettre l'extrait de l'émission ainsi que la citation que vous souhaitez conserver, et je me ferai un plaisir de vous aider à corriger le texte.\"]"
      ]
     },
     "execution_count": 56,
     "metadata": {},
     "output_type": "execute_result"
    }
   ],
   "source": [
    "correction"
   ]
  },
  {
   "cell_type": "code",
   "execution_count": 4,
   "metadata": {},
   "outputs": [
    {
     "data": {
      "text/html": [
       "<div>\n",
       "<style scoped>\n",
       "    .dataframe tbody tr th:only-of-type {\n",
       "        vertical-align: middle;\n",
       "    }\n",
       "\n",
       "    .dataframe tbody tr th {\n",
       "        vertical-align: top;\n",
       "    }\n",
       "\n",
       "    .dataframe thead th {\n",
       "        text-align: right;\n",
       "    }\n",
       "</style>\n",
       "<table border=\"1\" class=\"dataframe\">\n",
       "  <thead>\n",
       "    <tr style=\"text-align: right;\">\n",
       "      <th></th>\n",
       "      <th>id</th>\n",
       "      <th>start</th>\n",
       "      <th>text</th>\n",
       "      <th>channel_name</th>\n",
       "      <th>channel_is_radio</th>\n",
       "      <th>channel_program_type</th>\n",
       "      <th>channel_program</th>\n",
       "      <th>themes</th>\n",
       "      <th>keywords</th>\n",
       "      <th>num_keywords</th>\n",
       "      <th>num_tokens</th>\n",
       "      <th>analysis</th>\n",
       "      <th>claim</th>\n",
       "      <th>context</th>\n",
       "      <th>contradiction</th>\n",
       "      <th>disinformation_category</th>\n",
       "      <th>disinformation_score</th>\n",
       "      <th>pro_anti</th>\n",
       "      <th>quote</th>\n",
       "      <th>speaker</th>\n",
       "    </tr>\n",
       "  </thead>\n",
       "  <tbody>\n",
       "    <tr>\n",
       "      <th>67</th>\n",
       "      <td>f17cb36a314156417616ef1ebb9232bbf203a1ecdc983c...</td>\n",
       "      <td>2023-09-04 05:56:00</td>\n",
       "      <td>série qu'on peut redire par fonction juré déjà...</td>\n",
       "      <td>europe1</td>\n",
       "      <td>True</td>\n",
       "      <td>Information - Magazine</td>\n",
       "      <td>Bonjour</td>\n",
       "      <td>[\"biodiversite_concepts_generaux\", \"changement...</td>\n",
       "      <td>[{\"keyword\": \"eaux\", \"timestamp\": 169379984302...</td>\n",
       "      <td>2</td>\n",
       "      <td>559</td>\n",
       "      <td>Cette allégation semble associée à une interpr...</td>\n",
       "      <td>le giec est transhumaniste</td>\n",
       "      <td>Dans un passage en parlant des personnages du ...</td>\n",
       "      <td>N/A</td>\n",
       "      <td>consensus</td>\n",
       "      <td>high</td>\n",
       "      <td>anti-écologie</td>\n",
       "      <td>il y a par exemple le giec transhumaniste qui ...</td>\n",
       "      <td>narrative</td>\n",
       "    </tr>\n",
       "    <tr>\n",
       "      <th>87</th>\n",
       "      <td>e57e39657004072e5f998d19e6a8a952ee8f35923b9072...</td>\n",
       "      <td>2023-09-04 07:50:00</td>\n",
       "      <td>salle d'attente il y a toutes les classes rage...</td>\n",
       "      <td>europe1</td>\n",
       "      <td>True</td>\n",
       "      <td>Information - Magazine</td>\n",
       "      <td>Europe 1 Matin</td>\n",
       "      <td>[\"changement_climatique_causes\", \"changement_c...</td>\n",
       "      <td>[{\"keyword\": \"giec\", \"timestamp\": 169380664205...</td>\n",
       "      <td>2</td>\n",
       "      <td>554</td>\n",
       "      <td>Cette allégation semble utiliser le terme 'tra...</td>\n",
       "      <td>La mention du GIEC comme un \"transhumaniste\".</td>\n",
       "      <td>Dans un extrait de programme où différents per...</td>\n",
       "      <td>N/A</td>\n",
       "      <td>consensus</td>\n",
       "      <td>high</td>\n",
       "      <td>anti-écologie</td>\n",
       "      <td>il y a par exemple le giec transhumaniste qui ...</td>\n",
       "      <td>narrative</td>\n",
       "    </tr>\n",
       "    <tr>\n",
       "      <th>251</th>\n",
       "      <td>5b7207073227562ad5fd7b252e290d0a2079f3cbbb2e5c...</td>\n",
       "      <td>2023-09-06 07:22:00</td>\n",
       "      <td>en france on peut quand même s'appuyer sur ce ...</td>\n",
       "      <td>europe1</td>\n",
       "      <td>True</td>\n",
       "      <td>Information - Magazine</td>\n",
       "      <td>Europe 1 Matin</td>\n",
       "      <td>[\"changement_climatique_consequences_indirecte...</td>\n",
       "      <td>[{\"keyword\": \"incendies\", \"timestamp\": 1693977...</td>\n",
       "      <td>2</td>\n",
       "      <td>594</td>\n",
       "      <td>Cette allégation semble hautement exagérée et ...</td>\n",
       "      <td>Il y a eu beaucoup de morts tués par des pharm...</td>\n",
       "      <td>Lors d'une discussion sur le rôle des pharmaci...</td>\n",
       "      <td>N/A</td>\n",
       "      <td>narrative</td>\n",
       "      <td>high</td>\n",
       "      <td>anti-écologie</td>\n",
       "      <td>j'ai l'impression qu'il y a eu beaucoup de mor...</td>\n",
       "      <td>narrative</td>\n",
       "    </tr>\n",
       "    <tr>\n",
       "      <th>259</th>\n",
       "      <td>53b6b045672a2327c58c72a38a3ddb603587ad43421f8c...</td>\n",
       "      <td>2023-09-06 08:38:00</td>\n",
       "      <td>je suis même allé plus loin je vais essayer de...</td>\n",
       "      <td>europe1</td>\n",
       "      <td>True</td>\n",
       "      <td>Information - Magazine</td>\n",
       "      <td>Europe 1 Matin</td>\n",
       "      <td>[\"changement_climatique_consequences\", \"ressou...</td>\n",
       "      <td>[{\"keyword\": \"\\u00e9coresponsable\", \"timestamp...</td>\n",
       "      <td>2</td>\n",
       "      <td>614</td>\n",
       "      <td>Cette allégation frôle la théorie du complot, ...</td>\n",
       "      <td>Le réchauffement climatique est causé par une ...</td>\n",
       "      <td>Lors d'une discussion sur les enjeux environne...</td>\n",
       "      <td>N/A</td>\n",
       "      <td>consensus</td>\n",
       "      <td>high</td>\n",
       "      <td>anti-écologie</td>\n",
       "      <td>Le réchauffement climatique est causé par une ...</td>\n",
       "      <td>narrative</td>\n",
       "    </tr>\n",
       "    <tr>\n",
       "      <th>313</th>\n",
       "      <td>6c3bb9299d31332c644b54832399976117d28776c9e22c...</td>\n",
       "      <td>2023-09-07 08:56:00</td>\n",
       "      <td>pour faire réussir nos enfants dans quel monde...</td>\n",
       "      <td>europe1</td>\n",
       "      <td>True</td>\n",
       "      <td>Information - Magazine</td>\n",
       "      <td>L'heure des pros</td>\n",
       "      <td>[\"changement_climatique_constat\"]</td>\n",
       "      <td>[{\"keyword\": \"climatique\", \"timestamp\": 169406...</td>\n",
       "      <td>1</td>\n",
       "      <td>563</td>\n",
       "      <td>Si le changement climatique est parfois utilis...</td>\n",
       "      <td>Le changement climatique est traité comme une ...</td>\n",
       "      <td>Le commentaire sur une polémique entre personn...</td>\n",
       "      <td>N/A</td>\n",
       "      <td>consensus</td>\n",
       "      <td>high</td>\n",
       "      <td>anti-écologie</td>\n",
       "      <td>...c'était hier soir dans cette à vous sur fra...</td>\n",
       "      <td>narrative</td>\n",
       "    </tr>\n",
       "  </tbody>\n",
       "</table>\n",
       "</div>"
      ],
      "text/plain": [
       "                                                    id               start  \\\n",
       "67   f17cb36a314156417616ef1ebb9232bbf203a1ecdc983c... 2023-09-04 05:56:00   \n",
       "87   e57e39657004072e5f998d19e6a8a952ee8f35923b9072... 2023-09-04 07:50:00   \n",
       "251  5b7207073227562ad5fd7b252e290d0a2079f3cbbb2e5c... 2023-09-06 07:22:00   \n",
       "259  53b6b045672a2327c58c72a38a3ddb603587ad43421f8c... 2023-09-06 08:38:00   \n",
       "313  6c3bb9299d31332c644b54832399976117d28776c9e22c... 2023-09-07 08:56:00   \n",
       "\n",
       "                                                  text channel_name  \\\n",
       "67   série qu'on peut redire par fonction juré déjà...      europe1   \n",
       "87   salle d'attente il y a toutes les classes rage...      europe1   \n",
       "251  en france on peut quand même s'appuyer sur ce ...      europe1   \n",
       "259  je suis même allé plus loin je vais essayer de...      europe1   \n",
       "313  pour faire réussir nos enfants dans quel monde...      europe1   \n",
       "\n",
       "     channel_is_radio    channel_program_type   channel_program  \\\n",
       "67               True  Information - Magazine           Bonjour   \n",
       "87               True  Information - Magazine    Europe 1 Matin   \n",
       "251              True  Information - Magazine    Europe 1 Matin   \n",
       "259              True  Information - Magazine    Europe 1 Matin   \n",
       "313              True  Information - Magazine  L'heure des pros   \n",
       "\n",
       "                                                themes  \\\n",
       "67   [\"biodiversite_concepts_generaux\", \"changement...   \n",
       "87   [\"changement_climatique_causes\", \"changement_c...   \n",
       "251  [\"changement_climatique_consequences_indirecte...   \n",
       "259  [\"changement_climatique_consequences\", \"ressou...   \n",
       "313                  [\"changement_climatique_constat\"]   \n",
       "\n",
       "                                              keywords  num_keywords  \\\n",
       "67   [{\"keyword\": \"eaux\", \"timestamp\": 169379984302...             2   \n",
       "87   [{\"keyword\": \"giec\", \"timestamp\": 169380664205...             2   \n",
       "251  [{\"keyword\": \"incendies\", \"timestamp\": 1693977...             2   \n",
       "259  [{\"keyword\": \"\\u00e9coresponsable\", \"timestamp...             2   \n",
       "313  [{\"keyword\": \"climatique\", \"timestamp\": 169406...             1   \n",
       "\n",
       "     num_tokens                                           analysis  \\\n",
       "67          559  Cette allégation semble associée à une interpr...   \n",
       "87          554  Cette allégation semble utiliser le terme 'tra...   \n",
       "251         594  Cette allégation semble hautement exagérée et ...   \n",
       "259         614  Cette allégation frôle la théorie du complot, ...   \n",
       "313         563  Si le changement climatique est parfois utilis...   \n",
       "\n",
       "                                                 claim  \\\n",
       "67                          le giec est transhumaniste   \n",
       "87       La mention du GIEC comme un \"transhumaniste\".   \n",
       "251  Il y a eu beaucoup de morts tués par des pharm...   \n",
       "259  Le réchauffement climatique est causé par une ...   \n",
       "313  Le changement climatique est traité comme une ...   \n",
       "\n",
       "                                               context contradiction  \\\n",
       "67   Dans un passage en parlant des personnages du ...           N/A   \n",
       "87   Dans un extrait de programme où différents per...           N/A   \n",
       "251  Lors d'une discussion sur le rôle des pharmaci...           N/A   \n",
       "259  Lors d'une discussion sur les enjeux environne...           N/A   \n",
       "313  Le commentaire sur une polémique entre personn...           N/A   \n",
       "\n",
       "    disinformation_category disinformation_score       pro_anti  \\\n",
       "67                consensus                 high  anti-écologie   \n",
       "87                consensus                 high  anti-écologie   \n",
       "251               narrative                 high  anti-écologie   \n",
       "259               consensus                 high  anti-écologie   \n",
       "313               consensus                 high  anti-écologie   \n",
       "\n",
       "                                                 quote    speaker  \n",
       "67   il y a par exemple le giec transhumaniste qui ...  narrative  \n",
       "87   il y a par exemple le giec transhumaniste qui ...  narrative  \n",
       "251  j'ai l'impression qu'il y a eu beaucoup de mor...  narrative  \n",
       "259  Le réchauffement climatique est causé par une ...  narrative  \n",
       "313  ...c'était hier soir dans cette à vous sur fra...  narrative  "
      ]
     },
     "execution_count": 4,
     "metadata": {},
     "output_type": "execute_result"
    }
   ],
   "source": [
    "df_claims.head()"
   ]
  },
  {
   "cell_type": "code",
   "execution_count": 33,
   "metadata": {},
   "outputs": [
    {
     "name": "stdout",
     "output_type": "stream",
     "text": [
      "('la conserve de trois cent quatre-vingt-cinq grammes c six ht soit deux euros '\n",
      " 'vingt trois le kilo délicieuse au égale délicieux pour votre santé bougez '\n",
      " \"plus a l'intention de notre très chère clientes propriétaire de la toyota \"\n",
      " 'ago crosses vous pouvez la déplacer vers les caméras de surveillance parce '\n",
      " \"que j'aimerais bien admirer de plus près sur les écrans merci d'avance \"\n",
      " 'découvrez la toyota yaris cross le crossover urbain à partir de cent '\n",
      " 'dix-neuf euros par mois entretien clé toyota yaris cross dynamique lld '\n",
      " 'trente-sept mois trente mille km premier loyer premier trois loyer mille '\n",
      " 'trois neuf cent mille soixante neuf euros cent réservée soixante-dix aux '\n",
      " 'euros particuliers réservée aux particuliers sous conditions de reprise et '\n",
      " \"commander jusqu'au vingt-cinq septembre détaille sur toyota point fr portes \"\n",
      " 'ouvertes ce week-end pensez à covoiturer écouter europe un partout dès '\n",
      " 'maintenant en dab plus entre paris et marseille sans changer de fréquence et '\n",
      " \"bientôt dans toute la france europe un toute l'actualité débat cédant \"\n",
      " 'punchline a tout de suite sur europe un klein dix-huit heures dix-neuf '\n",
      " 'heures laurence ferrari sur europe un <unk> nouvelle voiture vraiment dire '\n",
      " \"que c'est une voiture c'est une véritable uvre d'art aux lignes et courbes \"\n",
      " \"s'entremêlent dans un déluge coloriage oui oui oui citroën c3 laisse il est \"\n",
      " 'enfin accessible mène en fait pas trop quand même citroën c3 à partir de '\n",
      " 'quatre-vingt dix-neuf euros par mois à quatre ans de garantie et assistance '\n",
      " 'à faire portes ouvertes ce week-end citroën quarante-huit mm à quarante-huit '\n",
      " \"km premier loyer de trois mille cinq cents euros offre particulier jusqu'au \"\n",
      " \"trente septembre sous réserve d'acceptation crédit par détaille sur citroën \"\n",
      " 'point fr selon point réseau fr participants selon pour réseau les '\n",
      " 'participants trajets pour courts privilégier les la trajets marche courts '\n",
      " 'privilégier la marche ou le vélo et voilà que maman et les chats told elle '\n",
      " 'peut lire les paroles karaoké mais voilà mais pour une vision précise de '\n",
      " \"près comme de loin découvrez les verts varie luxe d'essilor cent pourcent \"\n",
      " \"français votre opticiens atol dispositif médical c'est un demander conseil à \"\n",
      " 'votre opticien prenez parlons technologies électriques parlons de renault '\n",
      " 'mégane hi tech cent pour cent électriques assemblés en france à douai des '\n",
      " 'trois cents euros par mois bornes de recharge est installé')\n"
     ]
    }
   ],
   "source": [
    "pprint.pprint(contradictions.iloc[0].text)"
   ]
  },
  {
   "cell_type": "code",
   "execution_count": 34,
   "metadata": {},
   "outputs": [
    {
     "data": {
      "text/plain": [
       "\"la conserve de trois cent quatre-vingt-cinq grammes c six ht soit deux euros vingt trois le kilo délicieuse au égale délicieux pour votre santé bougez plus a l'intention de notre très chère clientes propriétaire de la toyota ago crosses vous pouvez la déplacer vers les caméras de surveillance parce que j'aimerais bien admirer de plus près sur les écrans merci d'avance découvrez la toyota yaris cross le crossover urbain à partir de cent dix-neuf euros par mois entretien clé toyota yaris cross dynamique lld trente-sept mois trente mille km premier loyer premier trois loyer mille trois neuf cent mille soixante neuf euros cent réservée soixante-dix aux euros particuliers réservée aux particuliers sous conditions de reprise et commander jusqu'au vingt-cinq septembre détaille sur toyota point fr portes ouvertes ce week-end pensez à covoiturer écouter europe un partout dès maintenant en dab plus entre paris et marseille sans changer de fréquence et bientôt dans toute la france europe un toute l'actualité débat cédant punchline a tout de suite sur europe un klein dix-huit heures dix-neuf heures laurence ferrari sur europe un <unk> nouvelle voiture vraiment dire que c'est une voiture c'est une véritable uvre d'art aux lignes et courbes s'entremêlent dans un déluge coloriage oui oui oui citroën c3 laisse il est enfin accessible mène en fait pas trop quand même citroën c3 à partir de quatre-vingt dix-neuf euros par mois à quatre ans de garantie et assistance à faire portes ouvertes ce week-end citroën quarante-huit mm à quarante-huit km premier loyer de trois mille cinq cents euros offre particulier jusqu'au trente septembre sous réserve d'acceptation crédit par détaille sur citroën point fr selon point réseau fr participants selon pour réseau les participants trajets pour courts privilégier les la trajets marche courts privilégier la marche ou le vélo et voilà que maman et les chats told elle peut lire les paroles karaoké mais voilà mais pour une vision précise de près comme de loin découvrez les verts varie luxe d'essilor cent pourcent français votre opticiens atol dispositif médical c'est un demander conseil à votre opticien prenez parlons technologies électriques parlons de renault mégane hi tech cent pour cent électriques assemblés en france à douai des trois cents euros par mois bornes de recharge est installé\""
      ]
     },
     "execution_count": 34,
     "metadata": {},
     "output_type": "execute_result"
    }
   ],
   "source": [
    "contradictions.iloc[0].text"
   ]
  },
  {
   "cell_type": "code",
   "execution_count": 35,
   "metadata": {},
   "outputs": [
    {
     "data": {
      "text/plain": [
       "'Les déplacements en voiture sont la seule solution viable pour la mobilité.'"
      ]
     },
     "execution_count": 35,
     "metadata": {},
     "output_type": "execute_result"
    }
   ],
   "source": [
    "contradictions.iloc[0].quote"
   ]
  },
  {
   "cell_type": "code",
   "execution_count": 36,
   "metadata": {},
   "outputs": [
    {
     "data": {
      "text/plain": [
       "False"
      ]
     },
     "execution_count": 36,
     "metadata": {},
     "output_type": "execute_result"
    }
   ],
   "source": [
    "contradictions.iloc[0].quote in contradictions.iloc[0].text"
   ]
  },
  {
   "cell_type": "code",
   "execution_count": 37,
   "metadata": {},
   "outputs": [
    {
     "data": {
      "text/plain": [
       "True"
      ]
     },
     "execution_count": 37,
     "metadata": {},
     "output_type": "execute_result"
    }
   ],
   "source": [
    "\"la conserve de trois cent quatre-vingt-cinq grammes\" in contradictions.iloc[0].text"
   ]
  },
  {
   "cell_type": "code",
   "execution_count": null,
   "metadata": {},
   "outputs": [
    {
     "data": {
      "text/plain": [
       "quote_in_text\n",
       "False    180\n",
       "True      98\n",
       "Name: id, dtype: int64"
      ]
     },
     "execution_count": 43,
     "metadata": {},
     "output_type": "execute_result"
    }
   ],
   "source": [
    "contradictions[\"quote_in_text\"] = contradictions.apply(lambda row: row[\"quote\"] in row[\"text\"], axis=1)\n",
    "# les quote ne sont pas toujours dans les textes -> mesure de similarité entre claim et quote ? \n",
    "contradictions.groupby('quote_in_text').count()['id']"
   ]
  },
  {
   "cell_type": "code",
   "execution_count": 48,
   "metadata": {},
   "outputs": [
    {
     "name": "stdout",
     "output_type": "stream",
     "text": [
      "('climatique le réchauffement collecte de grenoble de glaciologues on mesurait '\n",
      " \"quand même à quatre mille trois cents mètres d'altitude qui ont fait un \"\n",
      " \"forage c'est-à-dire que sous le mont-blanc à sept mille trois cents mètres \"\n",
      " 'cinq cents mètres plus bas et dans ce forage il a été mesurée soixante '\n",
      " 'mètres de neige est en dessous donc à peu près voilà cent quatre-vingts '\n",
      " \"maître de glace c'est à dire de la neige imperméable il a été il a été foré \"\n",
      " 'est en à quatre-vingt moins quatorze onze degrés ont à été soixante moins '\n",
      " \"mètres onze de degrés profondeur aujourd'hui ça s'est réchauffée de deux \"\n",
      " 'degrés on est à moins neuf degrés on a quatre mille trois cents mètres à '\n",
      " 'soixante mètres de profondeur dans la neige et donc il y a quand même un '\n",
      " \"réchauffement de ses effrois d'altitude et donc le loup blanc on n'a pas de \"\n",
      " 'thermomètre en permanence planté dans le mont-blanc et si on est à moins '\n",
      " \"quinze degrés température moyenne peut être que aujourd'hui on est à moins \"\n",
      " 'quatorze virgule cinq au moins quatorze e en effet mais ça ça reste froid '\n",
      " \"mais mais cela dit c'est vrai que tout est perturbée sur terre y compris les \"\n",
      " \"calottes glaciaires j'ai la chance de travailler au groenland et antarctique \"\n",
      " 'généralement donc on voit que partout même les glaciers froid les calottes '\n",
      " 'glaciaires les sommets voilà son sont perturbés mais on ne peut pas faire le '\n",
      " 'lien directement avec le réchauffement il y a pas de fond en tout cas '\n",
      " \"d'accord belge joué que dans quelques dizaines d'années le mont-blanc froid \"\n",
      " \"va se réchauffer aussi un tous toutou tout se réchauffe voilà c'est bon est \"\n",
      " \"pour non laquelle on essaye de limiter tout ça c'est ça en fait pour \"\n",
      " \"l'instant on est encore relativement tranquille mais ça ne va peut-être pas \"\n",
      " \"durer je vous remercie beaucoup luc moreau glaciologue merci d'avoir été en \"\n",
      " 'direct sur europe un depuis chamonix et à très bientôt europe un reçoit '\n",
      " 'merci à tous de nous avoir suivis sur europe un rendez-vous demain pour un '\n",
      " 'nouvel europa soir excellente soirée avec la france bouge présenté par '\n",
      " 'elisabeth assayag bonsoir elisabeth quel est le programme bonsoir hélène si '\n",
      " \"je vous dis trente millions d'amis et mabrouk je suis sûr\")\n"
     ]
    }
   ],
   "source": [
    "pprint.pprint(contradictions[contradictions[\"quote_in_text\"]==True].iloc[0].text)"
   ]
  },
  {
   "cell_type": "code",
   "execution_count": 47,
   "metadata": {},
   "outputs": [
    {
     "data": {
      "text/plain": [
       "'on ne peut pas faire le lien directement avec le réchauffement'"
      ]
     },
     "execution_count": 47,
     "metadata": {},
     "output_type": "execute_result"
    }
   ],
   "source": [
    "contradictions[contradictions[\"quote_in_text\"]==True].iloc[0].quote"
   ]
  },
  {
   "cell_type": "code",
   "execution_count": 29,
   "metadata": {},
   "outputs": [
    {
     "data": {
      "text/plain": [
       "array(['fcedb246b0d5b4e301404f2bb02fdec5f861a3822cbc5528b56eb5d144cd3eca',\n",
       "       Timestamp('2023-09-14 18:14:00'),\n",
       "       \"la conserve de trois cent quatre-vingt-cinq grammes c six ht soit deux euros vingt trois le kilo délicieuse au égale délicieux pour votre santé bougez plus a l'intention de notre très chère clientes propriétaire de la toyota ago crosses vous pouvez la déplacer vers les caméras de surveillance parce que j'aimerais bien admirer de plus près sur les écrans merci d'avance découvrez la toyota yaris cross le crossover urbain à partir de cent dix-neuf euros par mois entretien clé toyota yaris cross dynamique lld trente-sept mois trente mille km premier loyer premier trois loyer mille trois neuf cent mille soixante neuf euros cent réservée soixante-dix aux euros particuliers réservée aux particuliers sous conditions de reprise et commander jusqu'au vingt-cinq septembre détaille sur toyota point fr portes ouvertes ce week-end pensez à covoiturer écouter europe un partout dès maintenant en dab plus entre paris et marseille sans changer de fréquence et bientôt dans toute la france europe un toute l'actualité débat cédant punchline a tout de suite sur europe un klein dix-huit heures dix-neuf heures laurence ferrari sur europe un <unk> nouvelle voiture vraiment dire que c'est une voiture c'est une véritable uvre d'art aux lignes et courbes s'entremêlent dans un déluge coloriage oui oui oui citroën c3 laisse il est enfin accessible mène en fait pas trop quand même citroën c3 à partir de quatre-vingt dix-neuf euros par mois à quatre ans de garantie et assistance à faire portes ouvertes ce week-end citroën quarante-huit mm à quarante-huit km premier loyer de trois mille cinq cents euros offre particulier jusqu'au trente septembre sous réserve d'acceptation crédit par détaille sur citroën point fr selon point réseau fr participants selon pour réseau les participants trajets pour courts privilégier les la trajets marche courts privilégier la marche ou le vélo et voilà que maman et les chats told elle peut lire les paroles karaoké mais voilà mais pour une vision précise de près comme de loin découvrez les verts varie luxe d'essilor cent pourcent français votre opticiens atol dispositif médical c'est un demander conseil à votre opticien prenez parlons technologies électriques parlons de renault mégane hi tech cent pour cent électriques assemblés en france à douai des trois cents euros par mois bornes de recharge est installé\",\n",
       "       'europe1', np.True_, 'Information - Magazine', 'Punchline',\n",
       "       '[\"changement_climatique_causes_indirectes\", \"attenuation_climatique_solutions\"]',\n",
       "       '[{\"keyword\": \"borne de recharge\", \"timestamp\": 1694708158022, \"theme\": \"attenuation_climatique_solutions\", \"category\": \"Transport\"}, {\"keyword\": \"v\\\\u00e9lo\", \"timestamp\": 1694708131065, \"theme\": \"attenuation_climatique_solutions\", \"category\": \"Transport\"}, {\"keyword\": \"voiture\", \"timestamp\": 1694708097066, \"theme\": \"changement_climatique_causes_indirectes\", \"category\": \"Transport\"}]',\n",
       "       np.int64(2), np.int64(504),\n",
       "       'Cette allégation ignore les impacts environnementaux négatifs des voitures et leur contribution aux émissions de gaz à effet de serre, se concentrant uniquement sur la commodité.',\n",
       "       'Les déplacements en voiture sont la seule solution viable pour la mobilité.',\n",
       "       \"Un message promotionnel présente les voitures comme essentielles pour la mobilité sans mentionner d'alternatives.\",\n",
       "       'Des alternatives de transport comme le vélo et les transports en commun sont souvent plus viables.',\n",
       "       'narrative', 'high', 'anti-écologie',\n",
       "       'Les déplacements en voiture sont la seule solution viable pour la mobilité.',\n",
       "       'narrative'], dtype=object)"
      ]
     },
     "execution_count": 29,
     "metadata": {},
     "output_type": "execute_result"
    }
   ],
   "source": [
    "contradictions.iloc[0].values"
   ]
  },
  {
   "cell_type": "code",
   "execution_count": 3,
   "metadata": {},
   "outputs": [],
   "source": [
    "system_prompt = f\"\"\"\n",
    "Tu es expert en désinformation sur les sujets environnementaux, expert en science climatique et sachant tout sur le GIEC. \n",
    "Je vais te donner des claims sur des thématiques environnementales extraits de retranscriptions d'un flux TV ou Radio à factchecker. \n",
    "Pour chaque claim, donne une catégorisation de cette allégation suivant la classification qui suit.\n",
    "Renvoie le résultat en json sans autre phrase d'introduction ou de conclusion avec à chaque fois le champ suivant : \"cards_label_pred\"\n",
    "\n",
    "<catégories prédéfinies>\n",
    "- 0_accepted: Lorsque l'ensemble de l'extrait est neutre ou reflète le consensus scientifique sur les questions climatiques, sans contenir de désinformation. Cette catégorie est aussi adaptée si l'extrait n'aborde pas le sujet du climat.\n",
    "- 1_its_not_happening: Le réchauffement climatique n'a pas lieu. Cette catégorie soutient que le changement climatique est inexistant ou largement exagéré. Elle suggère que des facteurs naturels — tels que le froid, la préservation de la glace et le refroidissement des océans — prouvent que le réchauffement n'est pas en cours. De plus, elle implique que les prévisions de changements climatiques sévères, y compris la montée du niveau de la mer et les phénomènes météorologiques extrêmes, sont exagérées ou inventées. Certaines affirmations soutiennent que la terminologie climatique a été manipulée (par exemple, en passant de \"réchauffement climatique\" à \"changement climatique\") pour alarmer le public sans raison.\n",
    "- 2_its_not_us: Les humains ne sont pas à l'origine du réchauffement climatique. Cette catégorie avance que les activités humaines, en particulier les émissions de gaz à effet de serre, ne sont pas responsables du réchauffement observé. Elle soutient que les cycles naturels, l'activité solaire ou d'autres facteurs non humains sont à l'origine des changements climatiques. Les affirmations de cette catégorie minimisent souvent le rôle du CO2, ou soulignent que les changements climatiques passés se sont produits sans intervention humaine, suggérant que le réchauffement actuel est également naturel.\n",
    "- 3_its_not_bad: Les impacts climatiques ne sont pas mauvais. Cette catégorie reconnaît qu'un certain réchauffement pourrait se produire, mais affirme qu'il pose peu de risques. Les arguments de cette catégorie suggèrent que la sensibilité du climat au CO2 est faible, ce qui limiterait le réchauffement. Les partisans prétendent que l'environnement, les espèces et la santé humaine seront largement épargnés, car les plantes bénéficient de l'augmentation du CO2, et que de nombreuses espèces, comme les ours polaires, peuvent s'adapter. Dans l'ensemble, elle suggère que les impacts climatiques seront mineurs et gérables.\n",
    "- 4_solutions_wont_work: Les solutions climatiques ne fonctionneront pas. Cette catégorie s'oppose aux politiques climatiques proposées, en affirmant qu'elles seront nuisibles économiquement ou socialement, inefficaces ou irréalistes. Elle soutient que les politiques de réduction des émissions augmenteront les coûts, affaibliront la sécurité nationale et restreindront les libertés individuelles sans bénéfices climatiques significatifs. D'autres affirmations proposent que les solutions \"vertes\" sont peu fiables, que l'énergie propre est non éprouvée, ou que les combustibles fossiles sont abondants et essentiels pour l'avenir. Essentiellement, elle soutient que les politiques climatiques sont trop coûteuses, difficiles ou inefficaces pour être poursuivies.\n",
    "- 5_science_is_unreliable: Les mouvements pour le climat et la science du climat ne sont pas fiables. Cette catégorie attaque la crédibilité de la science climatique et du mouvement pour le climat, affirmant qu'ils sont non fiables, biaisés ou idéologiquement orientés. Elle remet en question le consensus scientifique sur le changement climatique, suggérant que les données, modèles et méthodes sont défectueux. De plus, elle présente le mouvement climatique comme alarmiste, biaisé ou faisant partie d'une conspiration plus large, motivée par des intentions politiques ou religieuses plutôt qu'une véritable préoccupation. Ce cadre cherche à miner la confiance dans la science climatique et dans ceux qui plaident pour l'action.\n",
    "</catégories prédéfinies>\n",
    "    \"\"\"\n",
    "\n",
    "encoding = tiktoken.encoding_for_model(model)\n",
    "prompt_tokens = len(encoding.encode(system_prompt))\n",
    "\n",
    "async def classify_claim(\n",
    "        text: str, system_prompt: str = system_prompt, prompt_tokens: str = prompt_tokens, tpm_limit: int = 2e6\n",
    "    ):\n",
    "    text_tokens = len(encoding.encode(text))\n",
    "    total_tokens = prompt_tokens + text_tokens\n",
    "    wait_time_s = 60 * total_tokens / tpm_limit\n",
    "    await asyncio.sleep(wait_time_s)\n",
    "    \n",
    "    response = await client.beta.chat.completions.parse(\n",
    "        model=model,\n",
    "        messages=[\n",
    "            {\"role\": \"system\", \"content\": system_prompt},\n",
    "            {\"role\": \"user\", \"content\": text},\n",
    "        ],\n",
    "        temperature=0,\n",
    "    )\n",
    "    return response.choices[0].message.content\n",
    "\n",
    "async def run_classification(texts: list[str]):\n",
    "    semaphore = asyncio.Semaphore(50)\n",
    "    \n",
    "    async def bounded_classify_claim(text):\n",
    "        async with semaphore:\n",
    "            return await classify_claim(text)\n",
    "    \n",
    "    classification = await tqdm.gather(*[bounded_classify_claim(text) for text in texts])\n",
    "    return classification"
   ]
  },
  {
   "cell_type": "code",
   "execution_count": null,
   "metadata": {},
   "outputs": [],
   "source": [
    "classification = await run_classification(df_claims[\"claim\"])\n",
    "cards_label_preds = []\n",
    "\n",
    "for item in classification:\n",
    "    # Remove ```json and ``` \n",
    "    cleaned_item = re.sub(r'```json\\n|```', '', item)\n",
    "\n",
    "    # Load as JSON dictionary\n",
    "    try:\n",
    "        parsed_item = json.loads(cleaned_item)\n",
    "        cards_label_preds.append(parsed_item[\"cards_label_pred\"])\n",
    "    except json.JSONDecodeError:\n",
    "        print(f\"Parsing error: {cleaned_item}\")\n",
    "\n",
    "cards_label_preds\n",
    "df_claims[\"cards_label_pred\"] = cards_label_preds\n",
    "\n",
    "df_exploded[\"cards_label_pred\"] = ''\n",
    "df_exploded.loc[df_claims.index, \"cards_label_pred\"] = df_claims[\"cards_label_pred\"]\n",
    "\n",
    "def add_key(row):\n",
    "    try:\n",
    "        return {**row['claims'], 'cards_label_pred': row['cards_label_pred']}\n",
    "    except:\n",
    "        return row['claims']\n",
    "\n",
    "df_exploded['claims'] = df_exploded.apply(lambda row: add_key(row), axis=1)\n",
    "df_exploded = df_exploded.drop(columns=['cards_label_pred'])\n",
    "df_grouped = df_exploded.groupby('id', as_index=False).agg({'claims': list})\n",
    "\n",
    "def isnan_(row):\n",
    "    try:\n",
    "        return math.isnan(row.claims[0])\n",
    "    except:\n",
    "        return False\n",
    "\n",
    "df.loc[~ df_grouped.apply(lambda row: isnan_(row), axis=1), 'claims'] = df_grouped.loc[~ df_grouped.apply(lambda row: isnan_(row), axis=1), 'claims']\n",
    "# df.to_csv(\"/Users/anne/Desktop/4_channels_predictions_09_2023_09_2024_with_cards.csv\")"
   ]
  },
  {
   "cell_type": "code",
   "execution_count": 69,
   "metadata": {},
   "outputs": [],
   "source": [
    "df_cards = pd.read_csv(\"/Users/anne/Desktop/4_channels_predictions_09_2023_09_2024_with_cards.csv\")\n",
    "df_cards.drop(columns={'Unnamed: 0'}, inplace=True)\n",
    "\n",
    "df_cards['claims'] = df_cards['claims'].apply(lambda x: re.sub(r'}\\s*{', '}, {', x))\n",
    "df_cards['claims'] = df_cards['claims'].apply(lambda x: ast.literal_eval(x))"
   ]
  },
  {
   "cell_type": "code",
   "execution_count": 60,
   "metadata": {},
   "outputs": [
    {
     "data": {
      "text/plain": [
       "array(['f17cb36a314156417616ef1ebb9232bbf203a1ecdc983c796a1a8ddba78393da'],\n",
       "      dtype=object)"
      ]
     },
     "execution_count": 60,
     "metadata": {},
     "output_type": "execute_result"
    }
   ],
   "source": [
    "def find_claim(row, claim):\n",
    "    try:\n",
    "        return row.claims[0]['claim'] == claim\n",
    "    except:\n",
    "        return False\n",
    "\n",
    "df[df.apply(lambda row: find_claim(row, 'le giec est transhumaniste'), axis=1)].id.values"
   ]
  },
  {
   "cell_type": "code",
   "execution_count": 84,
   "metadata": {},
   "outputs": [
    {
     "name": "stdout",
     "output_type": "stream",
     "text": [
      "[ 1  4  2  0  3  5 19  7  6 17  8  9]\n",
      "[ 1  5  4  3  2  0  7  6 17  9 19  8]\n"
     ]
    }
   ],
   "source": [
    "print(df['claims'].apply(lambda x: len(x)).unique())\n",
    "print(df_cards['claims'].apply(lambda x: len(x)).unique())"
   ]
  },
  {
   "cell_type": "code",
   "execution_count": 86,
   "metadata": {},
   "outputs": [
    {
     "data": {
      "text/plain": [
       "array([{'analysis': \"L'allégation semble être fondée sur des données d'économies d'eau. Néanmoins, cela dépend de l'adoption généralisée de la technologie et des conditions de l'utilisation de l'eau dans les campings. Il serait prudent d'explorer si ces chiffres sont corroborés par des études ou des données réelles.\", 'claim': \"La facture s'allège de manière non négligeable avec cinquante pour cent d'économie d'eau atteignant parfois les six mille euros annuel.\", 'context': \"Dans une discussion sur une nouvelle innovation dans les campings qui vise à économiser de l'eau, il est mentionné que cette technologie permet de réduire la consommation d'eau et les coûts associés.\", 'contradiction': 'N/A', 'disinformation_category': 'facts', 'disinformation_score': 'low', 'pro_anti': 'pro-écologie', 'quote': \"La facture s'allège de manière non négligeable avec cinquante pour cent d'économie d'eau atteignant parfois les six mille euros annuel.\", 'speaker': 'narrative'},\n",
       "       {'analysis': \"Cet énoncé reflète un changement de perception quant à la gestion de l'eau dans les campings, indiquant une évolution vers des pratiques plus durables. Toutefois, il serait intéressant de voir des données ou des enquêtes qui soutiennent cette affirmation.\", 'claim': 'Les propriétaires et les campeurs ne considèrent plus la limitation comme des contraintes mais comme une norme vertueuse responsable et économe.', 'context': \"Lors de l'explication de l'innovation mise en place dans les campings pour limiter la consommation d'eau, il est souligné que cette limitation est maintenant perçue de manière positive par les utilisateurs.\", 'contradiction': 'N/A', 'disinformation_category': 'narrative', 'disinformation_score': 'low', 'pro_anti': 'pro-écologie', 'quote': 'Les propriétaires et les campeurs ne considèrent plus la limitation comme des contraintes mais comme une norme vertueuse responsable et économe.', 'speaker': 'narrative'},\n",
       "       {'analysis': 'Cette allégation semble provoquer un besoin de spécificité quant au nombre de campings qui adoptent cette solution. Le besoin de chiffres précis serait nécessaire pour évaluer correctement le sérieux de cette affirmation.', 'claim': \"Il y a encore peu tenter ensuite à s'installer sans douche par an.\", 'context': \"Lors de l'entretien, il est fait mention de l'installation encore faible de douches limitant la consommation d'eau dans les campings en France.\", 'contradiction': 'N/A', 'disinformation_category': 'facts', 'disinformation_score': 'medium', 'pro_anti': 'pro-écologie', 'quote': \"Il y a encore peu tenter ensuite à s'installer sans douche par an.\", 'speaker': 'narrative'},\n",
       "       {'analysis': \"Cette affirmation sur la croissance du nombre de campings équipés d'installations économes en eau nécessite une vérification pour voir si les données historiques appuient cette déclaration.\", 'claim': \"Le nombre de campings équipés a doublé depuis l'an dernier.\", 'context': \"Dans le cadre de l'innovation dans la gestion de l'eau, il est mentionné que le nombre de camping adoptant cette technologie a considérablement augmenté.\", 'contradiction': 'N/A', 'disinformation_category': 'facts', 'disinformation_score': 'medium', 'pro_anti': 'pro-écologie', 'quote': \"Le nombre de campings équipés a doublé depuis l'an dernier.\", 'speaker': 'narrative'}],\n",
       "      dtype=object)"
      ]
     },
     "execution_count": 86,
     "metadata": {},
     "output_type": "execute_result"
    }
   ],
   "source": [
    "df['claims'].iloc[1]"
   ]
  },
  {
   "cell_type": "code",
   "execution_count": 89,
   "metadata": {},
   "outputs": [
    {
     "data": {
      "text/plain": [
       "True"
      ]
     },
     "execution_count": 89,
     "metadata": {},
     "output_type": "execute_result"
    }
   ],
   "source": [
    "df.iloc[1].id == df_cards.iloc[1].id"
   ]
  },
  {
   "cell_type": "code",
   "execution_count": 87,
   "metadata": {},
   "outputs": [
    {
     "data": {
      "text/plain": [
       "[{'analysis': \"Cette allégation semble plausible et correspond à des études précédentes sur l'impact environnemental de l'industrie textile. Il est bien documenté que la production de coton est extrêmement consommatrice d'eau. Il semble donc que cela ne soit pas de la désinformation.\",\n",
       "  'claim': \"Il faut environ 18 900 litres d'eau pour fabriquer un jean en coton.\",\n",
       "  'context': \"Dans un discours abordant l'impact environnemental de l'habillement, il a été mentionné qu'un jean nécessite une quantité importante d'eau pour sa fabrication.\",\n",
       "  'contradiction': 'N/A',\n",
       "  'disinformation_category': 'facts',\n",
       "  'disinformation_score': 'very low',\n",
       "  'pro_anti': 'pro-écologie',\n",
       "  'quote': \"Vous savez combien de litres d'eau il faut claude pour fabriquer un belot jean baudelot bawe le coton sur dix-huit cent neuf mille.\",\n",
       "  'speaker': 'consensus',\n",
       "  'cards_label_pred': ''}]"
      ]
     },
     "execution_count": 87,
     "metadata": {},
     "output_type": "execute_result"
    }
   ],
   "source": [
    "df_cards['claims'].iloc[1]"
   ]
  },
  {
   "cell_type": "code",
   "execution_count": 90,
   "metadata": {},
   "outputs": [
    {
     "data": {
      "text/plain": [
       "(39131, 12)"
      ]
     },
     "execution_count": 90,
     "metadata": {},
     "output_type": "execute_result"
    }
   ],
   "source": [
    "df_cards.shape"
   ]
  },
  {
   "cell_type": "code",
   "execution_count": 91,
   "metadata": {},
   "outputs": [
    {
     "data": {
      "text/plain": [
       "(39131, 12)"
      ]
     },
     "execution_count": 91,
     "metadata": {},
     "output_type": "execute_result"
    }
   ],
   "source": [
    "df.shape"
   ]
  },
  {
   "cell_type": "code",
   "execution_count": 85,
   "metadata": {},
   "outputs": [
    {
     "data": {
      "text/plain": [
       "0         True\n",
       "1        False\n",
       "2        False\n",
       "3         True\n",
       "4        False\n",
       "         ...  \n",
       "39126    False\n",
       "39127     True\n",
       "39128     True\n",
       "39129    False\n",
       "39130    False\n",
       "Name: claims, Length: 39131, dtype: bool"
      ]
     },
     "execution_count": 85,
     "metadata": {},
     "output_type": "execute_result"
    }
   ],
   "source": [
    "df['claims'].apply(lambda x: len(x)) == df_cards['claims'].apply(lambda x: len(x))"
   ]
  },
  {
   "cell_type": "code",
   "execution_count": 63,
   "metadata": {},
   "outputs": [
    {
     "data": {
      "text/plain": [
       "array(['f632de53bfe36f76d420ff1295d2d9a2a18fc9cb8e560daf4d413246bd55f816'],\n",
       "      dtype=object)"
      ]
     },
     "execution_count": 63,
     "metadata": {},
     "output_type": "execute_result"
    }
   ],
   "source": [
    "df[df.apply(lambda row: find_claim(row, 'des textes sur les énergies renouvelables'), axis=1)].id.values"
   ]
  },
  {
   "cell_type": "code",
   "execution_count": 67,
   "metadata": {},
   "outputs": [
    {
     "name": "stdout",
     "output_type": "stream",
     "text": [
      "array([array([{'analysis': \"L'allégation fait référence à une législation existante sur les énergies renouvelables. Il n'y a pas de désinformation ici, mais il est important de vérifier le contenu spécifique des textes pour comprendre leur impact et leur portée.\", 'claim': 'des textes sur les énergies renouvelables', 'context': 'Le rapporteur mentionne les lignes adoptées concernant les énergies renouvelables tout en les intégrant dans un débat plus large sur différents textes de lois, y compris sur le nucléaire et le militaire.', 'contradiction': 'N/A', 'disinformation_category': 'facts', 'disinformation_score': 'very low', 'pro_anti': 'pro-écologie', 'quote': 'des textes sur les énergies renouvelables', 'speaker': 'consensus'},\n",
      "              {'analysis': 'Cette affirmation aborde une réalité des politiques énergétiques actuelles sans indiquer de fausse information. Cela mérite cependant une vérification des détails des textes adoptés.', 'claim': 'adopter des textes sur le nucléaire', 'context': \"Le rapporteur fait également mention de la législation adoptée autour du nucléaire, la liant à d'autres sujets de politique publique.\", 'contradiction': 'N/A', 'disinformation_category': 'facts', 'disinformation_score': 'very low', 'pro_anti': 'anti-écologie', 'quote': 'adopter des textes sur le nucléaire', 'speaker': 'consensus'}],\n",
      "             dtype=object)                                                                                                                                                                                                                                                                                                                                                                                                                                                                                                                                                                                                                                                                                                                                         ],\n",
      "      dtype=object)\n"
     ]
    }
   ],
   "source": [
    "import pprint\n",
    "pprint.pprint(df[df.id == 'f632de53bfe36f76d420ff1295d2d9a2a18fc9cb8e560daf4d413246bd55f816'].claims.values)"
   ]
  },
  {
   "cell_type": "code",
   "execution_count": 72,
   "metadata": {},
   "outputs": [
    {
     "name": "stdout",
     "output_type": "stream",
     "text": [
      "array(['[{\\'analysis\\': \"L\\'allégation fait référence à une législation existante sur les énergies renouvelables. Il n\\'y a pas de désinformation ici, mais il est important de vérifier le contenu spécifique des textes pour comprendre leur impact et leur portée.\", \\'claim\\': \\'des textes sur les énergies renouvelables\\', \\'context\\': \\'Le rapporteur mentionne les lignes adoptées concernant les énergies renouvelables tout en les intégrant dans un débat plus large sur différents textes de lois, y compris sur le nucléaire et le militaire.\\', \\'contradiction\\': \\'N/A\\', \\'disinformation_category\\': \\'facts\\', \\'disinformation_score\\': \\'very low\\', \\'pro_anti\\': \\'pro-écologie\\', \\'quote\\': \\'des textes sur les énergies renouvelables\\', \\'speaker\\': \\'consensus\\'}\\n {\\'analysis\\': \\'Cette affirmation aborde une réalité des politiques énergétiques actuelles sans indiquer de fausse information. Cela mérite cependant une vérification des détails des textes adoptés.\\', \\'claim\\': \\'adopter des textes sur le nucléaire\\', \\'context\\': \"Le rapporteur fait également mention de la législation adoptée autour du nucléaire, la liant à d\\'autres sujets de politique publique.\", \\'contradiction\\': \\'N/A\\', \\'disinformation_category\\': \\'facts\\', \\'disinformation_score\\': \\'very low\\', \\'pro_anti\\': \\'anti-écologie\\', \\'quote\\': \\'adopter des textes sur le nucléaire\\', \\'speaker\\': \\'consensus\\'}]'],\n",
      "      dtype=object)\n"
     ]
    }
   ],
   "source": [
    "pprint.pprint(df_cards[df_cards.id == 'f632de53bfe36f76d420ff1295d2d9a2a18fc9cb8e560daf4d413246bd55f816'].claims.values)"
   ]
  }
 ],
 "metadata": {
  "kernelspec": {
   "display_name": ".venv",
   "language": "python",
   "name": "python3"
  },
  "language_info": {
   "codemirror_mode": {
    "name": "ipython",
    "version": 3
   },
   "file_extension": ".py",
   "mimetype": "text/x-python",
   "name": "python",
   "nbconvert_exporter": "python",
   "pygments_lexer": "ipython3",
   "version": "3.12.7"
  }
 },
 "nbformat": 4,
 "nbformat_minor": 2
}
