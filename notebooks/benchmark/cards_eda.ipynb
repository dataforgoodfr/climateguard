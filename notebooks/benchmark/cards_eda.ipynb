{
 "cells": [
  {
   "cell_type": "markdown",
   "metadata": {},
   "source": [
    "# Cards Exploratory Data Analysis\n",
    "\n",
    "In this notebook, we explore the Augmented CARDS dataset and sample a small benchmark of 600 claims, each with a corresponding label (0-5)."
   ]
  },
  {
   "cell_type": "code",
   "execution_count": 1,
   "metadata": {},
   "outputs": [],
   "source": [
    "import string\n",
    "\n",
    "import pandas as pd\n",
    "import plotly.express as px"
   ]
  },
  {
   "cell_type": "markdown",
   "metadata": {},
   "source": [
    "## Load the Augmented CARDS dataset"
   ]
  },
  {
   "cell_type": "code",
   "execution_count": 2,
   "metadata": {},
   "outputs": [
    {
     "data": {
      "text/html": [
       "<div>\n",
       "<style scoped>\n",
       "    .dataframe tbody tr th:only-of-type {\n",
       "        vertical-align: middle;\n",
       "    }\n",
       "\n",
       "    .dataframe tbody tr th {\n",
       "        vertical-align: top;\n",
       "    }\n",
       "\n",
       "    .dataframe thead th {\n",
       "        text-align: right;\n",
       "    }\n",
       "</style>\n",
       "<table border=\"1\" class=\"dataframe\">\n",
       "  <thead>\n",
       "    <tr style=\"text-align: right;\">\n",
       "      <th></th>\n",
       "      <th>text</th>\n",
       "      <th>binary_claim</th>\n",
       "      <th>cards_claim</th>\n",
       "      <th>acards_claim</th>\n",
       "      <th>full_claim</th>\n",
       "      <th>DATASET</th>\n",
       "      <th>PARTITION</th>\n",
       "    </tr>\n",
       "  </thead>\n",
       "  <tbody>\n",
       "    <tr>\n",
       "      <th>0</th>\n",
       "      <td>! !! # climate change feelings https://t.co/X8...</td>\n",
       "      <td>0</td>\n",
       "      <td>NaN</td>\n",
       "      <td>NaN</td>\n",
       "      <td>NaN</td>\n",
       "      <td>waterloo</td>\n",
       "      <td>VALID</td>\n",
       "    </tr>\n",
       "    <tr>\n",
       "      <th>1</th>\n",
       "      <td>!! climate change should not be a partisan iss...</td>\n",
       "      <td>0</td>\n",
       "      <td>NaN</td>\n",
       "      <td>NaN</td>\n",
       "      <td>NaN</td>\n",
       "      <td>waterloo</td>\n",
       "      <td>TRAIN</td>\n",
       "    </tr>\n",
       "    <tr>\n",
       "      <th>2</th>\n",
       "      <td>\" \"Current scientific understanding provides l...</td>\n",
       "      <td>0</td>\n",
       "      <td>0_0</td>\n",
       "      <td>0_0</td>\n",
       "      <td>NaN</td>\n",
       "      <td>cards</td>\n",
       "      <td>TRAIN</td>\n",
       "    </tr>\n",
       "    <tr>\n",
       "      <th>3</th>\n",
       "      <td>\" \"International accords and underlying region...</td>\n",
       "      <td>0</td>\n",
       "      <td>0_0</td>\n",
       "      <td>0_0</td>\n",
       "      <td>NaN</td>\n",
       "      <td>cards</td>\n",
       "      <td>VALID</td>\n",
       "    </tr>\n",
       "    <tr>\n",
       "      <th>4</th>\n",
       "      <td>\" ...all models contain large errors in precip...</td>\n",
       "      <td>1</td>\n",
       "      <td>5_1</td>\n",
       "      <td>5_1</td>\n",
       "      <td>NaN</td>\n",
       "      <td>cards</td>\n",
       "      <td>TRAIN</td>\n",
       "    </tr>\n",
       "    <tr>\n",
       "      <th>...</th>\n",
       "      <td>...</td>\n",
       "      <td>...</td>\n",
       "      <td>...</td>\n",
       "      <td>...</td>\n",
       "      <td>...</td>\n",
       "      <td>...</td>\n",
       "      <td>...</td>\n",
       "    </tr>\n",
       "    <tr>\n",
       "      <th>75648</th>\n",
       "      <td>💪Be the change.✅Shape the future.📣Submit your ...</td>\n",
       "      <td>0</td>\n",
       "      <td>0_0</td>\n",
       "      <td>0_0</td>\n",
       "      <td>0_0</td>\n",
       "      <td>golden</td>\n",
       "      <td>TEST</td>\n",
       "    </tr>\n",
       "    <tr>\n",
       "      <th>75649</th>\n",
       "      <td>📝 Tackling the climate crisis is daunting. Thi...</td>\n",
       "      <td>0</td>\n",
       "      <td>0_0</td>\n",
       "      <td>0_0</td>\n",
       "      <td>0_0</td>\n",
       "      <td>golden</td>\n",
       "      <td>TEST</td>\n",
       "    </tr>\n",
       "    <tr>\n",
       "      <th>75650</th>\n",
       "      <td>📺Our Technological Innovations and Climate Cha...</td>\n",
       "      <td>0</td>\n",
       "      <td>0_0</td>\n",
       "      <td>0_0</td>\n",
       "      <td>0_0</td>\n",
       "      <td>golden</td>\n",
       "      <td>TEST</td>\n",
       "    </tr>\n",
       "    <tr>\n",
       "      <th>75651</th>\n",
       "      <td>🚨 SHOCKING: Top Conservative donor Lord Frost ...</td>\n",
       "      <td>0</td>\n",
       "      <td>0_0</td>\n",
       "      <td>0_0</td>\n",
       "      <td>0_0</td>\n",
       "      <td>golden</td>\n",
       "      <td>TEST</td>\n",
       "    </tr>\n",
       "    <tr>\n",
       "      <th>75652</th>\n",
       "      <td>🤦🤣🤣😀Here's a New take on climate change, now C...</td>\n",
       "      <td>1</td>\n",
       "      <td>1_7</td>\n",
       "      <td>1_7</td>\n",
       "      <td>1_7</td>\n",
       "      <td>golden</td>\n",
       "      <td>TEST</td>\n",
       "    </tr>\n",
       "  </tbody>\n",
       "</table>\n",
       "<p>75653 rows × 7 columns</p>\n",
       "</div>"
      ],
      "text/plain": [
       "                                                    text  binary_claim  \\\n",
       "0      ! !! # climate change feelings https://t.co/X8...             0   \n",
       "1      !! climate change should not be a partisan iss...             0   \n",
       "2      \" \"Current scientific understanding provides l...             0   \n",
       "3      \" \"International accords and underlying region...             0   \n",
       "4      \" ...all models contain large errors in precip...             1   \n",
       "...                                                  ...           ...   \n",
       "75648  💪Be the change.✅Shape the future.📣Submit your ...             0   \n",
       "75649  📝 Tackling the climate crisis is daunting. Thi...             0   \n",
       "75650  📺Our Technological Innovations and Climate Cha...             0   \n",
       "75651  🚨 SHOCKING: Top Conservative donor Lord Frost ...             0   \n",
       "75652  🤦🤣🤣😀Here's a New take on climate change, now C...             1   \n",
       "\n",
       "      cards_claim acards_claim full_claim   DATASET PARTITION  \n",
       "0             NaN          NaN        NaN  waterloo     VALID  \n",
       "1             NaN          NaN        NaN  waterloo     TRAIN  \n",
       "2             0_0          0_0        NaN     cards     TRAIN  \n",
       "3             0_0          0_0        NaN     cards     VALID  \n",
       "4             5_1          5_1        NaN     cards     TRAIN  \n",
       "...           ...          ...        ...       ...       ...  \n",
       "75648         0_0          0_0        0_0    golden      TEST  \n",
       "75649         0_0          0_0        0_0    golden      TEST  \n",
       "75650         0_0          0_0        0_0    golden      TEST  \n",
       "75651         0_0          0_0        0_0    golden      TEST  \n",
       "75652         1_7          1_7        1_7    golden      TEST  \n",
       "\n",
       "[75653 rows x 7 columns]"
      ]
     },
     "execution_count": 2,
     "metadata": {},
     "output_type": "execute_result"
    }
   ],
   "source": [
    "# Download the augmented_cards.csv file from https://figshare.com/articles/dataset/Untitled_Item/25465036\n",
    "df = pd.read_csv(\"../../data/benchmark/augmented_cards.csv\")\n",
    "df"
   ]
  },
  {
   "cell_type": "code",
   "execution_count": 3,
   "metadata": {},
   "outputs": [
    {
     "data": {
      "text/plain": [
       "DATASET\n",
       "waterloo    43943\n",
       "cards       28999\n",
       "golden       2711\n",
       "Name: count, dtype: int64"
      ]
     },
     "execution_count": 3,
     "metadata": {},
     "output_type": "execute_result"
    }
   ],
   "source": [
    "# There are 3 dataset sources\n",
    "df[\"DATASET\"].value_counts()"
   ]
  },
  {
   "cell_type": "markdown",
   "metadata": {},
   "source": [
    "`waterloo`\n",
    "\n",
    "Quote from [Hierarchical CARDS](https://www.nature.com/articles/s43247-024-01573-7.pdf):\n",
    "> To enhance the model’s performance, we incorporated the Climate Change Twitter Dataset labelled by the University of Waterloo, featuring a 90/10 ratio of verified and misleading tweets (https://www.kaggle.com/datasets/edqian/twitter-climate-change-sentiment-dataset), to the binary classifier training set.\n",
    "\n",
    "_This issue is that the labels for this dataset are binary only._\n",
    "\n",
    "`cards`\n",
    "\n",
    "Quotes from [CARDS](https://osf.io/preprints/socarxiv/crxfm):\n",
    "\n",
    "> We wrote custom software to harvest all content from 20 conservative think tanks and 33 climate contrarian blogs and the 255 climate-related content of 20 conservative think-tanks over period from 1998 to 2020. Extended Data Tables 1-2 provide a full list of the blogs and CTTs included in this study, as well as the number of documents provided by each source. We collected a total of 249,413 climate change relevant documents—which contain over 174 million words (tokens)—from these 53 sources over the relevant time period. Extended Data Figs. 1-2 illustrate the total document frequencies over time, offering the monthly counts of documents for blogs and CTTs.\n",
    "\n",
    ">  In order to provide an accurate assessment of model performance in light of noisy label information and to facilitate comparison across deep and shallow classifiers, we split our annotated paragraphs into a training set (n = 23,436), validation set (n = 2,605), and an \"error free\" test set (n = 2,904). To arrive at the \"error free\" test set, we 1) generated a random sample of annotated paragraphs which matched the class distribution in the training set and 2) re-annotated the test set to fix clear annotation errors.\n",
    "\n",
    "_It's unclear about what \"error free\" means for the training and validation sets. Does it imply that they might contain labeling errors?_\n",
    "\n",
    "`golden`\n",
    "\n",
    "Quote from [Hierarchical CARDS](https://www.nature.com/articles/s43247-024-01573-7.pdf):\n",
    "> To assess the model’s capabilities, climate change experts labelled a\n",
    "testing set of tweets following the CARDS taxonomy. This dataset, denoted as Expert\n",
    "Annotated Climate Tweets in Table 1, was composed of ~~2607~~ 2711 tweets related to\n",
    "climate change, sampled from the platform in the second half of 2022.\n",
    "\n"
   ]
  },
  {
   "cell_type": "code",
   "execution_count": 4,
   "metadata": {},
   "outputs": [
    {
     "data": {
      "text/html": [
       "<div>\n",
       "<style scoped>\n",
       "    .dataframe tbody tr th:only-of-type {\n",
       "        vertical-align: middle;\n",
       "    }\n",
       "\n",
       "    .dataframe tbody tr th {\n",
       "        vertical-align: top;\n",
       "    }\n",
       "\n",
       "    .dataframe thead th {\n",
       "        text-align: right;\n",
       "    }\n",
       "</style>\n",
       "<table border=\"1\" class=\"dataframe\">\n",
       "  <thead>\n",
       "    <tr style=\"text-align: right;\">\n",
       "      <th></th>\n",
       "      <th>text</th>\n",
       "      <th>binary_claim</th>\n",
       "      <th>cards_claim</th>\n",
       "      <th>acards_claim</th>\n",
       "      <th>full_claim</th>\n",
       "      <th>DATASET</th>\n",
       "      <th>PARTITION</th>\n",
       "    </tr>\n",
       "  </thead>\n",
       "  <tbody>\n",
       "    <tr>\n",
       "      <th>0</th>\n",
       "      <td>! !! # climate change feelings https://t.co/X8...</td>\n",
       "      <td>0</td>\n",
       "      <td>NaN</td>\n",
       "      <td>NaN</td>\n",
       "      <td>NaN</td>\n",
       "      <td>waterloo</td>\n",
       "      <td>VALID</td>\n",
       "    </tr>\n",
       "    <tr>\n",
       "      <th>1</th>\n",
       "      <td>!! climate change should not be a partisan iss...</td>\n",
       "      <td>0</td>\n",
       "      <td>NaN</td>\n",
       "      <td>NaN</td>\n",
       "      <td>NaN</td>\n",
       "      <td>waterloo</td>\n",
       "      <td>TRAIN</td>\n",
       "    </tr>\n",
       "    <tr>\n",
       "      <th>2</th>\n",
       "      <td>\" \"Current scientific understanding provides l...</td>\n",
       "      <td>0</td>\n",
       "      <td>0_0</td>\n",
       "      <td>0_0</td>\n",
       "      <td>NaN</td>\n",
       "      <td>cards</td>\n",
       "      <td>TRAIN</td>\n",
       "    </tr>\n",
       "    <tr>\n",
       "      <th>3</th>\n",
       "      <td>\" \"International accords and underlying region...</td>\n",
       "      <td>0</td>\n",
       "      <td>0_0</td>\n",
       "      <td>0_0</td>\n",
       "      <td>NaN</td>\n",
       "      <td>cards</td>\n",
       "      <td>VALID</td>\n",
       "    </tr>\n",
       "    <tr>\n",
       "      <th>4</th>\n",
       "      <td>\" ...all models contain large errors in precip...</td>\n",
       "      <td>1</td>\n",
       "      <td>5_1</td>\n",
       "      <td>5_1</td>\n",
       "      <td>NaN</td>\n",
       "      <td>cards</td>\n",
       "      <td>TRAIN</td>\n",
       "    </tr>\n",
       "    <tr>\n",
       "      <th>...</th>\n",
       "      <td>...</td>\n",
       "      <td>...</td>\n",
       "      <td>...</td>\n",
       "      <td>...</td>\n",
       "      <td>...</td>\n",
       "      <td>...</td>\n",
       "      <td>...</td>\n",
       "    </tr>\n",
       "    <tr>\n",
       "      <th>75648</th>\n",
       "      <td>💪Be the change.✅Shape the future.📣Submit your ...</td>\n",
       "      <td>0</td>\n",
       "      <td>0_0</td>\n",
       "      <td>0_0</td>\n",
       "      <td>0_0</td>\n",
       "      <td>golden</td>\n",
       "      <td>TEST</td>\n",
       "    </tr>\n",
       "    <tr>\n",
       "      <th>75649</th>\n",
       "      <td>📝 Tackling the climate crisis is daunting. Thi...</td>\n",
       "      <td>0</td>\n",
       "      <td>0_0</td>\n",
       "      <td>0_0</td>\n",
       "      <td>0_0</td>\n",
       "      <td>golden</td>\n",
       "      <td>TEST</td>\n",
       "    </tr>\n",
       "    <tr>\n",
       "      <th>75650</th>\n",
       "      <td>📺Our Technological Innovations and Climate Cha...</td>\n",
       "      <td>0</td>\n",
       "      <td>0_0</td>\n",
       "      <td>0_0</td>\n",
       "      <td>0_0</td>\n",
       "      <td>golden</td>\n",
       "      <td>TEST</td>\n",
       "    </tr>\n",
       "    <tr>\n",
       "      <th>75651</th>\n",
       "      <td>🚨 SHOCKING: Top Conservative donor Lord Frost ...</td>\n",
       "      <td>0</td>\n",
       "      <td>0_0</td>\n",
       "      <td>0_0</td>\n",
       "      <td>0_0</td>\n",
       "      <td>golden</td>\n",
       "      <td>TEST</td>\n",
       "    </tr>\n",
       "    <tr>\n",
       "      <th>75652</th>\n",
       "      <td>🤦🤣🤣😀Here's a New take on climate change, now C...</td>\n",
       "      <td>1</td>\n",
       "      <td>1_7</td>\n",
       "      <td>1_7</td>\n",
       "      <td>1_7</td>\n",
       "      <td>golden</td>\n",
       "      <td>TEST</td>\n",
       "    </tr>\n",
       "  </tbody>\n",
       "</table>\n",
       "<p>72591 rows × 7 columns</p>\n",
       "</div>"
      ],
      "text/plain": [
       "                                                    text  binary_claim  \\\n",
       "0      ! !! # climate change feelings https://t.co/X8...             0   \n",
       "1      !! climate change should not be a partisan iss...             0   \n",
       "2      \" \"Current scientific understanding provides l...             0   \n",
       "3      \" \"International accords and underlying region...             0   \n",
       "4      \" ...all models contain large errors in precip...             1   \n",
       "...                                                  ...           ...   \n",
       "75648  💪Be the change.✅Shape the future.📣Submit your ...             0   \n",
       "75649  📝 Tackling the climate crisis is daunting. Thi...             0   \n",
       "75650  📺Our Technological Innovations and Climate Cha...             0   \n",
       "75651  🚨 SHOCKING: Top Conservative donor Lord Frost ...             0   \n",
       "75652  🤦🤣🤣😀Here's a New take on climate change, now C...             1   \n",
       "\n",
       "      cards_claim acards_claim full_claim   DATASET PARTITION  \n",
       "0             NaN          NaN        NaN  waterloo     VALID  \n",
       "1             NaN          NaN        NaN  waterloo     TRAIN  \n",
       "2             0_0          0_0        NaN     cards     TRAIN  \n",
       "3             0_0          0_0        NaN     cards     VALID  \n",
       "4             5_1          5_1        NaN     cards     TRAIN  \n",
       "...           ...          ...        ...       ...       ...  \n",
       "75648         0_0          0_0        0_0    golden      TEST  \n",
       "75649         0_0          0_0        0_0    golden      TEST  \n",
       "75650         0_0          0_0        0_0    golden      TEST  \n",
       "75651         0_0          0_0        0_0    golden      TEST  \n",
       "75652         1_7          1_7        1_7    golden      TEST  \n",
       "\n",
       "[72591 rows x 7 columns]"
      ]
     },
     "execution_count": 4,
     "metadata": {},
     "output_type": "execute_result"
    }
   ],
   "source": [
    "# Remove duplicates\n",
    "canonical_text = (\n",
    "    df[\"text\"].str.lower().str.replace(f\"[{string.punctuation}]\", \"\", regex=True)\n",
    ")\n",
    "df = df.loc[canonical_text.drop_duplicates().index]\n",
    "df"
   ]
  },
  {
   "cell_type": "code",
   "execution_count": 5,
   "metadata": {},
   "outputs": [
    {
     "data": {
      "text/plain": [
       "cards_claim\n",
       "True     41082\n",
       "False    31509\n",
       "Name: count, dtype: int64"
      ]
     },
     "metadata": {},
     "output_type": "display_data"
    },
    {
     "data": {
      "text/html": [
       "<div>\n",
       "<style scoped>\n",
       "    .dataframe tbody tr th:only-of-type {\n",
       "        vertical-align: middle;\n",
       "    }\n",
       "\n",
       "    .dataframe tbody tr th {\n",
       "        vertical-align: top;\n",
       "    }\n",
       "\n",
       "    .dataframe thead th {\n",
       "        text-align: right;\n",
       "    }\n",
       "</style>\n",
       "<table border=\"1\" class=\"dataframe\">\n",
       "  <thead>\n",
       "    <tr style=\"text-align: right;\">\n",
       "      <th></th>\n",
       "      <th>text</th>\n",
       "      <th>binary_claim</th>\n",
       "      <th>cards_claim</th>\n",
       "      <th>acards_claim</th>\n",
       "      <th>full_claim</th>\n",
       "      <th>DATASET</th>\n",
       "      <th>PARTITION</th>\n",
       "    </tr>\n",
       "  </thead>\n",
       "  <tbody>\n",
       "    <tr>\n",
       "      <th>2</th>\n",
       "      <td>\" \"Current scientific understanding provides l...</td>\n",
       "      <td>0</td>\n",
       "      <td>0_0</td>\n",
       "      <td>0_0</td>\n",
       "      <td>NaN</td>\n",
       "      <td>cards</td>\n",
       "      <td>TRAIN</td>\n",
       "    </tr>\n",
       "    <tr>\n",
       "      <th>3</th>\n",
       "      <td>\" \"International accords and underlying region...</td>\n",
       "      <td>0</td>\n",
       "      <td>0_0</td>\n",
       "      <td>0_0</td>\n",
       "      <td>NaN</td>\n",
       "      <td>cards</td>\n",
       "      <td>VALID</td>\n",
       "    </tr>\n",
       "    <tr>\n",
       "      <th>4</th>\n",
       "      <td>\" ...all models contain large errors in precip...</td>\n",
       "      <td>1</td>\n",
       "      <td>5_1</td>\n",
       "      <td>5_1</td>\n",
       "      <td>NaN</td>\n",
       "      <td>cards</td>\n",
       "      <td>TRAIN</td>\n",
       "    </tr>\n",
       "    <tr>\n",
       "      <th>5</th>\n",
       "      <td>\" ...analyzed storminess across the whole of s...</td>\n",
       "      <td>1</td>\n",
       "      <td>1_7</td>\n",
       "      <td>1_7</td>\n",
       "      <td>NaN</td>\n",
       "      <td>cards</td>\n",
       "      <td>TRAIN</td>\n",
       "    </tr>\n",
       "    <tr>\n",
       "      <th>6</th>\n",
       "      <td>\" A paper published ...in the Journal of Geoph...</td>\n",
       "      <td>1</td>\n",
       "      <td>2_1</td>\n",
       "      <td>2_1</td>\n",
       "      <td>NaN</td>\n",
       "      <td>cards</td>\n",
       "      <td>TRAIN</td>\n",
       "    </tr>\n",
       "    <tr>\n",
       "      <th>...</th>\n",
       "      <td>...</td>\n",
       "      <td>...</td>\n",
       "      <td>...</td>\n",
       "      <td>...</td>\n",
       "      <td>...</td>\n",
       "      <td>...</td>\n",
       "      <td>...</td>\n",
       "    </tr>\n",
       "    <tr>\n",
       "      <th>75648</th>\n",
       "      <td>💪Be the change.✅Shape the future.📣Submit your ...</td>\n",
       "      <td>0</td>\n",
       "      <td>0_0</td>\n",
       "      <td>0_0</td>\n",
       "      <td>0_0</td>\n",
       "      <td>golden</td>\n",
       "      <td>TEST</td>\n",
       "    </tr>\n",
       "    <tr>\n",
       "      <th>75649</th>\n",
       "      <td>📝 Tackling the climate crisis is daunting. Thi...</td>\n",
       "      <td>0</td>\n",
       "      <td>0_0</td>\n",
       "      <td>0_0</td>\n",
       "      <td>0_0</td>\n",
       "      <td>golden</td>\n",
       "      <td>TEST</td>\n",
       "    </tr>\n",
       "    <tr>\n",
       "      <th>75650</th>\n",
       "      <td>📺Our Technological Innovations and Climate Cha...</td>\n",
       "      <td>0</td>\n",
       "      <td>0_0</td>\n",
       "      <td>0_0</td>\n",
       "      <td>0_0</td>\n",
       "      <td>golden</td>\n",
       "      <td>TEST</td>\n",
       "    </tr>\n",
       "    <tr>\n",
       "      <th>75651</th>\n",
       "      <td>🚨 SHOCKING: Top Conservative donor Lord Frost ...</td>\n",
       "      <td>0</td>\n",
       "      <td>0_0</td>\n",
       "      <td>0_0</td>\n",
       "      <td>0_0</td>\n",
       "      <td>golden</td>\n",
       "      <td>TEST</td>\n",
       "    </tr>\n",
       "    <tr>\n",
       "      <th>75652</th>\n",
       "      <td>🤦🤣🤣😀Here's a New take on climate change, now C...</td>\n",
       "      <td>1</td>\n",
       "      <td>1_7</td>\n",
       "      <td>1_7</td>\n",
       "      <td>1_7</td>\n",
       "      <td>golden</td>\n",
       "      <td>TEST</td>\n",
       "    </tr>\n",
       "  </tbody>\n",
       "</table>\n",
       "<p>31509 rows × 7 columns</p>\n",
       "</div>"
      ],
      "text/plain": [
       "                                                    text  binary_claim  \\\n",
       "2      \" \"Current scientific understanding provides l...             0   \n",
       "3      \" \"International accords and underlying region...             0   \n",
       "4      \" ...all models contain large errors in precip...             1   \n",
       "5      \" ...analyzed storminess across the whole of s...             1   \n",
       "6      \" A paper published ...in the Journal of Geoph...             1   \n",
       "...                                                  ...           ...   \n",
       "75648  💪Be the change.✅Shape the future.📣Submit your ...             0   \n",
       "75649  📝 Tackling the climate crisis is daunting. Thi...             0   \n",
       "75650  📺Our Technological Innovations and Climate Cha...             0   \n",
       "75651  🚨 SHOCKING: Top Conservative donor Lord Frost ...             0   \n",
       "75652  🤦🤣🤣😀Here's a New take on climate change, now C...             1   \n",
       "\n",
       "      cards_claim acards_claim full_claim DATASET PARTITION  \n",
       "2             0_0          0_0        NaN   cards     TRAIN  \n",
       "3             0_0          0_0        NaN   cards     VALID  \n",
       "4             5_1          5_1        NaN   cards     TRAIN  \n",
       "5             1_7          1_7        NaN   cards     TRAIN  \n",
       "6             2_1          2_1        NaN   cards     TRAIN  \n",
       "...           ...          ...        ...     ...       ...  \n",
       "75648         0_0          0_0        0_0  golden      TEST  \n",
       "75649         0_0          0_0        0_0  golden      TEST  \n",
       "75650         0_0          0_0        0_0  golden      TEST  \n",
       "75651         0_0          0_0        0_0  golden      TEST  \n",
       "75652         1_7          1_7        1_7  golden      TEST  \n",
       "\n",
       "[31509 rows x 7 columns]"
      ]
     },
     "execution_count": 5,
     "metadata": {},
     "output_type": "execute_result"
    }
   ],
   "source": [
    "# Remove texts that only have a binary label (bye waterloo)\n",
    "display(df[\"cards_claim\"].isna().value_counts())\n",
    "df = df.dropna(subset=\"cards_claim\")\n",
    "df"
   ]
  },
  {
   "cell_type": "code",
   "execution_count": 6,
   "metadata": {},
   "outputs": [
    {
     "data": {
      "text/plain": [
       "DATASET\n",
       "cards       28868\n",
       "golden       2640\n",
       "waterloo        1\n",
       "Name: count, dtype: int64"
      ]
     },
     "metadata": {},
     "output_type": "display_data"
    }
   ],
   "source": [
    "# Remove the single remaining waterloo text\n",
    "display(df[\"DATASET\"].value_counts())\n",
    "df = df[df[\"DATASET\"] != \"waterloo\"]\n",
    "df = df.copy()"
   ]
  },
  {
   "cell_type": "code",
   "execution_count": 7,
   "metadata": {},
   "outputs": [
    {
     "data": {
      "text/plain": [
       "DATASET\n",
       "cards      28868\n",
       "twitter     2640\n",
       "Name: count, dtype: int64"
      ]
     },
     "execution_count": 7,
     "metadata": {},
     "output_type": "execute_result"
    }
   ],
   "source": [
    "# Rename \"golden\" to \"twitter\" for clarity\n",
    "df[\"DATASET\"] = df[\"DATASET\"].replace(\"golden\", \"twitter\")\n",
    "df[\"DATASET\"].value_counts()"
   ]
  },
  {
   "cell_type": "markdown",
   "metadata": {},
   "source": [
    "## Explore the distribution of claims"
   ]
  },
  {
   "cell_type": "code",
   "execution_count": 8,
   "metadata": {},
   "outputs": [
    {
     "data": {
      "text/html": [
       "<div>\n",
       "<style scoped>\n",
       "    .dataframe tbody tr th:only-of-type {\n",
       "        vertical-align: middle;\n",
       "    }\n",
       "\n",
       "    .dataframe tbody tr th {\n",
       "        vertical-align: top;\n",
       "    }\n",
       "\n",
       "    .dataframe thead th {\n",
       "        text-align: right;\n",
       "    }\n",
       "</style>\n",
       "<table border=\"1\" class=\"dataframe\">\n",
       "  <thead>\n",
       "    <tr style=\"text-align: right;\">\n",
       "      <th></th>\n",
       "      <th>text</th>\n",
       "      <th>binary_claim</th>\n",
       "      <th>cards_claim_2</th>\n",
       "      <th>acards_claim</th>\n",
       "      <th>full_claim</th>\n",
       "      <th>DATASET</th>\n",
       "      <th>PARTITION</th>\n",
       "      <th>cards_claim_1</th>\n",
       "    </tr>\n",
       "  </thead>\n",
       "  <tbody>\n",
       "    <tr>\n",
       "      <th>2</th>\n",
       "      <td>\" \"Current scientific understanding provides l...</td>\n",
       "      <td>0</td>\n",
       "      <td>0_0</td>\n",
       "      <td>0_0</td>\n",
       "      <td>NaN</td>\n",
       "      <td>cards</td>\n",
       "      <td>TRAIN</td>\n",
       "      <td>0</td>\n",
       "    </tr>\n",
       "    <tr>\n",
       "      <th>3</th>\n",
       "      <td>\" \"International accords and underlying region...</td>\n",
       "      <td>0</td>\n",
       "      <td>0_0</td>\n",
       "      <td>0_0</td>\n",
       "      <td>NaN</td>\n",
       "      <td>cards</td>\n",
       "      <td>VALID</td>\n",
       "      <td>0</td>\n",
       "    </tr>\n",
       "    <tr>\n",
       "      <th>4</th>\n",
       "      <td>\" ...all models contain large errors in precip...</td>\n",
       "      <td>1</td>\n",
       "      <td>5_1</td>\n",
       "      <td>5_1</td>\n",
       "      <td>NaN</td>\n",
       "      <td>cards</td>\n",
       "      <td>TRAIN</td>\n",
       "      <td>5</td>\n",
       "    </tr>\n",
       "    <tr>\n",
       "      <th>5</th>\n",
       "      <td>\" ...analyzed storminess across the whole of s...</td>\n",
       "      <td>1</td>\n",
       "      <td>1_7</td>\n",
       "      <td>1_7</td>\n",
       "      <td>NaN</td>\n",
       "      <td>cards</td>\n",
       "      <td>TRAIN</td>\n",
       "      <td>1</td>\n",
       "    </tr>\n",
       "    <tr>\n",
       "      <th>6</th>\n",
       "      <td>\" A paper published ...in the Journal of Geoph...</td>\n",
       "      <td>1</td>\n",
       "      <td>2_1</td>\n",
       "      <td>2_1</td>\n",
       "      <td>NaN</td>\n",
       "      <td>cards</td>\n",
       "      <td>TRAIN</td>\n",
       "      <td>2</td>\n",
       "    </tr>\n",
       "    <tr>\n",
       "      <th>...</th>\n",
       "      <td>...</td>\n",
       "      <td>...</td>\n",
       "      <td>...</td>\n",
       "      <td>...</td>\n",
       "      <td>...</td>\n",
       "      <td>...</td>\n",
       "      <td>...</td>\n",
       "      <td>...</td>\n",
       "    </tr>\n",
       "    <tr>\n",
       "      <th>75648</th>\n",
       "      <td>💪Be the change.✅Shape the future.📣Submit your ...</td>\n",
       "      <td>0</td>\n",
       "      <td>0_0</td>\n",
       "      <td>0_0</td>\n",
       "      <td>0_0</td>\n",
       "      <td>twitter</td>\n",
       "      <td>TEST</td>\n",
       "      <td>0</td>\n",
       "    </tr>\n",
       "    <tr>\n",
       "      <th>75649</th>\n",
       "      <td>📝 Tackling the climate crisis is daunting. Thi...</td>\n",
       "      <td>0</td>\n",
       "      <td>0_0</td>\n",
       "      <td>0_0</td>\n",
       "      <td>0_0</td>\n",
       "      <td>twitter</td>\n",
       "      <td>TEST</td>\n",
       "      <td>0</td>\n",
       "    </tr>\n",
       "    <tr>\n",
       "      <th>75650</th>\n",
       "      <td>📺Our Technological Innovations and Climate Cha...</td>\n",
       "      <td>0</td>\n",
       "      <td>0_0</td>\n",
       "      <td>0_0</td>\n",
       "      <td>0_0</td>\n",
       "      <td>twitter</td>\n",
       "      <td>TEST</td>\n",
       "      <td>0</td>\n",
       "    </tr>\n",
       "    <tr>\n",
       "      <th>75651</th>\n",
       "      <td>🚨 SHOCKING: Top Conservative donor Lord Frost ...</td>\n",
       "      <td>0</td>\n",
       "      <td>0_0</td>\n",
       "      <td>0_0</td>\n",
       "      <td>0_0</td>\n",
       "      <td>twitter</td>\n",
       "      <td>TEST</td>\n",
       "      <td>0</td>\n",
       "    </tr>\n",
       "    <tr>\n",
       "      <th>75652</th>\n",
       "      <td>🤦🤣🤣😀Here's a New take on climate change, now C...</td>\n",
       "      <td>1</td>\n",
       "      <td>1_7</td>\n",
       "      <td>1_7</td>\n",
       "      <td>1_7</td>\n",
       "      <td>twitter</td>\n",
       "      <td>TEST</td>\n",
       "      <td>1</td>\n",
       "    </tr>\n",
       "  </tbody>\n",
       "</table>\n",
       "<p>31508 rows × 8 columns</p>\n",
       "</div>"
      ],
      "text/plain": [
       "                                                    text  binary_claim  \\\n",
       "2      \" \"Current scientific understanding provides l...             0   \n",
       "3      \" \"International accords and underlying region...             0   \n",
       "4      \" ...all models contain large errors in precip...             1   \n",
       "5      \" ...analyzed storminess across the whole of s...             1   \n",
       "6      \" A paper published ...in the Journal of Geoph...             1   \n",
       "...                                                  ...           ...   \n",
       "75648  💪Be the change.✅Shape the future.📣Submit your ...             0   \n",
       "75649  📝 Tackling the climate crisis is daunting. Thi...             0   \n",
       "75650  📺Our Technological Innovations and Climate Cha...             0   \n",
       "75651  🚨 SHOCKING: Top Conservative donor Lord Frost ...             0   \n",
       "75652  🤦🤣🤣😀Here's a New take on climate change, now C...             1   \n",
       "\n",
       "      cards_claim_2 acards_claim full_claim  DATASET PARTITION cards_claim_1  \n",
       "2               0_0          0_0        NaN    cards     TRAIN             0  \n",
       "3               0_0          0_0        NaN    cards     VALID             0  \n",
       "4               5_1          5_1        NaN    cards     TRAIN             5  \n",
       "5               1_7          1_7        NaN    cards     TRAIN             1  \n",
       "6               2_1          2_1        NaN    cards     TRAIN             2  \n",
       "...             ...          ...        ...      ...       ...           ...  \n",
       "75648           0_0          0_0        0_0  twitter      TEST             0  \n",
       "75649           0_0          0_0        0_0  twitter      TEST             0  \n",
       "75650           0_0          0_0        0_0  twitter      TEST             0  \n",
       "75651           0_0          0_0        0_0  twitter      TEST             0  \n",
       "75652           1_7          1_7        1_7  twitter      TEST             1  \n",
       "\n",
       "[31508 rows x 8 columns]"
      ]
     },
     "execution_count": 8,
     "metadata": {},
     "output_type": "execute_result"
    }
   ],
   "source": [
    "# Add a column for CARDS claim level 1 & 2\n",
    "df = df.rename(columns={\"cards_claim\": \"cards_claim_2\"})\n",
    "df[\"cards_claim_1\"] = df[\"cards_claim_2\"].str.split(\"_\").str[0]\n",
    "df"
   ]
  },
  {
   "cell_type": "markdown",
   "metadata": {},
   "source": [
    "![](./cards_taxonomy.png)"
   ]
  },
  {
   "cell_type": "code",
   "execution_count": 9,
   "metadata": {},
   "outputs": [
    {
     "data": {
      "application/vnd.plotly.v1+json": {
       "config": {
        "plotlyServerURL": "https://plot.ly"
       },
       "data": [
        {
         "branchvalues": "total",
         "customdata": [
          [
           "0"
          ],
          [
           "5"
          ],
          [
           "4"
          ],
          [
           "3"
          ],
          [
           "2"
          ],
          [
           "1"
          ],
          [
           "0"
          ],
          [
           "5"
          ],
          [
           "5"
          ],
          [
           "4"
          ],
          [
           "4"
          ],
          [
           "4"
          ],
          [
           "4"
          ],
          [
           "4"
          ],
          [
           "3"
          ],
          [
           "3"
          ],
          [
           "3"
          ],
          [
           "3"
          ],
          [
           "3"
          ],
          [
           "3"
          ],
          [
           "2"
          ],
          [
           "2"
          ],
          [
           "1"
          ],
          [
           "1"
          ],
          [
           "1"
          ],
          [
           "1"
          ],
          [
           "1"
          ],
          [
           "1"
          ],
          [
           "1"
          ],
          [
           "1"
          ],
          [
           "0"
          ],
          [
           "(?)"
          ]
         ],
         "domain": {
          "x": [
           0,
           1
          ],
          "y": [
           0,
           1
          ]
         },
         "hovertemplate": "%{id}: <b>%{value:,d}</b>",
         "ids": [
          "False/0/0_0",
          "True/5",
          "True/4",
          "True/3",
          "True/2",
          "True/1",
          "False/0",
          "True/5/5_2",
          "True/5/5_1",
          "True/4/4_5",
          "True/4/4_4",
          "True/4/4_3",
          "True/4/4_2",
          "True/4/4_1",
          "True/3/3_6",
          "True/3/3_4",
          "True/3/3_3",
          "True/3/3_2",
          "True/3/3_1",
          "True/3/3_0",
          "True/2/2_3",
          "True/2/2_1",
          "True/1/1_8",
          "True/1/1_7",
          "True/1/1_6",
          "True/1/1_4",
          "True/1/1_3",
          "True/1/1_2",
          "True/1/1_1",
          "True/1/1_0",
          "False",
          "True"
         ],
         "labels": [
          "0_0",
          "5",
          "4",
          "3",
          "2",
          "1",
          "0",
          "5_2",
          "5_1",
          "4_5",
          "4_4",
          "4_3",
          "4_2",
          "4_1",
          "3_6",
          "3_4",
          "3_3",
          "3_2",
          "3_1",
          "3_0",
          "2_3",
          "2_1",
          "1_8",
          "1_7",
          "1_6",
          "1_4",
          "1_3",
          "1_2",
          "1_1",
          "1_0",
          "False",
          "True"
         ],
         "marker": {
          "colors": [
           "#636efa",
           "#EF553B",
           "#00cc96",
           "#ab63fa",
           "#FFA15A",
           "#19d3f3",
           "#636efa",
           "#EF553B",
           "#EF553B",
           "#00cc96",
           "#00cc96",
           "#00cc96",
           "#00cc96",
           "#00cc96",
           "#ab63fa",
           "#ab63fa",
           "#ab63fa",
           "#ab63fa",
           "#ab63fa",
           "#ab63fa",
           "#FFA15A",
           "#FFA15A",
           "#19d3f3",
           "#19d3f3",
           "#19d3f3",
           "#19d3f3",
           "#19d3f3",
           "#19d3f3",
           "#19d3f3",
           "#19d3f3",
           "#636efa",
           "#FF6692"
          ]
         },
         "name": "",
         "parents": [
          "False/0",
          "True",
          "True",
          "True",
          "True",
          "True",
          "False",
          "True/5",
          "True/5",
          "True/4",
          "True/4",
          "True/4",
          "True/4",
          "True/4",
          "True/3",
          "True/3",
          "True/3",
          "True/3",
          "True/3",
          "True/3",
          "True/2",
          "True/2",
          "True/1",
          "True/1",
          "True/1",
          "True/1",
          "True/1",
          "True/1",
          "True/1",
          "True/1",
          "",
          ""
         ],
         "sort": false,
         "type": "sunburst",
         "values": [
          20882,
          3855,
          1485,
          1154,
          1598,
          2534,
          20882,
          2014,
          1841,
          287,
          357,
          9,
          302,
          530,
          1,
          1,
          424,
          453,
          263,
          12,
          447,
          1151,
          5,
          620,
          277,
          631,
          344,
          202,
          449,
          6,
          20882,
          10626
         ]
        }
       ],
       "layout": {
        "height": 600,
        "legend": {
         "tracegroupgap": 0
        },
        "margin": {
         "b": 20,
         "l": 20,
         "r": 20,
         "t": 50
        },
        "template": {
         "data": {
          "bar": [
           {
            "error_x": {
             "color": "#2a3f5f"
            },
            "error_y": {
             "color": "#2a3f5f"
            },
            "marker": {
             "line": {
              "color": "#E5ECF6",
              "width": 0.5
             },
             "pattern": {
              "fillmode": "overlay",
              "size": 10,
              "solidity": 0.2
             }
            },
            "type": "bar"
           }
          ],
          "barpolar": [
           {
            "marker": {
             "line": {
              "color": "#E5ECF6",
              "width": 0.5
             },
             "pattern": {
              "fillmode": "overlay",
              "size": 10,
              "solidity": 0.2
             }
            },
            "type": "barpolar"
           }
          ],
          "carpet": [
           {
            "aaxis": {
             "endlinecolor": "#2a3f5f",
             "gridcolor": "white",
             "linecolor": "white",
             "minorgridcolor": "white",
             "startlinecolor": "#2a3f5f"
            },
            "baxis": {
             "endlinecolor": "#2a3f5f",
             "gridcolor": "white",
             "linecolor": "white",
             "minorgridcolor": "white",
             "startlinecolor": "#2a3f5f"
            },
            "type": "carpet"
           }
          ],
          "choropleth": [
           {
            "colorbar": {
             "outlinewidth": 0,
             "ticks": ""
            },
            "type": "choropleth"
           }
          ],
          "contour": [
           {
            "colorbar": {
             "outlinewidth": 0,
             "ticks": ""
            },
            "colorscale": [
             [
              0,
              "#0d0887"
             ],
             [
              0.1111111111111111,
              "#46039f"
             ],
             [
              0.2222222222222222,
              "#7201a8"
             ],
             [
              0.3333333333333333,
              "#9c179e"
             ],
             [
              0.4444444444444444,
              "#bd3786"
             ],
             [
              0.5555555555555556,
              "#d8576b"
             ],
             [
              0.6666666666666666,
              "#ed7953"
             ],
             [
              0.7777777777777778,
              "#fb9f3a"
             ],
             [
              0.8888888888888888,
              "#fdca26"
             ],
             [
              1,
              "#f0f921"
             ]
            ],
            "type": "contour"
           }
          ],
          "contourcarpet": [
           {
            "colorbar": {
             "outlinewidth": 0,
             "ticks": ""
            },
            "type": "contourcarpet"
           }
          ],
          "heatmap": [
           {
            "colorbar": {
             "outlinewidth": 0,
             "ticks": ""
            },
            "colorscale": [
             [
              0,
              "#0d0887"
             ],
             [
              0.1111111111111111,
              "#46039f"
             ],
             [
              0.2222222222222222,
              "#7201a8"
             ],
             [
              0.3333333333333333,
              "#9c179e"
             ],
             [
              0.4444444444444444,
              "#bd3786"
             ],
             [
              0.5555555555555556,
              "#d8576b"
             ],
             [
              0.6666666666666666,
              "#ed7953"
             ],
             [
              0.7777777777777778,
              "#fb9f3a"
             ],
             [
              0.8888888888888888,
              "#fdca26"
             ],
             [
              1,
              "#f0f921"
             ]
            ],
            "type": "heatmap"
           }
          ],
          "heatmapgl": [
           {
            "colorbar": {
             "outlinewidth": 0,
             "ticks": ""
            },
            "colorscale": [
             [
              0,
              "#0d0887"
             ],
             [
              0.1111111111111111,
              "#46039f"
             ],
             [
              0.2222222222222222,
              "#7201a8"
             ],
             [
              0.3333333333333333,
              "#9c179e"
             ],
             [
              0.4444444444444444,
              "#bd3786"
             ],
             [
              0.5555555555555556,
              "#d8576b"
             ],
             [
              0.6666666666666666,
              "#ed7953"
             ],
             [
              0.7777777777777778,
              "#fb9f3a"
             ],
             [
              0.8888888888888888,
              "#fdca26"
             ],
             [
              1,
              "#f0f921"
             ]
            ],
            "type": "heatmapgl"
           }
          ],
          "histogram": [
           {
            "marker": {
             "pattern": {
              "fillmode": "overlay",
              "size": 10,
              "solidity": 0.2
             }
            },
            "type": "histogram"
           }
          ],
          "histogram2d": [
           {
            "colorbar": {
             "outlinewidth": 0,
             "ticks": ""
            },
            "colorscale": [
             [
              0,
              "#0d0887"
             ],
             [
              0.1111111111111111,
              "#46039f"
             ],
             [
              0.2222222222222222,
              "#7201a8"
             ],
             [
              0.3333333333333333,
              "#9c179e"
             ],
             [
              0.4444444444444444,
              "#bd3786"
             ],
             [
              0.5555555555555556,
              "#d8576b"
             ],
             [
              0.6666666666666666,
              "#ed7953"
             ],
             [
              0.7777777777777778,
              "#fb9f3a"
             ],
             [
              0.8888888888888888,
              "#fdca26"
             ],
             [
              1,
              "#f0f921"
             ]
            ],
            "type": "histogram2d"
           }
          ],
          "histogram2dcontour": [
           {
            "colorbar": {
             "outlinewidth": 0,
             "ticks": ""
            },
            "colorscale": [
             [
              0,
              "#0d0887"
             ],
             [
              0.1111111111111111,
              "#46039f"
             ],
             [
              0.2222222222222222,
              "#7201a8"
             ],
             [
              0.3333333333333333,
              "#9c179e"
             ],
             [
              0.4444444444444444,
              "#bd3786"
             ],
             [
              0.5555555555555556,
              "#d8576b"
             ],
             [
              0.6666666666666666,
              "#ed7953"
             ],
             [
              0.7777777777777778,
              "#fb9f3a"
             ],
             [
              0.8888888888888888,
              "#fdca26"
             ],
             [
              1,
              "#f0f921"
             ]
            ],
            "type": "histogram2dcontour"
           }
          ],
          "mesh3d": [
           {
            "colorbar": {
             "outlinewidth": 0,
             "ticks": ""
            },
            "type": "mesh3d"
           }
          ],
          "parcoords": [
           {
            "line": {
             "colorbar": {
              "outlinewidth": 0,
              "ticks": ""
             }
            },
            "type": "parcoords"
           }
          ],
          "pie": [
           {
            "automargin": true,
            "type": "pie"
           }
          ],
          "scatter": [
           {
            "fillpattern": {
             "fillmode": "overlay",
             "size": 10,
             "solidity": 0.2
            },
            "type": "scatter"
           }
          ],
          "scatter3d": [
           {
            "line": {
             "colorbar": {
              "outlinewidth": 0,
              "ticks": ""
             }
            },
            "marker": {
             "colorbar": {
              "outlinewidth": 0,
              "ticks": ""
             }
            },
            "type": "scatter3d"
           }
          ],
          "scattercarpet": [
           {
            "marker": {
             "colorbar": {
              "outlinewidth": 0,
              "ticks": ""
             }
            },
            "type": "scattercarpet"
           }
          ],
          "scattergeo": [
           {
            "marker": {
             "colorbar": {
              "outlinewidth": 0,
              "ticks": ""
             }
            },
            "type": "scattergeo"
           }
          ],
          "scattergl": [
           {
            "marker": {
             "colorbar": {
              "outlinewidth": 0,
              "ticks": ""
             }
            },
            "type": "scattergl"
           }
          ],
          "scattermapbox": [
           {
            "marker": {
             "colorbar": {
              "outlinewidth": 0,
              "ticks": ""
             }
            },
            "type": "scattermapbox"
           }
          ],
          "scatterpolar": [
           {
            "marker": {
             "colorbar": {
              "outlinewidth": 0,
              "ticks": ""
             }
            },
            "type": "scatterpolar"
           }
          ],
          "scatterpolargl": [
           {
            "marker": {
             "colorbar": {
              "outlinewidth": 0,
              "ticks": ""
             }
            },
            "type": "scatterpolargl"
           }
          ],
          "scatterternary": [
           {
            "marker": {
             "colorbar": {
              "outlinewidth": 0,
              "ticks": ""
             }
            },
            "type": "scatterternary"
           }
          ],
          "surface": [
           {
            "colorbar": {
             "outlinewidth": 0,
             "ticks": ""
            },
            "colorscale": [
             [
              0,
              "#0d0887"
             ],
             [
              0.1111111111111111,
              "#46039f"
             ],
             [
              0.2222222222222222,
              "#7201a8"
             ],
             [
              0.3333333333333333,
              "#9c179e"
             ],
             [
              0.4444444444444444,
              "#bd3786"
             ],
             [
              0.5555555555555556,
              "#d8576b"
             ],
             [
              0.6666666666666666,
              "#ed7953"
             ],
             [
              0.7777777777777778,
              "#fb9f3a"
             ],
             [
              0.8888888888888888,
              "#fdca26"
             ],
             [
              1,
              "#f0f921"
             ]
            ],
            "type": "surface"
           }
          ],
          "table": [
           {
            "cells": {
             "fill": {
              "color": "#EBF0F8"
             },
             "line": {
              "color": "white"
             }
            },
            "header": {
             "fill": {
              "color": "#C8D4E3"
             },
             "line": {
              "color": "white"
             }
            },
            "type": "table"
           }
          ]
         },
         "layout": {
          "annotationdefaults": {
           "arrowcolor": "#2a3f5f",
           "arrowhead": 0,
           "arrowwidth": 1
          },
          "autotypenumbers": "strict",
          "coloraxis": {
           "colorbar": {
            "outlinewidth": 0,
            "ticks": ""
           }
          },
          "colorscale": {
           "diverging": [
            [
             0,
             "#8e0152"
            ],
            [
             0.1,
             "#c51b7d"
            ],
            [
             0.2,
             "#de77ae"
            ],
            [
             0.3,
             "#f1b6da"
            ],
            [
             0.4,
             "#fde0ef"
            ],
            [
             0.5,
             "#f7f7f7"
            ],
            [
             0.6,
             "#e6f5d0"
            ],
            [
             0.7,
             "#b8e186"
            ],
            [
             0.8,
             "#7fbc41"
            ],
            [
             0.9,
             "#4d9221"
            ],
            [
             1,
             "#276419"
            ]
           ],
           "sequential": [
            [
             0,
             "#0d0887"
            ],
            [
             0.1111111111111111,
             "#46039f"
            ],
            [
             0.2222222222222222,
             "#7201a8"
            ],
            [
             0.3333333333333333,
             "#9c179e"
            ],
            [
             0.4444444444444444,
             "#bd3786"
            ],
            [
             0.5555555555555556,
             "#d8576b"
            ],
            [
             0.6666666666666666,
             "#ed7953"
            ],
            [
             0.7777777777777778,
             "#fb9f3a"
            ],
            [
             0.8888888888888888,
             "#fdca26"
            ],
            [
             1,
             "#f0f921"
            ]
           ],
           "sequentialminus": [
            [
             0,
             "#0d0887"
            ],
            [
             0.1111111111111111,
             "#46039f"
            ],
            [
             0.2222222222222222,
             "#7201a8"
            ],
            [
             0.3333333333333333,
             "#9c179e"
            ],
            [
             0.4444444444444444,
             "#bd3786"
            ],
            [
             0.5555555555555556,
             "#d8576b"
            ],
            [
             0.6666666666666666,
             "#ed7953"
            ],
            [
             0.7777777777777778,
             "#fb9f3a"
            ],
            [
             0.8888888888888888,
             "#fdca26"
            ],
            [
             1,
             "#f0f921"
            ]
           ]
          },
          "colorway": [
           "#636efa",
           "#EF553B",
           "#00cc96",
           "#ab63fa",
           "#FFA15A",
           "#19d3f3",
           "#FF6692",
           "#B6E880",
           "#FF97FF",
           "#FECB52"
          ],
          "font": {
           "color": "#2a3f5f"
          },
          "geo": {
           "bgcolor": "white",
           "lakecolor": "white",
           "landcolor": "#E5ECF6",
           "showlakes": true,
           "showland": true,
           "subunitcolor": "white"
          },
          "hoverlabel": {
           "align": "left"
          },
          "hovermode": "closest",
          "mapbox": {
           "style": "light"
          },
          "paper_bgcolor": "white",
          "plot_bgcolor": "#E5ECF6",
          "polar": {
           "angularaxis": {
            "gridcolor": "white",
            "linecolor": "white",
            "ticks": ""
           },
           "bgcolor": "#E5ECF6",
           "radialaxis": {
            "gridcolor": "white",
            "linecolor": "white",
            "ticks": ""
           }
          },
          "scene": {
           "xaxis": {
            "backgroundcolor": "#E5ECF6",
            "gridcolor": "white",
            "gridwidth": 2,
            "linecolor": "white",
            "showbackground": true,
            "ticks": "",
            "zerolinecolor": "white"
           },
           "yaxis": {
            "backgroundcolor": "#E5ECF6",
            "gridcolor": "white",
            "gridwidth": 2,
            "linecolor": "white",
            "showbackground": true,
            "ticks": "",
            "zerolinecolor": "white"
           },
           "zaxis": {
            "backgroundcolor": "#E5ECF6",
            "gridcolor": "white",
            "gridwidth": 2,
            "linecolor": "white",
            "showbackground": true,
            "ticks": "",
            "zerolinecolor": "white"
           }
          },
          "shapedefaults": {
           "line": {
            "color": "#2a3f5f"
           }
          },
          "ternary": {
           "aaxis": {
            "gridcolor": "white",
            "linecolor": "white",
            "ticks": ""
           },
           "baxis": {
            "gridcolor": "white",
            "linecolor": "white",
            "ticks": ""
           },
           "bgcolor": "#E5ECF6",
           "caxis": {
            "gridcolor": "white",
            "linecolor": "white",
            "ticks": ""
           }
          },
          "title": {
           "x": 0.05
          },
          "xaxis": {
           "automargin": true,
           "gridcolor": "white",
           "linecolor": "white",
           "ticks": "",
           "title": {
            "standoff": 15
           },
           "zerolinecolor": "white",
           "zerolinewidth": 2
          },
          "yaxis": {
           "automargin": true,
           "gridcolor": "white",
           "linecolor": "white",
           "ticks": "",
           "title": {
            "standoff": 15
           },
           "zerolinecolor": "white",
           "zerolinewidth": 2
          }
         }
        },
        "title": {
         "text": "Distribution of claims by taxonomy level",
         "x": 0.5
        },
        "width": 600
       }
      }
     },
     "metadata": {},
     "output_type": "display_data"
    }
   ],
   "source": [
    "df[\"is_contrarian_claim\"] = df[\"cards_claim_1\"] != \"0\"\n",
    "px.sunburst(\n",
    "    df.sort_values(\"cards_claim_2\"),\n",
    "    path=[\"is_contrarian_claim\", \"cards_claim_1\", \"cards_claim_2\"],\n",
    "    color=\"cards_claim_1\",\n",
    "    title=\"Distribution of claims by taxonomy level\",\n",
    "    width=600,\n",
    "    height=600,\n",
    ").update_traces(sort=False, hovertemplate=\"%{id}: <b>%{value:,d}</b>\").update_layout(\n",
    "    dict(margin=dict(l=20, r=20, t=50, b=20), title_x=0.5)\n",
    ")"
   ]
  },
  {
   "cell_type": "code",
   "execution_count": 10,
   "metadata": {},
   "outputs": [
    {
     "data": {
      "text/plain": [
       "cards_claim_2\n",
       "3_6        1\n",
       "3_4        1\n",
       "1_8        5\n",
       "1_0        6\n",
       "4_3        9\n",
       "3_0       12\n",
       "1_2      202\n",
       "3_1      263\n",
       "1_6      277\n",
       "4_5      287\n",
       "4_2      302\n",
       "1_3      344\n",
       "4_4      357\n",
       "3_3      424\n",
       "2_3      447\n",
       "1_1      449\n",
       "3_2      453\n",
       "4_1      530\n",
       "1_7      620\n",
       "1_4      631\n",
       "2_1     1151\n",
       "5_1     1841\n",
       "5_2     2014\n",
       "0_0    20882\n",
       "Name: count, dtype: int64"
      ]
     },
     "execution_count": 10,
     "metadata": {},
     "output_type": "execute_result"
    }
   ],
   "source": [
    "df[\"cards_claim_2\"].value_counts().sort_values()"
   ]
  },
  {
   "cell_type": "markdown",
   "metadata": {},
   "source": [
    "I propose we begin with the CARDS Level 1 taxonomy for the following reasons:\n",
    "\n",
    "- Starting with a simpler taxonomy of 5 + 1 classes, rather than 27 + 1, will streamline our initial work.\n",
    "- While the CARDS Level 2 examples provide some depth, they may not be fully exhaustive.\n",
    "- Several CARDS Level 2 claims have very limited labeled examples. For instance, claim `3_6` has only one example available.\n",
    "- Even the authors noted potential confusion among certain sublabels, as illustrated below:\n",
    "  > Due to thematic overlap between sub-claims 5.2 (Movement is unreliable) and 5.3 (Climate is a conspiracy), we collapsed these claims into a single measure."
   ]
  },
  {
   "cell_type": "markdown",
   "metadata": {},
   "source": [
    "## Limitation of the CARDS Dataset\n",
    "\n",
    "The CARDS dataset provides claims extracted directly from articles.\n",
    "However, the full context of these articles is not available 😢.\n",
    "Additionally, some claims originate from short tweets.\n",
    "\n",
    "The median length of claims is approximately 40 words.\n",
    "It is about ten times shorter than the 2-minute excerpts from Mediatree..."
   ]
  },
  {
   "cell_type": "code",
   "execution_count": 11,
   "metadata": {},
   "outputs": [
    {
     "data": {
      "text/plain": [
       "DATASET\n",
       "cards      43.0\n",
       "twitter    32.0\n",
       "Name: text, dtype: float64"
      ]
     },
     "execution_count": 11,
     "metadata": {},
     "output_type": "execute_result"
    }
   ],
   "source": [
    "# Median length per dataset\n",
    "df[\"text\"].str.split().str.len().groupby(df[\"DATASET\"]).median()"
   ]
  },
  {
   "cell_type": "markdown",
   "metadata": {},
   "source": [
    "## Create a temporary benchmark\n",
    "\n",
    "To get started, until we have our own Mediatree benchmark."
   ]
  },
  {
   "cell_type": "code",
   "execution_count": 12,
   "metadata": {},
   "outputs": [],
   "source": [
    "benchmark = df"
   ]
  },
  {
   "cell_type": "code",
   "execution_count": 13,
   "metadata": {},
   "outputs": [
    {
     "data": {
      "text/html": [
       "<div>\n",
       "<style scoped>\n",
       "    .dataframe tbody tr th:only-of-type {\n",
       "        vertical-align: middle;\n",
       "    }\n",
       "\n",
       "    .dataframe tbody tr th {\n",
       "        vertical-align: top;\n",
       "    }\n",
       "\n",
       "    .dataframe thead th {\n",
       "        text-align: right;\n",
       "    }\n",
       "</style>\n",
       "<table border=\"1\" class=\"dataframe\">\n",
       "  <thead>\n",
       "    <tr style=\"text-align: right;\">\n",
       "      <th></th>\n",
       "      <th>text</th>\n",
       "      <th>binary_claim</th>\n",
       "      <th>cards_claim_2</th>\n",
       "      <th>acards_claim</th>\n",
       "      <th>full_claim</th>\n",
       "      <th>DATASET</th>\n",
       "      <th>PARTITION</th>\n",
       "      <th>cards_claim_1</th>\n",
       "      <th>is_contrarian_claim</th>\n",
       "    </tr>\n",
       "  </thead>\n",
       "  <tbody>\n",
       "    <tr>\n",
       "      <th>3</th>\n",
       "      <td>\" \"International accords and underlying region...</td>\n",
       "      <td>0</td>\n",
       "      <td>0_0</td>\n",
       "      <td>0_0</td>\n",
       "      <td>NaN</td>\n",
       "      <td>cards</td>\n",
       "      <td>VALID</td>\n",
       "      <td>0</td>\n",
       "      <td>False</td>\n",
       "    </tr>\n",
       "    <tr>\n",
       "      <th>4</th>\n",
       "      <td>\" ...all models contain large errors in precip...</td>\n",
       "      <td>1</td>\n",
       "      <td>5_1</td>\n",
       "      <td>5_1</td>\n",
       "      <td>NaN</td>\n",
       "      <td>cards</td>\n",
       "      <td>TRAIN</td>\n",
       "      <td>5</td>\n",
       "      <td>True</td>\n",
       "    </tr>\n",
       "    <tr>\n",
       "      <th>5</th>\n",
       "      <td>\" ...analyzed storminess across the whole of s...</td>\n",
       "      <td>1</td>\n",
       "      <td>1_7</td>\n",
       "      <td>1_7</td>\n",
       "      <td>NaN</td>\n",
       "      <td>cards</td>\n",
       "      <td>TRAIN</td>\n",
       "      <td>1</td>\n",
       "      <td>True</td>\n",
       "    </tr>\n",
       "    <tr>\n",
       "      <th>6</th>\n",
       "      <td>\" A paper published ...in the Journal of Geoph...</td>\n",
       "      <td>1</td>\n",
       "      <td>2_1</td>\n",
       "      <td>2_1</td>\n",
       "      <td>NaN</td>\n",
       "      <td>cards</td>\n",
       "      <td>TRAIN</td>\n",
       "      <td>2</td>\n",
       "      <td>True</td>\n",
       "    </tr>\n",
       "    <tr>\n",
       "      <th>7</th>\n",
       "      <td>\" Eme et al. conclude , in their words, that \"...</td>\n",
       "      <td>1</td>\n",
       "      <td>3_2</td>\n",
       "      <td>3_2</td>\n",
       "      <td>NaN</td>\n",
       "      <td>cards</td>\n",
       "      <td>TRAIN</td>\n",
       "      <td>3</td>\n",
       "      <td>True</td>\n",
       "    </tr>\n",
       "    <tr>\n",
       "      <th>...</th>\n",
       "      <td>...</td>\n",
       "      <td>...</td>\n",
       "      <td>...</td>\n",
       "      <td>...</td>\n",
       "      <td>...</td>\n",
       "      <td>...</td>\n",
       "      <td>...</td>\n",
       "      <td>...</td>\n",
       "      <td>...</td>\n",
       "    </tr>\n",
       "    <tr>\n",
       "      <th>75647</th>\n",
       "      <td>👁 Top insights:- People can be moved to action...</td>\n",
       "      <td>0</td>\n",
       "      <td>0_0</td>\n",
       "      <td>0_0</td>\n",
       "      <td>0_0</td>\n",
       "      <td>twitter</td>\n",
       "      <td>TEST</td>\n",
       "      <td>0</td>\n",
       "      <td>False</td>\n",
       "    </tr>\n",
       "    <tr>\n",
       "      <th>75648</th>\n",
       "      <td>💪Be the change.✅Shape the future.📣Submit your ...</td>\n",
       "      <td>0</td>\n",
       "      <td>0_0</td>\n",
       "      <td>0_0</td>\n",
       "      <td>0_0</td>\n",
       "      <td>twitter</td>\n",
       "      <td>TEST</td>\n",
       "      <td>0</td>\n",
       "      <td>False</td>\n",
       "    </tr>\n",
       "    <tr>\n",
       "      <th>75650</th>\n",
       "      <td>📺Our Technological Innovations and Climate Cha...</td>\n",
       "      <td>0</td>\n",
       "      <td>0_0</td>\n",
       "      <td>0_0</td>\n",
       "      <td>0_0</td>\n",
       "      <td>twitter</td>\n",
       "      <td>TEST</td>\n",
       "      <td>0</td>\n",
       "      <td>False</td>\n",
       "    </tr>\n",
       "    <tr>\n",
       "      <th>75651</th>\n",
       "      <td>🚨 SHOCKING: Top Conservative donor Lord Frost ...</td>\n",
       "      <td>0</td>\n",
       "      <td>0_0</td>\n",
       "      <td>0_0</td>\n",
       "      <td>0_0</td>\n",
       "      <td>twitter</td>\n",
       "      <td>TEST</td>\n",
       "      <td>0</td>\n",
       "      <td>False</td>\n",
       "    </tr>\n",
       "    <tr>\n",
       "      <th>75652</th>\n",
       "      <td>🤦🤣🤣😀Here's a New take on climate change, now C...</td>\n",
       "      <td>1</td>\n",
       "      <td>1_7</td>\n",
       "      <td>1_7</td>\n",
       "      <td>1_7</td>\n",
       "      <td>twitter</td>\n",
       "      <td>TEST</td>\n",
       "      <td>1</td>\n",
       "      <td>True</td>\n",
       "    </tr>\n",
       "  </tbody>\n",
       "</table>\n",
       "<p>15105 rows × 9 columns</p>\n",
       "</div>"
      ],
      "text/plain": [
       "                                                    text  binary_claim  \\\n",
       "3      \" \"International accords and underlying region...             0   \n",
       "4      \" ...all models contain large errors in precip...             1   \n",
       "5      \" ...analyzed storminess across the whole of s...             1   \n",
       "6      \" A paper published ...in the Journal of Geoph...             1   \n",
       "7      \" Eme et al. conclude , in their words, that \"...             1   \n",
       "...                                                  ...           ...   \n",
       "75647  👁 Top insights:- People can be moved to action...             0   \n",
       "75648  💪Be the change.✅Shape the future.📣Submit your ...             0   \n",
       "75650  📺Our Technological Innovations and Climate Cha...             0   \n",
       "75651  🚨 SHOCKING: Top Conservative donor Lord Frost ...             0   \n",
       "75652  🤦🤣🤣😀Here's a New take on climate change, now C...             1   \n",
       "\n",
       "      cards_claim_2 acards_claim full_claim  DATASET PARTITION cards_claim_1  \\\n",
       "3               0_0          0_0        NaN    cards     VALID             0   \n",
       "4               5_1          5_1        NaN    cards     TRAIN             5   \n",
       "5               1_7          1_7        NaN    cards     TRAIN             1   \n",
       "6               2_1          2_1        NaN    cards     TRAIN             2   \n",
       "7               3_2          3_2        NaN    cards     TRAIN             3   \n",
       "...             ...          ...        ...      ...       ...           ...   \n",
       "75647           0_0          0_0        0_0  twitter      TEST             0   \n",
       "75648           0_0          0_0        0_0  twitter      TEST             0   \n",
       "75650           0_0          0_0        0_0  twitter      TEST             0   \n",
       "75651           0_0          0_0        0_0  twitter      TEST             0   \n",
       "75652           1_7          1_7        1_7  twitter      TEST             1   \n",
       "\n",
       "       is_contrarian_claim  \n",
       "3                    False  \n",
       "4                     True  \n",
       "5                     True  \n",
       "6                     True  \n",
       "7                     True  \n",
       "...                    ...  \n",
       "75647                False  \n",
       "75648                False  \n",
       "75650                False  \n",
       "75651                False  \n",
       "75652                 True  \n",
       "\n",
       "[15105 rows x 9 columns]"
      ]
     },
     "execution_count": 13,
     "metadata": {},
     "output_type": "execute_result"
    }
   ],
   "source": [
    "# Claims from the class `0` (no contrarian claim) often have nothing to do with climate, such as:\n",
    "# > If you drive regularly along Route 100 in Howard County, you might notice the lighting is a little dimmer than it used to be\n",
    "# To avoid making the classification too easy, we only sample examples that contain some climate-related keywords\n",
    "\n",
    "# I asked ChatGPT to generate these\n",
    "climate_keywords = [\n",
    "    \"climate change\",\n",
    "    \"global warming\",\n",
    "    \"greenhouse\",\n",
    "    \"carbon\",\n",
    "    \"sustainability\",\n",
    "    \"ecosystem\",\n",
    "    \"biodiversity\",\n",
    "    \"renewable energy\",\n",
    "    \"climate policy\",\n",
    "    \"adaptation and mitigation\",\n",
    "]\n",
    "# Remove claims that are too easy to classify\n",
    "mask_to_drop = (benchmark[\"cards_claim_1\"] == \"0\") & ~benchmark[\n",
    "    \"text\"\n",
    "].str.lower().str.contains(\"|\".join(climate_keywords), regex=True)\n",
    "benchmark = benchmark.drop(mask_to_drop[mask_to_drop].index)\n",
    "benchmark"
   ]
  },
  {
   "cell_type": "code",
   "execution_count": 14,
   "metadata": {},
   "outputs": [
    {
     "data": {
      "text/html": [
       "<div>\n",
       "<style scoped>\n",
       "    .dataframe tbody tr th:only-of-type {\n",
       "        vertical-align: middle;\n",
       "    }\n",
       "\n",
       "    .dataframe tbody tr th {\n",
       "        vertical-align: top;\n",
       "    }\n",
       "\n",
       "    .dataframe thead th {\n",
       "        text-align: right;\n",
       "    }\n",
       "</style>\n",
       "<table border=\"1\" class=\"dataframe\">\n",
       "  <thead>\n",
       "    <tr style=\"text-align: right;\">\n",
       "      <th></th>\n",
       "      <th>claim</th>\n",
       "      <th>label</th>\n",
       "      <th>source</th>\n",
       "    </tr>\n",
       "  </thead>\n",
       "  <tbody>\n",
       "    <tr>\n",
       "      <th>95</th>\n",
       "      <td>\"We humans are creating the conditions for our...</td>\n",
       "      <td>0</td>\n",
       "      <td>cards</td>\n",
       "    </tr>\n",
       "    <tr>\n",
       "      <th>89</th>\n",
       "      <td>55. Comments about climate change made by envi...</td>\n",
       "      <td>0</td>\n",
       "      <td>cards</td>\n",
       "    </tr>\n",
       "    <tr>\n",
       "      <th>34</th>\n",
       "      <td>A Week of Dire Predictions: Climate Change Con...</td>\n",
       "      <td>0</td>\n",
       "      <td>cards</td>\n",
       "    </tr>\n",
       "    <tr>\n",
       "      <th>39</th>\n",
       "      <td>A report on the flood disaster and climate cha...</td>\n",
       "      <td>0</td>\n",
       "      <td>cards</td>\n",
       "    </tr>\n",
       "    <tr>\n",
       "      <th>62</th>\n",
       "      <td>According to a new poll , just 42 percent of G...</td>\n",
       "      <td>0</td>\n",
       "      <td>cards</td>\n",
       "    </tr>\n",
       "    <tr>\n",
       "      <th>...</th>\n",
       "      <td>...</td>\n",
       "      <td>...</td>\n",
       "      <td>...</td>\n",
       "    </tr>\n",
       "    <tr>\n",
       "      <th>552</th>\n",
       "      <td>This friggin tool and his climate change hypoc...</td>\n",
       "      <td>5</td>\n",
       "      <td>twitter</td>\n",
       "    </tr>\n",
       "    <tr>\n",
       "      <th>546</th>\n",
       "      <td>Today I see far more extreme climate misinform...</td>\n",
       "      <td>5</td>\n",
       "      <td>twitter</td>\n",
       "    </tr>\n",
       "    <tr>\n",
       "      <th>514</th>\n",
       "      <td>Watching @iancollinsuk on @TalkTV commenting t...</td>\n",
       "      <td>5</td>\n",
       "      <td>twitter</td>\n",
       "    </tr>\n",
       "    <tr>\n",
       "      <th>593</th>\n",
       "      <td>Where do they come up with this shit???Environ...</td>\n",
       "      <td>5</td>\n",
       "      <td>twitter</td>\n",
       "    </tr>\n",
       "    <tr>\n",
       "      <th>540</th>\n",
       "      <td>“The western media is hijacking the conversati...</td>\n",
       "      <td>5</td>\n",
       "      <td>twitter</td>\n",
       "    </tr>\n",
       "  </tbody>\n",
       "</table>\n",
       "<p>600 rows × 3 columns</p>\n",
       "</div>"
      ],
      "text/plain": [
       "                                                 claim label   source\n",
       "95   \"We humans are creating the conditions for our...     0    cards\n",
       "89   55. Comments about climate change made by envi...     0    cards\n",
       "34   A Week of Dire Predictions: Climate Change Con...     0    cards\n",
       "39   A report on the flood disaster and climate cha...     0    cards\n",
       "62   According to a new poll , just 42 percent of G...     0    cards\n",
       "..                                                 ...   ...      ...\n",
       "552  This friggin tool and his climate change hypoc...     5  twitter\n",
       "546  Today I see far more extreme climate misinform...     5  twitter\n",
       "514  Watching @iancollinsuk on @TalkTV commenting t...     5  twitter\n",
       "593  Where do they come up with this shit???Environ...     5  twitter\n",
       "540  “The western media is hijacking the conversati...     5  twitter\n",
       "\n",
       "[600 rows x 3 columns]"
      ]
     },
     "execution_count": 14,
     "metadata": {},
     "output_type": "execute_result"
    }
   ],
   "source": [
    "# Since the authors mention that the test set from CARDS is the only one to be noise-free, we'll sample only from the test set\n",
    "# The twitter split should be noise-free too\n",
    "benchmark = benchmark[\n",
    "    (benchmark[\"DATASET\"] == \"twitter\")\n",
    "    | ((benchmark[\"DATASET\"] == \"cards\") & (benchmark[\"PARTITION\"] == \"TEST\"))\n",
    "]\n",
    "\n",
    "# Random sampling should approximately preserve the original distribution\n",
    "benchmark = benchmark.groupby(\"cards_claim_1\").sample(\n",
    "    100, replace=False, random_state=42\n",
    ")\n",
    "benchmark = benchmark.rename(\n",
    "    columns={\"text\": \"claim\", \"cards_claim_1\": \"label\", \"DATASET\": \"source\"}\n",
    ")[[\"claim\", \"label\", \"source\"]].reset_index(drop=True)\n",
    "benchmark = benchmark.sort_values([\"label\", \"source\", \"claim\"])\n",
    "benchmark"
   ]
  },
  {
   "cell_type": "code",
   "execution_count": 15,
   "metadata": {},
   "outputs": [],
   "source": [
    "benchmark.to_csv(\"../../data/benchmark/cards_sample_600.csv\", index=False)"
   ]
  }
 ],
 "metadata": {
  "kernelspec": {
   "display_name": ".venv",
   "language": "python",
   "name": "python3"
  },
  "language_info": {
   "codemirror_mode": {
    "name": "ipython",
    "version": 3
   },
   "file_extension": ".py",
   "mimetype": "text/x-python",
   "name": "python",
   "nbconvert_exporter": "python",
   "pygments_lexer": "ipython3",
   "version": "3.12.6"
  }
 },
 "nbformat": 4,
 "nbformat_minor": 2
}
