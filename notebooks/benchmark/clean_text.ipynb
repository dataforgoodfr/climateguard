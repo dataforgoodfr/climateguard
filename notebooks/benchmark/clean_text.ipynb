{
 "cells": [
  {
   "cell_type": "code",
   "execution_count": 10,
   "metadata": {},
   "outputs": [],
   "source": [
    "import pandas as pd\n",
    "\n",
    "from openai import AsyncOpenAI\n",
    "import asyncio\n",
    "from tqdm.asyncio import tqdm\n",
    "import tiktoken\n",
    "\n",
    "import os\n",
    "from dotenv import load_dotenv\n",
    "\n",
    "import pprint"
   ]
  },
  {
   "cell_type": "code",
   "execution_count": null,
   "metadata": {},
   "outputs": [],
   "source": [
    "import sys\n",
    "module_path = \"../../climateguard\"\n",
    "\n",
    "if module_path not in sys.path:\n",
    "    sys.path.append(module_path)\n",
    "\n",
    "import clean_text\n",
    "from clean_text import run_correction"
   ]
  },
  {
   "cell_type": "code",
   "execution_count": 14,
   "metadata": {},
   "outputs": [],
   "source": [
    "f = \"../../../data/raw/18_channels_2023_09_to_2024_09.parquet\"\n",
    "df = pd.read_parquet(f)"
   ]
  },
  {
   "cell_type": "code",
   "execution_count": 32,
   "metadata": {},
   "outputs": [
    {
     "data": {
      "text/plain": [
       "(185738, 10)"
      ]
     },
     "execution_count": 32,
     "metadata": {},
     "output_type": "execute_result"
    }
   ],
   "source": [
    "df.shape"
   ]
  },
  {
   "cell_type": "code",
   "execution_count": 37,
   "metadata": {},
   "outputs": [
    {
     "data": {
      "text/html": [
       "<div>\n",
       "<style scoped>\n",
       "    .dataframe tbody tr th:only-of-type {\n",
       "        vertical-align: middle;\n",
       "    }\n",
       "\n",
       "    .dataframe tbody tr th {\n",
       "        vertical-align: top;\n",
       "    }\n",
       "\n",
       "    .dataframe thead th {\n",
       "        text-align: right;\n",
       "    }\n",
       "</style>\n",
       "<table border=\"1\" class=\"dataframe\">\n",
       "  <thead>\n",
       "    <tr style=\"text-align: right;\">\n",
       "      <th></th>\n",
       "      <th>start</th>\n",
       "      <th>text</th>\n",
       "      <th>channel_name</th>\n",
       "      <th>channel_is_radio</th>\n",
       "      <th>channel_program_type</th>\n",
       "      <th>channel_program</th>\n",
       "      <th>themes</th>\n",
       "      <th>keywords</th>\n",
       "      <th>num_keywords</th>\n",
       "      <th>num_tokens</th>\n",
       "    </tr>\n",
       "    <tr>\n",
       "      <th>id</th>\n",
       "      <th></th>\n",
       "      <th></th>\n",
       "      <th></th>\n",
       "      <th></th>\n",
       "      <th></th>\n",
       "      <th></th>\n",
       "      <th></th>\n",
       "      <th></th>\n",
       "      <th></th>\n",
       "      <th></th>\n",
       "    </tr>\n",
       "  </thead>\n",
       "  <tbody>\n",
       "    <tr>\n",
       "      <th>84e93fcd88fa86338651973326536d27d29f724a4864350d7c234501ea0813d0</th>\n",
       "      <td>2023-09-01 19:40:00</td>\n",
       "      <td>choses le combat d' andré boma et du parc des ...</td>\n",
       "      <td>arte</td>\n",
       "      <td>False</td>\n",
       "      <td>Information - Journal</td>\n",
       "      <td>JT</td>\n",
       "      <td>[\"biodiversite_concepts_generaux\", \"adaptation...</td>\n",
       "      <td>[{\"keyword\": \"\\u00e9nergies fossiles\", \"timest...</td>\n",
       "      <td>3</td>\n",
       "      <td>448</td>\n",
       "    </tr>\n",
       "    <tr>\n",
       "      <th>21037a5700f15f8b1fb968dcf35c047bd0933816bc3f01b339be2af568983010</th>\n",
       "      <td>2023-09-01 19:42:00</td>\n",
       "      <td>vient d' engager cinq milliards d' euros dans ...</td>\n",
       "      <td>arte</td>\n",
       "      <td>False</td>\n",
       "      <td>Information - Journal</td>\n",
       "      <td>JT</td>\n",
       "      <td>[\"changement_climatique_causes\", \"attenuation_...</td>\n",
       "      <td>[{\"keyword\": \"\\u00e9nergie renouvelable\", \"tim...</td>\n",
       "      <td>1</td>\n",
       "      <td>408</td>\n",
       "    </tr>\n",
       "    <tr>\n",
       "      <th>a3aceee186595fab3603853ea38f3c51fe9453912a280ccbf0e669fda086940e</th>\n",
       "      <td>2023-09-01 20:20:00</td>\n",
       "      <td>parler une révolution par contre au niger euh ...</td>\n",
       "      <td>arte</td>\n",
       "      <td>False</td>\n",
       "      <td>Information - Magazine</td>\n",
       "      <td>28 minutes</td>\n",
       "      <td>[\"changement_climatique_causes\", \"changement_c...</td>\n",
       "      <td>[{\"keyword\": \"climatique\", \"timestamp\": 169359...</td>\n",
       "      <td>1</td>\n",
       "      <td>647</td>\n",
       "    </tr>\n",
       "    <tr>\n",
       "      <th>d6b08b996cea24381de86c31a243122baa83bf750e03c91fe6530a401fc0527a</th>\n",
       "      <td>2023-09-01 20:44:00</td>\n",
       "      <td>il faut rappeler le début de cette affaire c' ...</td>\n",
       "      <td>arte</td>\n",
       "      <td>False</td>\n",
       "      <td>Information - Magazine</td>\n",
       "      <td>28 minutes</td>\n",
       "      <td>[\"biodiversite_concepts_generaux\", \"changement...</td>\n",
       "      <td>[{\"keyword\": \"vivant\", \"timestamp\": 1693593844...</td>\n",
       "      <td>1</td>\n",
       "      <td>537</td>\n",
       "    </tr>\n",
       "    <tr>\n",
       "      <th>391397ace2825ad3d4169797e37b685d1be499dd7ccea33d89ec3e757392f243</th>\n",
       "      <td>2023-09-02 19:40:00</td>\n",
       "      <td>grandes plantations agricoles ont également mi...</td>\n",
       "      <td>arte</td>\n",
       "      <td>False</td>\n",
       "      <td>Information - Journal</td>\n",
       "      <td>JT</td>\n",
       "      <td>[\"biodiversite_concepts_generaux\", \"biodiversi...</td>\n",
       "      <td>[{\"keyword\": \"agricole\", \"timestamp\": 16936763...</td>\n",
       "      <td>6</td>\n",
       "      <td>443</td>\n",
       "    </tr>\n",
       "  </tbody>\n",
       "</table>\n",
       "</div>"
      ],
      "text/plain": [
       "                                                                 start  \\\n",
       "id                                                                       \n",
       "84e93fcd88fa86338651973326536d27d29f724a4864350... 2023-09-01 19:40:00   \n",
       "21037a5700f15f8b1fb968dcf35c047bd0933816bc3f01b... 2023-09-01 19:42:00   \n",
       "a3aceee186595fab3603853ea38f3c51fe9453912a280cc... 2023-09-01 20:20:00   \n",
       "d6b08b996cea24381de86c31a243122baa83bf750e03c91... 2023-09-01 20:44:00   \n",
       "391397ace2825ad3d4169797e37b685d1be499dd7ccea33... 2023-09-02 19:40:00   \n",
       "\n",
       "                                                                                                 text  \\\n",
       "id                                                                                                      \n",
       "84e93fcd88fa86338651973326536d27d29f724a4864350...  choses le combat d' andré boma et du parc des ...   \n",
       "21037a5700f15f8b1fb968dcf35c047bd0933816bc3f01b...  vient d' engager cinq milliards d' euros dans ...   \n",
       "a3aceee186595fab3603853ea38f3c51fe9453912a280cc...  parler une révolution par contre au niger euh ...   \n",
       "d6b08b996cea24381de86c31a243122baa83bf750e03c91...  il faut rappeler le début de cette affaire c' ...   \n",
       "391397ace2825ad3d4169797e37b685d1be499dd7ccea33...  grandes plantations agricoles ont également mi...   \n",
       "\n",
       "                                                   channel_name  \\\n",
       "id                                                                \n",
       "84e93fcd88fa86338651973326536d27d29f724a4864350...         arte   \n",
       "21037a5700f15f8b1fb968dcf35c047bd0933816bc3f01b...         arte   \n",
       "a3aceee186595fab3603853ea38f3c51fe9453912a280cc...         arte   \n",
       "d6b08b996cea24381de86c31a243122baa83bf750e03c91...         arte   \n",
       "391397ace2825ad3d4169797e37b685d1be499dd7ccea33...         arte   \n",
       "\n",
       "                                                    channel_is_radio  \\\n",
       "id                                                                     \n",
       "84e93fcd88fa86338651973326536d27d29f724a4864350...             False   \n",
       "21037a5700f15f8b1fb968dcf35c047bd0933816bc3f01b...             False   \n",
       "a3aceee186595fab3603853ea38f3c51fe9453912a280cc...             False   \n",
       "d6b08b996cea24381de86c31a243122baa83bf750e03c91...             False   \n",
       "391397ace2825ad3d4169797e37b685d1be499dd7ccea33...             False   \n",
       "\n",
       "                                                      channel_program_type  \\\n",
       "id                                                                           \n",
       "84e93fcd88fa86338651973326536d27d29f724a4864350...   Information - Journal   \n",
       "21037a5700f15f8b1fb968dcf35c047bd0933816bc3f01b...   Information - Journal   \n",
       "a3aceee186595fab3603853ea38f3c51fe9453912a280cc...  Information - Magazine   \n",
       "d6b08b996cea24381de86c31a243122baa83bf750e03c91...  Information - Magazine   \n",
       "391397ace2825ad3d4169797e37b685d1be499dd7ccea33...   Information - Journal   \n",
       "\n",
       "                                                   channel_program  \\\n",
       "id                                                                   \n",
       "84e93fcd88fa86338651973326536d27d29f724a4864350...              JT   \n",
       "21037a5700f15f8b1fb968dcf35c047bd0933816bc3f01b...              JT   \n",
       "a3aceee186595fab3603853ea38f3c51fe9453912a280cc...      28 minutes   \n",
       "d6b08b996cea24381de86c31a243122baa83bf750e03c91...      28 minutes   \n",
       "391397ace2825ad3d4169797e37b685d1be499dd7ccea33...              JT   \n",
       "\n",
       "                                                                                               themes  \\\n",
       "id                                                                                                      \n",
       "84e93fcd88fa86338651973326536d27d29f724a4864350...  [\"biodiversite_concepts_generaux\", \"adaptation...   \n",
       "21037a5700f15f8b1fb968dcf35c047bd0933816bc3f01b...  [\"changement_climatique_causes\", \"attenuation_...   \n",
       "a3aceee186595fab3603853ea38f3c51fe9453912a280cc...  [\"changement_climatique_causes\", \"changement_c...   \n",
       "d6b08b996cea24381de86c31a243122baa83bf750e03c91...  [\"biodiversite_concepts_generaux\", \"changement...   \n",
       "391397ace2825ad3d4169797e37b685d1be499dd7ccea33...  [\"biodiversite_concepts_generaux\", \"biodiversi...   \n",
       "\n",
       "                                                                                             keywords  \\\n",
       "id                                                                                                      \n",
       "84e93fcd88fa86338651973326536d27d29f724a4864350...  [{\"keyword\": \"\\u00e9nergies fossiles\", \"timest...   \n",
       "21037a5700f15f8b1fb968dcf35c047bd0933816bc3f01b...  [{\"keyword\": \"\\u00e9nergie renouvelable\", \"tim...   \n",
       "a3aceee186595fab3603853ea38f3c51fe9453912a280cc...  [{\"keyword\": \"climatique\", \"timestamp\": 169359...   \n",
       "d6b08b996cea24381de86c31a243122baa83bf750e03c91...  [{\"keyword\": \"vivant\", \"timestamp\": 1693593844...   \n",
       "391397ace2825ad3d4169797e37b685d1be499dd7ccea33...  [{\"keyword\": \"agricole\", \"timestamp\": 16936763...   \n",
       "\n",
       "                                                    num_keywords  num_tokens  \n",
       "id                                                                            \n",
       "84e93fcd88fa86338651973326536d27d29f724a4864350...             3         448  \n",
       "21037a5700f15f8b1fb968dcf35c047bd0933816bc3f01b...             1         408  \n",
       "a3aceee186595fab3603853ea38f3c51fe9453912a280cc...             1         647  \n",
       "d6b08b996cea24381de86c31a243122baa83bf750e03c91...             1         537  \n",
       "391397ace2825ad3d4169797e37b685d1be499dd7ccea33...             6         443  "
      ]
     },
     "execution_count": 37,
     "metadata": {},
     "output_type": "execute_result"
    }
   ],
   "source": [
    "df.head()"
   ]
  },
  {
   "cell_type": "code",
   "execution_count": 36,
   "metadata": {},
   "outputs": [
    {
     "name": "stdout",
     "output_type": "stream",
     "text": [
      "(\"choses le combat d' andré boma et du parc des virunga pour protéger les gori \"\n",
      " \"a fait l' objet d' un documentaire produit par leonardo dicaprio et nommé \"\n",
      " 'aux oscars en deux mille quinze on voit ici le soigneur sur le tapis rouge '\n",
      " \"dans la région l' exploitation illégale des ressources et les affrontements \"\n",
      " 'armés détruisent la biodiversité par ailleurs en deux mille vingt vingt et '\n",
      " 'un travailleur du parc ont été tués le dessous des images a bien tenté de '\n",
      " \"joindre andré boma pour l' interviewer mais le personnel avait été évacué \"\n",
      " \"fin octobre octobre deux mille vingt-deux suite à l' arrivée d' un groupe \"\n",
      " \"rebelle à l' intérieur du parc seuls quelques eco-gardes maintenait une \"\n",
      " \"présence à l' orphelinat des gori ainsi cette photo virale traduit elle la \"\n",
      " 'vulnérabilité des grands singes mais aussi des humains cette enquête et '\n",
      " 'signé julia montfort pour le dessous des images salut à tous <unk> sonia '\n",
      " 'devillers et à lundi un bien sûr alors dans une semaine tout pile attendez '\n",
      " 'vous à entendre un mot qui reviendra souvent un presque même quotidiennement '\n",
      " \"pendant un mois et demi c' est le mot supporters ben oui parce que vendredi \"\n",
      " \"prochain huit septembre ce sera le coup d' envoi de la coupe du monde de \"\n",
      " 'rugby ce qui se joue chez nous en france alors il va y avoir des au-delà des '\n",
      " 'pakito des essais des mêlées des troisièmes mi-temps du pétrole qui coule '\n",
      " 'sur les spectateurs ad dans ad les vous stades êtes corentin pas au vous '\n",
      " 'courant de êtes ça oui parce que vous êtes encore vu le dernier clip de '\n",
      " \"greenpeace c' est pour ça l' ong dénonce la présence de total energy l' un \"\n",
      " 'des sponsors officiels de la compétition en raison de ses investissements '\n",
      " 'dans les énergies fossiles un clip dans lequel on peut voir un stade qui se '\n",
      " \"remplit de pétrole à leur coque commence le match d' ouverture france \"\n",
      " 'nouvelle-zélande et comme à son habitude est bien greenpeace frappe fort '\n",
      " \"résultat le comité d' organisation les menaces de poursuites judiciaires la \"\n",
      " \"société total elle trouve ce traitement injuste car elle vient d' engager\")\n"
     ]
    }
   ],
   "source": [
    "pprint.pprint(df.iloc[0].text)"
   ]
  },
  {
   "cell_type": "code",
   "execution_count": 15,
   "metadata": {},
   "outputs": [],
   "source": [
    "correction = run_correction(df.iloc[:1].text)"
   ]
  },
  {
   "cell_type": "code",
   "execution_count": 17,
   "metadata": {},
   "outputs": [
    {
     "name": "stdout",
     "output_type": "stream",
     "text": [
      "<coroutine object run_correction at 0x120cf88c0>\n"
     ]
    }
   ],
   "source": [
    "print(correction)"
   ]
  },
  {
   "cell_type": "code",
   "execution_count": null,
   "metadata": {},
   "outputs": [],
   "source": []
  }
 ],
 "metadata": {
  "kernelspec": {
   "display_name": ".venv",
   "language": "python",
   "name": "python3"
  },
  "language_info": {
   "codemirror_mode": {
    "name": "ipython",
    "version": 3
   },
   "file_extension": ".py",
   "mimetype": "text/x-python",
   "name": "python",
   "nbconvert_exporter": "python",
   "pygments_lexer": "ipython3",
   "version": "3.12.7"
  }
 },
 "nbformat": 4,
 "nbformat_minor": 2
}
