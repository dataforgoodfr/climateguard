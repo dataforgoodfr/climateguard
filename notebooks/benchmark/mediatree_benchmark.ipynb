{
 "cells": [
  {
   "cell_type": "code",
   "execution_count": 1,
   "metadata": {},
   "outputs": [],
   "source": [
    "import sys\n",
    "\n",
    "import pandas as pd\n",
    "import plotly.graph_objects as go\n",
    "import plotly.io as pio\n",
    "from sklearn.model_selection import train_test_split\n",
    "\n",
    "sys.path.append(\"../..\")\n",
    "\n",
    "from climateguard.evaluation import evaluation_report\n",
    "\n",
    "pio.renderers.default = \"vscode+png\""
   ]
  },
  {
   "cell_type": "markdown",
   "metadata": {},
   "source": [
    "## Load the labelled Mediatree transcripts\n"
   ]
  },
  {
   "cell_type": "code",
   "execution_count": 2,
   "metadata": {},
   "outputs": [
    {
     "data": {
      "text/html": [
       "<div>\n",
       "<style scoped>\n",
       "    .dataframe tbody tr th:only-of-type {\n",
       "        vertical-align: middle;\n",
       "    }\n",
       "\n",
       "    .dataframe tbody tr th {\n",
       "        vertical-align: top;\n",
       "    }\n",
       "\n",
       "    .dataframe thead th {\n",
       "        text-align: right;\n",
       "    }\n",
       "</style>\n",
       "<table border=\"1\" class=\"dataframe\">\n",
       "  <thead>\n",
       "    <tr style=\"text-align: right;\">\n",
       "      <th></th>\n",
       "      <th>channel_name</th>\n",
       "      <th>start</th>\n",
       "      <th>text</th>\n",
       "      <th>quote</th>\n",
       "      <th>claim</th>\n",
       "      <th>analysis</th>\n",
       "      <th>context</th>\n",
       "      <th>cards</th>\n",
       "      <th>cards_ground_truth</th>\n",
       "      <th>quote_is_correct</th>\n",
       "      <th>commentaire_cards</th>\n",
       "      <th>commentaire_quote</th>\n",
       "      <th>Highlight</th>\n",
       "    </tr>\n",
       "    <tr>\n",
       "      <th>id</th>\n",
       "      <th></th>\n",
       "      <th></th>\n",
       "      <th></th>\n",
       "      <th></th>\n",
       "      <th></th>\n",
       "      <th></th>\n",
       "      <th></th>\n",
       "      <th></th>\n",
       "      <th></th>\n",
       "      <th></th>\n",
       "      <th></th>\n",
       "      <th></th>\n",
       "      <th></th>\n",
       "    </tr>\n",
       "  </thead>\n",
       "  <tbody>\n",
       "    <tr>\n",
       "      <th>52061c3902c0257c7bfae7086ae50ea3998fea4204bcd6628588e41d71340dfc</th>\n",
       "      <td>europe1</td>\n",
       "      <td>2023-09-08 19:34:00</td>\n",
       "      <td>Ce n'est pas seulement qu'ils ne les utilisent...</td>\n",
       "      <td>les climatologues ne croient plus leurs termes...</td>\n",
       "      <td>Les climatologues ne croient plus leurs termes...</td>\n",
       "      <td>Cette affirmation pourrait créer un doute sur ...</td>\n",
       "      <td>L'intervenant mentionne une perte de confiance...</td>\n",
       "      <td>5_science_uncertain</td>\n",
       "      <td>0_accepted</td>\n",
       "      <td>TRUE</td>\n",
       "      <td>NaN</td>\n",
       "      <td>termes honnêtes = thermomètre ??</td>\n",
       "      <td>NaN</td>\n",
       "    </tr>\n",
       "    <tr>\n",
       "      <th>34a41bf34b35ee91fc147601fb8c21a366a2f568b9060bbb629698dfd9319801</th>\n",
       "      <td>europe1</td>\n",
       "      <td>2023-09-15 19:30:00</td>\n",
       "      <td>Jusqu'au trente septembre, détaille Sofia au q...</td>\n",
       "      <td>Il y a beaucoup de soldats poneys menteurs à t...</td>\n",
       "      <td>Il y a beaucoup de soldats poneys menteurs à t...</td>\n",
       "      <td>Cette allégation semble suggérer que le réchau...</td>\n",
       "      <td>Lors d'une conférence de presse au Vietnam, le...</td>\n",
       "      <td>5_science_uncertain</td>\n",
       "      <td>0_accepted</td>\n",
       "      <td>TRUE</td>\n",
       "      <td>Contexte spécifique de la phrase, les mots de ...</td>\n",
       "      <td>NaN</td>\n",
       "      <td>NaN</td>\n",
       "    </tr>\n",
       "    <tr>\n",
       "      <th>0fb8db32982baea27fa4a92220e76331e703d61852c0e8d95550ef6853ffd842</th>\n",
       "      <td>europe1</td>\n",
       "      <td>2023-09-20 07:50:00</td>\n",
       "      <td>On tente d'échapper à une tempête de pluie d'a...</td>\n",
       "      <td>tempête de pluie d'acide mortelle selon l'inrs...</td>\n",
       "      <td>tempête de pluie d'acide mortelle enregistrée ...</td>\n",
       "      <td>L'allégation mentionne une tempête de pluie d'...</td>\n",
       "      <td>Dans une discussion sur un film catastrophe éc...</td>\n",
       "      <td>1_its_not_happening</td>\n",
       "      <td>0_accepted</td>\n",
       "      <td>TRUE</td>\n",
       "      <td>Contexte spécifique de la phrase, la claim men...</td>\n",
       "      <td>NaN</td>\n",
       "      <td>NaN</td>\n",
       "    </tr>\n",
       "    <tr>\n",
       "      <th>4792f93c6614b1e7ef39e301cc6c1d0f4d3d18b9421cc3a9b18aa5c7581c9e02</th>\n",
       "      <td>europe1</td>\n",
       "      <td>2023-10-02 07:54:00</td>\n",
       "      <td>Les Français n'arrivent pas à se loger, c'est ...</td>\n",
       "      <td>Ça va de l'interdiction des avions d'affaires ...</td>\n",
       "      <td>Diminuer le nombre de vaches et contrôler les ...</td>\n",
       "      <td>Cette affirmation présente des mesures qui n'o...</td>\n",
       "      <td>L'interlocuteur mentionne plusieurs mesures ex...</td>\n",
       "      <td>3_impacts_not_bad</td>\n",
       "      <td>6_proponents_biased</td>\n",
       "      <td>TRUE</td>\n",
       "      <td>NaN</td>\n",
       "      <td>NaN</td>\n",
       "      <td>NaN</td>\n",
       "    </tr>\n",
       "    <tr>\n",
       "      <th>74c05fdbca4aeffb643abf0de486b57f8299051d4ef71b58b532791a33aba423</th>\n",
       "      <td>europe1</td>\n",
       "      <td>2023-10-05 19:54:00</td>\n",
       "      <td>Le réchauffement climatique a été collecté à G...</td>\n",
       "      <td>on ne peut pas faire le lien directement avec ...</td>\n",
       "      <td>On ne peut pas faire le lien directement avec ...</td>\n",
       "      <td>Cette assertion minimise le consensus scientif...</td>\n",
       "      <td>Luc Moreau énonce lui-même qu'il est difficile...</td>\n",
       "      <td>2_humans_not_the_cause</td>\n",
       "      <td>2_humans_not_the_cause</td>\n",
       "      <td>TRUE</td>\n",
       "      <td>NaN</td>\n",
       "      <td>NaN</td>\n",
       "      <td>NaN</td>\n",
       "    </tr>\n",
       "    <tr>\n",
       "      <th>...</th>\n",
       "      <td>...</td>\n",
       "      <td>...</td>\n",
       "      <td>...</td>\n",
       "      <td>...</td>\n",
       "      <td>...</td>\n",
       "      <td>...</td>\n",
       "      <td>...</td>\n",
       "      <td>...</td>\n",
       "      <td>...</td>\n",
       "      <td>...</td>\n",
       "      <td>...</td>\n",
       "      <td>...</td>\n",
       "      <td>...</td>\n",
       "    </tr>\n",
       "    <tr>\n",
       "      <th>22d30e47c43d8defe1bdab51e6e4c6374ba982d76de8896c2abb711950121329</th>\n",
       "      <td>tf1</td>\n",
       "      <td>2024-04-23 20:36:00</td>\n",
       "      <td>Plus chaud de ces dix dernières années, le tem...</td>\n",
       "      <td>Il n'y a plus ni eau ni printemps.</td>\n",
       "      <td>Il n'y a plus ni eau ni printemps.</td>\n",
       "      <td>Cette affirmation semble exagérée et pourrait ...</td>\n",
       "      <td>L'orateur évoque un changement climatique qui ...</td>\n",
       "      <td>1_its_not_happening</td>\n",
       "      <td>0_accepted</td>\n",
       "      <td>FALSE</td>\n",
       "      <td>NaN</td>\n",
       "      <td>Problème de retranscription, plus automne ni p...</td>\n",
       "      <td>NaN</td>\n",
       "    </tr>\n",
       "    <tr>\n",
       "      <th>58feacdc4a4d31023a87bce158ee902d37076d9f5562f3fe41f768ba815b7b6a</th>\n",
       "      <td>tf1</td>\n",
       "      <td>2024-04-28 20:40:00</td>\n",
       "      <td>Aujourd'hui, ce fameux pacte d'immigration qui...</td>\n",
       "      <td>ce tsunami de normes de contraintes de taxe qu...</td>\n",
       "      <td>Le pacte vert européen organise la décroissance.</td>\n",
       "      <td>Cette affirmation attribue une intention de dé...</td>\n",
       "      <td>Lors d'un discours critique à l'égard des poli...</td>\n",
       "      <td>4_solutions_harmful_unnecessary</td>\n",
       "      <td>4_solutions_harmful_unnecessary</td>\n",
       "      <td>TRUE</td>\n",
       "      <td>NaN</td>\n",
       "      <td>NaN</td>\n",
       "      <td>NaN</td>\n",
       "    </tr>\n",
       "    <tr>\n",
       "      <th>6d39a0d45c359fd2183c0f1f001b76c4b60d283240e5c34308b71c22c78217ec</th>\n",
       "      <td>tf1</td>\n",
       "      <td>2024-06-16 18:04:00</td>\n",
       "      <td>Avec l'aide de nos fournisseurs, si il s'avère...</td>\n",
       "      <td>l'entreprise n'a pas voulu nous dire combien d...</td>\n",
       "      <td>L'huile de palme serait aujourd'hui une soluti...</td>\n",
       "      <td>Cette allégation semble minimiser les impacts ...</td>\n",
       "      <td>Dans un débat sur les pratiques de certains fo...</td>\n",
       "      <td>4_solutions_harmful_unnecessary</td>\n",
       "      <td>0_accepted</td>\n",
       "      <td>TRUE</td>\n",
       "      <td>Potentiellement plutôt du greenwashing</td>\n",
       "      <td>NaN</td>\n",
       "      <td>NaN</td>\n",
       "    </tr>\n",
       "    <tr>\n",
       "      <th>0718ef4df3559735ad33436f7e1e39802a71d923cbc0b9ec1c82a2ebfb251527</th>\n",
       "      <td>tf1</td>\n",
       "      <td>2024-07-21 17:14:00</td>\n",
       "      <td>En France, plusieurs millions de maisons sont ...</td>\n",
       "      <td>le dérèglement climatique phénomène naturel.</td>\n",
       "      <td>Le dérèglement climatique est un phénomène nat...</td>\n",
       "      <td>Cette affirmation contredit le consensus scien...</td>\n",
       "      <td>Une affirmation selon laquelle les changements...</td>\n",
       "      <td>2_humans_not_the_cause</td>\n",
       "      <td>0_accepted</td>\n",
       "      <td>TRUE</td>\n",
       "      <td>Légitime mais tellement court que ça a l'air d...</td>\n",
       "      <td>NaN</td>\n",
       "      <td>NaN</td>\n",
       "    </tr>\n",
       "    <tr>\n",
       "      <th>cdfed233896d49971897df448465dd43b79ae871b33adb5a3a5d464755e8a7cb</th>\n",
       "      <td>tf1</td>\n",
       "      <td>2024-08-05 09:16:00</td>\n",
       "      <td>Les insectes, non, on pense que c'est la chale...</td>\n",
       "      <td>le progrès sur le réchauffement climatique la ...</td>\n",
       "      <td>La climatisation industrialisée a été une répo...</td>\n",
       "      <td>Ce claim fait l'impasse sur le fait que la gén...</td>\n",
       "      <td>Il est mentionné que la climatisation, qui est...</td>\n",
       "      <td>3_impacts_not_bad</td>\n",
       "      <td>0_accepted</td>\n",
       "      <td>TRUE</td>\n",
       "      <td>Mauvaise interprétation de la claim, qui menti...</td>\n",
       "      <td>NaN</td>\n",
       "      <td>NaN</td>\n",
       "    </tr>\n",
       "  </tbody>\n",
       "</table>\n",
       "<p>337 rows × 13 columns</p>\n",
       "</div>"
      ],
      "text/plain": [
       "                                                   channel_name  \\\n",
       "id                                                                \n",
       "52061c3902c0257c7bfae7086ae50ea3998fea4204bcd66...      europe1   \n",
       "34a41bf34b35ee91fc147601fb8c21a366a2f568b9060bb...      europe1   \n",
       "0fb8db32982baea27fa4a92220e76331e703d61852c0e8d...      europe1   \n",
       "4792f93c6614b1e7ef39e301cc6c1d0f4d3d18b9421cc3a...      europe1   \n",
       "74c05fdbca4aeffb643abf0de486b57f8299051d4ef71b5...      europe1   \n",
       "...                                                         ...   \n",
       "22d30e47c43d8defe1bdab51e6e4c6374ba982d76de8896...          tf1   \n",
       "58feacdc4a4d31023a87bce158ee902d37076d9f5562f3f...          tf1   \n",
       "6d39a0d45c359fd2183c0f1f001b76c4b60d283240e5c34...          tf1   \n",
       "0718ef4df3559735ad33436f7e1e39802a71d923cbc0b9e...          tf1   \n",
       "cdfed233896d49971897df448465dd43b79ae871b33adb5...          tf1   \n",
       "\n",
       "                                                                  start  \\\n",
       "id                                                                        \n",
       "52061c3902c0257c7bfae7086ae50ea3998fea4204bcd66...  2023-09-08 19:34:00   \n",
       "34a41bf34b35ee91fc147601fb8c21a366a2f568b9060bb...  2023-09-15 19:30:00   \n",
       "0fb8db32982baea27fa4a92220e76331e703d61852c0e8d...  2023-09-20 07:50:00   \n",
       "4792f93c6614b1e7ef39e301cc6c1d0f4d3d18b9421cc3a...  2023-10-02 07:54:00   \n",
       "74c05fdbca4aeffb643abf0de486b57f8299051d4ef71b5...  2023-10-05 19:54:00   \n",
       "...                                                                 ...   \n",
       "22d30e47c43d8defe1bdab51e6e4c6374ba982d76de8896...  2024-04-23 20:36:00   \n",
       "58feacdc4a4d31023a87bce158ee902d37076d9f5562f3f...  2024-04-28 20:40:00   \n",
       "6d39a0d45c359fd2183c0f1f001b76c4b60d283240e5c34...  2024-06-16 18:04:00   \n",
       "0718ef4df3559735ad33436f7e1e39802a71d923cbc0b9e...  2024-07-21 17:14:00   \n",
       "cdfed233896d49971897df448465dd43b79ae871b33adb5...  2024-08-05 09:16:00   \n",
       "\n",
       "                                                                                                 text  \\\n",
       "id                                                                                                      \n",
       "52061c3902c0257c7bfae7086ae50ea3998fea4204bcd66...  Ce n'est pas seulement qu'ils ne les utilisent...   \n",
       "34a41bf34b35ee91fc147601fb8c21a366a2f568b9060bb...  Jusqu'au trente septembre, détaille Sofia au q...   \n",
       "0fb8db32982baea27fa4a92220e76331e703d61852c0e8d...  On tente d'échapper à une tempête de pluie d'a...   \n",
       "4792f93c6614b1e7ef39e301cc6c1d0f4d3d18b9421cc3a...  Les Français n'arrivent pas à se loger, c'est ...   \n",
       "74c05fdbca4aeffb643abf0de486b57f8299051d4ef71b5...  Le réchauffement climatique a été collecté à G...   \n",
       "...                                                                                               ...   \n",
       "22d30e47c43d8defe1bdab51e6e4c6374ba982d76de8896...  Plus chaud de ces dix dernières années, le tem...   \n",
       "58feacdc4a4d31023a87bce158ee902d37076d9f5562f3f...  Aujourd'hui, ce fameux pacte d'immigration qui...   \n",
       "6d39a0d45c359fd2183c0f1f001b76c4b60d283240e5c34...  Avec l'aide de nos fournisseurs, si il s'avère...   \n",
       "0718ef4df3559735ad33436f7e1e39802a71d923cbc0b9e...  En France, plusieurs millions de maisons sont ...   \n",
       "cdfed233896d49971897df448465dd43b79ae871b33adb5...  Les insectes, non, on pense que c'est la chale...   \n",
       "\n",
       "                                                                                                quote  \\\n",
       "id                                                                                                      \n",
       "52061c3902c0257c7bfae7086ae50ea3998fea4204bcd66...  les climatologues ne croient plus leurs termes...   \n",
       "34a41bf34b35ee91fc147601fb8c21a366a2f568b9060bb...  Il y a beaucoup de soldats poneys menteurs à t...   \n",
       "0fb8db32982baea27fa4a92220e76331e703d61852c0e8d...  tempête de pluie d'acide mortelle selon l'inrs...   \n",
       "4792f93c6614b1e7ef39e301cc6c1d0f4d3d18b9421cc3a...  Ça va de l'interdiction des avions d'affaires ...   \n",
       "74c05fdbca4aeffb643abf0de486b57f8299051d4ef71b5...  on ne peut pas faire le lien directement avec ...   \n",
       "...                                                                                               ...   \n",
       "22d30e47c43d8defe1bdab51e6e4c6374ba982d76de8896...                 Il n'y a plus ni eau ni printemps.   \n",
       "58feacdc4a4d31023a87bce158ee902d37076d9f5562f3f...  ce tsunami de normes de contraintes de taxe qu...   \n",
       "6d39a0d45c359fd2183c0f1f001b76c4b60d283240e5c34...  l'entreprise n'a pas voulu nous dire combien d...   \n",
       "0718ef4df3559735ad33436f7e1e39802a71d923cbc0b9e...       le dérèglement climatique phénomène naturel.   \n",
       "cdfed233896d49971897df448465dd43b79ae871b33adb5...  le progrès sur le réchauffement climatique la ...   \n",
       "\n",
       "                                                                                                claim  \\\n",
       "id                                                                                                      \n",
       "52061c3902c0257c7bfae7086ae50ea3998fea4204bcd66...  Les climatologues ne croient plus leurs termes...   \n",
       "34a41bf34b35ee91fc147601fb8c21a366a2f568b9060bb...  Il y a beaucoup de soldats poneys menteurs à t...   \n",
       "0fb8db32982baea27fa4a92220e76331e703d61852c0e8d...  tempête de pluie d'acide mortelle enregistrée ...   \n",
       "4792f93c6614b1e7ef39e301cc6c1d0f4d3d18b9421cc3a...  Diminuer le nombre de vaches et contrôler les ...   \n",
       "74c05fdbca4aeffb643abf0de486b57f8299051d4ef71b5...  On ne peut pas faire le lien directement avec ...   \n",
       "...                                                                                               ...   \n",
       "22d30e47c43d8defe1bdab51e6e4c6374ba982d76de8896...                 Il n'y a plus ni eau ni printemps.   \n",
       "58feacdc4a4d31023a87bce158ee902d37076d9f5562f3f...   Le pacte vert européen organise la décroissance.   \n",
       "6d39a0d45c359fd2183c0f1f001b76c4b60d283240e5c34...  L'huile de palme serait aujourd'hui une soluti...   \n",
       "0718ef4df3559735ad33436f7e1e39802a71d923cbc0b9e...  Le dérèglement climatique est un phénomène nat...   \n",
       "cdfed233896d49971897df448465dd43b79ae871b33adb5...  La climatisation industrialisée a été une répo...   \n",
       "\n",
       "                                                                                             analysis  \\\n",
       "id                                                                                                      \n",
       "52061c3902c0257c7bfae7086ae50ea3998fea4204bcd66...  Cette affirmation pourrait créer un doute sur ...   \n",
       "34a41bf34b35ee91fc147601fb8c21a366a2f568b9060bb...  Cette allégation semble suggérer que le réchau...   \n",
       "0fb8db32982baea27fa4a92220e76331e703d61852c0e8d...  L'allégation mentionne une tempête de pluie d'...   \n",
       "4792f93c6614b1e7ef39e301cc6c1d0f4d3d18b9421cc3a...  Cette affirmation présente des mesures qui n'o...   \n",
       "74c05fdbca4aeffb643abf0de486b57f8299051d4ef71b5...  Cette assertion minimise le consensus scientif...   \n",
       "...                                                                                               ...   \n",
       "22d30e47c43d8defe1bdab51e6e4c6374ba982d76de8896...  Cette affirmation semble exagérée et pourrait ...   \n",
       "58feacdc4a4d31023a87bce158ee902d37076d9f5562f3f...  Cette affirmation attribue une intention de dé...   \n",
       "6d39a0d45c359fd2183c0f1f001b76c4b60d283240e5c34...  Cette allégation semble minimiser les impacts ...   \n",
       "0718ef4df3559735ad33436f7e1e39802a71d923cbc0b9e...  Cette affirmation contredit le consensus scien...   \n",
       "cdfed233896d49971897df448465dd43b79ae871b33adb5...  Ce claim fait l'impasse sur le fait que la gén...   \n",
       "\n",
       "                                                                                              context  \\\n",
       "id                                                                                                      \n",
       "52061c3902c0257c7bfae7086ae50ea3998fea4204bcd66...  L'intervenant mentionne une perte de confiance...   \n",
       "34a41bf34b35ee91fc147601fb8c21a366a2f568b9060bb...  Lors d'une conférence de presse au Vietnam, le...   \n",
       "0fb8db32982baea27fa4a92220e76331e703d61852c0e8d...  Dans une discussion sur un film catastrophe éc...   \n",
       "4792f93c6614b1e7ef39e301cc6c1d0f4d3d18b9421cc3a...  L'interlocuteur mentionne plusieurs mesures ex...   \n",
       "74c05fdbca4aeffb643abf0de486b57f8299051d4ef71b5...  Luc Moreau énonce lui-même qu'il est difficile...   \n",
       "...                                                                                               ...   \n",
       "22d30e47c43d8defe1bdab51e6e4c6374ba982d76de8896...  L'orateur évoque un changement climatique qui ...   \n",
       "58feacdc4a4d31023a87bce158ee902d37076d9f5562f3f...  Lors d'un discours critique à l'égard des poli...   \n",
       "6d39a0d45c359fd2183c0f1f001b76c4b60d283240e5c34...  Dans un débat sur les pratiques de certains fo...   \n",
       "0718ef4df3559735ad33436f7e1e39802a71d923cbc0b9e...  Une affirmation selon laquelle les changements...   \n",
       "cdfed233896d49971897df448465dd43b79ae871b33adb5...  Il est mentionné que la climatisation, qui est...   \n",
       "\n",
       "                                                                              cards  \\\n",
       "id                                                                                    \n",
       "52061c3902c0257c7bfae7086ae50ea3998fea4204bcd66...              5_science_uncertain   \n",
       "34a41bf34b35ee91fc147601fb8c21a366a2f568b9060bb...              5_science_uncertain   \n",
       "0fb8db32982baea27fa4a92220e76331e703d61852c0e8d...              1_its_not_happening   \n",
       "4792f93c6614b1e7ef39e301cc6c1d0f4d3d18b9421cc3a...                3_impacts_not_bad   \n",
       "74c05fdbca4aeffb643abf0de486b57f8299051d4ef71b5...           2_humans_not_the_cause   \n",
       "...                                                                             ...   \n",
       "22d30e47c43d8defe1bdab51e6e4c6374ba982d76de8896...              1_its_not_happening   \n",
       "58feacdc4a4d31023a87bce158ee902d37076d9f5562f3f...  4_solutions_harmful_unnecessary   \n",
       "6d39a0d45c359fd2183c0f1f001b76c4b60d283240e5c34...  4_solutions_harmful_unnecessary   \n",
       "0718ef4df3559735ad33436f7e1e39802a71d923cbc0b9e...           2_humans_not_the_cause   \n",
       "cdfed233896d49971897df448465dd43b79ae871b33adb5...                3_impacts_not_bad   \n",
       "\n",
       "                                                                 cards_ground_truth  \\\n",
       "id                                                                                    \n",
       "52061c3902c0257c7bfae7086ae50ea3998fea4204bcd66...                       0_accepted   \n",
       "34a41bf34b35ee91fc147601fb8c21a366a2f568b9060bb...                       0_accepted   \n",
       "0fb8db32982baea27fa4a92220e76331e703d61852c0e8d...                       0_accepted   \n",
       "4792f93c6614b1e7ef39e301cc6c1d0f4d3d18b9421cc3a...              6_proponents_biased   \n",
       "74c05fdbca4aeffb643abf0de486b57f8299051d4ef71b5...           2_humans_not_the_cause   \n",
       "...                                                                             ...   \n",
       "22d30e47c43d8defe1bdab51e6e4c6374ba982d76de8896...                       0_accepted   \n",
       "58feacdc4a4d31023a87bce158ee902d37076d9f5562f3f...  4_solutions_harmful_unnecessary   \n",
       "6d39a0d45c359fd2183c0f1f001b76c4b60d283240e5c34...                       0_accepted   \n",
       "0718ef4df3559735ad33436f7e1e39802a71d923cbc0b9e...                       0_accepted   \n",
       "cdfed233896d49971897df448465dd43b79ae871b33adb5...                       0_accepted   \n",
       "\n",
       "                                                   quote_is_correct  \\\n",
       "id                                                                    \n",
       "52061c3902c0257c7bfae7086ae50ea3998fea4204bcd66...             TRUE   \n",
       "34a41bf34b35ee91fc147601fb8c21a366a2f568b9060bb...             TRUE   \n",
       "0fb8db32982baea27fa4a92220e76331e703d61852c0e8d...             TRUE   \n",
       "4792f93c6614b1e7ef39e301cc6c1d0f4d3d18b9421cc3a...             TRUE   \n",
       "74c05fdbca4aeffb643abf0de486b57f8299051d4ef71b5...             TRUE   \n",
       "...                                                             ...   \n",
       "22d30e47c43d8defe1bdab51e6e4c6374ba982d76de8896...            FALSE   \n",
       "58feacdc4a4d31023a87bce158ee902d37076d9f5562f3f...             TRUE   \n",
       "6d39a0d45c359fd2183c0f1f001b76c4b60d283240e5c34...             TRUE   \n",
       "0718ef4df3559735ad33436f7e1e39802a71d923cbc0b9e...             TRUE   \n",
       "cdfed233896d49971897df448465dd43b79ae871b33adb5...             TRUE   \n",
       "\n",
       "                                                                                    commentaire_cards  \\\n",
       "id                                                                                                      \n",
       "52061c3902c0257c7bfae7086ae50ea3998fea4204bcd66...                                                NaN   \n",
       "34a41bf34b35ee91fc147601fb8c21a366a2f568b9060bb...  Contexte spécifique de la phrase, les mots de ...   \n",
       "0fb8db32982baea27fa4a92220e76331e703d61852c0e8d...  Contexte spécifique de la phrase, la claim men...   \n",
       "4792f93c6614b1e7ef39e301cc6c1d0f4d3d18b9421cc3a...                                                NaN   \n",
       "74c05fdbca4aeffb643abf0de486b57f8299051d4ef71b5...                                                NaN   \n",
       "...                                                                                               ...   \n",
       "22d30e47c43d8defe1bdab51e6e4c6374ba982d76de8896...                                                NaN   \n",
       "58feacdc4a4d31023a87bce158ee902d37076d9f5562f3f...                                                NaN   \n",
       "6d39a0d45c359fd2183c0f1f001b76c4b60d283240e5c34...            Potentiellement plutôt du greenwashing    \n",
       "0718ef4df3559735ad33436f7e1e39802a71d923cbc0b9e...  Légitime mais tellement court que ça a l'air d...   \n",
       "cdfed233896d49971897df448465dd43b79ae871b33adb5...  Mauvaise interprétation de la claim, qui menti...   \n",
       "\n",
       "                                                                                    commentaire_quote  \\\n",
       "id                                                                                                      \n",
       "52061c3902c0257c7bfae7086ae50ea3998fea4204bcd66...                   termes honnêtes = thermomètre ??   \n",
       "34a41bf34b35ee91fc147601fb8c21a366a2f568b9060bb...                                                NaN   \n",
       "0fb8db32982baea27fa4a92220e76331e703d61852c0e8d...                                                NaN   \n",
       "4792f93c6614b1e7ef39e301cc6c1d0f4d3d18b9421cc3a...                                                NaN   \n",
       "74c05fdbca4aeffb643abf0de486b57f8299051d4ef71b5...                                                NaN   \n",
       "...                                                                                               ...   \n",
       "22d30e47c43d8defe1bdab51e6e4c6374ba982d76de8896...  Problème de retranscription, plus automne ni p...   \n",
       "58feacdc4a4d31023a87bce158ee902d37076d9f5562f3f...                                                NaN   \n",
       "6d39a0d45c359fd2183c0f1f001b76c4b60d283240e5c34...                                                NaN   \n",
       "0718ef4df3559735ad33436f7e1e39802a71d923cbc0b9e...                                                NaN   \n",
       "cdfed233896d49971897df448465dd43b79ae871b33adb5...                                                NaN   \n",
       "\n",
       "                                                   Highlight  \n",
       "id                                                            \n",
       "52061c3902c0257c7bfae7086ae50ea3998fea4204bcd66...       NaN  \n",
       "34a41bf34b35ee91fc147601fb8c21a366a2f568b9060bb...       NaN  \n",
       "0fb8db32982baea27fa4a92220e76331e703d61852c0e8d...       NaN  \n",
       "4792f93c6614b1e7ef39e301cc6c1d0f4d3d18b9421cc3a...       NaN  \n",
       "74c05fdbca4aeffb643abf0de486b57f8299051d4ef71b5...       NaN  \n",
       "...                                                      ...  \n",
       "22d30e47c43d8defe1bdab51e6e4c6374ba982d76de8896...       NaN  \n",
       "58feacdc4a4d31023a87bce158ee902d37076d9f5562f3f...       NaN  \n",
       "6d39a0d45c359fd2183c0f1f001b76c4b60d283240e5c34...       NaN  \n",
       "0718ef4df3559735ad33436f7e1e39802a71d923cbc0b9e...       NaN  \n",
       "cdfed233896d49971897df448465dd43b79ae871b33adb5...       NaN  \n",
       "\n",
       "[337 rows x 13 columns]"
      ]
     },
     "execution_count": 2,
     "metadata": {},
     "output_type": "execute_result"
    }
   ],
   "source": [
    "# Load the ground truth transcripts that were labelled by humans from the Excel file\n",
    "df = pd.read_csv(\n",
    "    \"../../data/raw/4_channels_review_09_2023_09_2024.xlsx - Claims review.csv\",\n",
    "    index_col=0,\n",
    ")\n",
    "\n",
    "# Only keep the records that have a ground truth CARDS label\n",
    "df = df[~df[\"cards_ground_truth\"].isna()]\n",
    "\n",
    "df"
   ]
  },
  {
   "cell_type": "code",
   "execution_count": 3,
   "metadata": {},
   "outputs": [],
   "source": [
    "# We didn't include the original Mediatree transcript in the Excel file (we should have)\n",
    "# so we need to do a join to have access to the original text\n",
    "original = pd.read_parquet(\n",
    "    \"../../data/raw/4_channels_predictions_09_2023_09_2024.parquet\"\n",
    ")[\"text\"].rename(\"original_text\")\n",
    "df = df.rename(columns={\"text\": \"rewritten_text\"}).join(original)"
   ]
  },
  {
   "cell_type": "code",
   "execution_count": 4,
   "metadata": {},
   "outputs": [
    {
     "data": {
      "text/plain": [
       "0.00     0.0\n",
       "0.25     6.0\n",
       "0.50    10.0\n",
       "0.75    15.0\n",
       "0.80    17.0\n",
       "0.90    23.0\n",
       "0.99    38.0\n",
       "1.00    71.0\n",
       "dtype: float64"
      ]
     },
     "metadata": {},
     "output_type": "display_data"
    },
    {
     "name": "stdout",
     "output_type": "stream",
     "text": [
      "We are discarding 14% of our ground truth records because of shorter/longer rewritten transcription\n"
     ]
    }
   ],
   "source": [
    "# We noticed (too late) that some rewritten texts were much shorter than their original version.\n",
    "# We may have inadvertly removed critical information beforr the labelling of the transcripts.\n",
    "# We could also have hallucinated things that weren't actually said.\n",
    "# To have trustworthy labels, we will discard the records that have a difference in length greater than 20%\n",
    "absolute_size_diff_percent = (\n",
    "    (\n",
    "        (df[\"original_text\"].str.len() - df[\"rewritten_text\"].str.len())\n",
    "        / df[\"original_text\"].str.len()\n",
    "    )\n",
    "    * 100\n",
    ").abs()\n",
    "display(\n",
    "    absolute_size_diff_percent.quantile([0, 0.25, 0.5, 0.75, 0.8, 0.9, 0.99, 1]).round(\n",
    "        0\n",
    "    )\n",
    ")\n",
    "\n",
    "\n",
    "print(\n",
    "    f\"We are discarding {(absolute_size_diff_percent > 20).sum()/len(absolute_size_diff_percent):.0%} \"\n",
    "    \"of our ground truth records because of shorter/longer rewritten transcription\"\n",
    ")\n",
    "df = df[absolute_size_diff_percent <= 20]\n",
    "df = df.rename(columns={\"original_text\": \"text\"}).drop(columns=\"rewritten_text\")"
   ]
  },
  {
   "cell_type": "code",
   "execution_count": 5,
   "metadata": {},
   "outputs": [],
   "source": [
    "# Some transcripts didn't have the right claims highlighted in bold\n",
    "# The annotators can leave comments regarding this aspect\n",
    "# However, it turns out that we want to label the full transcript and not the claims themselves\n",
    "# Therefore, we can ignore these two labels\n",
    "\n",
    "# # Filter the records that had the correct claim highlighted\n",
    "# NOTE: not relevant anymore\n",
    "# df = df[\n",
    "\n",
    "#     # Only keep the records with a correctly identified quote since the current labelling UX doesn't allow to identify the correct quotes\n",
    "#      (df[\"quote_is_correct\"] == \"TRUE\")\n",
    "#     # Some \"commentaire_quote\" mention that the identified quote is either incorrect or partially correct, we ignore these records\n",
    "#     & (df[\"commentaire_quote\"].isna())\n",
    "# ]"
   ]
  },
  {
   "cell_type": "code",
   "execution_count": 6,
   "metadata": {},
   "outputs": [],
   "source": [
    "# Only keep the relevant columns\n",
    "df = df[\n",
    "    [\n",
    "        \"text\",\n",
    "        \"cards_ground_truth\",\n",
    "        \"cards\",\n",
    "    ]\n",
    "].rename(\n",
    "    columns={\n",
    "        \"cards_ground_truth\": \"cards_true\",\n",
    "        \"cards\": \"cards_pred\",\n",
    "    }\n",
    ")"
   ]
  },
  {
   "cell_type": "code",
   "execution_count": 7,
   "metadata": {},
   "outputs": [
    {
     "data": {
      "application/vnd.plotly.v1+json": {
       "config": {
        "plotlyServerURL": "https://plot.ly"
       },
       "data": [
        {
         "labels": [
          "0_accepted",
          "1_its_not_happening",
          "2_humans_are_not_the_cause",
          "3_impacts_are_not_bad",
          "4_solutions_are_ineffective_or_harmful",
          "5_science_is_uncertain",
          "6_advocates_are_biased",
          "7_fossil_fuels_are_needed"
         ],
         "showlegend": false,
         "textinfo": "label+value+percent",
         "type": "pie",
         "values": [
          96,
          21,
          14,
          12,
          69,
          17,
          54,
          7
         ]
        }
       ],
       "layout": {
        "height": 500,
        "template": {
         "data": {
          "bar": [
           {
            "error_x": {
             "color": "#2a3f5f"
            },
            "error_y": {
             "color": "#2a3f5f"
            },
            "marker": {
             "line": {
              "color": "#E5ECF6",
              "width": 0.5
             },
             "pattern": {
              "fillmode": "overlay",
              "size": 10,
              "solidity": 0.2
             }
            },
            "type": "bar"
           }
          ],
          "barpolar": [
           {
            "marker": {
             "line": {
              "color": "#E5ECF6",
              "width": 0.5
             },
             "pattern": {
              "fillmode": "overlay",
              "size": 10,
              "solidity": 0.2
             }
            },
            "type": "barpolar"
           }
          ],
          "carpet": [
           {
            "aaxis": {
             "endlinecolor": "#2a3f5f",
             "gridcolor": "white",
             "linecolor": "white",
             "minorgridcolor": "white",
             "startlinecolor": "#2a3f5f"
            },
            "baxis": {
             "endlinecolor": "#2a3f5f",
             "gridcolor": "white",
             "linecolor": "white",
             "minorgridcolor": "white",
             "startlinecolor": "#2a3f5f"
            },
            "type": "carpet"
           }
          ],
          "choropleth": [
           {
            "colorbar": {
             "outlinewidth": 0,
             "ticks": ""
            },
            "type": "choropleth"
           }
          ],
          "contour": [
           {
            "colorbar": {
             "outlinewidth": 0,
             "ticks": ""
            },
            "colorscale": [
             [
              0,
              "#0d0887"
             ],
             [
              0.1111111111111111,
              "#46039f"
             ],
             [
              0.2222222222222222,
              "#7201a8"
             ],
             [
              0.3333333333333333,
              "#9c179e"
             ],
             [
              0.4444444444444444,
              "#bd3786"
             ],
             [
              0.5555555555555556,
              "#d8576b"
             ],
             [
              0.6666666666666666,
              "#ed7953"
             ],
             [
              0.7777777777777778,
              "#fb9f3a"
             ],
             [
              0.8888888888888888,
              "#fdca26"
             ],
             [
              1,
              "#f0f921"
             ]
            ],
            "type": "contour"
           }
          ],
          "contourcarpet": [
           {
            "colorbar": {
             "outlinewidth": 0,
             "ticks": ""
            },
            "type": "contourcarpet"
           }
          ],
          "heatmap": [
           {
            "colorbar": {
             "outlinewidth": 0,
             "ticks": ""
            },
            "colorscale": [
             [
              0,
              "#0d0887"
             ],
             [
              0.1111111111111111,
              "#46039f"
             ],
             [
              0.2222222222222222,
              "#7201a8"
             ],
             [
              0.3333333333333333,
              "#9c179e"
             ],
             [
              0.4444444444444444,
              "#bd3786"
             ],
             [
              0.5555555555555556,
              "#d8576b"
             ],
             [
              0.6666666666666666,
              "#ed7953"
             ],
             [
              0.7777777777777778,
              "#fb9f3a"
             ],
             [
              0.8888888888888888,
              "#fdca26"
             ],
             [
              1,
              "#f0f921"
             ]
            ],
            "type": "heatmap"
           }
          ],
          "heatmapgl": [
           {
            "colorbar": {
             "outlinewidth": 0,
             "ticks": ""
            },
            "colorscale": [
             [
              0,
              "#0d0887"
             ],
             [
              0.1111111111111111,
              "#46039f"
             ],
             [
              0.2222222222222222,
              "#7201a8"
             ],
             [
              0.3333333333333333,
              "#9c179e"
             ],
             [
              0.4444444444444444,
              "#bd3786"
             ],
             [
              0.5555555555555556,
              "#d8576b"
             ],
             [
              0.6666666666666666,
              "#ed7953"
             ],
             [
              0.7777777777777778,
              "#fb9f3a"
             ],
             [
              0.8888888888888888,
              "#fdca26"
             ],
             [
              1,
              "#f0f921"
             ]
            ],
            "type": "heatmapgl"
           }
          ],
          "histogram": [
           {
            "marker": {
             "pattern": {
              "fillmode": "overlay",
              "size": 10,
              "solidity": 0.2
             }
            },
            "type": "histogram"
           }
          ],
          "histogram2d": [
           {
            "colorbar": {
             "outlinewidth": 0,
             "ticks": ""
            },
            "colorscale": [
             [
              0,
              "#0d0887"
             ],
             [
              0.1111111111111111,
              "#46039f"
             ],
             [
              0.2222222222222222,
              "#7201a8"
             ],
             [
              0.3333333333333333,
              "#9c179e"
             ],
             [
              0.4444444444444444,
              "#bd3786"
             ],
             [
              0.5555555555555556,
              "#d8576b"
             ],
             [
              0.6666666666666666,
              "#ed7953"
             ],
             [
              0.7777777777777778,
              "#fb9f3a"
             ],
             [
              0.8888888888888888,
              "#fdca26"
             ],
             [
              1,
              "#f0f921"
             ]
            ],
            "type": "histogram2d"
           }
          ],
          "histogram2dcontour": [
           {
            "colorbar": {
             "outlinewidth": 0,
             "ticks": ""
            },
            "colorscale": [
             [
              0,
              "#0d0887"
             ],
             [
              0.1111111111111111,
              "#46039f"
             ],
             [
              0.2222222222222222,
              "#7201a8"
             ],
             [
              0.3333333333333333,
              "#9c179e"
             ],
             [
              0.4444444444444444,
              "#bd3786"
             ],
             [
              0.5555555555555556,
              "#d8576b"
             ],
             [
              0.6666666666666666,
              "#ed7953"
             ],
             [
              0.7777777777777778,
              "#fb9f3a"
             ],
             [
              0.8888888888888888,
              "#fdca26"
             ],
             [
              1,
              "#f0f921"
             ]
            ],
            "type": "histogram2dcontour"
           }
          ],
          "mesh3d": [
           {
            "colorbar": {
             "outlinewidth": 0,
             "ticks": ""
            },
            "type": "mesh3d"
           }
          ],
          "parcoords": [
           {
            "line": {
             "colorbar": {
              "outlinewidth": 0,
              "ticks": ""
             }
            },
            "type": "parcoords"
           }
          ],
          "pie": [
           {
            "automargin": true,
            "type": "pie"
           }
          ],
          "scatter": [
           {
            "fillpattern": {
             "fillmode": "overlay",
             "size": 10,
             "solidity": 0.2
            },
            "type": "scatter"
           }
          ],
          "scatter3d": [
           {
            "line": {
             "colorbar": {
              "outlinewidth": 0,
              "ticks": ""
             }
            },
            "marker": {
             "colorbar": {
              "outlinewidth": 0,
              "ticks": ""
             }
            },
            "type": "scatter3d"
           }
          ],
          "scattercarpet": [
           {
            "marker": {
             "colorbar": {
              "outlinewidth": 0,
              "ticks": ""
             }
            },
            "type": "scattercarpet"
           }
          ],
          "scattergeo": [
           {
            "marker": {
             "colorbar": {
              "outlinewidth": 0,
              "ticks": ""
             }
            },
            "type": "scattergeo"
           }
          ],
          "scattergl": [
           {
            "marker": {
             "colorbar": {
              "outlinewidth": 0,
              "ticks": ""
             }
            },
            "type": "scattergl"
           }
          ],
          "scattermapbox": [
           {
            "marker": {
             "colorbar": {
              "outlinewidth": 0,
              "ticks": ""
             }
            },
            "type": "scattermapbox"
           }
          ],
          "scatterpolar": [
           {
            "marker": {
             "colorbar": {
              "outlinewidth": 0,
              "ticks": ""
             }
            },
            "type": "scatterpolar"
           }
          ],
          "scatterpolargl": [
           {
            "marker": {
             "colorbar": {
              "outlinewidth": 0,
              "ticks": ""
             }
            },
            "type": "scatterpolargl"
           }
          ],
          "scatterternary": [
           {
            "marker": {
             "colorbar": {
              "outlinewidth": 0,
              "ticks": ""
             }
            },
            "type": "scatterternary"
           }
          ],
          "surface": [
           {
            "colorbar": {
             "outlinewidth": 0,
             "ticks": ""
            },
            "colorscale": [
             [
              0,
              "#0d0887"
             ],
             [
              0.1111111111111111,
              "#46039f"
             ],
             [
              0.2222222222222222,
              "#7201a8"
             ],
             [
              0.3333333333333333,
              "#9c179e"
             ],
             [
              0.4444444444444444,
              "#bd3786"
             ],
             [
              0.5555555555555556,
              "#d8576b"
             ],
             [
              0.6666666666666666,
              "#ed7953"
             ],
             [
              0.7777777777777778,
              "#fb9f3a"
             ],
             [
              0.8888888888888888,
              "#fdca26"
             ],
             [
              1,
              "#f0f921"
             ]
            ],
            "type": "surface"
           }
          ],
          "table": [
           {
            "cells": {
             "fill": {
              "color": "#EBF0F8"
             },
             "line": {
              "color": "white"
             }
            },
            "header": {
             "fill": {
              "color": "#C8D4E3"
             },
             "line": {
              "color": "white"
             }
            },
            "type": "table"
           }
          ]
         },
         "layout": {
          "annotationdefaults": {
           "arrowcolor": "#2a3f5f",
           "arrowhead": 0,
           "arrowwidth": 1
          },
          "autotypenumbers": "strict",
          "coloraxis": {
           "colorbar": {
            "outlinewidth": 0,
            "ticks": ""
           }
          },
          "colorscale": {
           "diverging": [
            [
             0,
             "#8e0152"
            ],
            [
             0.1,
             "#c51b7d"
            ],
            [
             0.2,
             "#de77ae"
            ],
            [
             0.3,
             "#f1b6da"
            ],
            [
             0.4,
             "#fde0ef"
            ],
            [
             0.5,
             "#f7f7f7"
            ],
            [
             0.6,
             "#e6f5d0"
            ],
            [
             0.7,
             "#b8e186"
            ],
            [
             0.8,
             "#7fbc41"
            ],
            [
             0.9,
             "#4d9221"
            ],
            [
             1,
             "#276419"
            ]
           ],
           "sequential": [
            [
             0,
             "#0d0887"
            ],
            [
             0.1111111111111111,
             "#46039f"
            ],
            [
             0.2222222222222222,
             "#7201a8"
            ],
            [
             0.3333333333333333,
             "#9c179e"
            ],
            [
             0.4444444444444444,
             "#bd3786"
            ],
            [
             0.5555555555555556,
             "#d8576b"
            ],
            [
             0.6666666666666666,
             "#ed7953"
            ],
            [
             0.7777777777777778,
             "#fb9f3a"
            ],
            [
             0.8888888888888888,
             "#fdca26"
            ],
            [
             1,
             "#f0f921"
            ]
           ],
           "sequentialminus": [
            [
             0,
             "#0d0887"
            ],
            [
             0.1111111111111111,
             "#46039f"
            ],
            [
             0.2222222222222222,
             "#7201a8"
            ],
            [
             0.3333333333333333,
             "#9c179e"
            ],
            [
             0.4444444444444444,
             "#bd3786"
            ],
            [
             0.5555555555555556,
             "#d8576b"
            ],
            [
             0.6666666666666666,
             "#ed7953"
            ],
            [
             0.7777777777777778,
             "#fb9f3a"
            ],
            [
             0.8888888888888888,
             "#fdca26"
            ],
            [
             1,
             "#f0f921"
            ]
           ]
          },
          "colorway": [
           "#636efa",
           "#EF553B",
           "#00cc96",
           "#ab63fa",
           "#FFA15A",
           "#19d3f3",
           "#FF6692",
           "#B6E880",
           "#FF97FF",
           "#FECB52"
          ],
          "font": {
           "color": "#2a3f5f"
          },
          "geo": {
           "bgcolor": "white",
           "lakecolor": "white",
           "landcolor": "#E5ECF6",
           "showlakes": true,
           "showland": true,
           "subunitcolor": "white"
          },
          "hoverlabel": {
           "align": "left"
          },
          "hovermode": "closest",
          "mapbox": {
           "style": "light"
          },
          "paper_bgcolor": "white",
          "plot_bgcolor": "#E5ECF6",
          "polar": {
           "angularaxis": {
            "gridcolor": "white",
            "linecolor": "white",
            "ticks": ""
           },
           "bgcolor": "#E5ECF6",
           "radialaxis": {
            "gridcolor": "white",
            "linecolor": "white",
            "ticks": ""
           }
          },
          "scene": {
           "xaxis": {
            "backgroundcolor": "#E5ECF6",
            "gridcolor": "white",
            "gridwidth": 2,
            "linecolor": "white",
            "showbackground": true,
            "ticks": "",
            "zerolinecolor": "white"
           },
           "yaxis": {
            "backgroundcolor": "#E5ECF6",
            "gridcolor": "white",
            "gridwidth": 2,
            "linecolor": "white",
            "showbackground": true,
            "ticks": "",
            "zerolinecolor": "white"
           },
           "zaxis": {
            "backgroundcolor": "#E5ECF6",
            "gridcolor": "white",
            "gridwidth": 2,
            "linecolor": "white",
            "showbackground": true,
            "ticks": "",
            "zerolinecolor": "white"
           }
          },
          "shapedefaults": {
           "line": {
            "color": "#2a3f5f"
           }
          },
          "ternary": {
           "aaxis": {
            "gridcolor": "white",
            "linecolor": "white",
            "ticks": ""
           },
           "baxis": {
            "gridcolor": "white",
            "linecolor": "white",
            "ticks": ""
           },
           "bgcolor": "#E5ECF6",
           "caxis": {
            "gridcolor": "white",
            "linecolor": "white",
            "ticks": ""
           }
          },
          "title": {
           "x": 0.05
          },
          "xaxis": {
           "automargin": true,
           "gridcolor": "white",
           "linecolor": "white",
           "ticks": "",
           "title": {
            "standoff": 15
           },
           "zerolinecolor": "white",
           "zerolinewidth": 2
          },
          "yaxis": {
           "automargin": true,
           "gridcolor": "white",
           "linecolor": "white",
           "ticks": "",
           "title": {
            "standoff": 15
           },
           "zerolinecolor": "white",
           "zerolinewidth": 2
          }
         }
        },
        "title": {
         "text": "Distribution of CARDS labels",
         "x": 0.5
        },
        "width": 700
       }
      },
      "image/png": "[encoded data removed]"
     },
     "metadata": {},
     "output_type": "display_data"
    }
   ],
   "source": [
    "# Renaming some CARDS labels to something better\n",
    "rename_map = {\n",
    "    \"2_humans_not_the_cause\": \"2_humans_are_not_the_cause\",\n",
    "    \"3_impacts_not_bad\": \"3_impacts_are_not_bad\",\n",
    "    \"4_solutions_harmful_unnecessary\": \"4_solutions_are_ineffective_or_harmful\",\n",
    "    \"5_science_uncertain\": \"5_science_is_uncertain\",\n",
    "    \"6_proponents_biased\": \"6_advocates_are_biased\",\n",
    "    \"7_fossil_fuels_needed\": \"7_fossil_fuels_are_needed\",\n",
    "}\n",
    "df[\"cards_true\"] = df[\"cards_true\"].replace(rename_map)\n",
    "df[\"cards_pred\"] = df[\"cards_pred\"].replace(rename_map)\n",
    "\n",
    "# Show the distribution of labels\n",
    "cards_count = df[\"cards_true\"].value_counts().sort_index()\n",
    "go.Figure(\n",
    "    go.Pie(\n",
    "        labels=cards_count.index,\n",
    "        values=cards_count.values,\n",
    "        textinfo=\"label+value+percent\",\n",
    "        showlegend=False,\n",
    "    ),\n",
    "    go.Layout(title=\"Distribution of CARDS labels\", title_x=0.5, width=700, height=500),\n",
    ")"
   ]
  },
  {
   "cell_type": "markdown",
   "metadata": {},
   "source": [
    "## Train/Test split\n"
   ]
  },
  {
   "cell_type": "code",
   "execution_count": 8,
   "metadata": {},
   "outputs": [],
   "source": [
    "# To avoid overfitting the LLM prompts to the transcripts we have labelled we will\n",
    "# do a train/test split, do prompt engineering using the train split, and eventually\n",
    "# evaluate the generalizability of our prompts on the test split\n",
    "df_train, df_test = train_test_split(\n",
    "    df,\n",
    "    # Since we don't learn any model weights, there is no reason\n",
    "    # to have a train set larget than the test set\n",
    "    test_size=0.5,\n",
    "    # Since the classes are imbalanced, we use stratified sampling\n",
    "    # to reproduce the same class distribution in each set\n",
    "    stratify=df[\"cards_true\"],\n",
    "    # For reproducibility\n",
    "    random_state=42,\n",
    ")"
   ]
  },
  {
   "cell_type": "markdown",
   "metadata": {},
   "source": [
    "## Evaluate the performance of the baseline model on the test set\n"
   ]
  },
  {
   "cell_type": "code",
   "execution_count": 9,
   "metadata": {},
   "outputs": [
    {
     "name": "stdout",
     "output_type": "stream",
     "text": [
      "BINARY CLASSIFICATION REPORT\n",
      "============================\n",
      "\n",
      "              precision    recall  f1-score   support\n",
      "\n",
      "       False       0.00      0.00      0.00        48\n",
      "        True       0.67      1.00      0.80        97\n",
      "\n",
      "    accuracy                           0.67       145\n",
      "   macro avg       0.33      0.50      0.40       145\n",
      "weighted avg       0.45      0.67      0.54       145\n",
      "\n"
     ]
    },
    {
     "data": {
      "application/vnd.plotly.v1+json": {
       "config": {
        "plotlyServerURL": "https://plot.ly"
       },
       "data": [
        {
         "colorscale": [
          [
           0,
           "rgb(247,251,255)"
          ],
          [
           0.125,
           "rgb(222,235,247)"
          ],
          [
           0.25,
           "rgb(198,219,239)"
          ],
          [
           0.375,
           "rgb(158,202,225)"
          ],
          [
           0.5,
           "rgb(107,174,214)"
          ],
          [
           0.625,
           "rgb(66,146,198)"
          ],
          [
           0.75,
           "rgb(33,113,181)"
          ],
          [
           0.875,
           "rgb(8,81,156)"
          ],
          [
           1,
           "rgb(8,48,107)"
          ]
         ],
         "hoverinfo": "none",
         "showscale": false,
         "text": [
          [
           "0",
           "48<br>100%"
          ],
          [
           "0",
           "97<br>100%"
          ]
         ],
         "texttemplate": "%{text}",
         "type": "heatmap",
         "x": [
          "0_accepted",
          "[1-7]_contrarian"
         ],
         "y": [
          "0_accepted",
          "[1-7]_contrarian"
         ],
         "z": [
          [
           0,
           1
          ],
          [
           0,
           1
          ]
         ]
        }
       ],
       "layout": {
        "height": 400,
        "margin": {
         "b": 27,
         "r": 27,
         "t": 40
        },
        "template": {
         "data": {
          "bar": [
           {
            "error_x": {
             "color": "#2a3f5f"
            },
            "error_y": {
             "color": "#2a3f5f"
            },
            "marker": {
             "line": {
              "color": "#E5ECF6",
              "width": 0.5
             },
             "pattern": {
              "fillmode": "overlay",
              "size": 10,
              "solidity": 0.2
             }
            },
            "type": "bar"
           }
          ],
          "barpolar": [
           {
            "marker": {
             "line": {
              "color": "#E5ECF6",
              "width": 0.5
             },
             "pattern": {
              "fillmode": "overlay",
              "size": 10,
              "solidity": 0.2
             }
            },
            "type": "barpolar"
           }
          ],
          "carpet": [
           {
            "aaxis": {
             "endlinecolor": "#2a3f5f",
             "gridcolor": "white",
             "linecolor": "white",
             "minorgridcolor": "white",
             "startlinecolor": "#2a3f5f"
            },
            "baxis": {
             "endlinecolor": "#2a3f5f",
             "gridcolor": "white",
             "linecolor": "white",
             "minorgridcolor": "white",
             "startlinecolor": "#2a3f5f"
            },
            "type": "carpet"
           }
          ],
          "choropleth": [
           {
            "colorbar": {
             "outlinewidth": 0,
             "ticks": ""
            },
            "type": "choropleth"
           }
          ],
          "contour": [
           {
            "colorbar": {
             "outlinewidth": 0,
             "ticks": ""
            },
            "colorscale": [
             [
              0,
              "#0d0887"
             ],
             [
              0.1111111111111111,
              "#46039f"
             ],
             [
              0.2222222222222222,
              "#7201a8"
             ],
             [
              0.3333333333333333,
              "#9c179e"
             ],
             [
              0.4444444444444444,
              "#bd3786"
             ],
             [
              0.5555555555555556,
              "#d8576b"
             ],
             [
              0.6666666666666666,
              "#ed7953"
             ],
             [
              0.7777777777777778,
              "#fb9f3a"
             ],
             [
              0.8888888888888888,
              "#fdca26"
             ],
             [
              1,
              "#f0f921"
             ]
            ],
            "type": "contour"
           }
          ],
          "contourcarpet": [
           {
            "colorbar": {
             "outlinewidth": 0,
             "ticks": ""
            },
            "type": "contourcarpet"
           }
          ],
          "heatmap": [
           {
            "colorbar": {
             "outlinewidth": 0,
             "ticks": ""
            },
            "colorscale": [
             [
              0,
              "#0d0887"
             ],
             [
              0.1111111111111111,
              "#46039f"
             ],
             [
              0.2222222222222222,
              "#7201a8"
             ],
             [
              0.3333333333333333,
              "#9c179e"
             ],
             [
              0.4444444444444444,
              "#bd3786"
             ],
             [
              0.5555555555555556,
              "#d8576b"
             ],
             [
              0.6666666666666666,
              "#ed7953"
             ],
             [
              0.7777777777777778,
              "#fb9f3a"
             ],
             [
              0.8888888888888888,
              "#fdca26"
             ],
             [
              1,
              "#f0f921"
             ]
            ],
            "type": "heatmap"
           }
          ],
          "heatmapgl": [
           {
            "colorbar": {
             "outlinewidth": 0,
             "ticks": ""
            },
            "colorscale": [
             [
              0,
              "#0d0887"
             ],
             [
              0.1111111111111111,
              "#46039f"
             ],
             [
              0.2222222222222222,
              "#7201a8"
             ],
             [
              0.3333333333333333,
              "#9c179e"
             ],
             [
              0.4444444444444444,
              "#bd3786"
             ],
             [
              0.5555555555555556,
              "#d8576b"
             ],
             [
              0.6666666666666666,
              "#ed7953"
             ],
             [
              0.7777777777777778,
              "#fb9f3a"
             ],
             [
              0.8888888888888888,
              "#fdca26"
             ],
             [
              1,
              "#f0f921"
             ]
            ],
            "type": "heatmapgl"
           }
          ],
          "histogram": [
           {
            "marker": {
             "pattern": {
              "fillmode": "overlay",
              "size": 10,
              "solidity": 0.2
             }
            },
            "type": "histogram"
           }
          ],
          "histogram2d": [
           {
            "colorbar": {
             "outlinewidth": 0,
             "ticks": ""
            },
            "colorscale": [
             [
              0,
              "#0d0887"
             ],
             [
              0.1111111111111111,
              "#46039f"
             ],
             [
              0.2222222222222222,
              "#7201a8"
             ],
             [
              0.3333333333333333,
              "#9c179e"
             ],
             [
              0.4444444444444444,
              "#bd3786"
             ],
             [
              0.5555555555555556,
              "#d8576b"
             ],
             [
              0.6666666666666666,
              "#ed7953"
             ],
             [
              0.7777777777777778,
              "#fb9f3a"
             ],
             [
              0.8888888888888888,
              "#fdca26"
             ],
             [
              1,
              "#f0f921"
             ]
            ],
            "type": "histogram2d"
           }
          ],
          "histogram2dcontour": [
           {
            "colorbar": {
             "outlinewidth": 0,
             "ticks": ""
            },
            "colorscale": [
             [
              0,
              "#0d0887"
             ],
             [
              0.1111111111111111,
              "#46039f"
             ],
             [
              0.2222222222222222,
              "#7201a8"
             ],
             [
              0.3333333333333333,
              "#9c179e"
             ],
             [
              0.4444444444444444,
              "#bd3786"
             ],
             [
              0.5555555555555556,
              "#d8576b"
             ],
             [
              0.6666666666666666,
              "#ed7953"
             ],
             [
              0.7777777777777778,
              "#fb9f3a"
             ],
             [
              0.8888888888888888,
              "#fdca26"
             ],
             [
              1,
              "#f0f921"
             ]
            ],
            "type": "histogram2dcontour"
           }
          ],
          "mesh3d": [
           {
            "colorbar": {
             "outlinewidth": 0,
             "ticks": ""
            },
            "type": "mesh3d"
           }
          ],
          "parcoords": [
           {
            "line": {
             "colorbar": {
              "outlinewidth": 0,
              "ticks": ""
             }
            },
            "type": "parcoords"
           }
          ],
          "pie": [
           {
            "automargin": true,
            "type": "pie"
           }
          ],
          "scatter": [
           {
            "fillpattern": {
             "fillmode": "overlay",
             "size": 10,
             "solidity": 0.2
            },
            "type": "scatter"
           }
          ],
          "scatter3d": [
           {
            "line": {
             "colorbar": {
              "outlinewidth": 0,
              "ticks": ""
             }
            },
            "marker": {
             "colorbar": {
              "outlinewidth": 0,
              "ticks": ""
             }
            },
            "type": "scatter3d"
           }
          ],
          "scattercarpet": [
           {
            "marker": {
             "colorbar": {
              "outlinewidth": 0,
              "ticks": ""
             }
            },
            "type": "scattercarpet"
           }
          ],
          "scattergeo": [
           {
            "marker": {
             "colorbar": {
              "outlinewidth": 0,
              "ticks": ""
             }
            },
            "type": "scattergeo"
           }
          ],
          "scattergl": [
           {
            "marker": {
             "colorbar": {
              "outlinewidth": 0,
              "ticks": ""
             }
            },
            "type": "scattergl"
           }
          ],
          "scattermapbox": [
           {
            "marker": {
             "colorbar": {
              "outlinewidth": 0,
              "ticks": ""
             }
            },
            "type": "scattermapbox"
           }
          ],
          "scatterpolar": [
           {
            "marker": {
             "colorbar": {
              "outlinewidth": 0,
              "ticks": ""
             }
            },
            "type": "scatterpolar"
           }
          ],
          "scatterpolargl": [
           {
            "marker": {
             "colorbar": {
              "outlinewidth": 0,
              "ticks": ""
             }
            },
            "type": "scatterpolargl"
           }
          ],
          "scatterternary": [
           {
            "marker": {
             "colorbar": {
              "outlinewidth": 0,
              "ticks": ""
             }
            },
            "type": "scatterternary"
           }
          ],
          "surface": [
           {
            "colorbar": {
             "outlinewidth": 0,
             "ticks": ""
            },
            "colorscale": [
             [
              0,
              "#0d0887"
             ],
             [
              0.1111111111111111,
              "#46039f"
             ],
             [
              0.2222222222222222,
              "#7201a8"
             ],
             [
              0.3333333333333333,
              "#9c179e"
             ],
             [
              0.4444444444444444,
              "#bd3786"
             ],
             [
              0.5555555555555556,
              "#d8576b"
             ],
             [
              0.6666666666666666,
              "#ed7953"
             ],
             [
              0.7777777777777778,
              "#fb9f3a"
             ],
             [
              0.8888888888888888,
              "#fdca26"
             ],
             [
              1,
              "#f0f921"
             ]
            ],
            "type": "surface"
           }
          ],
          "table": [
           {
            "cells": {
             "fill": {
              "color": "#EBF0F8"
             },
             "line": {
              "color": "white"
             }
            },
            "header": {
             "fill": {
              "color": "#C8D4E3"
             },
             "line": {
              "color": "white"
             }
            },
            "type": "table"
           }
          ]
         },
         "layout": {
          "annotationdefaults": {
           "arrowcolor": "#2a3f5f",
           "arrowhead": 0,
           "arrowwidth": 1
          },
          "autotypenumbers": "strict",
          "coloraxis": {
           "colorbar": {
            "outlinewidth": 0,
            "ticks": ""
           }
          },
          "colorscale": {
           "diverging": [
            [
             0,
             "#8e0152"
            ],
            [
             0.1,
             "#c51b7d"
            ],
            [
             0.2,
             "#de77ae"
            ],
            [
             0.3,
             "#f1b6da"
            ],
            [
             0.4,
             "#fde0ef"
            ],
            [
             0.5,
             "#f7f7f7"
            ],
            [
             0.6,
             "#e6f5d0"
            ],
            [
             0.7,
             "#b8e186"
            ],
            [
             0.8,
             "#7fbc41"
            ],
            [
             0.9,
             "#4d9221"
            ],
            [
             1,
             "#276419"
            ]
           ],
           "sequential": [
            [
             0,
             "#0d0887"
            ],
            [
             0.1111111111111111,
             "#46039f"
            ],
            [
             0.2222222222222222,
             "#7201a8"
            ],
            [
             0.3333333333333333,
             "#9c179e"
            ],
            [
             0.4444444444444444,
             "#bd3786"
            ],
            [
             0.5555555555555556,
             "#d8576b"
            ],
            [
             0.6666666666666666,
             "#ed7953"
            ],
            [
             0.7777777777777778,
             "#fb9f3a"
            ],
            [
             0.8888888888888888,
             "#fdca26"
            ],
            [
             1,
             "#f0f921"
            ]
           ],
           "sequentialminus": [
            [
             0,
             "#0d0887"
            ],
            [
             0.1111111111111111,
             "#46039f"
            ],
            [
             0.2222222222222222,
             "#7201a8"
            ],
            [
             0.3333333333333333,
             "#9c179e"
            ],
            [
             0.4444444444444444,
             "#bd3786"
            ],
            [
             0.5555555555555556,
             "#d8576b"
            ],
            [
             0.6666666666666666,
             "#ed7953"
            ],
            [
             0.7777777777777778,
             "#fb9f3a"
            ],
            [
             0.8888888888888888,
             "#fdca26"
            ],
            [
             1,
             "#f0f921"
            ]
           ]
          },
          "colorway": [
           "#636efa",
           "#EF553B",
           "#00cc96",
           "#ab63fa",
           "#FFA15A",
           "#19d3f3",
           "#FF6692",
           "#B6E880",
           "#FF97FF",
           "#FECB52"
          ],
          "font": {
           "color": "#2a3f5f"
          },
          "geo": {
           "bgcolor": "white",
           "lakecolor": "white",
           "landcolor": "#E5ECF6",
           "showlakes": true,
           "showland": true,
           "subunitcolor": "white"
          },
          "hoverlabel": {
           "align": "left"
          },
          "hovermode": "closest",
          "mapbox": {
           "style": "light"
          },
          "paper_bgcolor": "white",
          "plot_bgcolor": "#E5ECF6",
          "polar": {
           "angularaxis": {
            "gridcolor": "white",
            "linecolor": "white",
            "ticks": ""
           },
           "bgcolor": "#E5ECF6",
           "radialaxis": {
            "gridcolor": "white",
            "linecolor": "white",
            "ticks": ""
           }
          },
          "scene": {
           "xaxis": {
            "backgroundcolor": "#E5ECF6",
            "gridcolor": "white",
            "gridwidth": 2,
            "linecolor": "white",
            "showbackground": true,
            "ticks": "",
            "zerolinecolor": "white"
           },
           "yaxis": {
            "backgroundcolor": "#E5ECF6",
            "gridcolor": "white",
            "gridwidth": 2,
            "linecolor": "white",
            "showbackground": true,
            "ticks": "",
            "zerolinecolor": "white"
           },
           "zaxis": {
            "backgroundcolor": "#E5ECF6",
            "gridcolor": "white",
            "gridwidth": 2,
            "linecolor": "white",
            "showbackground": true,
            "ticks": "",
            "zerolinecolor": "white"
           }
          },
          "shapedefaults": {
           "line": {
            "color": "#2a3f5f"
           }
          },
          "ternary": {
           "aaxis": {
            "gridcolor": "white",
            "linecolor": "white",
            "ticks": ""
           },
           "baxis": {
            "gridcolor": "white",
            "linecolor": "white",
            "ticks": ""
           },
           "bgcolor": "#E5ECF6",
           "caxis": {
            "gridcolor": "white",
            "linecolor": "white",
            "ticks": ""
           }
          },
          "title": {
           "x": 0.05
          },
          "xaxis": {
           "automargin": true,
           "gridcolor": "white",
           "linecolor": "white",
           "ticks": "",
           "title": {
            "standoff": 15
           },
           "zerolinecolor": "white",
           "zerolinewidth": 2
          },
          "yaxis": {
           "automargin": true,
           "gridcolor": "white",
           "linecolor": "white",
           "ticks": "",
           "title": {
            "standoff": 15
           },
           "zerolinecolor": "white",
           "zerolinewidth": 2
          }
         }
        },
        "title": {
         "text": "Confusion Matrix",
         "x": 0.7,
         "xref": "paper",
         "y": 0.97
        },
        "width": 450,
        "xaxis": {
         "tickangle": -30,
         "title": {
          "text": "Predicted class"
         }
        },
        "yaxis": {
         "autorange": "reversed",
         "title": {
          "text": "True class"
         }
        }
       }
      },
      "image/png": "[encoded data removed]"
     },
     "metadata": {},
     "output_type": "display_data"
    },
    {
     "name": "stdout",
     "output_type": "stream",
     "text": [
      "CARDS CLASSIFICATION REPORT\n",
      "===========================\n",
      "\n",
      "                                        precision    recall  f1-score   support\n",
      "\n",
      "                            0_accepted       0.00      0.00      0.00        48\n",
      "                   1_its_not_happening       0.20      0.82      0.32        11\n",
      "            2_humans_are_not_the_cause       0.40      0.57      0.47         7\n",
      "                 3_impacts_are_not_bad       0.25      0.83      0.38         6\n",
      "4_solutions_are_ineffective_or_harmful       0.64      0.53      0.58        34\n",
      "                5_science_is_uncertain       0.40      0.89      0.55         9\n",
      "                6_advocates_are_biased       0.89      0.59      0.71        27\n",
      "             7_fossil_fuels_are_needed       0.75      1.00      0.86         3\n",
      "\n",
      "                              accuracy                           0.43       145\n",
      "                             macro avg       0.44      0.65      0.48       145\n",
      "                          weighted avg       0.40      0.43      0.38       145\n",
      "\n"
     ]
    },
    {
     "data": {
      "application/vnd.plotly.v1+json": {
       "config": {
        "plotlyServerURL": "https://plot.ly"
       },
       "data": [
        {
         "colorscale": [
          [
           0,
           "rgb(247,251,255)"
          ],
          [
           0.125,
           "rgb(222,235,247)"
          ],
          [
           0.25,
           "rgb(198,219,239)"
          ],
          [
           0.375,
           "rgb(158,202,225)"
          ],
          [
           0.5,
           "rgb(107,174,214)"
          ],
          [
           0.625,
           "rgb(66,146,198)"
          ],
          [
           0.75,
           "rgb(33,113,181)"
          ],
          [
           0.875,
           "rgb(8,81,156)"
          ],
          [
           1,
           "rgb(8,48,107)"
          ]
         ],
         "hoverinfo": "none",
         "showscale": false,
         "text": [
          [
           "0",
           "23<br>47.92%",
           "2<br>4.17%",
           "7<br>14.58%",
           "8<br>16.67%",
           "7<br>14.58%",
           "1<br>2.08%",
           "0"
          ],
          [
           "0",
           "9<br>81.82%",
           "2<br>18.18%",
           "0",
           "0",
           "0",
           "0",
           "0"
          ],
          [
           "0",
           "2<br>28.57%",
           "4<br>57.14%",
           "0",
           "0",
           "1<br>14.29%",
           "0",
           "0"
          ],
          [
           "0",
           "1<br>16.67%",
           "0",
           "5<br>83.33%",
           "0",
           "0",
           "0",
           "0"
          ],
          [
           "0",
           "7<br>20.59%",
           "2<br>5.88%",
           "5<br>14.71%",
           "18<br>52.94%",
           "0",
           "1<br>2.94%",
           "1<br>2.94%"
          ],
          [
           "0",
           "1<br>11.11%",
           "0",
           "0",
           "0",
           "8<br>88.89%",
           "0",
           "0"
          ],
          [
           "0",
           "2<br>7.41%",
           "0",
           "3<br>11.11%",
           "2<br>7.41%",
           "4<br>14.81%",
           "16<br>59.26%",
           "0"
          ],
          [
           "0",
           "0",
           "0",
           "0",
           "0",
           "0",
           "0",
           "3<br>100%"
          ]
         ],
         "texttemplate": "%{text}",
         "type": "heatmap",
         "x": [
          "0_accepted",
          "1_its_not_happening",
          "2_humans_are_not_the_cause",
          "3_impacts_are_not_bad",
          "4_solutions_are_ineffective_or_harmful",
          "5_science_is_uncertain",
          "6_advocates_are_biased",
          "7_fossil_fuels_are_needed"
         ],
         "y": [
          "0_accepted",
          "1_its_not_happening",
          "2_humans_are_not_the_cause",
          "3_impacts_are_not_bad",
          "4_solutions_are_ineffective_or_harmful",
          "5_science_is_uncertain",
          "6_advocates_are_biased",
          "7_fossil_fuels_are_needed"
         ],
         "z": [
          [
           0,
           0.4791666666666667,
           0.041666666666666664,
           0.14583333333333334,
           0.16666666666666666,
           0.14583333333333334,
           0.020833333333333332,
           0
          ],
          [
           0,
           0.8181818181818182,
           0.18181818181818182,
           0,
           0,
           0,
           0,
           0
          ],
          [
           0,
           0.2857142857142857,
           0.5714285714285714,
           0,
           0,
           0.14285714285714285,
           0,
           0
          ],
          [
           0,
           0.16666666666666666,
           0,
           0.8333333333333334,
           0,
           0,
           0,
           0
          ],
          [
           0,
           0.20588235294117646,
           0.058823529411764705,
           0.14705882352941177,
           0.5294117647058824,
           0,
           0.029411764705882353,
           0.029411764705882353
          ],
          [
           0,
           0.1111111111111111,
           0,
           0,
           0,
           0.8888888888888888,
           0,
           0
          ],
          [
           0,
           0.07407407407407407,
           0,
           0.1111111111111111,
           0.07407407407407407,
           0.14814814814814814,
           0.5925925925925926,
           0
          ],
          [
           0,
           0,
           0,
           0,
           0,
           0,
           0,
           1
          ]
         ]
        }
       ],
       "layout": {
        "height": 600,
        "margin": {
         "b": 27,
         "r": 27,
         "t": 40
        },
        "template": {
         "data": {
          "bar": [
           {
            "error_x": {
             "color": "#2a3f5f"
            },
            "error_y": {
             "color": "#2a3f5f"
            },
            "marker": {
             "line": {
              "color": "#E5ECF6",
              "width": 0.5
             },
             "pattern": {
              "fillmode": "overlay",
              "size": 10,
              "solidity": 0.2
             }
            },
            "type": "bar"
           }
          ],
          "barpolar": [
           {
            "marker": {
             "line": {
              "color": "#E5ECF6",
              "width": 0.5
             },
             "pattern": {
              "fillmode": "overlay",
              "size": 10,
              "solidity": 0.2
             }
            },
            "type": "barpolar"
           }
          ],
          "carpet": [
           {
            "aaxis": {
             "endlinecolor": "#2a3f5f",
             "gridcolor": "white",
             "linecolor": "white",
             "minorgridcolor": "white",
             "startlinecolor": "#2a3f5f"
            },
            "baxis": {
             "endlinecolor": "#2a3f5f",
             "gridcolor": "white",
             "linecolor": "white",
             "minorgridcolor": "white",
             "startlinecolor": "#2a3f5f"
            },
            "type": "carpet"
           }
          ],
          "choropleth": [
           {
            "colorbar": {
             "outlinewidth": 0,
             "ticks": ""
            },
            "type": "choropleth"
           }
          ],
          "contour": [
           {
            "colorbar": {
             "outlinewidth": 0,
             "ticks": ""
            },
            "colorscale": [
             [
              0,
              "#0d0887"
             ],
             [
              0.1111111111111111,
              "#46039f"
             ],
             [
              0.2222222222222222,
              "#7201a8"
             ],
             [
              0.3333333333333333,
              "#9c179e"
             ],
             [
              0.4444444444444444,
              "#bd3786"
             ],
             [
              0.5555555555555556,
              "#d8576b"
             ],
             [
              0.6666666666666666,
              "#ed7953"
             ],
             [
              0.7777777777777778,
              "#fb9f3a"
             ],
             [
              0.8888888888888888,
              "#fdca26"
             ],
             [
              1,
              "#f0f921"
             ]
            ],
            "type": "contour"
           }
          ],
          "contourcarpet": [
           {
            "colorbar": {
             "outlinewidth": 0,
             "ticks": ""
            },
            "type": "contourcarpet"
           }
          ],
          "heatmap": [
           {
            "colorbar": {
             "outlinewidth": 0,
             "ticks": ""
            },
            "colorscale": [
             [
              0,
              "#0d0887"
             ],
             [
              0.1111111111111111,
              "#46039f"
             ],
             [
              0.2222222222222222,
              "#7201a8"
             ],
             [
              0.3333333333333333,
              "#9c179e"
             ],
             [
              0.4444444444444444,
              "#bd3786"
             ],
             [
              0.5555555555555556,
              "#d8576b"
             ],
             [
              0.6666666666666666,
              "#ed7953"
             ],
             [
              0.7777777777777778,
              "#fb9f3a"
             ],
             [
              0.8888888888888888,
              "#fdca26"
             ],
             [
              1,
              "#f0f921"
             ]
            ],
            "type": "heatmap"
           }
          ],
          "heatmapgl": [
           {
            "colorbar": {
             "outlinewidth": 0,
             "ticks": ""
            },
            "colorscale": [
             [
              0,
              "#0d0887"
             ],
             [
              0.1111111111111111,
              "#46039f"
             ],
             [
              0.2222222222222222,
              "#7201a8"
             ],
             [
              0.3333333333333333,
              "#9c179e"
             ],
             [
              0.4444444444444444,
              "#bd3786"
             ],
             [
              0.5555555555555556,
              "#d8576b"
             ],
             [
              0.6666666666666666,
              "#ed7953"
             ],
             [
              0.7777777777777778,
              "#fb9f3a"
             ],
             [
              0.8888888888888888,
              "#fdca26"
             ],
             [
              1,
              "#f0f921"
             ]
            ],
            "type": "heatmapgl"
           }
          ],
          "histogram": [
           {
            "marker": {
             "pattern": {
              "fillmode": "overlay",
              "size": 10,
              "solidity": 0.2
             }
            },
            "type": "histogram"
           }
          ],
          "histogram2d": [
           {
            "colorbar": {
             "outlinewidth": 0,
             "ticks": ""
            },
            "colorscale": [
             [
              0,
              "#0d0887"
             ],
             [
              0.1111111111111111,
              "#46039f"
             ],
             [
              0.2222222222222222,
              "#7201a8"
             ],
             [
              0.3333333333333333,
              "#9c179e"
             ],
             [
              0.4444444444444444,
              "#bd3786"
             ],
             [
              0.5555555555555556,
              "#d8576b"
             ],
             [
              0.6666666666666666,
              "#ed7953"
             ],
             [
              0.7777777777777778,
              "#fb9f3a"
             ],
             [
              0.8888888888888888,
              "#fdca26"
             ],
             [
              1,
              "#f0f921"
             ]
            ],
            "type": "histogram2d"
           }
          ],
          "histogram2dcontour": [
           {
            "colorbar": {
             "outlinewidth": 0,
             "ticks": ""
            },
            "colorscale": [
             [
              0,
              "#0d0887"
             ],
             [
              0.1111111111111111,
              "#46039f"
             ],
             [
              0.2222222222222222,
              "#7201a8"
             ],
             [
              0.3333333333333333,
              "#9c179e"
             ],
             [
              0.4444444444444444,
              "#bd3786"
             ],
             [
              0.5555555555555556,
              "#d8576b"
             ],
             [
              0.6666666666666666,
              "#ed7953"
             ],
             [
              0.7777777777777778,
              "#fb9f3a"
             ],
             [
              0.8888888888888888,
              "#fdca26"
             ],
             [
              1,
              "#f0f921"
             ]
            ],
            "type": "histogram2dcontour"
           }
          ],
          "mesh3d": [
           {
            "colorbar": {
             "outlinewidth": 0,
             "ticks": ""
            },
            "type": "mesh3d"
           }
          ],
          "parcoords": [
           {
            "line": {
             "colorbar": {
              "outlinewidth": 0,
              "ticks": ""
             }
            },
            "type": "parcoords"
           }
          ],
          "pie": [
           {
            "automargin": true,
            "type": "pie"
           }
          ],
          "scatter": [
           {
            "fillpattern": {
             "fillmode": "overlay",
             "size": 10,
             "solidity": 0.2
            },
            "type": "scatter"
           }
          ],
          "scatter3d": [
           {
            "line": {
             "colorbar": {
              "outlinewidth": 0,
              "ticks": ""
             }
            },
            "marker": {
             "colorbar": {
              "outlinewidth": 0,
              "ticks": ""
             }
            },
            "type": "scatter3d"
           }
          ],
          "scattercarpet": [
           {
            "marker": {
             "colorbar": {
              "outlinewidth": 0,
              "ticks": ""
             }
            },
            "type": "scattercarpet"
           }
          ],
          "scattergeo": [
           {
            "marker": {
             "colorbar": {
              "outlinewidth": 0,
              "ticks": ""
             }
            },
            "type": "scattergeo"
           }
          ],
          "scattergl": [
           {
            "marker": {
             "colorbar": {
              "outlinewidth": 0,
              "ticks": ""
             }
            },
            "type": "scattergl"
           }
          ],
          "scattermapbox": [
           {
            "marker": {
             "colorbar": {
              "outlinewidth": 0,
              "ticks": ""
             }
            },
            "type": "scattermapbox"
           }
          ],
          "scatterpolar": [
           {
            "marker": {
             "colorbar": {
              "outlinewidth": 0,
              "ticks": ""
             }
            },
            "type": "scatterpolar"
           }
          ],
          "scatterpolargl": [
           {
            "marker": {
             "colorbar": {
              "outlinewidth": 0,
              "ticks": ""
             }
            },
            "type": "scatterpolargl"
           }
          ],
          "scatterternary": [
           {
            "marker": {
             "colorbar": {
              "outlinewidth": 0,
              "ticks": ""
             }
            },
            "type": "scatterternary"
           }
          ],
          "surface": [
           {
            "colorbar": {
             "outlinewidth": 0,
             "ticks": ""
            },
            "colorscale": [
             [
              0,
              "#0d0887"
             ],
             [
              0.1111111111111111,
              "#46039f"
             ],
             [
              0.2222222222222222,
              "#7201a8"
             ],
             [
              0.3333333333333333,
              "#9c179e"
             ],
             [
              0.4444444444444444,
              "#bd3786"
             ],
             [
              0.5555555555555556,
              "#d8576b"
             ],
             [
              0.6666666666666666,
              "#ed7953"
             ],
             [
              0.7777777777777778,
              "#fb9f3a"
             ],
             [
              0.8888888888888888,
              "#fdca26"
             ],
             [
              1,
              "#f0f921"
             ]
            ],
            "type": "surface"
           }
          ],
          "table": [
           {
            "cells": {
             "fill": {
              "color": "#EBF0F8"
             },
             "line": {
              "color": "white"
             }
            },
            "header": {
             "fill": {
              "color": "#C8D4E3"
             },
             "line": {
              "color": "white"
             }
            },
            "type": "table"
           }
          ]
         },
         "layout": {
          "annotationdefaults": {
           "arrowcolor": "#2a3f5f",
           "arrowhead": 0,
           "arrowwidth": 1
          },
          "autotypenumbers": "strict",
          "coloraxis": {
           "colorbar": {
            "outlinewidth": 0,
            "ticks": ""
           }
          },
          "colorscale": {
           "diverging": [
            [
             0,
             "#8e0152"
            ],
            [
             0.1,
             "#c51b7d"
            ],
            [
             0.2,
             "#de77ae"
            ],
            [
             0.3,
             "#f1b6da"
            ],
            [
             0.4,
             "#fde0ef"
            ],
            [
             0.5,
             "#f7f7f7"
            ],
            [
             0.6,
             "#e6f5d0"
            ],
            [
             0.7,
             "#b8e186"
            ],
            [
             0.8,
             "#7fbc41"
            ],
            [
             0.9,
             "#4d9221"
            ],
            [
             1,
             "#276419"
            ]
           ],
           "sequential": [
            [
             0,
             "#0d0887"
            ],
            [
             0.1111111111111111,
             "#46039f"
            ],
            [
             0.2222222222222222,
             "#7201a8"
            ],
            [
             0.3333333333333333,
             "#9c179e"
            ],
            [
             0.4444444444444444,
             "#bd3786"
            ],
            [
             0.5555555555555556,
             "#d8576b"
            ],
            [
             0.6666666666666666,
             "#ed7953"
            ],
            [
             0.7777777777777778,
             "#fb9f3a"
            ],
            [
             0.8888888888888888,
             "#fdca26"
            ],
            [
             1,
             "#f0f921"
            ]
           ],
           "sequentialminus": [
            [
             0,
             "#0d0887"
            ],
            [
             0.1111111111111111,
             "#46039f"
            ],
            [
             0.2222222222222222,
             "#7201a8"
            ],
            [
             0.3333333333333333,
             "#9c179e"
            ],
            [
             0.4444444444444444,
             "#bd3786"
            ],
            [
             0.5555555555555556,
             "#d8576b"
            ],
            [
             0.6666666666666666,
             "#ed7953"
            ],
            [
             0.7777777777777778,
             "#fb9f3a"
            ],
            [
             0.8888888888888888,
             "#fdca26"
            ],
            [
             1,
             "#f0f921"
            ]
           ]
          },
          "colorway": [
           "#636efa",
           "#EF553B",
           "#00cc96",
           "#ab63fa",
           "#FFA15A",
           "#19d3f3",
           "#FF6692",
           "#B6E880",
           "#FF97FF",
           "#FECB52"
          ],
          "font": {
           "color": "#2a3f5f"
          },
          "geo": {
           "bgcolor": "white",
           "lakecolor": "white",
           "landcolor": "#E5ECF6",
           "showlakes": true,
           "showland": true,
           "subunitcolor": "white"
          },
          "hoverlabel": {
           "align": "left"
          },
          "hovermode": "closest",
          "mapbox": {
           "style": "light"
          },
          "paper_bgcolor": "white",
          "plot_bgcolor": "#E5ECF6",
          "polar": {
           "angularaxis": {
            "gridcolor": "white",
            "linecolor": "white",
            "ticks": ""
           },
           "bgcolor": "#E5ECF6",
           "radialaxis": {
            "gridcolor": "white",
            "linecolor": "white",
            "ticks": ""
           }
          },
          "scene": {
           "xaxis": {
            "backgroundcolor": "#E5ECF6",
            "gridcolor": "white",
            "gridwidth": 2,
            "linecolor": "white",
            "showbackground": true,
            "ticks": "",
            "zerolinecolor": "white"
           },
           "yaxis": {
            "backgroundcolor": "#E5ECF6",
            "gridcolor": "white",
            "gridwidth": 2,
            "linecolor": "white",
            "showbackground": true,
            "ticks": "",
            "zerolinecolor": "white"
           },
           "zaxis": {
            "backgroundcolor": "#E5ECF6",
            "gridcolor": "white",
            "gridwidth": 2,
            "linecolor": "white",
            "showbackground": true,
            "ticks": "",
            "zerolinecolor": "white"
           }
          },
          "shapedefaults": {
           "line": {
            "color": "#2a3f5f"
           }
          },
          "ternary": {
           "aaxis": {
            "gridcolor": "white",
            "linecolor": "white",
            "ticks": ""
           },
           "baxis": {
            "gridcolor": "white",
            "linecolor": "white",
            "ticks": ""
           },
           "bgcolor": "#E5ECF6",
           "caxis": {
            "gridcolor": "white",
            "linecolor": "white",
            "ticks": ""
           }
          },
          "title": {
           "x": 0.05
          },
          "xaxis": {
           "automargin": true,
           "gridcolor": "white",
           "linecolor": "white",
           "ticks": "",
           "title": {
            "standoff": 15
           },
           "zerolinecolor": "white",
           "zerolinewidth": 2
          },
          "yaxis": {
           "automargin": true,
           "gridcolor": "white",
           "linecolor": "white",
           "ticks": "",
           "title": {
            "standoff": 15
           },
           "zerolinecolor": "white",
           "zerolinewidth": 2
          }
         }
        },
        "title": {
         "text": "Confusion Matrix",
         "x": 0.7,
         "xref": "paper",
         "y": 0.97
        },
        "width": 700,
        "xaxis": {
         "tickangle": -30,
         "title": {
          "text": "Predicted class"
         }
        },
        "yaxis": {
         "autorange": "reversed",
         "title": {
          "text": "True class"
         }
        }
       }
      },
      "image/png": "[encoded data removed]"
     },
     "metadata": {},
     "output_type": "display_data"
    }
   ],
   "source": [
    "# NOTE: 0_accepted is absent from \"cards_pred\" in the records we labelled in the Excel file\n",
    "evaluation_report(df_test[\"cards_true\"], df_test[\"cards_pred\"])"
   ]
  },
  {
   "cell_type": "markdown",
   "metadata": {},
   "source": [
    "## Save the transcripts as our Mediatree benchmark\n"
   ]
  },
  {
   "cell_type": "code",
   "execution_count": 10,
   "metadata": {},
   "outputs": [],
   "source": [
    "df_train.drop(columns=\"cards_pred\").to_csv(\"../../data/benchmark/mediatree_train.csv\")\n",
    "df_test.drop(columns=\"cards_pred\").to_csv(\"../../data/benchmark/mediatree_test.csv\")"
   ]
  }
 ],
 "metadata": {
  "kernelspec": {
   "display_name": ".venv",
   "language": "python",
   "name": "python3"
  },
  "language_info": {
   "codemirror_mode": {
    "name": "ipython",
    "version": 3
   },
   "file_extension": ".py",
   "mimetype": "text/x-python",
   "name": "python",
   "nbconvert_exporter": "python",
   "pygments_lexer": "ipython3",
   "version": "3.12.7"
  }
 },
 "nbformat": 4,
 "nbformat_minor": 2
}
