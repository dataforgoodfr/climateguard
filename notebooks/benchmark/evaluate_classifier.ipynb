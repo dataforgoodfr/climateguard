{
 "cells": [
  {
   "cell_type": "markdown",
   "metadata": {},
   "source": [
    "### Set up an evaluation script with a random classifier #8\n",
    "\n",
    "Create a script that:\n",
    "\n",
    "- Loads the dataset from `Initialize a dataset to evaluate the detection pipeline` #6\n",
    "- Loads the predictions from a random classifier to classify claims using the taxonomy from `Define our contrarian claims taxonomy` #7\n",
    "- Generates a text classification report\n",
    "- Generates a confusion matrix plot"
   ]
  },
  {
   "cell_type": "code",
   "execution_count": 1,
   "metadata": {},
   "outputs": [],
   "source": [
    "import pandas as pd\n",
    "from pydantic import BaseModel, ValidationError, conlist\n",
    "from typing import List\n",
    "from sklearn.metrics import classification_report, confusion_matrix\n",
    "import matplotlib.pyplot as plt\n",
    "import seaborn as sns"
   ]
  },
  {
   "cell_type": "code",
   "execution_count": 2,
   "metadata": {},
   "outputs": [],
   "source": [
    "class EvaluateClassifier:\n",
    "\n",
    "    def __init__(self, classifier):\n",
    "        \"\"\"\n",
    "        Initialize the class with a fitted classifier passed as an argument.\n",
    "        :param classifier: A classification model taking a serie of claims as input \n",
    "        \"\"\"\n",
    "        self.classifier = classifier\n",
    "        self._validate_classifier_input()\n",
    "\n",
    "    def _validate_classifier_input(self):\n",
    "        \"\"\"\n",
    "        Validate that the classifier's `predict` method can accept a list of strings as input.\n",
    "        \"\"\"\n",
    "        try:\n",
    "            # Sample input to test if the classifier accepts a list of strings\n",
    "            sample_input = [\"sample claim 1\", \"sample claim 2\"]\n",
    "            self.classifier.predict(sample_input)\n",
    "        except Exception as e:\n",
    "            raise ValueError(\"The classifier's `predict` method must accept a list of strings as input. \"\n",
    "                             \"Ensure the classifier is compatible with text data.\") from e\n",
    "    \n",
    "    def load_data(self, file_path):\n",
    "        \"\"\"\n",
    "        Load data from a csv file.\n",
    "\n",
    "        :param file_path: Path to the Excel file containing the data\n",
    "        :return: DataFrame with the loaded data\n",
    "        \"\"\"\n",
    "        benchmark = pd.read_csv(file_path, sheet_name=\"benchmark\")\n",
    "        if 'claim' not in benchmark.columns or 'label' not in benchmark.columns:\n",
    "            raise ValueError(\"Columns 'claim' and 'label' must be present in the benchmark\")\n",
    "        return benchmark\n",
    "    \n",
    "    def predict(self, benchmark):\n",
    "        \"\"\"\n",
    "        Predict classes on the benchmark.\n",
    "\n",
    "        :param X_test: Test features\n",
    "        :return: Classifier predictions\n",
    "        \"\"\"\n",
    "        claims = benchmark['claim']\n",
    "        return self.classifier.predict(claims)\n",
    "    \n",
    "    def generate_classification_report(self, benchmark, y_pred):\n",
    "        \"\"\"\n",
    "        Generate a classification report.\n",
    "\n",
    "        :param y_test: True labels\n",
    "        :param y_pred: Predictions\n",
    "        :return: DataFrame of the classification report\n",
    "        \"\"\"\n",
    "        report = classification_report(benchmark['label'], y_pred, output_dict=True)\n",
    "        report_df = pd.DataFrame(report).transpose()\n",
    "        print(\"Classification Report:\\n\", report_df)\n",
    "        return report_df\n",
    "\n",
    "    def plot_confusion_matrix(self, y, y_pred, labels):\n",
    "        \"\"\"\n",
    "        Generate and display a confusion matrix.\n",
    "\n",
    "        :param y_test: True labels\n",
    "        :param y_pred: Predictions\n",
    "        :param categories: List of classification categories\n",
    "        \"\"\"\n",
    "        cm = confusion_matrix(y, y_pred, labels=labels)\n",
    "        plt.figure(figsize=(8, 6))\n",
    "        sns.heatmap(cm, annot=True, fmt='d', cmap='Blues', xticklabels=labels, yticklabels=labels)\n",
    "        plt.xlabel(\"Predicted Categories\")\n",
    "        plt.ylabel(\"True Categories\")\n",
    "        plt.title(\"Confusion Matrix\")\n",
    "        plt.show()\n",
    "\n",
    "    def evaluate(self, file_path):\n",
    "        \"\"\"\n",
    "        Run the complete evaluation: loading benchmark, predicting  with classifier, and evaluating.\n",
    "\n",
    "        :param file_path: Path to the csv file containing the benchmark\n",
    "        \"\"\"\n",
    "        # Load the data\n",
    "        benchmark = self.load_data(file_path)\n",
    "        y = benchmark['label']\n",
    "\n",
    "        # Predict\n",
    "        y_pred = self.predict(benchmark)\n",
    "        labels = self.unique(self.y)\n",
    "\n",
    "        # Generate the classification report\n",
    "        self.generate_classification_report(y, y_pred)\n",
    "\n",
    "        # Generate and display the confusion matrix\n",
    "        self.plot_confusion_matrix(y, y_pred, labels)\n"
   ]
  },
  {
   "cell_type": "markdown",
   "metadata": {},
   "source": [
    "### Test with a random classifier"
   ]
  },
  {
   "cell_type": "code",
   "execution_count": 3,
   "metadata": {},
   "outputs": [],
   "source": [
    "benchmark_path = \"../data/benchmark/cards_sample_1000.csv\""
   ]
  }
 ],
 "metadata": {
  "kernelspec": {
   "display_name": ".venv",
   "language": "python",
   "name": "python3"
  },
  "language_info": {
   "codemirror_mode": {
    "name": "ipython",
    "version": 3
   },
   "file_extension": ".py",
   "mimetype": "text/x-python",
   "name": "python",
   "nbconvert_exporter": "python",
   "pygments_lexer": "ipython3",
   "version": "3.12.7"
  }
 },
 "nbformat": 4,
 "nbformat_minor": 2
}
