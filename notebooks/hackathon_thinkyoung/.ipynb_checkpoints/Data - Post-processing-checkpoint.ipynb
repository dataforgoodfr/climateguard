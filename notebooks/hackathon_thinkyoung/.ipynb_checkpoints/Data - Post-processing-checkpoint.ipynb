{
 "cells": [
  {
   "cell_type": "markdown",
   "id": "72054664-a3f2-4c71-a0fe-0cc726922d03",
   "metadata": {},
   "source": [
    "- https://huggingface.co/oliverguhr/fullstop-punctuation-multilang-large\n",
    "- https://huggingface.co/HuggingFaceTB/SmolLM-360M-Instruct\n",
    "- "
   ]
  },
  {
   "cell_type": "markdown",
   "id": "db57a230-aa00-42f4-9b89-f511fe2a8ed2",
   "metadata": {},
   "source": [
    "# Repunctuation"
   ]
  },
  {
   "cell_type": "code",
   "execution_count": 2,
   "id": "b1d70bee-8d36-4d27-bd94-5772ae5e4a09",
   "metadata": {},
   "outputs": [
    {
     "name": "stdout",
     "output_type": "stream",
     "text": [
      "aiohappyeyeballs==2.4.0\n",
      "aiohttp==3.10.5\n",
      "aiosignal==1.3.1\n",
      "annotated-types==0.7.0\n",
      "anyio==4.3.0\n",
      "archspec @ file:///croot/archspec_1697725767277/work\n",
      "argon2-cffi==23.1.0\n",
      "argon2-cffi-bindings==21.2.0\n",
      "arrow==1.3.0\n",
      "asttokens==2.4.1\n",
      "async-lru==2.0.4\n",
      "attrs==23.2.0\n",
      "Babel==2.15.0\n",
      "beautifulsoup4==4.12.3\n",
      "bleach==6.1.0\n",
      "boltons @ file:///work/perseverance-python-buildout/croot/boltons_1698851177130/work\n",
      "Brotli @ file:///work/perseverance-python-buildout/croot/brotli-split_1698805593785/work\n",
      "certifi @ file:///croot/certifi_1707229174982/work/certifi\n",
      "cffi @ file:///croot/cffi_1700254295673/work\n",
      "charset-normalizer @ file:///tmp/build/80754af9/charset-normalizer_1630003229654/work\n",
      "comm==0.2.2\n",
      "conda @ file:///croot/conda_1708369113911/work\n",
      "conda-content-trust @ file:///work/perseverance-python-buildout/croot/conda-content-trust_1698882886606/work\n",
      "conda-libmamba-solver @ file:///croot/conda-libmamba-solver_1702997573971/work/src\n",
      "conda-package-handling @ file:///work/perseverance-python-buildout/croot/conda-package-handling_1698851267218/work\n",
      "conda_package_streaming @ file:///work/perseverance-python-buildout/croot/conda-package-streaming_1698847176583/work\n",
      "contourpy==1.2.1\n",
      "cryptography @ file:///croot/cryptography_1702070282333/work\n",
      "cycler==0.12.1\n",
      "debugpy==1.8.1\n",
      "decorator==5.1.1\n",
      "deepmultilingualpunctuation==1.0.1\n",
      "defusedxml==0.7.1\n",
      "distro @ file:///work/perseverance-python-buildout/croot/distro_1701732366176/work\n",
      "executing==2.0.1\n",
      "fastjsonschema==2.19.1\n",
      "feedparser==6.0.11\n",
      "filelock==3.16.0\n",
      "fonttools==4.51.0\n",
      "fqdn==1.5.1\n",
      "frozenlist==1.4.1\n",
      "fsspec==2024.9.0\n",
      "greenlet==3.1.0\n",
      "h11==0.14.0\n",
      "httpcore==1.0.5\n",
      "httpx==0.27.0\n",
      "huggingface-hub==0.24.7\n",
      "idna @ file:///work/perseverance-python-buildout/croot/idna_1698845632828/work\n",
      "ipykernel==6.29.4\n",
      "ipython==8.24.0\n",
      "ipywidgets==8.1.2\n",
      "isoduration==20.11.0\n",
      "jedi==0.19.1\n",
      "Jinja2==3.1.4\n",
      "json5==0.9.25\n",
      "jsonpatch==1.33\n",
      "jsonpointer==2.1\n",
      "jsonschema==4.22.0\n",
      "jsonschema-specifications==2023.12.1\n",
      "jupyter==1.0.0\n",
      "jupyter-console==6.6.3\n",
      "jupyter-events==0.10.0\n",
      "jupyter-lsp==2.2.5\n",
      "jupyter_client==8.6.1\n",
      "jupyter_core==5.7.2\n",
      "jupyter_server==2.14.0\n",
      "jupyter_server_terminals==0.5.3\n",
      "jupyterlab==4.2.0\n",
      "jupyterlab_pygments==0.3.0\n",
      "jupyterlab_server==2.27.1\n",
      "jupyterlab_widgets==3.0.10\n",
      "kiwisolver==1.4.5\n",
      "lab==8.2\n",
      "langchain==0.2.16\n",
      "langchain-core==0.2.39\n",
      "langchain-text-splitters==0.2.4\n",
      "langsmith==0.1.120\n",
      "libmambapy @ file:///work/perseverance-python-buildout/croot/mamba-split_1701744133524/work/libmambapy\n",
      "MarkupSafe==2.1.5\n",
      "matplotlib==3.9.0\n",
      "matplotlib-inline==0.1.7\n",
      "menuinst @ file:///croot/menuinst_1706732933928/work\n",
      "mistune==3.0.2\n",
      "mpmath==1.3.0\n",
      "multidict==6.1.0\n",
      "nbclient==0.10.0\n",
      "nbconvert==7.16.4\n",
      "nbformat==5.10.4\n",
      "nest-asyncio==1.6.0\n",
      "networkx==3.3\n",
      "notebook==7.2.0\n",
      "notebook_shim==0.2.4\n",
      "numpy==1.26.4\n",
      "nvidia-cublas-cu12==12.1.3.1\n",
      "nvidia-cuda-cupti-cu12==12.1.105\n",
      "nvidia-cuda-nvrtc-cu12==12.1.105\n",
      "nvidia-cuda-runtime-cu12==12.1.105\n",
      "nvidia-cudnn-cu12==9.1.0.70\n",
      "nvidia-cufft-cu12==11.0.2.54\n",
      "nvidia-curand-cu12==10.3.2.106\n",
      "nvidia-cusolver-cu12==11.4.5.107\n",
      "nvidia-cusparse-cu12==12.1.0.106\n",
      "nvidia-nccl-cu12==2.20.5\n",
      "nvidia-nvjitlink-cu12==12.6.68\n",
      "nvidia-nvtx-cu12==12.1.105\n",
      "orjson==3.10.7\n",
      "overrides==7.7.0\n",
      "packaging==24.1\n",
      "pandocfilters==1.5.1\n",
      "parso==0.8.4\n",
      "pexpect==4.9.0\n",
      "pillow==10.3.0\n",
      "platformdirs @ file:///work/perseverance-python-buildout/croot/platformdirs_1701732573265/work\n",
      "pluggy @ file:///work/perseverance-python-buildout/croot/pluggy_1698805497733/work\n",
      "prometheus_client==0.20.0\n",
      "prompt-toolkit==3.0.43\n",
      "psutil==5.9.8\n",
      "ptyprocess==0.7.0\n",
      "pure-eval==0.2.2\n",
      "pycosat @ file:///work/perseverance-python-buildout/croot/pycosat_1698863456259/work\n",
      "pycparser @ file:///tmp/build/80754af9/pycparser_1636541352034/work\n",
      "pydantic==2.9.1\n",
      "pydantic_core==2.23.3\n",
      "Pygments==2.18.0\n",
      "pyparsing==3.1.2\n",
      "PySocks @ file:///work/perseverance-python-buildout/croot/pysocks_1698845478203/work\n",
      "python-dateutil==2.9.0.post0\n",
      "python-json-logger==2.0.7\n",
      "PyYAML==6.0.1\n",
      "pyzmq==26.0.3\n",
      "qtconsole==5.5.2\n",
      "QtPy==2.4.1\n",
      "referencing==0.35.1\n",
      "regex==2024.9.11\n",
      "requests @ file:///croot/requests_1707355572290/work\n",
      "rfc3339-validator==0.1.4\n",
      "rfc3986-validator==0.1.1\n",
      "rpds-py==0.18.1\n",
      "ruamel.yaml @ file:///work/perseverance-python-buildout/croot/ruamel.yaml_1698863605521/work\n",
      "safetensors==0.4.5\n",
      "Send2Trash==1.8.3\n",
      "setuptools==68.2.2\n",
      "sgmllib3k==1.0.0\n",
      "simplejson==3.19.2\n",
      "six==1.16.0\n",
      "sniffio==1.3.1\n",
      "soupsieve==2.5\n",
      "SQLAlchemy==2.0.34\n",
      "stack-data==0.6.3\n",
      "sympy==1.13.2\n",
      "tenacity==8.5.0\n",
      "terminado==0.18.1\n",
      "tinycss2==1.3.0\n",
      "tokenizers==0.19.1\n",
      "torch==2.4.1\n",
      "tornado==6.4\n",
      "tqdm @ file:///work/perseverance-python-buildout/croot/tqdm_1701735729845/work\n",
      "traitlets==5.14.3\n",
      "transformers==4.44.2\n",
      "triton==3.0.0\n",
      "truststore @ file:///work/perseverance-python-buildout/croot/truststore_1701735771625/work\n",
      "txt2tags==3.9\n",
      "types-python-dateutil==2.9.0.20240316\n",
      "typing_extensions==4.12.2\n",
      "uri-template==1.3.0\n",
      "urllib3 @ file:///croot/urllib3_1707770551213/work\n",
      "wcwidth==0.2.13\n",
      "webcolors==1.13\n",
      "webencodings==0.5.1\n",
      "websocket-client==1.8.0\n",
      "wheel==0.41.2\n",
      "widgetsnbextension==4.0.10\n",
      "yarl==1.11.1\n",
      "zstandard @ file:///work/perseverance-python-buildout/croot/zstandard_1698847073368/work\n"
     ]
    }
   ],
   "source": [
    "!pip freeze"
   ]
  },
  {
   "cell_type": "code",
   "execution_count": 1,
   "id": "190b5199-0d4a-46d3-b461-1c8467a41af4",
   "metadata": {},
   "outputs": [
    {
     "ename": "ModuleNotFoundError",
     "evalue": "No module named 'deepmultilingualpunctuation'",
     "output_type": "error",
     "traceback": [
      "\u001b[0;31m---------------------------------------------------------------------------\u001b[0m",
      "\u001b[0;31mModuleNotFoundError\u001b[0m                       Traceback (most recent call last)",
      "\u001b[0;32m/tmp/ipykernel_4068/2157375914.py\u001b[0m in \u001b[0;36m<module>\u001b[0;34m\u001b[0m\n\u001b[0;32m----> 1\u001b[0;31m \u001b[0;32mfrom\u001b[0m \u001b[0mdeepmultilingualpunctuation\u001b[0m \u001b[0;32mimport\u001b[0m \u001b[0mPunctuationModel\u001b[0m\u001b[0;34m\u001b[0m\u001b[0;34m\u001b[0m\u001b[0m\n\u001b[0m\u001b[1;32m      2\u001b[0m \u001b[0;34m\u001b[0m\u001b[0m\n\u001b[1;32m      3\u001b[0m \u001b[0mmodel\u001b[0m \u001b[0;34m=\u001b[0m \u001b[0mPunctuationModel\u001b[0m\u001b[0;34m(\u001b[0m\u001b[0;34m)\u001b[0m\u001b[0;34m\u001b[0m\u001b[0;34m\u001b[0m\u001b[0m\n\u001b[1;32m      4\u001b[0m \u001b[0mtext\u001b[0m \u001b[0;34m=\u001b[0m \u001b[0;34m\"My name is Clara and I live in Berkeley California Ist das eine Frage Frau Müller\"\u001b[0m\u001b[0;34m\u001b[0m\u001b[0;34m\u001b[0m\u001b[0m\n\u001b[1;32m      5\u001b[0m \u001b[0mresult\u001b[0m \u001b[0;34m=\u001b[0m \u001b[0mmodel\u001b[0m\u001b[0;34m.\u001b[0m\u001b[0mrestore_punctuation\u001b[0m\u001b[0;34m(\u001b[0m\u001b[0mtext\u001b[0m\u001b[0;34m)\u001b[0m\u001b[0;34m\u001b[0m\u001b[0;34m\u001b[0m\u001b[0m\n",
      "\u001b[0;31mModuleNotFoundError\u001b[0m: No module named 'deepmultilingualpunctuation'"
     ]
    }
   ],
   "source": [
    "from deepmultilingualpunctuation import PunctuationModel\n",
    "\n",
    "model = PunctuationModel()\n",
    "text = \"My name is Clara and I live in Berkeley California Ist das eine Frage Frau Müller\"\n",
    "result = model.restore_punctuation(text)\n",
    "print(result)"
   ]
  },
  {
   "cell_type": "code",
   "execution_count": null,
   "id": "9abe93f6-3e01-4644-87e4-bca284c0a7e7",
   "metadata": {},
   "outputs": [],
   "source": []
  },
  {
   "cell_type": "code",
   "execution_count": 2,
   "id": "135902e5-894c-4cc6-99ef-24a230d2794e",
   "metadata": {},
   "outputs": [
    {
     "ename": "ModuleNotFoundError",
     "evalue": "No module named 'transformers'",
     "output_type": "error",
     "traceback": [
      "\u001b[0;31m---------------------------------------------------------------------------\u001b[0m",
      "\u001b[0;31mModuleNotFoundError\u001b[0m                       Traceback (most recent call last)",
      "\u001b[0;32m/tmp/ipykernel_2926/297296921.py\u001b[0m in \u001b[0;36m<module>\u001b[0;34m\u001b[0m\n\u001b[1;32m      1\u001b[0m \u001b[0;31m# pip install transformers\u001b[0m\u001b[0;34m\u001b[0m\u001b[0;34m\u001b[0m\u001b[0m\n\u001b[0;32m----> 2\u001b[0;31m \u001b[0;32mfrom\u001b[0m \u001b[0mtransformers\u001b[0m \u001b[0;32mimport\u001b[0m \u001b[0mAutoModelForCausalLM\u001b[0m\u001b[0;34m,\u001b[0m \u001b[0mAutoTokenizer\u001b[0m\u001b[0;34m\u001b[0m\u001b[0;34m\u001b[0m\u001b[0m\n\u001b[0m\u001b[1;32m      3\u001b[0m \u001b[0mcheckpoint\u001b[0m \u001b[0;34m=\u001b[0m \u001b[0;34m\"HuggingFaceTB/SmolLM-360M-Instruct\"\u001b[0m\u001b[0;34m\u001b[0m\u001b[0;34m\u001b[0m\u001b[0m\n\u001b[1;32m      4\u001b[0m \u001b[0;34m\u001b[0m\u001b[0m\n\u001b[1;32m      5\u001b[0m \u001b[0mdevice\u001b[0m \u001b[0;34m=\u001b[0m \u001b[0;34m\"cpu\"\u001b[0m \u001b[0;31m# for GPU usage or \"cpu\" for CPU usage\u001b[0m\u001b[0;34m\u001b[0m\u001b[0;34m\u001b[0m\u001b[0m\n",
      "\u001b[0;31mModuleNotFoundError\u001b[0m: No module named 'transformers'"
     ]
    }
   ],
   "source": [
    "# pip install transformers\n",
    "from transformers import AutoModelForCausalLM, AutoTokenizer\n",
    "checkpoint = \"HuggingFaceTB/SmolLM-360M-Instruct\"\n",
    "\n",
    "device = \"cpu\" # for GPU usage or \"cpu\" for CPU usage\n",
    "tokenizer = AutoTokenizer.from_pretrained(checkpoint)\n",
    "# for multiple GPUs install accelerate and do `model = AutoModelForCausalLM.from_pretrained(checkpoint, device_map=\"auto\")`\n",
    "model = AutoModelForCausalLM.from_pretrained(checkpoint).to(device)\n",
    "\n",
    "messages = [{\"role\": \"user\", \"content\": \"What is the capital of France.\"}]\n",
    "input_text=tokenizer.apply_chat_template(messages, tokenize=False)\n",
    "print(input_text)\n",
    "inputs = tokenizer.encode(input_text, return_tensors=\"pt\").to(device)\n",
    "outputs = model.generate(inputs, max_new_tokens=50, temperature=0.2, top_p=0.9, do_sample=True)\n",
    "print(tokenizer.decode(outputs[0]))"
   ]
  },
  {
   "cell_type": "code",
   "execution_count": 3,
   "id": "12589881-7064-4202-a2cb-c9f4035125f1",
   "metadata": {},
   "outputs": [],
   "source": [
    "sample_text = \"\"\"\n",
    "\"est il est à peu près une heure et demie sur la côte est des etats-unis ont rejoint elisabeth guédel notre correspondant re bonjour elisabeth on imagine l' état de sidération au jeu à l' heure où je où on se parle des américains en pleine nuit aux etats-unis mais les américains se sont couchées avec ces images convoi en boucle de sept de cet ancien président le candidat républicain donald trump interrompue en plein meeting par des coups de feu se mettre la main droite sur l' oreille l' droite oreille manifestement droite surpris manifestement il amal et s' écrouler c' est effectivement ce sont des images qui passent en boucle vont se réveiller les américains avec ses images puissent cette grande question comment c' est seulement possible que quelqu' un ait pu comme ça armés montés sur un bâtiment tout près du lieu de meeting juste à côté du périmètre de <unk> sécurité et échapper complètement aux agents du service non seulement donald trump est un candidat à la présidentielle s' est déjà très protéger il protéger y il a y vraiment a vraiment beaucoup beaucoup de protection mais c' est un ancien président des etats-unis il a encore plus de protection avec le site press service et donc beaucoup de questions évidemment tourne autour de comment cet homme a pu échapper montée sur trois vraiment c' est le premier bâtiment juste sur la droite du podium de donald trump à l' extérieur des <unk> barrière de périmètre de sécurité du meeting mais vraiment juste à côté c' est vraiment les élus du congrès républicains ont déjà dit qu' ils allaient ouvrir leur propre enquête beaucoup merci euh beaucoup elisabeth euh guédel elisabeth c' guédel est c' vrai est il y vrai a beaucoup d' interrogations sur la façon avec laquelle ce tireur a pu se placer sur ce bâtiment qui était à proximité du meeting de donald trump les questions ne font que commencer on l' a bien compris de l' autre côté de l' atlantique il est quasiment sept heures trente si vous nous rejoignez vous avez dit couvrir cette photo qui va rentrer dans les livres d' histoire donald trump le poing levé le visage ensanglanté entouré par le secret service avec en fond le drapeau américain\"\n",
    "\"\"\""
   ]
  },
  {
   "cell_type": "code",
   "execution_count": 4,
   "id": "892182fe-f946-4204-a32e-22ce285d7baa",
   "metadata": {},
   "outputs": [],
   "source": [
    "from dotenv import load_dotenv"
   ]
  },
  {
   "cell_type": "code",
   "execution_count": 5,
   "id": "1862b694-41ec-4dbd-950f-08d815d90dc1",
   "metadata": {},
   "outputs": [
    {
     "data": {
      "text/plain": [
       "True"
      ]
     },
     "execution_count": 5,
     "metadata": {},
     "output_type": "execute_result"
    }
   ],
   "source": [
    "load_dotenv()"
   ]
  },
  {
   "cell_type": "code",
   "execution_count": 6,
   "id": "f3c291ba-1d95-472d-a105-7e9772a991ad",
   "metadata": {},
   "outputs": [],
   "source": [
    "from langchain_google_genai import ChatGoogleGenerativeAI\n",
    "\n",
    "llm = ChatGoogleGenerativeAI(\n",
    "    model=\"gemini-1.5-pro\",\n",
    "    temperature=0,\n",
    "    max_tokens=None,\n",
    "    timeout=None,\n",
    "    max_retries=2,\n",
    "    # other params...\n",
    ")"
   ]
  },
  {
   "cell_type": "code",
   "execution_count": null,
   "id": "4950b12e-d547-4451-bf53-e467013362ea",
   "metadata": {},
   "outputs": [],
   "source": []
  }
 ],
 "metadata": {
  "kernelspec": {
   "display_name": "Python 3 (ipykernel)",
   "language": "python",
   "name": "python3"
  },
  "language_info": {
   "codemirror_mode": {
    "name": "ipython",
    "version": 3
   },
   "file_extension": ".py",
   "mimetype": "text/x-python",
   "name": "python",
   "nbconvert_exporter": "python",
   "pygments_lexer": "ipython3",
   "version": "3.10.12"
  }
 },
 "nbformat": 4,
 "nbformat_minor": 5
}
