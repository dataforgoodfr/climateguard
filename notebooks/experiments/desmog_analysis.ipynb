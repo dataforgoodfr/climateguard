{
 "cells": [
  {
   "cell_type": "code",
   "execution_count": 5,
   "metadata": {},
   "outputs": [
    {
     "data": {
      "text/html": [
       "<div>\n",
       "<style scoped>\n",
       "    .dataframe tbody tr th:only-of-type {\n",
       "        vertical-align: middle;\n",
       "    }\n",
       "\n",
       "    .dataframe tbody tr th {\n",
       "        vertical-align: top;\n",
       "    }\n",
       "\n",
       "    .dataframe thead th {\n",
       "        text-align: right;\n",
       "    }\n",
       "</style>\n",
       "<table border=\"1\" class=\"dataframe\">\n",
       "  <thead>\n",
       "    <tr style=\"text-align: right;\">\n",
       "      <th></th>\n",
       "      <th>name</th>\n",
       "      <th>countries</th>\n",
       "      <th>item_type</th>\n",
       "      <th>url</th>\n",
       "      <th>section_source</th>\n",
       "      <th>label_raw</th>\n",
       "      <th>label</th>\n",
       "      <th>quote</th>\n",
       "      <th>word_count</th>\n",
       "      <th>is_full</th>\n",
       "      <th>human_label</th>\n",
       "    </tr>\n",
       "  </thead>\n",
       "  <tbody>\n",
       "    <tr>\n",
       "      <th>0</th>\n",
       "      <td>Andrew Coyne</td>\n",
       "      <td>['Canada']</td>\n",
       "      <td>individual</td>\n",
       "      <td>https://www.desmog.com/andrew-coyne/</td>\n",
       "      <td>stance_quotes</td>\n",
       "      <td>0_accepted</td>\n",
       "      <td>0_accepted</td>\n",
       "      <td>But so what? It is not necessary to believe th...</td>\n",
       "      <td>90</td>\n",
       "      <td>True</td>\n",
       "      <td>0</td>\n",
       "    </tr>\n",
       "    <tr>\n",
       "      <th>1</th>\n",
       "      <td>Lee Anderson</td>\n",
       "      <td>['United Kingdom']</td>\n",
       "      <td>individual</td>\n",
       "      <td>https://www.desmog.com/lee-anderson/</td>\n",
       "      <td>key_quotes</td>\n",
       "      <td>0_accepted</td>\n",
       "      <td>0_accepted</td>\n",
       "      <td>It’s got to be heat. You can live longer witho...</td>\n",
       "      <td>21</td>\n",
       "      <td>True</td>\n",
       "      <td>0</td>\n",
       "    </tr>\n",
       "    <tr>\n",
       "      <th>2</th>\n",
       "      <td>Fred Palmer</td>\n",
       "      <td>['United States']</td>\n",
       "      <td>individual</td>\n",
       "      <td>https://www.desmog.com/fred-palmer/</td>\n",
       "      <td>key_quotes</td>\n",
       "      <td>7_need_fossil_fuel</td>\n",
       "      <td>7_need_fossil_fuel</td>\n",
       "      <td>There are billions of people on earth who don’...</td>\n",
       "      <td>65</td>\n",
       "      <td>True</td>\n",
       "      <td>7</td>\n",
       "    </tr>\n",
       "    <tr>\n",
       "      <th>3</th>\n",
       "      <td>Harold Hamm</td>\n",
       "      <td>['United States']</td>\n",
       "      <td>individual</td>\n",
       "      <td>https://www.desmog.com/harold-hamm/</td>\n",
       "      <td>stance_quotes</td>\n",
       "      <td>7_need_fossil_fuel</td>\n",
       "      <td>7_need_fossil_fuel</td>\n",
       "      <td>Every time we can’t drill a well in America, t...</td>\n",
       "      <td>13</td>\n",
       "      <td>True</td>\n",
       "      <td>4</td>\n",
       "    </tr>\n",
       "    <tr>\n",
       "      <th>4</th>\n",
       "      <td>Douglas Carswell</td>\n",
       "      <td>['United Kingdom']</td>\n",
       "      <td>individual</td>\n",
       "      <td>https://www.desmog.com/douglas-carswell/</td>\n",
       "      <td>stance_quotes</td>\n",
       "      <td>2_not_human</td>\n",
       "      <td>2_not_human</td>\n",
       "      <td>As our understanding grows, the idea that huma...</td>\n",
       "      <td>20</td>\n",
       "      <td>True</td>\n",
       "      <td>2</td>\n",
       "    </tr>\n",
       "  </tbody>\n",
       "</table>\n",
       "</div>"
      ],
      "text/plain": [
       "               name           countries   item_type  \\\n",
       "0      Andrew Coyne          ['Canada']  individual   \n",
       "1      Lee Anderson  ['United Kingdom']  individual   \n",
       "2       Fred Palmer   ['United States']  individual   \n",
       "3       Harold Hamm   ['United States']  individual   \n",
       "4  Douglas Carswell  ['United Kingdom']  individual   \n",
       "\n",
       "                                        url section_source  \\\n",
       "0      https://www.desmog.com/andrew-coyne/  stance_quotes   \n",
       "1      https://www.desmog.com/lee-anderson/     key_quotes   \n",
       "2       https://www.desmog.com/fred-palmer/     key_quotes   \n",
       "3       https://www.desmog.com/harold-hamm/  stance_quotes   \n",
       "4  https://www.desmog.com/douglas-carswell/  stance_quotes   \n",
       "\n",
       "            label_raw               label  \\\n",
       "0          0_accepted          0_accepted   \n",
       "1          0_accepted          0_accepted   \n",
       "2  7_need_fossil_fuel  7_need_fossil_fuel   \n",
       "3  7_need_fossil_fuel  7_need_fossil_fuel   \n",
       "4         2_not_human         2_not_human   \n",
       "\n",
       "                                               quote  word_count  is_full  \\\n",
       "0  But so what? It is not necessary to believe th...          90     True   \n",
       "1  It’s got to be heat. You can live longer witho...          21     True   \n",
       "2  There are billions of people on earth who don’...          65     True   \n",
       "3  Every time we can’t drill a well in America, t...          13     True   \n",
       "4  As our understanding grows, the idea that huma...          20     True   \n",
       "\n",
       "  human_label  \n",
       "0           0  \n",
       "1           0  \n",
       "2           7  \n",
       "3           4  \n",
       "4           2  "
      ]
     },
     "execution_count": 5,
     "metadata": {},
     "output_type": "execute_result"
    }
   ],
   "source": [
    "import pandas as pd\n",
    "\n",
    "df = pd.read_excel(\"../../data/processed/desmog_labelled.xlsx\", sheet_name=\"sample_1\")\n",
    "df.head()\n"
   ]
  },
  {
   "cell_type": "code",
   "execution_count": 9,
   "metadata": {},
   "outputs": [],
   "source": [
    "df.label = df.label.str.split(\"_\").str[0]\n"
   ]
  },
  {
   "cell_type": "code",
   "execution_count": 15,
   "metadata": {},
   "outputs": [],
   "source": [
    "df.human_label = df.human_label.astype(str)"
   ]
  },
  {
   "cell_type": "code",
   "execution_count": 20,
   "metadata": {},
   "outputs": [],
   "source": [
    "labels = []\n",
    "human_labels = []\n",
    "correct = []\n",
    "correct_desinfo = []\n",
    "for idx, row in df.iterrows():\n",
    "    if \"|\" in  row.human_label:\n",
    "        human_labels.append(row.human_label.split(\"|\"))\n",
    "    else:\n",
    "        human_labels.append([row.human_label])\n",
    "    labels.append(row.label)\n",
    "    correct.append(row.label in human_labels[-1])\n",
    "    correct_desinfo.append((row.label==\"0\" and \"0\" in human_labels[-1]) or (row.label!=\"0\" and \"0\" not in human_labels[-1]))\n",
    "\n",
    "df[\"correct\"] = correct\n",
    "df[\"correct_desinfo\"] = correct_desinfo"
   ]
  },
  {
   "cell_type": "code",
   "execution_count": 19,
   "metadata": {},
   "outputs": [
    {
     "data": {
      "text/plain": [
       "59"
      ]
     },
     "execution_count": 19,
     "metadata": {},
     "output_type": "execute_result"
    }
   ],
   "source": [
    "df[\"correct\"].sum()"
   ]
  },
  {
   "cell_type": "code",
   "execution_count": 21,
   "metadata": {},
   "outputs": [
    {
     "data": {
      "text/plain": [
       "87"
      ]
     },
     "execution_count": 21,
     "metadata": {},
     "output_type": "execute_result"
    }
   ],
   "source": [
    "df[\"correct_desinfo\"].sum()"
   ]
  },
  {
   "cell_type": "code",
   "execution_count": null,
   "metadata": {},
   "outputs": [],
   "source": []
  }
 ],
 "metadata": {
  "kernelspec": {
   "display_name": ".venv",
   "language": "python",
   "name": "python3"
  },
  "language_info": {
   "codemirror_mode": {
    "name": "ipython",
    "version": 3
   },
   "file_extension": ".py",
   "mimetype": "text/x-python",
   "name": "python",
   "nbconvert_exporter": "python",
   "pygments_lexer": "ipython3",
   "version": "3.12.4"
  }
 },
 "nbformat": 4,
 "nbformat_minor": 2
}
