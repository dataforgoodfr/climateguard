{
 "cells": [
  {
   "cell_type": "code",
   "execution_count": 1,
   "metadata": {},
   "outputs": [],
   "source": [
    "import asyncio\n",
    "import sys\n",
    "from functools import wraps\n",
    "from typing import Awaitable, Callable\n",
    "\n",
    "import evaluate\n",
    "import pandas as pd\n",
    "import plotly.io\n",
    "from litellm import acompletion, completion_cost\n",
    "from pydantic import BaseModel\n",
    "from tqdm.asyncio import tqdm\n",
    "\n",
    "sys.path.append(\"../..\")\n",
    "\n",
    "from climateguard.evaluation import evaluation_report\n",
    "\n",
    "plotly.io.renderers.default = \"svg\""
   ]
  },
  {
   "cell_type": "code",
   "execution_count": 3,
   "metadata": {},
   "outputs": [
    {
     "data": {
      "text/html": [
       "<div>\n",
       "<style scoped>\n",
       "    .dataframe tbody tr th:only-of-type {\n",
       "        vertical-align: middle;\n",
       "    }\n",
       "\n",
       "    .dataframe tbody tr th {\n",
       "        vertical-align: top;\n",
       "    }\n",
       "\n",
       "    .dataframe thead th {\n",
       "        text-align: right;\n",
       "    }\n",
       "</style>\n",
       "<table border=\"1\" class=\"dataframe\">\n",
       "  <thead>\n",
       "    <tr style=\"text-align: right;\">\n",
       "      <th></th>\n",
       "      <th>text</th>\n",
       "      <th>claim</th>\n",
       "      <th>is_contrarian</th>\n",
       "      <th>label</th>\n",
       "      <th>source</th>\n",
       "    </tr>\n",
       "  </thead>\n",
       "  <tbody>\n",
       "    <tr>\n",
       "      <th>213</th>\n",
       "      <td>de câbles qui vont être concentrés dans un rés...</td>\n",
       "      <td>Cependant, il est bon de se rappeler que la sc...</td>\n",
       "      <td>True</td>\n",
       "      <td>5_science_is_unreliable</td>\n",
       "      <td>europe1</td>\n",
       "    </tr>\n",
       "    <tr>\n",
       "      <th>331</th>\n",
       "      <td>l' environnement le scientifique est mort à l'...</td>\n",
       "      <td>Cependant, il convient de noter que certains a...</td>\n",
       "      <td>True</td>\n",
       "      <td>3_its_not_bad</td>\n",
       "      <td>france-info</td>\n",
       "    </tr>\n",
       "    <tr>\n",
       "      <th>501</th>\n",
       "      <td>Sait que les gens nous exigent de ses cendres ...</td>\n",
       "      <td>Certains affirment que l'impact du CO2 sur le ...</td>\n",
       "      <td>True</td>\n",
       "      <td>2_its_not_us</td>\n",
       "      <td>france24</td>\n",
       "    </tr>\n",
       "    <tr>\n",
       "      <th>309</th>\n",
       "      <td>illustrant tous les deux arnaud teyssier votre...</td>\n",
       "      <td>NaN</td>\n",
       "      <td>False</td>\n",
       "      <td>0_accepted</td>\n",
       "      <td>france-culture</td>\n",
       "    </tr>\n",
       "    <tr>\n",
       "      <th>88</th>\n",
       "      <td>deliveroo toutes les adresses à votre porte mê...</td>\n",
       "      <td>NaN</td>\n",
       "      <td>False</td>\n",
       "      <td>0_accepted</td>\n",
       "      <td>bfmtv</td>\n",
       "    </tr>\n",
       "    <tr>\n",
       "      <th>...</th>\n",
       "      <td>...</td>\n",
       "      <td>...</td>\n",
       "      <td>...</td>\n",
       "      <td>...</td>\n",
       "      <td>...</td>\n",
       "    </tr>\n",
       "    <tr>\n",
       "      <th>545</th>\n",
       "      <td>de civilisation américaine à l' université sor...</td>\n",
       "      <td>NaN</td>\n",
       "      <td>False</td>\n",
       "      <td>0_accepted</td>\n",
       "      <td>france24</td>\n",
       "    </tr>\n",
       "    <tr>\n",
       "      <th>86</th>\n",
       "      <td>On assume la transition écologique un peu tout...</td>\n",
       "      <td>Cependant, certains affirment que les impacts ...</td>\n",
       "      <td>True</td>\n",
       "      <td>3_its_not_bad</td>\n",
       "      <td>bfmtv</td>\n",
       "    </tr>\n",
       "    <tr>\n",
       "      <th>644</th>\n",
       "      <td>emmanuel macron a annoncé tout à l' heure l' e...</td>\n",
       "      <td>NaN</td>\n",
       "      <td>False</td>\n",
       "      <td>0_accepted</td>\n",
       "      <td>lci</td>\n",
       "    </tr>\n",
       "    <tr>\n",
       "      <th>158</th>\n",
       "      <td>pas alors il faut savoir que je vous donne un ...</td>\n",
       "      <td>NaN</td>\n",
       "      <td>False</td>\n",
       "      <td>0_accepted</td>\n",
       "      <td>d8</td>\n",
       "    </tr>\n",
       "    <tr>\n",
       "      <th>548</th>\n",
       "      <td>déroule sur les plages de galice en espagne un...</td>\n",
       "      <td>NaN</td>\n",
       "      <td>False</td>\n",
       "      <td>0_accepted</td>\n",
       "      <td>france24</td>\n",
       "    </tr>\n",
       "  </tbody>\n",
       "</table>\n",
       "<p>100 rows × 5 columns</p>\n",
       "</div>"
      ],
      "text/plain": [
       "                                                  text  \\\n",
       "213  de câbles qui vont être concentrés dans un rés...   \n",
       "331  l' environnement le scientifique est mort à l'...   \n",
       "501  Sait que les gens nous exigent de ses cendres ...   \n",
       "309  illustrant tous les deux arnaud teyssier votre...   \n",
       "88   deliveroo toutes les adresses à votre porte mê...   \n",
       "..                                                 ...   \n",
       "545  de civilisation américaine à l' université sor...   \n",
       "86   On assume la transition écologique un peu tout...   \n",
       "644  emmanuel macron a annoncé tout à l' heure l' e...   \n",
       "158  pas alors il faut savoir que je vous donne un ...   \n",
       "548  déroule sur les plages de galice en espagne un...   \n",
       "\n",
       "                                                 claim  is_contrarian  \\\n",
       "213  Cependant, il est bon de se rappeler que la sc...           True   \n",
       "331  Cependant, il convient de noter que certains a...           True   \n",
       "501  Certains affirment que l'impact du CO2 sur le ...           True   \n",
       "309                                                NaN          False   \n",
       "88                                                 NaN          False   \n",
       "..                                                 ...            ...   \n",
       "545                                                NaN          False   \n",
       "86   Cependant, certains affirment que les impacts ...           True   \n",
       "644                                                NaN          False   \n",
       "158                                                NaN          False   \n",
       "548                                                NaN          False   \n",
       "\n",
       "                       label          source  \n",
       "213  5_science_is_unreliable         europe1  \n",
       "331            3_its_not_bad     france-info  \n",
       "501             2_its_not_us        france24  \n",
       "309               0_accepted  france-culture  \n",
       "88                0_accepted           bfmtv  \n",
       "..                       ...             ...  \n",
       "545               0_accepted        france24  \n",
       "86             3_its_not_bad           bfmtv  \n",
       "644               0_accepted             lci  \n",
       "158               0_accepted              d8  \n",
       "548               0_accepted        france24  \n",
       "\n",
       "[100 rows x 5 columns]"
      ]
     },
     "metadata": {},
     "output_type": "display_data"
    },
    {
     "data": {
      "text/plain": [
       "is_contrarian\n",
       "True     52\n",
       "False    48\n",
       "Name: count, dtype: int64"
      ]
     },
     "metadata": {},
     "output_type": "display_data"
    }
   ],
   "source": [
    "# Load synthetic Mediatree benchmark\n",
    "df = pd.read_csv(\"../../data/benchmark/mediatree_synthetic_sample_1000.csv\")\n",
    "df = df.sample(100, random_state=42)\n",
    "display(df)\n",
    "display(df[\"is_contrarian\"].value_counts())"
   ]
  },
  {
   "cell_type": "code",
   "execution_count": 4,
   "metadata": {},
   "outputs": [],
   "source": [
    "# Fixing some syntax issues in the data\n",
    "\n",
    "# Mediatree issue with \"' \"\n",
    "df[\"text\"] = df[\"text\"].str.replace(\"' \", \"'\")\n",
    "\n",
    "# Remove punctuation that is only present in synthetic texts to avoid bias\n",
    "df[\"text\"] = df[\"text\"].str.replace(\".\", \"\").str.replace(\",\", \"\")\n",
    "\n",
    "# Remove casing that is mostly present in synthetic texts to avoid bias\n",
    "df[\"text\"] = df[\"text\"].str.lower()"
   ]
  },
  {
   "cell_type": "code",
   "execution_count": 6,
   "metadata": {},
   "outputs": [],
   "source": [
    "class MediatreePrediction(BaseModel):\n",
    "    cards_label_pred: str\n",
    "    prompt_tokens: int\n",
    "    completion_tokens: int\n",
    "    total_tokens: int\n",
    "    cost: float\n",
    "    claim_pred: str | None = None\n",
    "\n",
    "\n",
    "async def report_experiment_results(\n",
    "    df: pd.DataFrame, predict_experiment: Callable[[str], Awaitable[None]]\n",
    ") -> None:\n",
    "    # Copy df to avoid modifications\n",
    "    df = df.copy()\n",
    "\n",
    "    # Run the experiment\n",
    "    mediatree_predictions: list[MediatreePrediction] = await tqdm.gather(\n",
    "        *[predict_experiment(text) for text in df[\"text\"]]\n",
    "    )\n",
    "    mediatree_predictions_df = pd.DataFrame(\n",
    "        [pred.model_dump(exclude_none=True) for pred in mediatree_predictions],\n",
    "        index=df.index,\n",
    "    )\n",
    "    df = pd.concat([df, mediatree_predictions_df], axis=1)\n",
    "\n",
    "    # Show stats and performance\n",
    "    show_llm_usage(df)\n",
    "    evaluation_report(df[\"label\"], df[\"cards_label_pred\"])\n",
    "    if \"claim_pred\" in df.columns:\n",
    "        show_claim_extraction_quality_evaluation(df)\n",
    "\n",
    "\n",
    "def show_llm_usage(df: pd.DataFrame) -> None:\n",
    "    print(\"\\nLLM USAGE\\n=========\\n\")\n",
    "    print(\n",
    "        f\"Median token usage:\\n- Prompt: {int(df[\"prompt_tokens\"].median())}\\n\"\n",
    "        f\"- Completion: {int(df[\"completion_tokens\"].median())}\\n\"\n",
    "        f\"- Total: {int(df[\"total_tokens\"].median())}\"\n",
    "    )\n",
    "    print(f\"\\nTotal cost: ${df[\"cost\"].sum():.3f}\\n\")\n",
    "\n",
    "\n",
    "# Use BLEU and ROUGE to evaluate the quality of the claims extraction\n",
    "bleu = evaluate.load(\"bleu\")\n",
    "rouge = evaluate.load(\"rouge\")\n",
    "\n",
    "\n",
    "def show_claim_extraction_quality_evaluation(df: pd.DataFrame) -> None:\n",
    "    # Filter rows that have claims\n",
    "    df = df[df[\"is_contrarian\"]]\n",
    "\n",
    "    predictions = df[\"claim_pred\"].fillna(\"\").tolist()\n",
    "    references = df[\"claim\"].tolist()\n",
    "\n",
    "    bleu_score = bleu.compute(predictions=predictions, references=references)[\"bleu\"]\n",
    "    rouge_score = rouge.compute(predictions=predictions, references=references)[\n",
    "        \"rouge1\"\n",
    "    ]\n",
    "\n",
    "    print(\"CLAIMS EXTRATION EVALUATION\\n\" + \"=\" * 27 + \"\\n\")\n",
    "    print(f\"BLEU: {bleu_score:.2f}\")\n",
    "    print(f\"ROUGE: {rouge_score:.2f}\")"
   ]
  },
  {
   "cell_type": "code",
   "execution_count": 7,
   "metadata": {},
   "outputs": [],
   "source": [
    "# Limit concurrent requests to avoid API rate limiting\n",
    "# (it depends on the model you user and you API tier)\n",
    "semaphore = asyncio.Semaphore(20)\n",
    "\n",
    "\n",
    "# Decorator that ensures `acompletion` uses the semaphore\n",
    "def with_semaphore(acquire_semaphore):\n",
    "    def decorator(func):\n",
    "        @wraps(func)\n",
    "        async def wrapper(*args, **kwargs):\n",
    "            async with acquire_semaphore:\n",
    "                return await func(*args, **kwargs)\n",
    "\n",
    "        return wrapper\n",
    "\n",
    "    return decorator\n",
    "\n",
    "\n",
    "acompletion = with_semaphore(semaphore)(acompletion)"
   ]
  },
  {
   "cell_type": "markdown",
   "metadata": {},
   "source": [
    "## Simple prompt to classify the entire text\n"
   ]
  },
  {
   "cell_type": "code",
   "execution_count": 6,
   "metadata": {},
   "outputs": [
    {
     "name": "stderr",
     "output_type": "stream",
     "text": [
      "100%|██████████| 100/100 [00:14<00:00,  6.69it/s]\n"
     ]
    },
    {
     "name": "stdout",
     "output_type": "stream",
     "text": [
      "\n",
      "LLM USAGE\n",
      "=========\n",
      "\n",
      "Median token usage:\n",
      "- Prompt: 871\n",
      "- Completion: 11\n",
      "- Total: 880\n",
      "\n",
      "Total cost: $0.023\n",
      "\n",
      "BINARY CLASSIFICATION REPORT\n",
      "============================\n",
      "\n",
      "              precision    recall  f1-score   support\n",
      "\n",
      "       False       0.79      0.48      0.60        48\n",
      "        True       0.65      0.88      0.75        52\n",
      "\n",
      "    accuracy                           0.69       100\n",
      "   macro avg       0.72      0.68      0.67       100\n",
      "weighted avg       0.72      0.69      0.68       100\n",
      "\n"
     ]
    },
    {
     "data": {
      "image/svg+xml": [
       "<svg class=\"main-svg\" xmlns=\"http://www.w3.org/2000/svg\" xmlns:xlink=\"http://www.w3.org/1999/xlink\" width=\"600\" height=\"500\" style=\"\" viewBox=\"0 0 600 500\"><rect x=\"0\" y=\"0\" width=\"600\" height=\"500\" style=\"fill: rgb(255, 255, 255); fill-opacity: 1;\"/><defs id=\"defs-f8f1d4\"><g class=\"clips\"><clipPath id=\"clipf8f1d4xyplot\" class=\"plotclip\"><rect width=\"448\" height=\"363\"/></clipPath><clipPath class=\"axesclip\" id=\"clipf8f1d4x\"><rect x=\"127\" y=\"0\" width=\"448\" height=\"500\"/></clipPath><clipPath class=\"axesclip\" id=\"clipf8f1d4y\"><rect x=\"0\" y=\"40\" width=\"600\" height=\"363\"/></clipPath><clipPath class=\"axesclip\" id=\"clipf8f1d4xy\"><rect x=\"127\" y=\"40\" width=\"448\" height=\"363\"/></clipPath></g><g class=\"gradients\"/><g class=\"patterns\"/></defs><g class=\"bglayer\"><rect class=\"bg\" x=\"127\" y=\"40\" width=\"448\" height=\"363\" style=\"fill: rgb(229, 236, 246); fill-opacity: 1; stroke-width: 0;\"/></g><g class=\"layer-below\"><g class=\"imagelayer\"/><g class=\"shapelayer\"/></g><g class=\"cartesianlayer\"><g class=\"subplot xy\"><g class=\"layer-subplot\"><g class=\"shapelayer\"/><g class=\"imagelayer\"/></g><g class=\"minor-gridlayer\"><g class=\"x\"/><g class=\"y\"/></g><g class=\"gridlayer\"><g class=\"x\"><path class=\"xgrid crisp\" transform=\"translate(239,0)\" d=\"M0,40v363\" style=\"stroke: rgb(255, 255, 255); stroke-opacity: 1; stroke-width: 1px;\"/><path class=\"xgrid crisp\" transform=\"translate(463,0)\" d=\"M0,40v363\" style=\"stroke: rgb(255, 255, 255); stroke-opacity: 1; stroke-width: 1px;\"/></g><g class=\"y\"><path class=\"ygrid crisp\" transform=\"translate(0,312.25)\" d=\"M127,0h448\" style=\"stroke: rgb(255, 255, 255); stroke-opacity: 1; stroke-width: 1px;\"/><path class=\"ygrid crisp\" transform=\"translate(0,130.75)\" d=\"M127,0h448\" style=\"stroke: rgb(255, 255, 255); stroke-opacity: 1; stroke-width: 1px;\"/></g></g><g class=\"zerolinelayer\"/><g class=\"layer-between\"><g class=\"shapelayer\"/><g class=\"imagelayer\"/></g><path class=\"xlines-below\"/><path class=\"ylines-below\"/><g class=\"overlines-below\"/><g class=\"xaxislayer-below\"/><g class=\"yaxislayer-below\"/><g class=\"overaxes-below\"/><g class=\"overplot\"><g class=\"xy\" transform=\"translate(127,40)\" clip-path=\"url(#clipf8f1d4xyplot)\"><g class=\"heatmaplayer mlayer\"><g class=\"hm\"><image xmlns=\"http://www.w3.org/2000/svg\" preserveAspectRatio=\"none\" height=\"363\" width=\"448\" x=\"0\" y=\"0\" xlink:href=\"data:image/png;base64,iVBORw0KGgoAAAANSUhEUgAAAAIAAAACCAYAAABytg0kAAAAG0lEQVQYV2Ms23Lj/5svvxkYv//+/1/QNIcBAGtXCoE7EoWXAAAAAElFTkSuQmCC\" style=\"image-rendering: pixelated; opacity: 1;\"/><g class=\"heatmap-label\"><text text-anchor=\"middle\" data-notex=\"1\" x=\"112\" y=\"87.4\" style=\"font-family: 'Open Sans', verdana, arial, sans-serif; font-size: 12px; fill: rgb(68, 68, 68); fill-opacity: 1; white-space: pre;\"><tspan class=\"line\" dy=\"0em\" x=\"112\" y=\"87.4\">23</tspan><tspan class=\"line\" dy=\"1.3em\" x=\"112\" y=\"87.4\">47.92%</tspan></text></g><g class=\"heatmap-label\"><text text-anchor=\"middle\" data-notex=\"1\" x=\"336\" y=\"87.4\" style=\"font-family: 'Open Sans', verdana, arial, sans-serif; font-size: 12px; fill: rgb(68, 68, 68); fill-opacity: 1; white-space: pre;\"><tspan class=\"line\" dy=\"0em\" x=\"336\" y=\"87.4\">25</tspan><tspan class=\"line\" dy=\"1.3em\" x=\"336\" y=\"87.4\">52.08%</tspan></text></g><g class=\"heatmap-label\"><text text-anchor=\"middle\" data-notex=\"1\" x=\"112\" y=\"268.4\" style=\"font-family: 'Open Sans', verdana, arial, sans-serif; font-size: 12px; fill: rgb(68, 68, 68); fill-opacity: 1; white-space: pre;\"><tspan class=\"line\" dy=\"0em\" x=\"112\" y=\"268.4\">6</tspan><tspan class=\"line\" dy=\"1.3em\" x=\"112\" y=\"268.4\">11.54%</tspan></text></g><g class=\"heatmap-label\"><text text-anchor=\"middle\" data-notex=\"1\" x=\"336\" y=\"268.4\" style=\"font-family: 'Open Sans', verdana, arial, sans-serif; font-size: 12px; fill: rgb(255, 255, 255); fill-opacity: 1; white-space: pre;\"><tspan class=\"line\" dy=\"0em\" x=\"336\" y=\"268.4\">46</tspan><tspan class=\"line\" dy=\"1.3em\" x=\"336\" y=\"268.4\">88.46%</tspan></text></g></g></g></g></g><path class=\"xlines-above crisp\" d=\"M0,0\" style=\"fill: none;\"/><path class=\"ylines-above crisp\" d=\"M0,0\" style=\"fill: none;\"/><g class=\"overlines-above\"/><g class=\"xaxislayer-above\"><g class=\"xtick\"><text text-anchor=\"end\" x=\"0\" y=\"416\" transform=\"translate(239,0) rotate(-30,0,410)\" style=\"font-family: 'Open Sans', verdana, arial, sans-serif; font-size: 12px; fill: rgb(42, 63, 95); fill-opacity: 1; white-space: pre; opacity: 1;\">0_accepted</text></g><g class=\"xtick\"><text text-anchor=\"end\" x=\"0\" y=\"416\" transform=\"translate(463,0) rotate(-30,0,410)\" style=\"font-family: 'Open Sans', verdana, arial, sans-serif; font-size: 12px; fill: rgb(42, 63, 95); fill-opacity: 1; white-space: pre; opacity: 1;\">[1-5]_contrarian</text></g></g><g class=\"yaxislayer-above\"><g class=\"ytick\"><text text-anchor=\"end\" x=\"126\" y=\"4.199999999999999\" transform=\"translate(0,312.25)\" style=\"font-family: 'Open Sans', verdana, arial, sans-serif; font-size: 12px; fill: rgb(42, 63, 95); fill-opacity: 1; white-space: pre; opacity: 1;\">[1-5]_contrarian</text></g><g class=\"ytick\"><text text-anchor=\"end\" x=\"126\" y=\"4.199999999999999\" transform=\"translate(0,130.75)\" style=\"font-family: 'Open Sans', verdana, arial, sans-serif; font-size: 12px; fill: rgb(42, 63, 95); fill-opacity: 1; white-space: pre; opacity: 1;\">0_accepted</text></g></g><g class=\"overaxes-above\"/></g></g><g class=\"polarlayer\"/><g class=\"smithlayer\"/><g class=\"ternarylayer\"/><g class=\"geolayer\"/><g class=\"funnelarealayer\"/><g class=\"pielayer\"/><g class=\"iciclelayer\"/><g class=\"treemaplayer\"/><g class=\"sunburstlayer\"/><g class=\"glimages\"/><defs id=\"topdefs-f8f1d4\"><g class=\"clips\"/></defs><g class=\"layer-above\"><g class=\"imagelayer\"/><g class=\"shapelayer\"/></g><g class=\"infolayer\"><g class=\"g-gtitle\"><text class=\"gtitle\" x=\"351\" y=\"15\" text-anchor=\"middle\" dy=\"0.7em\" style=\"opacity: 1; font-family: 'Open Sans', verdana, arial, sans-serif; font-size: 17px; fill: rgb(42, 63, 95); fill-opacity: 1; white-space: pre;\">Confusion Matrix</text></g><g class=\"g-xtitle\"><text class=\"xtitle\" x=\"351\" y=\"487.44453125\" text-anchor=\"middle\" style=\"opacity: 1; font-family: 'Open Sans', verdana, arial, sans-serif; font-size: 14px; fill: rgb(42, 63, 95); fill-opacity: 1; white-space: pre;\">Predicted class</text></g><g class=\"g-ytitle\"><text class=\"ytitle\" transform=\"rotate(-90,17.631249999999994,221.5)\" x=\"17.631249999999994\" y=\"221.5\" text-anchor=\"middle\" style=\"opacity: 1; font-family: 'Open Sans', verdana, arial, sans-serif; font-size: 14px; fill: rgb(42, 63, 95); fill-opacity: 1; white-space: pre;\">True class</text></g></g></svg>"
      ]
     },
     "metadata": {},
     "output_type": "display_data"
    },
    {
     "name": "stdout",
     "output_type": "stream",
     "text": [
      "CARDS CLASSIFICATION REPORT\n",
      "===========================\n",
      "\n",
      "                         precision    recall  f1-score   support\n",
      "\n",
      "             0_accepted       0.79      0.48      0.60        48\n",
      "    1_its_not_happening       0.12      0.09      0.11        11\n",
      "           1_its_not_us       0.00      0.00      0.00         0\n",
      "           2_its_not_us       0.33      0.22      0.27         9\n",
      "          3_its_not_bad       0.41      0.78      0.54         9\n",
      "  4_solutions_wont_work       0.44      0.71      0.55        17\n",
      "5_science_is_unreliable       0.33      0.67      0.44         6\n",
      "\n",
      "               accuracy                           0.49       100\n",
      "              macro avg       0.35      0.42      0.36       100\n",
      "           weighted avg       0.56      0.49      0.49       100\n",
      "\n"
     ]
    },
    {
     "data": {
      "image/svg+xml": [
       "<svg class=\"main-svg\" xmlns=\"http://www.w3.org/2000/svg\" xmlns:xlink=\"http://www.w3.org/1999/xlink\" width=\"600\" height=\"500\" style=\"\" viewBox=\"0 0 600 500\"><rect x=\"0\" y=\"0\" width=\"600\" height=\"500\" style=\"fill: rgb(255, 255, 255); fill-opacity: 1;\"/><defs id=\"defs-00ea44\"><g class=\"clips\"><clipPath id=\"clip00ea44xyplot\" class=\"plotclip\"><rect width=\"407\" height=\"343\"/></clipPath><clipPath class=\"axesclip\" id=\"clip00ea44x\"><rect x=\"168\" y=\"0\" width=\"407\" height=\"500\"/></clipPath><clipPath class=\"axesclip\" id=\"clip00ea44y\"><rect x=\"0\" y=\"40\" width=\"600\" height=\"343\"/></clipPath><clipPath class=\"axesclip\" id=\"clip00ea44xy\"><rect x=\"168\" y=\"40\" width=\"407\" height=\"343\"/></clipPath></g><g class=\"gradients\"/><g class=\"patterns\"/></defs><g class=\"bglayer\"><rect class=\"bg\" x=\"168\" y=\"40\" width=\"407\" height=\"343\" style=\"fill: rgb(229, 236, 246); fill-opacity: 1; stroke-width: 0;\"/></g><g class=\"layer-below\"><g class=\"imagelayer\"/><g class=\"shapelayer\"/></g><g class=\"cartesianlayer\"><g class=\"subplot xy\"><g class=\"layer-subplot\"><g class=\"shapelayer\"/><g class=\"imagelayer\"/></g><g class=\"minor-gridlayer\"><g class=\"x\"/><g class=\"y\"/></g><g class=\"gridlayer\"><g class=\"x\"><path class=\"xgrid crisp\" transform=\"translate(201.92000000000002,0)\" d=\"M0,40v343\" style=\"stroke: rgb(255, 255, 255); stroke-opacity: 1; stroke-width: 1px;\"/><path class=\"xgrid crisp\" transform=\"translate(269.75,0)\" d=\"M0,40v343\" style=\"stroke: rgb(255, 255, 255); stroke-opacity: 1; stroke-width: 1px;\"/><path class=\"xgrid crisp\" transform=\"translate(337.58000000000004,0)\" d=\"M0,40v343\" style=\"stroke: rgb(255, 255, 255); stroke-opacity: 1; stroke-width: 1px;\"/><path class=\"xgrid crisp\" transform=\"translate(405.41999999999996,0)\" d=\"M0,40v343\" style=\"stroke: rgb(255, 255, 255); stroke-opacity: 1; stroke-width: 1px;\"/><path class=\"xgrid crisp\" transform=\"translate(473.25,0)\" d=\"M0,40v343\" style=\"stroke: rgb(255, 255, 255); stroke-opacity: 1; stroke-width: 1px;\"/><path class=\"xgrid crisp\" transform=\"translate(541.0799999999999,0)\" d=\"M0,40v343\" style=\"stroke: rgb(255, 255, 255); stroke-opacity: 1; stroke-width: 1px;\"/></g><g class=\"y\"><path class=\"ygrid crisp\" transform=\"translate(0,354.42)\" d=\"M168,0h407\" style=\"stroke: rgb(255, 255, 255); stroke-opacity: 1; stroke-width: 1px;\"/><path class=\"ygrid crisp\" transform=\"translate(0,297.25)\" d=\"M168,0h407\" style=\"stroke: rgb(255, 255, 255); stroke-opacity: 1; stroke-width: 1px;\"/><path class=\"ygrid crisp\" transform=\"translate(0,240.08)\" d=\"M168,0h407\" style=\"stroke: rgb(255, 255, 255); stroke-opacity: 1; stroke-width: 1px;\"/><path class=\"ygrid crisp\" transform=\"translate(0,182.92)\" d=\"M168,0h407\" style=\"stroke: rgb(255, 255, 255); stroke-opacity: 1; stroke-width: 1px;\"/><path class=\"ygrid crisp\" transform=\"translate(0,125.75)\" d=\"M168,0h407\" style=\"stroke: rgb(255, 255, 255); stroke-opacity: 1; stroke-width: 1px;\"/><path class=\"ygrid crisp\" transform=\"translate(0,68.58)\" d=\"M168,0h407\" style=\"stroke: rgb(255, 255, 255); stroke-opacity: 1; stroke-width: 1px;\"/></g></g><g class=\"zerolinelayer\"/><g class=\"layer-between\"><g class=\"shapelayer\"/><g class=\"imagelayer\"/></g><path class=\"xlines-below\"/><path class=\"ylines-below\"/><g class=\"overlines-below\"/><g class=\"xaxislayer-below\"/><g class=\"yaxislayer-below\"/><g class=\"overaxes-below\"/><g class=\"overplot\"><g class=\"xy\" transform=\"translate(168,40)\" clip-path=\"url(#clip00ea44xyplot)\"><g class=\"heatmaplayer mlayer\"><g class=\"hm\"><image xmlns=\"http://www.w3.org/2000/svg\" preserveAspectRatio=\"none\" height=\"343\" width=\"407\" x=\"0\" y=\"0\" xlink:href=\"data:image/png;base64,iVBORw0KGgoAAAANSUhEUgAAAAYAAAAGCAYAAADgzO9IAAAAjUlEQVQYV2N0nXL8//QwfQZudhaG33/+MRx9+IYhQFeagfHk3Q//xfk5GEDg2MM3DIF60gyNu24xMF5/9vW/gigXw45rLxg0RPnACmafeczA+P33//9gHgMDg6BpDsPlnd1gNuOpex/+ywlzMfBzsTJ8/PabQSF8KsP7zQUQHdeefmLQkuZjgNGi0QsZAHhqN6E8Rm11AAAAAElFTkSuQmCC\" style=\"image-rendering: pixelated; opacity: 1;\"/><g class=\"heatmap-label\"><text text-anchor=\"middle\" data-notex=\"1\" x=\"34\" y=\"25.4\" style=\"font-family: 'Open Sans', verdana, arial, sans-serif; font-size: 12px; fill: rgb(68, 68, 68); fill-opacity: 1; white-space: pre;\"><tspan class=\"line\" dy=\"0em\" x=\"34\" y=\"25.4\">23</tspan><tspan class=\"line\" dy=\"1.3em\" x=\"34\" y=\"25.4\">47.92%</tspan></text></g><g class=\"heatmap-label\"><text text-anchor=\"middle\" data-notex=\"1\" x=\"102\" y=\"25.4\" style=\"font-family: 'Open Sans', verdana, arial, sans-serif; font-size: 12px; fill: rgb(68, 68, 68); fill-opacity: 1; white-space: pre;\"><tspan class=\"line\" dy=\"0em\" x=\"102\" y=\"25.4\">5</tspan><tspan class=\"line\" dy=\"1.3em\" x=\"102\" y=\"25.4\">10.42%</tspan></text></g><g class=\"heatmap-label\"><text text-anchor=\"middle\" data-notex=\"1\" x=\"170\" y=\"25.4\" style=\"font-family: 'Open Sans', verdana, arial, sans-serif; font-size: 12px; fill: rgb(68, 68, 68); fill-opacity: 1; white-space: pre;\"><tspan class=\"line\" dy=\"0em\" x=\"170\" y=\"25.4\">3</tspan><tspan class=\"line\" dy=\"1.3em\" x=\"170\" y=\"25.4\">6.25%</tspan></text></g><g class=\"heatmap-label\"><text text-anchor=\"middle\" data-notex=\"1\" x=\"237\" y=\"25.4\" style=\"font-family: 'Open Sans', verdana, arial, sans-serif; font-size: 12px; fill: rgb(68, 68, 68); fill-opacity: 1; white-space: pre;\"><tspan class=\"line\" dy=\"0em\" x=\"237\" y=\"25.4\">4</tspan><tspan class=\"line\" dy=\"1.3em\" x=\"237\" y=\"25.4\">8.33%</tspan></text></g><g class=\"heatmap-label\"><text text-anchor=\"middle\" data-notex=\"1\" x=\"305\" y=\"25.4\" style=\"font-family: 'Open Sans', verdana, arial, sans-serif; font-size: 12px; fill: rgb(68, 68, 68); fill-opacity: 1; white-space: pre;\"><tspan class=\"line\" dy=\"0em\" x=\"305\" y=\"25.4\">13</tspan><tspan class=\"line\" dy=\"1.3em\" x=\"305\" y=\"25.4\">27.08%</tspan></text></g><g class=\"heatmap-label\"><text text-anchor=\"middle\" data-notex=\"1\" x=\"373\" y=\"33.2\" style=\"font-family: 'Open Sans', verdana, arial, sans-serif; font-size: 12px; fill: rgb(68, 68, 68); fill-opacity: 1; white-space: pre;\">0</text></g><g class=\"heatmap-label\"><text text-anchor=\"middle\" data-notex=\"1\" x=\"34\" y=\"82.4\" style=\"font-family: 'Open Sans', verdana, arial, sans-serif; font-size: 12px; fill: rgb(68, 68, 68); fill-opacity: 1; white-space: pre;\"><tspan class=\"line\" dy=\"0em\" x=\"34\" y=\"82.4\">2</tspan><tspan class=\"line\" dy=\"1.3em\" x=\"34\" y=\"82.4\">18.18%</tspan></text></g><g class=\"heatmap-label\"><text text-anchor=\"middle\" data-notex=\"1\" x=\"102\" y=\"82.4\" style=\"font-family: 'Open Sans', verdana, arial, sans-serif; font-size: 12px; fill: rgb(68, 68, 68); fill-opacity: 1; white-space: pre;\"><tspan class=\"line\" dy=\"0em\" x=\"102\" y=\"82.4\">1</tspan><tspan class=\"line\" dy=\"1.3em\" x=\"102\" y=\"82.4\">9.09%</tspan></text></g><g class=\"heatmap-label\"><text text-anchor=\"middle\" data-notex=\"1\" x=\"170\" y=\"82.4\" style=\"font-family: 'Open Sans', verdana, arial, sans-serif; font-size: 12px; fill: rgb(68, 68, 68); fill-opacity: 1; white-space: pre;\"><tspan class=\"line\" dy=\"0em\" x=\"170\" y=\"82.4\">1</tspan><tspan class=\"line\" dy=\"1.3em\" x=\"170\" y=\"82.4\">9.09%</tspan></text></g><g class=\"heatmap-label\"><text text-anchor=\"middle\" data-notex=\"1\" x=\"237\" y=\"82.4\" style=\"font-family: 'Open Sans', verdana, arial, sans-serif; font-size: 12px; fill: rgb(68, 68, 68); fill-opacity: 1; white-space: pre;\"><tspan class=\"line\" dy=\"0em\" x=\"237\" y=\"82.4\">3</tspan><tspan class=\"line\" dy=\"1.3em\" x=\"237\" y=\"82.4\">27.27%</tspan></text></g><g class=\"heatmap-label\"><text text-anchor=\"middle\" data-notex=\"1\" x=\"305\" y=\"90.2\" style=\"font-family: 'Open Sans', verdana, arial, sans-serif; font-size: 12px; fill: rgb(68, 68, 68); fill-opacity: 1; white-space: pre;\">0</text></g><g class=\"heatmap-label\"><text text-anchor=\"middle\" data-notex=\"1\" x=\"373\" y=\"82.4\" style=\"font-family: 'Open Sans', verdana, arial, sans-serif; font-size: 12px; fill: rgb(68, 68, 68); fill-opacity: 1; white-space: pre;\"><tspan class=\"line\" dy=\"0em\" x=\"373\" y=\"82.4\">4</tspan><tspan class=\"line\" dy=\"1.3em\" x=\"373\" y=\"82.4\">36.36%</tspan></text></g><g class=\"heatmap-label\"><text text-anchor=\"middle\" data-notex=\"1\" x=\"34\" y=\"139.4\" style=\"font-family: 'Open Sans', verdana, arial, sans-serif; font-size: 12px; fill: rgb(68, 68, 68); fill-opacity: 1; white-space: pre;\"><tspan class=\"line\" dy=\"0em\" x=\"34\" y=\"139.4\">1</tspan><tspan class=\"line\" dy=\"1.3em\" x=\"34\" y=\"139.4\">12.50%</tspan></text></g><g class=\"heatmap-label\"><text text-anchor=\"middle\" data-notex=\"1\" x=\"102\" y=\"147.2\" style=\"font-family: 'Open Sans', verdana, arial, sans-serif; font-size: 12px; fill: rgb(68, 68, 68); fill-opacity: 1; white-space: pre;\">0</text></g><g class=\"heatmap-label\"><text text-anchor=\"middle\" data-notex=\"1\" x=\"170\" y=\"139.4\" style=\"font-family: 'Open Sans', verdana, arial, sans-serif; font-size: 12px; fill: rgb(68, 68, 68); fill-opacity: 1; white-space: pre;\"><tspan class=\"line\" dy=\"0em\" x=\"170\" y=\"139.4\">2</tspan><tspan class=\"line\" dy=\"1.3em\" x=\"170\" y=\"139.4\">25%</tspan></text></g><g class=\"heatmap-label\"><text text-anchor=\"middle\" data-notex=\"1\" x=\"237\" y=\"139.4\" style=\"font-family: 'Open Sans', verdana, arial, sans-serif; font-size: 12px; fill: rgb(68, 68, 68); fill-opacity: 1; white-space: pre;\"><tspan class=\"line\" dy=\"0em\" x=\"237\" y=\"139.4\">1</tspan><tspan class=\"line\" dy=\"1.3em\" x=\"237\" y=\"139.4\">12.50%</tspan></text></g><g class=\"heatmap-label\"><text text-anchor=\"middle\" data-notex=\"1\" x=\"305\" y=\"139.4\" style=\"font-family: 'Open Sans', verdana, arial, sans-serif; font-size: 12px; fill: rgb(68, 68, 68); fill-opacity: 1; white-space: pre;\"><tspan class=\"line\" dy=\"0em\" x=\"305\" y=\"139.4\">1</tspan><tspan class=\"line\" dy=\"1.3em\" x=\"305\" y=\"139.4\">12.50%</tspan></text></g><g class=\"heatmap-label\"><text text-anchor=\"middle\" data-notex=\"1\" x=\"373\" y=\"139.4\" style=\"font-family: 'Open Sans', verdana, arial, sans-serif; font-size: 12px; fill: rgb(68, 68, 68); fill-opacity: 1; white-space: pre;\"><tspan class=\"line\" dy=\"0em\" x=\"373\" y=\"139.4\">3</tspan><tspan class=\"line\" dy=\"1.3em\" x=\"373\" y=\"139.4\">37.50%</tspan></text></g><g class=\"heatmap-label\"><text text-anchor=\"middle\" data-notex=\"1\" x=\"34\" y=\"204.2\" style=\"font-family: 'Open Sans', verdana, arial, sans-serif; font-size: 12px; fill: rgb(68, 68, 68); fill-opacity: 1; white-space: pre;\">0</text></g><g class=\"heatmap-label\"><text text-anchor=\"middle\" data-notex=\"1\" x=\"102\" y=\"204.2\" style=\"font-family: 'Open Sans', verdana, arial, sans-serif; font-size: 12px; fill: rgb(68, 68, 68); fill-opacity: 1; white-space: pre;\">0</text></g><g class=\"heatmap-label\"><text text-anchor=\"middle\" data-notex=\"1\" x=\"170\" y=\"204.2\" style=\"font-family: 'Open Sans', verdana, arial, sans-serif; font-size: 12px; fill: rgb(68, 68, 68); fill-opacity: 1; white-space: pre;\">0</text></g><g class=\"heatmap-label\"><text text-anchor=\"middle\" data-notex=\"1\" x=\"237\" y=\"196.4\" style=\"font-family: 'Open Sans', verdana, arial, sans-serif; font-size: 12px; fill: rgb(255, 255, 255); fill-opacity: 1; white-space: pre;\"><tspan class=\"line\" dy=\"0em\" x=\"237\" y=\"196.4\">7</tspan><tspan class=\"line\" dy=\"1.3em\" x=\"237\" y=\"196.4\">77.78%</tspan></text></g><g class=\"heatmap-label\"><text text-anchor=\"middle\" data-notex=\"1\" x=\"305\" y=\"196.4\" style=\"font-family: 'Open Sans', verdana, arial, sans-serif; font-size: 12px; fill: rgb(68, 68, 68); fill-opacity: 1; white-space: pre;\"><tspan class=\"line\" dy=\"0em\" x=\"305\" y=\"196.4\">1</tspan><tspan class=\"line\" dy=\"1.3em\" x=\"305\" y=\"196.4\">11.11%</tspan></text></g><g class=\"heatmap-label\"><text text-anchor=\"middle\" data-notex=\"1\" x=\"373\" y=\"196.4\" style=\"font-family: 'Open Sans', verdana, arial, sans-serif; font-size: 12px; fill: rgb(68, 68, 68); fill-opacity: 1; white-space: pre;\"><tspan class=\"line\" dy=\"0em\" x=\"373\" y=\"196.4\">1</tspan><tspan class=\"line\" dy=\"1.3em\" x=\"373\" y=\"196.4\">11.11%</tspan></text></g><g class=\"heatmap-label\"><text text-anchor=\"middle\" data-notex=\"1\" x=\"34\" y=\"253.4\" style=\"font-family: 'Open Sans', verdana, arial, sans-serif; font-size: 12px; fill: rgb(68, 68, 68); fill-opacity: 1; white-space: pre;\"><tspan class=\"line\" dy=\"0em\" x=\"34\" y=\"253.4\">3</tspan><tspan class=\"line\" dy=\"1.3em\" x=\"34\" y=\"253.4\">17.65%</tspan></text></g><g class=\"heatmap-label\"><text text-anchor=\"middle\" data-notex=\"1\" x=\"102\" y=\"253.4\" style=\"font-family: 'Open Sans', verdana, arial, sans-serif; font-size: 12px; fill: rgb(68, 68, 68); fill-opacity: 1; white-space: pre;\"><tspan class=\"line\" dy=\"0em\" x=\"102\" y=\"253.4\">1</tspan><tspan class=\"line\" dy=\"1.3em\" x=\"102\" y=\"253.4\">5.88%</tspan></text></g><g class=\"heatmap-label\"><text text-anchor=\"middle\" data-notex=\"1\" x=\"170\" y=\"261.2\" style=\"font-family: 'Open Sans', verdana, arial, sans-serif; font-size: 12px; fill: rgb(68, 68, 68); fill-opacity: 1; white-space: pre;\">0</text></g><g class=\"heatmap-label\"><text text-anchor=\"middle\" data-notex=\"1\" x=\"237\" y=\"253.4\" style=\"font-family: 'Open Sans', verdana, arial, sans-serif; font-size: 12px; fill: rgb(68, 68, 68); fill-opacity: 1; white-space: pre;\"><tspan class=\"line\" dy=\"0em\" x=\"237\" y=\"253.4\">1</tspan><tspan class=\"line\" dy=\"1.3em\" x=\"237\" y=\"253.4\">5.88%</tspan></text></g><g class=\"heatmap-label\"><text text-anchor=\"middle\" data-notex=\"1\" x=\"305\" y=\"253.4\" style=\"font-family: 'Open Sans', verdana, arial, sans-serif; font-size: 12px; fill: rgb(255, 255, 255); fill-opacity: 1; white-space: pre;\"><tspan class=\"line\" dy=\"0em\" x=\"305\" y=\"253.4\">12</tspan><tspan class=\"line\" dy=\"1.3em\" x=\"305\" y=\"253.4\">70.59%</tspan></text></g><g class=\"heatmap-label\"><text text-anchor=\"middle\" data-notex=\"1\" x=\"373\" y=\"261.2\" style=\"font-family: 'Open Sans', verdana, arial, sans-serif; font-size: 12px; fill: rgb(68, 68, 68); fill-opacity: 1; white-space: pre;\">0</text></g><g class=\"heatmap-label\"><text text-anchor=\"middle\" data-notex=\"1\" x=\"34\" y=\"318.2\" style=\"font-family: 'Open Sans', verdana, arial, sans-serif; font-size: 12px; fill: rgb(68, 68, 68); fill-opacity: 1; white-space: pre;\">0</text></g><g class=\"heatmap-label\"><text text-anchor=\"middle\" data-notex=\"1\" x=\"102\" y=\"310.4\" style=\"font-family: 'Open Sans', verdana, arial, sans-serif; font-size: 12px; fill: rgb(68, 68, 68); fill-opacity: 1; white-space: pre;\"><tspan class=\"line\" dy=\"0em\" x=\"102\" y=\"310.4\">1</tspan><tspan class=\"line\" dy=\"1.3em\" x=\"102\" y=\"310.4\">16.67%</tspan></text></g><g class=\"heatmap-label\"><text text-anchor=\"middle\" data-notex=\"1\" x=\"170\" y=\"318.2\" style=\"font-family: 'Open Sans', verdana, arial, sans-serif; font-size: 12px; fill: rgb(68, 68, 68); fill-opacity: 1; white-space: pre;\">0</text></g><g class=\"heatmap-label\"><text text-anchor=\"middle\" data-notex=\"1\" x=\"237\" y=\"310.4\" style=\"font-family: 'Open Sans', verdana, arial, sans-serif; font-size: 12px; fill: rgb(68, 68, 68); fill-opacity: 1; white-space: pre;\"><tspan class=\"line\" dy=\"0em\" x=\"237\" y=\"310.4\">1</tspan><tspan class=\"line\" dy=\"1.3em\" x=\"237\" y=\"310.4\">16.67%</tspan></text></g><g class=\"heatmap-label\"><text text-anchor=\"middle\" data-notex=\"1\" x=\"305\" y=\"318.2\" style=\"font-family: 'Open Sans', verdana, arial, sans-serif; font-size: 12px; fill: rgb(68, 68, 68); fill-opacity: 1; white-space: pre;\">0</text></g><g class=\"heatmap-label\"><text text-anchor=\"middle\" data-notex=\"1\" x=\"373\" y=\"310.4\" style=\"font-family: 'Open Sans', verdana, arial, sans-serif; font-size: 12px; fill: rgb(255, 255, 255); fill-opacity: 1; white-space: pre;\"><tspan class=\"line\" dy=\"0em\" x=\"373\" y=\"310.4\">4</tspan><tspan class=\"line\" dy=\"1.3em\" x=\"373\" y=\"310.4\">66.67%</tspan></text></g></g></g></g></g><path class=\"xlines-above crisp\" d=\"M0,0\" style=\"fill: none;\"/><path class=\"ylines-above crisp\" d=\"M0,0\" style=\"fill: none;\"/><g class=\"overlines-above\"/><g class=\"xaxislayer-above\"><g class=\"xtick\"><text text-anchor=\"end\" x=\"0\" y=\"396\" transform=\"translate(201.92000000000002,0) rotate(-30,0,390)\" style=\"font-family: 'Open Sans', verdana, arial, sans-serif; font-size: 12px; fill: rgb(42, 63, 95); fill-opacity: 1; white-space: pre; opacity: 1;\">0_accepted</text></g><g class=\"xtick\"><text text-anchor=\"end\" x=\"0\" y=\"396\" transform=\"translate(269.75,0) rotate(-30,0,390)\" style=\"font-family: 'Open Sans', verdana, arial, sans-serif; font-size: 12px; fill: rgb(42, 63, 95); fill-opacity: 1; white-space: pre; opacity: 1;\">1_its_not_happening</text></g><g class=\"xtick\"><text text-anchor=\"end\" x=\"0\" y=\"396\" transform=\"translate(337.58000000000004,0) rotate(-30,0,390)\" style=\"font-family: 'Open Sans', verdana, arial, sans-serif; font-size: 12px; fill: rgb(42, 63, 95); fill-opacity: 1; white-space: pre; opacity: 1;\">2_its_not_us</text></g><g class=\"xtick\"><text text-anchor=\"end\" x=\"0\" y=\"396\" transform=\"translate(405.41999999999996,0) rotate(-30,0,390)\" style=\"font-family: 'Open Sans', verdana, arial, sans-serif; font-size: 12px; fill: rgb(42, 63, 95); fill-opacity: 1; white-space: pre; opacity: 1;\">3_its_not_bad</text></g><g class=\"xtick\"><text text-anchor=\"end\" x=\"0\" y=\"396\" transform=\"translate(473.25,0) rotate(-30,0,390)\" style=\"font-family: 'Open Sans', verdana, arial, sans-serif; font-size: 12px; fill: rgb(42, 63, 95); fill-opacity: 1; white-space: pre; opacity: 1;\">4_solutions_wont_work</text></g><g class=\"xtick\"><text text-anchor=\"end\" x=\"0\" y=\"396\" transform=\"translate(541.0799999999999,0) rotate(-30,0,390)\" style=\"font-family: 'Open Sans', verdana, arial, sans-serif; font-size: 12px; fill: rgb(42, 63, 95); fill-opacity: 1; white-space: pre; opacity: 1;\">5_science_is_unreliable</text></g></g><g class=\"yaxislayer-above\"><g class=\"ytick\"><text text-anchor=\"end\" x=\"167\" y=\"4.199999999999999\" transform=\"translate(0,354.42)\" style=\"font-family: 'Open Sans', verdana, arial, sans-serif; font-size: 12px; fill: rgb(42, 63, 95); fill-opacity: 1; white-space: pre; opacity: 1;\">5_science_is_unreliable</text></g><g class=\"ytick\"><text text-anchor=\"end\" x=\"167\" y=\"4.199999999999999\" transform=\"translate(0,297.25)\" style=\"font-family: 'Open Sans', verdana, arial, sans-serif; font-size: 12px; fill: rgb(42, 63, 95); fill-opacity: 1; white-space: pre; opacity: 1;\">4_solutions_wont_work</text></g><g class=\"ytick\"><text text-anchor=\"end\" x=\"167\" y=\"4.199999999999999\" transform=\"translate(0,240.08)\" style=\"font-family: 'Open Sans', verdana, arial, sans-serif; font-size: 12px; fill: rgb(42, 63, 95); fill-opacity: 1; white-space: pre; opacity: 1;\">3_its_not_bad</text></g><g class=\"ytick\"><text text-anchor=\"end\" x=\"167\" y=\"4.199999999999999\" transform=\"translate(0,182.92)\" style=\"font-family: 'Open Sans', verdana, arial, sans-serif; font-size: 12px; fill: rgb(42, 63, 95); fill-opacity: 1; white-space: pre; opacity: 1;\">2_its_not_us</text></g><g class=\"ytick\"><text text-anchor=\"end\" x=\"167\" y=\"4.199999999999999\" transform=\"translate(0,125.75)\" style=\"font-family: 'Open Sans', verdana, arial, sans-serif; font-size: 12px; fill: rgb(42, 63, 95); fill-opacity: 1; white-space: pre; opacity: 1;\">1_its_not_happening</text></g><g class=\"ytick\"><text text-anchor=\"end\" x=\"167\" y=\"4.199999999999999\" transform=\"translate(0,68.58)\" style=\"font-family: 'Open Sans', verdana, arial, sans-serif; font-size: 12px; fill: rgb(42, 63, 95); fill-opacity: 1; white-space: pre; opacity: 1;\">0_accepted</text></g></g><g class=\"overaxes-above\"/></g></g><g class=\"polarlayer\"/><g class=\"smithlayer\"/><g class=\"ternarylayer\"/><g class=\"geolayer\"/><g class=\"funnelarealayer\"/><g class=\"pielayer\"/><g class=\"iciclelayer\"/><g class=\"treemaplayer\"/><g class=\"sunburstlayer\"/><g class=\"glimages\"/><defs id=\"topdefs-00ea44\"><g class=\"clips\"/></defs><g class=\"layer-above\"><g class=\"imagelayer\"/><g class=\"shapelayer\"/></g><g class=\"infolayer\"><g class=\"g-gtitle\"><text class=\"gtitle\" x=\"371.5\" y=\"15\" text-anchor=\"middle\" dy=\"0.7em\" style=\"opacity: 1; font-family: 'Open Sans', verdana, arial, sans-serif; font-size: 17px; fill: rgb(42, 63, 95); fill-opacity: 1; white-space: pre;\">Confusion Matrix</text></g><g class=\"g-xtitle\"><text class=\"xtitle\" x=\"371.5\" y=\"487.93671875\" text-anchor=\"middle\" style=\"opacity: 1; font-family: 'Open Sans', verdana, arial, sans-serif; font-size: 14px; fill: rgb(42, 63, 95); fill-opacity: 1; white-space: pre;\">Predicted class</text></g><g class=\"g-ytitle\"><text class=\"ytitle\" transform=\"rotate(-90,17.646874999999994,211.5)\" x=\"17.646874999999994\" y=\"211.5\" text-anchor=\"middle\" style=\"opacity: 1; font-family: 'Open Sans', verdana, arial, sans-serif; font-size: 14px; fill: rgb(42, 63, 95); fill-opacity: 1; white-space: pre;\">True class</text></g></g></svg>"
      ]
     },
     "metadata": {},
     "output_type": "display_data"
    }
   ],
   "source": [
    "async def predict_cards_label(text: str) -> MediatreePrediction:\n",
    "    system_prompt = \"\"\"Tu es expert en désinformation sur les sujets environnementaux, expert en science climatique et sachant tout sur le GIEC. Je vais te donner un extrait d'une retranscription de 2 minutes d'un flux TV ou Radio. Ta tâche est d'identifier si l'extrait contient des affirmations trompeuses sur les thématiques environnementales (changement climatique, transition écologique, énergie, biodiversité, pollution, pesticides, ressources (eau, minéraux, ...). Ne fournis que le nom de la catégorie correcte, sans autre phrase d'introduction ou de conclusion.\n",
    "\n",
    "<catégories prédéfinies>\n",
    "- 0_accepted\n",
    "- 1_its_not_happening\n",
    "- 2_its_not_us\n",
    "- 3_its_not_bad\n",
    "- 4_solutions_wont_work\n",
    "- 5_science_is_unreliable\n",
    "</catégories prédéfinies>\"\"\"\n",
    "    response = await acompletion(\n",
    "        messages=[\n",
    "            {\"role\": \"system\", \"content\": system_prompt},\n",
    "            {\"role\": \"user\", \"content\": text.strip()},\n",
    "        ],\n",
    "        model=\"anthropic.claude-3-haiku-20240307-v1:0\",\n",
    "        max_tokens=20,\n",
    "        temperature=0,\n",
    "    )\n",
    "    cards_label_pred = response.choices[0].message.content\n",
    "    return MediatreePrediction(\n",
    "        cards_label_pred=cards_label_pred,\n",
    "        prompt_tokens=response.usage.prompt_tokens,\n",
    "        completion_tokens=response.usage.completion_tokens,\n",
    "        total_tokens=response.usage.total_tokens,\n",
    "        cost=completion_cost(response),\n",
    "    )\n",
    "\n",
    "\n",
    "await report_experiment_results(df, predict_cards_label)"
   ]
  },
  {
   "cell_type": "markdown",
   "metadata": {},
   "source": [
    "## Add descriptions\n"
   ]
  },
  {
   "cell_type": "markdown",
   "metadata": {},
   "source": [
    "### Description of categories based on the CARDS taxonomy\n"
   ]
  },
  {
   "cell_type": "code",
   "execution_count": 7,
   "metadata": {},
   "outputs": [
    {
     "name": "stderr",
     "output_type": "stream",
     "text": [
      "100%|██████████| 100/100 [00:13<00:00,  7.32it/s]"
     ]
    },
    {
     "name": "stdout",
     "output_type": "stream",
     "text": [
      "\n",
      "LLM USAGE\n",
      "=========\n",
      "\n",
      "Median token usage:\n",
      "- Prompt: 1457\n",
      "- Completion: 7\n",
      "- Total: 1464\n",
      "\n",
      "Total cost: $0.037\n",
      "\n",
      "BINARY CLASSIFICATION REPORT\n",
      "============================\n",
      "\n",
      "              precision    recall  f1-score   support\n",
      "\n",
      "       False       0.55      0.62      0.58        48\n",
      "        True       0.60      0.52      0.56        52\n",
      "\n",
      "    accuracy                           0.57       100\n",
      "   macro avg       0.57      0.57      0.57       100\n",
      "weighted avg       0.57      0.57      0.57       100\n",
      "\n"
     ]
    },
    {
     "name": "stderr",
     "output_type": "stream",
     "text": [
      "\n"
     ]
    },
    {
     "data": {
      "image/svg+xml": [
       "<svg class=\"main-svg\" xmlns=\"http://www.w3.org/2000/svg\" xmlns:xlink=\"http://www.w3.org/1999/xlink\" width=\"600\" height=\"500\" style=\"\" viewBox=\"0 0 600 500\"><rect x=\"0\" y=\"0\" width=\"600\" height=\"500\" style=\"fill: rgb(255, 255, 255); fill-opacity: 1;\"/><defs id=\"defs-fcce39\"><g class=\"clips\"><clipPath id=\"clipfcce39xyplot\" class=\"plotclip\"><rect width=\"448\" height=\"363\"/></clipPath><clipPath class=\"axesclip\" id=\"clipfcce39x\"><rect x=\"127\" y=\"0\" width=\"448\" height=\"500\"/></clipPath><clipPath class=\"axesclip\" id=\"clipfcce39y\"><rect x=\"0\" y=\"40\" width=\"600\" height=\"363\"/></clipPath><clipPath class=\"axesclip\" id=\"clipfcce39xy\"><rect x=\"127\" y=\"40\" width=\"448\" height=\"363\"/></clipPath></g><g class=\"gradients\"/><g class=\"patterns\"/></defs><g class=\"bglayer\"><rect class=\"bg\" x=\"127\" y=\"40\" width=\"448\" height=\"363\" style=\"fill: rgb(229, 236, 246); fill-opacity: 1; stroke-width: 0;\"/></g><g class=\"layer-below\"><g class=\"imagelayer\"/><g class=\"shapelayer\"/></g><g class=\"cartesianlayer\"><g class=\"subplot xy\"><g class=\"layer-subplot\"><g class=\"shapelayer\"/><g class=\"imagelayer\"/></g><g class=\"minor-gridlayer\"><g class=\"x\"/><g class=\"y\"/></g><g class=\"gridlayer\"><g class=\"x\"><path class=\"xgrid crisp\" transform=\"translate(239,0)\" d=\"M0,40v363\" style=\"stroke: rgb(255, 255, 255); stroke-opacity: 1; stroke-width: 1px;\"/><path class=\"xgrid crisp\" transform=\"translate(463,0)\" d=\"M0,40v363\" style=\"stroke: rgb(255, 255, 255); stroke-opacity: 1; stroke-width: 1px;\"/></g><g class=\"y\"><path class=\"ygrid crisp\" transform=\"translate(0,312.25)\" d=\"M127,0h448\" style=\"stroke: rgb(255, 255, 255); stroke-opacity: 1; stroke-width: 1px;\"/><path class=\"ygrid crisp\" transform=\"translate(0,130.75)\" d=\"M127,0h448\" style=\"stroke: rgb(255, 255, 255); stroke-opacity: 1; stroke-width: 1px;\"/></g></g><g class=\"zerolinelayer\"/><g class=\"layer-between\"><g class=\"shapelayer\"/><g class=\"imagelayer\"/></g><path class=\"xlines-below\"/><path class=\"ylines-below\"/><g class=\"overlines-below\"/><g class=\"xaxislayer-below\"/><g class=\"yaxislayer-below\"/><g class=\"overaxes-below\"/><g class=\"overplot\"><g class=\"xy\" transform=\"translate(127,40)\" clip-path=\"url(#clipfcce39xyplot)\"><g class=\"heatmaplayer mlayer\"><g class=\"hm\"><image xmlns=\"http://www.w3.org/2000/svg\" preserveAspectRatio=\"none\" height=\"363\" width=\"448\" x=\"0\" y=\"0\" xlink:href=\"data:image/png;base64,iVBORw0KGgoAAAANSUhEUgAAAAIAAAACCAYAAABytg0kAAAAG0lEQVQYV2PkMMj+//70FAbGrv13/5+4954BAE85Ca2fp3+BAAAAAElFTkSuQmCC\" style=\"image-rendering: pixelated; opacity: 1;\"/><g class=\"heatmap-label\"><text text-anchor=\"middle\" data-notex=\"1\" x=\"112\" y=\"87.4\" style=\"font-family: 'Open Sans', verdana, arial, sans-serif; font-size: 12px; fill: rgb(255, 255, 255); fill-opacity: 1; white-space: pre;\"><tspan class=\"line\" dy=\"0em\" x=\"112\" y=\"87.4\">30</tspan><tspan class=\"line\" dy=\"1.3em\" x=\"112\" y=\"87.4\">62.50%</tspan></text></g><g class=\"heatmap-label\"><text text-anchor=\"middle\" data-notex=\"1\" x=\"336\" y=\"87.4\" style=\"font-family: 'Open Sans', verdana, arial, sans-serif; font-size: 12px; fill: rgb(68, 68, 68); fill-opacity: 1; white-space: pre;\"><tspan class=\"line\" dy=\"0em\" x=\"336\" y=\"87.4\">18</tspan><tspan class=\"line\" dy=\"1.3em\" x=\"336\" y=\"87.4\">37.50%</tspan></text></g><g class=\"heatmap-label\"><text text-anchor=\"middle\" data-notex=\"1\" x=\"112\" y=\"268.4\" style=\"font-family: 'Open Sans', verdana, arial, sans-serif; font-size: 12px; fill: rgb(68, 68, 68); fill-opacity: 1; white-space: pre;\"><tspan class=\"line\" dy=\"0em\" x=\"112\" y=\"268.4\">25</tspan><tspan class=\"line\" dy=\"1.3em\" x=\"112\" y=\"268.4\">48.08%</tspan></text></g><g class=\"heatmap-label\"><text text-anchor=\"middle\" data-notex=\"1\" x=\"336\" y=\"268.4\" style=\"font-family: 'Open Sans', verdana, arial, sans-serif; font-size: 12px; fill: rgb(68, 68, 68); fill-opacity: 1; white-space: pre;\"><tspan class=\"line\" dy=\"0em\" x=\"336\" y=\"268.4\">27</tspan><tspan class=\"line\" dy=\"1.3em\" x=\"336\" y=\"268.4\">51.92%</tspan></text></g></g></g></g></g><path class=\"xlines-above crisp\" d=\"M0,0\" style=\"fill: none;\"/><path class=\"ylines-above crisp\" d=\"M0,0\" style=\"fill: none;\"/><g class=\"overlines-above\"/><g class=\"xaxislayer-above\"><g class=\"xtick\"><text text-anchor=\"end\" x=\"0\" y=\"416\" transform=\"translate(239,0) rotate(-30,0,410)\" style=\"font-family: 'Open Sans', verdana, arial, sans-serif; font-size: 12px; fill: rgb(42, 63, 95); fill-opacity: 1; white-space: pre; opacity: 1;\">0_accepted</text></g><g class=\"xtick\"><text text-anchor=\"end\" x=\"0\" y=\"416\" transform=\"translate(463,0) rotate(-30,0,410)\" style=\"font-family: 'Open Sans', verdana, arial, sans-serif; font-size: 12px; fill: rgb(42, 63, 95); fill-opacity: 1; white-space: pre; opacity: 1;\">[1-5]_contrarian</text></g></g><g class=\"yaxislayer-above\"><g class=\"ytick\"><text text-anchor=\"end\" x=\"126\" y=\"4.199999999999999\" transform=\"translate(0,312.25)\" style=\"font-family: 'Open Sans', verdana, arial, sans-serif; font-size: 12px; fill: rgb(42, 63, 95); fill-opacity: 1; white-space: pre; opacity: 1;\">[1-5]_contrarian</text></g><g class=\"ytick\"><text text-anchor=\"end\" x=\"126\" y=\"4.199999999999999\" transform=\"translate(0,130.75)\" style=\"font-family: 'Open Sans', verdana, arial, sans-serif; font-size: 12px; fill: rgb(42, 63, 95); fill-opacity: 1; white-space: pre; opacity: 1;\">0_accepted</text></g></g><g class=\"overaxes-above\"/></g></g><g class=\"polarlayer\"/><g class=\"smithlayer\"/><g class=\"ternarylayer\"/><g class=\"geolayer\"/><g class=\"funnelarealayer\"/><g class=\"pielayer\"/><g class=\"iciclelayer\"/><g class=\"treemaplayer\"/><g class=\"sunburstlayer\"/><g class=\"glimages\"/><defs id=\"topdefs-fcce39\"><g class=\"clips\"/></defs><g class=\"layer-above\"><g class=\"imagelayer\"/><g class=\"shapelayer\"/></g><g class=\"infolayer\"><g class=\"g-gtitle\"><text class=\"gtitle\" x=\"351\" y=\"15\" text-anchor=\"middle\" dy=\"0.7em\" style=\"opacity: 1; font-family: 'Open Sans', verdana, arial, sans-serif; font-size: 17px; fill: rgb(42, 63, 95); fill-opacity: 1; white-space: pre;\">Confusion Matrix</text></g><g class=\"g-xtitle\"><text class=\"xtitle\" x=\"351\" y=\"487.44453125\" text-anchor=\"middle\" style=\"opacity: 1; font-family: 'Open Sans', verdana, arial, sans-serif; font-size: 14px; fill: rgb(42, 63, 95); fill-opacity: 1; white-space: pre;\">Predicted class</text></g><g class=\"g-ytitle\"><text class=\"ytitle\" transform=\"rotate(-90,17.631249999999994,221.5)\" x=\"17.631249999999994\" y=\"221.5\" text-anchor=\"middle\" style=\"opacity: 1; font-family: 'Open Sans', verdana, arial, sans-serif; font-size: 14px; fill: rgb(42, 63, 95); fill-opacity: 1; white-space: pre;\">True class</text></g></g></svg>"
      ]
     },
     "metadata": {},
     "output_type": "display_data"
    },
    {
     "name": "stdout",
     "output_type": "stream",
     "text": [
      "CARDS CLASSIFICATION REPORT\n",
      "===========================\n",
      "\n",
      "                                                            precision    recall  f1-score   support\n",
      "\n",
      "                                                0_accepted       0.55      0.62      0.58        48\n",
      "                                       1_its_not_happening       0.20      0.09      0.12        11\n",
      "                                              2_its_not_us       0.33      0.11      0.17         9\n",
      "                                             3_its_not_bad       0.40      0.22      0.29         9\n",
      "                                     4_solutions_wont_work       0.44      0.47      0.46        17\n",
      "4_solutions_wont_work\n",
      "\n",
      "L'extrait contient des affirmations       0.00      0.00      0.00         0\n",
      "                                   5_science_is_unreliable       0.31      0.67      0.42         6\n",
      "\n",
      "                                                  accuracy                           0.46       100\n",
      "                                                 macro avg       0.32      0.31      0.29       100\n",
      "                                              weighted avg       0.44      0.46      0.44       100\n",
      "\n"
     ]
    },
    {
     "data": {
      "image/svg+xml": [
       "<svg class=\"main-svg\" xmlns=\"http://www.w3.org/2000/svg\" xmlns:xlink=\"http://www.w3.org/1999/xlink\" width=\"600\" height=\"500\" style=\"\" viewBox=\"0 0 600 500\"><rect x=\"0\" y=\"0\" width=\"600\" height=\"500\" style=\"fill: rgb(255, 255, 255); fill-opacity: 1;\"/><defs id=\"defs-d9663d\"><g class=\"clips\"><clipPath id=\"clipd9663dxyplot\" class=\"plotclip\"><rect width=\"407\" height=\"343\"/></clipPath><clipPath class=\"axesclip\" id=\"clipd9663dx\"><rect x=\"168\" y=\"0\" width=\"407\" height=\"500\"/></clipPath><clipPath class=\"axesclip\" id=\"clipd9663dy\"><rect x=\"0\" y=\"40\" width=\"600\" height=\"343\"/></clipPath><clipPath class=\"axesclip\" id=\"clipd9663dxy\"><rect x=\"168\" y=\"40\" width=\"407\" height=\"343\"/></clipPath></g><g class=\"gradients\"/><g class=\"patterns\"/></defs><g class=\"bglayer\"><rect class=\"bg\" x=\"168\" y=\"40\" width=\"407\" height=\"343\" style=\"fill: rgb(229, 236, 246); fill-opacity: 1; stroke-width: 0;\"/></g><g class=\"layer-below\"><g class=\"imagelayer\"/><g class=\"shapelayer\"/></g><g class=\"cartesianlayer\"><g class=\"subplot xy\"><g class=\"layer-subplot\"><g class=\"shapelayer\"/><g class=\"imagelayer\"/></g><g class=\"minor-gridlayer\"><g class=\"x\"/><g class=\"y\"/></g><g class=\"gridlayer\"><g class=\"x\"><path class=\"xgrid crisp\" transform=\"translate(201.92000000000002,0)\" d=\"M0,40v343\" style=\"stroke: rgb(255, 255, 255); stroke-opacity: 1; stroke-width: 1px;\"/><path class=\"xgrid crisp\" transform=\"translate(269.75,0)\" d=\"M0,40v343\" style=\"stroke: rgb(255, 255, 255); stroke-opacity: 1; stroke-width: 1px;\"/><path class=\"xgrid crisp\" transform=\"translate(337.58000000000004,0)\" d=\"M0,40v343\" style=\"stroke: rgb(255, 255, 255); stroke-opacity: 1; stroke-width: 1px;\"/><path class=\"xgrid crisp\" transform=\"translate(405.41999999999996,0)\" d=\"M0,40v343\" style=\"stroke: rgb(255, 255, 255); stroke-opacity: 1; stroke-width: 1px;\"/><path class=\"xgrid crisp\" transform=\"translate(473.25,0)\" d=\"M0,40v343\" style=\"stroke: rgb(255, 255, 255); stroke-opacity: 1; stroke-width: 1px;\"/><path class=\"xgrid crisp\" transform=\"translate(541.0799999999999,0)\" d=\"M0,40v343\" style=\"stroke: rgb(255, 255, 255); stroke-opacity: 1; stroke-width: 1px;\"/></g><g class=\"y\"><path class=\"ygrid crisp\" transform=\"translate(0,354.42)\" d=\"M168,0h407\" style=\"stroke: rgb(255, 255, 255); stroke-opacity: 1; stroke-width: 1px;\"/><path class=\"ygrid crisp\" transform=\"translate(0,297.25)\" d=\"M168,0h407\" style=\"stroke: rgb(255, 255, 255); stroke-opacity: 1; stroke-width: 1px;\"/><path class=\"ygrid crisp\" transform=\"translate(0,240.08)\" d=\"M168,0h407\" style=\"stroke: rgb(255, 255, 255); stroke-opacity: 1; stroke-width: 1px;\"/><path class=\"ygrid crisp\" transform=\"translate(0,182.92)\" d=\"M168,0h407\" style=\"stroke: rgb(255, 255, 255); stroke-opacity: 1; stroke-width: 1px;\"/><path class=\"ygrid crisp\" transform=\"translate(0,125.75)\" d=\"M168,0h407\" style=\"stroke: rgb(255, 255, 255); stroke-opacity: 1; stroke-width: 1px;\"/><path class=\"ygrid crisp\" transform=\"translate(0,68.58)\" d=\"M168,0h407\" style=\"stroke: rgb(255, 255, 255); stroke-opacity: 1; stroke-width: 1px;\"/></g></g><g class=\"zerolinelayer\"/><g class=\"layer-between\"><g class=\"shapelayer\"/><g class=\"imagelayer\"/></g><path class=\"xlines-below\"/><path class=\"ylines-below\"/><g class=\"overlines-below\"/><g class=\"xaxislayer-below\"/><g class=\"yaxislayer-below\"/><g class=\"overaxes-below\"/><g class=\"overplot\"><g class=\"xy\" transform=\"translate(168,40)\" clip-path=\"url(#clipd9663dxyplot)\"><g class=\"heatmaplayer mlayer\"><g class=\"hm\"><image xmlns=\"http://www.w3.org/2000/svg\" preserveAspectRatio=\"none\" height=\"343\" width=\"407\" x=\"0\" y=\"0\" xlink:href=\"data:image/png;base64,iVBORw0KGgoAAAANSUhEUgAAAAYAAAAGCAYAAADgzO9IAAAAhklEQVQYV2PksK75f2dLLQMvBwvD5x9/GK49/8RgrijEwGjcvO//ynQLBhCQFuQE06krLzIwmrcf+H+gxJ7h/uuvDIqi3GAJh56DDIwcBtn/35+eAhbYcvU5g7YYH1gBo27t7v87iu0YhLjZwJJmTXsYTtW5MDBmr7v2v8dXEywIA4KmOQwAIOYquWmCzJwAAAAASUVORK5CYII=\" style=\"image-rendering: pixelated; opacity: 1;\"/><g class=\"heatmap-label\"><text text-anchor=\"middle\" data-notex=\"1\" x=\"34\" y=\"25.4\" style=\"font-family: 'Open Sans', verdana, arial, sans-serif; font-size: 12px; fill: rgb(255, 255, 255); fill-opacity: 1; white-space: pre;\"><tspan class=\"line\" dy=\"0em\" x=\"34\" y=\"25.4\">30</tspan><tspan class=\"line\" dy=\"1.3em\" x=\"34\" y=\"25.4\">63.83%</tspan></text></g><g class=\"heatmap-label\"><text text-anchor=\"middle\" data-notex=\"1\" x=\"102\" y=\"25.4\" style=\"font-family: 'Open Sans', verdana, arial, sans-serif; font-size: 12px; fill: rgb(68, 68, 68); fill-opacity: 1; white-space: pre;\"><tspan class=\"line\" dy=\"0em\" x=\"102\" y=\"25.4\">3</tspan><tspan class=\"line\" dy=\"1.3em\" x=\"102\" y=\"25.4\">6.38%</tspan></text></g><g class=\"heatmap-label\"><text text-anchor=\"middle\" data-notex=\"1\" x=\"170\" y=\"25.4\" style=\"font-family: 'Open Sans', verdana, arial, sans-serif; font-size: 12px; fill: rgb(68, 68, 68); fill-opacity: 1; white-space: pre;\"><tspan class=\"line\" dy=\"0em\" x=\"170\" y=\"25.4\">1</tspan><tspan class=\"line\" dy=\"1.3em\" x=\"170\" y=\"25.4\">2.13%</tspan></text></g><g class=\"heatmap-label\"><text text-anchor=\"middle\" data-notex=\"1\" x=\"237\" y=\"25.4\" style=\"font-family: 'Open Sans', verdana, arial, sans-serif; font-size: 12px; fill: rgb(68, 68, 68); fill-opacity: 1; white-space: pre;\"><tspan class=\"line\" dy=\"0em\" x=\"237\" y=\"25.4\">3</tspan><tspan class=\"line\" dy=\"1.3em\" x=\"237\" y=\"25.4\">6.38%</tspan></text></g><g class=\"heatmap-label\"><text text-anchor=\"middle\" data-notex=\"1\" x=\"305\" y=\"25.4\" style=\"font-family: 'Open Sans', verdana, arial, sans-serif; font-size: 12px; fill: rgb(68, 68, 68); fill-opacity: 1; white-space: pre;\"><tspan class=\"line\" dy=\"0em\" x=\"305\" y=\"25.4\">9</tspan><tspan class=\"line\" dy=\"1.3em\" x=\"305\" y=\"25.4\">19.15%</tspan></text></g><g class=\"heatmap-label\"><text text-anchor=\"middle\" data-notex=\"1\" x=\"373\" y=\"25.4\" style=\"font-family: 'Open Sans', verdana, arial, sans-serif; font-size: 12px; fill: rgb(68, 68, 68); fill-opacity: 1; white-space: pre;\"><tspan class=\"line\" dy=\"0em\" x=\"373\" y=\"25.4\">1</tspan><tspan class=\"line\" dy=\"1.3em\" x=\"373\" y=\"25.4\">2.13%</tspan></text></g><g class=\"heatmap-label\"><text text-anchor=\"middle\" data-notex=\"1\" x=\"34\" y=\"82.4\" style=\"font-family: 'Open Sans', verdana, arial, sans-serif; font-size: 12px; fill: rgb(255, 255, 255); fill-opacity: 1; white-space: pre;\"><tspan class=\"line\" dy=\"0em\" x=\"34\" y=\"82.4\">5</tspan><tspan class=\"line\" dy=\"1.3em\" x=\"34\" y=\"82.4\">45.45%</tspan></text></g><g class=\"heatmap-label\"><text text-anchor=\"middle\" data-notex=\"1\" x=\"102\" y=\"82.4\" style=\"font-family: 'Open Sans', verdana, arial, sans-serif; font-size: 12px; fill: rgb(68, 68, 68); fill-opacity: 1; white-space: pre;\"><tspan class=\"line\" dy=\"0em\" x=\"102\" y=\"82.4\">1</tspan><tspan class=\"line\" dy=\"1.3em\" x=\"102\" y=\"82.4\">9.09%</tspan></text></g><g class=\"heatmap-label\"><text text-anchor=\"middle\" data-notex=\"1\" x=\"170\" y=\"82.4\" style=\"font-family: 'Open Sans', verdana, arial, sans-serif; font-size: 12px; fill: rgb(68, 68, 68); fill-opacity: 1; white-space: pre;\"><tspan class=\"line\" dy=\"0em\" x=\"170\" y=\"82.4\">1</tspan><tspan class=\"line\" dy=\"1.3em\" x=\"170\" y=\"82.4\">9.09%</tspan></text></g><g class=\"heatmap-label\"><text text-anchor=\"middle\" data-notex=\"1\" x=\"237\" y=\"90.2\" style=\"font-family: 'Open Sans', verdana, arial, sans-serif; font-size: 12px; fill: rgb(68, 68, 68); fill-opacity: 1; white-space: pre;\">0</text></g><g class=\"heatmap-label\"><text text-anchor=\"middle\" data-notex=\"1\" x=\"305\" y=\"90.2\" style=\"font-family: 'Open Sans', verdana, arial, sans-serif; font-size: 12px; fill: rgb(68, 68, 68); fill-opacity: 1; white-space: pre;\">0</text></g><g class=\"heatmap-label\"><text text-anchor=\"middle\" data-notex=\"1\" x=\"373\" y=\"82.4\" style=\"font-family: 'Open Sans', verdana, arial, sans-serif; font-size: 12px; fill: rgb(68, 68, 68); fill-opacity: 1; white-space: pre;\"><tspan class=\"line\" dy=\"0em\" x=\"373\" y=\"82.4\">4</tspan><tspan class=\"line\" dy=\"1.3em\" x=\"373\" y=\"82.4\">36.36%</tspan></text></g><g class=\"heatmap-label\"><text text-anchor=\"middle\" data-notex=\"1\" x=\"34\" y=\"139.4\" style=\"font-family: 'Open Sans', verdana, arial, sans-serif; font-size: 12px; fill: rgb(255, 255, 255); fill-opacity: 1; white-space: pre;\"><tspan class=\"line\" dy=\"0em\" x=\"34\" y=\"139.4\">4</tspan><tspan class=\"line\" dy=\"1.3em\" x=\"34\" y=\"139.4\">44.44%</tspan></text></g><g class=\"heatmap-label\"><text text-anchor=\"middle\" data-notex=\"1\" x=\"102\" y=\"147.2\" style=\"font-family: 'Open Sans', verdana, arial, sans-serif; font-size: 12px; fill: rgb(68, 68, 68); fill-opacity: 1; white-space: pre;\">0</text></g><g class=\"heatmap-label\"><text text-anchor=\"middle\" data-notex=\"1\" x=\"170\" y=\"139.4\" style=\"font-family: 'Open Sans', verdana, arial, sans-serif; font-size: 12px; fill: rgb(68, 68, 68); fill-opacity: 1; white-space: pre;\"><tspan class=\"line\" dy=\"0em\" x=\"170\" y=\"139.4\">1</tspan><tspan class=\"line\" dy=\"1.3em\" x=\"170\" y=\"139.4\">11.11%</tspan></text></g><g class=\"heatmap-label\"><text text-anchor=\"middle\" data-notex=\"1\" x=\"237\" y=\"147.2\" style=\"font-family: 'Open Sans', verdana, arial, sans-serif; font-size: 12px; fill: rgb(68, 68, 68); fill-opacity: 1; white-space: pre;\">0</text></g><g class=\"heatmap-label\"><text text-anchor=\"middle\" data-notex=\"1\" x=\"305\" y=\"147.2\" style=\"font-family: 'Open Sans', verdana, arial, sans-serif; font-size: 12px; fill: rgb(68, 68, 68); fill-opacity: 1; white-space: pre;\">0</text></g><g class=\"heatmap-label\"><text text-anchor=\"middle\" data-notex=\"1\" x=\"373\" y=\"139.4\" style=\"font-family: 'Open Sans', verdana, arial, sans-serif; font-size: 12px; fill: rgb(255, 255, 255); fill-opacity: 1; white-space: pre;\"><tspan class=\"line\" dy=\"0em\" x=\"373\" y=\"139.4\">4</tspan><tspan class=\"line\" dy=\"1.3em\" x=\"373\" y=\"139.4\">44.44%</tspan></text></g><g class=\"heatmap-label\"><text text-anchor=\"middle\" data-notex=\"1\" x=\"34\" y=\"196.4\" style=\"font-family: 'Open Sans', verdana, arial, sans-serif; font-size: 12px; fill: rgb(255, 255, 255); fill-opacity: 1; white-space: pre;\"><tspan class=\"line\" dy=\"0em\" x=\"34\" y=\"196.4\">6</tspan><tspan class=\"line\" dy=\"1.3em\" x=\"34\" y=\"196.4\">66.67%</tspan></text></g><g class=\"heatmap-label\"><text text-anchor=\"middle\" data-notex=\"1\" x=\"102\" y=\"204.2\" style=\"font-family: 'Open Sans', verdana, arial, sans-serif; font-size: 12px; fill: rgb(68, 68, 68); fill-opacity: 1; white-space: pre;\">0</text></g><g class=\"heatmap-label\"><text text-anchor=\"middle\" data-notex=\"1\" x=\"170\" y=\"204.2\" style=\"font-family: 'Open Sans', verdana, arial, sans-serif; font-size: 12px; fill: rgb(68, 68, 68); fill-opacity: 1; white-space: pre;\">0</text></g><g class=\"heatmap-label\"><text text-anchor=\"middle\" data-notex=\"1\" x=\"237\" y=\"196.4\" style=\"font-family: 'Open Sans', verdana, arial, sans-serif; font-size: 12px; fill: rgb(68, 68, 68); fill-opacity: 1; white-space: pre;\"><tspan class=\"line\" dy=\"0em\" x=\"237\" y=\"196.4\">2</tspan><tspan class=\"line\" dy=\"1.3em\" x=\"237\" y=\"196.4\">22.22%</tspan></text></g><g class=\"heatmap-label\"><text text-anchor=\"middle\" data-notex=\"1\" x=\"305\" y=\"196.4\" style=\"font-family: 'Open Sans', verdana, arial, sans-serif; font-size: 12px; fill: rgb(68, 68, 68); fill-opacity: 1; white-space: pre;\"><tspan class=\"line\" dy=\"0em\" x=\"305\" y=\"196.4\">1</tspan><tspan class=\"line\" dy=\"1.3em\" x=\"305\" y=\"196.4\">11.11%</tspan></text></g><g class=\"heatmap-label\"><text text-anchor=\"middle\" data-notex=\"1\" x=\"373\" y=\"204.2\" style=\"font-family: 'Open Sans', verdana, arial, sans-serif; font-size: 12px; fill: rgb(68, 68, 68); fill-opacity: 1; white-space: pre;\">0</text></g><g class=\"heatmap-label\"><text text-anchor=\"middle\" data-notex=\"1\" x=\"34\" y=\"253.4\" style=\"font-family: 'Open Sans', verdana, arial, sans-serif; font-size: 12px; fill: rgb(255, 255, 255); fill-opacity: 1; white-space: pre;\"><tspan class=\"line\" dy=\"0em\" x=\"34\" y=\"253.4\">8</tspan><tspan class=\"line\" dy=\"1.3em\" x=\"34\" y=\"253.4\">47.06%</tspan></text></g><g class=\"heatmap-label\"><text text-anchor=\"middle\" data-notex=\"1\" x=\"102\" y=\"253.4\" style=\"font-family: 'Open Sans', verdana, arial, sans-serif; font-size: 12px; fill: rgb(68, 68, 68); fill-opacity: 1; white-space: pre;\"><tspan class=\"line\" dy=\"0em\" x=\"102\" y=\"253.4\">1</tspan><tspan class=\"line\" dy=\"1.3em\" x=\"102\" y=\"253.4\">5.88%</tspan></text></g><g class=\"heatmap-label\"><text text-anchor=\"middle\" data-notex=\"1\" x=\"170\" y=\"261.2\" style=\"font-family: 'Open Sans', verdana, arial, sans-serif; font-size: 12px; fill: rgb(68, 68, 68); fill-opacity: 1; white-space: pre;\">0</text></g><g class=\"heatmap-label\"><text text-anchor=\"middle\" data-notex=\"1\" x=\"237\" y=\"261.2\" style=\"font-family: 'Open Sans', verdana, arial, sans-serif; font-size: 12px; fill: rgb(68, 68, 68); fill-opacity: 1; white-space: pre;\">0</text></g><g class=\"heatmap-label\"><text text-anchor=\"middle\" data-notex=\"1\" x=\"305\" y=\"253.4\" style=\"font-family: 'Open Sans', verdana, arial, sans-serif; font-size: 12px; fill: rgb(255, 255, 255); fill-opacity: 1; white-space: pre;\"><tspan class=\"line\" dy=\"0em\" x=\"305\" y=\"253.4\">8</tspan><tspan class=\"line\" dy=\"1.3em\" x=\"305\" y=\"253.4\">47.06%</tspan></text></g><g class=\"heatmap-label\"><text text-anchor=\"middle\" data-notex=\"1\" x=\"373\" y=\"261.2\" style=\"font-family: 'Open Sans', verdana, arial, sans-serif; font-size: 12px; fill: rgb(68, 68, 68); fill-opacity: 1; white-space: pre;\">0</text></g><g class=\"heatmap-label\"><text text-anchor=\"middle\" data-notex=\"1\" x=\"34\" y=\"310.4\" style=\"font-family: 'Open Sans', verdana, arial, sans-serif; font-size: 12px; fill: rgb(68, 68, 68); fill-opacity: 1; white-space: pre;\"><tspan class=\"line\" dy=\"0em\" x=\"34\" y=\"310.4\">2</tspan><tspan class=\"line\" dy=\"1.3em\" x=\"34\" y=\"310.4\">33.33%</tspan></text></g><g class=\"heatmap-label\"><text text-anchor=\"middle\" data-notex=\"1\" x=\"102\" y=\"318.2\" style=\"font-family: 'Open Sans', verdana, arial, sans-serif; font-size: 12px; fill: rgb(68, 68, 68); fill-opacity: 1; white-space: pre;\">0</text></g><g class=\"heatmap-label\"><text text-anchor=\"middle\" data-notex=\"1\" x=\"170\" y=\"318.2\" style=\"font-family: 'Open Sans', verdana, arial, sans-serif; font-size: 12px; fill: rgb(68, 68, 68); fill-opacity: 1; white-space: pre;\">0</text></g><g class=\"heatmap-label\"><text text-anchor=\"middle\" data-notex=\"1\" x=\"237\" y=\"318.2\" style=\"font-family: 'Open Sans', verdana, arial, sans-serif; font-size: 12px; fill: rgb(68, 68, 68); fill-opacity: 1; white-space: pre;\">0</text></g><g class=\"heatmap-label\"><text text-anchor=\"middle\" data-notex=\"1\" x=\"305\" y=\"318.2\" style=\"font-family: 'Open Sans', verdana, arial, sans-serif; font-size: 12px; fill: rgb(68, 68, 68); fill-opacity: 1; white-space: pre;\">0</text></g><g class=\"heatmap-label\"><text text-anchor=\"middle\" data-notex=\"1\" x=\"373\" y=\"310.4\" style=\"font-family: 'Open Sans', verdana, arial, sans-serif; font-size: 12px; fill: rgb(255, 255, 255); fill-opacity: 1; white-space: pre;\"><tspan class=\"line\" dy=\"0em\" x=\"373\" y=\"310.4\">4</tspan><tspan class=\"line\" dy=\"1.3em\" x=\"373\" y=\"310.4\">66.67%</tspan></text></g></g></g></g></g><path class=\"xlines-above crisp\" d=\"M0,0\" style=\"fill: none;\"/><path class=\"ylines-above crisp\" d=\"M0,0\" style=\"fill: none;\"/><g class=\"overlines-above\"/><g class=\"xaxislayer-above\"><g class=\"xtick\"><text text-anchor=\"end\" x=\"0\" y=\"396\" transform=\"translate(201.92000000000002,0) rotate(-30,0,390)\" style=\"font-family: 'Open Sans', verdana, arial, sans-serif; font-size: 12px; fill: rgb(42, 63, 95); fill-opacity: 1; white-space: pre; opacity: 1;\">0_accepted</text></g><g class=\"xtick\"><text text-anchor=\"end\" x=\"0\" y=\"396\" transform=\"translate(269.75,0) rotate(-30,0,390)\" style=\"font-family: 'Open Sans', verdana, arial, sans-serif; font-size: 12px; fill: rgb(42, 63, 95); fill-opacity: 1; white-space: pre; opacity: 1;\">1_its_not_happening</text></g><g class=\"xtick\"><text text-anchor=\"end\" x=\"0\" y=\"396\" transform=\"translate(337.58000000000004,0) rotate(-30,0,390)\" style=\"font-family: 'Open Sans', verdana, arial, sans-serif; font-size: 12px; fill: rgb(42, 63, 95); fill-opacity: 1; white-space: pre; opacity: 1;\">2_its_not_us</text></g><g class=\"xtick\"><text text-anchor=\"end\" x=\"0\" y=\"396\" transform=\"translate(405.41999999999996,0) rotate(-30,0,390)\" style=\"font-family: 'Open Sans', verdana, arial, sans-serif; font-size: 12px; fill: rgb(42, 63, 95); fill-opacity: 1; white-space: pre; opacity: 1;\">3_its_not_bad</text></g><g class=\"xtick\"><text text-anchor=\"end\" x=\"0\" y=\"396\" transform=\"translate(473.25,0) rotate(-30,0,390)\" style=\"font-family: 'Open Sans', verdana, arial, sans-serif; font-size: 12px; fill: rgb(42, 63, 95); fill-opacity: 1; white-space: pre; opacity: 1;\">4_solutions_wont_work</text></g><g class=\"xtick\"><text text-anchor=\"end\" x=\"0\" y=\"396\" transform=\"translate(541.0799999999999,0) rotate(-30,0,390)\" style=\"font-family: 'Open Sans', verdana, arial, sans-serif; font-size: 12px; fill: rgb(42, 63, 95); fill-opacity: 1; white-space: pre; opacity: 1;\">5_science_is_unreliable</text></g></g><g class=\"yaxislayer-above\"><g class=\"ytick\"><text text-anchor=\"end\" x=\"167\" y=\"4.199999999999999\" transform=\"translate(0,354.42)\" style=\"font-family: 'Open Sans', verdana, arial, sans-serif; font-size: 12px; fill: rgb(42, 63, 95); fill-opacity: 1; white-space: pre; opacity: 1;\">5_science_is_unreliable</text></g><g class=\"ytick\"><text text-anchor=\"end\" x=\"167\" y=\"4.199999999999999\" transform=\"translate(0,297.25)\" style=\"font-family: 'Open Sans', verdana, arial, sans-serif; font-size: 12px; fill: rgb(42, 63, 95); fill-opacity: 1; white-space: pre; opacity: 1;\">4_solutions_wont_work</text></g><g class=\"ytick\"><text text-anchor=\"end\" x=\"167\" y=\"4.199999999999999\" transform=\"translate(0,240.08)\" style=\"font-family: 'Open Sans', verdana, arial, sans-serif; font-size: 12px; fill: rgb(42, 63, 95); fill-opacity: 1; white-space: pre; opacity: 1;\">3_its_not_bad</text></g><g class=\"ytick\"><text text-anchor=\"end\" x=\"167\" y=\"4.199999999999999\" transform=\"translate(0,182.92)\" style=\"font-family: 'Open Sans', verdana, arial, sans-serif; font-size: 12px; fill: rgb(42, 63, 95); fill-opacity: 1; white-space: pre; opacity: 1;\">2_its_not_us</text></g><g class=\"ytick\"><text text-anchor=\"end\" x=\"167\" y=\"4.199999999999999\" transform=\"translate(0,125.75)\" style=\"font-family: 'Open Sans', verdana, arial, sans-serif; font-size: 12px; fill: rgb(42, 63, 95); fill-opacity: 1; white-space: pre; opacity: 1;\">1_its_not_happening</text></g><g class=\"ytick\"><text text-anchor=\"end\" x=\"167\" y=\"4.199999999999999\" transform=\"translate(0,68.58)\" style=\"font-family: 'Open Sans', verdana, arial, sans-serif; font-size: 12px; fill: rgb(42, 63, 95); fill-opacity: 1; white-space: pre; opacity: 1;\">0_accepted</text></g></g><g class=\"overaxes-above\"/></g></g><g class=\"polarlayer\"/><g class=\"smithlayer\"/><g class=\"ternarylayer\"/><g class=\"geolayer\"/><g class=\"funnelarealayer\"/><g class=\"pielayer\"/><g class=\"iciclelayer\"/><g class=\"treemaplayer\"/><g class=\"sunburstlayer\"/><g class=\"glimages\"/><defs id=\"topdefs-d9663d\"><g class=\"clips\"/></defs><g class=\"layer-above\"><g class=\"imagelayer\"/><g class=\"shapelayer\"/></g><g class=\"infolayer\"><g class=\"g-gtitle\"><text class=\"gtitle\" x=\"371.5\" y=\"15\" text-anchor=\"middle\" dy=\"0.7em\" style=\"opacity: 1; font-family: 'Open Sans', verdana, arial, sans-serif; font-size: 17px; fill: rgb(42, 63, 95); fill-opacity: 1; white-space: pre;\">Confusion Matrix</text></g><g class=\"g-xtitle\"><text class=\"xtitle\" x=\"371.5\" y=\"487.93671875\" text-anchor=\"middle\" style=\"opacity: 1; font-family: 'Open Sans', verdana, arial, sans-serif; font-size: 14px; fill: rgb(42, 63, 95); fill-opacity: 1; white-space: pre;\">Predicted class</text></g><g class=\"g-ytitle\"><text class=\"ytitle\" transform=\"rotate(-90,17.646874999999994,211.5)\" x=\"17.646874999999994\" y=\"211.5\" text-anchor=\"middle\" style=\"opacity: 1; font-family: 'Open Sans', verdana, arial, sans-serif; font-size: 14px; fill: rgb(42, 63, 95); fill-opacity: 1; white-space: pre;\">True class</text></g></g></svg>"
      ]
     },
     "metadata": {},
     "output_type": "display_data"
    }
   ],
   "source": [
    "async def predict_cards_label(text: str) -> MediatreePrediction:\n",
    "    system_prompt = \"\"\"Tu es expert en désinformation sur les sujets environnementaux, expert en science climatique et sachant tout sur le GIEC. Je vais te donner un extrait d'une retranscription de 2 minutes d'un flux TV ou Radio. Ta tâche est d'identifier si l'extrait contient des affirmations trompeuses sur les thématiques environnementales (changement climatique, transition écologique, énergie, biodiversité, pollution, pesticides, ressources (eau, minéraux, ...).\n",
    "\n",
    "<predefined_categories>\n",
    "- 0_accepted: The text doesn't contain misinformation or is off topic.\n",
    "- 1_its_not_happening\n",
    "  - Ice isn't melting\n",
    "    - Antarctica isn't melting\n",
    "    - Greenland isn't melting\n",
    "    - Arctic isn't melting\n",
    "    - Glaciers aren't vanishing\n",
    "  - Heading into ice age\n",
    "  - Weather is cold\n",
    "  - Hiatus in warming\n",
    "  - Oceans are cooling\n",
    "  - Sea level rise is exaggerated\n",
    "  - Extreme aren't increasing\n",
    "  - Changed the name\n",
    "- 2_its_not_us\n",
    "  - It's natural cycles\n",
    "    - It's the sun\n",
    "    - It's geological\n",
    "    - It's the ocean\n",
    "    - Past climate change\n",
    "    - Tiny CO2 emissions\n",
    "  - Non-Greenhouse Gas forcings\n",
    "  - No evidence for Greenhouse Effect\n",
    "    - CO2 is trace gas\n",
    "    - Greenhouse Effect is saturated\n",
    "    - CO2 lags climate\n",
    "    - Water vapor\n",
    "    - Tropospheric hot spot\n",
    "    - CO2 high in past\n",
    "  - CO2 not rising\n",
    "  - Emissions not raising CO2 levels\n",
    "- 3_its_not_bad\n",
    "  - Sensitivity is low\n",
    "  - No species impact\n",
    "    - Species can adapt\n",
    "    - Polar bears OK\n",
    "    - Oceans are OK\n",
    "  - Not a pollutant\n",
    "    - CO2 is plant food\n",
    "  - Only a few degrees\n",
    "  - No link to conflict\n",
    "  - No health impacts\n",
    "- 4_solutions_wont_work\n",
    "  - Policies are harmful\n",
    "    - Policy increases costs\n",
    "    - Policy weakens security\n",
    "    - Policy harms environment\n",
    "    - Risk future generations\n",
    "    - Limits freedom\n",
    "  - Policies are ineffective\n",
    "    - Green jobs don't work\n",
    "    - Markets more efficient\n",
    "    - Policy impact is negligible\n",
    "    - One country is negligible\n",
    "    - Better to adapt\n",
    "    - China's emissions\n",
    "    - Techno fix\n",
    "  - Too hard\n",
    "    - Policy too difficult\n",
    "    - Low public support\n",
    "  - Clean energy won't work\n",
    "    - Clean energy unreliable\n",
    "    - Carbon Capture and Sequestration is unproven\n",
    "  - We need energy\n",
    "    - Fossil fuels are plentiful\n",
    "    - Fossil fuels are cheap\n",
    "    - Nuclear is good\n",
    "- 5_science_is_unreliable\n",
    "  - Science is unreliable\n",
    "    - No consensus\n",
    "    - Proxies are unreliable\n",
    "    - Temp is unreliable\n",
    "    - Models are unreliable\n",
    "  - Movement is unreliable\n",
    "    - Climate is religion\n",
    "    - Media is alarmist\n",
    "    - Politicians are biased\n",
    "    - Environmentalists are alarmist\n",
    "    - Scientists are biased\n",
    "  - Climate is conspiracy\n",
    "    - Policy is conspiracy\n",
    "    - Science is conspiracy\n",
    "</predefined_categories>\n",
    "\n",
    "Ne fournis que le label de la catégorie correcte, sans autre phrase d'introduction ou de conclusion.\n",
    "\"\"\"\n",
    "    response = await acompletion(\n",
    "        messages=[\n",
    "            {\"role\": \"system\", \"content\": system_prompt},\n",
    "            {\"role\": \"user\", \"content\": text.strip()},\n",
    "        ],\n",
    "        model=\"anthropic.claude-3-haiku-20240307-v1:0\",\n",
    "        max_tokens=20,\n",
    "        temperature=0,\n",
    "    )\n",
    "    cards_label_pred = response.choices[0].message.content\n",
    "    return MediatreePrediction(\n",
    "        cards_label_pred=cards_label_pred,\n",
    "        prompt_tokens=response.usage.prompt_tokens,\n",
    "        completion_tokens=response.usage.completion_tokens,\n",
    "        total_tokens=response.usage.total_tokens,\n",
    "        cost=completion_cost(response),\n",
    "    )\n",
    "\n",
    "\n",
    "await report_experiment_results(df, predict_cards_label)"
   ]
  },
  {
   "cell_type": "markdown",
   "metadata": {},
   "source": [
    "### Generated descriptions from CARDS taxonomy\n"
   ]
  },
  {
   "cell_type": "code",
   "execution_count": 8,
   "metadata": {},
   "outputs": [
    {
     "name": "stderr",
     "output_type": "stream",
     "text": [
      "100%|██████████| 100/100 [00:14<00:00,  6.76it/s]"
     ]
    },
    {
     "name": "stdout",
     "output_type": "stream",
     "text": [
      "\n",
      "LLM USAGE\n",
      "=========\n",
      "\n",
      "Median token usage:\n",
      "- Prompt: 1854\n",
      "- Completion: 7\n",
      "- Total: 1861\n",
      "\n",
      "Total cost: $0.047\n",
      "\n",
      "BINARY CLASSIFICATION REPORT\n",
      "============================\n",
      "\n",
      "              precision    recall  f1-score   support\n",
      "\n",
      "       False       0.61      0.73      0.67        48\n",
      "        True       0.70      0.58      0.63        52\n",
      "\n",
      "    accuracy                           0.65       100\n",
      "   macro avg       0.66      0.65      0.65       100\n",
      "weighted avg       0.66      0.65      0.65       100\n",
      "\n"
     ]
    },
    {
     "name": "stderr",
     "output_type": "stream",
     "text": [
      "\n"
     ]
    },
    {
     "data": {
      "image/svg+xml": [
       "<svg class=\"main-svg\" xmlns=\"http://www.w3.org/2000/svg\" xmlns:xlink=\"http://www.w3.org/1999/xlink\" width=\"600\" height=\"500\" style=\"\" viewBox=\"0 0 600 500\"><rect x=\"0\" y=\"0\" width=\"600\" height=\"500\" style=\"fill: rgb(255, 255, 255); fill-opacity: 1;\"/><defs id=\"defs-9d8fea\"><g class=\"clips\"><clipPath id=\"clip9d8feaxyplot\" class=\"plotclip\"><rect width=\"448\" height=\"363\"/></clipPath><clipPath class=\"axesclip\" id=\"clip9d8feax\"><rect x=\"127\" y=\"0\" width=\"448\" height=\"500\"/></clipPath><clipPath class=\"axesclip\" id=\"clip9d8feay\"><rect x=\"0\" y=\"40\" width=\"600\" height=\"363\"/></clipPath><clipPath class=\"axesclip\" id=\"clip9d8feaxy\"><rect x=\"127\" y=\"40\" width=\"448\" height=\"363\"/></clipPath></g><g class=\"gradients\"/><g class=\"patterns\"/></defs><g class=\"bglayer\"><rect class=\"bg\" x=\"127\" y=\"40\" width=\"448\" height=\"363\" style=\"fill: rgb(229, 236, 246); fill-opacity: 1; stroke-width: 0;\"/></g><g class=\"layer-below\"><g class=\"imagelayer\"/><g class=\"shapelayer\"/></g><g class=\"cartesianlayer\"><g class=\"subplot xy\"><g class=\"layer-subplot\"><g class=\"shapelayer\"/><g class=\"imagelayer\"/></g><g class=\"minor-gridlayer\"><g class=\"x\"/><g class=\"y\"/></g><g class=\"gridlayer\"><g class=\"x\"><path class=\"xgrid crisp\" transform=\"translate(239,0)\" d=\"M0,40v363\" style=\"stroke: rgb(255, 255, 255); stroke-opacity: 1; stroke-width: 1px;\"/><path class=\"xgrid crisp\" transform=\"translate(463,0)\" d=\"M0,40v363\" style=\"stroke: rgb(255, 255, 255); stroke-opacity: 1; stroke-width: 1px;\"/></g><g class=\"y\"><path class=\"ygrid crisp\" transform=\"translate(0,312.25)\" d=\"M127,0h448\" style=\"stroke: rgb(255, 255, 255); stroke-opacity: 1; stroke-width: 1px;\"/><path class=\"ygrid crisp\" transform=\"translate(0,130.75)\" d=\"M127,0h448\" style=\"stroke: rgb(255, 255, 255); stroke-opacity: 1; stroke-width: 1px;\"/></g></g><g class=\"zerolinelayer\"/><g class=\"layer-between\"><g class=\"shapelayer\"/><g class=\"imagelayer\"/></g><path class=\"xlines-below\"/><path class=\"ylines-below\"/><g class=\"overlines-below\"/><g class=\"xaxislayer-below\"/><g class=\"yaxislayer-below\"/><g class=\"overaxes-below\"/><g class=\"overplot\"><g class=\"xy\" transform=\"translate(127,40)\" clip-path=\"url(#clip9d8feaxyplot)\"><g class=\"heatmaplayer mlayer\"><g class=\"hm\"><image xmlns=\"http://www.w3.org/2000/svg\" preserveAspectRatio=\"none\" height=\"363\" width=\"448\" x=\"0\" y=\"0\" xlink:href=\"data:image/png;base64,iVBORw0KGgoAAAANSUhEUgAAAAIAAAACCAYAAABytg0kAAAAG0lEQVQYV2PkMMj+//70FAbGNRee/e/efosBAE9jCXAVI9sUAAAAAElFTkSuQmCC\" style=\"image-rendering: pixelated; opacity: 1;\"/><g class=\"heatmap-label\"><text text-anchor=\"middle\" data-notex=\"1\" x=\"112\" y=\"87.4\" style=\"font-family: 'Open Sans', verdana, arial, sans-serif; font-size: 12px; fill: rgb(255, 255, 255); fill-opacity: 1; white-space: pre;\"><tspan class=\"line\" dy=\"0em\" x=\"112\" y=\"87.4\">35</tspan><tspan class=\"line\" dy=\"1.3em\" x=\"112\" y=\"87.4\">72.92%</tspan></text></g><g class=\"heatmap-label\"><text text-anchor=\"middle\" data-notex=\"1\" x=\"336\" y=\"87.4\" style=\"font-family: 'Open Sans', verdana, arial, sans-serif; font-size: 12px; fill: rgb(68, 68, 68); fill-opacity: 1; white-space: pre;\"><tspan class=\"line\" dy=\"0em\" x=\"336\" y=\"87.4\">13</tspan><tspan class=\"line\" dy=\"1.3em\" x=\"336\" y=\"87.4\">27.08%</tspan></text></g><g class=\"heatmap-label\"><text text-anchor=\"middle\" data-notex=\"1\" x=\"112\" y=\"268.4\" style=\"font-family: 'Open Sans', verdana, arial, sans-serif; font-size: 12px; fill: rgb(68, 68, 68); fill-opacity: 1; white-space: pre;\"><tspan class=\"line\" dy=\"0em\" x=\"112\" y=\"268.4\">22</tspan><tspan class=\"line\" dy=\"1.3em\" x=\"112\" y=\"268.4\">42.31%</tspan></text></g><g class=\"heatmap-label\"><text text-anchor=\"middle\" data-notex=\"1\" x=\"336\" y=\"268.4\" style=\"font-family: 'Open Sans', verdana, arial, sans-serif; font-size: 12px; fill: rgb(255, 255, 255); fill-opacity: 1; white-space: pre;\"><tspan class=\"line\" dy=\"0em\" x=\"336\" y=\"268.4\">30</tspan><tspan class=\"line\" dy=\"1.3em\" x=\"336\" y=\"268.4\">57.69%</tspan></text></g></g></g></g></g><path class=\"xlines-above crisp\" d=\"M0,0\" style=\"fill: none;\"/><path class=\"ylines-above crisp\" d=\"M0,0\" style=\"fill: none;\"/><g class=\"overlines-above\"/><g class=\"xaxislayer-above\"><g class=\"xtick\"><text text-anchor=\"end\" x=\"0\" y=\"416\" transform=\"translate(239,0) rotate(-30,0,410)\" style=\"font-family: 'Open Sans', verdana, arial, sans-serif; font-size: 12px; fill: rgb(42, 63, 95); fill-opacity: 1; white-space: pre; opacity: 1;\">0_accepted</text></g><g class=\"xtick\"><text text-anchor=\"end\" x=\"0\" y=\"416\" transform=\"translate(463,0) rotate(-30,0,410)\" style=\"font-family: 'Open Sans', verdana, arial, sans-serif; font-size: 12px; fill: rgb(42, 63, 95); fill-opacity: 1; white-space: pre; opacity: 1;\">[1-5]_contrarian</text></g></g><g class=\"yaxislayer-above\"><g class=\"ytick\"><text text-anchor=\"end\" x=\"126\" y=\"4.199999999999999\" transform=\"translate(0,312.25)\" style=\"font-family: 'Open Sans', verdana, arial, sans-serif; font-size: 12px; fill: rgb(42, 63, 95); fill-opacity: 1; white-space: pre; opacity: 1;\">[1-5]_contrarian</text></g><g class=\"ytick\"><text text-anchor=\"end\" x=\"126\" y=\"4.199999999999999\" transform=\"translate(0,130.75)\" style=\"font-family: 'Open Sans', verdana, arial, sans-serif; font-size: 12px; fill: rgb(42, 63, 95); fill-opacity: 1; white-space: pre; opacity: 1;\">0_accepted</text></g></g><g class=\"overaxes-above\"/></g></g><g class=\"polarlayer\"/><g class=\"smithlayer\"/><g class=\"ternarylayer\"/><g class=\"geolayer\"/><g class=\"funnelarealayer\"/><g class=\"pielayer\"/><g class=\"iciclelayer\"/><g class=\"treemaplayer\"/><g class=\"sunburstlayer\"/><g class=\"glimages\"/><defs id=\"topdefs-9d8fea\"><g class=\"clips\"/></defs><g class=\"layer-above\"><g class=\"imagelayer\"/><g class=\"shapelayer\"/></g><g class=\"infolayer\"><g class=\"g-gtitle\"><text class=\"gtitle\" x=\"351\" y=\"15\" text-anchor=\"middle\" dy=\"0.7em\" style=\"opacity: 1; font-family: 'Open Sans', verdana, arial, sans-serif; font-size: 17px; fill: rgb(42, 63, 95); fill-opacity: 1; white-space: pre;\">Confusion Matrix</text></g><g class=\"g-xtitle\"><text class=\"xtitle\" x=\"351\" y=\"487.44453125\" text-anchor=\"middle\" style=\"opacity: 1; font-family: 'Open Sans', verdana, arial, sans-serif; font-size: 14px; fill: rgb(42, 63, 95); fill-opacity: 1; white-space: pre;\">Predicted class</text></g><g class=\"g-ytitle\"><text class=\"ytitle\" transform=\"rotate(-90,17.631249999999994,221.5)\" x=\"17.631249999999994\" y=\"221.5\" text-anchor=\"middle\" style=\"opacity: 1; font-family: 'Open Sans', verdana, arial, sans-serif; font-size: 14px; fill: rgb(42, 63, 95); fill-opacity: 1; white-space: pre;\">True class</text></g></g></svg>"
      ]
     },
     "metadata": {},
     "output_type": "display_data"
    },
    {
     "name": "stdout",
     "output_type": "stream",
     "text": [
      "CARDS CLASSIFICATION REPORT\n",
      "===========================\n",
      "\n",
      "                         precision    recall  f1-score   support\n",
      "\n",
      "             0_accepted       0.61      0.73      0.67        48\n",
      "    1_its_not_happening       0.00      0.00      0.00        11\n",
      "           1_its_not_us       0.00      0.00      0.00         0\n",
      "           2_its_not_us       0.44      0.44      0.44         9\n",
      "          3_its_not_bad       0.00      0.00      0.00         9\n",
      "  4_solutions_wont_work       0.48      0.65      0.55        17\n",
      "5_science_is_unreliable       0.50      0.83      0.62         6\n",
      "\n",
      "               accuracy                           0.55       100\n",
      "              macro avg       0.29      0.38      0.33       100\n",
      "           weighted avg       0.45      0.55      0.49       100\n",
      "\n"
     ]
    },
    {
     "data": {
      "image/svg+xml": [
       "<svg class=\"main-svg\" xmlns=\"http://www.w3.org/2000/svg\" xmlns:xlink=\"http://www.w3.org/1999/xlink\" width=\"600\" height=\"500\" style=\"\" viewBox=\"0 0 600 500\"><rect x=\"0\" y=\"0\" width=\"600\" height=\"500\" style=\"fill: rgb(255, 255, 255); fill-opacity: 1;\"/><defs id=\"defs-0ceef4\"><g class=\"clips\"><clipPath id=\"clip0ceef4xyplot\" class=\"plotclip\"><rect width=\"407\" height=\"343\"/></clipPath><clipPath class=\"axesclip\" id=\"clip0ceef4x\"><rect x=\"168\" y=\"0\" width=\"407\" height=\"500\"/></clipPath><clipPath class=\"axesclip\" id=\"clip0ceef4y\"><rect x=\"0\" y=\"40\" width=\"600\" height=\"343\"/></clipPath><clipPath class=\"axesclip\" id=\"clip0ceef4xy\"><rect x=\"168\" y=\"40\" width=\"407\" height=\"343\"/></clipPath></g><g class=\"gradients\"/><g class=\"patterns\"/></defs><g class=\"bglayer\"><rect class=\"bg\" x=\"168\" y=\"40\" width=\"407\" height=\"343\" style=\"fill: rgb(229, 236, 246); fill-opacity: 1; stroke-width: 0;\"/></g><g class=\"layer-below\"><g class=\"imagelayer\"/><g class=\"shapelayer\"/></g><g class=\"cartesianlayer\"><g class=\"subplot xy\"><g class=\"layer-subplot\"><g class=\"shapelayer\"/><g class=\"imagelayer\"/></g><g class=\"minor-gridlayer\"><g class=\"x\"/><g class=\"y\"/></g><g class=\"gridlayer\"><g class=\"x\"><path class=\"xgrid crisp\" transform=\"translate(201.92000000000002,0)\" d=\"M0,40v343\" style=\"stroke: rgb(255, 255, 255); stroke-opacity: 1; stroke-width: 1px;\"/><path class=\"xgrid crisp\" transform=\"translate(269.75,0)\" d=\"M0,40v343\" style=\"stroke: rgb(255, 255, 255); stroke-opacity: 1; stroke-width: 1px;\"/><path class=\"xgrid crisp\" transform=\"translate(337.58000000000004,0)\" d=\"M0,40v343\" style=\"stroke: rgb(255, 255, 255); stroke-opacity: 1; stroke-width: 1px;\"/><path class=\"xgrid crisp\" transform=\"translate(405.41999999999996,0)\" d=\"M0,40v343\" style=\"stroke: rgb(255, 255, 255); stroke-opacity: 1; stroke-width: 1px;\"/><path class=\"xgrid crisp\" transform=\"translate(473.25,0)\" d=\"M0,40v343\" style=\"stroke: rgb(255, 255, 255); stroke-opacity: 1; stroke-width: 1px;\"/><path class=\"xgrid crisp\" transform=\"translate(541.0799999999999,0)\" d=\"M0,40v343\" style=\"stroke: rgb(255, 255, 255); stroke-opacity: 1; stroke-width: 1px;\"/></g><g class=\"y\"><path class=\"ygrid crisp\" transform=\"translate(0,354.42)\" d=\"M168,0h407\" style=\"stroke: rgb(255, 255, 255); stroke-opacity: 1; stroke-width: 1px;\"/><path class=\"ygrid crisp\" transform=\"translate(0,297.25)\" d=\"M168,0h407\" style=\"stroke: rgb(255, 255, 255); stroke-opacity: 1; stroke-width: 1px;\"/><path class=\"ygrid crisp\" transform=\"translate(0,240.08)\" d=\"M168,0h407\" style=\"stroke: rgb(255, 255, 255); stroke-opacity: 1; stroke-width: 1px;\"/><path class=\"ygrid crisp\" transform=\"translate(0,182.92)\" d=\"M168,0h407\" style=\"stroke: rgb(255, 255, 255); stroke-opacity: 1; stroke-width: 1px;\"/><path class=\"ygrid crisp\" transform=\"translate(0,125.75)\" d=\"M168,0h407\" style=\"stroke: rgb(255, 255, 255); stroke-opacity: 1; stroke-width: 1px;\"/><path class=\"ygrid crisp\" transform=\"translate(0,68.58)\" d=\"M168,0h407\" style=\"stroke: rgb(255, 255, 255); stroke-opacity: 1; stroke-width: 1px;\"/></g></g><g class=\"zerolinelayer\"/><g class=\"layer-between\"><g class=\"shapelayer\"/><g class=\"imagelayer\"/></g><path class=\"xlines-below\"/><path class=\"ylines-below\"/><g class=\"overlines-below\"/><g class=\"xaxislayer-below\"/><g class=\"yaxislayer-below\"/><g class=\"overaxes-below\"/><g class=\"overplot\"><g class=\"xy\" transform=\"translate(168,40)\" clip-path=\"url(#clip0ceef4xyplot)\"><g class=\"heatmaplayer mlayer\"><g class=\"hm\"><image xmlns=\"http://www.w3.org/2000/svg\" preserveAspectRatio=\"none\" height=\"343\" width=\"407\" x=\"0\" y=\"0\" xlink:href=\"data:image/png;base64,iVBORw0KGgoAAAANSUhEUgAAAAYAAAAGCAYAAADgzO9IAAAAf0lEQVQYV2PkCJzz//2qZIbff/8xsDIzMRy/+5bBREGQgTFmyYX/s8P1GfoO3mUosldmAIGrTz4xMCYsv/R/eoguQ+aaywwgGgSevv/OwMjh1Pr//c4qsABMEEQzzjv18H+koRxcQjp5OcPTuZEMjBcefvqvLsULlwAxBE1zGAAsfC+Q+2TN7QAAAABJRU5ErkJggg==\" style=\"image-rendering: pixelated; opacity: 1;\"/><g class=\"heatmap-label\"><text text-anchor=\"middle\" data-notex=\"1\" x=\"34\" y=\"25.4\" style=\"font-family: 'Open Sans', verdana, arial, sans-serif; font-size: 12px; fill: rgb(255, 255, 255); fill-opacity: 1; white-space: pre;\"><tspan class=\"line\" dy=\"0em\" x=\"34\" y=\"25.4\">35</tspan><tspan class=\"line\" dy=\"1.3em\" x=\"34\" y=\"25.4\">72.92%</tspan></text></g><g class=\"heatmap-label\"><text text-anchor=\"middle\" data-notex=\"1\" x=\"102\" y=\"33.2\" style=\"font-family: 'Open Sans', verdana, arial, sans-serif; font-size: 12px; fill: rgb(68, 68, 68); fill-opacity: 1; white-space: pre;\">0</text></g><g class=\"heatmap-label\"><text text-anchor=\"middle\" data-notex=\"1\" x=\"170\" y=\"25.4\" style=\"font-family: 'Open Sans', verdana, arial, sans-serif; font-size: 12px; fill: rgb(68, 68, 68); fill-opacity: 1; white-space: pre;\"><tspan class=\"line\" dy=\"0em\" x=\"170\" y=\"25.4\">1</tspan><tspan class=\"line\" dy=\"1.3em\" x=\"170\" y=\"25.4\">2.08%</tspan></text></g><g class=\"heatmap-label\"><text text-anchor=\"middle\" data-notex=\"1\" x=\"237\" y=\"33.2\" style=\"font-family: 'Open Sans', verdana, arial, sans-serif; font-size: 12px; fill: rgb(68, 68, 68); fill-opacity: 1; white-space: pre;\">0</text></g><g class=\"heatmap-label\"><text text-anchor=\"middle\" data-notex=\"1\" x=\"305\" y=\"25.4\" style=\"font-family: 'Open Sans', verdana, arial, sans-serif; font-size: 12px; fill: rgb(68, 68, 68); fill-opacity: 1; white-space: pre;\"><tspan class=\"line\" dy=\"0em\" x=\"305\" y=\"25.4\">11</tspan><tspan class=\"line\" dy=\"1.3em\" x=\"305\" y=\"25.4\">22.92%</tspan></text></g><g class=\"heatmap-label\"><text text-anchor=\"middle\" data-notex=\"1\" x=\"373\" y=\"25.4\" style=\"font-family: 'Open Sans', verdana, arial, sans-serif; font-size: 12px; fill: rgb(68, 68, 68); fill-opacity: 1; white-space: pre;\"><tspan class=\"line\" dy=\"0em\" x=\"373\" y=\"25.4\">1</tspan><tspan class=\"line\" dy=\"1.3em\" x=\"373\" y=\"25.4\">2.08%</tspan></text></g><g class=\"heatmap-label\"><text text-anchor=\"middle\" data-notex=\"1\" x=\"34\" y=\"82.4\" style=\"font-family: 'Open Sans', verdana, arial, sans-serif; font-size: 12px; fill: rgb(68, 68, 68); fill-opacity: 1; white-space: pre;\"><tspan class=\"line\" dy=\"0em\" x=\"34\" y=\"82.4\">5</tspan><tspan class=\"line\" dy=\"1.3em\" x=\"34\" y=\"82.4\">45.45%</tspan></text></g><g class=\"heatmap-label\"><text text-anchor=\"middle\" data-notex=\"1\" x=\"102\" y=\"90.2\" style=\"font-family: 'Open Sans', verdana, arial, sans-serif; font-size: 12px; fill: rgb(68, 68, 68); fill-opacity: 1; white-space: pre;\">0</text></g><g class=\"heatmap-label\"><text text-anchor=\"middle\" data-notex=\"1\" x=\"170\" y=\"82.4\" style=\"font-family: 'Open Sans', verdana, arial, sans-serif; font-size: 12px; fill: rgb(68, 68, 68); fill-opacity: 1; white-space: pre;\"><tspan class=\"line\" dy=\"0em\" x=\"170\" y=\"82.4\">4</tspan><tspan class=\"line\" dy=\"1.3em\" x=\"170\" y=\"82.4\">36.36%</tspan></text></g><g class=\"heatmap-label\"><text text-anchor=\"middle\" data-notex=\"1\" x=\"237\" y=\"90.2\" style=\"font-family: 'Open Sans', verdana, arial, sans-serif; font-size: 12px; fill: rgb(68, 68, 68); fill-opacity: 1; white-space: pre;\">0</text></g><g class=\"heatmap-label\"><text text-anchor=\"middle\" data-notex=\"1\" x=\"305\" y=\"90.2\" style=\"font-family: 'Open Sans', verdana, arial, sans-serif; font-size: 12px; fill: rgb(68, 68, 68); fill-opacity: 1; white-space: pre;\">0</text></g><g class=\"heatmap-label\"><text text-anchor=\"middle\" data-notex=\"1\" x=\"373\" y=\"82.4\" style=\"font-family: 'Open Sans', verdana, arial, sans-serif; font-size: 12px; fill: rgb(68, 68, 68); fill-opacity: 1; white-space: pre;\"><tspan class=\"line\" dy=\"0em\" x=\"373\" y=\"82.4\">2</tspan><tspan class=\"line\" dy=\"1.3em\" x=\"373\" y=\"82.4\">18.18%</tspan></text></g><g class=\"heatmap-label\"><text text-anchor=\"middle\" data-notex=\"1\" x=\"34\" y=\"139.4\" style=\"font-family: 'Open Sans', verdana, arial, sans-serif; font-size: 12px; fill: rgb(68, 68, 68); fill-opacity: 1; white-space: pre;\"><tspan class=\"line\" dy=\"0em\" x=\"34\" y=\"139.4\">4</tspan><tspan class=\"line\" dy=\"1.3em\" x=\"34\" y=\"139.4\">44.44%</tspan></text></g><g class=\"heatmap-label\"><text text-anchor=\"middle\" data-notex=\"1\" x=\"102\" y=\"147.2\" style=\"font-family: 'Open Sans', verdana, arial, sans-serif; font-size: 12px; fill: rgb(68, 68, 68); fill-opacity: 1; white-space: pre;\">0</text></g><g class=\"heatmap-label\"><text text-anchor=\"middle\" data-notex=\"1\" x=\"170\" y=\"139.4\" style=\"font-family: 'Open Sans', verdana, arial, sans-serif; font-size: 12px; fill: rgb(68, 68, 68); fill-opacity: 1; white-space: pre;\"><tspan class=\"line\" dy=\"0em\" x=\"170\" y=\"139.4\">4</tspan><tspan class=\"line\" dy=\"1.3em\" x=\"170\" y=\"139.4\">44.44%</tspan></text></g><g class=\"heatmap-label\"><text text-anchor=\"middle\" data-notex=\"1\" x=\"237\" y=\"147.2\" style=\"font-family: 'Open Sans', verdana, arial, sans-serif; font-size: 12px; fill: rgb(68, 68, 68); fill-opacity: 1; white-space: pre;\">0</text></g><g class=\"heatmap-label\"><text text-anchor=\"middle\" data-notex=\"1\" x=\"305\" y=\"147.2\" style=\"font-family: 'Open Sans', verdana, arial, sans-serif; font-size: 12px; fill: rgb(68, 68, 68); fill-opacity: 1; white-space: pre;\">0</text></g><g class=\"heatmap-label\"><text text-anchor=\"middle\" data-notex=\"1\" x=\"373\" y=\"139.4\" style=\"font-family: 'Open Sans', verdana, arial, sans-serif; font-size: 12px; fill: rgb(68, 68, 68); fill-opacity: 1; white-space: pre;\"><tspan class=\"line\" dy=\"0em\" x=\"373\" y=\"139.4\">1</tspan><tspan class=\"line\" dy=\"1.3em\" x=\"373\" y=\"139.4\">11.11%</tspan></text></g><g class=\"heatmap-label\"><text text-anchor=\"middle\" data-notex=\"1\" x=\"34\" y=\"196.4\" style=\"font-family: 'Open Sans', verdana, arial, sans-serif; font-size: 12px; fill: rgb(255, 255, 255); fill-opacity: 1; white-space: pre;\"><tspan class=\"line\" dy=\"0em\" x=\"34\" y=\"196.4\">7</tspan><tspan class=\"line\" dy=\"1.3em\" x=\"34\" y=\"196.4\">77.78%</tspan></text></g><g class=\"heatmap-label\"><text text-anchor=\"middle\" data-notex=\"1\" x=\"102\" y=\"204.2\" style=\"font-family: 'Open Sans', verdana, arial, sans-serif; font-size: 12px; fill: rgb(68, 68, 68); fill-opacity: 1; white-space: pre;\">0</text></g><g class=\"heatmap-label\"><text text-anchor=\"middle\" data-notex=\"1\" x=\"170\" y=\"204.2\" style=\"font-family: 'Open Sans', verdana, arial, sans-serif; font-size: 12px; fill: rgb(68, 68, 68); fill-opacity: 1; white-space: pre;\">0</text></g><g class=\"heatmap-label\"><text text-anchor=\"middle\" data-notex=\"1\" x=\"237\" y=\"204.2\" style=\"font-family: 'Open Sans', verdana, arial, sans-serif; font-size: 12px; fill: rgb(68, 68, 68); fill-opacity: 1; white-space: pre;\">0</text></g><g class=\"heatmap-label\"><text text-anchor=\"middle\" data-notex=\"1\" x=\"305\" y=\"196.4\" style=\"font-family: 'Open Sans', verdana, arial, sans-serif; font-size: 12px; fill: rgb(68, 68, 68); fill-opacity: 1; white-space: pre;\"><tspan class=\"line\" dy=\"0em\" x=\"305\" y=\"196.4\">1</tspan><tspan class=\"line\" dy=\"1.3em\" x=\"305\" y=\"196.4\">11.11%</tspan></text></g><g class=\"heatmap-label\"><text text-anchor=\"middle\" data-notex=\"1\" x=\"373\" y=\"196.4\" style=\"font-family: 'Open Sans', verdana, arial, sans-serif; font-size: 12px; fill: rgb(68, 68, 68); fill-opacity: 1; white-space: pre;\"><tspan class=\"line\" dy=\"0em\" x=\"373\" y=\"196.4\">1</tspan><tspan class=\"line\" dy=\"1.3em\" x=\"373\" y=\"196.4\">11.11%</tspan></text></g><g class=\"heatmap-label\"><text text-anchor=\"middle\" data-notex=\"1\" x=\"34\" y=\"253.4\" style=\"font-family: 'Open Sans', verdana, arial, sans-serif; font-size: 12px; fill: rgb(68, 68, 68); fill-opacity: 1; white-space: pre;\"><tspan class=\"line\" dy=\"0em\" x=\"34\" y=\"253.4\">5</tspan><tspan class=\"line\" dy=\"1.3em\" x=\"34\" y=\"253.4\">31.25%</tspan></text></g><g class=\"heatmap-label\"><text text-anchor=\"middle\" data-notex=\"1\" x=\"102\" y=\"261.2\" style=\"font-family: 'Open Sans', verdana, arial, sans-serif; font-size: 12px; fill: rgb(68, 68, 68); fill-opacity: 1; white-space: pre;\">0</text></g><g class=\"heatmap-label\"><text text-anchor=\"middle\" data-notex=\"1\" x=\"170\" y=\"261.2\" style=\"font-family: 'Open Sans', verdana, arial, sans-serif; font-size: 12px; fill: rgb(68, 68, 68); fill-opacity: 1; white-space: pre;\">0</text></g><g class=\"heatmap-label\"><text text-anchor=\"middle\" data-notex=\"1\" x=\"237\" y=\"261.2\" style=\"font-family: 'Open Sans', verdana, arial, sans-serif; font-size: 12px; fill: rgb(68, 68, 68); fill-opacity: 1; white-space: pre;\">0</text></g><g class=\"heatmap-label\"><text text-anchor=\"middle\" data-notex=\"1\" x=\"305\" y=\"253.4\" style=\"font-family: 'Open Sans', verdana, arial, sans-serif; font-size: 12px; fill: rgb(255, 255, 255); fill-opacity: 1; white-space: pre;\"><tspan class=\"line\" dy=\"0em\" x=\"305\" y=\"253.4\">11</tspan><tspan class=\"line\" dy=\"1.3em\" x=\"305\" y=\"253.4\">68.75%</tspan></text></g><g class=\"heatmap-label\"><text text-anchor=\"middle\" data-notex=\"1\" x=\"373\" y=\"261.2\" style=\"font-family: 'Open Sans', verdana, arial, sans-serif; font-size: 12px; fill: rgb(68, 68, 68); fill-opacity: 1; white-space: pre;\">0</text></g><g class=\"heatmap-label\"><text text-anchor=\"middle\" data-notex=\"1\" x=\"34\" y=\"310.4\" style=\"font-family: 'Open Sans', verdana, arial, sans-serif; font-size: 12px; fill: rgb(68, 68, 68); fill-opacity: 1; white-space: pre;\"><tspan class=\"line\" dy=\"0em\" x=\"34\" y=\"310.4\">1</tspan><tspan class=\"line\" dy=\"1.3em\" x=\"34\" y=\"310.4\">16.67%</tspan></text></g><g class=\"heatmap-label\"><text text-anchor=\"middle\" data-notex=\"1\" x=\"102\" y=\"318.2\" style=\"font-family: 'Open Sans', verdana, arial, sans-serif; font-size: 12px; fill: rgb(68, 68, 68); fill-opacity: 1; white-space: pre;\">0</text></g><g class=\"heatmap-label\"><text text-anchor=\"middle\" data-notex=\"1\" x=\"170\" y=\"318.2\" style=\"font-family: 'Open Sans', verdana, arial, sans-serif; font-size: 12px; fill: rgb(68, 68, 68); fill-opacity: 1; white-space: pre;\">0</text></g><g class=\"heatmap-label\"><text text-anchor=\"middle\" data-notex=\"1\" x=\"237\" y=\"318.2\" style=\"font-family: 'Open Sans', verdana, arial, sans-serif; font-size: 12px; fill: rgb(68, 68, 68); fill-opacity: 1; white-space: pre;\">0</text></g><g class=\"heatmap-label\"><text text-anchor=\"middle\" data-notex=\"1\" x=\"305\" y=\"318.2\" style=\"font-family: 'Open Sans', verdana, arial, sans-serif; font-size: 12px; fill: rgb(68, 68, 68); fill-opacity: 1; white-space: pre;\">0</text></g><g class=\"heatmap-label\"><text text-anchor=\"middle\" data-notex=\"1\" x=\"373\" y=\"310.4\" style=\"font-family: 'Open Sans', verdana, arial, sans-serif; font-size: 12px; fill: rgb(255, 255, 255); fill-opacity: 1; white-space: pre;\"><tspan class=\"line\" dy=\"0em\" x=\"373\" y=\"310.4\">5</tspan><tspan class=\"line\" dy=\"1.3em\" x=\"373\" y=\"310.4\">83.33%</tspan></text></g></g></g></g></g><path class=\"xlines-above crisp\" d=\"M0,0\" style=\"fill: none;\"/><path class=\"ylines-above crisp\" d=\"M0,0\" style=\"fill: none;\"/><g class=\"overlines-above\"/><g class=\"xaxislayer-above\"><g class=\"xtick\"><text text-anchor=\"end\" x=\"0\" y=\"396\" transform=\"translate(201.92000000000002,0) rotate(-30,0,390)\" style=\"font-family: 'Open Sans', verdana, arial, sans-serif; font-size: 12px; fill: rgb(42, 63, 95); fill-opacity: 1; white-space: pre; opacity: 1;\">0_accepted</text></g><g class=\"xtick\"><text text-anchor=\"end\" x=\"0\" y=\"396\" transform=\"translate(269.75,0) rotate(-30,0,390)\" style=\"font-family: 'Open Sans', verdana, arial, sans-serif; font-size: 12px; fill: rgb(42, 63, 95); fill-opacity: 1; white-space: pre; opacity: 1;\">1_its_not_happening</text></g><g class=\"xtick\"><text text-anchor=\"end\" x=\"0\" y=\"396\" transform=\"translate(337.58000000000004,0) rotate(-30,0,390)\" style=\"font-family: 'Open Sans', verdana, arial, sans-serif; font-size: 12px; fill: rgb(42, 63, 95); fill-opacity: 1; white-space: pre; opacity: 1;\">2_its_not_us</text></g><g class=\"xtick\"><text text-anchor=\"end\" x=\"0\" y=\"396\" transform=\"translate(405.41999999999996,0) rotate(-30,0,390)\" style=\"font-family: 'Open Sans', verdana, arial, sans-serif; font-size: 12px; fill: rgb(42, 63, 95); fill-opacity: 1; white-space: pre; opacity: 1;\">3_its_not_bad</text></g><g class=\"xtick\"><text text-anchor=\"end\" x=\"0\" y=\"396\" transform=\"translate(473.25,0) rotate(-30,0,390)\" style=\"font-family: 'Open Sans', verdana, arial, sans-serif; font-size: 12px; fill: rgb(42, 63, 95); fill-opacity: 1; white-space: pre; opacity: 1;\">4_solutions_wont_work</text></g><g class=\"xtick\"><text text-anchor=\"end\" x=\"0\" y=\"396\" transform=\"translate(541.0799999999999,0) rotate(-30,0,390)\" style=\"font-family: 'Open Sans', verdana, arial, sans-serif; font-size: 12px; fill: rgb(42, 63, 95); fill-opacity: 1; white-space: pre; opacity: 1;\">5_science_is_unreliable</text></g></g><g class=\"yaxislayer-above\"><g class=\"ytick\"><text text-anchor=\"end\" x=\"167\" y=\"4.199999999999999\" transform=\"translate(0,354.42)\" style=\"font-family: 'Open Sans', verdana, arial, sans-serif; font-size: 12px; fill: rgb(42, 63, 95); fill-opacity: 1; white-space: pre; opacity: 1;\">5_science_is_unreliable</text></g><g class=\"ytick\"><text text-anchor=\"end\" x=\"167\" y=\"4.199999999999999\" transform=\"translate(0,297.25)\" style=\"font-family: 'Open Sans', verdana, arial, sans-serif; font-size: 12px; fill: rgb(42, 63, 95); fill-opacity: 1; white-space: pre; opacity: 1;\">4_solutions_wont_work</text></g><g class=\"ytick\"><text text-anchor=\"end\" x=\"167\" y=\"4.199999999999999\" transform=\"translate(0,240.08)\" style=\"font-family: 'Open Sans', verdana, arial, sans-serif; font-size: 12px; fill: rgb(42, 63, 95); fill-opacity: 1; white-space: pre; opacity: 1;\">3_its_not_bad</text></g><g class=\"ytick\"><text text-anchor=\"end\" x=\"167\" y=\"4.199999999999999\" transform=\"translate(0,182.92)\" style=\"font-family: 'Open Sans', verdana, arial, sans-serif; font-size: 12px; fill: rgb(42, 63, 95); fill-opacity: 1; white-space: pre; opacity: 1;\">2_its_not_us</text></g><g class=\"ytick\"><text text-anchor=\"end\" x=\"167\" y=\"4.199999999999999\" transform=\"translate(0,125.75)\" style=\"font-family: 'Open Sans', verdana, arial, sans-serif; font-size: 12px; fill: rgb(42, 63, 95); fill-opacity: 1; white-space: pre; opacity: 1;\">1_its_not_happening</text></g><g class=\"ytick\"><text text-anchor=\"end\" x=\"167\" y=\"4.199999999999999\" transform=\"translate(0,68.58)\" style=\"font-family: 'Open Sans', verdana, arial, sans-serif; font-size: 12px; fill: rgb(42, 63, 95); fill-opacity: 1; white-space: pre; opacity: 1;\">0_accepted</text></g></g><g class=\"overaxes-above\"/></g></g><g class=\"polarlayer\"/><g class=\"smithlayer\"/><g class=\"ternarylayer\"/><g class=\"geolayer\"/><g class=\"funnelarealayer\"/><g class=\"pielayer\"/><g class=\"iciclelayer\"/><g class=\"treemaplayer\"/><g class=\"sunburstlayer\"/><g class=\"glimages\"/><defs id=\"topdefs-0ceef4\"><g class=\"clips\"/></defs><g class=\"layer-above\"><g class=\"imagelayer\"/><g class=\"shapelayer\"/></g><g class=\"infolayer\"><g class=\"g-gtitle\"><text class=\"gtitle\" x=\"371.5\" y=\"15\" text-anchor=\"middle\" dy=\"0.7em\" style=\"opacity: 1; font-family: 'Open Sans', verdana, arial, sans-serif; font-size: 17px; fill: rgb(42, 63, 95); fill-opacity: 1; white-space: pre;\">Confusion Matrix</text></g><g class=\"g-xtitle\"><text class=\"xtitle\" x=\"371.5\" y=\"487.93671875\" text-anchor=\"middle\" style=\"opacity: 1; font-family: 'Open Sans', verdana, arial, sans-serif; font-size: 14px; fill: rgb(42, 63, 95); fill-opacity: 1; white-space: pre;\">Predicted class</text></g><g class=\"g-ytitle\"><text class=\"ytitle\" transform=\"rotate(-90,17.646874999999994,211.5)\" x=\"17.646874999999994\" y=\"211.5\" text-anchor=\"middle\" style=\"opacity: 1; font-family: 'Open Sans', verdana, arial, sans-serif; font-size: 14px; fill: rgb(42, 63, 95); fill-opacity: 1; white-space: pre;\">True class</text></g></g></svg>"
      ]
     },
     "metadata": {},
     "output_type": "display_data"
    }
   ],
   "source": [
    "async def predict_cards_label(text: str) -> MediatreePrediction:\n",
    "    system_prompt = \"\"\"Tu es expert en désinformation sur les sujets environnementaux, expert en science climatique et sachant tout sur le GIEC. Je vais te donner un extrait d'une retranscription de 2 minutes d'un flux TV ou Radio. Ta tâche est d'identifier si l'extrait contient des affirmations trompeuses sur les thématiques environnementales (changement climatique, transition écologique, énergie, biodiversité, pollution, pesticides, ressources (eau, minéraux, ...).\n",
    "\n",
    "<catégories prédéfinies>\n",
    "- 0_accepted: Lorsque l'ensemble de l'extrait est neutre ou reflète le consensus scientifique sur les questions climatiques, sans contenir de désinformation. Cette catégorie est aussi adaptée si l'extrait n'aborde pas le sujet du climat.\n",
    "- 1_its_not_happening: Le réchauffement climatique n'a pas lieu. Cette catégorie soutient que le changement climatique est inexistant ou largement exagéré. Elle suggère que des facteurs naturels — tels que le froid, la préservation de la glace et le refroidissement des océans — prouvent que le réchauffement n'est pas en cours. De plus, elle implique que les prévisions de changements climatiques sévères, y compris la montée du niveau de la mer et les phénomènes météorologiques extrêmes, sont exagérées ou inventées. Certaines affirmations soutiennent que la terminologie climatique a été manipulée (par exemple, en passant de \"réchauffement climatique\" à \"changement climatique\") pour alarmer le public sans raison.\n",
    "- 2_its_not_us: Les humains ne sont pas à l'origine du réchauffement climatique. Cette catégorie avance que les activités humaines, en particulier les émissions de gaz à effet de serre, ne sont pas responsables du réchauffement observé. Elle soutient que les cycles naturels, l'activité solaire ou d'autres facteurs non humains sont à l'origine des changements climatiques. Les affirmations de cette catégorie minimisent souvent le rôle du CO2, ou soulignent que les changements climatiques passés se sont produits sans intervention humaine, suggérant que le réchauffement actuel est également naturel.\n",
    "- 3_its_not_bad: Les impacts climatiques ne sont pas mauvais. Cette catégorie reconnaît qu'un certain réchauffement pourrait se produire, mais affirme qu'il pose peu de risques. Les arguments de cette catégorie suggèrent que la sensibilité du climat au CO2 est faible, ce qui limiterait le réchauffement. Les partisans prétendent que l'environnement, les espèces et la santé humaine seront largement épargnés, car les plantes bénéficient de l'augmentation du CO2, et que de nombreuses espèces, comme les ours polaires, peuvent s'adapter. Dans l'ensemble, elle suggère que les impacts climatiques seront mineurs et gérables.\n",
    "- 4_solutions_wont_work: Les solutions climatiques ne fonctionneront pas. Cette catégorie s'oppose aux politiques climatiques proposées, en affirmant qu'elles seront nuisibles économiquement ou socialement, inefficaces ou irréalistes. Elle soutient que les politiques de réduction des émissions augmenteront les coûts, affaibliront la sécurité nationale et restreindront les libertés individuelles sans bénéfices climatiques significatifs. D'autres affirmations proposent que les solutions \"vertes\" sont peu fiables, que l'énergie propre est non éprouvée, ou que les combustibles fossiles sont abondants et essentiels pour l'avenir. Essentiellement, elle soutient que les politiques climatiques sont trop coûteuses, difficiles ou inefficaces pour être poursuivies.\n",
    "- 5_science_is_unreliable: Les mouvements pour le climat et la science du climat ne sont pas fiables. Cette catégorie attaque la crédibilité de la science climatique et du mouvement pour le climat, affirmant qu'ils sont non fiables, biaisés ou idéologiquement orientés. Elle remet en question le consensus scientifique sur le changement climatique, suggérant que les données, modèles et méthodes sont défectueux. De plus, elle présente le mouvement climatique comme alarmiste, biaisé ou faisant partie d'une conspiration plus large, motivée par des intentions politiques ou religieuses plutôt qu'une véritable préoccupation. Ce cadre cherche à miner la confiance dans la science climatique et dans ceux qui plaident pour l'action.\n",
    "</catégories prédéfinies>\n",
    "\n",
    "Ne fournis que le label de la catégorie correcte, sans autre phrase d'introduction ou de conclusion.\n",
    "\"\"\"\n",
    "    response = await acompletion(\n",
    "        messages=[\n",
    "            {\"role\": \"system\", \"content\": system_prompt},\n",
    "            {\"role\": \"user\", \"content\": text.strip()},\n",
    "        ],\n",
    "        model=\"anthropic.claude-3-haiku-20240307-v1:0\",\n",
    "        max_tokens=20,\n",
    "        temperature=0,\n",
    "    )\n",
    "    cards_label_pred = response.choices[0].message.content\n",
    "    return MediatreePrediction(\n",
    "        cards_label_pred=cards_label_pred,\n",
    "        prompt_tokens=response.usage.prompt_tokens,\n",
    "        completion_tokens=response.usage.completion_tokens,\n",
    "        total_tokens=response.usage.total_tokens,\n",
    "        cost=completion_cost(response),\n",
    "    )\n",
    "\n",
    "\n",
    "await report_experiment_results(df, predict_cards_label)"
   ]
  },
  {
   "cell_type": "markdown",
   "metadata": {},
   "source": [
    "## Add examples + Prefilling the response to avoid blah blah\n"
   ]
  },
  {
   "cell_type": "code",
   "execution_count": 9,
   "metadata": {},
   "outputs": [
    {
     "name": "stderr",
     "output_type": "stream",
     "text": [
      "100%|██████████| 100/100 [00:13<00:00,  7.45it/s]"
     ]
    },
    {
     "name": "stdout",
     "output_type": "stream",
     "text": [
      "\n",
      "LLM USAGE\n",
      "=========\n",
      "\n",
      "Median token usage:\n",
      "- Prompt: 2520\n",
      "- Completion: 8\n",
      "- Total: 2528\n",
      "\n",
      "Total cost: $0.064\n",
      "\n",
      "BINARY CLASSIFICATION REPORT\n",
      "============================\n",
      "\n",
      "              precision    recall  f1-score   support\n",
      "\n",
      "       False       0.65      0.90      0.75        48\n",
      "        True       0.85      0.56      0.67        52\n",
      "\n",
      "    accuracy                           0.72       100\n",
      "   macro avg       0.75      0.73      0.71       100\n",
      "weighted avg       0.76      0.72      0.71       100\n",
      "\n"
     ]
    },
    {
     "name": "stderr",
     "output_type": "stream",
     "text": [
      "\n"
     ]
    },
    {
     "data": {
      "image/svg+xml": [
       "<svg class=\"main-svg\" xmlns=\"http://www.w3.org/2000/svg\" xmlns:xlink=\"http://www.w3.org/1999/xlink\" width=\"600\" height=\"500\" style=\"\" viewBox=\"0 0 600 500\"><rect x=\"0\" y=\"0\" width=\"600\" height=\"500\" style=\"fill: rgb(255, 255, 255); fill-opacity: 1;\"/><defs id=\"defs-6acde7\"><g class=\"clips\"><clipPath id=\"clip6acde7xyplot\" class=\"plotclip\"><rect width=\"448\" height=\"363\"/></clipPath><clipPath class=\"axesclip\" id=\"clip6acde7x\"><rect x=\"127\" y=\"0\" width=\"448\" height=\"500\"/></clipPath><clipPath class=\"axesclip\" id=\"clip6acde7y\"><rect x=\"0\" y=\"40\" width=\"600\" height=\"363\"/></clipPath><clipPath class=\"axesclip\" id=\"clip6acde7xy\"><rect x=\"127\" y=\"40\" width=\"448\" height=\"363\"/></clipPath></g><g class=\"gradients\"/><g class=\"patterns\"/></defs><g class=\"bglayer\"><rect class=\"bg\" x=\"127\" y=\"40\" width=\"448\" height=\"363\" style=\"fill: rgb(229, 236, 246); fill-opacity: 1; stroke-width: 0;\"/></g><g class=\"layer-below\"><g class=\"imagelayer\"/><g class=\"shapelayer\"/></g><g class=\"cartesianlayer\"><g class=\"subplot xy\"><g class=\"layer-subplot\"><g class=\"shapelayer\"/><g class=\"imagelayer\"/></g><g class=\"minor-gridlayer\"><g class=\"x\"/><g class=\"y\"/></g><g class=\"gridlayer\"><g class=\"x\"><path class=\"xgrid crisp\" transform=\"translate(239,0)\" d=\"M0,40v363\" style=\"stroke: rgb(255, 255, 255); stroke-opacity: 1; stroke-width: 1px;\"/><path class=\"xgrid crisp\" transform=\"translate(463,0)\" d=\"M0,40v363\" style=\"stroke: rgb(255, 255, 255); stroke-opacity: 1; stroke-width: 1px;\"/></g><g class=\"y\"><path class=\"ygrid crisp\" transform=\"translate(0,312.25)\" d=\"M127,0h448\" style=\"stroke: rgb(255, 255, 255); stroke-opacity: 1; stroke-width: 1px;\"/><path class=\"ygrid crisp\" transform=\"translate(0,130.75)\" d=\"M127,0h448\" style=\"stroke: rgb(255, 255, 255); stroke-opacity: 1; stroke-width: 1px;\"/></g></g><g class=\"zerolinelayer\"/><g class=\"layer-between\"><g class=\"shapelayer\"/><g class=\"imagelayer\"/></g><path class=\"xlines-below\"/><path class=\"ylines-below\"/><g class=\"overlines-below\"/><g class=\"xaxislayer-below\"/><g class=\"yaxislayer-below\"/><g class=\"overaxes-below\"/><g class=\"overplot\"><g class=\"xy\" transform=\"translate(127,40)\" clip-path=\"url(#clip6acde7xyplot)\"><g class=\"heatmaplayer mlayer\"><g class=\"hm\"><image xmlns=\"http://www.w3.org/2000/svg\" preserveAspectRatio=\"none\" height=\"363\" width=\"448\" x=\"0\" y=\"0\" xlink:href=\"data:image/png;base64,iVBORw0KGgoAAAANSUhEUgAAAAIAAAACCAYAAABytg0kAAAAG0lEQVQYV2PkMMj+//70FAbGzn13/p968JEBAE82CbBweHOlAAAAAElFTkSuQmCC\" style=\"image-rendering: pixelated; opacity: 1;\"/><g class=\"heatmap-label\"><text text-anchor=\"middle\" data-notex=\"1\" x=\"112\" y=\"87.4\" style=\"font-family: 'Open Sans', verdana, arial, sans-serif; font-size: 12px; fill: rgb(255, 255, 255); fill-opacity: 1; white-space: pre;\"><tspan class=\"line\" dy=\"0em\" x=\"112\" y=\"87.4\">43</tspan><tspan class=\"line\" dy=\"1.3em\" x=\"112\" y=\"87.4\">89.58%</tspan></text></g><g class=\"heatmap-label\"><text text-anchor=\"middle\" data-notex=\"1\" x=\"336\" y=\"87.4\" style=\"font-family: 'Open Sans', verdana, arial, sans-serif; font-size: 12px; fill: rgb(68, 68, 68); fill-opacity: 1; white-space: pre;\"><tspan class=\"line\" dy=\"0em\" x=\"336\" y=\"87.4\">5</tspan><tspan class=\"line\" dy=\"1.3em\" x=\"336\" y=\"87.4\">10.42%</tspan></text></g><g class=\"heatmap-label\"><text text-anchor=\"middle\" data-notex=\"1\" x=\"112\" y=\"268.4\" style=\"font-family: 'Open Sans', verdana, arial, sans-serif; font-size: 12px; fill: rgb(68, 68, 68); fill-opacity: 1; white-space: pre;\"><tspan class=\"line\" dy=\"0em\" x=\"112\" y=\"268.4\">23</tspan><tspan class=\"line\" dy=\"1.3em\" x=\"112\" y=\"268.4\">44.23%</tspan></text></g><g class=\"heatmap-label\"><text text-anchor=\"middle\" data-notex=\"1\" x=\"336\" y=\"268.4\" style=\"font-family: 'Open Sans', verdana, arial, sans-serif; font-size: 12px; fill: rgb(68, 68, 68); fill-opacity: 1; white-space: pre;\"><tspan class=\"line\" dy=\"0em\" x=\"336\" y=\"268.4\">29</tspan><tspan class=\"line\" dy=\"1.3em\" x=\"336\" y=\"268.4\">55.77%</tspan></text></g></g></g></g></g><path class=\"xlines-above crisp\" d=\"M0,0\" style=\"fill: none;\"/><path class=\"ylines-above crisp\" d=\"M0,0\" style=\"fill: none;\"/><g class=\"overlines-above\"/><g class=\"xaxislayer-above\"><g class=\"xtick\"><text text-anchor=\"end\" x=\"0\" y=\"416\" transform=\"translate(239,0) rotate(-30,0,410)\" style=\"font-family: 'Open Sans', verdana, arial, sans-serif; font-size: 12px; fill: rgb(42, 63, 95); fill-opacity: 1; white-space: pre; opacity: 1;\">0_accepted</text></g><g class=\"xtick\"><text text-anchor=\"end\" x=\"0\" y=\"416\" transform=\"translate(463,0) rotate(-30,0,410)\" style=\"font-family: 'Open Sans', verdana, arial, sans-serif; font-size: 12px; fill: rgb(42, 63, 95); fill-opacity: 1; white-space: pre; opacity: 1;\">[1-5]_contrarian</text></g></g><g class=\"yaxislayer-above\"><g class=\"ytick\"><text text-anchor=\"end\" x=\"126\" y=\"4.199999999999999\" transform=\"translate(0,312.25)\" style=\"font-family: 'Open Sans', verdana, arial, sans-serif; font-size: 12px; fill: rgb(42, 63, 95); fill-opacity: 1; white-space: pre; opacity: 1;\">[1-5]_contrarian</text></g><g class=\"ytick\"><text text-anchor=\"end\" x=\"126\" y=\"4.199999999999999\" transform=\"translate(0,130.75)\" style=\"font-family: 'Open Sans', verdana, arial, sans-serif; font-size: 12px; fill: rgb(42, 63, 95); fill-opacity: 1; white-space: pre; opacity: 1;\">0_accepted</text></g></g><g class=\"overaxes-above\"/></g></g><g class=\"polarlayer\"/><g class=\"smithlayer\"/><g class=\"ternarylayer\"/><g class=\"geolayer\"/><g class=\"funnelarealayer\"/><g class=\"pielayer\"/><g class=\"iciclelayer\"/><g class=\"treemaplayer\"/><g class=\"sunburstlayer\"/><g class=\"glimages\"/><defs id=\"topdefs-6acde7\"><g class=\"clips\"/></defs><g class=\"layer-above\"><g class=\"imagelayer\"/><g class=\"shapelayer\"/></g><g class=\"infolayer\"><g class=\"g-gtitle\"><text class=\"gtitle\" x=\"351\" y=\"15\" text-anchor=\"middle\" dy=\"0.7em\" style=\"opacity: 1; font-family: 'Open Sans', verdana, arial, sans-serif; font-size: 17px; fill: rgb(42, 63, 95); fill-opacity: 1; white-space: pre;\">Confusion Matrix</text></g><g class=\"g-xtitle\"><text class=\"xtitle\" x=\"351\" y=\"487.44453125\" text-anchor=\"middle\" style=\"opacity: 1; font-family: 'Open Sans', verdana, arial, sans-serif; font-size: 14px; fill: rgb(42, 63, 95); fill-opacity: 1; white-space: pre;\">Predicted class</text></g><g class=\"g-ytitle\"><text class=\"ytitle\" transform=\"rotate(-90,17.631249999999994,221.5)\" x=\"17.631249999999994\" y=\"221.5\" text-anchor=\"middle\" style=\"opacity: 1; font-family: 'Open Sans', verdana, arial, sans-serif; font-size: 14px; fill: rgb(42, 63, 95); fill-opacity: 1; white-space: pre;\">True class</text></g></g></svg>"
      ]
     },
     "metadata": {},
     "output_type": "display_data"
    },
    {
     "name": "stdout",
     "output_type": "stream",
     "text": [
      "CARDS CLASSIFICATION REPORT\n",
      "===========================\n",
      "\n",
      "                         precision    recall  f1-score   support\n",
      "\n",
      "             0_accepted       0.65      0.90      0.75        48\n",
      "    1_its_not_happening       0.00      0.00      0.00        11\n",
      "           2_its_not_us       0.64      0.78      0.70         9\n",
      "          3_its_not_bad       0.33      0.11      0.17         9\n",
      "  4_solutions_wont_work       0.69      0.53      0.60        17\n",
      "5_science_is_unreliable       0.57      0.67      0.62         6\n",
      "\n",
      "               accuracy                           0.64       100\n",
      "              macro avg       0.48      0.50      0.47       100\n",
      "           weighted avg       0.55      0.64      0.58       100\n",
      "\n"
     ]
    },
    {
     "data": {
      "image/svg+xml": [
       "<svg class=\"main-svg\" xmlns=\"http://www.w3.org/2000/svg\" xmlns:xlink=\"http://www.w3.org/1999/xlink\" width=\"600\" height=\"500\" style=\"\" viewBox=\"0 0 600 500\"><rect x=\"0\" y=\"0\" width=\"600\" height=\"500\" style=\"fill: rgb(255, 255, 255); fill-opacity: 1;\"/><defs id=\"defs-ed2408\"><g class=\"clips\"><clipPath id=\"cliped2408xyplot\" class=\"plotclip\"><rect width=\"407\" height=\"343\"/></clipPath><clipPath class=\"axesclip\" id=\"cliped2408x\"><rect x=\"168\" y=\"0\" width=\"407\" height=\"500\"/></clipPath><clipPath class=\"axesclip\" id=\"cliped2408y\"><rect x=\"0\" y=\"40\" width=\"600\" height=\"343\"/></clipPath><clipPath class=\"axesclip\" id=\"cliped2408xy\"><rect x=\"168\" y=\"40\" width=\"407\" height=\"343\"/></clipPath></g><g class=\"gradients\"/><g class=\"patterns\"/></defs><g class=\"bglayer\"><rect class=\"bg\" x=\"168\" y=\"40\" width=\"407\" height=\"343\" style=\"fill: rgb(229, 236, 246); fill-opacity: 1; stroke-width: 0;\"/></g><g class=\"layer-below\"><g class=\"imagelayer\"/><g class=\"shapelayer\"/></g><g class=\"cartesianlayer\"><g class=\"subplot xy\"><g class=\"layer-subplot\"><g class=\"shapelayer\"/><g class=\"imagelayer\"/></g><g class=\"minor-gridlayer\"><g class=\"x\"/><g class=\"y\"/></g><g class=\"gridlayer\"><g class=\"x\"><path class=\"xgrid crisp\" transform=\"translate(201.92000000000002,0)\" d=\"M0,40v343\" style=\"stroke: rgb(255, 255, 255); stroke-opacity: 1; stroke-width: 1px;\"/><path class=\"xgrid crisp\" transform=\"translate(269.75,0)\" d=\"M0,40v343\" style=\"stroke: rgb(255, 255, 255); stroke-opacity: 1; stroke-width: 1px;\"/><path class=\"xgrid crisp\" transform=\"translate(337.58000000000004,0)\" d=\"M0,40v343\" style=\"stroke: rgb(255, 255, 255); stroke-opacity: 1; stroke-width: 1px;\"/><path class=\"xgrid crisp\" transform=\"translate(405.41999999999996,0)\" d=\"M0,40v343\" style=\"stroke: rgb(255, 255, 255); stroke-opacity: 1; stroke-width: 1px;\"/><path class=\"xgrid crisp\" transform=\"translate(473.25,0)\" d=\"M0,40v343\" style=\"stroke: rgb(255, 255, 255); stroke-opacity: 1; stroke-width: 1px;\"/><path class=\"xgrid crisp\" transform=\"translate(541.0799999999999,0)\" d=\"M0,40v343\" style=\"stroke: rgb(255, 255, 255); stroke-opacity: 1; stroke-width: 1px;\"/></g><g class=\"y\"><path class=\"ygrid crisp\" transform=\"translate(0,354.42)\" d=\"M168,0h407\" style=\"stroke: rgb(255, 255, 255); stroke-opacity: 1; stroke-width: 1px;\"/><path class=\"ygrid crisp\" transform=\"translate(0,297.25)\" d=\"M168,0h407\" style=\"stroke: rgb(255, 255, 255); stroke-opacity: 1; stroke-width: 1px;\"/><path class=\"ygrid crisp\" transform=\"translate(0,240.08)\" d=\"M168,0h407\" style=\"stroke: rgb(255, 255, 255); stroke-opacity: 1; stroke-width: 1px;\"/><path class=\"ygrid crisp\" transform=\"translate(0,182.92)\" d=\"M168,0h407\" style=\"stroke: rgb(255, 255, 255); stroke-opacity: 1; stroke-width: 1px;\"/><path class=\"ygrid crisp\" transform=\"translate(0,125.75)\" d=\"M168,0h407\" style=\"stroke: rgb(255, 255, 255); stroke-opacity: 1; stroke-width: 1px;\"/><path class=\"ygrid crisp\" transform=\"translate(0,68.58)\" d=\"M168,0h407\" style=\"stroke: rgb(255, 255, 255); stroke-opacity: 1; stroke-width: 1px;\"/></g></g><g class=\"zerolinelayer\"/><g class=\"layer-between\"><g class=\"shapelayer\"/><g class=\"imagelayer\"/></g><path class=\"xlines-below\"/><path class=\"ylines-below\"/><g class=\"overlines-below\"/><g class=\"xaxislayer-below\"/><g class=\"yaxislayer-below\"/><g class=\"overaxes-below\"/><g class=\"overplot\"><g class=\"xy\" transform=\"translate(168,40)\" clip-path=\"url(#cliped2408xyplot)\"><g class=\"heatmaplayer mlayer\"><g class=\"hm\"><image xmlns=\"http://www.w3.org/2000/svg\" preserveAspectRatio=\"none\" height=\"343\" width=\"407\" x=\"0\" y=\"0\" xlink:href=\"data:image/png;base64,iVBORw0KGgoAAAANSUhEUgAAAAYAAAAGCAYAAADgzO9IAAAAgklEQVQYV2PkMMj+//70FIbff/8zsDIzMrz98otBmIeNgXHrlZf/ndTFGPbdfMUgxcvJoCHFC2YzHrv9/r+hggCDUMQ8hncrkhhggJHDKO//+5MTwfznH34wSApwgNmMySsu/58SrANXGTb/NMOqRFMGxvmnHv6PMJSDS4AYOhXbGQBgOS2DVqe78gAAAABJRU5ErkJggg==\" style=\"image-rendering: pixelated; opacity: 1;\"/><g class=\"heatmap-label\"><text text-anchor=\"middle\" data-notex=\"1\" x=\"34\" y=\"25.4\" style=\"font-family: 'Open Sans', verdana, arial, sans-serif; font-size: 12px; fill: rgb(255, 255, 255); fill-opacity: 1; white-space: pre;\"><tspan class=\"line\" dy=\"0em\" x=\"34\" y=\"25.4\">43</tspan><tspan class=\"line\" dy=\"1.3em\" x=\"34\" y=\"25.4\">89.58%</tspan></text></g><g class=\"heatmap-label\"><text text-anchor=\"middle\" data-notex=\"1\" x=\"102\" y=\"33.2\" style=\"font-family: 'Open Sans', verdana, arial, sans-serif; font-size: 12px; fill: rgb(68, 68, 68); fill-opacity: 1; white-space: pre;\">0</text></g><g class=\"heatmap-label\"><text text-anchor=\"middle\" data-notex=\"1\" x=\"170\" y=\"25.4\" style=\"font-family: 'Open Sans', verdana, arial, sans-serif; font-size: 12px; fill: rgb(68, 68, 68); fill-opacity: 1; white-space: pre;\"><tspan class=\"line\" dy=\"0em\" x=\"170\" y=\"25.4\">1</tspan><tspan class=\"line\" dy=\"1.3em\" x=\"170\" y=\"25.4\">2.08%</tspan></text></g><g class=\"heatmap-label\"><text text-anchor=\"middle\" data-notex=\"1\" x=\"237\" y=\"33.2\" style=\"font-family: 'Open Sans', verdana, arial, sans-serif; font-size: 12px; fill: rgb(68, 68, 68); fill-opacity: 1; white-space: pre;\">0</text></g><g class=\"heatmap-label\"><text text-anchor=\"middle\" data-notex=\"1\" x=\"305\" y=\"25.4\" style=\"font-family: 'Open Sans', verdana, arial, sans-serif; font-size: 12px; fill: rgb(68, 68, 68); fill-opacity: 1; white-space: pre;\"><tspan class=\"line\" dy=\"0em\" x=\"305\" y=\"25.4\">4</tspan><tspan class=\"line\" dy=\"1.3em\" x=\"305\" y=\"25.4\">8.33%</tspan></text></g><g class=\"heatmap-label\"><text text-anchor=\"middle\" data-notex=\"1\" x=\"373\" y=\"33.2\" style=\"font-family: 'Open Sans', verdana, arial, sans-serif; font-size: 12px; fill: rgb(68, 68, 68); fill-opacity: 1; white-space: pre;\">0</text></g><g class=\"heatmap-label\"><text text-anchor=\"middle\" data-notex=\"1\" x=\"34\" y=\"82.4\" style=\"font-family: 'Open Sans', verdana, arial, sans-serif; font-size: 12px; fill: rgb(68, 68, 68); fill-opacity: 1; white-space: pre;\"><tspan class=\"line\" dy=\"0em\" x=\"34\" y=\"82.4\">3</tspan><tspan class=\"line\" dy=\"1.3em\" x=\"34\" y=\"82.4\">27.27%</tspan></text></g><g class=\"heatmap-label\"><text text-anchor=\"middle\" data-notex=\"1\" x=\"102\" y=\"90.2\" style=\"font-family: 'Open Sans', verdana, arial, sans-serif; font-size: 12px; fill: rgb(68, 68, 68); fill-opacity: 1; white-space: pre;\">0</text></g><g class=\"heatmap-label\"><text text-anchor=\"middle\" data-notex=\"1\" x=\"170\" y=\"82.4\" style=\"font-family: 'Open Sans', verdana, arial, sans-serif; font-size: 12px; fill: rgb(68, 68, 68); fill-opacity: 1; white-space: pre;\"><tspan class=\"line\" dy=\"0em\" x=\"170\" y=\"82.4\">3</tspan><tspan class=\"line\" dy=\"1.3em\" x=\"170\" y=\"82.4\">27.27%</tspan></text></g><g class=\"heatmap-label\"><text text-anchor=\"middle\" data-notex=\"1\" x=\"237\" y=\"82.4\" style=\"font-family: 'Open Sans', verdana, arial, sans-serif; font-size: 12px; fill: rgb(68, 68, 68); fill-opacity: 1; white-space: pre;\"><tspan class=\"line\" dy=\"0em\" x=\"237\" y=\"82.4\">2</tspan><tspan class=\"line\" dy=\"1.3em\" x=\"237\" y=\"82.4\">18.18%</tspan></text></g><g class=\"heatmap-label\"><text text-anchor=\"middle\" data-notex=\"1\" x=\"305\" y=\"90.2\" style=\"font-family: 'Open Sans', verdana, arial, sans-serif; font-size: 12px; fill: rgb(68, 68, 68); fill-opacity: 1; white-space: pre;\">0</text></g><g class=\"heatmap-label\"><text text-anchor=\"middle\" data-notex=\"1\" x=\"373\" y=\"82.4\" style=\"font-family: 'Open Sans', verdana, arial, sans-serif; font-size: 12px; fill: rgb(68, 68, 68); fill-opacity: 1; white-space: pre;\"><tspan class=\"line\" dy=\"0em\" x=\"373\" y=\"82.4\">3</tspan><tspan class=\"line\" dy=\"1.3em\" x=\"373\" y=\"82.4\">27.27%</tspan></text></g><g class=\"heatmap-label\"><text text-anchor=\"middle\" data-notex=\"1\" x=\"34\" y=\"139.4\" style=\"font-family: 'Open Sans', verdana, arial, sans-serif; font-size: 12px; fill: rgb(68, 68, 68); fill-opacity: 1; white-space: pre;\"><tspan class=\"line\" dy=\"0em\" x=\"34\" y=\"139.4\">2</tspan><tspan class=\"line\" dy=\"1.3em\" x=\"34\" y=\"139.4\">22.22%</tspan></text></g><g class=\"heatmap-label\"><text text-anchor=\"middle\" data-notex=\"1\" x=\"102\" y=\"147.2\" style=\"font-family: 'Open Sans', verdana, arial, sans-serif; font-size: 12px; fill: rgb(68, 68, 68); fill-opacity: 1; white-space: pre;\">0</text></g><g class=\"heatmap-label\"><text text-anchor=\"middle\" data-notex=\"1\" x=\"170\" y=\"139.4\" style=\"font-family: 'Open Sans', verdana, arial, sans-serif; font-size: 12px; fill: rgb(255, 255, 255); fill-opacity: 1; white-space: pre;\"><tspan class=\"line\" dy=\"0em\" x=\"170\" y=\"139.4\">7</tspan><tspan class=\"line\" dy=\"1.3em\" x=\"170\" y=\"139.4\">77.78%</tspan></text></g><g class=\"heatmap-label\"><text text-anchor=\"middle\" data-notex=\"1\" x=\"237\" y=\"147.2\" style=\"font-family: 'Open Sans', verdana, arial, sans-serif; font-size: 12px; fill: rgb(68, 68, 68); fill-opacity: 1; white-space: pre;\">0</text></g><g class=\"heatmap-label\"><text text-anchor=\"middle\" data-notex=\"1\" x=\"305\" y=\"147.2\" style=\"font-family: 'Open Sans', verdana, arial, sans-serif; font-size: 12px; fill: rgb(68, 68, 68); fill-opacity: 1; white-space: pre;\">0</text></g><g class=\"heatmap-label\"><text text-anchor=\"middle\" data-notex=\"1\" x=\"373\" y=\"147.2\" style=\"font-family: 'Open Sans', verdana, arial, sans-serif; font-size: 12px; fill: rgb(68, 68, 68); fill-opacity: 1; white-space: pre;\">0</text></g><g class=\"heatmap-label\"><text text-anchor=\"middle\" data-notex=\"1\" x=\"34\" y=\"196.4\" style=\"font-family: 'Open Sans', verdana, arial, sans-serif; font-size: 12px; fill: rgb(255, 255, 255); fill-opacity: 1; white-space: pre;\"><tspan class=\"line\" dy=\"0em\" x=\"34\" y=\"196.4\">8</tspan><tspan class=\"line\" dy=\"1.3em\" x=\"34\" y=\"196.4\">88.89%</tspan></text></g><g class=\"heatmap-label\"><text text-anchor=\"middle\" data-notex=\"1\" x=\"102\" y=\"204.2\" style=\"font-family: 'Open Sans', verdana, arial, sans-serif; font-size: 12px; fill: rgb(68, 68, 68); fill-opacity: 1; white-space: pre;\">0</text></g><g class=\"heatmap-label\"><text text-anchor=\"middle\" data-notex=\"1\" x=\"170\" y=\"204.2\" style=\"font-family: 'Open Sans', verdana, arial, sans-serif; font-size: 12px; fill: rgb(68, 68, 68); fill-opacity: 1; white-space: pre;\">0</text></g><g class=\"heatmap-label\"><text text-anchor=\"middle\" data-notex=\"1\" x=\"237\" y=\"196.4\" style=\"font-family: 'Open Sans', verdana, arial, sans-serif; font-size: 12px; fill: rgb(68, 68, 68); fill-opacity: 1; white-space: pre;\"><tspan class=\"line\" dy=\"0em\" x=\"237\" y=\"196.4\">1</tspan><tspan class=\"line\" dy=\"1.3em\" x=\"237\" y=\"196.4\">11.11%</tspan></text></g><g class=\"heatmap-label\"><text text-anchor=\"middle\" data-notex=\"1\" x=\"305\" y=\"204.2\" style=\"font-family: 'Open Sans', verdana, arial, sans-serif; font-size: 12px; fill: rgb(68, 68, 68); fill-opacity: 1; white-space: pre;\">0</text></g><g class=\"heatmap-label\"><text text-anchor=\"middle\" data-notex=\"1\" x=\"373\" y=\"204.2\" style=\"font-family: 'Open Sans', verdana, arial, sans-serif; font-size: 12px; fill: rgb(68, 68, 68); fill-opacity: 1; white-space: pre;\">0</text></g><g class=\"heatmap-label\"><text text-anchor=\"middle\" data-notex=\"1\" x=\"34\" y=\"253.4\" style=\"font-family: 'Open Sans', verdana, arial, sans-serif; font-size: 12px; fill: rgb(68, 68, 68); fill-opacity: 1; white-space: pre;\"><tspan class=\"line\" dy=\"0em\" x=\"34\" y=\"253.4\">8</tspan><tspan class=\"line\" dy=\"1.3em\" x=\"34\" y=\"253.4\">47.06%</tspan></text></g><g class=\"heatmap-label\"><text text-anchor=\"middle\" data-notex=\"1\" x=\"102\" y=\"261.2\" style=\"font-family: 'Open Sans', verdana, arial, sans-serif; font-size: 12px; fill: rgb(68, 68, 68); fill-opacity: 1; white-space: pre;\">0</text></g><g class=\"heatmap-label\"><text text-anchor=\"middle\" data-notex=\"1\" x=\"170\" y=\"261.2\" style=\"font-family: 'Open Sans', verdana, arial, sans-serif; font-size: 12px; fill: rgb(68, 68, 68); fill-opacity: 1; white-space: pre;\">0</text></g><g class=\"heatmap-label\"><text text-anchor=\"middle\" data-notex=\"1\" x=\"237\" y=\"261.2\" style=\"font-family: 'Open Sans', verdana, arial, sans-serif; font-size: 12px; fill: rgb(68, 68, 68); fill-opacity: 1; white-space: pre;\">0</text></g><g class=\"heatmap-label\"><text text-anchor=\"middle\" data-notex=\"1\" x=\"305\" y=\"253.4\" style=\"font-family: 'Open Sans', verdana, arial, sans-serif; font-size: 12px; fill: rgb(68, 68, 68); fill-opacity: 1; white-space: pre;\"><tspan class=\"line\" dy=\"0em\" x=\"305\" y=\"253.4\">9</tspan><tspan class=\"line\" dy=\"1.3em\" x=\"305\" y=\"253.4\">52.94%</tspan></text></g><g class=\"heatmap-label\"><text text-anchor=\"middle\" data-notex=\"1\" x=\"373\" y=\"261.2\" style=\"font-family: 'Open Sans', verdana, arial, sans-serif; font-size: 12px; fill: rgb(68, 68, 68); fill-opacity: 1; white-space: pre;\">0</text></g><g class=\"heatmap-label\"><text text-anchor=\"middle\" data-notex=\"1\" x=\"34\" y=\"310.4\" style=\"font-family: 'Open Sans', verdana, arial, sans-serif; font-size: 12px; fill: rgb(68, 68, 68); fill-opacity: 1; white-space: pre;\"><tspan class=\"line\" dy=\"0em\" x=\"34\" y=\"310.4\">2</tspan><tspan class=\"line\" dy=\"1.3em\" x=\"34\" y=\"310.4\">33.33%</tspan></text></g><g class=\"heatmap-label\"><text text-anchor=\"middle\" data-notex=\"1\" x=\"102\" y=\"318.2\" style=\"font-family: 'Open Sans', verdana, arial, sans-serif; font-size: 12px; fill: rgb(68, 68, 68); fill-opacity: 1; white-space: pre;\">0</text></g><g class=\"heatmap-label\"><text text-anchor=\"middle\" data-notex=\"1\" x=\"170\" y=\"318.2\" style=\"font-family: 'Open Sans', verdana, arial, sans-serif; font-size: 12px; fill: rgb(68, 68, 68); fill-opacity: 1; white-space: pre;\">0</text></g><g class=\"heatmap-label\"><text text-anchor=\"middle\" data-notex=\"1\" x=\"237\" y=\"318.2\" style=\"font-family: 'Open Sans', verdana, arial, sans-serif; font-size: 12px; fill: rgb(68, 68, 68); fill-opacity: 1; white-space: pre;\">0</text></g><g class=\"heatmap-label\"><text text-anchor=\"middle\" data-notex=\"1\" x=\"305\" y=\"318.2\" style=\"font-family: 'Open Sans', verdana, arial, sans-serif; font-size: 12px; fill: rgb(68, 68, 68); fill-opacity: 1; white-space: pre;\">0</text></g><g class=\"heatmap-label\"><text text-anchor=\"middle\" data-notex=\"1\" x=\"373\" y=\"310.4\" style=\"font-family: 'Open Sans', verdana, arial, sans-serif; font-size: 12px; fill: rgb(255, 255, 255); fill-opacity: 1; white-space: pre;\"><tspan class=\"line\" dy=\"0em\" x=\"373\" y=\"310.4\">4</tspan><tspan class=\"line\" dy=\"1.3em\" x=\"373\" y=\"310.4\">66.67%</tspan></text></g></g></g></g></g><path class=\"xlines-above crisp\" d=\"M0,0\" style=\"fill: none;\"/><path class=\"ylines-above crisp\" d=\"M0,0\" style=\"fill: none;\"/><g class=\"overlines-above\"/><g class=\"xaxislayer-above\"><g class=\"xtick\"><text text-anchor=\"end\" x=\"0\" y=\"396\" transform=\"translate(201.92000000000002,0) rotate(-30,0,390)\" style=\"font-family: 'Open Sans', verdana, arial, sans-serif; font-size: 12px; fill: rgb(42, 63, 95); fill-opacity: 1; white-space: pre; opacity: 1;\">0_accepted</text></g><g class=\"xtick\"><text text-anchor=\"end\" x=\"0\" y=\"396\" transform=\"translate(269.75,0) rotate(-30,0,390)\" style=\"font-family: 'Open Sans', verdana, arial, sans-serif; font-size: 12px; fill: rgb(42, 63, 95); fill-opacity: 1; white-space: pre; opacity: 1;\">1_its_not_happening</text></g><g class=\"xtick\"><text text-anchor=\"end\" x=\"0\" y=\"396\" transform=\"translate(337.58000000000004,0) rotate(-30,0,390)\" style=\"font-family: 'Open Sans', verdana, arial, sans-serif; font-size: 12px; fill: rgb(42, 63, 95); fill-opacity: 1; white-space: pre; opacity: 1;\">2_its_not_us</text></g><g class=\"xtick\"><text text-anchor=\"end\" x=\"0\" y=\"396\" transform=\"translate(405.41999999999996,0) rotate(-30,0,390)\" style=\"font-family: 'Open Sans', verdana, arial, sans-serif; font-size: 12px; fill: rgb(42, 63, 95); fill-opacity: 1; white-space: pre; opacity: 1;\">3_its_not_bad</text></g><g class=\"xtick\"><text text-anchor=\"end\" x=\"0\" y=\"396\" transform=\"translate(473.25,0) rotate(-30,0,390)\" style=\"font-family: 'Open Sans', verdana, arial, sans-serif; font-size: 12px; fill: rgb(42, 63, 95); fill-opacity: 1; white-space: pre; opacity: 1;\">4_solutions_wont_work</text></g><g class=\"xtick\"><text text-anchor=\"end\" x=\"0\" y=\"396\" transform=\"translate(541.0799999999999,0) rotate(-30,0,390)\" style=\"font-family: 'Open Sans', verdana, arial, sans-serif; font-size: 12px; fill: rgb(42, 63, 95); fill-opacity: 1; white-space: pre; opacity: 1;\">5_science_is_unreliable</text></g></g><g class=\"yaxislayer-above\"><g class=\"ytick\"><text text-anchor=\"end\" x=\"167\" y=\"4.199999999999999\" transform=\"translate(0,354.42)\" style=\"font-family: 'Open Sans', verdana, arial, sans-serif; font-size: 12px; fill: rgb(42, 63, 95); fill-opacity: 1; white-space: pre; opacity: 1;\">5_science_is_unreliable</text></g><g class=\"ytick\"><text text-anchor=\"end\" x=\"167\" y=\"4.199999999999999\" transform=\"translate(0,297.25)\" style=\"font-family: 'Open Sans', verdana, arial, sans-serif; font-size: 12px; fill: rgb(42, 63, 95); fill-opacity: 1; white-space: pre; opacity: 1;\">4_solutions_wont_work</text></g><g class=\"ytick\"><text text-anchor=\"end\" x=\"167\" y=\"4.199999999999999\" transform=\"translate(0,240.08)\" style=\"font-family: 'Open Sans', verdana, arial, sans-serif; font-size: 12px; fill: rgb(42, 63, 95); fill-opacity: 1; white-space: pre; opacity: 1;\">3_its_not_bad</text></g><g class=\"ytick\"><text text-anchor=\"end\" x=\"167\" y=\"4.199999999999999\" transform=\"translate(0,182.92)\" style=\"font-family: 'Open Sans', verdana, arial, sans-serif; font-size: 12px; fill: rgb(42, 63, 95); fill-opacity: 1; white-space: pre; opacity: 1;\">2_its_not_us</text></g><g class=\"ytick\"><text text-anchor=\"end\" x=\"167\" y=\"4.199999999999999\" transform=\"translate(0,125.75)\" style=\"font-family: 'Open Sans', verdana, arial, sans-serif; font-size: 12px; fill: rgb(42, 63, 95); fill-opacity: 1; white-space: pre; opacity: 1;\">1_its_not_happening</text></g><g class=\"ytick\"><text text-anchor=\"end\" x=\"167\" y=\"4.199999999999999\" transform=\"translate(0,68.58)\" style=\"font-family: 'Open Sans', verdana, arial, sans-serif; font-size: 12px; fill: rgb(42, 63, 95); fill-opacity: 1; white-space: pre; opacity: 1;\">0_accepted</text></g></g><g class=\"overaxes-above\"/></g></g><g class=\"polarlayer\"/><g class=\"smithlayer\"/><g class=\"ternarylayer\"/><g class=\"geolayer\"/><g class=\"funnelarealayer\"/><g class=\"pielayer\"/><g class=\"iciclelayer\"/><g class=\"treemaplayer\"/><g class=\"sunburstlayer\"/><g class=\"glimages\"/><defs id=\"topdefs-ed2408\"><g class=\"clips\"/></defs><g class=\"layer-above\"><g class=\"imagelayer\"/><g class=\"shapelayer\"/></g><g class=\"infolayer\"><g class=\"g-gtitle\"><text class=\"gtitle\" x=\"371.5\" y=\"15\" text-anchor=\"middle\" dy=\"0.7em\" style=\"opacity: 1; font-family: 'Open Sans', verdana, arial, sans-serif; font-size: 17px; fill: rgb(42, 63, 95); fill-opacity: 1; white-space: pre;\">Confusion Matrix</text></g><g class=\"g-xtitle\"><text class=\"xtitle\" x=\"371.5\" y=\"487.93671875\" text-anchor=\"middle\" style=\"opacity: 1; font-family: 'Open Sans', verdana, arial, sans-serif; font-size: 14px; fill: rgb(42, 63, 95); fill-opacity: 1; white-space: pre;\">Predicted class</text></g><g class=\"g-ytitle\"><text class=\"ytitle\" transform=\"rotate(-90,17.646874999999994,211.5)\" x=\"17.646874999999994\" y=\"211.5\" text-anchor=\"middle\" style=\"opacity: 1; font-family: 'Open Sans', verdana, arial, sans-serif; font-size: 14px; fill: rgb(42, 63, 95); fill-opacity: 1; white-space: pre;\">True class</text></g></g></svg>"
      ]
     },
     "metadata": {},
     "output_type": "display_data"
    }
   ],
   "source": [
    "async def predict_cards_label(text: str) -> MediatreePrediction:\n",
    "    system_prompt = \"\"\"Tu es expert en désinformation sur les sujets environnementaux, expert en science climatique et sachant tout sur le GIEC. Je vais te donner un extrait d'une retranscription de 2 minutes d'un flux TV ou Radio. Ta tâche est d'identifier si l'extrait contient des affirmations trompeuses sur les thématiques environnementales (changement climatique, transition écologique, énergie, biodiversité, pollution, pesticides, ressources (eau, minéraux, ...). Ne fournis que le label de la catégorie correcte, sans autre phrase d'introduction ou de conclusion.\n",
    "\n",
    "<catégories prédéfinies>\n",
    "- 0_accepted: Lorsque l'ensemble de l'extrait est neutre ou reflète le consensus scientifique sur les questions climatiques, sans contenir de désinformation. Cette catégorie est aussi adaptée si l'extrait n'aborde pas le sujet du climat.\n",
    "- 1_its_not_happening: Le réchauffement climatique n'a pas lieu. Cette catégorie soutient que le changement climatique est inexistant ou largement exagéré. Elle suggère que des facteurs naturels (tels que le froid, la préservation de la glace et le refroidissement des océans) prouvent que le réchauffement n'est pas en cours. De plus, elle implique que les prévisions de changements climatiques sévères, y compris la montée du niveau de la mer et les phénomènes météorologiques extrêmes, sont exagérées ou inventées. Certaines affirmations soutiennent que la terminologie climatique a été manipulée (par exemple, en passant de \"réchauffement climatique\" à \"changement climatique\") pour alarmer le public sans raison.\n",
    "- 2_its_not_us: Les humains ne sont pas à l'origine du réchauffement climatique. Cette catégorie avance que les activités humaines, en particulier les émissions de gaz à effet de serre, ne sont pas responsables du réchauffement observé. Elle soutient que les cycles naturels, l'activité solaire ou d'autres facteurs non humains sont à l'origine des changements climatiques. Les affirmations de cette catégorie minimisent souvent le rôle du CO2, ou soulignent que les changements climatiques passés se sont produits sans intervention humaine, suggérant que le réchauffement actuel est également naturel.\n",
    "- 3_its_not_bad: Les impacts climatiques ne sont pas mauvais. Cette catégorie reconnaît qu'un certain réchauffement pourrait se produire, mais affirme qu'il pose peu de risques. Les arguments de cette catégorie suggèrent que la sensibilité du climat au CO2 est faible, ce qui limiterait le réchauffement. Les partisans prétendent que l'environnement, les espèces et la santé humaine seront largement épargnés, car les plantes bénéficient de l'augmentation du CO2, et que de nombreuses espèces, comme les ours polaires, peuvent s'adapter. Dans l'ensemble, elle suggère que les impacts climatiques seront mineurs et gérables.\n",
    "- 4_solutions_wont_work: Les solutions climatiques ne fonctionneront pas. Cette catégorie s'oppose aux politiques climatiques proposées, en affirmant qu'elles seront nuisibles économiquement ou socialement, inefficaces ou irréalistes. Elle soutient que les politiques de réduction des émissions augmenteront les coûts, affaibliront la sécurité nationale et restreindront les libertés individuelles sans bénéfices climatiques significatifs. D'autres affirmations proposent que les solutions \"vertes\" sont peu fiables, que l'énergie propre est non éprouvée, ou que les combustibles fossiles sont abondants et essentiels pour l'avenir. Essentiellement, elle soutient que les politiques climatiques sont trop coûteuses, difficiles ou inefficaces pour être poursuivies.\n",
    "- 5_science_is_unreliable: Les mouvements pour le climat et la science du climat ne sont pas fiables. Cette catégorie attaque la crédibilité de la science climatique et du mouvement pour le climat, affirmant qu'ils sont non fiables, biaisés ou idéologiquement orientés. Elle remet en question le consensus scientifique sur le changement climatique, suggérant que les données, modèles et méthodes sont défectueux. De plus, elle présente le mouvement climatique comme alarmiste, biaisé ou faisant partie d'une conspiration plus large, motivée par des intentions politiques ou religieuses plutôt qu'une véritable préoccupation. Ce cadre cherche à miner la confiance dans la science climatique et dans ceux qui plaident pour l'action.\n",
    "</catégories prédéfinies>\n",
    "\n",
    "<exemples>\n",
    "\n",
    "<exemple_0>\n",
    "<extrait>\n",
    "[...] les scientifiques observent une hausse des températures mondiales, entraînant des changements climatiques visibles ils soulignent la nécessité d'agir pour en limiter les impacts [...]\n",
    "</extrait>\n",
    "<catégorie>0_accepted</catégorie>\n",
    "</exemple_0>\n",
    "\n",
    "<exemple_1>\n",
    "<extrait>\n",
    "[...] la fréquence des discussions sur la crise climatique semble augmenter mais certains experts proposent que les avertissements sur le climat pourraient être exagérés faisant souvent valoir que les fluctuations climatiques sont tout à fait naturelles et que les vérités scientifiques sont parfois altérées pour servir des intérêts politiques [...]\n",
    "</extrait>\n",
    "<catégorie>1_its_not_happening</catégorie>\n",
    "</exemple_1>\n",
    "\n",
    "<exemple_2>\n",
    "<extrait>\n",
    "[...] il est contesté que la contribution humaine aux niveaux de CO2 soit réellement significative certains experts soutiennent que les océans jouent un rôle bien plus important dans l'émission de ce gaz [...]\n",
    "</extrait>\n",
    "<catégorie>2_its_not_us</catégorie>\n",
    "</exemple_2>\n",
    "\n",
    "<exemple_3>\n",
    "<extrait>\n",
    "[...] il est important de noter que beaucoup de régions touchées par des événements climatiques extrêmes retrouvent leur équilibre naturel et peuvent même bénéficier de ces changements car plusieurs études montrent que certaines espèces et écosystèmes s'adaptent efficacement aux variations climatiques [...]\n",
    "</extrait>\n",
    "<catégorie>3_its_not_bad</catégorie>\n",
    "</exemple_3>\n",
    "\n",
    "<exemple_4>\n",
    "<extrait>\n",
    "[...] de nombreux experts remettent en question l'efficacité des initiatives visant à réduire la pollution, arguant qu'elles ne font qu'ajouter des coûts économiques sans réel impact positif sur l'environnement [...]\n",
    "</extrait>\n",
    "<catégorie>4_solutions_wont_work</catégorie>\n",
    "</exemple_4>\n",
    "\n",
    "<exemple_5>\n",
    "<extrait>\n",
    "[...] En réfléchissant à la situation on peut voir un parallèle avec le débat climatique de nombreux sceptiques pensent que le discours autour du climat est devenu une sorte de dogme où la critique est difficilement tolérée [...]\n",
    "</extrait>\n",
    "<catégorie>5_science_is_unreliable</catégorie>\n",
    "</exemple_5>\n",
    "\n",
    "</exemples>\n",
    "\"\"\"\n",
    "    response = await acompletion(\n",
    "        messages=[\n",
    "            {\"role\": \"system\", \"content\": system_prompt},\n",
    "            {\"role\": \"user\", \"content\": f\"<extrait>\\n{text.strip()}\\n</extrait>\"},\n",
    "            {\"role\": \"assistant\", \"content\": \"<catégorie>\", \"prefix\": True},\n",
    "        ],\n",
    "        model=\"anthropic.claude-3-haiku-20240307-v1:0\",\n",
    "        max_tokens=20,\n",
    "        temperature=0,\n",
    "        stop=[\"</catégorie>\"],\n",
    "    )\n",
    "    cards_label_pred = response.choices[0].message.content.strip()\n",
    "    return MediatreePrediction(\n",
    "        cards_label_pred=cards_label_pred,\n",
    "        prompt_tokens=response.usage.prompt_tokens,\n",
    "        completion_tokens=response.usage.completion_tokens,\n",
    "        total_tokens=response.usage.total_tokens,\n",
    "        cost=completion_cost(response),\n",
    "    )\n",
    "\n",
    "\n",
    "await report_experiment_results(df, predict_cards_label)"
   ]
  },
  {
   "cell_type": "markdown",
   "metadata": {},
   "source": [
    "## Trying to find the hidden contrarian claim 🕵️‍♂️\n"
   ]
  },
  {
   "cell_type": "code",
   "execution_count": 10,
   "metadata": {},
   "outputs": [
    {
     "name": "stderr",
     "output_type": "stream",
     "text": [
      "100%|██████████| 100/100 [00:16<00:00,  6.09it/s]"
     ]
    },
    {
     "name": "stdout",
     "output_type": "stream",
     "text": [
      "\n",
      "LLM USAGE\n",
      "=========\n",
      "\n",
      "Median token usage:\n",
      "- Prompt: 2628\n",
      "- Completion: 44\n",
      "- Total: 2699\n",
      "\n",
      "Total cost: $0.073\n",
      "\n",
      "BINARY CLASSIFICATION REPORT\n",
      "============================\n",
      "\n",
      "              precision    recall  f1-score   support\n",
      "\n",
      "       False       0.92      0.98      0.95        48\n",
      "        True       0.98      0.92      0.95        52\n",
      "\n",
      "    accuracy                           0.95       100\n",
      "   macro avg       0.95      0.95      0.95       100\n",
      "weighted avg       0.95      0.95      0.95       100\n",
      "\n"
     ]
    },
    {
     "name": "stderr",
     "output_type": "stream",
     "text": [
      "\n"
     ]
    },
    {
     "data": {
      "image/svg+xml": [
       "<svg class=\"main-svg\" xmlns=\"http://www.w3.org/2000/svg\" xmlns:xlink=\"http://www.w3.org/1999/xlink\" width=\"600\" height=\"500\" style=\"\" viewBox=\"0 0 600 500\"><rect x=\"0\" y=\"0\" width=\"600\" height=\"500\" style=\"fill: rgb(255, 255, 255); fill-opacity: 1;\"/><defs id=\"defs-926007\"><g class=\"clips\"><clipPath id=\"clip926007xyplot\" class=\"plotclip\"><rect width=\"448\" height=\"363\"/></clipPath><clipPath class=\"axesclip\" id=\"clip926007x\"><rect x=\"127\" y=\"0\" width=\"448\" height=\"500\"/></clipPath><clipPath class=\"axesclip\" id=\"clip926007y\"><rect x=\"0\" y=\"40\" width=\"600\" height=\"363\"/></clipPath><clipPath class=\"axesclip\" id=\"clip926007xy\"><rect x=\"127\" y=\"40\" width=\"448\" height=\"363\"/></clipPath></g><g class=\"gradients\"/><g class=\"patterns\"/></defs><g class=\"bglayer\"><rect class=\"bg\" x=\"127\" y=\"40\" width=\"448\" height=\"363\" style=\"fill: rgb(229, 236, 246); fill-opacity: 1; stroke-width: 0;\"/></g><g class=\"layer-below\"><g class=\"imagelayer\"/><g class=\"shapelayer\"/></g><g class=\"cartesianlayer\"><g class=\"subplot xy\"><g class=\"layer-subplot\"><g class=\"shapelayer\"/><g class=\"imagelayer\"/></g><g class=\"minor-gridlayer\"><g class=\"x\"/><g class=\"y\"/></g><g class=\"gridlayer\"><g class=\"x\"><path class=\"xgrid crisp\" transform=\"translate(239,0)\" d=\"M0,40v363\" style=\"stroke: rgb(255, 255, 255); stroke-opacity: 1; stroke-width: 1px;\"/><path class=\"xgrid crisp\" transform=\"translate(463,0)\" d=\"M0,40v363\" style=\"stroke: rgb(255, 255, 255); stroke-opacity: 1; stroke-width: 1px;\"/></g><g class=\"y\"><path class=\"ygrid crisp\" transform=\"translate(0,312.25)\" d=\"M127,0h448\" style=\"stroke: rgb(255, 255, 255); stroke-opacity: 1; stroke-width: 1px;\"/><path class=\"ygrid crisp\" transform=\"translate(0,130.75)\" d=\"M127,0h448\" style=\"stroke: rgb(255, 255, 255); stroke-opacity: 1; stroke-width: 1px;\"/></g></g><g class=\"zerolinelayer\"/><g class=\"layer-between\"><g class=\"shapelayer\"/><g class=\"imagelayer\"/></g><path class=\"xlines-below\"/><path class=\"ylines-below\"/><g class=\"overlines-below\"/><g class=\"xaxislayer-below\"/><g class=\"yaxislayer-below\"/><g class=\"overaxes-below\"/><g class=\"overplot\"><g class=\"xy\" transform=\"translate(127,40)\" clip-path=\"url(#clip926007xyplot)\"><g class=\"heatmaplayer mlayer\"><g class=\"hm\"><image xmlns=\"http://www.w3.org/2000/svg\" preserveAspectRatio=\"none\" height=\"363\" width=\"448\" x=\"0\" y=\"0\" xlink:href=\"data:image/png;base64,iVBORw0KGgoAAAANSUhEUgAAAAIAAAACCAYAAABytg0kAAAAG0lEQVQYV2PkMMj+//70FAbG119+/5f1bmcAAE8zCLvjWHSrAAAAAElFTkSuQmCC\" style=\"image-rendering: pixelated; opacity: 1;\"/><g class=\"heatmap-label\"><text text-anchor=\"middle\" data-notex=\"1\" x=\"112\" y=\"87.4\" style=\"font-family: 'Open Sans', verdana, arial, sans-serif; font-size: 12px; fill: rgb(255, 255, 255); fill-opacity: 1; white-space: pre;\"><tspan class=\"line\" dy=\"0em\" x=\"112\" y=\"87.4\">47</tspan><tspan class=\"line\" dy=\"1.3em\" x=\"112\" y=\"87.4\">97.92%</tspan></text></g><g class=\"heatmap-label\"><text text-anchor=\"middle\" data-notex=\"1\" x=\"336\" y=\"87.4\" style=\"font-family: 'Open Sans', verdana, arial, sans-serif; font-size: 12px; fill: rgb(68, 68, 68); fill-opacity: 1; white-space: pre;\"><tspan class=\"line\" dy=\"0em\" x=\"336\" y=\"87.4\">1</tspan><tspan class=\"line\" dy=\"1.3em\" x=\"336\" y=\"87.4\">2.08%</tspan></text></g><g class=\"heatmap-label\"><text text-anchor=\"middle\" data-notex=\"1\" x=\"112\" y=\"268.4\" style=\"font-family: 'Open Sans', verdana, arial, sans-serif; font-size: 12px; fill: rgb(68, 68, 68); fill-opacity: 1; white-space: pre;\"><tspan class=\"line\" dy=\"0em\" x=\"112\" y=\"268.4\">4</tspan><tspan class=\"line\" dy=\"1.3em\" x=\"112\" y=\"268.4\">7.69%</tspan></text></g><g class=\"heatmap-label\"><text text-anchor=\"middle\" data-notex=\"1\" x=\"336\" y=\"268.4\" style=\"font-family: 'Open Sans', verdana, arial, sans-serif; font-size: 12px; fill: rgb(255, 255, 255); fill-opacity: 1; white-space: pre;\"><tspan class=\"line\" dy=\"0em\" x=\"336\" y=\"268.4\">48</tspan><tspan class=\"line\" dy=\"1.3em\" x=\"336\" y=\"268.4\">92.31%</tspan></text></g></g></g></g></g><path class=\"xlines-above crisp\" d=\"M0,0\" style=\"fill: none;\"/><path class=\"ylines-above crisp\" d=\"M0,0\" style=\"fill: none;\"/><g class=\"overlines-above\"/><g class=\"xaxislayer-above\"><g class=\"xtick\"><text text-anchor=\"end\" x=\"0\" y=\"416\" transform=\"translate(239,0) rotate(-30,0,410)\" style=\"font-family: 'Open Sans', verdana, arial, sans-serif; font-size: 12px; fill: rgb(42, 63, 95); fill-opacity: 1; white-space: pre; opacity: 1;\">0_accepted</text></g><g class=\"xtick\"><text text-anchor=\"end\" x=\"0\" y=\"416\" transform=\"translate(463,0) rotate(-30,0,410)\" style=\"font-family: 'Open Sans', verdana, arial, sans-serif; font-size: 12px; fill: rgb(42, 63, 95); fill-opacity: 1; white-space: pre; opacity: 1;\">[1-5]_contrarian</text></g></g><g class=\"yaxislayer-above\"><g class=\"ytick\"><text text-anchor=\"end\" x=\"126\" y=\"4.199999999999999\" transform=\"translate(0,312.25)\" style=\"font-family: 'Open Sans', verdana, arial, sans-serif; font-size: 12px; fill: rgb(42, 63, 95); fill-opacity: 1; white-space: pre; opacity: 1;\">[1-5]_contrarian</text></g><g class=\"ytick\"><text text-anchor=\"end\" x=\"126\" y=\"4.199999999999999\" transform=\"translate(0,130.75)\" style=\"font-family: 'Open Sans', verdana, arial, sans-serif; font-size: 12px; fill: rgb(42, 63, 95); fill-opacity: 1; white-space: pre; opacity: 1;\">0_accepted</text></g></g><g class=\"overaxes-above\"/></g></g><g class=\"polarlayer\"/><g class=\"smithlayer\"/><g class=\"ternarylayer\"/><g class=\"geolayer\"/><g class=\"funnelarealayer\"/><g class=\"pielayer\"/><g class=\"iciclelayer\"/><g class=\"treemaplayer\"/><g class=\"sunburstlayer\"/><g class=\"glimages\"/><defs id=\"topdefs-926007\"><g class=\"clips\"/></defs><g class=\"layer-above\"><g class=\"imagelayer\"/><g class=\"shapelayer\"/></g><g class=\"infolayer\"><g class=\"g-gtitle\"><text class=\"gtitle\" x=\"351\" y=\"15\" text-anchor=\"middle\" dy=\"0.7em\" style=\"opacity: 1; font-family: 'Open Sans', verdana, arial, sans-serif; font-size: 17px; fill: rgb(42, 63, 95); fill-opacity: 1; white-space: pre;\">Confusion Matrix</text></g><g class=\"g-xtitle\"><text class=\"xtitle\" x=\"351\" y=\"487.44453125\" text-anchor=\"middle\" style=\"opacity: 1; font-family: 'Open Sans', verdana, arial, sans-serif; font-size: 14px; fill: rgb(42, 63, 95); fill-opacity: 1; white-space: pre;\">Predicted class</text></g><g class=\"g-ytitle\"><text class=\"ytitle\" transform=\"rotate(-90,17.631249999999994,221.5)\" x=\"17.631249999999994\" y=\"221.5\" text-anchor=\"middle\" style=\"opacity: 1; font-family: 'Open Sans', verdana, arial, sans-serif; font-size: 14px; fill: rgb(42, 63, 95); fill-opacity: 1; white-space: pre;\">True class</text></g></g></svg>"
      ]
     },
     "metadata": {},
     "output_type": "display_data"
    },
    {
     "name": "stdout",
     "output_type": "stream",
     "text": [
      "CARDS CLASSIFICATION REPORT\n",
      "===========================\n",
      "\n",
      "                         precision    recall  f1-score   support\n",
      "\n",
      "             0_accepted       0.92      0.98      0.95        48\n",
      "    1_its_not_happening       0.75      0.27      0.40        11\n",
      "           2_its_not_us       0.64      0.78      0.70         9\n",
      "          3_its_not_bad       0.64      0.78      0.70         9\n",
      "  4_solutions_wont_work       0.92      0.65      0.76        17\n",
      "5_science_is_unreliable       0.55      1.00      0.71         6\n",
      "\n",
      "               accuracy                           0.81       100\n",
      "              macro avg       0.73      0.74      0.70       100\n",
      "           weighted avg       0.83      0.81      0.80       100\n",
      "\n"
     ]
    },
    {
     "data": {
      "image/svg+xml": [
       "<svg class=\"main-svg\" xmlns=\"http://www.w3.org/2000/svg\" xmlns:xlink=\"http://www.w3.org/1999/xlink\" width=\"600\" height=\"500\" style=\"\" viewBox=\"0 0 600 500\"><rect x=\"0\" y=\"0\" width=\"600\" height=\"500\" style=\"fill: rgb(255, 255, 255); fill-opacity: 1;\"/><defs id=\"defs-5763aa\"><g class=\"clips\"><clipPath id=\"clip5763aaxyplot\" class=\"plotclip\"><rect width=\"407\" height=\"343\"/></clipPath><clipPath class=\"axesclip\" id=\"clip5763aax\"><rect x=\"168\" y=\"0\" width=\"407\" height=\"500\"/></clipPath><clipPath class=\"axesclip\" id=\"clip5763aay\"><rect x=\"0\" y=\"40\" width=\"600\" height=\"343\"/></clipPath><clipPath class=\"axesclip\" id=\"clip5763aaxy\"><rect x=\"168\" y=\"40\" width=\"407\" height=\"343\"/></clipPath></g><g class=\"gradients\"/><g class=\"patterns\"/></defs><g class=\"bglayer\"><rect class=\"bg\" x=\"168\" y=\"40\" width=\"407\" height=\"343\" style=\"fill: rgb(229, 236, 246); fill-opacity: 1; stroke-width: 0;\"/></g><g class=\"layer-below\"><g class=\"imagelayer\"/><g class=\"shapelayer\"/></g><g class=\"cartesianlayer\"><g class=\"subplot xy\"><g class=\"layer-subplot\"><g class=\"shapelayer\"/><g class=\"imagelayer\"/></g><g class=\"minor-gridlayer\"><g class=\"x\"/><g class=\"y\"/></g><g class=\"gridlayer\"><g class=\"x\"><path class=\"xgrid crisp\" transform=\"translate(201.92000000000002,0)\" d=\"M0,40v343\" style=\"stroke: rgb(255, 255, 255); stroke-opacity: 1; stroke-width: 1px;\"/><path class=\"xgrid crisp\" transform=\"translate(269.75,0)\" d=\"M0,40v343\" style=\"stroke: rgb(255, 255, 255); stroke-opacity: 1; stroke-width: 1px;\"/><path class=\"xgrid crisp\" transform=\"translate(337.58000000000004,0)\" d=\"M0,40v343\" style=\"stroke: rgb(255, 255, 255); stroke-opacity: 1; stroke-width: 1px;\"/><path class=\"xgrid crisp\" transform=\"translate(405.41999999999996,0)\" d=\"M0,40v343\" style=\"stroke: rgb(255, 255, 255); stroke-opacity: 1; stroke-width: 1px;\"/><path class=\"xgrid crisp\" transform=\"translate(473.25,0)\" d=\"M0,40v343\" style=\"stroke: rgb(255, 255, 255); stroke-opacity: 1; stroke-width: 1px;\"/><path class=\"xgrid crisp\" transform=\"translate(541.0799999999999,0)\" d=\"M0,40v343\" style=\"stroke: rgb(255, 255, 255); stroke-opacity: 1; stroke-width: 1px;\"/></g><g class=\"y\"><path class=\"ygrid crisp\" transform=\"translate(0,354.42)\" d=\"M168,0h407\" style=\"stroke: rgb(255, 255, 255); stroke-opacity: 1; stroke-width: 1px;\"/><path class=\"ygrid crisp\" transform=\"translate(0,297.25)\" d=\"M168,0h407\" style=\"stroke: rgb(255, 255, 255); stroke-opacity: 1; stroke-width: 1px;\"/><path class=\"ygrid crisp\" transform=\"translate(0,240.08)\" d=\"M168,0h407\" style=\"stroke: rgb(255, 255, 255); stroke-opacity: 1; stroke-width: 1px;\"/><path class=\"ygrid crisp\" transform=\"translate(0,182.92)\" d=\"M168,0h407\" style=\"stroke: rgb(255, 255, 255); stroke-opacity: 1; stroke-width: 1px;\"/><path class=\"ygrid crisp\" transform=\"translate(0,125.75)\" d=\"M168,0h407\" style=\"stroke: rgb(255, 255, 255); stroke-opacity: 1; stroke-width: 1px;\"/><path class=\"ygrid crisp\" transform=\"translate(0,68.58)\" d=\"M168,0h407\" style=\"stroke: rgb(255, 255, 255); stroke-opacity: 1; stroke-width: 1px;\"/></g></g><g class=\"zerolinelayer\"/><g class=\"layer-between\"><g class=\"shapelayer\"/><g class=\"imagelayer\"/></g><path class=\"xlines-below\"/><path class=\"ylines-below\"/><g class=\"overlines-below\"/><g class=\"xaxislayer-below\"/><g class=\"yaxislayer-below\"/><g class=\"overaxes-below\"/><g class=\"overplot\"><g class=\"xy\" transform=\"translate(168,40)\" clip-path=\"url(#clip5763aaxyplot)\"><g class=\"heatmaplayer mlayer\"><g class=\"hm\"><image xmlns=\"http://www.w3.org/2000/svg\" preserveAspectRatio=\"none\" height=\"343\" width=\"407\" x=\"0\" y=\"0\" xlink:href=\"data:image/png;base64,iVBORw0KGgoAAAANSUhEUgAAAAYAAAAGCAYAAADgzO9IAAAAd0lEQVQYV2PkMCv+//5oDwMM/Pn7n4GFmZGB8fvv//9P3H3L8PjLN4ZQfVmw/OqLjyESrz79ZLCq3c5wrNmTQYyPHSzJ+PDtj/8wjkr+BoY7EwMYQAoZrzz58l9ZnBus6u7LrwwZK84z7M63gRgFtxnKEDTNYQAANyw1jWK66ZoAAAAASUVORK5CYII=\" style=\"image-rendering: pixelated; opacity: 1;\"/><g class=\"heatmap-label\"><text text-anchor=\"middle\" data-notex=\"1\" x=\"34\" y=\"25.4\" style=\"font-family: 'Open Sans', verdana, arial, sans-serif; font-size: 12px; fill: rgb(255, 255, 255); fill-opacity: 1; white-space: pre;\"><tspan class=\"line\" dy=\"0em\" x=\"34\" y=\"25.4\">47</tspan><tspan class=\"line\" dy=\"1.3em\" x=\"34\" y=\"25.4\">97.92%</tspan></text></g><g class=\"heatmap-label\"><text text-anchor=\"middle\" data-notex=\"1\" x=\"102\" y=\"33.2\" style=\"font-family: 'Open Sans', verdana, arial, sans-serif; font-size: 12px; fill: rgb(68, 68, 68); fill-opacity: 1; white-space: pre;\">0</text></g><g class=\"heatmap-label\"><text text-anchor=\"middle\" data-notex=\"1\" x=\"170\" y=\"33.2\" style=\"font-family: 'Open Sans', verdana, arial, sans-serif; font-size: 12px; fill: rgb(68, 68, 68); fill-opacity: 1; white-space: pre;\">0</text></g><g class=\"heatmap-label\"><text text-anchor=\"middle\" data-notex=\"1\" x=\"237\" y=\"33.2\" style=\"font-family: 'Open Sans', verdana, arial, sans-serif; font-size: 12px; fill: rgb(68, 68, 68); fill-opacity: 1; white-space: pre;\">0</text></g><g class=\"heatmap-label\"><text text-anchor=\"middle\" data-notex=\"1\" x=\"305\" y=\"25.4\" style=\"font-family: 'Open Sans', verdana, arial, sans-serif; font-size: 12px; fill: rgb(68, 68, 68); fill-opacity: 1; white-space: pre;\"><tspan class=\"line\" dy=\"0em\" x=\"305\" y=\"25.4\">1</tspan><tspan class=\"line\" dy=\"1.3em\" x=\"305\" y=\"25.4\">2.08%</tspan></text></g><g class=\"heatmap-label\"><text text-anchor=\"middle\" data-notex=\"1\" x=\"373\" y=\"33.2\" style=\"font-family: 'Open Sans', verdana, arial, sans-serif; font-size: 12px; fill: rgb(68, 68, 68); fill-opacity: 1; white-space: pre;\">0</text></g><g class=\"heatmap-label\"><text text-anchor=\"middle\" data-notex=\"1\" x=\"34\" y=\"90.2\" style=\"font-family: 'Open Sans', verdana, arial, sans-serif; font-size: 12px; fill: rgb(68, 68, 68); fill-opacity: 1; white-space: pre;\">0</text></g><g class=\"heatmap-label\"><text text-anchor=\"middle\" data-notex=\"1\" x=\"102\" y=\"82.4\" style=\"font-family: 'Open Sans', verdana, arial, sans-serif; font-size: 12px; fill: rgb(68, 68, 68); fill-opacity: 1; white-space: pre;\"><tspan class=\"line\" dy=\"0em\" x=\"102\" y=\"82.4\">3</tspan><tspan class=\"line\" dy=\"1.3em\" x=\"102\" y=\"82.4\">27.27%</tspan></text></g><g class=\"heatmap-label\"><text text-anchor=\"middle\" data-notex=\"1\" x=\"170\" y=\"82.4\" style=\"font-family: 'Open Sans', verdana, arial, sans-serif; font-size: 12px; fill: rgb(68, 68, 68); fill-opacity: 1; white-space: pre;\"><tspan class=\"line\" dy=\"0em\" x=\"170\" y=\"82.4\">4</tspan><tspan class=\"line\" dy=\"1.3em\" x=\"170\" y=\"82.4\">36.36%</tspan></text></g><g class=\"heatmap-label\"><text text-anchor=\"middle\" data-notex=\"1\" x=\"237\" y=\"90.2\" style=\"font-family: 'Open Sans', verdana, arial, sans-serif; font-size: 12px; fill: rgb(68, 68, 68); fill-opacity: 1; white-space: pre;\">0</text></g><g class=\"heatmap-label\"><text text-anchor=\"middle\" data-notex=\"1\" x=\"305\" y=\"90.2\" style=\"font-family: 'Open Sans', verdana, arial, sans-serif; font-size: 12px; fill: rgb(68, 68, 68); fill-opacity: 1; white-space: pre;\">0</text></g><g class=\"heatmap-label\"><text text-anchor=\"middle\" data-notex=\"1\" x=\"373\" y=\"82.4\" style=\"font-family: 'Open Sans', verdana, arial, sans-serif; font-size: 12px; fill: rgb(68, 68, 68); fill-opacity: 1; white-space: pre;\"><tspan class=\"line\" dy=\"0em\" x=\"373\" y=\"82.4\">4</tspan><tspan class=\"line\" dy=\"1.3em\" x=\"373\" y=\"82.4\">36.36%</tspan></text></g><g class=\"heatmap-label\"><text text-anchor=\"middle\" data-notex=\"1\" x=\"34\" y=\"147.2\" style=\"font-family: 'Open Sans', verdana, arial, sans-serif; font-size: 12px; fill: rgb(68, 68, 68); fill-opacity: 1; white-space: pre;\">0</text></g><g class=\"heatmap-label\"><text text-anchor=\"middle\" data-notex=\"1\" x=\"102\" y=\"139.4\" style=\"font-family: 'Open Sans', verdana, arial, sans-serif; font-size: 12px; fill: rgb(68, 68, 68); fill-opacity: 1; white-space: pre;\"><tspan class=\"line\" dy=\"0em\" x=\"102\" y=\"139.4\">1</tspan><tspan class=\"line\" dy=\"1.3em\" x=\"102\" y=\"139.4\">11.11%</tspan></text></g><g class=\"heatmap-label\"><text text-anchor=\"middle\" data-notex=\"1\" x=\"170\" y=\"139.4\" style=\"font-family: 'Open Sans', verdana, arial, sans-serif; font-size: 12px; fill: rgb(255, 255, 255); fill-opacity: 1; white-space: pre;\"><tspan class=\"line\" dy=\"0em\" x=\"170\" y=\"139.4\">7</tspan><tspan class=\"line\" dy=\"1.3em\" x=\"170\" y=\"139.4\">77.78%</tspan></text></g><g class=\"heatmap-label\"><text text-anchor=\"middle\" data-notex=\"1\" x=\"237\" y=\"139.4\" style=\"font-family: 'Open Sans', verdana, arial, sans-serif; font-size: 12px; fill: rgb(68, 68, 68); fill-opacity: 1; white-space: pre;\"><tspan class=\"line\" dy=\"0em\" x=\"237\" y=\"139.4\">1</tspan><tspan class=\"line\" dy=\"1.3em\" x=\"237\" y=\"139.4\">11.11%</tspan></text></g><g class=\"heatmap-label\"><text text-anchor=\"middle\" data-notex=\"1\" x=\"305\" y=\"147.2\" style=\"font-family: 'Open Sans', verdana, arial, sans-serif; font-size: 12px; fill: rgb(68, 68, 68); fill-opacity: 1; white-space: pre;\">0</text></g><g class=\"heatmap-label\"><text text-anchor=\"middle\" data-notex=\"1\" x=\"373\" y=\"147.2\" style=\"font-family: 'Open Sans', verdana, arial, sans-serif; font-size: 12px; fill: rgb(68, 68, 68); fill-opacity: 1; white-space: pre;\">0</text></g><g class=\"heatmap-label\"><text text-anchor=\"middle\" data-notex=\"1\" x=\"34\" y=\"196.4\" style=\"font-family: 'Open Sans', verdana, arial, sans-serif; font-size: 12px; fill: rgb(68, 68, 68); fill-opacity: 1; white-space: pre;\"><tspan class=\"line\" dy=\"0em\" x=\"34\" y=\"196.4\">1</tspan><tspan class=\"line\" dy=\"1.3em\" x=\"34\" y=\"196.4\">11.11%</tspan></text></g><g class=\"heatmap-label\"><text text-anchor=\"middle\" data-notex=\"1\" x=\"102\" y=\"204.2\" style=\"font-family: 'Open Sans', verdana, arial, sans-serif; font-size: 12px; fill: rgb(68, 68, 68); fill-opacity: 1; white-space: pre;\">0</text></g><g class=\"heatmap-label\"><text text-anchor=\"middle\" data-notex=\"1\" x=\"170\" y=\"204.2\" style=\"font-family: 'Open Sans', verdana, arial, sans-serif; font-size: 12px; fill: rgb(68, 68, 68); fill-opacity: 1; white-space: pre;\">0</text></g><g class=\"heatmap-label\"><text text-anchor=\"middle\" data-notex=\"1\" x=\"237\" y=\"196.4\" style=\"font-family: 'Open Sans', verdana, arial, sans-serif; font-size: 12px; fill: rgb(255, 255, 255); fill-opacity: 1; white-space: pre;\"><tspan class=\"line\" dy=\"0em\" x=\"237\" y=\"196.4\">7</tspan><tspan class=\"line\" dy=\"1.3em\" x=\"237\" y=\"196.4\">77.78%</tspan></text></g><g class=\"heatmap-label\"><text text-anchor=\"middle\" data-notex=\"1\" x=\"305\" y=\"204.2\" style=\"font-family: 'Open Sans', verdana, arial, sans-serif; font-size: 12px; fill: rgb(68, 68, 68); fill-opacity: 1; white-space: pre;\">0</text></g><g class=\"heatmap-label\"><text text-anchor=\"middle\" data-notex=\"1\" x=\"373\" y=\"196.4\" style=\"font-family: 'Open Sans', verdana, arial, sans-serif; font-size: 12px; fill: rgb(68, 68, 68); fill-opacity: 1; white-space: pre;\"><tspan class=\"line\" dy=\"0em\" x=\"373\" y=\"196.4\">1</tspan><tspan class=\"line\" dy=\"1.3em\" x=\"373\" y=\"196.4\">11.11%</tspan></text></g><g class=\"heatmap-label\"><text text-anchor=\"middle\" data-notex=\"1\" x=\"34\" y=\"253.4\" style=\"font-family: 'Open Sans', verdana, arial, sans-serif; font-size: 12px; fill: rgb(68, 68, 68); fill-opacity: 1; white-space: pre;\"><tspan class=\"line\" dy=\"0em\" x=\"34\" y=\"253.4\">3</tspan><tspan class=\"line\" dy=\"1.3em\" x=\"34\" y=\"253.4\">17.65%</tspan></text></g><g class=\"heatmap-label\"><text text-anchor=\"middle\" data-notex=\"1\" x=\"102\" y=\"261.2\" style=\"font-family: 'Open Sans', verdana, arial, sans-serif; font-size: 12px; fill: rgb(68, 68, 68); fill-opacity: 1; white-space: pre;\">0</text></g><g class=\"heatmap-label\"><text text-anchor=\"middle\" data-notex=\"1\" x=\"170\" y=\"261.2\" style=\"font-family: 'Open Sans', verdana, arial, sans-serif; font-size: 12px; fill: rgb(68, 68, 68); fill-opacity: 1; white-space: pre;\">0</text></g><g class=\"heatmap-label\"><text text-anchor=\"middle\" data-notex=\"1\" x=\"237\" y=\"253.4\" style=\"font-family: 'Open Sans', verdana, arial, sans-serif; font-size: 12px; fill: rgb(68, 68, 68); fill-opacity: 1; white-space: pre;\"><tspan class=\"line\" dy=\"0em\" x=\"237\" y=\"253.4\">3</tspan><tspan class=\"line\" dy=\"1.3em\" x=\"237\" y=\"253.4\">17.65%</tspan></text></g><g class=\"heatmap-label\"><text text-anchor=\"middle\" data-notex=\"1\" x=\"305\" y=\"253.4\" style=\"font-family: 'Open Sans', verdana, arial, sans-serif; font-size: 12px; fill: rgb(255, 255, 255); fill-opacity: 1; white-space: pre;\"><tspan class=\"line\" dy=\"0em\" x=\"305\" y=\"253.4\">11</tspan><tspan class=\"line\" dy=\"1.3em\" x=\"305\" y=\"253.4\">64.71%</tspan></text></g><g class=\"heatmap-label\"><text text-anchor=\"middle\" data-notex=\"1\" x=\"373\" y=\"261.2\" style=\"font-family: 'Open Sans', verdana, arial, sans-serif; font-size: 12px; fill: rgb(68, 68, 68); fill-opacity: 1; white-space: pre;\">0</text></g><g class=\"heatmap-label\"><text text-anchor=\"middle\" data-notex=\"1\" x=\"34\" y=\"318.2\" style=\"font-family: 'Open Sans', verdana, arial, sans-serif; font-size: 12px; fill: rgb(68, 68, 68); fill-opacity: 1; white-space: pre;\">0</text></g><g class=\"heatmap-label\"><text text-anchor=\"middle\" data-notex=\"1\" x=\"102\" y=\"318.2\" style=\"font-family: 'Open Sans', verdana, arial, sans-serif; font-size: 12px; fill: rgb(68, 68, 68); fill-opacity: 1; white-space: pre;\">0</text></g><g class=\"heatmap-label\"><text text-anchor=\"middle\" data-notex=\"1\" x=\"170\" y=\"318.2\" style=\"font-family: 'Open Sans', verdana, arial, sans-serif; font-size: 12px; fill: rgb(68, 68, 68); fill-opacity: 1; white-space: pre;\">0</text></g><g class=\"heatmap-label\"><text text-anchor=\"middle\" data-notex=\"1\" x=\"237\" y=\"318.2\" style=\"font-family: 'Open Sans', verdana, arial, sans-serif; font-size: 12px; fill: rgb(68, 68, 68); fill-opacity: 1; white-space: pre;\">0</text></g><g class=\"heatmap-label\"><text text-anchor=\"middle\" data-notex=\"1\" x=\"305\" y=\"318.2\" style=\"font-family: 'Open Sans', verdana, arial, sans-serif; font-size: 12px; fill: rgb(68, 68, 68); fill-opacity: 1; white-space: pre;\">0</text></g><g class=\"heatmap-label\"><text text-anchor=\"middle\" data-notex=\"1\" x=\"373\" y=\"310.4\" style=\"font-family: 'Open Sans', verdana, arial, sans-serif; font-size: 12px; fill: rgb(255, 255, 255); fill-opacity: 1; white-space: pre;\"><tspan class=\"line\" dy=\"0em\" x=\"373\" y=\"310.4\">6</tspan><tspan class=\"line\" dy=\"1.3em\" x=\"373\" y=\"310.4\">100%</tspan></text></g></g></g></g></g><path class=\"xlines-above crisp\" d=\"M0,0\" style=\"fill: none;\"/><path class=\"ylines-above crisp\" d=\"M0,0\" style=\"fill: none;\"/><g class=\"overlines-above\"/><g class=\"xaxislayer-above\"><g class=\"xtick\"><text text-anchor=\"end\" x=\"0\" y=\"396\" transform=\"translate(201.92000000000002,0) rotate(-30,0,390)\" style=\"font-family: 'Open Sans', verdana, arial, sans-serif; font-size: 12px; fill: rgb(42, 63, 95); fill-opacity: 1; white-space: pre; opacity: 1;\">0_accepted</text></g><g class=\"xtick\"><text text-anchor=\"end\" x=\"0\" y=\"396\" transform=\"translate(269.75,0) rotate(-30,0,390)\" style=\"font-family: 'Open Sans', verdana, arial, sans-serif; font-size: 12px; fill: rgb(42, 63, 95); fill-opacity: 1; white-space: pre; opacity: 1;\">1_its_not_happening</text></g><g class=\"xtick\"><text text-anchor=\"end\" x=\"0\" y=\"396\" transform=\"translate(337.58000000000004,0) rotate(-30,0,390)\" style=\"font-family: 'Open Sans', verdana, arial, sans-serif; font-size: 12px; fill: rgb(42, 63, 95); fill-opacity: 1; white-space: pre; opacity: 1;\">2_its_not_us</text></g><g class=\"xtick\"><text text-anchor=\"end\" x=\"0\" y=\"396\" transform=\"translate(405.41999999999996,0) rotate(-30,0,390)\" style=\"font-family: 'Open Sans', verdana, arial, sans-serif; font-size: 12px; fill: rgb(42, 63, 95); fill-opacity: 1; white-space: pre; opacity: 1;\">3_its_not_bad</text></g><g class=\"xtick\"><text text-anchor=\"end\" x=\"0\" y=\"396\" transform=\"translate(473.25,0) rotate(-30,0,390)\" style=\"font-family: 'Open Sans', verdana, arial, sans-serif; font-size: 12px; fill: rgb(42, 63, 95); fill-opacity: 1; white-space: pre; opacity: 1;\">4_solutions_wont_work</text></g><g class=\"xtick\"><text text-anchor=\"end\" x=\"0\" y=\"396\" transform=\"translate(541.0799999999999,0) rotate(-30,0,390)\" style=\"font-family: 'Open Sans', verdana, arial, sans-serif; font-size: 12px; fill: rgb(42, 63, 95); fill-opacity: 1; white-space: pre; opacity: 1;\">5_science_is_unreliable</text></g></g><g class=\"yaxislayer-above\"><g class=\"ytick\"><text text-anchor=\"end\" x=\"167\" y=\"4.199999999999999\" transform=\"translate(0,354.42)\" style=\"font-family: 'Open Sans', verdana, arial, sans-serif; font-size: 12px; fill: rgb(42, 63, 95); fill-opacity: 1; white-space: pre; opacity: 1;\">5_science_is_unreliable</text></g><g class=\"ytick\"><text text-anchor=\"end\" x=\"167\" y=\"4.199999999999999\" transform=\"translate(0,297.25)\" style=\"font-family: 'Open Sans', verdana, arial, sans-serif; font-size: 12px; fill: rgb(42, 63, 95); fill-opacity: 1; white-space: pre; opacity: 1;\">4_solutions_wont_work</text></g><g class=\"ytick\"><text text-anchor=\"end\" x=\"167\" y=\"4.199999999999999\" transform=\"translate(0,240.08)\" style=\"font-family: 'Open Sans', verdana, arial, sans-serif; font-size: 12px; fill: rgb(42, 63, 95); fill-opacity: 1; white-space: pre; opacity: 1;\">3_its_not_bad</text></g><g class=\"ytick\"><text text-anchor=\"end\" x=\"167\" y=\"4.199999999999999\" transform=\"translate(0,182.92)\" style=\"font-family: 'Open Sans', verdana, arial, sans-serif; font-size: 12px; fill: rgb(42, 63, 95); fill-opacity: 1; white-space: pre; opacity: 1;\">2_its_not_us</text></g><g class=\"ytick\"><text text-anchor=\"end\" x=\"167\" y=\"4.199999999999999\" transform=\"translate(0,125.75)\" style=\"font-family: 'Open Sans', verdana, arial, sans-serif; font-size: 12px; fill: rgb(42, 63, 95); fill-opacity: 1; white-space: pre; opacity: 1;\">1_its_not_happening</text></g><g class=\"ytick\"><text text-anchor=\"end\" x=\"167\" y=\"4.199999999999999\" transform=\"translate(0,68.58)\" style=\"font-family: 'Open Sans', verdana, arial, sans-serif; font-size: 12px; fill: rgb(42, 63, 95); fill-opacity: 1; white-space: pre; opacity: 1;\">0_accepted</text></g></g><g class=\"overaxes-above\"/></g></g><g class=\"polarlayer\"/><g class=\"smithlayer\"/><g class=\"ternarylayer\"/><g class=\"geolayer\"/><g class=\"funnelarealayer\"/><g class=\"pielayer\"/><g class=\"iciclelayer\"/><g class=\"treemaplayer\"/><g class=\"sunburstlayer\"/><g class=\"glimages\"/><defs id=\"topdefs-5763aa\"><g class=\"clips\"/></defs><g class=\"layer-above\"><g class=\"imagelayer\"/><g class=\"shapelayer\"/></g><g class=\"infolayer\"><g class=\"g-gtitle\"><text class=\"gtitle\" x=\"371.5\" y=\"15\" text-anchor=\"middle\" dy=\"0.7em\" style=\"opacity: 1; font-family: 'Open Sans', verdana, arial, sans-serif; font-size: 17px; fill: rgb(42, 63, 95); fill-opacity: 1; white-space: pre;\">Confusion Matrix</text></g><g class=\"g-xtitle\"><text class=\"xtitle\" x=\"371.5\" y=\"487.93671875\" text-anchor=\"middle\" style=\"opacity: 1; font-family: 'Open Sans', verdana, arial, sans-serif; font-size: 14px; fill: rgb(42, 63, 95); fill-opacity: 1; white-space: pre;\">Predicted class</text></g><g class=\"g-ytitle\"><text class=\"ytitle\" transform=\"rotate(-90,17.646874999999994,211.5)\" x=\"17.646874999999994\" y=\"211.5\" text-anchor=\"middle\" style=\"opacity: 1; font-family: 'Open Sans', verdana, arial, sans-serif; font-size: 14px; fill: rgb(42, 63, 95); fill-opacity: 1; white-space: pre;\">True class</text></g></g></svg>"
      ]
     },
     "metadata": {},
     "output_type": "display_data"
    },
    {
     "name": "stdout",
     "output_type": "stream",
     "text": [
      "CLAIMS EXTRATION EVALUATION\n",
      "===========================\n",
      "\n",
      "BLEU: 0.73\n",
      "ROUGE: 0.91\n"
     ]
    }
   ],
   "source": [
    "async def predict_cards_label(text: str) -> MediatreePrediction:\n",
    "    system_prompt = \"\"\"Tu es expert en désinformation sur les sujets environnementaux, expert en science climatique et sachant tout sur le GIEC. Je vais te donner un extrait d'une retranscription de 2 minutes d'un flux TV ou Radio. Parmis certains extraits, nous avons inséré un passage climatosceptique qui doit être factchecker. Ta tâche est de trouver ce passage climatosceptique (si il existe). Isole le passage à factchecker, puis fournis le label de la catégorie associé à ce passage. Ne t'intéresse qu'aux passages qui sont clairement climatosceptiques et ignore les thématiques sociales et/ou économiques. \n",
    "\n",
    "<catégories prédéfinies>\n",
    "- 0_accepted: Lorsque l'ensemble de l'extrait est neutre ou reflète le consensus scientifique sur les questions climatiques, sans contenir de désinformation. Cette catégorie est aussi adaptée si l'extrait n'aborde pas le sujet du climat.\n",
    "- 1_its_not_happening: Le réchauffement climatique n'a pas lieu. Cette catégorie soutient que le changement climatique est inexistant ou largement exagéré. Elle suggère que des facteurs naturels (tels que le froid, la préservation de la glace et le refroidissement des océans) prouvent que le réchauffement n'est pas en cours. De plus, elle implique que les prévisions de changements climatiques sévères, y compris la montée du niveau de la mer et les phénomènes météorologiques extrêmes, sont exagérées ou inventées. Certaines affirmations soutiennent que la terminologie climatique a été manipulée (par exemple, en passant de \"réchauffement climatique\" à \"changement climatique\") pour alarmer le public sans raison.\n",
    "- 2_its_not_us: Les humains ne sont pas à l'origine du réchauffement climatique. Cette catégorie avance que les activités humaines, en particulier les émissions de gaz à effet de serre, ne sont pas responsables du réchauffement observé. Elle soutient que les cycles naturels, l'activité solaire ou d'autres facteurs non humains sont à l'origine des changements climatiques. Les affirmations de cette catégorie minimisent souvent le rôle du CO2, ou soulignent que les changements climatiques passés se sont produits sans intervention humaine, suggérant que le réchauffement actuel est également naturel.\n",
    "- 3_its_not_bad: Les impacts climatiques ne sont pas mauvais. Cette catégorie reconnaît qu'un certain réchauffement pourrait se produire, mais affirme qu'il pose peu de risques. Les arguments de cette catégorie suggèrent que la sensibilité du climat au CO2 est faible, ce qui limiterait le réchauffement. Les partisans prétendent que l'environnement, les espèces et la santé humaine seront largement épargnés, car les plantes bénéficient de l'augmentation du CO2, et que de nombreuses espèces, comme les ours polaires, peuvent s'adapter. Dans l'ensemble, elle suggère que les impacts climatiques seront mineurs et gérables.\n",
    "- 4_solutions_wont_work: Les solutions climatiques ne fonctionneront pas. Cette catégorie s'oppose aux politiques climatiques proposées, en affirmant qu'elles seront nuisibles économiquement ou socialement, inefficaces ou irréalistes. Elle soutient que les politiques de réduction des émissions augmenteront les coûts, affaibliront la sécurité nationale et restreindront les libertés individuelles sans bénéfices climatiques significatifs. D'autres affirmations proposent que les solutions \"vertes\" sont peu fiables, que l'énergie propre est non éprouvée, ou que les combustibles fossiles sont abondants et essentiels pour l'avenir. Essentiellement, elle soutient que les politiques climatiques sont trop coûteuses, difficiles ou inefficaces pour être poursuivies.\n",
    "- 5_science_is_unreliable: Les mouvements pour le climat et la science du climat ne sont pas fiables. Cette catégorie attaque la crédibilité de la science climatique et du mouvement pour le climat, affirmant qu'ils sont non fiables, biaisés ou idéologiquement orientés. Elle remet en question le consensus scientifique sur le changement climatique, suggérant que les données, modèles et méthodes sont défectueux. De plus, elle présente le mouvement climatique comme alarmiste, biaisé ou faisant partie d'une conspiration plus large, motivée par des intentions politiques ou religieuses plutôt qu'une véritable préoccupation. Ce cadre cherche à miner la confiance dans la science climatique et dans ceux qui plaident pour l'action.\n",
    "</catégories prédéfinies>\n",
    "\n",
    "<exemples>\n",
    "\n",
    "<exemple_0>\n",
    "<extrait>\n",
    "les scientifiques observent une hausse des températures mondiales, entraînant des changements climatiques visibles ils soulignent la nécessité d'agir pour en limiter les impacts [...]\n",
    "</extrait>\n",
    "<passage climatosceptique>\n",
    "AUCUN\n",
    "</passage climatosceptique>\n",
    "<catégorie>0_accepted</catégorie>\n",
    "</exemple_0>\n",
    "\n",
    "<exemple_1>\n",
    "<extrait>\n",
    "[...]\n",
    "</extrait>\n",
    "<passage climatosceptique>\n",
    "la fréquence des discussions sur la crise climatique semble augmenter mais certains experts proposent que les avertissements sur le climat pourraient être exagérés faisant souvent valoir que les fluctuations climatiques sont tout à fait naturelles et que les vérités scientifiques sont parfois altérées pour servir des intérêts politiques\n",
    "</passage climatosceptique>\n",
    "<catégorie>1_its_not_happening</catégorie>\n",
    "</exemple_1>\n",
    "\n",
    "<exemple_2>\n",
    "<extrait>\n",
    "[...]\n",
    "</extrait>\n",
    "<passage climatosceptique>\n",
    "il est contesté que la contribution humaine aux niveaux de CO2 soit réellement significative certains experts soutiennent que les océans jouent un rôle bien plus important dans l'émission de ce gaz\n",
    "</passage climatosceptique>\n",
    "<catégorie>2_its_not_us</catégorie>\n",
    "</exemple_2>\n",
    "\n",
    "<exemple_3>\n",
    "<extrait>\n",
    "[...]\n",
    "</extrait>\n",
    "<passage climatosceptique>\n",
    "il est important de noter que beaucoup de régions touchées par des événements climatiques extrêmes retrouvent leur équilibre naturel et peuvent même bénéficier de ces changements car plusieurs études montrent que certaines espèces et écosystèmes s'adaptent efficacement aux variations climatiques\n",
    "</passage climatosceptique>\n",
    "<catégorie>3_its_not_bad</catégorie>\n",
    "</exemple_3>\n",
    "\n",
    "<exemple_4>\n",
    "<extrait>\n",
    "[...]\n",
    "</extrait>\n",
    "<passage climatosceptique>\n",
    "de nombreux experts remettent en question l'efficacité des initiatives visant à réduire la pollution, arguant qu'elles ne font qu'ajouter des coûts économiques sans réel impact positif sur l'environnement\n",
    "</passage climatosceptique>\n",
    "<catégorie>4_solutions_wont_work</catégorie>\n",
    "</exemple_4>\n",
    "\n",
    "<exemple_5>\n",
    "<extrait>\n",
    "[...]\n",
    "</extrait>\n",
    "<passage climatosceptique>\n",
    "En réfléchissant à la situation on peut voir un parallèle avec le débat climatique de nombreux sceptiques pensent que le discours autour du climat est devenu une sorte de dogme où la critique est difficilement tolérée\n",
    "</passage climatosceptique>\n",
    "<catégorie>5_science_is_unreliable</catégorie>\n",
    "</exemple_5>\n",
    "\n",
    "</exemples>\n",
    "\"\"\"\n",
    "    response = await acompletion(\n",
    "        messages=[\n",
    "            {\"role\": \"system\", \"content\": system_prompt},\n",
    "            {\"role\": \"user\", \"content\": f\"<extrait>\\n{text.strip()}\\n</extrait>\"},\n",
    "            {\n",
    "                \"role\": \"assistant\",\n",
    "                \"content\": \"<passage climatosceptique>\",\n",
    "                \"prefix\": True,\n",
    "            },\n",
    "        ],\n",
    "        model=\"anthropic.claude-3-haiku-20240307-v1:0\",\n",
    "        max_tokens=1000,\n",
    "        temperature=0,\n",
    "        stop=[\"</catégorie>\"],\n",
    "    )\n",
    "\n",
    "    # Parse the response\n",
    "    response_content: str = response.choices[0].message.content\n",
    "    claim = response_content.split(\"</passage climatosceptique>\")[0].strip()\n",
    "    cards_label_pred = response_content.split(\"<catégorie>\")[1].strip()\n",
    "    return MediatreePrediction(\n",
    "        cards_label_pred=cards_label_pred,\n",
    "        prompt_tokens=response.usage.prompt_tokens,\n",
    "        completion_tokens=response.usage.completion_tokens,\n",
    "        total_tokens=response.usage.total_tokens,\n",
    "        cost=completion_cost(response),\n",
    "        claim_pred=claim if cards_label_pred != \"0_accepted\" else None,\n",
    "    )\n",
    "\n",
    "\n",
    "await report_experiment_results(df, predict_cards_label)"
   ]
  },
  {
   "cell_type": "markdown",
   "metadata": {},
   "source": [
    "## Claude Haiku vs OpenAI gpt-4o-mini\n"
   ]
  },
  {
   "cell_type": "code",
   "execution_count": 11,
   "metadata": {},
   "outputs": [
    {
     "name": "stderr",
     "output_type": "stream",
     "text": [
      "100%|██████████| 100/100 [00:05<00:00, 18.60it/s]"
     ]
    },
    {
     "name": "stdout",
     "output_type": "stream",
     "text": [
      "\n",
      "LLM USAGE\n",
      "=========\n",
      "\n",
      "Median token usage:\n",
      "- Prompt: 2025\n",
      "- Completion: 61\n",
      "- Total: 2082\n",
      "\n",
      "Total cost: $0.020\n",
      "\n",
      "BINARY CLASSIFICATION REPORT\n",
      "============================\n",
      "\n",
      "              precision    recall  f1-score   support\n",
      "\n",
      "       False       1.00      0.90      0.95        48\n",
      "        True       0.91      1.00      0.95        52\n",
      "\n",
      "    accuracy                           0.95       100\n",
      "   macro avg       0.96      0.95      0.95       100\n",
      "weighted avg       0.95      0.95      0.95       100\n",
      "\n"
     ]
    },
    {
     "name": "stderr",
     "output_type": "stream",
     "text": [
      "\n"
     ]
    },
    {
     "data": {
      "image/svg+xml": [
       "<svg class=\"main-svg\" xmlns=\"http://www.w3.org/2000/svg\" xmlns:xlink=\"http://www.w3.org/1999/xlink\" width=\"600\" height=\"500\" style=\"\" viewBox=\"0 0 600 500\"><rect x=\"0\" y=\"0\" width=\"600\" height=\"500\" style=\"fill: rgb(255, 255, 255); fill-opacity: 1;\"/><defs id=\"defs-c43b32\"><g class=\"clips\"><clipPath id=\"clipc43b32xyplot\" class=\"plotclip\"><rect width=\"448\" height=\"363\"/></clipPath><clipPath class=\"axesclip\" id=\"clipc43b32x\"><rect x=\"127\" y=\"0\" width=\"448\" height=\"500\"/></clipPath><clipPath class=\"axesclip\" id=\"clipc43b32y\"><rect x=\"0\" y=\"40\" width=\"600\" height=\"363\"/></clipPath><clipPath class=\"axesclip\" id=\"clipc43b32xy\"><rect x=\"127\" y=\"40\" width=\"448\" height=\"363\"/></clipPath></g><g class=\"gradients\"/><g class=\"patterns\"/></defs><g class=\"bglayer\"><rect class=\"bg\" x=\"127\" y=\"40\" width=\"448\" height=\"363\" style=\"fill: rgb(229, 236, 246); fill-opacity: 1; stroke-width: 0;\"/></g><g class=\"layer-below\"><g class=\"imagelayer\"/><g class=\"shapelayer\"/></g><g class=\"cartesianlayer\"><g class=\"subplot xy\"><g class=\"layer-subplot\"><g class=\"shapelayer\"/><g class=\"imagelayer\"/></g><g class=\"minor-gridlayer\"><g class=\"x\"/><g class=\"y\"/></g><g class=\"gridlayer\"><g class=\"x\"><path class=\"xgrid crisp\" transform=\"translate(239,0)\" d=\"M0,40v363\" style=\"stroke: rgb(255, 255, 255); stroke-opacity: 1; stroke-width: 1px;\"/><path class=\"xgrid crisp\" transform=\"translate(463,0)\" d=\"M0,40v363\" style=\"stroke: rgb(255, 255, 255); stroke-opacity: 1; stroke-width: 1px;\"/></g><g class=\"y\"><path class=\"ygrid crisp\" transform=\"translate(0,312.25)\" d=\"M127,0h448\" style=\"stroke: rgb(255, 255, 255); stroke-opacity: 1; stroke-width: 1px;\"/><path class=\"ygrid crisp\" transform=\"translate(0,130.75)\" d=\"M127,0h448\" style=\"stroke: rgb(255, 255, 255); stroke-opacity: 1; stroke-width: 1px;\"/></g></g><g class=\"zerolinelayer\"/><g class=\"layer-between\"><g class=\"shapelayer\"/><g class=\"imagelayer\"/></g><path class=\"xlines-below\"/><path class=\"ylines-below\"/><g class=\"overlines-below\"/><g class=\"xaxislayer-below\"/><g class=\"yaxislayer-below\"/><g class=\"overaxes-below\"/><g class=\"overplot\"><g class=\"xy\" transform=\"translate(127,40)\" clip-path=\"url(#clipc43b32xyplot)\"><g class=\"heatmaplayer mlayer\"><g class=\"hm\"><image xmlns=\"http://www.w3.org/2000/svg\" preserveAspectRatio=\"none\" height=\"363\" width=\"448\" x=\"0\" y=\"0\" xlink:href=\"data:image/png;base64,iVBORw0KGgoAAAANSUhEUgAAAAIAAAACCAYAAABytg0kAAAAG0lEQVQYV2Pk8J7y/9biFAbG77///xc0zWEAAE5KCGz8S9TqAAAAAElFTkSuQmCC\" style=\"image-rendering: pixelated; opacity: 1;\"/><g class=\"heatmap-label\"><text text-anchor=\"middle\" data-notex=\"1\" x=\"112\" y=\"87.4\" style=\"font-family: 'Open Sans', verdana, arial, sans-serif; font-size: 12px; fill: rgb(255, 255, 255); fill-opacity: 1; white-space: pre;\"><tspan class=\"line\" dy=\"0em\" x=\"112\" y=\"87.4\">43</tspan><tspan class=\"line\" dy=\"1.3em\" x=\"112\" y=\"87.4\">89.58%</tspan></text></g><g class=\"heatmap-label\"><text text-anchor=\"middle\" data-notex=\"1\" x=\"336\" y=\"87.4\" style=\"font-family: 'Open Sans', verdana, arial, sans-serif; font-size: 12px; fill: rgb(68, 68, 68); fill-opacity: 1; white-space: pre;\"><tspan class=\"line\" dy=\"0em\" x=\"336\" y=\"87.4\">5</tspan><tspan class=\"line\" dy=\"1.3em\" x=\"336\" y=\"87.4\">10.42%</tspan></text></g><g class=\"heatmap-label\"><text text-anchor=\"middle\" data-notex=\"1\" x=\"112\" y=\"276.2\" style=\"font-family: 'Open Sans', verdana, arial, sans-serif; font-size: 12px; fill: rgb(68, 68, 68); fill-opacity: 1; white-space: pre;\">0</text></g><g class=\"heatmap-label\"><text text-anchor=\"middle\" data-notex=\"1\" x=\"336\" y=\"268.4\" style=\"font-family: 'Open Sans', verdana, arial, sans-serif; font-size: 12px; fill: rgb(255, 255, 255); fill-opacity: 1; white-space: pre;\"><tspan class=\"line\" dy=\"0em\" x=\"336\" y=\"268.4\">52</tspan><tspan class=\"line\" dy=\"1.3em\" x=\"336\" y=\"268.4\">100%</tspan></text></g></g></g></g></g><path class=\"xlines-above crisp\" d=\"M0,0\" style=\"fill: none;\"/><path class=\"ylines-above crisp\" d=\"M0,0\" style=\"fill: none;\"/><g class=\"overlines-above\"/><g class=\"xaxislayer-above\"><g class=\"xtick\"><text text-anchor=\"end\" x=\"0\" y=\"416\" transform=\"translate(239,0) rotate(-30,0,410)\" style=\"font-family: 'Open Sans', verdana, arial, sans-serif; font-size: 12px; fill: rgb(42, 63, 95); fill-opacity: 1; white-space: pre; opacity: 1;\">0_accepted</text></g><g class=\"xtick\"><text text-anchor=\"end\" x=\"0\" y=\"416\" transform=\"translate(463,0) rotate(-30,0,410)\" style=\"font-family: 'Open Sans', verdana, arial, sans-serif; font-size: 12px; fill: rgb(42, 63, 95); fill-opacity: 1; white-space: pre; opacity: 1;\">[1-5]_contrarian</text></g></g><g class=\"yaxislayer-above\"><g class=\"ytick\"><text text-anchor=\"end\" x=\"126\" y=\"4.199999999999999\" transform=\"translate(0,312.25)\" style=\"font-family: 'Open Sans', verdana, arial, sans-serif; font-size: 12px; fill: rgb(42, 63, 95); fill-opacity: 1; white-space: pre; opacity: 1;\">[1-5]_contrarian</text></g><g class=\"ytick\"><text text-anchor=\"end\" x=\"126\" y=\"4.199999999999999\" transform=\"translate(0,130.75)\" style=\"font-family: 'Open Sans', verdana, arial, sans-serif; font-size: 12px; fill: rgb(42, 63, 95); fill-opacity: 1; white-space: pre; opacity: 1;\">0_accepted</text></g></g><g class=\"overaxes-above\"/></g></g><g class=\"polarlayer\"/><g class=\"smithlayer\"/><g class=\"ternarylayer\"/><g class=\"geolayer\"/><g class=\"funnelarealayer\"/><g class=\"pielayer\"/><g class=\"iciclelayer\"/><g class=\"treemaplayer\"/><g class=\"sunburstlayer\"/><g class=\"glimages\"/><defs id=\"topdefs-c43b32\"><g class=\"clips\"/></defs><g class=\"layer-above\"><g class=\"imagelayer\"/><g class=\"shapelayer\"/></g><g class=\"infolayer\"><g class=\"g-gtitle\"><text class=\"gtitle\" x=\"351\" y=\"15\" text-anchor=\"middle\" dy=\"0.7em\" style=\"opacity: 1; font-family: 'Open Sans', verdana, arial, sans-serif; font-size: 17px; fill: rgb(42, 63, 95); fill-opacity: 1; white-space: pre;\">Confusion Matrix</text></g><g class=\"g-xtitle\"><text class=\"xtitle\" x=\"351\" y=\"487.44453125\" text-anchor=\"middle\" style=\"opacity: 1; font-family: 'Open Sans', verdana, arial, sans-serif; font-size: 14px; fill: rgb(42, 63, 95); fill-opacity: 1; white-space: pre;\">Predicted class</text></g><g class=\"g-ytitle\"><text class=\"ytitle\" transform=\"rotate(-90,17.631249999999994,221.5)\" x=\"17.631249999999994\" y=\"221.5\" text-anchor=\"middle\" style=\"opacity: 1; font-family: 'Open Sans', verdana, arial, sans-serif; font-size: 14px; fill: rgb(42, 63, 95); fill-opacity: 1; white-space: pre;\">True class</text></g></g></svg>"
      ]
     },
     "metadata": {},
     "output_type": "display_data"
    },
    {
     "name": "stdout",
     "output_type": "stream",
     "text": [
      "CARDS CLASSIFICATION REPORT\n",
      "===========================\n",
      "\n",
      "                         precision    recall  f1-score   support\n",
      "\n",
      "             0_accepted       1.00      0.90      0.95        48\n",
      "    1_its_not_happening       0.50      0.36      0.42        11\n",
      "           2_its_not_us       0.64      0.78      0.70         9\n",
      "          3_its_not_bad       0.73      0.89      0.80         9\n",
      "  4_solutions_wont_work       0.88      0.88      0.88        17\n",
      "5_science_is_unreliable       0.60      1.00      0.75         6\n",
      "\n",
      "               accuracy                           0.83       100\n",
      "              macro avg       0.72      0.80      0.75       100\n",
      "           weighted avg       0.84      0.83      0.83       100\n",
      "\n"
     ]
    },
    {
     "data": {
      "image/svg+xml": [
       "<svg class=\"main-svg\" xmlns=\"http://www.w3.org/2000/svg\" xmlns:xlink=\"http://www.w3.org/1999/xlink\" width=\"600\" height=\"500\" style=\"\" viewBox=\"0 0 600 500\"><rect x=\"0\" y=\"0\" width=\"600\" height=\"500\" style=\"fill: rgb(255, 255, 255); fill-opacity: 1;\"/><defs id=\"defs-3449bf\"><g class=\"clips\"><clipPath id=\"clip3449bfxyplot\" class=\"plotclip\"><rect width=\"407\" height=\"343\"/></clipPath><clipPath class=\"axesclip\" id=\"clip3449bfx\"><rect x=\"168\" y=\"0\" width=\"407\" height=\"500\"/></clipPath><clipPath class=\"axesclip\" id=\"clip3449bfy\"><rect x=\"0\" y=\"40\" width=\"600\" height=\"343\"/></clipPath><clipPath class=\"axesclip\" id=\"clip3449bfxy\"><rect x=\"168\" y=\"40\" width=\"407\" height=\"343\"/></clipPath></g><g class=\"gradients\"/><g class=\"patterns\"/></defs><g class=\"bglayer\"><rect class=\"bg\" x=\"168\" y=\"40\" width=\"407\" height=\"343\" style=\"fill: rgb(229, 236, 246); fill-opacity: 1; stroke-width: 0;\"/></g><g class=\"layer-below\"><g class=\"imagelayer\"/><g class=\"shapelayer\"/></g><g class=\"cartesianlayer\"><g class=\"subplot xy\"><g class=\"layer-subplot\"><g class=\"shapelayer\"/><g class=\"imagelayer\"/></g><g class=\"minor-gridlayer\"><g class=\"x\"/><g class=\"y\"/></g><g class=\"gridlayer\"><g class=\"x\"><path class=\"xgrid crisp\" transform=\"translate(201.92000000000002,0)\" d=\"M0,40v343\" style=\"stroke: rgb(255, 255, 255); stroke-opacity: 1; stroke-width: 1px;\"/><path class=\"xgrid crisp\" transform=\"translate(269.75,0)\" d=\"M0,40v343\" style=\"stroke: rgb(255, 255, 255); stroke-opacity: 1; stroke-width: 1px;\"/><path class=\"xgrid crisp\" transform=\"translate(337.58000000000004,0)\" d=\"M0,40v343\" style=\"stroke: rgb(255, 255, 255); stroke-opacity: 1; stroke-width: 1px;\"/><path class=\"xgrid crisp\" transform=\"translate(405.41999999999996,0)\" d=\"M0,40v343\" style=\"stroke: rgb(255, 255, 255); stroke-opacity: 1; stroke-width: 1px;\"/><path class=\"xgrid crisp\" transform=\"translate(473.25,0)\" d=\"M0,40v343\" style=\"stroke: rgb(255, 255, 255); stroke-opacity: 1; stroke-width: 1px;\"/><path class=\"xgrid crisp\" transform=\"translate(541.0799999999999,0)\" d=\"M0,40v343\" style=\"stroke: rgb(255, 255, 255); stroke-opacity: 1; stroke-width: 1px;\"/></g><g class=\"y\"><path class=\"ygrid crisp\" transform=\"translate(0,354.42)\" d=\"M168,0h407\" style=\"stroke: rgb(255, 255, 255); stroke-opacity: 1; stroke-width: 1px;\"/><path class=\"ygrid crisp\" transform=\"translate(0,297.25)\" d=\"M168,0h407\" style=\"stroke: rgb(255, 255, 255); stroke-opacity: 1; stroke-width: 1px;\"/><path class=\"ygrid crisp\" transform=\"translate(0,240.08)\" d=\"M168,0h407\" style=\"stroke: rgb(255, 255, 255); stroke-opacity: 1; stroke-width: 1px;\"/><path class=\"ygrid crisp\" transform=\"translate(0,182.92)\" d=\"M168,0h407\" style=\"stroke: rgb(255, 255, 255); stroke-opacity: 1; stroke-width: 1px;\"/><path class=\"ygrid crisp\" transform=\"translate(0,125.75)\" d=\"M168,0h407\" style=\"stroke: rgb(255, 255, 255); stroke-opacity: 1; stroke-width: 1px;\"/><path class=\"ygrid crisp\" transform=\"translate(0,68.58)\" d=\"M168,0h407\" style=\"stroke: rgb(255, 255, 255); stroke-opacity: 1; stroke-width: 1px;\"/></g></g><g class=\"zerolinelayer\"/><g class=\"layer-between\"><g class=\"shapelayer\"/><g class=\"imagelayer\"/></g><path class=\"xlines-below\"/><path class=\"ylines-below\"/><g class=\"overlines-below\"/><g class=\"xaxislayer-below\"/><g class=\"yaxislayer-below\"/><g class=\"overaxes-below\"/><g class=\"overplot\"><g class=\"xy\" transform=\"translate(168,40)\" clip-path=\"url(#clip3449bfxyplot)\"><g class=\"heatmaplayer mlayer\"><g class=\"hm\"><image xmlns=\"http://www.w3.org/2000/svg\" preserveAspectRatio=\"none\" height=\"343\" width=\"407\" x=\"0\" y=\"0\" xlink:href=\"data:image/png;base64,iVBORw0KGgoAAAANSUhEUgAAAAYAAAAGCAYAAADgzO9IAAAAcUlEQVQYV2Pk8J7y//XaLAYWZkaGP3//M/z594+BhYmJgfH77///V198zAACofqyYPrE3bcQiStPPjEEdO9juDMxACwBAmCJV59+MojxsTMIBs1geL8uAyEBU/Xi4w8GzeRFDO/XpEF0wPVDGYKmOQwAvUM14z/jo7oAAAAASUVORK5CYII=\" style=\"image-rendering: pixelated; opacity: 1;\"/><g class=\"heatmap-label\"><text text-anchor=\"middle\" data-notex=\"1\" x=\"34\" y=\"25.4\" style=\"font-family: 'Open Sans', verdana, arial, sans-serif; font-size: 12px; fill: rgb(255, 255, 255); fill-opacity: 1; white-space: pre;\"><tspan class=\"line\" dy=\"0em\" x=\"34\" y=\"25.4\">43</tspan><tspan class=\"line\" dy=\"1.3em\" x=\"34\" y=\"25.4\">89.58%</tspan></text></g><g class=\"heatmap-label\"><text text-anchor=\"middle\" data-notex=\"1\" x=\"102\" y=\"25.4\" style=\"font-family: 'Open Sans', verdana, arial, sans-serif; font-size: 12px; fill: rgb(68, 68, 68); fill-opacity: 1; white-space: pre;\"><tspan class=\"line\" dy=\"0em\" x=\"102\" y=\"25.4\">1</tspan><tspan class=\"line\" dy=\"1.3em\" x=\"102\" y=\"25.4\">2.08%</tspan></text></g><g class=\"heatmap-label\"><text text-anchor=\"middle\" data-notex=\"1\" x=\"170\" y=\"33.2\" style=\"font-family: 'Open Sans', verdana, arial, sans-serif; font-size: 12px; fill: rgb(68, 68, 68); fill-opacity: 1; white-space: pre;\">0</text></g><g class=\"heatmap-label\"><text text-anchor=\"middle\" data-notex=\"1\" x=\"237\" y=\"25.4\" style=\"font-family: 'Open Sans', verdana, arial, sans-serif; font-size: 12px; fill: rgb(68, 68, 68); fill-opacity: 1; white-space: pre;\"><tspan class=\"line\" dy=\"0em\" x=\"237\" y=\"25.4\">1</tspan><tspan class=\"line\" dy=\"1.3em\" x=\"237\" y=\"25.4\">2.08%</tspan></text></g><g class=\"heatmap-label\"><text text-anchor=\"middle\" data-notex=\"1\" x=\"305\" y=\"25.4\" style=\"font-family: 'Open Sans', verdana, arial, sans-serif; font-size: 12px; fill: rgb(68, 68, 68); fill-opacity: 1; white-space: pre;\"><tspan class=\"line\" dy=\"0em\" x=\"305\" y=\"25.4\">2</tspan><tspan class=\"line\" dy=\"1.3em\" x=\"305\" y=\"25.4\">4.17%</tspan></text></g><g class=\"heatmap-label\"><text text-anchor=\"middle\" data-notex=\"1\" x=\"373\" y=\"25.4\" style=\"font-family: 'Open Sans', verdana, arial, sans-serif; font-size: 12px; fill: rgb(68, 68, 68); fill-opacity: 1; white-space: pre;\"><tspan class=\"line\" dy=\"0em\" x=\"373\" y=\"25.4\">1</tspan><tspan class=\"line\" dy=\"1.3em\" x=\"373\" y=\"25.4\">2.08%</tspan></text></g><g class=\"heatmap-label\"><text text-anchor=\"middle\" data-notex=\"1\" x=\"34\" y=\"90.2\" style=\"font-family: 'Open Sans', verdana, arial, sans-serif; font-size: 12px; fill: rgb(68, 68, 68); fill-opacity: 1; white-space: pre;\">0</text></g><g class=\"heatmap-label\"><text text-anchor=\"middle\" data-notex=\"1\" x=\"102\" y=\"82.4\" style=\"font-family: 'Open Sans', verdana, arial, sans-serif; font-size: 12px; fill: rgb(68, 68, 68); fill-opacity: 1; white-space: pre;\"><tspan class=\"line\" dy=\"0em\" x=\"102\" y=\"82.4\">4</tspan><tspan class=\"line\" dy=\"1.3em\" x=\"102\" y=\"82.4\">36.36%</tspan></text></g><g class=\"heatmap-label\"><text text-anchor=\"middle\" data-notex=\"1\" x=\"170\" y=\"82.4\" style=\"font-family: 'Open Sans', verdana, arial, sans-serif; font-size: 12px; fill: rgb(68, 68, 68); fill-opacity: 1; white-space: pre;\"><tspan class=\"line\" dy=\"0em\" x=\"170\" y=\"82.4\">4</tspan><tspan class=\"line\" dy=\"1.3em\" x=\"170\" y=\"82.4\">36.36%</tspan></text></g><g class=\"heatmap-label\"><text text-anchor=\"middle\" data-notex=\"1\" x=\"237\" y=\"90.2\" style=\"font-family: 'Open Sans', verdana, arial, sans-serif; font-size: 12px; fill: rgb(68, 68, 68); fill-opacity: 1; white-space: pre;\">0</text></g><g class=\"heatmap-label\"><text text-anchor=\"middle\" data-notex=\"1\" x=\"305\" y=\"90.2\" style=\"font-family: 'Open Sans', verdana, arial, sans-serif; font-size: 12px; fill: rgb(68, 68, 68); fill-opacity: 1; white-space: pre;\">0</text></g><g class=\"heatmap-label\"><text text-anchor=\"middle\" data-notex=\"1\" x=\"373\" y=\"82.4\" style=\"font-family: 'Open Sans', verdana, arial, sans-serif; font-size: 12px; fill: rgb(68, 68, 68); fill-opacity: 1; white-space: pre;\"><tspan class=\"line\" dy=\"0em\" x=\"373\" y=\"82.4\">3</tspan><tspan class=\"line\" dy=\"1.3em\" x=\"373\" y=\"82.4\">27.27%</tspan></text></g><g class=\"heatmap-label\"><text text-anchor=\"middle\" data-notex=\"1\" x=\"34\" y=\"147.2\" style=\"font-family: 'Open Sans', verdana, arial, sans-serif; font-size: 12px; fill: rgb(68, 68, 68); fill-opacity: 1; white-space: pre;\">0</text></g><g class=\"heatmap-label\"><text text-anchor=\"middle\" data-notex=\"1\" x=\"102\" y=\"139.4\" style=\"font-family: 'Open Sans', verdana, arial, sans-serif; font-size: 12px; fill: rgb(68, 68, 68); fill-opacity: 1; white-space: pre;\"><tspan class=\"line\" dy=\"0em\" x=\"102\" y=\"139.4\">2</tspan><tspan class=\"line\" dy=\"1.3em\" x=\"102\" y=\"139.4\">22.22%</tspan></text></g><g class=\"heatmap-label\"><text text-anchor=\"middle\" data-notex=\"1\" x=\"170\" y=\"139.4\" style=\"font-family: 'Open Sans', verdana, arial, sans-serif; font-size: 12px; fill: rgb(255, 255, 255); fill-opacity: 1; white-space: pre;\"><tspan class=\"line\" dy=\"0em\" x=\"170\" y=\"139.4\">7</tspan><tspan class=\"line\" dy=\"1.3em\" x=\"170\" y=\"139.4\">77.78%</tspan></text></g><g class=\"heatmap-label\"><text text-anchor=\"middle\" data-notex=\"1\" x=\"237\" y=\"147.2\" style=\"font-family: 'Open Sans', verdana, arial, sans-serif; font-size: 12px; fill: rgb(68, 68, 68); fill-opacity: 1; white-space: pre;\">0</text></g><g class=\"heatmap-label\"><text text-anchor=\"middle\" data-notex=\"1\" x=\"305\" y=\"147.2\" style=\"font-family: 'Open Sans', verdana, arial, sans-serif; font-size: 12px; fill: rgb(68, 68, 68); fill-opacity: 1; white-space: pre;\">0</text></g><g class=\"heatmap-label\"><text text-anchor=\"middle\" data-notex=\"1\" x=\"373\" y=\"147.2\" style=\"font-family: 'Open Sans', verdana, arial, sans-serif; font-size: 12px; fill: rgb(68, 68, 68); fill-opacity: 1; white-space: pre;\">0</text></g><g class=\"heatmap-label\"><text text-anchor=\"middle\" data-notex=\"1\" x=\"34\" y=\"204.2\" style=\"font-family: 'Open Sans', verdana, arial, sans-serif; font-size: 12px; fill: rgb(68, 68, 68); fill-opacity: 1; white-space: pre;\">0</text></g><g class=\"heatmap-label\"><text text-anchor=\"middle\" data-notex=\"1\" x=\"102\" y=\"196.4\" style=\"font-family: 'Open Sans', verdana, arial, sans-serif; font-size: 12px; fill: rgb(68, 68, 68); fill-opacity: 1; white-space: pre;\"><tspan class=\"line\" dy=\"0em\" x=\"102\" y=\"196.4\">1</tspan><tspan class=\"line\" dy=\"1.3em\" x=\"102\" y=\"196.4\">11.11%</tspan></text></g><g class=\"heatmap-label\"><text text-anchor=\"middle\" data-notex=\"1\" x=\"170\" y=\"204.2\" style=\"font-family: 'Open Sans', verdana, arial, sans-serif; font-size: 12px; fill: rgb(68, 68, 68); fill-opacity: 1; white-space: pre;\">0</text></g><g class=\"heatmap-label\"><text text-anchor=\"middle\" data-notex=\"1\" x=\"237\" y=\"196.4\" style=\"font-family: 'Open Sans', verdana, arial, sans-serif; font-size: 12px; fill: rgb(255, 255, 255); fill-opacity: 1; white-space: pre;\"><tspan class=\"line\" dy=\"0em\" x=\"237\" y=\"196.4\">8</tspan><tspan class=\"line\" dy=\"1.3em\" x=\"237\" y=\"196.4\">88.89%</tspan></text></g><g class=\"heatmap-label\"><text text-anchor=\"middle\" data-notex=\"1\" x=\"305\" y=\"204.2\" style=\"font-family: 'Open Sans', verdana, arial, sans-serif; font-size: 12px; fill: rgb(68, 68, 68); fill-opacity: 1; white-space: pre;\">0</text></g><g class=\"heatmap-label\"><text text-anchor=\"middle\" data-notex=\"1\" x=\"373\" y=\"204.2\" style=\"font-family: 'Open Sans', verdana, arial, sans-serif; font-size: 12px; fill: rgb(68, 68, 68); fill-opacity: 1; white-space: pre;\">0</text></g><g class=\"heatmap-label\"><text text-anchor=\"middle\" data-notex=\"1\" x=\"34\" y=\"261.2\" style=\"font-family: 'Open Sans', verdana, arial, sans-serif; font-size: 12px; fill: rgb(68, 68, 68); fill-opacity: 1; white-space: pre;\">0</text></g><g class=\"heatmap-label\"><text text-anchor=\"middle\" data-notex=\"1\" x=\"102\" y=\"261.2\" style=\"font-family: 'Open Sans', verdana, arial, sans-serif; font-size: 12px; fill: rgb(68, 68, 68); fill-opacity: 1; white-space: pre;\">0</text></g><g class=\"heatmap-label\"><text text-anchor=\"middle\" data-notex=\"1\" x=\"170\" y=\"261.2\" style=\"font-family: 'Open Sans', verdana, arial, sans-serif; font-size: 12px; fill: rgb(68, 68, 68); fill-opacity: 1; white-space: pre;\">0</text></g><g class=\"heatmap-label\"><text text-anchor=\"middle\" data-notex=\"1\" x=\"237\" y=\"253.4\" style=\"font-family: 'Open Sans', verdana, arial, sans-serif; font-size: 12px; fill: rgb(68, 68, 68); fill-opacity: 1; white-space: pre;\"><tspan class=\"line\" dy=\"0em\" x=\"237\" y=\"253.4\">2</tspan><tspan class=\"line\" dy=\"1.3em\" x=\"237\" y=\"253.4\">11.76%</tspan></text></g><g class=\"heatmap-label\"><text text-anchor=\"middle\" data-notex=\"1\" x=\"305\" y=\"253.4\" style=\"font-family: 'Open Sans', verdana, arial, sans-serif; font-size: 12px; fill: rgb(255, 255, 255); fill-opacity: 1; white-space: pre;\"><tspan class=\"line\" dy=\"0em\" x=\"305\" y=\"253.4\">15</tspan><tspan class=\"line\" dy=\"1.3em\" x=\"305\" y=\"253.4\">88.24%</tspan></text></g><g class=\"heatmap-label\"><text text-anchor=\"middle\" data-notex=\"1\" x=\"373\" y=\"261.2\" style=\"font-family: 'Open Sans', verdana, arial, sans-serif; font-size: 12px; fill: rgb(68, 68, 68); fill-opacity: 1; white-space: pre;\">0</text></g><g class=\"heatmap-label\"><text text-anchor=\"middle\" data-notex=\"1\" x=\"34\" y=\"318.2\" style=\"font-family: 'Open Sans', verdana, arial, sans-serif; font-size: 12px; fill: rgb(68, 68, 68); fill-opacity: 1; white-space: pre;\">0</text></g><g class=\"heatmap-label\"><text text-anchor=\"middle\" data-notex=\"1\" x=\"102\" y=\"318.2\" style=\"font-family: 'Open Sans', verdana, arial, sans-serif; font-size: 12px; fill: rgb(68, 68, 68); fill-opacity: 1; white-space: pre;\">0</text></g><g class=\"heatmap-label\"><text text-anchor=\"middle\" data-notex=\"1\" x=\"170\" y=\"318.2\" style=\"font-family: 'Open Sans', verdana, arial, sans-serif; font-size: 12px; fill: rgb(68, 68, 68); fill-opacity: 1; white-space: pre;\">0</text></g><g class=\"heatmap-label\"><text text-anchor=\"middle\" data-notex=\"1\" x=\"237\" y=\"318.2\" style=\"font-family: 'Open Sans', verdana, arial, sans-serif; font-size: 12px; fill: rgb(68, 68, 68); fill-opacity: 1; white-space: pre;\">0</text></g><g class=\"heatmap-label\"><text text-anchor=\"middle\" data-notex=\"1\" x=\"305\" y=\"318.2\" style=\"font-family: 'Open Sans', verdana, arial, sans-serif; font-size: 12px; fill: rgb(68, 68, 68); fill-opacity: 1; white-space: pre;\">0</text></g><g class=\"heatmap-label\"><text text-anchor=\"middle\" data-notex=\"1\" x=\"373\" y=\"310.4\" style=\"font-family: 'Open Sans', verdana, arial, sans-serif; font-size: 12px; fill: rgb(255, 255, 255); fill-opacity: 1; white-space: pre;\"><tspan class=\"line\" dy=\"0em\" x=\"373\" y=\"310.4\">6</tspan><tspan class=\"line\" dy=\"1.3em\" x=\"373\" y=\"310.4\">100%</tspan></text></g></g></g></g></g><path class=\"xlines-above crisp\" d=\"M0,0\" style=\"fill: none;\"/><path class=\"ylines-above crisp\" d=\"M0,0\" style=\"fill: none;\"/><g class=\"overlines-above\"/><g class=\"xaxislayer-above\"><g class=\"xtick\"><text text-anchor=\"end\" x=\"0\" y=\"396\" transform=\"translate(201.92000000000002,0) rotate(-30,0,390)\" style=\"font-family: 'Open Sans', verdana, arial, sans-serif; font-size: 12px; fill: rgb(42, 63, 95); fill-opacity: 1; white-space: pre; opacity: 1;\">0_accepted</text></g><g class=\"xtick\"><text text-anchor=\"end\" x=\"0\" y=\"396\" transform=\"translate(269.75,0) rotate(-30,0,390)\" style=\"font-family: 'Open Sans', verdana, arial, sans-serif; font-size: 12px; fill: rgb(42, 63, 95); fill-opacity: 1; white-space: pre; opacity: 1;\">1_its_not_happening</text></g><g class=\"xtick\"><text text-anchor=\"end\" x=\"0\" y=\"396\" transform=\"translate(337.58000000000004,0) rotate(-30,0,390)\" style=\"font-family: 'Open Sans', verdana, arial, sans-serif; font-size: 12px; fill: rgb(42, 63, 95); fill-opacity: 1; white-space: pre; opacity: 1;\">2_its_not_us</text></g><g class=\"xtick\"><text text-anchor=\"end\" x=\"0\" y=\"396\" transform=\"translate(405.41999999999996,0) rotate(-30,0,390)\" style=\"font-family: 'Open Sans', verdana, arial, sans-serif; font-size: 12px; fill: rgb(42, 63, 95); fill-opacity: 1; white-space: pre; opacity: 1;\">3_its_not_bad</text></g><g class=\"xtick\"><text text-anchor=\"end\" x=\"0\" y=\"396\" transform=\"translate(473.25,0) rotate(-30,0,390)\" style=\"font-family: 'Open Sans', verdana, arial, sans-serif; font-size: 12px; fill: rgb(42, 63, 95); fill-opacity: 1; white-space: pre; opacity: 1;\">4_solutions_wont_work</text></g><g class=\"xtick\"><text text-anchor=\"end\" x=\"0\" y=\"396\" transform=\"translate(541.0799999999999,0) rotate(-30,0,390)\" style=\"font-family: 'Open Sans', verdana, arial, sans-serif; font-size: 12px; fill: rgb(42, 63, 95); fill-opacity: 1; white-space: pre; opacity: 1;\">5_science_is_unreliable</text></g></g><g class=\"yaxislayer-above\"><g class=\"ytick\"><text text-anchor=\"end\" x=\"167\" y=\"4.199999999999999\" transform=\"translate(0,354.42)\" style=\"font-family: 'Open Sans', verdana, arial, sans-serif; font-size: 12px; fill: rgb(42, 63, 95); fill-opacity: 1; white-space: pre; opacity: 1;\">5_science_is_unreliable</text></g><g class=\"ytick\"><text text-anchor=\"end\" x=\"167\" y=\"4.199999999999999\" transform=\"translate(0,297.25)\" style=\"font-family: 'Open Sans', verdana, arial, sans-serif; font-size: 12px; fill: rgb(42, 63, 95); fill-opacity: 1; white-space: pre; opacity: 1;\">4_solutions_wont_work</text></g><g class=\"ytick\"><text text-anchor=\"end\" x=\"167\" y=\"4.199999999999999\" transform=\"translate(0,240.08)\" style=\"font-family: 'Open Sans', verdana, arial, sans-serif; font-size: 12px; fill: rgb(42, 63, 95); fill-opacity: 1; white-space: pre; opacity: 1;\">3_its_not_bad</text></g><g class=\"ytick\"><text text-anchor=\"end\" x=\"167\" y=\"4.199999999999999\" transform=\"translate(0,182.92)\" style=\"font-family: 'Open Sans', verdana, arial, sans-serif; font-size: 12px; fill: rgb(42, 63, 95); fill-opacity: 1; white-space: pre; opacity: 1;\">2_its_not_us</text></g><g class=\"ytick\"><text text-anchor=\"end\" x=\"167\" y=\"4.199999999999999\" transform=\"translate(0,125.75)\" style=\"font-family: 'Open Sans', verdana, arial, sans-serif; font-size: 12px; fill: rgb(42, 63, 95); fill-opacity: 1; white-space: pre; opacity: 1;\">1_its_not_happening</text></g><g class=\"ytick\"><text text-anchor=\"end\" x=\"167\" y=\"4.199999999999999\" transform=\"translate(0,68.58)\" style=\"font-family: 'Open Sans', verdana, arial, sans-serif; font-size: 12px; fill: rgb(42, 63, 95); fill-opacity: 1; white-space: pre; opacity: 1;\">0_accepted</text></g></g><g class=\"overaxes-above\"/></g></g><g class=\"polarlayer\"/><g class=\"smithlayer\"/><g class=\"ternarylayer\"/><g class=\"geolayer\"/><g class=\"funnelarealayer\"/><g class=\"pielayer\"/><g class=\"iciclelayer\"/><g class=\"treemaplayer\"/><g class=\"sunburstlayer\"/><g class=\"glimages\"/><defs id=\"topdefs-3449bf\"><g class=\"clips\"/></defs><g class=\"layer-above\"><g class=\"imagelayer\"/><g class=\"shapelayer\"/></g><g class=\"infolayer\"><g class=\"g-gtitle\"><text class=\"gtitle\" x=\"371.5\" y=\"15\" text-anchor=\"middle\" dy=\"0.7em\" style=\"opacity: 1; font-family: 'Open Sans', verdana, arial, sans-serif; font-size: 17px; fill: rgb(42, 63, 95); fill-opacity: 1; white-space: pre;\">Confusion Matrix</text></g><g class=\"g-xtitle\"><text class=\"xtitle\" x=\"371.5\" y=\"487.93671875\" text-anchor=\"middle\" style=\"opacity: 1; font-family: 'Open Sans', verdana, arial, sans-serif; font-size: 14px; fill: rgb(42, 63, 95); fill-opacity: 1; white-space: pre;\">Predicted class</text></g><g class=\"g-ytitle\"><text class=\"ytitle\" transform=\"rotate(-90,17.646874999999994,211.5)\" x=\"17.646874999999994\" y=\"211.5\" text-anchor=\"middle\" style=\"opacity: 1; font-family: 'Open Sans', verdana, arial, sans-serif; font-size: 14px; fill: rgb(42, 63, 95); fill-opacity: 1; white-space: pre;\">True class</text></g></g></svg>"
      ]
     },
     "metadata": {},
     "output_type": "display_data"
    },
    {
     "name": "stdout",
     "output_type": "stream",
     "text": [
      "CLAIMS EXTRATION EVALUATION\n",
      "===========================\n",
      "\n",
      "BLEU: 0.74\n",
      "ROUGE: 0.96\n"
     ]
    }
   ],
   "source": [
    "async def openai_predict_cards_label(text: str) -> MediatreePrediction:\n",
    "    system_prompt = \"\"\"Tu es expert en désinformation sur les sujets environnementaux, expert en science climatique et sachant tout sur le GIEC. Je vais te donner un extrait d'une retranscription de 2 minutes d'un flux TV ou Radio. Parmis certains extraits, nous avons inséré un passage climatosceptique qui doit être factchecker. Ta tâche est de trouver ce passage climatosceptique (si il existe). Isole le passage à factchecker, puis fournis le label de la catégorie associé à ce passage. Ne t'intéresse qu'aux passages qui sont clairement climatosceptiques et ignore les thématiques sociales et/ou économiques. \n",
    "\n",
    "<catégories prédéfinies>\n",
    "- 0_accepted: Lorsque l'ensemble de l'extrait est neutre ou reflète le consensus scientifique sur les questions climatiques, sans contenir de désinformation. Cette catégorie est aussi adaptée si l'extrait n'aborde pas le sujet du climat.\n",
    "- 1_its_not_happening: Le réchauffement climatique n'a pas lieu. Cette catégorie soutient que le changement climatique est inexistant ou largement exagéré. Elle suggère que des facteurs naturels (tels que le froid, la préservation de la glace et le refroidissement des océans) prouvent que le réchauffement n'est pas en cours. De plus, elle implique que les prévisions de changements climatiques sévères, y compris la montée du niveau de la mer et les phénomènes météorologiques extrêmes, sont exagérées ou inventées. Certaines affirmations soutiennent que la terminologie climatique a été manipulée (par exemple, en passant de \"réchauffement climatique\" à \"changement climatique\") pour alarmer le public sans raison.\n",
    "- 2_its_not_us: Les humains ne sont pas à l'origine du réchauffement climatique. Cette catégorie avance que les activités humaines, en particulier les émissions de gaz à effet de serre, ne sont pas responsables du réchauffement observé. Elle soutient que les cycles naturels, l'activité solaire ou d'autres facteurs non humains sont à l'origine des changements climatiques. Les affirmations de cette catégorie minimisent souvent le rôle du CO2, ou soulignent que les changements climatiques passés se sont produits sans intervention humaine, suggérant que le réchauffement actuel est également naturel.\n",
    "- 3_its_not_bad: Les impacts climatiques ne sont pas mauvais. Cette catégorie reconnaît qu'un certain réchauffement pourrait se produire, mais affirme qu'il pose peu de risques. Les arguments de cette catégorie suggèrent que la sensibilité du climat au CO2 est faible, ce qui limiterait le réchauffement. Les partisans prétendent que l'environnement, les espèces et la santé humaine seront largement épargnés, car les plantes bénéficient de l'augmentation du CO2, et que de nombreuses espèces, comme les ours polaires, peuvent s'adapter. Dans l'ensemble, elle suggère que les impacts climatiques seront mineurs et gérables.\n",
    "- 4_solutions_wont_work: Les solutions climatiques ne fonctionneront pas. Cette catégorie s'oppose aux politiques climatiques proposées, en affirmant qu'elles seront nuisibles économiquement ou socialement, inefficaces ou irréalistes. Elle soutient que les politiques de réduction des émissions augmenteront les coûts, affaibliront la sécurité nationale et restreindront les libertés individuelles sans bénéfices climatiques significatifs. D'autres affirmations proposent que les solutions \"vertes\" sont peu fiables, que l'énergie propre est non éprouvée, ou que les combustibles fossiles sont abondants et essentiels pour l'avenir. Essentiellement, elle soutient que les politiques climatiques sont trop coûteuses, difficiles ou inefficaces pour être poursuivies.\n",
    "- 5_science_is_unreliable: Les mouvements pour le climat et la science du climat ne sont pas fiables. Cette catégorie attaque la crédibilité de la science climatique et du mouvement pour le climat, affirmant qu'ils sont non fiables, biaisés ou idéologiquement orientés. Elle remet en question le consensus scientifique sur le changement climatique, suggérant que les données, modèles et méthodes sont défectueux. De plus, elle présente le mouvement climatique comme alarmiste, biaisé ou faisant partie d'une conspiration plus large, motivée par des intentions politiques ou religieuses plutôt qu'une véritable préoccupation. Ce cadre cherche à miner la confiance dans la science climatique et dans ceux qui plaident pour l'action.\n",
    "</catégories prédéfinies>\n",
    "\n",
    "<exemples>\n",
    "\n",
    "<exemple_0>\n",
    "<extrait>\n",
    "les scientifiques observent une hausse des températures mondiales, entraînant des changements climatiques visibles ils soulignent la nécessité d'agir pour en limiter les impacts [...]\n",
    "</extrait>\n",
    "<passage climatosceptique>\n",
    "AUCUN\n",
    "</passage climatosceptique>\n",
    "<catégorie>0_accepted</catégorie>\n",
    "</exemple_0>\n",
    "\n",
    "<exemple_1>\n",
    "<extrait>\n",
    "[...]\n",
    "</extrait>\n",
    "<passage climatosceptique>\n",
    "la fréquence des discussions sur la crise climatique semble augmenter mais certains experts proposent que les avertissements sur le climat pourraient être exagérés faisant souvent valoir que les fluctuations climatiques sont tout à fait naturelles et que les vérités scientifiques sont parfois altérées pour servir des intérêts politiques\n",
    "</passage climatosceptique>\n",
    "<catégorie>1_its_not_happening</catégorie>\n",
    "</exemple_1>\n",
    "\n",
    "<exemple_2>\n",
    "<extrait>\n",
    "[...]\n",
    "</extrait>\n",
    "<passage climatosceptique>\n",
    "il est contesté que la contribution humaine aux niveaux de CO2 soit réellement significative certains experts soutiennent que les océans jouent un rôle bien plus important dans l'émission de ce gaz\n",
    "</passage climatosceptique>\n",
    "<catégorie>2_its_not_us</catégorie>\n",
    "</exemple_2>\n",
    "\n",
    "<exemple_3>\n",
    "<extrait>\n",
    "[...]\n",
    "</extrait>\n",
    "<passage climatosceptique>\n",
    "il est important de noter que beaucoup de régions touchées par des événements climatiques extrêmes retrouvent leur équilibre naturel et peuvent même bénéficier de ces changements car plusieurs études montrent que certaines espèces et écosystèmes s'adaptent efficacement aux variations climatiques\n",
    "</passage climatosceptique>\n",
    "<catégorie>3_its_not_bad</catégorie>\n",
    "</exemple_3>\n",
    "\n",
    "<exemple_4>\n",
    "<extrait>\n",
    "[...]\n",
    "</extrait>\n",
    "<passage climatosceptique>\n",
    "de nombreux experts remettent en question l'efficacité des initiatives visant à réduire la pollution, arguant qu'elles ne font qu'ajouter des coûts économiques sans réel impact positif sur l'environnement\n",
    "</passage climatosceptique>\n",
    "<catégorie>4_solutions_wont_work</catégorie>\n",
    "</exemple_4>\n",
    "\n",
    "<exemple_5>\n",
    "<extrait>\n",
    "[...]\n",
    "</extrait>\n",
    "<passage climatosceptique>\n",
    "En réfléchissant à la situation on peut voir un parallèle avec le débat climatique de nombreux sceptiques pensent que le discours autour du climat est devenu une sorte de dogme où la critique est difficilement tolérée\n",
    "</passage climatosceptique>\n",
    "<catégorie>5_science_is_unreliable</catégorie>\n",
    "</exemple_5>\n",
    "\n",
    "</exemples>\n",
    "\"\"\"\n",
    "    response = await acompletion(\n",
    "        messages=[\n",
    "            {\"role\": \"system\", \"content\": system_prompt},\n",
    "            {\"role\": \"user\", \"content\": f\"<extrait>\\n{text.strip()}\\n</extrait>\"},\n",
    "        ],\n",
    "        model=\"gpt-4o-mini\",\n",
    "        max_tokens=1000,\n",
    "        temperature=0,\n",
    "        stop=[\"</catégorie>\"],\n",
    "    )\n",
    "\n",
    "    # Parse the response\n",
    "    response_content: str = response.choices[0].message.content\n",
    "    claim = (\n",
    "        response_content.split(\"<passage climatosceptique>\")[1]\n",
    "        .split(\"</passage climatosceptique>\")[0]\n",
    "        .strip()\n",
    "    )\n",
    "    cards_label_pred = response_content.split(\"<catégorie>\")[1].strip()\n",
    "    return MediatreePrediction(\n",
    "        cards_label_pred=cards_label_pred,\n",
    "        prompt_tokens=response.usage.prompt_tokens,\n",
    "        completion_tokens=response.usage.completion_tokens,\n",
    "        total_tokens=response.usage.total_tokens,\n",
    "        cost=completion_cost(response),\n",
    "        claim_pred=claim if cards_label_pred != \"0_accepted\" else None,\n",
    "    )\n",
    "\n",
    "\n",
    "await report_experiment_results(df, openai_predict_cards_label)"
   ]
  },
  {
   "cell_type": "markdown",
   "metadata": {},
   "source": [
    "## Test on the full benchmark sample\n"
   ]
  },
  {
   "cell_type": "code",
   "execution_count": 12,
   "metadata": {},
   "outputs": [
    {
     "name": "stderr",
     "output_type": "stream",
     "text": [
      "100%|██████████| 990/990 [02:10<00:00,  7.59it/s]"
     ]
    },
    {
     "name": "stdout",
     "output_type": "stream",
     "text": [
      "\n",
      "LLM USAGE\n",
      "=========\n",
      "\n",
      "Median token usage:\n",
      "- Prompt: 2644\n",
      "- Completion: 27\n",
      "- Total: 2690\n",
      "\n",
      "Total cost: $0.724\n",
      "\n",
      "BINARY CLASSIFICATION REPORT\n",
      "============================\n",
      "\n",
      "              precision    recall  f1-score   support\n",
      "\n",
      "       False       0.95      0.97      0.96       540\n",
      "        True       0.96      0.94      0.95       450\n",
      "\n",
      "    accuracy                           0.96       990\n",
      "   macro avg       0.96      0.96      0.96       990\n",
      "weighted avg       0.96      0.96      0.96       990\n",
      "\n"
     ]
    },
    {
     "name": "stderr",
     "output_type": "stream",
     "text": [
      "\n"
     ]
    },
    {
     "data": {
      "image/svg+xml": [
       "<svg class=\"main-svg\" xmlns=\"http://www.w3.org/2000/svg\" xmlns:xlink=\"http://www.w3.org/1999/xlink\" width=\"600\" height=\"500\" style=\"\" viewBox=\"0 0 600 500\"><rect x=\"0\" y=\"0\" width=\"600\" height=\"500\" style=\"fill: rgb(255, 255, 255); fill-opacity: 1;\"/><defs id=\"defs-408d91\"><g class=\"clips\"><clipPath id=\"clip408d91xyplot\" class=\"plotclip\"><rect width=\"448\" height=\"363\"/></clipPath><clipPath class=\"axesclip\" id=\"clip408d91x\"><rect x=\"127\" y=\"0\" width=\"448\" height=\"500\"/></clipPath><clipPath class=\"axesclip\" id=\"clip408d91y\"><rect x=\"0\" y=\"40\" width=\"600\" height=\"363\"/></clipPath><clipPath class=\"axesclip\" id=\"clip408d91xy\"><rect x=\"127\" y=\"40\" width=\"448\" height=\"363\"/></clipPath></g><g class=\"gradients\"/><g class=\"patterns\"/></defs><g class=\"bglayer\"><rect class=\"bg\" x=\"127\" y=\"40\" width=\"448\" height=\"363\" style=\"fill: rgb(229, 236, 246); fill-opacity: 1; stroke-width: 0;\"/></g><g class=\"layer-below\"><g class=\"imagelayer\"/><g class=\"shapelayer\"/></g><g class=\"cartesianlayer\"><g class=\"subplot xy\"><g class=\"layer-subplot\"><g class=\"shapelayer\"/><g class=\"imagelayer\"/></g><g class=\"minor-gridlayer\"><g class=\"x\"/><g class=\"y\"/></g><g class=\"gridlayer\"><g class=\"x\"><path class=\"xgrid crisp\" transform=\"translate(239,0)\" d=\"M0,40v363\" style=\"stroke: rgb(255, 255, 255); stroke-opacity: 1; stroke-width: 1px;\"/><path class=\"xgrid crisp\" transform=\"translate(463,0)\" d=\"M0,40v363\" style=\"stroke: rgb(255, 255, 255); stroke-opacity: 1; stroke-width: 1px;\"/></g><g class=\"y\"><path class=\"ygrid crisp\" transform=\"translate(0,312.25)\" d=\"M127,0h448\" style=\"stroke: rgb(255, 255, 255); stroke-opacity: 1; stroke-width: 1px;\"/><path class=\"ygrid crisp\" transform=\"translate(0,130.75)\" d=\"M127,0h448\" style=\"stroke: rgb(255, 255, 255); stroke-opacity: 1; stroke-width: 1px;\"/></g></g><g class=\"zerolinelayer\"/><g class=\"layer-between\"><g class=\"shapelayer\"/><g class=\"imagelayer\"/></g><path class=\"xlines-below\"/><path class=\"ylines-below\"/><g class=\"overlines-below\"/><g class=\"xaxislayer-below\"/><g class=\"yaxislayer-below\"/><g class=\"overaxes-below\"/><g class=\"overplot\"><g class=\"xy\" transform=\"translate(127,40)\" clip-path=\"url(#clip408d91xyplot)\"><g class=\"heatmaplayer mlayer\"><g class=\"hm\"><image xmlns=\"http://www.w3.org/2000/svg\" preserveAspectRatio=\"none\" height=\"363\" width=\"448\" x=\"0\" y=\"0\" xlink:href=\"data:image/png;base64,iVBORw0KGgoAAAANSUhEUgAAAAIAAAACCAYAAABytg0kAAAAG0lEQVQYV2PkMMj+//70FAbGj9///hd3qmYAAE85CKuLkY5bAAAAAElFTkSuQmCC\" style=\"image-rendering: pixelated; opacity: 1;\"/><g class=\"heatmap-label\"><text text-anchor=\"middle\" data-notex=\"1\" x=\"112\" y=\"87.4\" style=\"font-family: 'Open Sans', verdana, arial, sans-serif; font-size: 12px; fill: rgb(255, 255, 255); fill-opacity: 1; white-space: pre;\"><tspan class=\"line\" dy=\"0em\" x=\"112\" y=\"87.4\">524</tspan><tspan class=\"line\" dy=\"1.3em\" x=\"112\" y=\"87.4\">97.04%</tspan></text></g><g class=\"heatmap-label\"><text text-anchor=\"middle\" data-notex=\"1\" x=\"336\" y=\"87.4\" style=\"font-family: 'Open Sans', verdana, arial, sans-serif; font-size: 12px; fill: rgb(68, 68, 68); fill-opacity: 1; white-space: pre;\"><tspan class=\"line\" dy=\"0em\" x=\"336\" y=\"87.4\">16</tspan><tspan class=\"line\" dy=\"1.3em\" x=\"336\" y=\"87.4\">2.96%</tspan></text></g><g class=\"heatmap-label\"><text text-anchor=\"middle\" data-notex=\"1\" x=\"112\" y=\"268.4\" style=\"font-family: 'Open Sans', verdana, arial, sans-serif; font-size: 12px; fill: rgb(68, 68, 68); fill-opacity: 1; white-space: pre;\"><tspan class=\"line\" dy=\"0em\" x=\"112\" y=\"268.4\">27</tspan><tspan class=\"line\" dy=\"1.3em\" x=\"112\" y=\"268.4\">6%</tspan></text></g><g class=\"heatmap-label\"><text text-anchor=\"middle\" data-notex=\"1\" x=\"336\" y=\"268.4\" style=\"font-family: 'Open Sans', verdana, arial, sans-serif; font-size: 12px; fill: rgb(255, 255, 255); fill-opacity: 1; white-space: pre;\"><tspan class=\"line\" dy=\"0em\" x=\"336\" y=\"268.4\">423</tspan><tspan class=\"line\" dy=\"1.3em\" x=\"336\" y=\"268.4\">94%</tspan></text></g></g></g></g></g><path class=\"xlines-above crisp\" d=\"M0,0\" style=\"fill: none;\"/><path class=\"ylines-above crisp\" d=\"M0,0\" style=\"fill: none;\"/><g class=\"overlines-above\"/><g class=\"xaxislayer-above\"><g class=\"xtick\"><text text-anchor=\"end\" x=\"0\" y=\"416\" transform=\"translate(239,0) rotate(-30,0,410)\" style=\"font-family: 'Open Sans', verdana, arial, sans-serif; font-size: 12px; fill: rgb(42, 63, 95); fill-opacity: 1; white-space: pre; opacity: 1;\">0_accepted</text></g><g class=\"xtick\"><text text-anchor=\"end\" x=\"0\" y=\"416\" transform=\"translate(463,0) rotate(-30,0,410)\" style=\"font-family: 'Open Sans', verdana, arial, sans-serif; font-size: 12px; fill: rgb(42, 63, 95); fill-opacity: 1; white-space: pre; opacity: 1;\">[1-5]_contrarian</text></g></g><g class=\"yaxislayer-above\"><g class=\"ytick\"><text text-anchor=\"end\" x=\"126\" y=\"4.199999999999999\" transform=\"translate(0,312.25)\" style=\"font-family: 'Open Sans', verdana, arial, sans-serif; font-size: 12px; fill: rgb(42, 63, 95); fill-opacity: 1; white-space: pre; opacity: 1;\">[1-5]_contrarian</text></g><g class=\"ytick\"><text text-anchor=\"end\" x=\"126\" y=\"4.199999999999999\" transform=\"translate(0,130.75)\" style=\"font-family: 'Open Sans', verdana, arial, sans-serif; font-size: 12px; fill: rgb(42, 63, 95); fill-opacity: 1; white-space: pre; opacity: 1;\">0_accepted</text></g></g><g class=\"overaxes-above\"/></g></g><g class=\"polarlayer\"/><g class=\"smithlayer\"/><g class=\"ternarylayer\"/><g class=\"geolayer\"/><g class=\"funnelarealayer\"/><g class=\"pielayer\"/><g class=\"iciclelayer\"/><g class=\"treemaplayer\"/><g class=\"sunburstlayer\"/><g class=\"glimages\"/><defs id=\"topdefs-408d91\"><g class=\"clips\"/></defs><g class=\"layer-above\"><g class=\"imagelayer\"/><g class=\"shapelayer\"/></g><g class=\"infolayer\"><g class=\"g-gtitle\"><text class=\"gtitle\" x=\"351\" y=\"15\" text-anchor=\"middle\" dy=\"0.7em\" style=\"opacity: 1; font-family: 'Open Sans', verdana, arial, sans-serif; font-size: 17px; fill: rgb(42, 63, 95); fill-opacity: 1; white-space: pre;\">Confusion Matrix</text></g><g class=\"g-xtitle\"><text class=\"xtitle\" x=\"351\" y=\"487.44453125\" text-anchor=\"middle\" style=\"opacity: 1; font-family: 'Open Sans', verdana, arial, sans-serif; font-size: 14px; fill: rgb(42, 63, 95); fill-opacity: 1; white-space: pre;\">Predicted class</text></g><g class=\"g-ytitle\"><text class=\"ytitle\" transform=\"rotate(-90,17.631249999999994,221.5)\" x=\"17.631249999999994\" y=\"221.5\" text-anchor=\"middle\" style=\"opacity: 1; font-family: 'Open Sans', verdana, arial, sans-serif; font-size: 14px; fill: rgb(42, 63, 95); fill-opacity: 1; white-space: pre;\">True class</text></g></g></svg>"
      ]
     },
     "metadata": {},
     "output_type": "display_data"
    },
    {
     "name": "stdout",
     "output_type": "stream",
     "text": [
      "CARDS CLASSIFICATION REPORT\n",
      "===========================\n",
      "\n",
      "                         precision    recall  f1-score   support\n",
      "\n",
      "             0_accepted       0.95      0.97      0.96       540\n",
      "    1_its_not_happening       0.90      0.41      0.57       109\n",
      "           2_its_not_us       0.68      0.94      0.79        80\n",
      "          3_its_not_bad       0.73      0.79      0.76        72\n",
      "  4_solutions_wont_work       0.94      0.81      0.87       119\n",
      "5_science_is_unreliable       0.67      0.94      0.78        70\n",
      "\n",
      "               accuracy                           0.87       990\n",
      "              macro avg       0.81      0.81      0.79       990\n",
      "           weighted avg       0.89      0.87      0.87       990\n",
      "\n"
     ]
    },
    {
     "data": {
      "image/svg+xml": [
       "<svg class=\"main-svg\" xmlns=\"http://www.w3.org/2000/svg\" xmlns:xlink=\"http://www.w3.org/1999/xlink\" width=\"600\" height=\"500\" style=\"\" viewBox=\"0 0 600 500\"><rect x=\"0\" y=\"0\" width=\"600\" height=\"500\" style=\"fill: rgb(255, 255, 255); fill-opacity: 1;\"/><defs id=\"defs-56b00c\"><g class=\"clips\"><clipPath id=\"clip56b00cxyplot\" class=\"plotclip\"><rect width=\"407\" height=\"343\"/></clipPath><clipPath class=\"axesclip\" id=\"clip56b00cx\"><rect x=\"168\" y=\"0\" width=\"407\" height=\"500\"/></clipPath><clipPath class=\"axesclip\" id=\"clip56b00cy\"><rect x=\"0\" y=\"40\" width=\"600\" height=\"343\"/></clipPath><clipPath class=\"axesclip\" id=\"clip56b00cxy\"><rect x=\"168\" y=\"40\" width=\"407\" height=\"343\"/></clipPath></g><g class=\"gradients\"/><g class=\"patterns\"/></defs><g class=\"bglayer\"><rect class=\"bg\" x=\"168\" y=\"40\" width=\"407\" height=\"343\" style=\"fill: rgb(229, 236, 246); fill-opacity: 1; stroke-width: 0;\"/></g><g class=\"layer-below\"><g class=\"imagelayer\"/><g class=\"shapelayer\"/></g><g class=\"cartesianlayer\"><g class=\"subplot xy\"><g class=\"layer-subplot\"><g class=\"shapelayer\"/><g class=\"imagelayer\"/></g><g class=\"minor-gridlayer\"><g class=\"x\"/><g class=\"y\"/></g><g class=\"gridlayer\"><g class=\"x\"><path class=\"xgrid crisp\" transform=\"translate(201.92000000000002,0)\" d=\"M0,40v343\" style=\"stroke: rgb(255, 255, 255); stroke-opacity: 1; stroke-width: 1px;\"/><path class=\"xgrid crisp\" transform=\"translate(269.75,0)\" d=\"M0,40v343\" style=\"stroke: rgb(255, 255, 255); stroke-opacity: 1; stroke-width: 1px;\"/><path class=\"xgrid crisp\" transform=\"translate(337.58000000000004,0)\" d=\"M0,40v343\" style=\"stroke: rgb(255, 255, 255); stroke-opacity: 1; stroke-width: 1px;\"/><path class=\"xgrid crisp\" transform=\"translate(405.41999999999996,0)\" d=\"M0,40v343\" style=\"stroke: rgb(255, 255, 255); stroke-opacity: 1; stroke-width: 1px;\"/><path class=\"xgrid crisp\" transform=\"translate(473.25,0)\" d=\"M0,40v343\" style=\"stroke: rgb(255, 255, 255); stroke-opacity: 1; stroke-width: 1px;\"/><path class=\"xgrid crisp\" transform=\"translate(541.0799999999999,0)\" d=\"M0,40v343\" style=\"stroke: rgb(255, 255, 255); stroke-opacity: 1; stroke-width: 1px;\"/></g><g class=\"y\"><path class=\"ygrid crisp\" transform=\"translate(0,354.42)\" d=\"M168,0h407\" style=\"stroke: rgb(255, 255, 255); stroke-opacity: 1; stroke-width: 1px;\"/><path class=\"ygrid crisp\" transform=\"translate(0,297.25)\" d=\"M168,0h407\" style=\"stroke: rgb(255, 255, 255); stroke-opacity: 1; stroke-width: 1px;\"/><path class=\"ygrid crisp\" transform=\"translate(0,240.08)\" d=\"M168,0h407\" style=\"stroke: rgb(255, 255, 255); stroke-opacity: 1; stroke-width: 1px;\"/><path class=\"ygrid crisp\" transform=\"translate(0,182.92)\" d=\"M168,0h407\" style=\"stroke: rgb(255, 255, 255); stroke-opacity: 1; stroke-width: 1px;\"/><path class=\"ygrid crisp\" transform=\"translate(0,125.75)\" d=\"M168,0h407\" style=\"stroke: rgb(255, 255, 255); stroke-opacity: 1; stroke-width: 1px;\"/><path class=\"ygrid crisp\" transform=\"translate(0,68.58)\" d=\"M168,0h407\" style=\"stroke: rgb(255, 255, 255); stroke-opacity: 1; stroke-width: 1px;\"/></g></g><g class=\"zerolinelayer\"/><g class=\"layer-between\"><g class=\"shapelayer\"/><g class=\"imagelayer\"/></g><path class=\"xlines-below\"/><path class=\"ylines-below\"/><g class=\"overlines-below\"/><g class=\"xaxislayer-below\"/><g class=\"yaxislayer-below\"/><g class=\"overaxes-below\"/><g class=\"overplot\"><g class=\"xy\" transform=\"translate(168,40)\" clip-path=\"url(#clip56b00cxyplot)\"><g class=\"heatmaplayer mlayer\"><g class=\"hm\"><image xmlns=\"http://www.w3.org/2000/svg\" preserveAspectRatio=\"none\" height=\"343\" width=\"407\" x=\"0\" y=\"0\" xlink:href=\"data:image/png;base64,iVBORw0KGgoAAAANSUhEUgAAAAYAAAAGCAYAAADgzO9IAAAAiklEQVQYV2PkMMj+//70FAYQ+Pf/P5hmBMHvv///n3TkHoOOKA+DqbwQAy8HC8OlRx8ZGL/8/AdWJuJQxfBqfysDKzMTw99//xkY777+/l9KgIPh159/DMqZqxkezAxj+PX3HwPj7Zff/ssIcYLN/vbzL4NKxkqGJ/MiIUaBVHOyMYMlQUDQppwBANAqOPOX86FwAAAAAElFTkSuQmCC\" style=\"image-rendering: pixelated; opacity: 1;\"/><g class=\"heatmap-label\"><text text-anchor=\"middle\" data-notex=\"1\" x=\"34\" y=\"25.4\" style=\"font-family: 'Open Sans', verdana, arial, sans-serif; font-size: 12px; fill: rgb(255, 255, 255); fill-opacity: 1; white-space: pre;\"><tspan class=\"line\" dy=\"0em\" x=\"34\" y=\"25.4\">524</tspan><tspan class=\"line\" dy=\"1.3em\" x=\"34\" y=\"25.4\">97.04%</tspan></text></g><g class=\"heatmap-label\"><text text-anchor=\"middle\" data-notex=\"1\" x=\"102\" y=\"25.4\" style=\"font-family: 'Open Sans', verdana, arial, sans-serif; font-size: 12px; fill: rgb(68, 68, 68); fill-opacity: 1; white-space: pre;\"><tspan class=\"line\" dy=\"0em\" x=\"102\" y=\"25.4\">1</tspan><tspan class=\"line\" dy=\"1.3em\" x=\"102\" y=\"25.4\">0.19%</tspan></text></g><g class=\"heatmap-label\"><text text-anchor=\"middle\" data-notex=\"1\" x=\"170\" y=\"25.4\" style=\"font-family: 'Open Sans', verdana, arial, sans-serif; font-size: 12px; fill: rgb(68, 68, 68); fill-opacity: 1; white-space: pre;\"><tspan class=\"line\" dy=\"0em\" x=\"170\" y=\"25.4\">1</tspan><tspan class=\"line\" dy=\"1.3em\" x=\"170\" y=\"25.4\">0.19%</tspan></text></g><g class=\"heatmap-label\"><text text-anchor=\"middle\" data-notex=\"1\" x=\"237\" y=\"25.4\" style=\"font-family: 'Open Sans', verdana, arial, sans-serif; font-size: 12px; fill: rgb(68, 68, 68); fill-opacity: 1; white-space: pre;\"><tspan class=\"line\" dy=\"0em\" x=\"237\" y=\"25.4\">6</tspan><tspan class=\"line\" dy=\"1.3em\" x=\"237\" y=\"25.4\">1.11%</tspan></text></g><g class=\"heatmap-label\"><text text-anchor=\"middle\" data-notex=\"1\" x=\"305\" y=\"25.4\" style=\"font-family: 'Open Sans', verdana, arial, sans-serif; font-size: 12px; fill: rgb(68, 68, 68); fill-opacity: 1; white-space: pre;\"><tspan class=\"line\" dy=\"0em\" x=\"305\" y=\"25.4\">5</tspan><tspan class=\"line\" dy=\"1.3em\" x=\"305\" y=\"25.4\">0.93%</tspan></text></g><g class=\"heatmap-label\"><text text-anchor=\"middle\" data-notex=\"1\" x=\"373\" y=\"25.4\" style=\"font-family: 'Open Sans', verdana, arial, sans-serif; font-size: 12px; fill: rgb(68, 68, 68); fill-opacity: 1; white-space: pre;\"><tspan class=\"line\" dy=\"0em\" x=\"373\" y=\"25.4\">3</tspan><tspan class=\"line\" dy=\"1.3em\" x=\"373\" y=\"25.4\">0.56%</tspan></text></g><g class=\"heatmap-label\"><text text-anchor=\"middle\" data-notex=\"1\" x=\"34\" y=\"90.2\" style=\"font-family: 'Open Sans', verdana, arial, sans-serif; font-size: 12px; fill: rgb(68, 68, 68); fill-opacity: 1; white-space: pre;\">0</text></g><g class=\"heatmap-label\"><text text-anchor=\"middle\" data-notex=\"1\" x=\"102\" y=\"82.4\" style=\"font-family: 'Open Sans', verdana, arial, sans-serif; font-size: 12px; fill: rgb(68, 68, 68); fill-opacity: 1; white-space: pre;\"><tspan class=\"line\" dy=\"0em\" x=\"102\" y=\"82.4\">45</tspan><tspan class=\"line\" dy=\"1.3em\" x=\"102\" y=\"82.4\">41.28%</tspan></text></g><g class=\"heatmap-label\"><text text-anchor=\"middle\" data-notex=\"1\" x=\"170\" y=\"82.4\" style=\"font-family: 'Open Sans', verdana, arial, sans-serif; font-size: 12px; fill: rgb(68, 68, 68); fill-opacity: 1; white-space: pre;\"><tspan class=\"line\" dy=\"0em\" x=\"170\" y=\"82.4\">32</tspan><tspan class=\"line\" dy=\"1.3em\" x=\"170\" y=\"82.4\">29.36%</tspan></text></g><g class=\"heatmap-label\"><text text-anchor=\"middle\" data-notex=\"1\" x=\"237\" y=\"82.4\" style=\"font-family: 'Open Sans', verdana, arial, sans-serif; font-size: 12px; fill: rgb(68, 68, 68); fill-opacity: 1; white-space: pre;\"><tspan class=\"line\" dy=\"0em\" x=\"237\" y=\"82.4\">7</tspan><tspan class=\"line\" dy=\"1.3em\" x=\"237\" y=\"82.4\">6.42%</tspan></text></g><g class=\"heatmap-label\"><text text-anchor=\"middle\" data-notex=\"1\" x=\"305\" y=\"90.2\" style=\"font-family: 'Open Sans', verdana, arial, sans-serif; font-size: 12px; fill: rgb(68, 68, 68); fill-opacity: 1; white-space: pre;\">0</text></g><g class=\"heatmap-label\"><text text-anchor=\"middle\" data-notex=\"1\" x=\"373\" y=\"82.4\" style=\"font-family: 'Open Sans', verdana, arial, sans-serif; font-size: 12px; fill: rgb(68, 68, 68); fill-opacity: 1; white-space: pre;\"><tspan class=\"line\" dy=\"0em\" x=\"373\" y=\"82.4\">25</tspan><tspan class=\"line\" dy=\"1.3em\" x=\"373\" y=\"82.4\">22.94%</tspan></text></g><g class=\"heatmap-label\"><text text-anchor=\"middle\" data-notex=\"1\" x=\"34\" y=\"139.4\" style=\"font-family: 'Open Sans', verdana, arial, sans-serif; font-size: 12px; fill: rgb(68, 68, 68); fill-opacity: 1; white-space: pre;\"><tspan class=\"line\" dy=\"0em\" x=\"34\" y=\"139.4\">1</tspan><tspan class=\"line\" dy=\"1.3em\" x=\"34\" y=\"139.4\">1.25%</tspan></text></g><g class=\"heatmap-label\"><text text-anchor=\"middle\" data-notex=\"1\" x=\"102\" y=\"139.4\" style=\"font-family: 'Open Sans', verdana, arial, sans-serif; font-size: 12px; fill: rgb(68, 68, 68); fill-opacity: 1; white-space: pre;\"><tspan class=\"line\" dy=\"0em\" x=\"102\" y=\"139.4\">1</tspan><tspan class=\"line\" dy=\"1.3em\" x=\"102\" y=\"139.4\">1.25%</tspan></text></g><g class=\"heatmap-label\"><text text-anchor=\"middle\" data-notex=\"1\" x=\"170\" y=\"139.4\" style=\"font-family: 'Open Sans', verdana, arial, sans-serif; font-size: 12px; fill: rgb(255, 255, 255); fill-opacity: 1; white-space: pre;\"><tspan class=\"line\" dy=\"0em\" x=\"170\" y=\"139.4\">75</tspan><tspan class=\"line\" dy=\"1.3em\" x=\"170\" y=\"139.4\">93.75%</tspan></text></g><g class=\"heatmap-label\"><text text-anchor=\"middle\" data-notex=\"1\" x=\"237\" y=\"139.4\" style=\"font-family: 'Open Sans', verdana, arial, sans-serif; font-size: 12px; fill: rgb(68, 68, 68); fill-opacity: 1; white-space: pre;\"><tspan class=\"line\" dy=\"0em\" x=\"237\" y=\"139.4\">2</tspan><tspan class=\"line\" dy=\"1.3em\" x=\"237\" y=\"139.4\">2.50%</tspan></text></g><g class=\"heatmap-label\"><text text-anchor=\"middle\" data-notex=\"1\" x=\"305\" y=\"147.2\" style=\"font-family: 'Open Sans', verdana, arial, sans-serif; font-size: 12px; fill: rgb(68, 68, 68); fill-opacity: 1; white-space: pre;\">0</text></g><g class=\"heatmap-label\"><text text-anchor=\"middle\" data-notex=\"1\" x=\"373\" y=\"139.4\" style=\"font-family: 'Open Sans', verdana, arial, sans-serif; font-size: 12px; fill: rgb(68, 68, 68); fill-opacity: 1; white-space: pre;\"><tspan class=\"line\" dy=\"0em\" x=\"373\" y=\"139.4\">1</tspan><tspan class=\"line\" dy=\"1.3em\" x=\"373\" y=\"139.4\">1.25%</tspan></text></g><g class=\"heatmap-label\"><text text-anchor=\"middle\" data-notex=\"1\" x=\"34\" y=\"196.4\" style=\"font-family: 'Open Sans', verdana, arial, sans-serif; font-size: 12px; fill: rgb(68, 68, 68); fill-opacity: 1; white-space: pre;\"><tspan class=\"line\" dy=\"0em\" x=\"34\" y=\"196.4\">9</tspan><tspan class=\"line\" dy=\"1.3em\" x=\"34\" y=\"196.4\">12.50%</tspan></text></g><g class=\"heatmap-label\"><text text-anchor=\"middle\" data-notex=\"1\" x=\"102\" y=\"204.2\" style=\"font-family: 'Open Sans', verdana, arial, sans-serif; font-size: 12px; fill: rgb(68, 68, 68); fill-opacity: 1; white-space: pre;\">0</text></g><g class=\"heatmap-label\"><text text-anchor=\"middle\" data-notex=\"1\" x=\"170\" y=\"196.4\" style=\"font-family: 'Open Sans', verdana, arial, sans-serif; font-size: 12px; fill: rgb(68, 68, 68); fill-opacity: 1; white-space: pre;\"><tspan class=\"line\" dy=\"0em\" x=\"170\" y=\"196.4\">2</tspan><tspan class=\"line\" dy=\"1.3em\" x=\"170\" y=\"196.4\">2.78%</tspan></text></g><g class=\"heatmap-label\"><text text-anchor=\"middle\" data-notex=\"1\" x=\"237\" y=\"196.4\" style=\"font-family: 'Open Sans', verdana, arial, sans-serif; font-size: 12px; fill: rgb(255, 255, 255); fill-opacity: 1; white-space: pre;\"><tspan class=\"line\" dy=\"0em\" x=\"237\" y=\"196.4\">57</tspan><tspan class=\"line\" dy=\"1.3em\" x=\"237\" y=\"196.4\">79.17%</tspan></text></g><g class=\"heatmap-label\"><text text-anchor=\"middle\" data-notex=\"1\" x=\"305\" y=\"196.4\" style=\"font-family: 'Open Sans', verdana, arial, sans-serif; font-size: 12px; fill: rgb(68, 68, 68); fill-opacity: 1; white-space: pre;\"><tspan class=\"line\" dy=\"0em\" x=\"305\" y=\"196.4\">1</tspan><tspan class=\"line\" dy=\"1.3em\" x=\"305\" y=\"196.4\">1.39%</tspan></text></g><g class=\"heatmap-label\"><text text-anchor=\"middle\" data-notex=\"1\" x=\"373\" y=\"196.4\" style=\"font-family: 'Open Sans', verdana, arial, sans-serif; font-size: 12px; fill: rgb(68, 68, 68); fill-opacity: 1; white-space: pre;\"><tspan class=\"line\" dy=\"0em\" x=\"373\" y=\"196.4\">3</tspan><tspan class=\"line\" dy=\"1.3em\" x=\"373\" y=\"196.4\">4.17%</tspan></text></g><g class=\"heatmap-label\"><text text-anchor=\"middle\" data-notex=\"1\" x=\"34\" y=\"253.4\" style=\"font-family: 'Open Sans', verdana, arial, sans-serif; font-size: 12px; fill: rgb(68, 68, 68); fill-opacity: 1; white-space: pre;\"><tspan class=\"line\" dy=\"0em\" x=\"34\" y=\"253.4\">16</tspan><tspan class=\"line\" dy=\"1.3em\" x=\"34\" y=\"253.4\">13.45%</tspan></text></g><g class=\"heatmap-label\"><text text-anchor=\"middle\" data-notex=\"1\" x=\"102\" y=\"261.2\" style=\"font-family: 'Open Sans', verdana, arial, sans-serif; font-size: 12px; fill: rgb(68, 68, 68); fill-opacity: 1; white-space: pre;\">0</text></g><g class=\"heatmap-label\"><text text-anchor=\"middle\" data-notex=\"1\" x=\"170\" y=\"261.2\" style=\"font-family: 'Open Sans', verdana, arial, sans-serif; font-size: 12px; fill: rgb(68, 68, 68); fill-opacity: 1; white-space: pre;\">0</text></g><g class=\"heatmap-label\"><text text-anchor=\"middle\" data-notex=\"1\" x=\"237\" y=\"253.4\" style=\"font-family: 'Open Sans', verdana, arial, sans-serif; font-size: 12px; fill: rgb(68, 68, 68); fill-opacity: 1; white-space: pre;\"><tspan class=\"line\" dy=\"0em\" x=\"237\" y=\"253.4\">6</tspan><tspan class=\"line\" dy=\"1.3em\" x=\"237\" y=\"253.4\">5.04%</tspan></text></g><g class=\"heatmap-label\"><text text-anchor=\"middle\" data-notex=\"1\" x=\"305\" y=\"253.4\" style=\"font-family: 'Open Sans', verdana, arial, sans-serif; font-size: 12px; fill: rgb(255, 255, 255); fill-opacity: 1; white-space: pre;\"><tspan class=\"line\" dy=\"0em\" x=\"305\" y=\"253.4\">96</tspan><tspan class=\"line\" dy=\"1.3em\" x=\"305\" y=\"253.4\">80.67%</tspan></text></g><g class=\"heatmap-label\"><text text-anchor=\"middle\" data-notex=\"1\" x=\"373\" y=\"253.4\" style=\"font-family: 'Open Sans', verdana, arial, sans-serif; font-size: 12px; fill: rgb(68, 68, 68); fill-opacity: 1; white-space: pre;\"><tspan class=\"line\" dy=\"0em\" x=\"373\" y=\"253.4\">1</tspan><tspan class=\"line\" dy=\"1.3em\" x=\"373\" y=\"253.4\">0.84%</tspan></text></g><g class=\"heatmap-label\"><text text-anchor=\"middle\" data-notex=\"1\" x=\"34\" y=\"310.4\" style=\"font-family: 'Open Sans', verdana, arial, sans-serif; font-size: 12px; fill: rgb(68, 68, 68); fill-opacity: 1; white-space: pre;\"><tspan class=\"line\" dy=\"0em\" x=\"34\" y=\"310.4\">1</tspan><tspan class=\"line\" dy=\"1.3em\" x=\"34\" y=\"310.4\">1.43%</tspan></text></g><g class=\"heatmap-label\"><text text-anchor=\"middle\" data-notex=\"1\" x=\"102\" y=\"310.4\" style=\"font-family: 'Open Sans', verdana, arial, sans-serif; font-size: 12px; fill: rgb(68, 68, 68); fill-opacity: 1; white-space: pre;\"><tspan class=\"line\" dy=\"0em\" x=\"102\" y=\"310.4\">3</tspan><tspan class=\"line\" dy=\"1.3em\" x=\"102\" y=\"310.4\">4.29%</tspan></text></g><g class=\"heatmap-label\"><text text-anchor=\"middle\" data-notex=\"1\" x=\"170\" y=\"318.2\" style=\"font-family: 'Open Sans', verdana, arial, sans-serif; font-size: 12px; fill: rgb(68, 68, 68); fill-opacity: 1; white-space: pre;\">0</text></g><g class=\"heatmap-label\"><text text-anchor=\"middle\" data-notex=\"1\" x=\"237\" y=\"318.2\" style=\"font-family: 'Open Sans', verdana, arial, sans-serif; font-size: 12px; fill: rgb(68, 68, 68); fill-opacity: 1; white-space: pre;\">0</text></g><g class=\"heatmap-label\"><text text-anchor=\"middle\" data-notex=\"1\" x=\"305\" y=\"318.2\" style=\"font-family: 'Open Sans', verdana, arial, sans-serif; font-size: 12px; fill: rgb(68, 68, 68); fill-opacity: 1; white-space: pre;\">0</text></g><g class=\"heatmap-label\"><text text-anchor=\"middle\" data-notex=\"1\" x=\"373\" y=\"310.4\" style=\"font-family: 'Open Sans', verdana, arial, sans-serif; font-size: 12px; fill: rgb(255, 255, 255); fill-opacity: 1; white-space: pre;\"><tspan class=\"line\" dy=\"0em\" x=\"373\" y=\"310.4\">66</tspan><tspan class=\"line\" dy=\"1.3em\" x=\"373\" y=\"310.4\">94.29%</tspan></text></g></g></g></g></g><path class=\"xlines-above crisp\" d=\"M0,0\" style=\"fill: none;\"/><path class=\"ylines-above crisp\" d=\"M0,0\" style=\"fill: none;\"/><g class=\"overlines-above\"/><g class=\"xaxislayer-above\"><g class=\"xtick\"><text text-anchor=\"end\" x=\"0\" y=\"396\" transform=\"translate(201.92000000000002,0) rotate(-30,0,390)\" style=\"font-family: 'Open Sans', verdana, arial, sans-serif; font-size: 12px; fill: rgb(42, 63, 95); fill-opacity: 1; white-space: pre; opacity: 1;\">0_accepted</text></g><g class=\"xtick\"><text text-anchor=\"end\" x=\"0\" y=\"396\" transform=\"translate(269.75,0) rotate(-30,0,390)\" style=\"font-family: 'Open Sans', verdana, arial, sans-serif; font-size: 12px; fill: rgb(42, 63, 95); fill-opacity: 1; white-space: pre; opacity: 1;\">1_its_not_happening</text></g><g class=\"xtick\"><text text-anchor=\"end\" x=\"0\" y=\"396\" transform=\"translate(337.58000000000004,0) rotate(-30,0,390)\" style=\"font-family: 'Open Sans', verdana, arial, sans-serif; font-size: 12px; fill: rgb(42, 63, 95); fill-opacity: 1; white-space: pre; opacity: 1;\">2_its_not_us</text></g><g class=\"xtick\"><text text-anchor=\"end\" x=\"0\" y=\"396\" transform=\"translate(405.41999999999996,0) rotate(-30,0,390)\" style=\"font-family: 'Open Sans', verdana, arial, sans-serif; font-size: 12px; fill: rgb(42, 63, 95); fill-opacity: 1; white-space: pre; opacity: 1;\">3_its_not_bad</text></g><g class=\"xtick\"><text text-anchor=\"end\" x=\"0\" y=\"396\" transform=\"translate(473.25,0) rotate(-30,0,390)\" style=\"font-family: 'Open Sans', verdana, arial, sans-serif; font-size: 12px; fill: rgb(42, 63, 95); fill-opacity: 1; white-space: pre; opacity: 1;\">4_solutions_wont_work</text></g><g class=\"xtick\"><text text-anchor=\"end\" x=\"0\" y=\"396\" transform=\"translate(541.0799999999999,0) rotate(-30,0,390)\" style=\"font-family: 'Open Sans', verdana, arial, sans-serif; font-size: 12px; fill: rgb(42, 63, 95); fill-opacity: 1; white-space: pre; opacity: 1;\">5_science_is_unreliable</text></g></g><g class=\"yaxislayer-above\"><g class=\"ytick\"><text text-anchor=\"end\" x=\"167\" y=\"4.199999999999999\" transform=\"translate(0,354.42)\" style=\"font-family: 'Open Sans', verdana, arial, sans-serif; font-size: 12px; fill: rgb(42, 63, 95); fill-opacity: 1; white-space: pre; opacity: 1;\">5_science_is_unreliable</text></g><g class=\"ytick\"><text text-anchor=\"end\" x=\"167\" y=\"4.199999999999999\" transform=\"translate(0,297.25)\" style=\"font-family: 'Open Sans', verdana, arial, sans-serif; font-size: 12px; fill: rgb(42, 63, 95); fill-opacity: 1; white-space: pre; opacity: 1;\">4_solutions_wont_work</text></g><g class=\"ytick\"><text text-anchor=\"end\" x=\"167\" y=\"4.199999999999999\" transform=\"translate(0,240.08)\" style=\"font-family: 'Open Sans', verdana, arial, sans-serif; font-size: 12px; fill: rgb(42, 63, 95); fill-opacity: 1; white-space: pre; opacity: 1;\">3_its_not_bad</text></g><g class=\"ytick\"><text text-anchor=\"end\" x=\"167\" y=\"4.199999999999999\" transform=\"translate(0,182.92)\" style=\"font-family: 'Open Sans', verdana, arial, sans-serif; font-size: 12px; fill: rgb(42, 63, 95); fill-opacity: 1; white-space: pre; opacity: 1;\">2_its_not_us</text></g><g class=\"ytick\"><text text-anchor=\"end\" x=\"167\" y=\"4.199999999999999\" transform=\"translate(0,125.75)\" style=\"font-family: 'Open Sans', verdana, arial, sans-serif; font-size: 12px; fill: rgb(42, 63, 95); fill-opacity: 1; white-space: pre; opacity: 1;\">1_its_not_happening</text></g><g class=\"ytick\"><text text-anchor=\"end\" x=\"167\" y=\"4.199999999999999\" transform=\"translate(0,68.58)\" style=\"font-family: 'Open Sans', verdana, arial, sans-serif; font-size: 12px; fill: rgb(42, 63, 95); fill-opacity: 1; white-space: pre; opacity: 1;\">0_accepted</text></g></g><g class=\"overaxes-above\"/></g></g><g class=\"polarlayer\"/><g class=\"smithlayer\"/><g class=\"ternarylayer\"/><g class=\"geolayer\"/><g class=\"funnelarealayer\"/><g class=\"pielayer\"/><g class=\"iciclelayer\"/><g class=\"treemaplayer\"/><g class=\"sunburstlayer\"/><g class=\"glimages\"/><defs id=\"topdefs-56b00c\"><g class=\"clips\"/></defs><g class=\"layer-above\"><g class=\"imagelayer\"/><g class=\"shapelayer\"/></g><g class=\"infolayer\"><g class=\"g-gtitle\"><text class=\"gtitle\" x=\"371.5\" y=\"15\" text-anchor=\"middle\" dy=\"0.7em\" style=\"opacity: 1; font-family: 'Open Sans', verdana, arial, sans-serif; font-size: 17px; fill: rgb(42, 63, 95); fill-opacity: 1; white-space: pre;\">Confusion Matrix</text></g><g class=\"g-xtitle\"><text class=\"xtitle\" x=\"371.5\" y=\"487.93671875\" text-anchor=\"middle\" style=\"opacity: 1; font-family: 'Open Sans', verdana, arial, sans-serif; font-size: 14px; fill: rgb(42, 63, 95); fill-opacity: 1; white-space: pre;\">Predicted class</text></g><g class=\"g-ytitle\"><text class=\"ytitle\" transform=\"rotate(-90,17.646874999999994,211.5)\" x=\"17.646874999999994\" y=\"211.5\" text-anchor=\"middle\" style=\"opacity: 1; font-family: 'Open Sans', verdana, arial, sans-serif; font-size: 14px; fill: rgb(42, 63, 95); fill-opacity: 1; white-space: pre;\">True class</text></g></g></svg>"
      ]
     },
     "metadata": {},
     "output_type": "display_data"
    },
    {
     "name": "stdout",
     "output_type": "stream",
     "text": [
      "CLAIMS EXTRATION EVALUATION\n",
      "===========================\n",
      "\n",
      "BLEU: 0.89\n",
      "ROUGE: 0.92\n"
     ]
    }
   ],
   "source": [
    "df = pd.read_csv(\"../../data/benchmark/mediatree_synthetic_sample_1000.csv\")\n",
    "await report_experiment_results(df, predict_cards_label)"
   ]
  }
 ],
 "metadata": {
  "kernelspec": {
   "display_name": ".venv",
   "language": "python",
   "name": "python3"
  },
  "language_info": {
   "codemirror_mode": {
    "name": "ipython",
    "version": 3
   },
   "file_extension": ".py",
   "mimetype": "text/x-python",
   "name": "python",
   "nbconvert_exporter": "python",
   "pygments_lexer": "ipython3",
   "version": "3.12.6"
  }
 },
 "nbformat": 4,
 "nbformat_minor": 2
}
