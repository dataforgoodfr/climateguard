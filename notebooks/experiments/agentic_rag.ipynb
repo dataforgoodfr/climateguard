{
 "cells": [
  {
   "cell_type": "code",
   "execution_count": 1,
   "metadata": {},
   "outputs": [],
   "source": [
    "use_existing_rag = True"
   ]
  },
  {
   "cell_type": "code",
   "execution_count": 2,
   "metadata": {},
   "outputs": [],
   "source": [
    "from datasets import load_dataset\n",
    "\n",
    "if not use_existing_rag:\n",
    "    ds = load_dataset(\"QuotaClimat/frugalaichallenge-text-train\", cache_dir=\"data\")"
   ]
  },
  {
   "cell_type": "code",
   "execution_count": 3,
   "metadata": {},
   "outputs": [],
   "source": [
    "import tiktoken\n",
    "import tokenizers\n",
    "from langchain_core.documents import Document\n",
    "\n",
    "\n",
    "if not use_existing_rag:\n",
    "    tokenizer = tiktoken.encoding_for_model(\"gpt-4o-mini\")\n",
    "\n",
    "    documents = []\n",
    "    # llama_tokenizer = tokenizers.Tokenizer.from_pretrained(\"meta-llama/Llama-3.1-8B-Instruct-q4_0\")\n",
    "\n",
    "    for record in ds[\"train\"]:\n",
    "        metadata = {k: v for k, v in record.items() if k != \"quote\"}\n",
    "        metadata[\"n_tokens_gpt\"] = len(tokenizer.encode(record[\"quote\"]))\n",
    "        # metadata[\"n_tokens_llama\"] = len(llama_tokenizer.tokenize(record[\"quote\"]))\n",
    "        documents.append(Document(page_content=record[\"quote\"], metadata=metadata))\n",
    "\n",
    "\n",
    "    documents[0]"
   ]
  },
  {
   "cell_type": "code",
   "execution_count": 4,
   "metadata": {},
   "outputs": [
    {
     "name": "stdout",
     "output_type": "stream",
     "text": [
      "['frugalaichallenge-text-train']\n"
     ]
    }
   ],
   "source": [
    "from uuid import uuid4\n",
    "\n",
    "from langchain_huggingface import HuggingFaceEmbeddings\n",
    "from langchain_qdrant import QdrantVectorStore\n",
    "from qdrant_client import QdrantClient\n",
    "from qdrant_client.http.models import Distance, VectorParams\n",
    "\n",
    "\n",
    "qclient = QdrantClient(host=\"localhost\", port=6334)\n",
    "embedding_model = HuggingFaceEmbeddings(model_name=\"all-MiniLM-L12-v2\")\n",
    "\n",
    "collections = [collection.name for collection in qclient.get_collections().collections]\n",
    "print(collections)\n",
    "if \"frugalaichallenge-text-train\" not in collections:\n",
    "    qclient.create_collection(\n",
    "        collection_name=\"frugalaichallenge-text-train\",\n",
    "        vectors_config=VectorParams(size=384, distance=Distance.COSINE),\n",
    "    )\n",
    "\n",
    "vector_store = QdrantVectorStore(\n",
    "    client=qclient,\n",
    "    collection_name=\"frugalaichallenge-text-train\",\n",
    "    embedding=embedding_model,\n",
    ")\n",
    "\n",
    "if \"frugalaichallenge-text-train\" not in collections:\n",
    "\n",
    "    uuids = [str(uuid4()) for _ in range(len(documents))]\n",
    "\n",
    "    vector_store.add_documents(documents=documents, ids=uuids)"
   ]
  },
  {
   "cell_type": "code",
   "execution_count": 5,
   "metadata": {},
   "outputs": [
    {
     "name": "stdout",
     "output_type": "stream",
     "text": [
      "* oh yeah , the global temperature trend has not warmed for 19 years . [{'label': '1_not_happening', 'source': 'FLICC', 'url': 'https://huggingface.co/datasets/fzanartu/FLICCdataset', 'language': 'en', 'subsource': 'jintrain', 'id': None, '__index_level_0__': 1098, 'n_tokens_gpt': 15, '_id': 'ac447842-acca-4ecd-805f-b7f87764fab1', '_collection_name': 'frugalaichallenge-text-train'}]\n",
      "* global warming doesn't exist -- or at least hasn't for 19 years [{'label': '1_not_happening', 'source': 'FLICC', 'url': 'https://huggingface.co/datasets/fzanartu/FLICCdataset', 'language': 'en', 'subsource': 'jintrain', 'id': None, '__index_level_0__': 636, 'n_tokens_gpt': 13, '_id': 'cec6b357-e1a8-4516-bd3d-66ea1679e1df', '_collection_name': 'frugalaichallenge-text-train'}]\n"
     ]
    }
   ],
   "source": [
    "results = vector_store.similarity_search(\"The world has not gotten warmer\", k=2)\n",
    "\n",
    "for res in results:\n",
    "    print(f\"* {res.page_content} [{res.metadata}]\")"
   ]
  },
  {
   "cell_type": "code",
   "execution_count": 6,
   "metadata": {},
   "outputs": [
    {
     "data": {
      "text/plain": [
       "[{'quote': 'oh yeah , the global temperature trend has not warmed for 19 years .',\n",
       "  'label': '1_not_happening'},\n",
       " {'quote': \"global warming doesn't exist -- or at least hasn't for 19 years\",\n",
       "  'label': '1_not_happening'},\n",
       " {'quote': 'In the most recent 5,000-year period, there have been numerous periods of distinct global warming and global cooling. However, the overall long-term climatic trend indicates that the earth has been getting cooler, not warmer,',\n",
       "  'label': '1_not_happening'},\n",
       " {'quote': 'The world has not warmed up very much since the millennium. Twelve years is a reasonable time it (the temperature) has stayed almost constant, whereas it should have been rising carbon dioxide is rising, no question about that.',\n",
       "  'label': '1_not_happening'},\n",
       " {'quote': 'While evidence seems to indicate that we have been warming up nicely for the past several hundred years, at present we may be in a slight cooling trend. There has been no global warming for almost 15 years.',\n",
       "  'label': '1_not_happening'}]"
      ]
     },
     "metadata": {},
     "output_type": "display_data"
    }
   ],
   "source": [
    "import json\n",
    "\n",
    "from langchain.tools import tool\n",
    "\n",
    "qdrant_retriever = vector_store.as_retriever(search_kwargs={\"k\": 5})\n",
    "\n",
    "\n",
    "@tool(name_or_callable=\"qdrant_retriever\")\n",
    "def qdrant_retriever_tool(query: str):\n",
    "    \"\"\"\n",
    "    Example quotes containing different levels of climate change desinformation, separated in different categories:\n",
    "    - 0_accepted: No relevant environmental disinformation claim detected.\n",
    "    - 1_not_happening: Global warming is not happing. Climate change is NOT leading to melting ice (such as glaciers, sea ice, and permafrost), increased extreme weather, or rising sea levels. Cold weather also shows that climate change is not happening.\n",
    "    - 2_not_human: Greenhouse gases from humans are not the causing climate change.\n",
    "    - 3_not_bad: The impacts of climate change will not be bad and might even be beneficial.\n",
    "    - 4_solutions_wont_work: Climate solutions are harmful or unnecessary.\n",
    "    - 5_science_is_unreliable: Climate science is uncertain, unsound, unreliable, or biased.\n",
    "    - 6_scientists_are_biased: Climate scientists and proponents of climate action are alarmist, biased, wrong, hypocritical, corrupt, and/or politically motivated.\n",
    "    \"\"\"\n",
    "    results = qdrant_retriever.invoke(query)\n",
    "    return json.dumps(\n",
    "        [{\"quote\": res.page_content, \"label\": res.metadata[\"label\"]} for res in results]\n",
    "    )\n",
    "\n",
    "\n",
    "display(json.loads(qdrant_retriever_tool.invoke(\"The world has not gotten warmer\")))"
   ]
  },
  {
   "cell_type": "markdown",
   "metadata": {},
   "source": [
    "Agent structure:\n",
    "\n",
    "1. Classify as relevant for the environmental disinformation. (n)\n",
    "2. Return None if classified as not relevant, else point 3. (ce)\n",
    "3. Claim extraction from the text (extract one claim from the text). (n)\n",
    "4. Retrieve similar examples (n)\n",
    "5. Classify text and claim (n)\n",
    "6. Check if llm agrees with the following extraction. (n)\n",
    "7. If yes return classification (ce + n)\n",
    "8. If not extract another claim that is more representative (ce + n)\n",
    "9. Back to point 4 (e)"
   ]
  },
  {
   "cell_type": "code",
   "execution_count": 148,
   "metadata": {},
   "outputs": [],
   "source": [
    "from typing import Annotated, Callable, Dict, List, Literal, Optional, Sequence, Any\n",
    "\n",
    "from langchain import hub\n",
    "from langchain_core.language_models.chat_models import BaseChatModel\n",
    "from langchain_core.messages import BaseMessage, HumanMessage\n",
    "from langchain_core.output_parsers import StrOutputParser\n",
    "from langchain_core.prompts import PromptTemplate\n",
    "from langgraph.graph import END, START, StateGraph\n",
    "from langgraph.graph.message import add_messages\n",
    "from langgraph.prebuilt import ToolNode, tools_condition\n",
    "from pydantic import BaseModel, ConfigDict, Field\n",
    "from typing_extensions import TypedDict\n",
    "from json import JSONDecodeError\n",
    "\n",
    "\n",
    "class DocumentRelevance(BaseModel):\n",
    "    \"\"\"Binary score for relevance check.\"\"\"\n",
    "\n",
    "    relevant: str = Field(description=\"Relevance: 'yes' or 'no'\")\n",
    "\n",
    "\n",
    "class DesinformationClassification(BaseModel):\n",
    "    \"\"\"Classification of the text as relevant for environmental disinformation.\"\"\"\n",
    "\n",
    "    relevant: str = Field(description=\"Disinformation classification: 'yes' or 'no'\")\n",
    "\n",
    "\n",
    "class ClassificationCheck(BaseModel):\n",
    "    \"\"\"Check if the classification is correct.\"\"\"\n",
    "\n",
    "    correct: str = Field(description=\"Correctness: 'yes' or 'no'\")\n",
    "\n",
    "\n",
    "class AgentState(TypedDict):\n",
    "    # The add_messages function defines how an update should be processed\n",
    "    # Default is to replace. add_messages says \"append\"\n",
    "    messages: Annotated[Sequence[BaseMessage], add_messages]\n",
    "    senders: Annotated[Sequence[str], add_messages]\n",
    "\n",
    "\n",
    "class RagAgent(BaseModel):\n",
    "    model: BaseChatModel\n",
    "    tools: List[Callable]\n",
    "    graph: StateGraph\n",
    "    verbose: Optional[bool] = True\n",
    "\n",
    "    model_config = ConfigDict(arbitrary_types_allowed=True)\n",
    "\n",
    "    def __init__(self, *args, **kwargs):\n",
    "        super().__init__(*args, **kwargs)\n",
    "\n",
    "        # nodes\n",
    "        # retriever_tool = ToolNode(tools=self.tools)\n",
    "        self.graph.add_node(\"classificator\", self.classificator)\n",
    "        self.graph.add_node(\"none_returner\", self.none_returner)\n",
    "        self.graph.add_node(\"claim_extractor\", self.claim_extractor)\n",
    "        self.graph.add_node(\"rag_tool\", self.rag_tool)\n",
    "        self.graph.add_node(\"claim_classificator\", self.claim_classificator)\n",
    "        # self.graph.add_node(\"double_check\", self.double_check)\n",
    "        self.graph.add_node(\"returner\", self.returner)\n",
    "\n",
    "        # edges\n",
    "        # start generation\n",
    "        self.graph.add_edge(START, \"classificator\")\n",
    "        self.graph.add_conditional_edges(\n",
    "            \"classificator\",\n",
    "            # Assess agent decision\n",
    "            self.classificator_edge,  # Non need to format as outputs already have node names\n",
    "        )\n",
    "        self.graph.add_edge(\"none_returner\", END)\n",
    "        self.graph.add_edge(\"claim_extractor\", \"rag_tool\")\n",
    "        self.graph.add_edge(\"rag_tool\", \"claim_classificator\")\n",
    "        self.graph.add_edge(\"claim_classificator\", \"returner\")\n",
    "        # self.graph.add_edge(\"claim_classificator\", \"double_check\")\n",
    "        # self.graph.add_conditional_edges(\n",
    "        #     \"double_check\",\n",
    "        #     # Assess agent decision\n",
    "        #     self.double_check_edge,  # Non need to format as outputs already have node names\n",
    "        # )\n",
    "        self.graph.add_edge(\"returner\", END)\n",
    "\n",
    "    def __print(self, *args, **kwargs):\n",
    "        \"\"\"Internal print used to print if verbose is set\"\"\"\n",
    "        if self.verbose:\n",
    "            print(*args, **kwargs)\n",
    "\n",
    "    def compile(self):\n",
    "        \"\"\"Compiles the graph into an executable agent\"\"\"\n",
    "        return self.graph.compile()\n",
    "\n",
    "    def classificator(self, state: AgentState):\n",
    "        \"\"\"\n",
    "        Classify the text as relevant for the environmental disinformation.\n",
    "\n",
    "        Args:\n",
    "            state (messages): The current state\n",
    "\n",
    "        Returns:\n",
    "            dict: The updated state with the agent response appended to messages\"\"\"\n",
    "        self.__print(\"----- Classifying text -----\")\n",
    "\n",
    "        prompt = PromptTemplate(\n",
    "            template=\"\"\"\n",
    "                You are an assistant in a climate change media study group. The group analyses media transcripts related \n",
    "                to climate change and its impacts. You mission is to examine very carefully the transcripts that are givrn to you\n",
    "                and judge whether or not they are related to climate change. For this task you are not required to pass a \n",
    "                judgement on the transcript in question, just judge whether it talks about climate change in any way.\n",
    "                The text might also be talking about economic or social policies that are somehow related to climate change\n",
    "                (for example the 'Green Deal' or the 'Paris Agreement'), these count as transcripts related to climate change.\n",
    "                Keep in mind that a lot of the texts are not perfectly transcribed so watch out for typos and other errors.\n",
    "\n",
    "                Give a binary score 'yes' or 'no' score to indicate whether the contains mentions of climate change.\n",
    "                Here is the transcript: {text}\n",
    "                REMEMBER TO REPLY ONLY 'yes' or 'no'. Do NOT EXPLAIN ! \\n \n",
    "                Answer:\n",
    "            \"\"\",\n",
    "            input_variables=[\"text\"],\n",
    "        )\n",
    "        chain = prompt | self.model\n",
    "\n",
    "        messages = state[\"messages\"]\n",
    "        last_message = messages[0]\n",
    "\n",
    "        text = last_message.content\n",
    "\n",
    "        reply = chain.invoke({\"text\": text})\n",
    "        classification = DesinformationClassification(relevant=reply.content).relevant\n",
    "        self.__print(f\"Decision: Concerns Climate? {classification}\")\n",
    "        return {\"messages\": [classification], \"senders\": [\"classificator\"]}\n",
    "\n",
    "    def classificator_edge(\n",
    "        self, state: AgentState\n",
    "    ) -> Literal[\"claim_extractor\", \"none_returner\"]:\n",
    "        \"\"\"\n",
    "        Determines whether the text contains environmental or climate change disinformation.\n",
    "\n",
    "        Args:\n",
    "            state (messages): The current state\n",
    "\n",
    "        Returns:\n",
    "            str: A decision for whether the documents are relevant or not\n",
    "        \"\"\"\n",
    "        if state[\"messages\"][-1].content == \"yes\":\n",
    "            return \"claim_extractor\"\n",
    "        else:\n",
    "            self.__print(\"----- Return None -----\")\n",
    "            return \"none_returner\"\n",
    "\n",
    "    def none_returner(self, state: AgentState) -> Dict[str, List[Any]]:\n",
    "        return {\"messages\": [\"None\"], \"senders\": [\"none_returner\"]}\n",
    "\n",
    "    def claim_extractor(self, state: AgentState):\n",
    "        \"\"\"\n",
    "        Extracts a claim from the text.\n",
    "\n",
    "        Args:\n",
    "            state (messages): The current state\n",
    "\n",
    "        Returns:\n",
    "            dict: The updated state with the agent response appended to messages\n",
    "        \"\"\"\n",
    "        self.__print(\"----- Extract claim -----\")\n",
    "        template = \"\"\"\n",
    "                You are a climate disinformation assistant trying to identify claims in media transcripts\n",
    "                related to disinformation (voluntary spread of fake news) or misinformation (unvoluntary repetition\n",
    "                of incorrect information). You will be given a text transcript.\n",
    "                Extract one claim from the text that captures the main concepts expressed in the text without reformulating.\n",
    "                If no claim is present, return \"no_claim\".\n",
    "                Here is the transcript: {text}\n",
    "            \"\"\"\n",
    "        messages = state[\"messages\"]\n",
    "        senders = state[\"senders\"]\n",
    "        initial_message = messages[0]\n",
    "        text = initial_message.content\n",
    "\n",
    "        if senders[-1] == \"double_check\":\n",
    "            old_claim = json.loads(messages[-2].content)[\"claim\"]\n",
    "            template = (\n",
    "                template\n",
    "                + f\"\\nDuring a previous analysis, the following claim was found: {old_claim}\\nExtract a different claim.\"\n",
    "            )\n",
    "\n",
    "        template = (\n",
    "            template\n",
    "            + \"\\nREMEMBER TO REPLY WITH ONLY ONE CLAIM. Do NOT EXPLAIN ! IF NO CLAIM IS PRESENT, RETURN 'no_claim'.\\nAnswer:\"\n",
    "        )\n",
    "        prompt = PromptTemplate(template=template, input_variables=[\"text\"])\n",
    "        chain = prompt | self.model\n",
    "\n",
    "        reply = chain.invoke({\"text\": text})\n",
    "        claim = reply.content\n",
    "        response = json.dumps({\"claim\": claim, \"text\": text})\n",
    "        self.__print(claim)\n",
    "        return {\"messages\": [response], \"senders\": [\"claim_extractor\"]}\n",
    "    \n",
    "    def rag_tool(self, state: AgentState):\n",
    "        self.__print(\"----- Classificator Retrieve similar records -----\")\n",
    "\n",
    "        messages = state[\"messages\"]\n",
    "        last_message = json.loads(messages[-1].content)\n",
    "        text = last_message[\"text\"]\n",
    "        rag = qdrant_retriever_tool.invoke(text)\n",
    "        examples = \"\\n\".join([f\"*{record['label']}: {record['quote']}\" for record in json.loads(rag)])\n",
    "        self.__print(\"Found:\")\n",
    "        self.__print(examples)\n",
    "        return {\"messages\": [examples], \"senders\": [\"rag_tool\"]}\n",
    "\n",
    "    def claim_classificator(self, state: AgentState):\n",
    "        \"\"\"\n",
    "        Classifies the claim according to the pre-defined categories (CARDS).\n",
    "\n",
    "        Args:\n",
    "            state (messages): The current state\n",
    "\n",
    "        Returns:\n",
    "            dict: The updated state with the agent response appended to messages\n",
    "        \"\"\"\n",
    "        self.__print(\"----- Classify Claim -----\")\n",
    "\n",
    "        prompt = PromptTemplate.from_template(\n",
    "            template=\"\"\"\n",
    "                You are an expert in disinformation on environmental and climate subjects,\n",
    "                expert in climate science and know everything about the IPCC. \n",
    "                I am going to give you a claim coming from quotes on medias and the original media transcript and\n",
    "                similar claims from our database along with their classification.\n",
    "                Your task is to analyse the claim and then classify it following the pre-defined categories.\n",
    "                Use the examples provided to determine the classification of the claim.\n",
    "\n",
    "                Categories:\n",
    "                - 0_accepted: No relevant environmental disinformation claim detected.\n",
    "                - 1_not_happening: Global warming is not happing. Climate change is NOT leading to melting ice (such as glaciers, sea ice, and permafrost), increased extreme weather, or rising sea levels. Cold weather also shows that climate change is not happening.\n",
    "                - 2_not_human: Greenhouse gases from humans are not the causing climate change.\n",
    "                - 3_not_bad: The impacts of climate change will not be bad and might even be beneficial.\n",
    "                - 4_solutions_wont_work: Climate solutions are harmful or unnecessary.\n",
    "                - 5_science_is_unreliable: Climate science is uncertain, unsound, unreliable, or biased.\n",
    "                - 6_scientists_are_biased: Climate scientists and proponents of climate action are alarmist, biased, wrong, hypocritical, corrupt, and/or politically motivated.\n",
    "                - 7_need_fossil_fuel: We need fossil fuels for economic growth, prosperity, and to maintain our standard of living.\n",
    "\n",
    "                Start with an analysis of the text and then classify it according to the pre-defined categories (CARDS).\n",
    "                Do not be afraid to use the category \"0_accepted\". Use the other catefories only if there is a clear evidence of\n",
    "                desinformation or misinformation in the text.\n",
    "                Your response should be in JSON format with only two key-value pairs:\n",
    "                {\n",
    "                \n",
    "                    \"analysis\": <analysis>,\n",
    "                    \"category\": <category>\n",
    "                }\n",
    "                For example, the claim:\n",
    "                <There is clear, compelling evidence that many of the major conclusions of the IPCC, your new religions constantly-changing Holy Book, are based on evidence that has been fabricated. The hockey stick graph that purported to abolish the mediaeval warm period is just one example.>\n",
    "                Is analysed as:\n",
    "                {\n",
    "                    \"analysis\": \"The claim implies that the science behind the IPCC is constantly changing, undermining the credibility of scientific evidence.\",\n",
    "                    \"category\": \"5_science_unreliable\"\n",
    "                }\n",
    "\n",
    "                Transcript: {{text}}\n",
    "                Claim: {{claim}}\n",
    "                Here are some similar claims from our database and their classification. Use these to decide what category this claim belongs to:\n",
    "                {{examples_str}}\n",
    "                REMEMBER TO REPLY WITH THE CORRECT JSON FORMAT. Do NOT EXPLAIN ! IF NO DISINFORMATION IS PRESENT, RETURN \"category: \"0_accepted\".\\n \n",
    "                Answer:\n",
    "\n",
    "            \"\"\",\n",
    "            template_format=\"jinja2\",\n",
    "            # input_variables=[\"text\", \"claim\"],\n",
    "        )\n",
    "        chain = prompt | self.model\n",
    "\n",
    "        messages = state[\"messages\"]\n",
    "        last_message = json.loads(messages[-2].content)\n",
    "        text = last_message[\"text\"]\n",
    "        claim = last_message[\"claim\"]\n",
    "\n",
    "        examples_str = messages[-1].content\n",
    "        # examples_str = \"\\n\".join(\n",
    "        #     [\n",
    "        #         f\"Claim: {example['quote']}\\nLabel: {example['label']}\\n\"\n",
    "        #         for example in examples\n",
    "        #     ]\n",
    "        # )\n",
    "\n",
    "        reply = chain.invoke(\n",
    "            {\"text\": text, \"claim\": claim, \"examples_str\": examples_str}\n",
    "        )\n",
    "        self.__print(reply.content)\n",
    "        claim_classification = self.load_json_string(reply.content, json.dumps([\"analysis\", \"category\"]))[\"category\"]\n",
    "        # claim_classification = json.loads(reply.content)[\"category\"]\n",
    "\n",
    "        self.__print({\"classification\": claim_classification, \"text\": text, \"claim\": claim})\n",
    "        response = json.dumps(\n",
    "            {\"classification\": claim_classification, \"text\": text, \"claim\": claim},\n",
    "        )\n",
    "        self.__print(\"CARDS Classification:\")\n",
    "        self.__print(claim_classification)\n",
    "        return {\"messages\": [response], \"senders\": [\"claim_classificator\"]}\n",
    "\n",
    "    def double_check(self, state: AgentState):\n",
    "        \"\"\"\n",
    "        Double check the claim classification.\n",
    "\n",
    "        Args:\n",
    "            state (messages): The current state\n",
    "\n",
    "        Returns:\n",
    "            dict: The updated state with the agent response appended to messages\n",
    "        \"\"\"\n",
    "\n",
    "        self.__print(\"----- Double Check -----\")\n",
    "\n",
    "        prompt = PromptTemplate(\n",
    "            template=\"\"\"\n",
    "                You are an expert in disinformation on environmental and climate subjects,\n",
    "                expert in climate science and know everything about the GIEC. \n",
    "                I am going to give you a media transcript and a classification. \n",
    "                Your task is to examine the transcript and the classification and decide if it is correct\n",
    "                If it is correct answer with \"yes\", otherwise answer with \"no\".\n",
    "\n",
    "                Categories:\n",
    "                - 0_accepted: No relevant environmental disinformation claim detected.\n",
    "                - 1_not_happening: Global warming is not happing. Climate change is NOT leading to melting ice (such as glaciers, sea ice, and permafrost), increased extreme weather, or rising sea levels. Cold weather also shows that climate change is not happening.\n",
    "                - 2_not_human: Greenhouse gases from humans are not the causing climate change.\n",
    "                - 3_not_bad: The impacts of climate change will not be bad and might even be beneficial.\n",
    "                - 4_solutions_wont_work: Climate solutions are harmful or unnecessary.\n",
    "                - 5_science_is_unreliable: Climate science is uncertain, unsound, unreliable, or biased.\n",
    "                - 6_scientists_are_biased: Climate scientists and proponents of climate action are alarmist, biased, wrong, hypocritical, corrupt, and/or politically motivated.\n",
    "                - 7_need_fossil_fuel: We need fossil fuels for economic growth, prosperity, and to maintain our standard of living.\n",
    "\n",
    "                Be very careful not to classify a transcript as a false positive: the main objective is to assign a category related to disinformation\n",
    "                ONLY TO TRANSCRIPTS THAT ACTUALLY CONTAIN ANY.\n",
    "\n",
    "                Transcript: {text}\n",
    "                Classification: {classification}\n",
    "                REMEMBER TO REPLY ONLY 'yes' or 'no'. Do NOT EXPLAIN ! \\n \n",
    "                Answer:\n",
    "            \"\"\",\n",
    "                # Claim: {claim}\n",
    "            input_variables=[\"text\", \"claim\", \"classification\"],\n",
    "        )\n",
    "        chain = prompt | self.model\n",
    "\n",
    "        messages = state[\"messages\"]\n",
    "        last_message = json.loads(messages[-1].content)\n",
    "        text = last_message[\"text\"]\n",
    "        # claim = last_message[\"claim\"]\n",
    "        classification = last_message[\"classification\"]\n",
    "\n",
    "        reply = chain.invoke(\n",
    "            # {\"text\": text, \"claim\": claim, \"classification\": classification}\n",
    "            {\"text\": text, \"classification\": classification}\n",
    "        )\n",
    "        double_check = ClassificationCheck(correct=reply.content).correct\n",
    "        self.__print(\"Do you agree with the classification? \")\n",
    "        self.__print(double_check)\n",
    "        return {\"messages\": [double_check], \"senders\": [\"double_check\"]}\n",
    "\n",
    "    def double_check_edge(\n",
    "        self, state: AgentState\n",
    "    ) -> Literal[\"claim_extractor\", \"returner\"]:\n",
    "        \"\"\"\n",
    "        Routes to either the final conclusion after the double check or to the claim extractor if the double check is not conclusive.\n",
    "        \"\"\"\n",
    "        if state[\"messages\"][-1].content == \"yes\":\n",
    "            return \"returner\"\n",
    "        else:\n",
    "            return \"claim_extractor\"\n",
    "        \n",
    "    def dump_json_string(self, json_string:str, keys: List[str], n_iter=1, max_iter=5):\n",
    "        \"\"\"Recursive function that formats the string into proper json format\"\"\"\n",
    "        try:\n",
    "            return json.dumps(json_string)\n",
    "        except JSONDecodeError as e:\n",
    "            if n_iter > max_iter:\n",
    "                raise e\n",
    "            prompt = PromptTemplate(\n",
    "                template=\"\"\"\n",
    "                    Your are a formatter, you are given a string that needs to be formatted into a proper JSON string.\n",
    "                    For example the following JSON string with strings [\"key_1\", \"key_2\"]:\n",
    "                    '{\n",
    "                        \"key_1\": \"value_1\"\n",
    "                        \"key_2\": \"value_2\"\n",
    "                    }'\n",
    "                    becomes:\n",
    "                    '{\n",
    "                        \"key_1\": \"value_1\" \n",
    "                        \"key_2\": \"value_2\"\n",
    "                    }'\n",
    "                    ; and\n",
    "                    '{\n",
    "                        \"key_1\": \"value_1\",\n",
    "                        \"key_2\": \"value_2\",'\n",
    "                    becomes\n",
    "                    '{\n",
    "                        \"key_1\": \"value_1\",\n",
    "                        \"key_2\": \"value_2\"\n",
    "                    }'\n",
    "                    ; and\n",
    "                    '{\n",
    "                        \"key_1\": \"value_1\",\n",
    "                        \"value_2\"\n",
    "                    }'\n",
    "                    becomes\n",
    "                    '{\n",
    "                        \"key_1\": \"value_1\",\n",
    "                        \"key_2\": \"value_2\"\n",
    "                    }'\n",
    "                    Correct the following string into a proper json string:\n",
    "                    {{json_string}}\n",
    "                    Here are the following keys for the json document:\n",
    "                    {{keys}}\n",
    "                \"\"\",\n",
    "                    # Claim: {claim}\n",
    "                template_format=\"jinja2\",\n",
    "            )\n",
    "            chain = prompt | self.model\n",
    "            chain.invoke({\"json_string\": json_string, \"keys\": keys})\n",
    "            return self.dump_json_string(json_string, keys, n_iter=n_iter+1)\n",
    "        \n",
    "    def load_json_string(self, json_string:str, keys: List[str], n_iter=1, max_iter=5):\n",
    "        \"\"\"Recursive function that formats the string into proper json format\"\"\"\n",
    "        if not json_string.endswith(\"}\") and json_string.startswith(\"{\"):\n",
    "            json_string = json_string + \"}\"\n",
    "        if not json_string.endswith(\"]\") and json_string.startswith(\"[\"):\n",
    "            json_string = json_string + \"]\"\n",
    "        try:\n",
    "            return json.loads(json_string)\n",
    "        except JSONDecodeError as e:\n",
    "            if n_iter > max_iter:\n",
    "                raise e\n",
    "            prompt = PromptTemplate(\n",
    "                template=\"\"\"\n",
    "                    Correct the following string into a proper json string:\n",
    "                    {{json_string}}\n",
    "                    Here are the following keys for the json document:\n",
    "                    {{keys}}\n",
    "                \"\"\",\n",
    "                    # Claim: {claim}\n",
    "                template_format=\"jinja2\",\n",
    "            )\n",
    "            chain = prompt | self.model\n",
    "            chain.invoke({\"json_string\": json_string, \"keys\": keys})\n",
    "            return self.load_json_string(json_string, keys, n_iter=n_iter+1)\n",
    "\n",
    "    def returner(self, state: AgentState):\n",
    "        \"\"\"\n",
    "        Returns the final conclusion after the double check.\n",
    "        Args:\n",
    "            state (messages): The current state\n",
    "\n",
    "        Returns:\n",
    "            dict: The updated state with the agent response appended to messages\n",
    "        \"\"\"\n",
    "        self.__print(\"----- Return Result -----\")\n",
    "        return {\"messages\": [state[\"messages\"][-1].content], \"senders\": [\"returner\"]}"
   ]
  },
  {
   "cell_type": "code",
   "execution_count": 149,
   "metadata": {},
   "outputs": [],
   "source": [
    "from langchain_openai import ChatOpenAI\n",
    "from langchain_ollama import ChatOllama\n",
    "from dotenv import load_dotenv\n",
    "\n",
    "load_dotenv()\n",
    "\n",
    "agent = RagAgent(\n",
    "    model=ChatOllama(model=\"llama3.1:8b\", temperature=0),\n",
    "    tools=[qdrant_retriever_tool],\n",
    "    verbose=True,\n",
    "    graph=StateGraph(AgentState),\n",
    ").compile()\n",
    "# agent = RagAgent(\n",
    "#     model=ChatOpenAI(model_name=\"gpt-4o-mini\", temperature=0),\n",
    "#     tools=[qdrant_retriever_tool],\n",
    "#     verbose=True,\n",
    "#     graph=StateGraph(AgentState),\n",
    "# ).compile()\n",
    "\n",
    "# agent"
   ]
  },
  {
   "cell_type": "code",
   "execution_count": 150,
   "metadata": {},
   "outputs": [
    {
     "data": {
      "text/plain": [
       "id\n",
       "1dcd4b454f8bac42440259ce26a1a2192051186bb5728be489dc654a9a967d1d    <unk> <unk> <unk> <unk> aerosmith en janvier m...\n",
       "0eb5805fa23e0819f817ea10fe1fccd19e61e40a1239cc93f701fd56bd8ea66f    la très grande majorité d'entre eux ne connais...\n",
       "b6d54aefb250671e7754a688411ce9e68badcad88a665be3de78996d13b74fd2    mais titeuf ne vieillit pas le monde change ti...\n",
       "23c2d3b292d9ab0fb0d0b2b8c34f3b88708c79ffab2d6659accf565ba61f48ae    dû travailler très vite le journal arrive à no...\n",
       "71df0ce2b34afa23391d8e31d35ccd213ae2a881b7ce412813a06a60a2e47d3c    pas avoir lieu ni même européens existait ni l...\n",
       "Name: text, dtype: object"
      ]
     },
     "execution_count": 150,
     "metadata": {},
     "output_type": "execute_result"
    }
   ],
   "source": [
    "import pandas as pd\n",
    "\n",
    "data = pd.read_parquet(\"../../data/raw/4_channels_predictions_09_2023_09_2024.parquet\")\n",
    "\n",
    "data.text.head()"
   ]
  },
  {
   "cell_type": "code",
   "execution_count": 151,
   "metadata": {},
   "outputs": [
    {
     "name": "stdout",
     "output_type": "stream",
     "text": [
      "----- Classifying text -----\n",
      "Decision: Concerns Climate? no\n",
      "----- Return None -----\n"
     ]
    }
   ],
   "source": [
    "text = data.iloc[35][\"text\"]\n",
    "\n",
    "result = agent.invoke(\n",
    "    {\n",
    "        \"messages\": [\n",
    "            (\"user\", text),\n",
    "        ]\n",
    "    }\n",
    ")"
   ]
  },
  {
   "cell_type": "code",
   "execution_count": 152,
   "metadata": {},
   "outputs": [],
   "source": [
    "df = pd.read_excel(\"/Users/giuseppeguarino/Documents/d4g/climateguard/data/annotated/4_channels_review_09_2023_09_2024.xlsx\")"
   ]
  },
  {
   "cell_type": "code",
   "execution_count": 153,
   "metadata": {},
   "outputs": [
    {
     "data": {
      "text/html": [
       "<div>\n",
       "<style scoped>\n",
       "    .dataframe tbody tr th:only-of-type {\n",
       "        vertical-align: middle;\n",
       "    }\n",
       "\n",
       "    .dataframe tbody tr th {\n",
       "        vertical-align: top;\n",
       "    }\n",
       "\n",
       "    .dataframe thead th {\n",
       "        text-align: right;\n",
       "    }\n",
       "</style>\n",
       "<table border=\"1\" class=\"dataframe\">\n",
       "  <thead>\n",
       "    <tr style=\"text-align: right;\">\n",
       "      <th></th>\n",
       "      <th>id</th>\n",
       "      <th>channel_name</th>\n",
       "      <th>start</th>\n",
       "      <th>text</th>\n",
       "      <th>quote</th>\n",
       "      <th>claim</th>\n",
       "      <th>analysis</th>\n",
       "      <th>context</th>\n",
       "      <th>cards</th>\n",
       "      <th>cards_ground_truth</th>\n",
       "      <th>quote_is_correct</th>\n",
       "      <th>commentaire_cards</th>\n",
       "      <th>commentaire_quote</th>\n",
       "      <th>Highlight</th>\n",
       "    </tr>\n",
       "  </thead>\n",
       "  <tbody>\n",
       "    <tr>\n",
       "      <th>0</th>\n",
       "      <td>52061c3902c0257c7bfae7086ae50ea3998fea4204bcd6...</td>\n",
       "      <td>europe1</td>\n",
       "      <td>2023-09-08 19:34:00</td>\n",
       "      <td>Ce n'est pas seulement qu'ils ne les utilisent...</td>\n",
       "      <td>les climatologues ne croient plus leurs termes...</td>\n",
       "      <td>Les climatologues ne croient plus leurs termes...</td>\n",
       "      <td>Cette affirmation pourrait créer un doute sur ...</td>\n",
       "      <td>L'intervenant mentionne une perte de confiance...</td>\n",
       "      <td>5_science_uncertain</td>\n",
       "      <td>0_accepted</td>\n",
       "      <td>True</td>\n",
       "      <td>NaN</td>\n",
       "      <td>termes honnêtes = thermomètre ??</td>\n",
       "      <td>NaN</td>\n",
       "    </tr>\n",
       "    <tr>\n",
       "      <th>1</th>\n",
       "      <td>34a41bf34b35ee91fc147601fb8c21a366a2f568b9060b...</td>\n",
       "      <td>europe1</td>\n",
       "      <td>2023-09-15 19:30:00</td>\n",
       "      <td>Jusqu'au trente septembre, détaille Sofia au q...</td>\n",
       "      <td>Il y a beaucoup de soldats poneys menteurs à t...</td>\n",
       "      <td>Il y a beaucoup de soldats poneys menteurs à t...</td>\n",
       "      <td>Cette allégation semble suggérer que le réchau...</td>\n",
       "      <td>Lors d'une conférence de presse au Vietnam, le...</td>\n",
       "      <td>5_science_uncertain</td>\n",
       "      <td>0_accepted</td>\n",
       "      <td>True</td>\n",
       "      <td>Contexte spécifique de la phrase, les mots de ...</td>\n",
       "      <td>NaN</td>\n",
       "      <td>NaN</td>\n",
       "    </tr>\n",
       "    <tr>\n",
       "      <th>2</th>\n",
       "      <td>0fb8db32982baea27fa4a92220e76331e703d61852c0e8...</td>\n",
       "      <td>europe1</td>\n",
       "      <td>2023-09-20 07:50:00</td>\n",
       "      <td>On tente d'échapper à une tempête de pluie d'a...</td>\n",
       "      <td>tempête de pluie d'acide mortelle selon l'inrs...</td>\n",
       "      <td>tempête de pluie d'acide mortelle enregistrée ...</td>\n",
       "      <td>L'allégation mentionne une tempête de pluie d'...</td>\n",
       "      <td>Dans une discussion sur un film catastrophe éc...</td>\n",
       "      <td>1_its_not_happening</td>\n",
       "      <td>0_accepted</td>\n",
       "      <td>True</td>\n",
       "      <td>Contexte spécifique de la phrase, la claim men...</td>\n",
       "      <td>NaN</td>\n",
       "      <td>NaN</td>\n",
       "    </tr>\n",
       "    <tr>\n",
       "      <th>3</th>\n",
       "      <td>4792f93c6614b1e7ef39e301cc6c1d0f4d3d18b9421cc3...</td>\n",
       "      <td>europe1</td>\n",
       "      <td>2023-10-02 07:54:00</td>\n",
       "      <td>Les Français n'arrivent pas à se loger, c'est ...</td>\n",
       "      <td>Ça va de l'interdiction des avions d'affaires ...</td>\n",
       "      <td>Diminuer le nombre de vaches et contrôler les ...</td>\n",
       "      <td>Cette affirmation présente des mesures qui n'o...</td>\n",
       "      <td>L'interlocuteur mentionne plusieurs mesures ex...</td>\n",
       "      <td>3_impacts_not_bad</td>\n",
       "      <td>6_proponents_biased</td>\n",
       "      <td>True</td>\n",
       "      <td>NaN</td>\n",
       "      <td>NaN</td>\n",
       "      <td>NaN</td>\n",
       "    </tr>\n",
       "    <tr>\n",
       "      <th>4</th>\n",
       "      <td>74c05fdbca4aeffb643abf0de486b57f8299051d4ef71b...</td>\n",
       "      <td>europe1</td>\n",
       "      <td>2023-10-05 19:54:00</td>\n",
       "      <td>Le réchauffement climatique a été collecté à G...</td>\n",
       "      <td>on ne peut pas faire le lien directement avec ...</td>\n",
       "      <td>On ne peut pas faire le lien directement avec ...</td>\n",
       "      <td>Cette assertion minimise le consensus scientif...</td>\n",
       "      <td>Luc Moreau énonce lui-même qu'il est difficile...</td>\n",
       "      <td>2_humans_not_the_cause</td>\n",
       "      <td>2_humans_not_the_cause</td>\n",
       "      <td>True</td>\n",
       "      <td>NaN</td>\n",
       "      <td>NaN</td>\n",
       "      <td>NaN</td>\n",
       "    </tr>\n",
       "    <tr>\n",
       "      <th>...</th>\n",
       "      <td>...</td>\n",
       "      <td>...</td>\n",
       "      <td>...</td>\n",
       "      <td>...</td>\n",
       "      <td>...</td>\n",
       "      <td>...</td>\n",
       "      <td>...</td>\n",
       "      <td>...</td>\n",
       "      <td>...</td>\n",
       "      <td>...</td>\n",
       "      <td>...</td>\n",
       "      <td>...</td>\n",
       "      <td>...</td>\n",
       "      <td>...</td>\n",
       "    </tr>\n",
       "    <tr>\n",
       "      <th>540</th>\n",
       "      <td>22d30e47c43d8defe1bdab51e6e4c6374ba982d76de889...</td>\n",
       "      <td>tf1</td>\n",
       "      <td>2024-04-23 20:36:00</td>\n",
       "      <td>Plus chaud de ces dix dernières années, le tem...</td>\n",
       "      <td>Il n'y a plus ni eau ni printemps.</td>\n",
       "      <td>Il n'y a plus ni eau ni printemps.</td>\n",
       "      <td>Cette affirmation semble exagérée et pourrait ...</td>\n",
       "      <td>L'orateur évoque un changement climatique qui ...</td>\n",
       "      <td>1_its_not_happening</td>\n",
       "      <td>0_accepted</td>\n",
       "      <td>False</td>\n",
       "      <td>NaN</td>\n",
       "      <td>Problème de retranscription, plus automne ni p...</td>\n",
       "      <td>NaN</td>\n",
       "    </tr>\n",
       "    <tr>\n",
       "      <th>541</th>\n",
       "      <td>58feacdc4a4d31023a87bce158ee902d37076d9f5562f3...</td>\n",
       "      <td>tf1</td>\n",
       "      <td>2024-04-28 20:40:00</td>\n",
       "      <td>Aujourd'hui, ce fameux pacte d'immigration qui...</td>\n",
       "      <td>ce tsunami de normes de contraintes de taxe qu...</td>\n",
       "      <td>Le pacte vert européen organise la décroissance.</td>\n",
       "      <td>Cette affirmation attribue une intention de dé...</td>\n",
       "      <td>Lors d'un discours critique à l'égard des poli...</td>\n",
       "      <td>4_solutions_harmful_unnecessary</td>\n",
       "      <td>4_solutions_harmful_unnecessary</td>\n",
       "      <td>True</td>\n",
       "      <td>NaN</td>\n",
       "      <td>NaN</td>\n",
       "      <td>NaN</td>\n",
       "    </tr>\n",
       "    <tr>\n",
       "      <th>542</th>\n",
       "      <td>6d39a0d45c359fd2183c0f1f001b76c4b60d283240e5c3...</td>\n",
       "      <td>tf1</td>\n",
       "      <td>2024-06-16 18:04:00</td>\n",
       "      <td>Avec l'aide de nos fournisseurs, si il s'avère...</td>\n",
       "      <td>l'entreprise n'a pas voulu nous dire combien d...</td>\n",
       "      <td>L'huile de palme serait aujourd'hui une soluti...</td>\n",
       "      <td>Cette allégation semble minimiser les impacts ...</td>\n",
       "      <td>Dans un débat sur les pratiques de certains fo...</td>\n",
       "      <td>4_solutions_harmful_unnecessary</td>\n",
       "      <td>0_accepted</td>\n",
       "      <td>True</td>\n",
       "      <td>Potentiellement plutôt du greenwashing</td>\n",
       "      <td>NaN</td>\n",
       "      <td>NaN</td>\n",
       "    </tr>\n",
       "    <tr>\n",
       "      <th>543</th>\n",
       "      <td>0718ef4df3559735ad33436f7e1e39802a71d923cbc0b9...</td>\n",
       "      <td>tf1</td>\n",
       "      <td>2024-07-21 17:14:00</td>\n",
       "      <td>En France, plusieurs millions de maisons sont ...</td>\n",
       "      <td>le dérèglement climatique phénomène naturel.</td>\n",
       "      <td>Le dérèglement climatique est un phénomène nat...</td>\n",
       "      <td>Cette affirmation contredit le consensus scien...</td>\n",
       "      <td>Une affirmation selon laquelle les changements...</td>\n",
       "      <td>2_humans_not_the_cause</td>\n",
       "      <td>0_accepted</td>\n",
       "      <td>True</td>\n",
       "      <td>Légitime mais tellement court que ça a l'air d...</td>\n",
       "      <td>NaN</td>\n",
       "      <td>NaN</td>\n",
       "    </tr>\n",
       "    <tr>\n",
       "      <th>544</th>\n",
       "      <td>cdfed233896d49971897df448465dd43b79ae871b33adb...</td>\n",
       "      <td>tf1</td>\n",
       "      <td>2024-08-05 09:16:00</td>\n",
       "      <td>Les insectes, non, on pense que c'est la chale...</td>\n",
       "      <td>le progrès sur le réchauffement climatique la ...</td>\n",
       "      <td>La climatisation industrialisée a été une répo...</td>\n",
       "      <td>Ce claim fait l'impasse sur le fait que la gén...</td>\n",
       "      <td>Il est mentionné que la climatisation, qui est...</td>\n",
       "      <td>3_impacts_not_bad</td>\n",
       "      <td>0_accepted</td>\n",
       "      <td>True</td>\n",
       "      <td>Mauvaise interprétation de la claim, qui menti...</td>\n",
       "      <td>NaN</td>\n",
       "      <td>NaN</td>\n",
       "    </tr>\n",
       "  </tbody>\n",
       "</table>\n",
       "<p>370 rows × 14 columns</p>\n",
       "</div>"
      ],
      "text/plain": [
       "                                                    id channel_name  \\\n",
       "0    52061c3902c0257c7bfae7086ae50ea3998fea4204bcd6...      europe1   \n",
       "1    34a41bf34b35ee91fc147601fb8c21a366a2f568b9060b...      europe1   \n",
       "2    0fb8db32982baea27fa4a92220e76331e703d61852c0e8...      europe1   \n",
       "3    4792f93c6614b1e7ef39e301cc6c1d0f4d3d18b9421cc3...      europe1   \n",
       "4    74c05fdbca4aeffb643abf0de486b57f8299051d4ef71b...      europe1   \n",
       "..                                                 ...          ...   \n",
       "540  22d30e47c43d8defe1bdab51e6e4c6374ba982d76de889...          tf1   \n",
       "541  58feacdc4a4d31023a87bce158ee902d37076d9f5562f3...          tf1   \n",
       "542  6d39a0d45c359fd2183c0f1f001b76c4b60d283240e5c3...          tf1   \n",
       "543  0718ef4df3559735ad33436f7e1e39802a71d923cbc0b9...          tf1   \n",
       "544  cdfed233896d49971897df448465dd43b79ae871b33adb...          tf1   \n",
       "\n",
       "                   start                                               text  \\\n",
       "0    2023-09-08 19:34:00  Ce n'est pas seulement qu'ils ne les utilisent...   \n",
       "1    2023-09-15 19:30:00  Jusqu'au trente septembre, détaille Sofia au q...   \n",
       "2    2023-09-20 07:50:00  On tente d'échapper à une tempête de pluie d'a...   \n",
       "3    2023-10-02 07:54:00  Les Français n'arrivent pas à se loger, c'est ...   \n",
       "4    2023-10-05 19:54:00  Le réchauffement climatique a été collecté à G...   \n",
       "..                   ...                                                ...   \n",
       "540  2024-04-23 20:36:00  Plus chaud de ces dix dernières années, le tem...   \n",
       "541  2024-04-28 20:40:00  Aujourd'hui, ce fameux pacte d'immigration qui...   \n",
       "542  2024-06-16 18:04:00  Avec l'aide de nos fournisseurs, si il s'avère...   \n",
       "543  2024-07-21 17:14:00  En France, plusieurs millions de maisons sont ...   \n",
       "544  2024-08-05 09:16:00  Les insectes, non, on pense que c'est la chale...   \n",
       "\n",
       "                                                 quote  \\\n",
       "0    les climatologues ne croient plus leurs termes...   \n",
       "1    Il y a beaucoup de soldats poneys menteurs à t...   \n",
       "2    tempête de pluie d'acide mortelle selon l'inrs...   \n",
       "3    Ça va de l'interdiction des avions d'affaires ...   \n",
       "4    on ne peut pas faire le lien directement avec ...   \n",
       "..                                                 ...   \n",
       "540                 Il n'y a plus ni eau ni printemps.   \n",
       "541  ce tsunami de normes de contraintes de taxe qu...   \n",
       "542  l'entreprise n'a pas voulu nous dire combien d...   \n",
       "543       le dérèglement climatique phénomène naturel.   \n",
       "544  le progrès sur le réchauffement climatique la ...   \n",
       "\n",
       "                                                 claim  \\\n",
       "0    Les climatologues ne croient plus leurs termes...   \n",
       "1    Il y a beaucoup de soldats poneys menteurs à t...   \n",
       "2    tempête de pluie d'acide mortelle enregistrée ...   \n",
       "3    Diminuer le nombre de vaches et contrôler les ...   \n",
       "4    On ne peut pas faire le lien directement avec ...   \n",
       "..                                                 ...   \n",
       "540                 Il n'y a plus ni eau ni printemps.   \n",
       "541   Le pacte vert européen organise la décroissance.   \n",
       "542  L'huile de palme serait aujourd'hui une soluti...   \n",
       "543  Le dérèglement climatique est un phénomène nat...   \n",
       "544  La climatisation industrialisée a été une répo...   \n",
       "\n",
       "                                              analysis  \\\n",
       "0    Cette affirmation pourrait créer un doute sur ...   \n",
       "1    Cette allégation semble suggérer que le réchau...   \n",
       "2    L'allégation mentionne une tempête de pluie d'...   \n",
       "3    Cette affirmation présente des mesures qui n'o...   \n",
       "4    Cette assertion minimise le consensus scientif...   \n",
       "..                                                 ...   \n",
       "540  Cette affirmation semble exagérée et pourrait ...   \n",
       "541  Cette affirmation attribue une intention de dé...   \n",
       "542  Cette allégation semble minimiser les impacts ...   \n",
       "543  Cette affirmation contredit le consensus scien...   \n",
       "544  Ce claim fait l'impasse sur le fait que la gén...   \n",
       "\n",
       "                                               context  \\\n",
       "0    L'intervenant mentionne une perte de confiance...   \n",
       "1    Lors d'une conférence de presse au Vietnam, le...   \n",
       "2    Dans une discussion sur un film catastrophe éc...   \n",
       "3    L'interlocuteur mentionne plusieurs mesures ex...   \n",
       "4    Luc Moreau énonce lui-même qu'il est difficile...   \n",
       "..                                                 ...   \n",
       "540  L'orateur évoque un changement climatique qui ...   \n",
       "541  Lors d'un discours critique à l'égard des poli...   \n",
       "542  Dans un débat sur les pratiques de certains fo...   \n",
       "543  Une affirmation selon laquelle les changements...   \n",
       "544  Il est mentionné que la climatisation, qui est...   \n",
       "\n",
       "                               cards               cards_ground_truth  \\\n",
       "0                5_science_uncertain                       0_accepted   \n",
       "1                5_science_uncertain                       0_accepted   \n",
       "2                1_its_not_happening                       0_accepted   \n",
       "3                  3_impacts_not_bad              6_proponents_biased   \n",
       "4             2_humans_not_the_cause           2_humans_not_the_cause   \n",
       "..                               ...                              ...   \n",
       "540              1_its_not_happening                       0_accepted   \n",
       "541  4_solutions_harmful_unnecessary  4_solutions_harmful_unnecessary   \n",
       "542  4_solutions_harmful_unnecessary                       0_accepted   \n",
       "543           2_humans_not_the_cause                       0_accepted   \n",
       "544                3_impacts_not_bad                       0_accepted   \n",
       "\n",
       "    quote_is_correct                                  commentaire_cards  \\\n",
       "0               True                                                NaN   \n",
       "1               True  Contexte spécifique de la phrase, les mots de ...   \n",
       "2               True  Contexte spécifique de la phrase, la claim men...   \n",
       "3               True                                                NaN   \n",
       "4               True                                                NaN   \n",
       "..               ...                                                ...   \n",
       "540            False                                                NaN   \n",
       "541             True                                                NaN   \n",
       "542             True            Potentiellement plutôt du greenwashing    \n",
       "543             True  Légitime mais tellement court que ça a l'air d...   \n",
       "544             True  Mauvaise interprétation de la claim, qui menti...   \n",
       "\n",
       "                                     commentaire_quote  Highlight  \n",
       "0                     termes honnêtes = thermomètre ??        NaN  \n",
       "1                                                  NaN        NaN  \n",
       "2                                                  NaN        NaN  \n",
       "3                                                  NaN        NaN  \n",
       "4                                                  NaN        NaN  \n",
       "..                                                 ...        ...  \n",
       "540  Problème de retranscription, plus automne ni p...        NaN  \n",
       "541                                                NaN        NaN  \n",
       "542                                                NaN        NaN  \n",
       "543                                                NaN        NaN  \n",
       "544                                                NaN        NaN  \n",
       "\n",
       "[370 rows x 14 columns]"
      ]
     },
     "execution_count": 153,
     "metadata": {},
     "output_type": "execute_result"
    }
   ],
   "source": [
    "df = df.drop(df.loc[df.cards_ground_truth.isna()].index)\n",
    "df\n"
   ]
  },
  {
   "cell_type": "code",
   "execution_count": 154,
   "metadata": {},
   "outputs": [
    {
     "name": "stdout",
     "output_type": "stream",
     "text": [
      "Ground Truth: 0_accepted\n",
      "----- Classifying text -----\n",
      "Decision: Concerns Climate? yes\n",
      "----- Extract claim -----\n",
      "Une étude d'impact a obligé à dire la réalité aux citoyens : ces métaux, nous devons les importer et donc signer des accords de libre-échange.\n",
      "----- Classificator Retrieve similar records -----\n",
      "Found:\n",
      "*6_proponents_biased: Without a hearing, German officials have fined her and demanded costs on the ground that in her devastatingly effective videos she has dared to question the Party Line about what officialdom profiteers by presenting as ‘dangerous’ manmade global warming,” Monckton claimed at JunkScience s a result of this arbitrary and capricious prosecution and conviction without trial, Naomi has had her earnings cut off. Please donate securely and directly to her Patreon account at https://www.patreon.com/naomiseibtmy. May I suggest at least $10 per month? That would be a real life-saver, and would enable Naomi to continue her valuable work.\n",
      "*6_proponents_biased: Without a hearing, German officials have fined her and demanded costs on the ground that in her devastatingly effective videos she has dared to question the Party Line about what officialdom profiteers by presenting as ‘dangerous’ manmade global warming,” Monckton claimed at JunkScience s a result of this arbitrary and capricious prosecution and conviction without trial, Naomi has had her earnings cut off. Please donate securely and directly to her Patreon account at https://www.patreon.com/naomiseibtmy. May I suggest at least $10 per month? That would be a real life-saver, and would enable Naomi to continue her valuable work.\n",
      "*0_not_relevant: In a presentation at the Philanthropy Roundtable’s 1995 annual conference, Richard Fink, president of the Charles G. Koch and Claude R. Lambe charitable foundations, made good use of market metaphors to outline how foundations can exert the greatest impact on public policy. Adapting laissez-faire economist Friedrich Hayek’s model of the production process to social change grant-making, Fink argued that the translation of ideas into action requires the development of intellectual raw materials, their conversion into specific policy products, and the marketing and distribution of these products to citizen-consumers Grantmakers, Fink argued, would do well to invest in change along the entire production continuum, funding scholars and university programs where the intellectual framework for social transformation is developed, think tanks where scholarly ideas get translated into specific policy proposals, and implementation groups to bring these proposals into the political marketplace and eventually to consumers.\n",
      "*0_not_relevant: Her policies make the environment worse while turning millions of Americans into paupers.\n",
      "*1_not_happening: Well, it’s a silly plan. That’s why I suggested [Rep. Alexandria Ocasio-Cortez] was a pompous little twit. ‘Twit,’ meaning, ‘silly’ in the British lexicon and, ‘pompous,’ meaning, ‘arrogant.’ She really rubbed me the wrong way when she said she’s ‘the boss,’ because she can make up a proposal that’s completely ridiculous and no one else did. And that is what’s wrong about this. In fact, the whole climate crisis, as they call it, is not only fake news, it’s fake science. There is no climate crisis. There is weather and climate all around the world. And, in fact, carbon dioxide is the main building block of all life. That’s where the carbon comes from in carbon-based life, which is all life on land and in the sea. And, not only that, a little bit of warming would not be a bad thing for myself, being a Canadian, and the people in Russia wouldn’t mind a little couple of degrees warmer either.\n",
      "----- Classify Claim -----\n",
      "{\n",
      "  \"analysis\": \"The claim implies that the reality of importing metals for electric vehicles would require signing agreements that contradict the narrative on renewable energy and reducing consumption.\",\n",
      "  \"category\": \"6_proponents_biased\"\n",
      "}\n",
      "{'classification': '6_proponents_biased', 'text': \"Elle a la fâcheuse habitude de penser qu'elle peut fixer un objectif sur un coin de table et que cela suffit à faire une politique publique, sans jamais demander comment ni avec quels effets l'intendance suivra. Elle a fait exactement la même chose avec l'agriculture. On en a beaucoup parlé ici. La seconde raison pour laquelle elle a soigneusement évité d'étudier l'impact, c'est qu'elle pressentait que les réponses obligeraient à confronter la pensée magique à la réalité, une réalité qui supposait de tordre le cou à un certain nombre de dogmes écologiques. Et ça, ça n'a pas bonne presse. Alors, ces dogmes, en l'occurrence, viennent d'abord du dogme de la décroissance, qui continue à façonner la pensée de toute une partie de la gauche européenne. Pour transformer le parc automobile, il faut construire de grandes usines de pièces de batteries. Or, il est devenu quasiment impossible d'en implanter en France et dans toute une partie de l'Europe. Elles font toutes systématiquement l'objet d'oppositions. Regardez ce qui se passe à Maubeuge avec un projet d'implantation d'une usine de batteries. Une étude d'impact, ça signifiait d'écrire noir sur blanc qu'il fallait de grandes usines ou alors renoncer à notre secteur automobile pour importer tout ça. Eh bien, c'est dur à assumer, c'est inadmissible. Même s'il faut aussi des métaux, il faut des terres rares pour faire la voiture électrique. Mais là encore, une étude d'impact a obligé à dire la réalité aux citoyens : ces métaux, nous devons les importer et donc signer des accords de libre-échange. Ou alors, il faut recommencer à ouvrir des mines ici, sur le sol européen. Regardez ce qui se passe dans l'Allier où un projet de mine de lithium est extrêmement contesté. La stratégie de la commission européenne a plutôt consisté à exporter loin, très loin, les nuisances environnementales. Eh bien, tout cela, ça ne colle pas avec le narratif. Les conséquences de l'objectif tout électrique sont dures à assumer face à l'électorat. Plus question de l'électricité pour faire tourner ces voitures électriques. Préférer la transformation du parc automobile implique une croissance très importante des usages électriques, et ça ne s'accorde ni avec le discours sur le tout renouvelable ni avec le discours sur la baisse de la consommation. C'est antinomique. Une étude d'impact sur la voiture électrique, ça obligeait à poser clairement la réalité : nous avons besoin de produire beaucoup plus de façon stable et décarbonée. Eh bien, ça suppose une chose : du nucléaire.\", 'claim': \"Une étude d'impact a obligé à dire la réalité aux citoyens : ces métaux, nous devons les importer et donc signer des accords de libre-échange.\"}\n",
      "CARDS Classification:\n",
      "6_proponents_biased\n",
      "----- Return Result -----\n"
     ]
    },
    {
     "data": {
      "text/plain": [
       "{'messages': [HumanMessage(content=\"Elle a la fâcheuse habitude de penser qu'elle peut fixer un objectif sur un coin de table et que cela suffit à faire une politique publique, sans jamais demander comment ni avec quels effets l'intendance suivra. Elle a fait exactement la même chose avec l'agriculture. On en a beaucoup parlé ici. La seconde raison pour laquelle elle a soigneusement évité d'étudier l'impact, c'est qu'elle pressentait que les réponses obligeraient à confronter la pensée magique à la réalité, une réalité qui supposait de tordre le cou à un certain nombre de dogmes écologiques. Et ça, ça n'a pas bonne presse. Alors, ces dogmes, en l'occurrence, viennent d'abord du dogme de la décroissance, qui continue à façonner la pensée de toute une partie de la gauche européenne. Pour transformer le parc automobile, il faut construire de grandes usines de pièces de batteries. Or, il est devenu quasiment impossible d'en implanter en France et dans toute une partie de l'Europe. Elles font toutes systématiquement l'objet d'oppositions. Regardez ce qui se passe à Maubeuge avec un projet d'implantation d'une usine de batteries. Une étude d'impact, ça signifiait d'écrire noir sur blanc qu'il fallait de grandes usines ou alors renoncer à notre secteur automobile pour importer tout ça. Eh bien, c'est dur à assumer, c'est inadmissible. Même s'il faut aussi des métaux, il faut des terres rares pour faire la voiture électrique. Mais là encore, une étude d'impact a obligé à dire la réalité aux citoyens : ces métaux, nous devons les importer et donc signer des accords de libre-échange. Ou alors, il faut recommencer à ouvrir des mines ici, sur le sol européen. Regardez ce qui se passe dans l'Allier où un projet de mine de lithium est extrêmement contesté. La stratégie de la commission européenne a plutôt consisté à exporter loin, très loin, les nuisances environnementales. Eh bien, tout cela, ça ne colle pas avec le narratif. Les conséquences de l'objectif tout électrique sont dures à assumer face à l'électorat. Plus question de l'électricité pour faire tourner ces voitures électriques. Préférer la transformation du parc automobile implique une croissance très importante des usages électriques, et ça ne s'accorde ni avec le discours sur le tout renouvelable ni avec le discours sur la baisse de la consommation. C'est antinomique. Une étude d'impact sur la voiture électrique, ça obligeait à poser clairement la réalité : nous avons besoin de produire beaucoup plus de façon stable et décarbonée. Eh bien, ça suppose une chose : du nucléaire.\", additional_kwargs={}, response_metadata={}, id='83cc0f22-a2ac-4c4b-b20d-792906068e5f'),\n",
       "  HumanMessage(content='yes', additional_kwargs={}, response_metadata={}, id='62c4a6aa-25a3-47ad-9640-a5641fb2db76'),\n",
       "  HumanMessage(content='{\"claim\": \"Une \\\\u00e9tude d\\'impact a oblig\\\\u00e9 \\\\u00e0 dire la r\\\\u00e9alit\\\\u00e9 aux citoyens : ces m\\\\u00e9taux, nous devons les importer et donc signer des accords de libre-\\\\u00e9change.\", \"text\": \"Elle a la f\\\\u00e2cheuse habitude de penser qu\\'elle peut fixer un objectif sur un coin de table et que cela suffit \\\\u00e0 faire une politique publique, sans jamais demander comment ni avec quels effets l\\'intendance suivra. Elle a fait exactement la m\\\\u00eame chose avec l\\'agriculture. On en a beaucoup parl\\\\u00e9 ici. La seconde raison pour laquelle elle a soigneusement \\\\u00e9vit\\\\u00e9 d\\'\\\\u00e9tudier l\\'impact, c\\'est qu\\'elle pressentait que les r\\\\u00e9ponses obligeraient \\\\u00e0 confronter la pens\\\\u00e9e magique \\\\u00e0 la r\\\\u00e9alit\\\\u00e9, une r\\\\u00e9alit\\\\u00e9 qui supposait de tordre le cou \\\\u00e0 un certain nombre de dogmes \\\\u00e9cologiques. Et \\\\u00e7a, \\\\u00e7a n\\'a pas bonne presse. Alors, ces dogmes, en l\\'occurrence, viennent d\\'abord du dogme de la d\\\\u00e9croissance, qui continue \\\\u00e0 fa\\\\u00e7onner la pens\\\\u00e9e de toute une partie de la gauche europ\\\\u00e9enne. Pour transformer le parc automobile, il faut construire de grandes usines de pi\\\\u00e8ces de batteries. Or, il est devenu quasiment impossible d\\'en implanter en France et dans toute une partie de l\\'Europe. Elles font toutes syst\\\\u00e9matiquement l\\'objet d\\'oppositions. Regardez ce qui se passe \\\\u00e0 Maubeuge avec un projet d\\'implantation d\\'une usine de batteries. Une \\\\u00e9tude d\\'impact, \\\\u00e7a signifiait d\\'\\\\u00e9crire noir sur blanc qu\\'il fallait de grandes usines ou alors renoncer \\\\u00e0 notre secteur automobile pour importer tout \\\\u00e7a. Eh bien, c\\'est dur \\\\u00e0 assumer, c\\'est inadmissible. M\\\\u00eame s\\'il faut aussi des m\\\\u00e9taux, il faut des terres rares pour faire la voiture \\\\u00e9lectrique. Mais l\\\\u00e0 encore, une \\\\u00e9tude d\\'impact a oblig\\\\u00e9 \\\\u00e0 dire la r\\\\u00e9alit\\\\u00e9 aux citoyens : ces m\\\\u00e9taux, nous devons les importer et donc signer des accords de libre-\\\\u00e9change. Ou alors, il faut recommencer \\\\u00e0 ouvrir des mines ici, sur le sol europ\\\\u00e9en. Regardez ce qui se passe dans l\\'Allier o\\\\u00f9 un projet de mine de lithium est extr\\\\u00eamement contest\\\\u00e9. La strat\\\\u00e9gie de la commission europ\\\\u00e9enne a plut\\\\u00f4t consist\\\\u00e9 \\\\u00e0 exporter loin, tr\\\\u00e8s loin, les nuisances environnementales. Eh bien, tout cela, \\\\u00e7a ne colle pas avec le narratif. Les cons\\\\u00e9quences de l\\'objectif tout \\\\u00e9lectrique sont dures \\\\u00e0 assumer face \\\\u00e0 l\\'\\\\u00e9lectorat. Plus question de l\\'\\\\u00e9lectricit\\\\u00e9 pour faire tourner ces voitures \\\\u00e9lectriques. Pr\\\\u00e9f\\\\u00e9rer la transformation du parc automobile implique une croissance tr\\\\u00e8s importante des usages \\\\u00e9lectriques, et \\\\u00e7a ne s\\'accorde ni avec le discours sur le tout renouvelable ni avec le discours sur la baisse de la consommation. C\\'est antinomique. Une \\\\u00e9tude d\\'impact sur la voiture \\\\u00e9lectrique, \\\\u00e7a obligeait \\\\u00e0 poser clairement la r\\\\u00e9alit\\\\u00e9 : nous avons besoin de produire beaucoup plus de fa\\\\u00e7on stable et d\\\\u00e9carbon\\\\u00e9e. Eh bien, \\\\u00e7a suppose une chose : du nucl\\\\u00e9aire.\"}', additional_kwargs={}, response_metadata={}, id='21afb1aa-6075-4407-941c-066e2e1566e5'),\n",
       "  HumanMessage(content='*6_proponents_biased: Without a hearing, German officials have fined her and demanded costs on the ground that in her devastatingly effective videos she has dared to question the Party Line about what officialdom profiteers by presenting as ‘dangerous’\\xa0manmade global warming,” Monckton claimed at JunkScience s a result of this arbitrary and capricious prosecution and conviction without trial, Naomi has had her earnings cut off. Please donate securely and directly to her Patreon account at https://www.patreon.com/naomiseibtmy. May I suggest at least $10 per month? That would be a real life-saver, and would enable Naomi to continue her valuable work.\\n*6_proponents_biased: Without a hearing, German officials have fined her and demanded costs on the ground that in her devastatingly effective videos she has dared to question the Party Line about what officialdom profiteers by presenting as ‘dangerous’ manmade global warming,” Monckton claimed at JunkScience s a result of this arbitrary and capricious prosecution and conviction without trial, Naomi has had her earnings cut off. Please donate securely and directly to her Patreon account at https://www.patreon.com/naomiseibtmy. May I suggest at least $10 per month? That would be a real life-saver, and would enable Naomi to continue her valuable work.\\n*0_not_relevant: In a presentation at the Philanthropy Roundtable’s 1995 annual conference, Richard Fink, president of the Charles G. Koch and Claude R. Lambe charitable foundations, made good use of market metaphors to outline how foundations can exert the greatest impact on public policy. Adapting laissez-faire economist Friedrich Hayek’s model of the production process to social change grant-making, Fink argued that the translation of ideas into action requires the development of intellectual raw materials, their conversion into specific policy products, and the marketing and distribution of these products to citizen-consumers Grantmakers, Fink argued, would do well to invest in change along the entire production continuum, funding scholars and university programs where the intellectual framework for social transformation is developed, think tanks where scholarly ideas get translated into specific policy proposals, and implementation groups to bring these proposals into the political marketplace and eventually to consumers.\\n*0_not_relevant: Her policies make the environment worse while turning millions of Americans into paupers.\\n*1_not_happening: Well, it’s a silly plan. That’s why I suggested [Rep. Alexandria Ocasio-Cortez] was a pompous little twit. ‘Twit,’\\xa0meaning, ‘silly’\\xa0in the British lexicon and, ‘pompous,’\\xa0meaning, ‘arrogant.’\\xa0She really rubbed me the wrong way when she said she’s ‘the boss,’\\xa0because she can make up a proposal that’s completely ridiculous and no one else did. And that is what’s wrong about\\xa0this. In fact, the whole climate crisis, as they call it, is not only fake news, it’s fake science. There is no climate crisis. There is weather and climate all around the world. And, in fact, carbon dioxide is the main building block of all life. That’s where the carbon comes from in carbon-based life, which is all life on land and in the sea. And, not only that, a little bit of warming would not be a bad thing for myself, being a Canadian, and the people in Russia wouldn’t mind a little couple of degrees warmer\\xa0either.', additional_kwargs={}, response_metadata={}, id='4969e4b8-245f-4ab2-94ee-6161432523cb'),\n",
       "  HumanMessage(content='{\"classification\": \"6_proponents_biased\", \"text\": \"Elle a la f\\\\u00e2cheuse habitude de penser qu\\'elle peut fixer un objectif sur un coin de table et que cela suffit \\\\u00e0 faire une politique publique, sans jamais demander comment ni avec quels effets l\\'intendance suivra. Elle a fait exactement la m\\\\u00eame chose avec l\\'agriculture. On en a beaucoup parl\\\\u00e9 ici. La seconde raison pour laquelle elle a soigneusement \\\\u00e9vit\\\\u00e9 d\\'\\\\u00e9tudier l\\'impact, c\\'est qu\\'elle pressentait que les r\\\\u00e9ponses obligeraient \\\\u00e0 confronter la pens\\\\u00e9e magique \\\\u00e0 la r\\\\u00e9alit\\\\u00e9, une r\\\\u00e9alit\\\\u00e9 qui supposait de tordre le cou \\\\u00e0 un certain nombre de dogmes \\\\u00e9cologiques. Et \\\\u00e7a, \\\\u00e7a n\\'a pas bonne presse. Alors, ces dogmes, en l\\'occurrence, viennent d\\'abord du dogme de la d\\\\u00e9croissance, qui continue \\\\u00e0 fa\\\\u00e7onner la pens\\\\u00e9e de toute une partie de la gauche europ\\\\u00e9enne. Pour transformer le parc automobile, il faut construire de grandes usines de pi\\\\u00e8ces de batteries. Or, il est devenu quasiment impossible d\\'en implanter en France et dans toute une partie de l\\'Europe. Elles font toutes syst\\\\u00e9matiquement l\\'objet d\\'oppositions. Regardez ce qui se passe \\\\u00e0 Maubeuge avec un projet d\\'implantation d\\'une usine de batteries. Une \\\\u00e9tude d\\'impact, \\\\u00e7a signifiait d\\'\\\\u00e9crire noir sur blanc qu\\'il fallait de grandes usines ou alors renoncer \\\\u00e0 notre secteur automobile pour importer tout \\\\u00e7a. Eh bien, c\\'est dur \\\\u00e0 assumer, c\\'est inadmissible. M\\\\u00eame s\\'il faut aussi des m\\\\u00e9taux, il faut des terres rares pour faire la voiture \\\\u00e9lectrique. Mais l\\\\u00e0 encore, une \\\\u00e9tude d\\'impact a oblig\\\\u00e9 \\\\u00e0 dire la r\\\\u00e9alit\\\\u00e9 aux citoyens : ces m\\\\u00e9taux, nous devons les importer et donc signer des accords de libre-\\\\u00e9change. Ou alors, il faut recommencer \\\\u00e0 ouvrir des mines ici, sur le sol europ\\\\u00e9en. Regardez ce qui se passe dans l\\'Allier o\\\\u00f9 un projet de mine de lithium est extr\\\\u00eamement contest\\\\u00e9. La strat\\\\u00e9gie de la commission europ\\\\u00e9enne a plut\\\\u00f4t consist\\\\u00e9 \\\\u00e0 exporter loin, tr\\\\u00e8s loin, les nuisances environnementales. Eh bien, tout cela, \\\\u00e7a ne colle pas avec le narratif. Les cons\\\\u00e9quences de l\\'objectif tout \\\\u00e9lectrique sont dures \\\\u00e0 assumer face \\\\u00e0 l\\'\\\\u00e9lectorat. Plus question de l\\'\\\\u00e9lectricit\\\\u00e9 pour faire tourner ces voitures \\\\u00e9lectriques. Pr\\\\u00e9f\\\\u00e9rer la transformation du parc automobile implique une croissance tr\\\\u00e8s importante des usages \\\\u00e9lectriques, et \\\\u00e7a ne s\\'accorde ni avec le discours sur le tout renouvelable ni avec le discours sur la baisse de la consommation. C\\'est antinomique. Une \\\\u00e9tude d\\'impact sur la voiture \\\\u00e9lectrique, \\\\u00e7a obligeait \\\\u00e0 poser clairement la r\\\\u00e9alit\\\\u00e9 : nous avons besoin de produire beaucoup plus de fa\\\\u00e7on stable et d\\\\u00e9carbon\\\\u00e9e. Eh bien, \\\\u00e7a suppose une chose : du nucl\\\\u00e9aire.\", \"claim\": \"Une \\\\u00e9tude d\\'impact a oblig\\\\u00e9 \\\\u00e0 dire la r\\\\u00e9alit\\\\u00e9 aux citoyens : ces m\\\\u00e9taux, nous devons les importer et donc signer des accords de libre-\\\\u00e9change.\"}', additional_kwargs={}, response_metadata={}, id='a45573a1-cef6-46c0-a299-79e91446adc0'),\n",
       "  HumanMessage(content='{\"classification\": \"6_proponents_biased\", \"text\": \"Elle a la f\\\\u00e2cheuse habitude de penser qu\\'elle peut fixer un objectif sur un coin de table et que cela suffit \\\\u00e0 faire une politique publique, sans jamais demander comment ni avec quels effets l\\'intendance suivra. Elle a fait exactement la m\\\\u00eame chose avec l\\'agriculture. On en a beaucoup parl\\\\u00e9 ici. La seconde raison pour laquelle elle a soigneusement \\\\u00e9vit\\\\u00e9 d\\'\\\\u00e9tudier l\\'impact, c\\'est qu\\'elle pressentait que les r\\\\u00e9ponses obligeraient \\\\u00e0 confronter la pens\\\\u00e9e magique \\\\u00e0 la r\\\\u00e9alit\\\\u00e9, une r\\\\u00e9alit\\\\u00e9 qui supposait de tordre le cou \\\\u00e0 un certain nombre de dogmes \\\\u00e9cologiques. Et \\\\u00e7a, \\\\u00e7a n\\'a pas bonne presse. Alors, ces dogmes, en l\\'occurrence, viennent d\\'abord du dogme de la d\\\\u00e9croissance, qui continue \\\\u00e0 fa\\\\u00e7onner la pens\\\\u00e9e de toute une partie de la gauche europ\\\\u00e9enne. Pour transformer le parc automobile, il faut construire de grandes usines de pi\\\\u00e8ces de batteries. Or, il est devenu quasiment impossible d\\'en implanter en France et dans toute une partie de l\\'Europe. Elles font toutes syst\\\\u00e9matiquement l\\'objet d\\'oppositions. Regardez ce qui se passe \\\\u00e0 Maubeuge avec un projet d\\'implantation d\\'une usine de batteries. Une \\\\u00e9tude d\\'impact, \\\\u00e7a signifiait d\\'\\\\u00e9crire noir sur blanc qu\\'il fallait de grandes usines ou alors renoncer \\\\u00e0 notre secteur automobile pour importer tout \\\\u00e7a. Eh bien, c\\'est dur \\\\u00e0 assumer, c\\'est inadmissible. M\\\\u00eame s\\'il faut aussi des m\\\\u00e9taux, il faut des terres rares pour faire la voiture \\\\u00e9lectrique. Mais l\\\\u00e0 encore, une \\\\u00e9tude d\\'impact a oblig\\\\u00e9 \\\\u00e0 dire la r\\\\u00e9alit\\\\u00e9 aux citoyens : ces m\\\\u00e9taux, nous devons les importer et donc signer des accords de libre-\\\\u00e9change. Ou alors, il faut recommencer \\\\u00e0 ouvrir des mines ici, sur le sol europ\\\\u00e9en. Regardez ce qui se passe dans l\\'Allier o\\\\u00f9 un projet de mine de lithium est extr\\\\u00eamement contest\\\\u00e9. La strat\\\\u00e9gie de la commission europ\\\\u00e9enne a plut\\\\u00f4t consist\\\\u00e9 \\\\u00e0 exporter loin, tr\\\\u00e8s loin, les nuisances environnementales. Eh bien, tout cela, \\\\u00e7a ne colle pas avec le narratif. Les cons\\\\u00e9quences de l\\'objectif tout \\\\u00e9lectrique sont dures \\\\u00e0 assumer face \\\\u00e0 l\\'\\\\u00e9lectorat. Plus question de l\\'\\\\u00e9lectricit\\\\u00e9 pour faire tourner ces voitures \\\\u00e9lectriques. Pr\\\\u00e9f\\\\u00e9rer la transformation du parc automobile implique une croissance tr\\\\u00e8s importante des usages \\\\u00e9lectriques, et \\\\u00e7a ne s\\'accorde ni avec le discours sur le tout renouvelable ni avec le discours sur la baisse de la consommation. C\\'est antinomique. Une \\\\u00e9tude d\\'impact sur la voiture \\\\u00e9lectrique, \\\\u00e7a obligeait \\\\u00e0 poser clairement la r\\\\u00e9alit\\\\u00e9 : nous avons besoin de produire beaucoup plus de fa\\\\u00e7on stable et d\\\\u00e9carbon\\\\u00e9e. Eh bien, \\\\u00e7a suppose une chose : du nucl\\\\u00e9aire.\", \"claim\": \"Une \\\\u00e9tude d\\'impact a oblig\\\\u00e9 \\\\u00e0 dire la r\\\\u00e9alit\\\\u00e9 aux citoyens : ces m\\\\u00e9taux, nous devons les importer et donc signer des accords de libre-\\\\u00e9change.\"}', additional_kwargs={}, response_metadata={}, id='e8bedc41-5637-468c-a860-ec5bf35236bd')],\n",
       " 'senders': [HumanMessage(content='classificator', additional_kwargs={}, response_metadata={}, id='2e69d1a1-7bfa-4271-9363-619312451ce0'),\n",
       "  HumanMessage(content='claim_extractor', additional_kwargs={}, response_metadata={}, id='9b7df36a-f3cb-4a09-88d6-8b1f1f35e66d'),\n",
       "  HumanMessage(content='rag_tool', additional_kwargs={}, response_metadata={}, id='06e7c7ed-87e7-464c-9241-40b304fba6d6'),\n",
       "  HumanMessage(content='claim_classificator', additional_kwargs={}, response_metadata={}, id='03831030-084e-4887-b2c2-a781cb3d94be'),\n",
       "  HumanMessage(content='returner', additional_kwargs={}, response_metadata={}, id='31f77064-7a64-4086-82fd-b6fde6972629')]}"
      ]
     },
     "execution_count": 154,
     "metadata": {},
     "output_type": "execute_result"
    }
   ],
   "source": [
    "text = df.iloc[52][\"text\"]\n",
    "\n",
    "print(f\"Ground Truth: {df.iloc[52]['cards_ground_truth']}\")\n",
    "\n",
    "result = agent.invoke(\n",
    "    {\n",
    "        \"messages\": [\n",
    "            (\"user\", text),\n",
    "        ]\n",
    "    }\n",
    ")\n",
    "result"
   ]
  },
  {
   "cell_type": "code",
   "execution_count": 155,
   "metadata": {},
   "outputs": [
    {
     "data": {
      "text/plain": [
       "cards_ground_truth\n",
       "0_accepted                         118\n",
       "4_solutions_harmful_unnecessary     88\n",
       "6_proponents_biased                 70\n",
       "1_its_not_happening                 31\n",
       "5_science_uncertain                 22\n",
       "2_humans_not_the_cause              19\n",
       "3_impacts_not_bad                   15\n",
       "7_fossil_fuels_needed                7\n",
       "Name: count, dtype: int64"
      ]
     },
     "execution_count": 155,
     "metadata": {},
     "output_type": "execute_result"
    }
   ],
   "source": [
    "df.cards_ground_truth.value_counts()\n"
   ]
  },
  {
   "cell_type": "code",
   "execution_count": 161,
   "metadata": {},
   "outputs": [
    {
     "name": "stderr",
     "output_type": "stream",
     "text": [
      "100%|██████████| 370/370 [45:56<00:00,  7.45s/it]  \n"
     ]
    }
   ],
   "source": [
    "import tqdm\n",
    "from tqdm.asyncio import tqdm as atqdm\n",
    "import asyncio\n",
    "from functools import wraps\n",
    "from langgraph.errors import GraphRecursionError\n",
    "\n",
    "agent = RagAgent(\n",
    "    # model=ChatOpenAI(model_name=\"gpt-4o-mini\"),\n",
    "    model=ChatOllama(model=\"llama3.1:8b\", temperature=0),\n",
    "    tools=[qdrant_retriever_tool],\n",
    "    verbose=False,\n",
    "    graph=StateGraph(AgentState),\n",
    ").compile()\n",
    "\n",
    "async def arun_agent(text, id, sem):\n",
    "    async with sem:\n",
    "        try:\n",
    "            result = await agent.ainvoke({\"messages\": [(\"user\", text)]}, {\"recursion_limit\": 5})\n",
    "            return id, result[\"messages\"][-1].content\n",
    "        except GraphRecursionError:\n",
    "            return id, \"None\"\n",
    "        \n",
    "def run_agent(text, id):\n",
    "    result = agent.invoke({\"messages\": [(\"user\", text)]}, {\"recursion_limit\": 10})\n",
    "    return id, result[\"messages\"][-1].content\n",
    "    \n",
    "\n",
    "semaphore = asyncio.Semaphore(10)\n",
    "\n",
    "async def amain(sem):\n",
    "    results = await atqdm.gather(*[arun_agent(row.text, row.id, sem) for row in df.itertuples()])\n",
    "    return results\n",
    "\n",
    "def main():\n",
    "    results = [run_agent(row.text, row.id) for row in tqdm.tqdm(df.itertuples(), total=len(df))]\n",
    "    return results\n",
    "\n",
    "# results = await amain(semaphore)\n",
    "results = main()\n",
    "\n"
   ]
  },
  {
   "cell_type": "code",
   "execution_count": 162,
   "metadata": {},
   "outputs": [
    {
     "data": {
      "text/html": [
       "<div>\n",
       "<style scoped>\n",
       "    .dataframe tbody tr th:only-of-type {\n",
       "        vertical-align: middle;\n",
       "    }\n",
       "\n",
       "    .dataframe tbody tr th {\n",
       "        vertical-align: top;\n",
       "    }\n",
       "\n",
       "    .dataframe thead th {\n",
       "        text-align: right;\n",
       "    }\n",
       "</style>\n",
       "<table border=\"1\" class=\"dataframe\">\n",
       "  <thead>\n",
       "    <tr style=\"text-align: right;\">\n",
       "      <th></th>\n",
       "      <th>classification</th>\n",
       "      <th>text</th>\n",
       "      <th>claim</th>\n",
       "    </tr>\n",
       "  </thead>\n",
       "  <tbody>\n",
       "    <tr>\n",
       "      <th>52061c3902c0257c7bfae7086ae50ea3998fea4204bcd6628588e41d71340dfc</th>\n",
       "      <td>0_accepted</td>\n",
       "      <td>Ce n'est pas seulement qu'ils ne les utilisent...</td>\n",
       "      <td>Nous gaspillons l'énergie, nous gaspillons les...</td>\n",
       "    </tr>\n",
       "    <tr>\n",
       "      <th>34a41bf34b35ee91fc147601fb8c21a366a2f568b9060bbb629698dfd9319801</th>\n",
       "      <td>6_scientists_are_biased</td>\n",
       "      <td>Jusqu'au trente septembre, détaille Sofia au q...</td>\n",
       "      <td>Joe Biden a fait des déclarations confuses lor...</td>\n",
       "    </tr>\n",
       "    <tr>\n",
       "      <th>0fb8db32982baea27fa4a92220e76331e703d61852c0e8d95550ef6853ffd842</th>\n",
       "      <td>0_accepted</td>\n",
       "      <td>On tente d'échapper à une tempête de pluie d'a...</td>\n",
       "      <td>Des pluies mille fois plus acides que la norma...</td>\n",
       "    </tr>\n",
       "    <tr>\n",
       "      <th>4792f93c6614b1e7ef39e301cc6c1d0f4d3d18b9421cc3a9b18aa5c7581c9e02</th>\n",
       "      <td>6_scientists_are_biased</td>\n",
       "      <td>Les Français n'arrivent pas à se loger, c'est ...</td>\n",
       "      <td>La première voudrait bouleverser l'existence d...</td>\n",
       "    </tr>\n",
       "    <tr>\n",
       "      <th>74c05fdbca4aeffb643abf0de486b57f8299051d4ef71b58b532791a33aba423</th>\n",
       "      <td>1_not_happening</td>\n",
       "      <td>Le réchauffement climatique a été collecté à G...</td>\n",
       "      <td>Il y a quand même un réchauffement à ces altit...</td>\n",
       "    </tr>\n",
       "  </tbody>\n",
       "</table>\n",
       "</div>"
      ],
      "text/plain": [
       "                                                             classification  \\\n",
       "52061c3902c0257c7bfae7086ae50ea3998fea4204bcd66...               0_accepted   \n",
       "34a41bf34b35ee91fc147601fb8c21a366a2f568b9060bb...  6_scientists_are_biased   \n",
       "0fb8db32982baea27fa4a92220e76331e703d61852c0e8d...               0_accepted   \n",
       "4792f93c6614b1e7ef39e301cc6c1d0f4d3d18b9421cc3a...  6_scientists_are_biased   \n",
       "74c05fdbca4aeffb643abf0de486b57f8299051d4ef71b5...          1_not_happening   \n",
       "\n",
       "                                                                                                 text  \\\n",
       "52061c3902c0257c7bfae7086ae50ea3998fea4204bcd66...  Ce n'est pas seulement qu'ils ne les utilisent...   \n",
       "34a41bf34b35ee91fc147601fb8c21a366a2f568b9060bb...  Jusqu'au trente septembre, détaille Sofia au q...   \n",
       "0fb8db32982baea27fa4a92220e76331e703d61852c0e8d...  On tente d'échapper à une tempête de pluie d'a...   \n",
       "4792f93c6614b1e7ef39e301cc6c1d0f4d3d18b9421cc3a...  Les Français n'arrivent pas à se loger, c'est ...   \n",
       "74c05fdbca4aeffb643abf0de486b57f8299051d4ef71b5...  Le réchauffement climatique a été collecté à G...   \n",
       "\n",
       "                                                                                                claim  \n",
       "52061c3902c0257c7bfae7086ae50ea3998fea4204bcd66...  Nous gaspillons l'énergie, nous gaspillons les...  \n",
       "34a41bf34b35ee91fc147601fb8c21a366a2f568b9060bb...  Joe Biden a fait des déclarations confuses lor...  \n",
       "0fb8db32982baea27fa4a92220e76331e703d61852c0e8d...  Des pluies mille fois plus acides que la norma...  \n",
       "4792f93c6614b1e7ef39e301cc6c1d0f4d3d18b9421cc3a...  La première voudrait bouleverser l'existence d...  \n",
       "74c05fdbca4aeffb643abf0de486b57f8299051d4ef71b5...  Il y a quand même un réchauffement à ces altit...  "
      ]
     },
     "metadata": {},
     "output_type": "display_data"
    }
   ],
   "source": [
    "ids = []\n",
    "records = []\n",
    "for idx, record in results:\n",
    "    if record != \"None\":\n",
    "        ids.append(idx)\n",
    "        records.append(json.loads(record))\n",
    "results_df = pd.DataFrame(records, index=ids)\n",
    "display(results_df.head())\n"
   ]
  },
  {
   "cell_type": "code",
   "execution_count": 163,
   "metadata": {},
   "outputs": [],
   "source": [
    "df.to_csv(\"results_llama3-1-8b.csv\")"
   ]
  },
  {
   "cell_type": "code",
   "execution_count": 164,
   "metadata": {},
   "outputs": [
    {
     "data": {
      "text/plain": [
       "classification\n",
       "6    68\n",
       "4    68\n",
       "0    50\n",
       "1    31\n",
       "3    31\n",
       "2    22\n",
       "5    19\n",
       "7     7\n",
       "Name: count, dtype: int64"
      ]
     },
     "execution_count": 164,
     "metadata": {},
     "output_type": "execute_result"
    }
   ],
   "source": [
    "results_df.classification.str[0].value_counts()"
   ]
  },
  {
   "cell_type": "code",
   "execution_count": 165,
   "metadata": {},
   "outputs": [],
   "source": [
    "comparison_df = df.set_index(\"id\")[[\"text\", \"quote\", \"claim\", \"cards_ground_truth\"]].merge(\n",
    "    results_df[\"classification\"],\n",
    "    how=\"left\",\n",
    "    right_index=True,\n",
    "    left_index=True\n",
    ").fillna(\"0_accepted\")\n",
    "\n"
   ]
  },
  {
   "cell_type": "code",
   "execution_count": 166,
   "metadata": {},
   "outputs": [
    {
     "data": {
      "text/plain": [
       "cards_ground_truth\n",
       "0    118\n",
       "4     88\n",
       "6     70\n",
       "1     31\n",
       "5     22\n",
       "2     19\n",
       "3     15\n",
       "7      7\n",
       "Name: count, dtype: int64"
      ]
     },
     "metadata": {},
     "output_type": "display_data"
    },
    {
     "data": {
      "text/plain": [
       "classification\n",
       "0    124\n",
       "6     68\n",
       "4     68\n",
       "1     31\n",
       "3     31\n",
       "2     22\n",
       "5     19\n",
       "7      7\n",
       "Name: count, dtype: int64"
      ]
     },
     "metadata": {},
     "output_type": "display_data"
    }
   ],
   "source": [
    "display(comparison_df.cards_ground_truth.str[0].value_counts())\n",
    "display(comparison_df.classification.str[0].value_counts())"
   ]
  },
  {
   "cell_type": "code",
   "execution_count": 167,
   "metadata": {},
   "outputs": [
    {
     "data": {
      "text/plain": [
       "np.float64(0.3837837837837838)"
      ]
     },
     "execution_count": 167,
     "metadata": {},
     "output_type": "execute_result"
    }
   ],
   "source": [
    "(comparison_df.cards_ground_truth.str[0] == comparison_df.classification.str[0]).sum() / len(comparison_df)"
   ]
  },
  {
   "cell_type": "code",
   "execution_count": 168,
   "metadata": {},
   "outputs": [
    {
     "data": {
      "text/plain": [
       "np.float64(0.6756756756756757)"
      ]
     },
     "execution_count": 168,
     "metadata": {},
     "output_type": "execute_result"
    }
   ],
   "source": [
    "((comparison_df.cards_ground_truth.str[0]==\"0\") == (comparison_df.classification.str[0]==\"0\")).sum() / len(comparison_df)"
   ]
  },
  {
   "cell_type": "code",
   "execution_count": 169,
   "metadata": {},
   "outputs": [
    {
     "name": "stdout",
     "output_type": "stream",
     "text": [
      "              precision    recall  f1-score   support\n",
      "\n",
      "           0       0.49      0.52      0.50       118\n",
      "           1       0.35      0.35      0.35        31\n",
      "           2       0.18      0.21      0.20        19\n",
      "           3       0.06      0.13      0.09        15\n",
      "           4       0.46      0.35      0.40        88\n",
      "           5       0.21      0.18      0.20        22\n",
      "           6       0.35      0.34      0.35        70\n",
      "           7       0.71      0.71      0.71         7\n",
      "\n",
      "    accuracy                           0.38       370\n",
      "   macro avg       0.35      0.35      0.35       370\n",
      "weighted avg       0.40      0.38      0.39       370\n",
      "\n"
     ]
    }
   ],
   "source": [
    "from sklearn.metrics import classification_report\n",
    "\n",
    "print(classification_report(\n",
    "    y_pred=comparison_df.classification.str[0],\n",
    "    y_true=comparison_df.cards_ground_truth.str[0],\n",
    "))"
   ]
  },
  {
   "cell_type": "code",
   "execution_count": 170,
   "metadata": {},
   "outputs": [
    {
     "data": {
      "text/plain": [
       "cards_ground_truth\n",
       "0    118\n",
       "4     88\n",
       "6     70\n",
       "1     31\n",
       "5     22\n",
       "2     19\n",
       "3     15\n",
       "7      7\n",
       "Name: count, dtype: int64"
      ]
     },
     "metadata": {},
     "output_type": "display_data"
    },
    {
     "data": {
      "text/plain": [
       "classification\n",
       "0    124\n",
       "6     68\n",
       "4     68\n",
       "1     31\n",
       "3     31\n",
       "2     22\n",
       "5     19\n",
       "7      7\n",
       "Name: count, dtype: int64"
      ]
     },
     "metadata": {},
     "output_type": "display_data"
    },
    {
     "data": {
      "text/plain": [
       "macro_category_ground_truth\n",
       "inaction          165\n",
       "accepted          118\n",
       "disinformation     87\n",
       "Name: count, dtype: int64"
      ]
     },
     "metadata": {},
     "output_type": "display_data"
    },
    {
     "data": {
      "text/plain": [
       "macro_category_prediction\n",
       "inaction          143\n",
       "accepted          124\n",
       "disinformation    103\n",
       "Name: count, dtype: int64"
      ]
     },
     "metadata": {},
     "output_type": "display_data"
    }
   ],
   "source": [
    "import numpy as np\n",
    "\n",
    "comparison_df[\"macro_category_ground_truth\"] = \"accepted\"\n",
    "comparison_df.loc[comparison_df.cards_ground_truth.str[0].isin([\"1\", \"2\", \"3\", \"5\"]), \"macro_category_ground_truth\"] = \"disinformation\"\n",
    "comparison_df.loc[comparison_df.cards_ground_truth.str[0].isin([\"4\", \"6\", \"7\"]), \"macro_category_ground_truth\"] = \"inaction\"\n",
    "\n",
    "comparison_df[\"macro_category_prediction\"] = \"accepted\"\n",
    "comparison_df.loc[comparison_df.classification.str[0].isin([\"1\", \"2\", \"3\", \"5\"]), \"macro_category_prediction\"] = \"disinformation\"\n",
    "comparison_df.loc[comparison_df.classification.str[0].isin([\"4\", \"6\", \"7\"]), \"macro_category_prediction\"] = \"inaction\"\n",
    "\n",
    "\n",
    "display(comparison_df.cards_ground_truth.str[0].value_counts())\n",
    "display(comparison_df.classification.str[0].value_counts())\n",
    "display(comparison_df.macro_category_ground_truth.value_counts())\n",
    "display(comparison_df.macro_category_prediction.value_counts())"
   ]
  },
  {
   "cell_type": "code",
   "execution_count": 171,
   "metadata": {},
   "outputs": [
    {
     "name": "stdout",
     "output_type": "stream",
     "text": [
      "                precision    recall  f1-score   support\n",
      "\n",
      "      accepted       0.52      0.49      0.50       124\n",
      "disinformation       0.48      0.41      0.44       103\n",
      "      inaction       0.52      0.60      0.56       143\n",
      "\n",
      "      accuracy                           0.51       370\n",
      "     macro avg       0.51      0.50      0.50       370\n",
      "  weighted avg       0.51      0.51      0.51       370\n",
      "\n"
     ]
    }
   ],
   "source": [
    "print(classification_report(\n",
    "    y_pred=comparison_df.macro_category_ground_truth,\n",
    "    y_true=comparison_df.macro_category_prediction,\n",
    "))"
   ]
  },
  {
   "cell_type": "code",
   "execution_count": 172,
   "metadata": {},
   "outputs": [],
   "source": [
    "from sklearn.metrics import confusion_matrix\n",
    "\n",
    "cm = confusion_matrix(\n",
    "    y_true=comparison_df.cards_ground_truth.str[0],\n",
    "    y_pred=comparison_df.classification.str[0]\n",
    ")\n",
    "\n",
    "cm_macro = confusion_matrix(\n",
    "    y_true=comparison_df.macro_category_ground_truth,\n",
    "    y_pred=comparison_df.macro_category_prediction\n",
    ")"
   ]
  },
  {
   "cell_type": "code",
   "execution_count": 173,
   "metadata": {},
   "outputs": [],
   "source": [
    "import plotly.figure_factory as ff\n",
    "\n",
    "def plot_confusion_matrix(cm, labels=None, title='Confusion Matrix', cmap='Blues'):\n",
    "    cm_text = [[str(y) for y in x] for x in cm]\n",
    "    if labels is None:\n",
    "        labels = [str(i) for i in range(len(cm))]\n",
    "        \n",
    "    fig = ff.create_annotated_heatmap(\n",
    "        cm,\n",
    "        x=labels,\n",
    "        y=labels,\n",
    "        colorscale=cmap,\n",
    "        annotation_text=cm_text\n",
    "    )\n",
    "    fig.update_layout(\n",
    "        title_text='<i><b>Confusion matrix</b></i>',\n",
    "        #xaxis = dict(title='x'),\n",
    "        #yaxis = dict(title='x')\n",
    "    )\n",
    "\n",
    "    # add custom xaxis title\n",
    "    fig.add_annotation(\n",
    "        dict(\n",
    "            font=dict(\n",
    "                color=\"black\",\n",
    "                size=14\n",
    "            ),\n",
    "            x=0.5,\n",
    "            y=-0.15,\n",
    "            showarrow=False,\n",
    "            text=\"Predicted value\",\n",
    "            xref=\"paper\",\n",
    "            yref=\"paper\"\n",
    "        )\n",
    "    )\n",
    "\n",
    "    # add custom yaxis title\n",
    "    fig.add_annotation(dict(font=dict(color=\"black\",size=14),\n",
    "                            x=-0.35,\n",
    "                            y=0.5,\n",
    "                            showarrow=False,\n",
    "                            text=\"Real value\",\n",
    "                            textangle=-90,\n",
    "                            xref=\"paper\",\n",
    "                            yref=\"paper\"))\n",
    "\n",
    "    # adjust margins to make room for yaxis title\n",
    "    fig.update_layout(margin=dict(t=50, l=200))\n",
    "\n",
    "    # add colorbar\n",
    "    fig['data'][0]['showscale'] = True\n",
    "    return fig"
   ]
  },
  {
   "cell_type": "code",
   "execution_count": 174,
   "metadata": {},
   "outputs": [
    {
     "data": {
      "application/vnd.plotly.v1+json": {
       "config": {
        "plotlyServerURL": "https://plot.ly"
       },
       "data": [
        {
         "colorscale": [
          [
           0,
           "rgb(247,251,255)"
          ],
          [
           0.125,
           "rgb(222,235,247)"
          ],
          [
           0.25,
           "rgb(198,219,239)"
          ],
          [
           0.375,
           "rgb(158,202,225)"
          ],
          [
           0.5,
           "rgb(107,174,214)"
          ],
          [
           0.625,
           "rgb(66,146,198)"
          ],
          [
           0.75,
           "rgb(33,113,181)"
          ],
          [
           0.875,
           "rgb(8,81,156)"
          ],
          [
           1,
           "rgb(8,48,107)"
          ]
         ],
         "reversescale": false,
         "showscale": true,
         "type": "heatmap",
         "x": [
          "0",
          "1",
          "2",
          "3",
          "4",
          "5",
          "6",
          "7"
         ],
         "y": [
          "0",
          "1",
          "2",
          "3",
          "4",
          "5",
          "6",
          "7"
         ],
         "z": [
          [
           61,
           11,
           3,
           5,
           14,
           5,
           17,
           2
          ],
          [
           6,
           11,
           5,
           4,
           0,
           2,
           3,
           0
          ],
          [
           3,
           3,
           4,
           0,
           3,
           2,
           4,
           0
          ],
          [
           7,
           0,
           1,
           2,
           1,
           0,
           4,
           0
          ],
          [
           19,
           3,
           8,
           14,
           31,
           2,
           11,
           0
          ],
          [
           5,
           2,
           0,
           2,
           4,
           4,
           5,
           0
          ],
          [
           22,
           1,
           1,
           4,
           14,
           4,
           24,
           0
          ],
          [
           1,
           0,
           0,
           0,
           1,
           0,
           0,
           5
          ]
         ]
        }
       ],
       "layout": {
        "annotations": [
         {
          "font": {
           "color": "#FFFFFF"
          },
          "showarrow": false,
          "text": "61",
          "x": "0",
          "xref": "x",
          "y": "0",
          "yref": "y"
         },
         {
          "font": {
           "color": "#000000"
          },
          "showarrow": false,
          "text": "11",
          "x": "1",
          "xref": "x",
          "y": "0",
          "yref": "y"
         },
         {
          "font": {
           "color": "#000000"
          },
          "showarrow": false,
          "text": "3",
          "x": "2",
          "xref": "x",
          "y": "0",
          "yref": "y"
         },
         {
          "font": {
           "color": "#000000"
          },
          "showarrow": false,
          "text": "5",
          "x": "3",
          "xref": "x",
          "y": "0",
          "yref": "y"
         },
         {
          "font": {
           "color": "#000000"
          },
          "showarrow": false,
          "text": "14",
          "x": "4",
          "xref": "x",
          "y": "0",
          "yref": "y"
         },
         {
          "font": {
           "color": "#000000"
          },
          "showarrow": false,
          "text": "5",
          "x": "5",
          "xref": "x",
          "y": "0",
          "yref": "y"
         },
         {
          "font": {
           "color": "#000000"
          },
          "showarrow": false,
          "text": "17",
          "x": "6",
          "xref": "x",
          "y": "0",
          "yref": "y"
         },
         {
          "font": {
           "color": "#000000"
          },
          "showarrow": false,
          "text": "2",
          "x": "7",
          "xref": "x",
          "y": "0",
          "yref": "y"
         },
         {
          "font": {
           "color": "#000000"
          },
          "showarrow": false,
          "text": "6",
          "x": "0",
          "xref": "x",
          "y": "1",
          "yref": "y"
         },
         {
          "font": {
           "color": "#000000"
          },
          "showarrow": false,
          "text": "11",
          "x": "1",
          "xref": "x",
          "y": "1",
          "yref": "y"
         },
         {
          "font": {
           "color": "#000000"
          },
          "showarrow": false,
          "text": "5",
          "x": "2",
          "xref": "x",
          "y": "1",
          "yref": "y"
         },
         {
          "font": {
           "color": "#000000"
          },
          "showarrow": false,
          "text": "4",
          "x": "3",
          "xref": "x",
          "y": "1",
          "yref": "y"
         },
         {
          "font": {
           "color": "#000000"
          },
          "showarrow": false,
          "text": "0",
          "x": "4",
          "xref": "x",
          "y": "1",
          "yref": "y"
         },
         {
          "font": {
           "color": "#000000"
          },
          "showarrow": false,
          "text": "2",
          "x": "5",
          "xref": "x",
          "y": "1",
          "yref": "y"
         },
         {
          "font": {
           "color": "#000000"
          },
          "showarrow": false,
          "text": "3",
          "x": "6",
          "xref": "x",
          "y": "1",
          "yref": "y"
         },
         {
          "font": {
           "color": "#000000"
          },
          "showarrow": false,
          "text": "0",
          "x": "7",
          "xref": "x",
          "y": "1",
          "yref": "y"
         },
         {
          "font": {
           "color": "#000000"
          },
          "showarrow": false,
          "text": "3",
          "x": "0",
          "xref": "x",
          "y": "2",
          "yref": "y"
         },
         {
          "font": {
           "color": "#000000"
          },
          "showarrow": false,
          "text": "3",
          "x": "1",
          "xref": "x",
          "y": "2",
          "yref": "y"
         },
         {
          "font": {
           "color": "#000000"
          },
          "showarrow": false,
          "text": "4",
          "x": "2",
          "xref": "x",
          "y": "2",
          "yref": "y"
         },
         {
          "font": {
           "color": "#000000"
          },
          "showarrow": false,
          "text": "0",
          "x": "3",
          "xref": "x",
          "y": "2",
          "yref": "y"
         },
         {
          "font": {
           "color": "#000000"
          },
          "showarrow": false,
          "text": "3",
          "x": "4",
          "xref": "x",
          "y": "2",
          "yref": "y"
         },
         {
          "font": {
           "color": "#000000"
          },
          "showarrow": false,
          "text": "2",
          "x": "5",
          "xref": "x",
          "y": "2",
          "yref": "y"
         },
         {
          "font": {
           "color": "#000000"
          },
          "showarrow": false,
          "text": "4",
          "x": "6",
          "xref": "x",
          "y": "2",
          "yref": "y"
         },
         {
          "font": {
           "color": "#000000"
          },
          "showarrow": false,
          "text": "0",
          "x": "7",
          "xref": "x",
          "y": "2",
          "yref": "y"
         },
         {
          "font": {
           "color": "#000000"
          },
          "showarrow": false,
          "text": "7",
          "x": "0",
          "xref": "x",
          "y": "3",
          "yref": "y"
         },
         {
          "font": {
           "color": "#000000"
          },
          "showarrow": false,
          "text": "0",
          "x": "1",
          "xref": "x",
          "y": "3",
          "yref": "y"
         },
         {
          "font": {
           "color": "#000000"
          },
          "showarrow": false,
          "text": "1",
          "x": "2",
          "xref": "x",
          "y": "3",
          "yref": "y"
         },
         {
          "font": {
           "color": "#000000"
          },
          "showarrow": false,
          "text": "2",
          "x": "3",
          "xref": "x",
          "y": "3",
          "yref": "y"
         },
         {
          "font": {
           "color": "#000000"
          },
          "showarrow": false,
          "text": "1",
          "x": "4",
          "xref": "x",
          "y": "3",
          "yref": "y"
         },
         {
          "font": {
           "color": "#000000"
          },
          "showarrow": false,
          "text": "0",
          "x": "5",
          "xref": "x",
          "y": "3",
          "yref": "y"
         },
         {
          "font": {
           "color": "#000000"
          },
          "showarrow": false,
          "text": "4",
          "x": "6",
          "xref": "x",
          "y": "3",
          "yref": "y"
         },
         {
          "font": {
           "color": "#000000"
          },
          "showarrow": false,
          "text": "0",
          "x": "7",
          "xref": "x",
          "y": "3",
          "yref": "y"
         },
         {
          "font": {
           "color": "#000000"
          },
          "showarrow": false,
          "text": "19",
          "x": "0",
          "xref": "x",
          "y": "4",
          "yref": "y"
         },
         {
          "font": {
           "color": "#000000"
          },
          "showarrow": false,
          "text": "3",
          "x": "1",
          "xref": "x",
          "y": "4",
          "yref": "y"
         },
         {
          "font": {
           "color": "#000000"
          },
          "showarrow": false,
          "text": "8",
          "x": "2",
          "xref": "x",
          "y": "4",
          "yref": "y"
         },
         {
          "font": {
           "color": "#000000"
          },
          "showarrow": false,
          "text": "14",
          "x": "3",
          "xref": "x",
          "y": "4",
          "yref": "y"
         },
         {
          "font": {
           "color": "#FFFFFF"
          },
          "showarrow": false,
          "text": "31",
          "x": "4",
          "xref": "x",
          "y": "4",
          "yref": "y"
         },
         {
          "font": {
           "color": "#000000"
          },
          "showarrow": false,
          "text": "2",
          "x": "5",
          "xref": "x",
          "y": "4",
          "yref": "y"
         },
         {
          "font": {
           "color": "#000000"
          },
          "showarrow": false,
          "text": "11",
          "x": "6",
          "xref": "x",
          "y": "4",
          "yref": "y"
         },
         {
          "font": {
           "color": "#000000"
          },
          "showarrow": false,
          "text": "0",
          "x": "7",
          "xref": "x",
          "y": "4",
          "yref": "y"
         },
         {
          "font": {
           "color": "#000000"
          },
          "showarrow": false,
          "text": "5",
          "x": "0",
          "xref": "x",
          "y": "5",
          "yref": "y"
         },
         {
          "font": {
           "color": "#000000"
          },
          "showarrow": false,
          "text": "2",
          "x": "1",
          "xref": "x",
          "y": "5",
          "yref": "y"
         },
         {
          "font": {
           "color": "#000000"
          },
          "showarrow": false,
          "text": "0",
          "x": "2",
          "xref": "x",
          "y": "5",
          "yref": "y"
         },
         {
          "font": {
           "color": "#000000"
          },
          "showarrow": false,
          "text": "2",
          "x": "3",
          "xref": "x",
          "y": "5",
          "yref": "y"
         },
         {
          "font": {
           "color": "#000000"
          },
          "showarrow": false,
          "text": "4",
          "x": "4",
          "xref": "x",
          "y": "5",
          "yref": "y"
         },
         {
          "font": {
           "color": "#000000"
          },
          "showarrow": false,
          "text": "4",
          "x": "5",
          "xref": "x",
          "y": "5",
          "yref": "y"
         },
         {
          "font": {
           "color": "#000000"
          },
          "showarrow": false,
          "text": "5",
          "x": "6",
          "xref": "x",
          "y": "5",
          "yref": "y"
         },
         {
          "font": {
           "color": "#000000"
          },
          "showarrow": false,
          "text": "0",
          "x": "7",
          "xref": "x",
          "y": "5",
          "yref": "y"
         },
         {
          "font": {
           "color": "#000000"
          },
          "showarrow": false,
          "text": "22",
          "x": "0",
          "xref": "x",
          "y": "6",
          "yref": "y"
         },
         {
          "font": {
           "color": "#000000"
          },
          "showarrow": false,
          "text": "1",
          "x": "1",
          "xref": "x",
          "y": "6",
          "yref": "y"
         },
         {
          "font": {
           "color": "#000000"
          },
          "showarrow": false,
          "text": "1",
          "x": "2",
          "xref": "x",
          "y": "6",
          "yref": "y"
         },
         {
          "font": {
           "color": "#000000"
          },
          "showarrow": false,
          "text": "4",
          "x": "3",
          "xref": "x",
          "y": "6",
          "yref": "y"
         },
         {
          "font": {
           "color": "#000000"
          },
          "showarrow": false,
          "text": "14",
          "x": "4",
          "xref": "x",
          "y": "6",
          "yref": "y"
         },
         {
          "font": {
           "color": "#000000"
          },
          "showarrow": false,
          "text": "4",
          "x": "5",
          "xref": "x",
          "y": "6",
          "yref": "y"
         },
         {
          "font": {
           "color": "#000000"
          },
          "showarrow": false,
          "text": "24",
          "x": "6",
          "xref": "x",
          "y": "6",
          "yref": "y"
         },
         {
          "font": {
           "color": "#000000"
          },
          "showarrow": false,
          "text": "0",
          "x": "7",
          "xref": "x",
          "y": "6",
          "yref": "y"
         },
         {
          "font": {
           "color": "#000000"
          },
          "showarrow": false,
          "text": "1",
          "x": "0",
          "xref": "x",
          "y": "7",
          "yref": "y"
         },
         {
          "font": {
           "color": "#000000"
          },
          "showarrow": false,
          "text": "0",
          "x": "1",
          "xref": "x",
          "y": "7",
          "yref": "y"
         },
         {
          "font": {
           "color": "#000000"
          },
          "showarrow": false,
          "text": "0",
          "x": "2",
          "xref": "x",
          "y": "7",
          "yref": "y"
         },
         {
          "font": {
           "color": "#000000"
          },
          "showarrow": false,
          "text": "0",
          "x": "3",
          "xref": "x",
          "y": "7",
          "yref": "y"
         },
         {
          "font": {
           "color": "#000000"
          },
          "showarrow": false,
          "text": "1",
          "x": "4",
          "xref": "x",
          "y": "7",
          "yref": "y"
         },
         {
          "font": {
           "color": "#000000"
          },
          "showarrow": false,
          "text": "0",
          "x": "5",
          "xref": "x",
          "y": "7",
          "yref": "y"
         },
         {
          "font": {
           "color": "#000000"
          },
          "showarrow": false,
          "text": "0",
          "x": "6",
          "xref": "x",
          "y": "7",
          "yref": "y"
         },
         {
          "font": {
           "color": "#000000"
          },
          "showarrow": false,
          "text": "5",
          "x": "7",
          "xref": "x",
          "y": "7",
          "yref": "y"
         },
         {
          "font": {
           "color": "black",
           "size": 14
          },
          "showarrow": false,
          "text": "Predicted value",
          "x": 0.5,
          "xref": "paper",
          "y": -0.15,
          "yref": "paper"
         },
         {
          "font": {
           "color": "black",
           "size": 14
          },
          "showarrow": false,
          "text": "Real value",
          "textangle": -90,
          "x": -0.35,
          "xref": "paper",
          "y": 0.5,
          "yref": "paper"
         }
        ],
        "margin": {
         "l": 200,
         "t": 50
        },
        "template": {
         "data": {
          "bar": [
           {
            "error_x": {
             "color": "#2a3f5f"
            },
            "error_y": {
             "color": "#2a3f5f"
            },
            "marker": {
             "line": {
              "color": "#E5ECF6",
              "width": 0.5
             },
             "pattern": {
              "fillmode": "overlay",
              "size": 10,
              "solidity": 0.2
             }
            },
            "type": "bar"
           }
          ],
          "barpolar": [
           {
            "marker": {
             "line": {
              "color": "#E5ECF6",
              "width": 0.5
             },
             "pattern": {
              "fillmode": "overlay",
              "size": 10,
              "solidity": 0.2
             }
            },
            "type": "barpolar"
           }
          ],
          "carpet": [
           {
            "aaxis": {
             "endlinecolor": "#2a3f5f",
             "gridcolor": "white",
             "linecolor": "white",
             "minorgridcolor": "white",
             "startlinecolor": "#2a3f5f"
            },
            "baxis": {
             "endlinecolor": "#2a3f5f",
             "gridcolor": "white",
             "linecolor": "white",
             "minorgridcolor": "white",
             "startlinecolor": "#2a3f5f"
            },
            "type": "carpet"
           }
          ],
          "choropleth": [
           {
            "colorbar": {
             "outlinewidth": 0,
             "ticks": ""
            },
            "type": "choropleth"
           }
          ],
          "contour": [
           {
            "colorbar": {
             "outlinewidth": 0,
             "ticks": ""
            },
            "colorscale": [
             [
              0,
              "#0d0887"
             ],
             [
              0.1111111111111111,
              "#46039f"
             ],
             [
              0.2222222222222222,
              "#7201a8"
             ],
             [
              0.3333333333333333,
              "#9c179e"
             ],
             [
              0.4444444444444444,
              "#bd3786"
             ],
             [
              0.5555555555555556,
              "#d8576b"
             ],
             [
              0.6666666666666666,
              "#ed7953"
             ],
             [
              0.7777777777777778,
              "#fb9f3a"
             ],
             [
              0.8888888888888888,
              "#fdca26"
             ],
             [
              1,
              "#f0f921"
             ]
            ],
            "type": "contour"
           }
          ],
          "contourcarpet": [
           {
            "colorbar": {
             "outlinewidth": 0,
             "ticks": ""
            },
            "type": "contourcarpet"
           }
          ],
          "heatmap": [
           {
            "colorbar": {
             "outlinewidth": 0,
             "ticks": ""
            },
            "colorscale": [
             [
              0,
              "#0d0887"
             ],
             [
              0.1111111111111111,
              "#46039f"
             ],
             [
              0.2222222222222222,
              "#7201a8"
             ],
             [
              0.3333333333333333,
              "#9c179e"
             ],
             [
              0.4444444444444444,
              "#bd3786"
             ],
             [
              0.5555555555555556,
              "#d8576b"
             ],
             [
              0.6666666666666666,
              "#ed7953"
             ],
             [
              0.7777777777777778,
              "#fb9f3a"
             ],
             [
              0.8888888888888888,
              "#fdca26"
             ],
             [
              1,
              "#f0f921"
             ]
            ],
            "type": "heatmap"
           }
          ],
          "heatmapgl": [
           {
            "colorbar": {
             "outlinewidth": 0,
             "ticks": ""
            },
            "colorscale": [
             [
              0,
              "#0d0887"
             ],
             [
              0.1111111111111111,
              "#46039f"
             ],
             [
              0.2222222222222222,
              "#7201a8"
             ],
             [
              0.3333333333333333,
              "#9c179e"
             ],
             [
              0.4444444444444444,
              "#bd3786"
             ],
             [
              0.5555555555555556,
              "#d8576b"
             ],
             [
              0.6666666666666666,
              "#ed7953"
             ],
             [
              0.7777777777777778,
              "#fb9f3a"
             ],
             [
              0.8888888888888888,
              "#fdca26"
             ],
             [
              1,
              "#f0f921"
             ]
            ],
            "type": "heatmapgl"
           }
          ],
          "histogram": [
           {
            "marker": {
             "pattern": {
              "fillmode": "overlay",
              "size": 10,
              "solidity": 0.2
             }
            },
            "type": "histogram"
           }
          ],
          "histogram2d": [
           {
            "colorbar": {
             "outlinewidth": 0,
             "ticks": ""
            },
            "colorscale": [
             [
              0,
              "#0d0887"
             ],
             [
              0.1111111111111111,
              "#46039f"
             ],
             [
              0.2222222222222222,
              "#7201a8"
             ],
             [
              0.3333333333333333,
              "#9c179e"
             ],
             [
              0.4444444444444444,
              "#bd3786"
             ],
             [
              0.5555555555555556,
              "#d8576b"
             ],
             [
              0.6666666666666666,
              "#ed7953"
             ],
             [
              0.7777777777777778,
              "#fb9f3a"
             ],
             [
              0.8888888888888888,
              "#fdca26"
             ],
             [
              1,
              "#f0f921"
             ]
            ],
            "type": "histogram2d"
           }
          ],
          "histogram2dcontour": [
           {
            "colorbar": {
             "outlinewidth": 0,
             "ticks": ""
            },
            "colorscale": [
             [
              0,
              "#0d0887"
             ],
             [
              0.1111111111111111,
              "#46039f"
             ],
             [
              0.2222222222222222,
              "#7201a8"
             ],
             [
              0.3333333333333333,
              "#9c179e"
             ],
             [
              0.4444444444444444,
              "#bd3786"
             ],
             [
              0.5555555555555556,
              "#d8576b"
             ],
             [
              0.6666666666666666,
              "#ed7953"
             ],
             [
              0.7777777777777778,
              "#fb9f3a"
             ],
             [
              0.8888888888888888,
              "#fdca26"
             ],
             [
              1,
              "#f0f921"
             ]
            ],
            "type": "histogram2dcontour"
           }
          ],
          "mesh3d": [
           {
            "colorbar": {
             "outlinewidth": 0,
             "ticks": ""
            },
            "type": "mesh3d"
           }
          ],
          "parcoords": [
           {
            "line": {
             "colorbar": {
              "outlinewidth": 0,
              "ticks": ""
             }
            },
            "type": "parcoords"
           }
          ],
          "pie": [
           {
            "automargin": true,
            "type": "pie"
           }
          ],
          "scatter": [
           {
            "fillpattern": {
             "fillmode": "overlay",
             "size": 10,
             "solidity": 0.2
            },
            "type": "scatter"
           }
          ],
          "scatter3d": [
           {
            "line": {
             "colorbar": {
              "outlinewidth": 0,
              "ticks": ""
             }
            },
            "marker": {
             "colorbar": {
              "outlinewidth": 0,
              "ticks": ""
             }
            },
            "type": "scatter3d"
           }
          ],
          "scattercarpet": [
           {
            "marker": {
             "colorbar": {
              "outlinewidth": 0,
              "ticks": ""
             }
            },
            "type": "scattercarpet"
           }
          ],
          "scattergeo": [
           {
            "marker": {
             "colorbar": {
              "outlinewidth": 0,
              "ticks": ""
             }
            },
            "type": "scattergeo"
           }
          ],
          "scattergl": [
           {
            "marker": {
             "colorbar": {
              "outlinewidth": 0,
              "ticks": ""
             }
            },
            "type": "scattergl"
           }
          ],
          "scattermapbox": [
           {
            "marker": {
             "colorbar": {
              "outlinewidth": 0,
              "ticks": ""
             }
            },
            "type": "scattermapbox"
           }
          ],
          "scatterpolar": [
           {
            "marker": {
             "colorbar": {
              "outlinewidth": 0,
              "ticks": ""
             }
            },
            "type": "scatterpolar"
           }
          ],
          "scatterpolargl": [
           {
            "marker": {
             "colorbar": {
              "outlinewidth": 0,
              "ticks": ""
             }
            },
            "type": "scatterpolargl"
           }
          ],
          "scatterternary": [
           {
            "marker": {
             "colorbar": {
              "outlinewidth": 0,
              "ticks": ""
             }
            },
            "type": "scatterternary"
           }
          ],
          "surface": [
           {
            "colorbar": {
             "outlinewidth": 0,
             "ticks": ""
            },
            "colorscale": [
             [
              0,
              "#0d0887"
             ],
             [
              0.1111111111111111,
              "#46039f"
             ],
             [
              0.2222222222222222,
              "#7201a8"
             ],
             [
              0.3333333333333333,
              "#9c179e"
             ],
             [
              0.4444444444444444,
              "#bd3786"
             ],
             [
              0.5555555555555556,
              "#d8576b"
             ],
             [
              0.6666666666666666,
              "#ed7953"
             ],
             [
              0.7777777777777778,
              "#fb9f3a"
             ],
             [
              0.8888888888888888,
              "#fdca26"
             ],
             [
              1,
              "#f0f921"
             ]
            ],
            "type": "surface"
           }
          ],
          "table": [
           {
            "cells": {
             "fill": {
              "color": "#EBF0F8"
             },
             "line": {
              "color": "white"
             }
            },
            "header": {
             "fill": {
              "color": "#C8D4E3"
             },
             "line": {
              "color": "white"
             }
            },
            "type": "table"
           }
          ]
         },
         "layout": {
          "annotationdefaults": {
           "arrowcolor": "#2a3f5f",
           "arrowhead": 0,
           "arrowwidth": 1
          },
          "autotypenumbers": "strict",
          "coloraxis": {
           "colorbar": {
            "outlinewidth": 0,
            "ticks": ""
           }
          },
          "colorscale": {
           "diverging": [
            [
             0,
             "#8e0152"
            ],
            [
             0.1,
             "#c51b7d"
            ],
            [
             0.2,
             "#de77ae"
            ],
            [
             0.3,
             "#f1b6da"
            ],
            [
             0.4,
             "#fde0ef"
            ],
            [
             0.5,
             "#f7f7f7"
            ],
            [
             0.6,
             "#e6f5d0"
            ],
            [
             0.7,
             "#b8e186"
            ],
            [
             0.8,
             "#7fbc41"
            ],
            [
             0.9,
             "#4d9221"
            ],
            [
             1,
             "#276419"
            ]
           ],
           "sequential": [
            [
             0,
             "#0d0887"
            ],
            [
             0.1111111111111111,
             "#46039f"
            ],
            [
             0.2222222222222222,
             "#7201a8"
            ],
            [
             0.3333333333333333,
             "#9c179e"
            ],
            [
             0.4444444444444444,
             "#bd3786"
            ],
            [
             0.5555555555555556,
             "#d8576b"
            ],
            [
             0.6666666666666666,
             "#ed7953"
            ],
            [
             0.7777777777777778,
             "#fb9f3a"
            ],
            [
             0.8888888888888888,
             "#fdca26"
            ],
            [
             1,
             "#f0f921"
            ]
           ],
           "sequentialminus": [
            [
             0,
             "#0d0887"
            ],
            [
             0.1111111111111111,
             "#46039f"
            ],
            [
             0.2222222222222222,
             "#7201a8"
            ],
            [
             0.3333333333333333,
             "#9c179e"
            ],
            [
             0.4444444444444444,
             "#bd3786"
            ],
            [
             0.5555555555555556,
             "#d8576b"
            ],
            [
             0.6666666666666666,
             "#ed7953"
            ],
            [
             0.7777777777777778,
             "#fb9f3a"
            ],
            [
             0.8888888888888888,
             "#fdca26"
            ],
            [
             1,
             "#f0f921"
            ]
           ]
          },
          "colorway": [
           "#636efa",
           "#EF553B",
           "#00cc96",
           "#ab63fa",
           "#FFA15A",
           "#19d3f3",
           "#FF6692",
           "#B6E880",
           "#FF97FF",
           "#FECB52"
          ],
          "font": {
           "color": "#2a3f5f"
          },
          "geo": {
           "bgcolor": "white",
           "lakecolor": "white",
           "landcolor": "#E5ECF6",
           "showlakes": true,
           "showland": true,
           "subunitcolor": "white"
          },
          "hoverlabel": {
           "align": "left"
          },
          "hovermode": "closest",
          "mapbox": {
           "style": "light"
          },
          "paper_bgcolor": "white",
          "plot_bgcolor": "#E5ECF6",
          "polar": {
           "angularaxis": {
            "gridcolor": "white",
            "linecolor": "white",
            "ticks": ""
           },
           "bgcolor": "#E5ECF6",
           "radialaxis": {
            "gridcolor": "white",
            "linecolor": "white",
            "ticks": ""
           }
          },
          "scene": {
           "xaxis": {
            "backgroundcolor": "#E5ECF6",
            "gridcolor": "white",
            "gridwidth": 2,
            "linecolor": "white",
            "showbackground": true,
            "ticks": "",
            "zerolinecolor": "white"
           },
           "yaxis": {
            "backgroundcolor": "#E5ECF6",
            "gridcolor": "white",
            "gridwidth": 2,
            "linecolor": "white",
            "showbackground": true,
            "ticks": "",
            "zerolinecolor": "white"
           },
           "zaxis": {
            "backgroundcolor": "#E5ECF6",
            "gridcolor": "white",
            "gridwidth": 2,
            "linecolor": "white",
            "showbackground": true,
            "ticks": "",
            "zerolinecolor": "white"
           }
          },
          "shapedefaults": {
           "line": {
            "color": "#2a3f5f"
           }
          },
          "ternary": {
           "aaxis": {
            "gridcolor": "white",
            "linecolor": "white",
            "ticks": ""
           },
           "baxis": {
            "gridcolor": "white",
            "linecolor": "white",
            "ticks": ""
           },
           "bgcolor": "#E5ECF6",
           "caxis": {
            "gridcolor": "white",
            "linecolor": "white",
            "ticks": ""
           }
          },
          "title": {
           "x": 0.05
          },
          "xaxis": {
           "automargin": true,
           "gridcolor": "white",
           "linecolor": "white",
           "ticks": "",
           "title": {
            "standoff": 15
           },
           "zerolinecolor": "white",
           "zerolinewidth": 2
          },
          "yaxis": {
           "automargin": true,
           "gridcolor": "white",
           "linecolor": "white",
           "ticks": "",
           "title": {
            "standoff": 15
           },
           "zerolinecolor": "white",
           "zerolinewidth": 2
          }
         }
        },
        "title": {
         "text": "<i><b>Confusion matrix</b></i>"
        },
        "xaxis": {
         "dtick": 1,
         "gridcolor": "rgb(0, 0, 0)",
         "side": "top",
         "ticks": ""
        },
        "yaxis": {
         "dtick": 1,
         "ticks": "",
         "ticksuffix": "  "
        }
       }
      }
     },
     "metadata": {},
     "output_type": "display_data"
    },
    {
     "data": {
      "application/vnd.plotly.v1+json": {
       "config": {
        "plotlyServerURL": "https://plot.ly"
       },
       "data": [
        {
         "colorscale": [
          [
           0,
           "rgb(247,251,255)"
          ],
          [
           0.125,
           "rgb(222,235,247)"
          ],
          [
           0.25,
           "rgb(198,219,239)"
          ],
          [
           0.375,
           "rgb(158,202,225)"
          ],
          [
           0.5,
           "rgb(107,174,214)"
          ],
          [
           0.625,
           "rgb(66,146,198)"
          ],
          [
           0.75,
           "rgb(33,113,181)"
          ],
          [
           0.875,
           "rgb(8,81,156)"
          ],
          [
           1,
           "rgb(8,48,107)"
          ]
         ],
         "reversescale": false,
         "showscale": true,
         "type": "heatmap",
         "x": [
          "accepted",
          "disinformation",
          "inaction"
         ],
         "y": [
          "accepted",
          "disinformation",
          "inaction"
         ],
         "z": [
          [
           61,
           24,
           33
          ],
          [
           21,
           42,
           24
          ],
          [
           42,
           37,
           86
          ]
         ]
        }
       ],
       "layout": {
        "annotations": [
         {
          "font": {
           "color": "#FFFFFF"
          },
          "showarrow": false,
          "text": "61",
          "x": "accepted",
          "xref": "x",
          "y": "accepted",
          "yref": "y"
         },
         {
          "font": {
           "color": "#000000"
          },
          "showarrow": false,
          "text": "24",
          "x": "disinformation",
          "xref": "x",
          "y": "accepted",
          "yref": "y"
         },
         {
          "font": {
           "color": "#000000"
          },
          "showarrow": false,
          "text": "33",
          "x": "inaction",
          "xref": "x",
          "y": "accepted",
          "yref": "y"
         },
         {
          "font": {
           "color": "#000000"
          },
          "showarrow": false,
          "text": "21",
          "x": "accepted",
          "xref": "x",
          "y": "disinformation",
          "yref": "y"
         },
         {
          "font": {
           "color": "#000000"
          },
          "showarrow": false,
          "text": "42",
          "x": "disinformation",
          "xref": "x",
          "y": "disinformation",
          "yref": "y"
         },
         {
          "font": {
           "color": "#000000"
          },
          "showarrow": false,
          "text": "24",
          "x": "inaction",
          "xref": "x",
          "y": "disinformation",
          "yref": "y"
         },
         {
          "font": {
           "color": "#000000"
          },
          "showarrow": false,
          "text": "42",
          "x": "accepted",
          "xref": "x",
          "y": "inaction",
          "yref": "y"
         },
         {
          "font": {
           "color": "#000000"
          },
          "showarrow": false,
          "text": "37",
          "x": "disinformation",
          "xref": "x",
          "y": "inaction",
          "yref": "y"
         },
         {
          "font": {
           "color": "#FFFFFF"
          },
          "showarrow": false,
          "text": "86",
          "x": "inaction",
          "xref": "x",
          "y": "inaction",
          "yref": "y"
         },
         {
          "font": {
           "color": "black",
           "size": 14
          },
          "showarrow": false,
          "text": "Predicted value",
          "x": 0.5,
          "xref": "paper",
          "y": -0.15,
          "yref": "paper"
         },
         {
          "font": {
           "color": "black",
           "size": 14
          },
          "showarrow": false,
          "text": "Real value",
          "textangle": -90,
          "x": -0.35,
          "xref": "paper",
          "y": 0.5,
          "yref": "paper"
         }
        ],
        "margin": {
         "l": 200,
         "t": 50
        },
        "template": {
         "data": {
          "bar": [
           {
            "error_x": {
             "color": "#2a3f5f"
            },
            "error_y": {
             "color": "#2a3f5f"
            },
            "marker": {
             "line": {
              "color": "#E5ECF6",
              "width": 0.5
             },
             "pattern": {
              "fillmode": "overlay",
              "size": 10,
              "solidity": 0.2
             }
            },
            "type": "bar"
           }
          ],
          "barpolar": [
           {
            "marker": {
             "line": {
              "color": "#E5ECF6",
              "width": 0.5
             },
             "pattern": {
              "fillmode": "overlay",
              "size": 10,
              "solidity": 0.2
             }
            },
            "type": "barpolar"
           }
          ],
          "carpet": [
           {
            "aaxis": {
             "endlinecolor": "#2a3f5f",
             "gridcolor": "white",
             "linecolor": "white",
             "minorgridcolor": "white",
             "startlinecolor": "#2a3f5f"
            },
            "baxis": {
             "endlinecolor": "#2a3f5f",
             "gridcolor": "white",
             "linecolor": "white",
             "minorgridcolor": "white",
             "startlinecolor": "#2a3f5f"
            },
            "type": "carpet"
           }
          ],
          "choropleth": [
           {
            "colorbar": {
             "outlinewidth": 0,
             "ticks": ""
            },
            "type": "choropleth"
           }
          ],
          "contour": [
           {
            "colorbar": {
             "outlinewidth": 0,
             "ticks": ""
            },
            "colorscale": [
             [
              0,
              "#0d0887"
             ],
             [
              0.1111111111111111,
              "#46039f"
             ],
             [
              0.2222222222222222,
              "#7201a8"
             ],
             [
              0.3333333333333333,
              "#9c179e"
             ],
             [
              0.4444444444444444,
              "#bd3786"
             ],
             [
              0.5555555555555556,
              "#d8576b"
             ],
             [
              0.6666666666666666,
              "#ed7953"
             ],
             [
              0.7777777777777778,
              "#fb9f3a"
             ],
             [
              0.8888888888888888,
              "#fdca26"
             ],
             [
              1,
              "#f0f921"
             ]
            ],
            "type": "contour"
           }
          ],
          "contourcarpet": [
           {
            "colorbar": {
             "outlinewidth": 0,
             "ticks": ""
            },
            "type": "contourcarpet"
           }
          ],
          "heatmap": [
           {
            "colorbar": {
             "outlinewidth": 0,
             "ticks": ""
            },
            "colorscale": [
             [
              0,
              "#0d0887"
             ],
             [
              0.1111111111111111,
              "#46039f"
             ],
             [
              0.2222222222222222,
              "#7201a8"
             ],
             [
              0.3333333333333333,
              "#9c179e"
             ],
             [
              0.4444444444444444,
              "#bd3786"
             ],
             [
              0.5555555555555556,
              "#d8576b"
             ],
             [
              0.6666666666666666,
              "#ed7953"
             ],
             [
              0.7777777777777778,
              "#fb9f3a"
             ],
             [
              0.8888888888888888,
              "#fdca26"
             ],
             [
              1,
              "#f0f921"
             ]
            ],
            "type": "heatmap"
           }
          ],
          "heatmapgl": [
           {
            "colorbar": {
             "outlinewidth": 0,
             "ticks": ""
            },
            "colorscale": [
             [
              0,
              "#0d0887"
             ],
             [
              0.1111111111111111,
              "#46039f"
             ],
             [
              0.2222222222222222,
              "#7201a8"
             ],
             [
              0.3333333333333333,
              "#9c179e"
             ],
             [
              0.4444444444444444,
              "#bd3786"
             ],
             [
              0.5555555555555556,
              "#d8576b"
             ],
             [
              0.6666666666666666,
              "#ed7953"
             ],
             [
              0.7777777777777778,
              "#fb9f3a"
             ],
             [
              0.8888888888888888,
              "#fdca26"
             ],
             [
              1,
              "#f0f921"
             ]
            ],
            "type": "heatmapgl"
           }
          ],
          "histogram": [
           {
            "marker": {
             "pattern": {
              "fillmode": "overlay",
              "size": 10,
              "solidity": 0.2
             }
            },
            "type": "histogram"
           }
          ],
          "histogram2d": [
           {
            "colorbar": {
             "outlinewidth": 0,
             "ticks": ""
            },
            "colorscale": [
             [
              0,
              "#0d0887"
             ],
             [
              0.1111111111111111,
              "#46039f"
             ],
             [
              0.2222222222222222,
              "#7201a8"
             ],
             [
              0.3333333333333333,
              "#9c179e"
             ],
             [
              0.4444444444444444,
              "#bd3786"
             ],
             [
              0.5555555555555556,
              "#d8576b"
             ],
             [
              0.6666666666666666,
              "#ed7953"
             ],
             [
              0.7777777777777778,
              "#fb9f3a"
             ],
             [
              0.8888888888888888,
              "#fdca26"
             ],
             [
              1,
              "#f0f921"
             ]
            ],
            "type": "histogram2d"
           }
          ],
          "histogram2dcontour": [
           {
            "colorbar": {
             "outlinewidth": 0,
             "ticks": ""
            },
            "colorscale": [
             [
              0,
              "#0d0887"
             ],
             [
              0.1111111111111111,
              "#46039f"
             ],
             [
              0.2222222222222222,
              "#7201a8"
             ],
             [
              0.3333333333333333,
              "#9c179e"
             ],
             [
              0.4444444444444444,
              "#bd3786"
             ],
             [
              0.5555555555555556,
              "#d8576b"
             ],
             [
              0.6666666666666666,
              "#ed7953"
             ],
             [
              0.7777777777777778,
              "#fb9f3a"
             ],
             [
              0.8888888888888888,
              "#fdca26"
             ],
             [
              1,
              "#f0f921"
             ]
            ],
            "type": "histogram2dcontour"
           }
          ],
          "mesh3d": [
           {
            "colorbar": {
             "outlinewidth": 0,
             "ticks": ""
            },
            "type": "mesh3d"
           }
          ],
          "parcoords": [
           {
            "line": {
             "colorbar": {
              "outlinewidth": 0,
              "ticks": ""
             }
            },
            "type": "parcoords"
           }
          ],
          "pie": [
           {
            "automargin": true,
            "type": "pie"
           }
          ],
          "scatter": [
           {
            "fillpattern": {
             "fillmode": "overlay",
             "size": 10,
             "solidity": 0.2
            },
            "type": "scatter"
           }
          ],
          "scatter3d": [
           {
            "line": {
             "colorbar": {
              "outlinewidth": 0,
              "ticks": ""
             }
            },
            "marker": {
             "colorbar": {
              "outlinewidth": 0,
              "ticks": ""
             }
            },
            "type": "scatter3d"
           }
          ],
          "scattercarpet": [
           {
            "marker": {
             "colorbar": {
              "outlinewidth": 0,
              "ticks": ""
             }
            },
            "type": "scattercarpet"
           }
          ],
          "scattergeo": [
           {
            "marker": {
             "colorbar": {
              "outlinewidth": 0,
              "ticks": ""
             }
            },
            "type": "scattergeo"
           }
          ],
          "scattergl": [
           {
            "marker": {
             "colorbar": {
              "outlinewidth": 0,
              "ticks": ""
             }
            },
            "type": "scattergl"
           }
          ],
          "scattermapbox": [
           {
            "marker": {
             "colorbar": {
              "outlinewidth": 0,
              "ticks": ""
             }
            },
            "type": "scattermapbox"
           }
          ],
          "scatterpolar": [
           {
            "marker": {
             "colorbar": {
              "outlinewidth": 0,
              "ticks": ""
             }
            },
            "type": "scatterpolar"
           }
          ],
          "scatterpolargl": [
           {
            "marker": {
             "colorbar": {
              "outlinewidth": 0,
              "ticks": ""
             }
            },
            "type": "scatterpolargl"
           }
          ],
          "scatterternary": [
           {
            "marker": {
             "colorbar": {
              "outlinewidth": 0,
              "ticks": ""
             }
            },
            "type": "scatterternary"
           }
          ],
          "surface": [
           {
            "colorbar": {
             "outlinewidth": 0,
             "ticks": ""
            },
            "colorscale": [
             [
              0,
              "#0d0887"
             ],
             [
              0.1111111111111111,
              "#46039f"
             ],
             [
              0.2222222222222222,
              "#7201a8"
             ],
             [
              0.3333333333333333,
              "#9c179e"
             ],
             [
              0.4444444444444444,
              "#bd3786"
             ],
             [
              0.5555555555555556,
              "#d8576b"
             ],
             [
              0.6666666666666666,
              "#ed7953"
             ],
             [
              0.7777777777777778,
              "#fb9f3a"
             ],
             [
              0.8888888888888888,
              "#fdca26"
             ],
             [
              1,
              "#f0f921"
             ]
            ],
            "type": "surface"
           }
          ],
          "table": [
           {
            "cells": {
             "fill": {
              "color": "#EBF0F8"
             },
             "line": {
              "color": "white"
             }
            },
            "header": {
             "fill": {
              "color": "#C8D4E3"
             },
             "line": {
              "color": "white"
             }
            },
            "type": "table"
           }
          ]
         },
         "layout": {
          "annotationdefaults": {
           "arrowcolor": "#2a3f5f",
           "arrowhead": 0,
           "arrowwidth": 1
          },
          "autotypenumbers": "strict",
          "coloraxis": {
           "colorbar": {
            "outlinewidth": 0,
            "ticks": ""
           }
          },
          "colorscale": {
           "diverging": [
            [
             0,
             "#8e0152"
            ],
            [
             0.1,
             "#c51b7d"
            ],
            [
             0.2,
             "#de77ae"
            ],
            [
             0.3,
             "#f1b6da"
            ],
            [
             0.4,
             "#fde0ef"
            ],
            [
             0.5,
             "#f7f7f7"
            ],
            [
             0.6,
             "#e6f5d0"
            ],
            [
             0.7,
             "#b8e186"
            ],
            [
             0.8,
             "#7fbc41"
            ],
            [
             0.9,
             "#4d9221"
            ],
            [
             1,
             "#276419"
            ]
           ],
           "sequential": [
            [
             0,
             "#0d0887"
            ],
            [
             0.1111111111111111,
             "#46039f"
            ],
            [
             0.2222222222222222,
             "#7201a8"
            ],
            [
             0.3333333333333333,
             "#9c179e"
            ],
            [
             0.4444444444444444,
             "#bd3786"
            ],
            [
             0.5555555555555556,
             "#d8576b"
            ],
            [
             0.6666666666666666,
             "#ed7953"
            ],
            [
             0.7777777777777778,
             "#fb9f3a"
            ],
            [
             0.8888888888888888,
             "#fdca26"
            ],
            [
             1,
             "#f0f921"
            ]
           ],
           "sequentialminus": [
            [
             0,
             "#0d0887"
            ],
            [
             0.1111111111111111,
             "#46039f"
            ],
            [
             0.2222222222222222,
             "#7201a8"
            ],
            [
             0.3333333333333333,
             "#9c179e"
            ],
            [
             0.4444444444444444,
             "#bd3786"
            ],
            [
             0.5555555555555556,
             "#d8576b"
            ],
            [
             0.6666666666666666,
             "#ed7953"
            ],
            [
             0.7777777777777778,
             "#fb9f3a"
            ],
            [
             0.8888888888888888,
             "#fdca26"
            ],
            [
             1,
             "#f0f921"
            ]
           ]
          },
          "colorway": [
           "#636efa",
           "#EF553B",
           "#00cc96",
           "#ab63fa",
           "#FFA15A",
           "#19d3f3",
           "#FF6692",
           "#B6E880",
           "#FF97FF",
           "#FECB52"
          ],
          "font": {
           "color": "#2a3f5f"
          },
          "geo": {
           "bgcolor": "white",
           "lakecolor": "white",
           "landcolor": "#E5ECF6",
           "showlakes": true,
           "showland": true,
           "subunitcolor": "white"
          },
          "hoverlabel": {
           "align": "left"
          },
          "hovermode": "closest",
          "mapbox": {
           "style": "light"
          },
          "paper_bgcolor": "white",
          "plot_bgcolor": "#E5ECF6",
          "polar": {
           "angularaxis": {
            "gridcolor": "white",
            "linecolor": "white",
            "ticks": ""
           },
           "bgcolor": "#E5ECF6",
           "radialaxis": {
            "gridcolor": "white",
            "linecolor": "white",
            "ticks": ""
           }
          },
          "scene": {
           "xaxis": {
            "backgroundcolor": "#E5ECF6",
            "gridcolor": "white",
            "gridwidth": 2,
            "linecolor": "white",
            "showbackground": true,
            "ticks": "",
            "zerolinecolor": "white"
           },
           "yaxis": {
            "backgroundcolor": "#E5ECF6",
            "gridcolor": "white",
            "gridwidth": 2,
            "linecolor": "white",
            "showbackground": true,
            "ticks": "",
            "zerolinecolor": "white"
           },
           "zaxis": {
            "backgroundcolor": "#E5ECF6",
            "gridcolor": "white",
            "gridwidth": 2,
            "linecolor": "white",
            "showbackground": true,
            "ticks": "",
            "zerolinecolor": "white"
           }
          },
          "shapedefaults": {
           "line": {
            "color": "#2a3f5f"
           }
          },
          "ternary": {
           "aaxis": {
            "gridcolor": "white",
            "linecolor": "white",
            "ticks": ""
           },
           "baxis": {
            "gridcolor": "white",
            "linecolor": "white",
            "ticks": ""
           },
           "bgcolor": "#E5ECF6",
           "caxis": {
            "gridcolor": "white",
            "linecolor": "white",
            "ticks": ""
           }
          },
          "title": {
           "x": 0.05
          },
          "xaxis": {
           "automargin": true,
           "gridcolor": "white",
           "linecolor": "white",
           "ticks": "",
           "title": {
            "standoff": 15
           },
           "zerolinecolor": "white",
           "zerolinewidth": 2
          },
          "yaxis": {
           "automargin": true,
           "gridcolor": "white",
           "linecolor": "white",
           "ticks": "",
           "title": {
            "standoff": 15
           },
           "zerolinecolor": "white",
           "zerolinewidth": 2
          }
         }
        },
        "title": {
         "text": "<i><b>Confusion matrix</b></i>"
        },
        "xaxis": {
         "dtick": 1,
         "gridcolor": "rgb(0, 0, 0)",
         "side": "top",
         "ticks": ""
        },
        "yaxis": {
         "dtick": 1,
         "ticks": "",
         "ticksuffix": "  "
        }
       }
      }
     },
     "metadata": {},
     "output_type": "display_data"
    }
   ],
   "source": [
    "display(plot_confusion_matrix(cm, labels=None, title='Confusion Matrix', cmap='Blues'))\n",
    "display(plot_confusion_matrix(cm_macro, labels=[\"accepted\", \"disinformation\", \"inaction\"], title='Confusion Matrix', cmap='Blues'))"
   ]
  },
  {
   "cell_type": "code",
   "execution_count": null,
   "metadata": {},
   "outputs": [],
   "source": []
  }
 ],
 "metadata": {
  "kernelspec": {
   "display_name": ".venv",
   "language": "python",
   "name": "python3"
  },
  "language_info": {
   "codemirror_mode": {
    "name": "ipython",
    "version": 3
   },
   "file_extension": ".py",
   "mimetype": "text/x-python",
   "name": "python",
   "nbconvert_exporter": "python",
   "pygments_lexer": "ipython3",
   "version": "3.12.8"
  }
 },
 "nbformat": 4,
 "nbformat_minor": 2
}
