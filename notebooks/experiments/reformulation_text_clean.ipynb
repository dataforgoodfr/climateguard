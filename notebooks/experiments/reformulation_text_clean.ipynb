{
 "cells": [
  {
   "cell_type": "code",
   "execution_count": 1,
   "metadata": {},
   "outputs": [],
   "source": [
    "import pandas as pd\n",
    "import pprint\n",
    "\n",
    "from openai import AsyncOpenAI\n",
    "import asyncio\n",
    "from tqdm.asyncio import tqdm\n",
    "import tiktoken\n",
    "\n",
    "import os\n",
    "from dotenv import load_dotenv\n",
    "\n",
    "load_dotenv()\n",
    "os.getenv('OPENAI_API_KEY')\n",
    "\n",
    "client = AsyncOpenAI()\n",
    "model = \"gpt-4o-mini\""
   ]
  },
  {
   "cell_type": "code",
   "execution_count": 2,
   "metadata": {},
   "outputs": [],
   "source": [
    "system_prompt = \"\"\"\n",
    "    L'utilisateur va fournir un extrait de 2 minutes d'une émission de télévision ou de radio.\n",
    "    Le transcript ne contiendra pas de ponctuation et peut être de qualité médiocre (vocabulaire incorrect, mauvais découpage du texte). \n",
    "    La transcription est phonétique. Lorsque la phrase n'a pas de sens, reformule en prenant compte de la phonétique pour que le texte final soit en français correct.  \n",
    "    \n",
    "    Exemple :\n",
    "    Transcription : 'elles doivent donc être renouvelés et sané col débuts en europe'\n",
    "    Correction : 'Elles doivent donc être renouvelées, et ce n'est que le début en Europe.'\n",
    "\"\"\"\n",
    "encoding = tiktoken.encoding_for_model(model)\n",
    "prompt_tokens = len(encoding.encode(system_prompt))\n",
    "\n",
    "async def correct_text(\n",
    "        text: str, system_prompt: str = system_prompt, prompt_tokens: str = prompt_tokens, tpm_limit: int = 2e6\n",
    "    ):\n",
    "    text_tokens = len(encoding.encode(text))\n",
    "    total_tokens = prompt_tokens + text_tokens\n",
    "    wait_time_s = 60 * total_tokens / tpm_limit\n",
    "    await asyncio.sleep(wait_time_s)\n",
    "    \n",
    "    response = await client.beta.chat.completions.parse(\n",
    "        model=model,\n",
    "        messages=[\n",
    "            {\"role\": \"system\", \"content\": system_prompt},\n",
    "            {\"role\": \"user\", \"content\": text},\n",
    "        ],\n",
    "        temperature=0,\n",
    "    )\n",
    "    return response.choices[0].message.content\n",
    "\n",
    "async def run_correction(texts: list[str]):\n",
    "    semaphore = asyncio.Semaphore(10)\n",
    "    \n",
    "    async def bounded_detect_claim(text):\n",
    "        async with semaphore:\n",
    "            return await correct_text(text)\n",
    "    \n",
    "    # Use tqdm_asyncio.gather with the bounded_detect_claim function\n",
    "    correction = await tqdm.gather(*[bounded_detect_claim(text) for text in texts])\n",
    "    return correction\n",
    "\n",
    "#correction = await run_correction(df[\"text\"])\n",
    "#df['corrected_text'] = correction"
   ]
  },
  {
   "cell_type": "code",
   "execution_count": 54,
   "metadata": {},
   "outputs": [
    {
     "name": "stdout",
     "output_type": "stream",
     "text": [
      "(\"tout mon dentiste pas parler d'un dentifrice protégeant ses astronautes qui \"\n",
      " 'réduit les saignements occasionne arthrose en classique le <unk> le '\n",
      " 'dentifrice artero dont classique réduit de soixante douze pourcent les '\n",
      " 'saignements occasionnels des gencives nouveau retrouvons fraîcheur intense '\n",
      " \"l'efficacité la fraîcheur en plus artero dont jean civet solutions découvrez \"\n",
      " 'des lignes dynamiques un intérieur au design raffiné avec feu mais elle '\n",
      " 'étonne encore mieux seulement vingt-trois kilomètres au compteur et beaucoup '\n",
      " 'moins cher que la neuf et vous en avez beaucoup comme sacha aramisauto '\n",
      " \"toutes celle cela là oui et des centaines des d'centaines autres d'autres \"\n",
      " \"jusqu'à trente pour cent moins chers que leurs valeurs neuf trouvez la vôtre \"\n",
      " 'sur aramisauto point com aramisauto authentique pastèque sans pépins bouquet '\n",
      " \"la star gourmet de l'été un monde de possibilités dont vous seul connaissait \"\n",
      " \"les limites cnews la liberté d'expression n'a jamais fait autant parler \"\n",
      " \"pourquoi l'ordinaire devrait être la norme vous méritez plus méritez plus \"\n",
      " \"<unk> c'est votre mot nouveau lexus lbx des trois cent quarante-neuf euros \"\n",
      " \"par mois entretien cl <unk> on a la découverte d'une nouvelle espèce le \"\n",
      " 'mégot des villes à peine jeté sur le trottoir commence son grand voyage '\n",
      " 'voyage échappant japon de justesse un agent de propreté est aidée par le '\n",
      " 'vent la pluie ils se retrouvent dans les échos sa route va être parsemé '\n",
      " \"d'embûches avant qui ne dérive pour atteindre sa destination finale l'océan \"\n",
      " \"entourés de milliers d'autres déchets venu comme lui de la terre il va se \"\n",
      " \"décomposer en polluants à lui tout seul des centaines de litres d'eau pierre \"\n",
      " '<unk> <unk> <unk>')\n"
     ]
    }
   ],
   "source": [
    "pprint.pprint(\"tout mon dentiste pas parler d'un dentifrice protégeant ses astronautes qui réduit les saignements occasionne arthrose en classique le <unk> le dentifrice artero dont classique réduit de soixante douze pourcent les saignements occasionnels des gencives nouveau retrouvons fraîcheur intense l'efficacité la fraîcheur en plus artero dont jean civet solutions découvrez des lignes dynamiques un intérieur au design raffiné avec feu mais elle étonne encore mieux seulement vingt-trois kilomètres au compteur et beaucoup moins cher que la neuf et vous en avez beaucoup comme sacha aramisauto toutes celle cela là oui et des centaines des d'centaines autres d'autres jusqu'à trente pour cent moins chers que leurs valeurs neuf trouvez la vôtre sur aramisauto point com aramisauto authentique pastèque sans pépins bouquet la star gourmet de l'été un monde de possibilités dont vous seul connaissait les limites cnews la liberté d'expression n'a jamais fait autant parler pourquoi l'ordinaire devrait être la norme vous méritez plus méritez plus <unk> c'est votre mot nouveau lexus lbx des trois cent quarante-neuf euros par mois entretien cl <unk> on a la découverte d'une nouvelle espèce le mégot des villes à peine jeté sur le trottoir commence son grand voyage voyage échappant japon de justesse un agent de propreté est aidée par le vent la pluie ils se retrouvent dans les échos sa route va être parsemé d'embûches avant qui ne dérive pour atteindre sa destination finale l'océan entourés de milliers d'autres déchets venu comme lui de la terre il va se décomposer en polluants à lui tout seul des centaines de litres d'eau pierre <unk> <unk> <unk>\")"
   ]
  },
  {
   "cell_type": "code",
   "execution_count": 57,
   "metadata": {},
   "outputs": [
    {
     "name": "stdout",
     "output_type": "stream",
     "text": [
      "[\"Tout mon dentiste parle d'un dentifrice protégeant ses utilisateurs, qui \"\n",
      " \"réduit les saignements occasionnels des gencives. C'est le dentifrice \"\n",
      " 'Artero, qui réduit de soixante-douze pour cent les saignements occasionnels. '\n",
      " 'Nouveau, il offre une fraîcheur intense et une efficacité accrue. Découvrez '\n",
      " 'des lignes dynamiques et un intérieur au design raffiné avec la nouvelle '\n",
      " 'voiture, qui étonne encore mieux, seulement vingt-trois kilomètres au '\n",
      " 'compteur et beaucoup moins cher que la version neuve. Vous en avez beaucoup, '\n",
      " \"comme Sacha chez Aramisauto. Il y a des centaines d'autres modèles jusqu'à \"\n",
      " 'trente pour cent moins chers que leur valeur neuve. Trouvez la vôtre sur '\n",
      " 'aramisauto.com.\\n'\n",
      " '\\n'\n",
      " \"Aramisauto, authentique, c'est comme une pastèque sans pépins, un bouquet de \"\n",
      " 'possibilités dont vous seul connaissez les limites. CNews, la liberté '\n",
      " \"d'expression n'a jamais fait autant parler. Pourquoi l'ordinaire devrait-il \"\n",
      " \"être la norme ? Vous méritez plus. C'est votre mot. Nouveau Lexus LBX, à \"\n",
      " 'trois cent quarante-neuf euros par mois, entretien inclus.\\n'\n",
      " '\\n'\n",
      " 'On a découvert une nouvelle espèce, le mégot des villes. À peine jeté sur le '\n",
      " 'trottoir, il commence son grand voyage, échappant au Japon de justesse. Un '\n",
      " 'agent de propreté est aidé par le vent et la pluie. Ils se retrouvent dans '\n",
      " \"les échos. Sa route va être parsemée d'embûches avant qu'il ne dérive pour \"\n",
      " \"atteindre sa destination finale, l'océan. Entouré de milliers d'autres \"\n",
      " 'déchets venus comme lui de la terre, il va se décomposer en polluants, à lui '\n",
      " \"tout seul, des centaines de litres d'eau.\"]\n"
     ]
    }
   ],
   "source": [
    "txt_with_advertisement = [\"tout mon dentiste pas parler d'un dentifrice protégeant ses astronautes qui réduit les saignements occasionne arthrose en classique le <unk> le dentifrice artero dont classique réduit de soixante douze pourcent les saignements occasionnels des gencives nouveau retrouvons fraîcheur intense l'efficacité la fraîcheur en plus artero dont jean civet solutions découvrez des lignes dynamiques un intérieur au design raffiné avec feu mais elle étonne encore mieux seulement vingt-trois kilomètres au compteur et beaucoup moins cher que la neuf et vous en avez beaucoup comme sacha aramisauto toutes celle cela là oui et des centaines des d'centaines autres d'autres jusqu'à trente pour cent moins chers que leurs valeurs neuf trouvez la vôtre sur aramisauto point com aramisauto authentique pastèque sans pépins bouquet la star gourmet de l'été un monde de possibilités dont vous seul connaissait les limites cnews la liberté d'expression n'a jamais fait autant parler pourquoi l'ordinaire devrait être la norme vous méritez plus méritez plus <unk> c'est votre mot nouveau lexus lbx des trois cent quarante-neuf euros par mois entretien cl <unk> on a la découverte d'une nouvelle espèce le mégot des villes à peine jeté sur le trottoir commence son grand voyage voyage échappant japon de justesse un agent de propreté est aidée par le vent la pluie ils se retrouvent dans les échos sa route va être parsemé d'embûches avant qui ne dérive pour atteindre sa destination finale l'océan entourés de milliers d'autres déchets venu comme lui de la terre il va se décomposer en polluants à lui tout seul des centaines de litres d'eau pierre <unk> <unk> <unk>\"]\n",
    "correction = await run_correction(txt_with_advertisement)\n",
    "pprint.pprint(correction)"
   ]
  }
 ],
 "metadata": {
  "kernelspec": {
   "display_name": ".venv",
   "language": "python",
   "name": "python3"
  },
  "language_info": {
   "codemirror_mode": {
    "name": "ipython",
    "version": 3
   },
   "file_extension": ".py",
   "mimetype": "text/x-python",
   "name": "python",
   "nbconvert_exporter": "python",
   "pygments_lexer": "ipython3",
   "version": "3.12.7"
  }
 },
 "nbformat": 4,
 "nbformat_minor": 2
}
