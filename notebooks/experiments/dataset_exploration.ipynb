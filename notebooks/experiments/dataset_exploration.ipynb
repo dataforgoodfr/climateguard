{
 "cells": [
  {
   "cell_type": "markdown",
   "metadata": {},
   "source": [
    "Exploration of various datasets in the aim of building a CARDS and claim detection dataset.\n",
    "\n",
    "Different steps explored to transform existing datasets to be relevant:\n",
    "- climate-related classification\n",
    "- CARDS classification"
   ]
  },
  {
   "cell_type": "code",
   "execution_count": 1,
   "metadata": {},
   "outputs": [],
   "source": [
    "from transformers import AutoTokenizer, AutoConfig, AutoModelForSequenceClassification\n",
    "import torch\n",
    "from datasets import load_dataset"
   ]
  },
  {
   "cell_type": "code",
   "execution_count": 6,
   "metadata": {},
   "outputs": [
    {
     "name": "stdout",
     "output_type": "stream",
     "text": [
      "Loading binary model: crarojasca/BinaryAugmentedCARDS\n",
      "Loading taxonomy model: crarojasca/TaxonomyAugmentedCARDS\n"
     ]
    }
   ],
   "source": [
    "device=\"cpu\"\n",
    "\n",
    "# Models\n",
    "MAX_LEN = 256\n",
    "BINARY_MODEL_DIR = \"crarojasca/BinaryAugmentedCARDS\"\n",
    "TAXONOMY_MODEL_DIR = \"crarojasca/TaxonomyAugmentedCARDS\"\n",
    "\n",
    "# Loading tokenizer\n",
    "tokenizer = AutoTokenizer.from_pretrained(\n",
    "    BINARY_MODEL_DIR,\n",
    "    max_length = MAX_LEN, padding = \"max_length\",\n",
    "    return_token_type_ids = True\n",
    ")\n",
    "\n",
    "# Loading Models\n",
    "## 1. Binary Model\n",
    "print(\"Loading binary model: {}\".format(BINARY_MODEL_DIR))\n",
    "config = AutoConfig.from_pretrained(BINARY_MODEL_DIR)\n",
    "binary_model = AutoModelForSequenceClassification.from_pretrained(BINARY_MODEL_DIR, config=config)\n",
    "binary_model.to(device)\n",
    "\n",
    "## 2. Taxonomy Model\n",
    "print(\"Loading taxonomy model: {}\".format(TAXONOMY_MODEL_DIR))\n",
    "config = AutoConfig.from_pretrained(TAXONOMY_MODEL_DIR)\n",
    "taxonomy_model = AutoModelForSequenceClassification.from_pretrained(TAXONOMY_MODEL_DIR, config=config)\n",
    "taxonomy_model.to(device)\n",
    "\n",
    "# Load Dataset\n",
    "id2label = {\n",
    "    0: '1_1', 1: '1_2', 2: '1_3', 3: '1_4', 4: '1_6', 5: '1_7', 6: '2_1',\n",
    "    7: '2_3', 8: '3_1', 9: '3_2', 10: '3_3', 11: '4_1', 12: '4_2', 13: '4_4',\n",
    "    14: '4_5', 15: '5_1', 16: '5_2', 17: '5_3'\n",
    "}\n",
    "\n",
    "# Example:\n",
    "# text = \"Climate change is just a natural phenomenon\"\n",
    "\n",
    "# tokenized_text = tokenizer(text, return_tensors = \"pt\")\n",
    "\n",
    "\n",
    "# # Running Binary Model\n",
    "# outputs = binary_model(**tokenized_text)\n",
    "# binary_score = outputs.logits.softmax(dim = 1)\n",
    "# binary_prediction = torch.argmax(outputs.logits, axis=1)\n",
    "# binary_predictions = binary_prediction.to('cpu').item()\n",
    "\n",
    "# # Running Taxonomy Model\n",
    "# outputs = taxonomy_model(**tokenized_text)\n",
    "# taxonomy_score = outputs.logits.softmax(dim = 1)\n",
    "# taxonomy_prediction = torch.argmax(outputs.logits, axis=1)\n",
    "# taxonomy_prediction = taxonomy_prediction.to('cpu').item()\n",
    "\n",
    "\n",
    "# prediction = \"0_0\" if binary_prediction==0 else id2label[taxonomy_prediction]\n",
    "# prediction"
   ]
  },
  {
   "cell_type": "code",
   "execution_count": 7,
   "metadata": {},
   "outputs": [],
   "source": [
    "def predict_cards(text):\n",
    "  tokenized_text = tokenizer(text, return_tensors = \"pt\")\n",
    "\n",
    "  # Running Binary Model\n",
    "  outputs = binary_model(**tokenized_text)\n",
    "  # binary_score = outputs.logits.softmax(dim = 1)\n",
    "  binary_prediction = torch.argmax(outputs.logits, axis=1)\n",
    "  binary_prediction = binary_prediction.to('cuda').item()\n",
    "\n",
    "  if binary_prediction == 0:\n",
    "    return \"0_0\"\n",
    "  # Running Taxonomy Model\n",
    "  outputs = taxonomy_model(**tokenized_text)\n",
    "  # taxonomy_score = outputs.logits.softmax(dim = 1)\n",
    "  taxonomy_prediction = torch.argmax(outputs.logits, axis=1)\n",
    "  taxonomy_prediction = taxonomy_prediction.to('cuda').item()\n",
    "\n",
    "  return id2label[taxonomy_prediction]"
   ]
  },
  {
   "cell_type": "markdown",
   "metadata": {},
   "source": [
    "### Climate-fever"
   ]
  },
  {
   "cell_type": "code",
   "execution_count": 4,
   "metadata": {},
   "outputs": [
    {
     "data": {
      "application/vnd.jupyter.widget-view+json": {
       "model_id": "cd3dd77fba92491cb5aff9538f94a42e",
       "version_major": 2,
       "version_minor": 0
      },
      "text/plain": [
       "README.md:   0%|          | 0.00/8.09k [00:00<?, ?B/s]"
      ]
     },
     "metadata": {},
     "output_type": "display_data"
    },
    {
     "data": {
      "application/vnd.jupyter.widget-view+json": {
       "model_id": "58871b28c0cc4abca00f6647be09960a",
       "version_major": 2,
       "version_minor": 0
      },
      "text/plain": [
       "test-00000-of-00001.parquet:   0%|          | 0.00/869k [00:00<?, ?B/s]"
      ]
     },
     "metadata": {},
     "output_type": "display_data"
    },
    {
     "data": {
      "application/vnd.jupyter.widget-view+json": {
       "model_id": "34595e1eee764b3cb68cc0a533bb8d6c",
       "version_major": 2,
       "version_minor": 0
      },
      "text/plain": [
       "Generating test split:   0%|          | 0/1535 [00:00<?, ? examples/s]"
      ]
     },
     "metadata": {},
     "output_type": "display_data"
    }
   ],
   "source": [
    "# Loading\n",
    "ds_climate_fever = load_dataset(\"tdiggelm/climate_fever\")\n",
    "df = ds_climate_fever[\"test\"].to_pandas()"
   ]
  },
  {
   "cell_type": "code",
   "execution_count": null,
   "metadata": {},
   "outputs": [],
   "source": [
    "# Cards prediction\n",
    "df['cards_label_predicted'] = df['claim'].apply(lambda x: predict_cards(x))\n",
    "\n",
    "df[\"cards_label\"] = df.apply(lambda row: 0 if row['claim_label'] == 0 else None,axis=1)\n",
    "df_to_label = df[df['cards_label'].isna()]\n",
    "df_to_label.to_csv(\"../../data/exploration/cards-fever_to_label.csv\", index=False)\n",
    "\n",
    "df.cards_label_predicted.value_counts()"
   ]
  },
  {
   "cell_type": "code",
   "execution_count": 11,
   "metadata": {},
   "outputs": [
    {
     "data": {
      "text/plain": [
       "cards_label_predicted\n",
       "0_0    911\n",
       "5_2    407\n",
       "5_1    169\n",
       "5_3     44\n",
       "3_2      2\n",
       "3_3      1\n",
       "1_3      1\n",
       "Name: count, dtype: int64"
      ]
     },
     "execution_count": 11,
     "metadata": {},
     "output_type": "execute_result"
    }
   ],
   "source": [
    "df_to_label.to_csv(\"../../data/exploration/cards-fever_to_label.csv\", index=False)\n",
    "\n",
    "df.cards_label_predicted.value_counts()"
   ]
  },
  {
   "cell_type": "markdown",
   "metadata": {},
   "source": [
    "The CARDS classification models are over-predicting the 5th category, as they are prominent in the original CARDS twitter dataset."
   ]
  },
  {
   "cell_type": "markdown",
   "metadata": {},
   "source": [
    "### Cards dataset"
   ]
  },
  {
   "cell_type": "code",
   "execution_count": null,
   "metadata": {},
   "outputs": [],
   "source": [
    "!wget -O sample_data/dataset_cards \"https://drive.google.com/uc?export=download&id=14exmlYCT3-K2byYHFFrShAIYiemJQroi\"\n",
    "!unzip sample_data/dataset_cards.zip -d sample_data/cards_data"
   ]
  },
  {
   "cell_type": "code",
   "execution_count": null,
   "metadata": {},
   "outputs": [],
   "source": [
    "df[\"cards_label\"] = df.apply(lambda row: 0 if row['claim_label'] == 0 else None,axis=1)"
   ]
  },
  {
   "cell_type": "markdown",
   "metadata": {},
   "source": [
    "### Climate-related classification\n",
    "\n",
    "Using climatebert"
   ]
  },
  {
   "cell_type": "code",
   "execution_count": null,
   "metadata": {},
   "outputs": [],
   "source": [
    "from transformers import AutoModelForSequenceClassification, AutoTokenizer, pipeline\n",
    "from transformers.pipelines.pt_utils import KeyDataset\n",
    "import datasets\n",
    "from tqdm.auto import tqdm\n",
    "import torch\n",
    "\n",
    "dataset_name = \"climatebert/climate_detection\"\n",
    "model_name = \"climatebert/distilroberta-base-climate-detector\"\n",
    "\n",
    "# If you want to use your own data, simply load them as 🤗 Datasets dataset, see https://huggingface.co/docs/datasets/loading\n",
    "# dataset = datasets.load_dataset(dataset_name, split=\"test\")\n",
    "\n",
    "model_cbert = AutoModelForSequenceClassification.from_pretrained(model_name)\n",
    "tokenizer_cbert = AutoTokenizer.from_pretrained(model_name, max_len=512)\n",
    "model_cbert.to(\"cuda\")\n",
    "\n",
    "def predict_env(text):\n",
    "  tokenized_text = tokenizer_cbert(text, return_tensors=\"pt\").to(\"cuda\")\n",
    "  outputs = model_cbert(**tokenized_text)\n",
    "  pred = torch.argmax(outputs.logits, axis=1)\n",
    "  pred = pred.to(\"cpu\").item()\n",
    "  return pred"
   ]
  },
  {
   "cell_type": "markdown",
   "metadata": {},
   "source": [
    "Testing recall on climate-fever (which is supposed to be 100% climate-related)"
   ]
  },
  {
   "cell_type": "code",
   "execution_count": null,
   "metadata": {},
   "outputs": [],
   "source": [
    "df = ds_climate_fever[\"test\"].to_pandas()\n",
    "df = df.sample(100)\n",
    "df[\"prediction_env\"] = df.claim.apply(lambda x: predict_env(x))\n",
    "df.to_csv(\"../data/exploration/climate-fever-env-prediction.csv\",index=False)\n",
    "\n",
    "print(\"NON CLIMATE RELATED\")\n",
    "for x in df[df[\"prediction_env\"]==0].claim:\n",
    "  print(x)\n",
    "\n",
    "print(\"CLIMATE RELATED\")\n",
    "for x in df[df[\"prediction_env\"]==1].sample(30).claim:\n",
    "  print(x)"
   ]
  },
  {
   "cell_type": "markdown",
   "metadata": {},
   "source": [
    "### Filtering datasets to find climate samples"
   ]
  },
  {
   "cell_type": "code",
   "execution_count": null,
   "metadata": {},
   "outputs": [],
   "source": [
    "# !wget -O sample_data/claimbuster.zip \"https://drive.google.com/uc?export=download&id=14exmlYCT3-K2byYHFFrShAIYiemJQroi\"\n",
    "!unzip drive/MyDrive/datasets/MultiFC_Codalab/scoring_multifc.zip -d drive/MyDrive/datasets/MultiFC_Codalab/scoring_multifc"
   ]
  },
  {
   "cell_type": "code",
   "execution_count": null,
   "metadata": {},
   "outputs": [],
   "source": [
    "import pandas as pd\n",
    "df = pd.read_csv(\"../../datasets/MultiFC_Codalab/public_data/dev.tsv\", sep='\\t', header=None)\n",
    "df.columns = ['claimID', 'claim', 'label', 'claim_url', \"reason\", \"category\", \"speaker\",\"checker\", \"tags\",\"title\",\"publish_date\", \"claim_date\", \"claim_entities\"]\n",
    "print(df.size)\n",
    "df = df.dropna(subset=['claim'])\n",
    "df = df[df['claim'].str.len() <= 512]\n",
    "print(df.size)\n",
    "df.head()"
   ]
  },
  {
   "cell_type": "code",
   "execution_count": null,
   "metadata": {},
   "outputs": [],
   "source": [
    "tags = []\n",
    "for x in df.tags.unique():\n",
    "  if not isinstance(x, str):\n",
    "    continue\n",
    "  values = x[1:-1].split(\",\")\n",
    "  values = [v.replace(\"'\",\"\").strip() for v in values]\n",
    "  tags.extend(values)\n",
    "\n",
    "tags = list(set(tags))\n",
    "tags.sort()"
   ]
  },
  {
   "cell_type": "code",
   "execution_count": null,
   "metadata": {},
   "outputs": [],
   "source": [
    "tags = []\n",
    "for value in df.claim_date\n",
    "tags = df.claim_date"
   ]
  },
  {
   "cell_type": "code",
   "execution_count": null,
   "metadata": {},
   "outputs": [],
   "source": [
    "from tqdm.auto import tqdm\n",
    "\n",
    "tqdm.pandas(desc=\"detecting climate related...\")\n",
    "df[\"env_predict\"] = df.progress_apply(lambda x: predict_env(x[\"claim\"]), axis=1)"
   ]
  },
  {
   "cell_type": "code",
   "execution_count": null,
   "metadata": {},
   "outputs": [],
   "source": [
    "env_claims = df[df.env_predict == 1]\n",
    "\n",
    "env_claims.to_csv(\"/content/drive/MyDrive/results/multiFC_env_claims.csv\", index=False)"
   ]
  },
  {
   "cell_type": "markdown",
   "metadata": {},
   "source": [
    "### FactCheck Insights"
   ]
  },
  {
   "cell_type": "code",
   "execution_count": 4,
   "metadata": {},
   "outputs": [
    {
     "name": "stderr",
     "output_type": "stream",
     "text": [
      "/tmp/ipykernel_71053/3722313904.py:2: DtypeWarning: Columns (12,14,24,25,39,40,41,42,43,44,45,46,47,48,49,50,51,52,53,54,55,56) have mixed types. Specify dtype option on import or set low_memory=False.\n",
      "  df = pd.read_csv(\"../../../datasets/fact_check_insights/claim_review.csv\")\n"
     ]
    }
   ],
   "source": [
    "import pandas as pd\n",
    "df = pd.read_csv(\"../../../datasets/fact_check_insights/claim_review.csv\")"
   ]
  },
  {
   "cell_type": "code",
   "execution_count": 9,
   "metadata": {},
   "outputs": [
    {
     "data": {
      "text/html": [
       "<div>\n",
       "<style scoped>\n",
       "    .dataframe tbody tr th:only-of-type {\n",
       "        vertical-align: middle;\n",
       "    }\n",
       "\n",
       "    .dataframe tbody tr th {\n",
       "        vertical-align: top;\n",
       "    }\n",
       "\n",
       "    .dataframe thead th {\n",
       "        text-align: right;\n",
       "    }\n",
       "</style>\n",
       "<table border=\"1\" class=\"dataframe\">\n",
       "  <thead>\n",
       "    <tr style=\"text-align: right;\">\n",
       "      <th></th>\n",
       "      <th>id</th>\n",
       "      <th>@context</th>\n",
       "      <th>@type</th>\n",
       "      <th>claimReviewed</th>\n",
       "      <th>datePublished</th>\n",
       "      <th>url</th>\n",
       "      <th>author.@type</th>\n",
       "      <th>author.name</th>\n",
       "      <th>author.url</th>\n",
       "      <th>itemReviewed.@type</th>\n",
       "      <th>...</th>\n",
       "      <th>itemReviewed.appearance.11.url</th>\n",
       "      <th>itemReviewed.appearance.11.@type</th>\n",
       "      <th>itemReviewed.appearance.12.url</th>\n",
       "      <th>itemReviewed.appearance.12.@type</th>\n",
       "      <th>itemReviewed.appearance.13.url</th>\n",
       "      <th>itemReviewed.appearance.13.@type</th>\n",
       "      <th>itemReviewed.appearance.14.url</th>\n",
       "      <th>itemReviewed.appearance.14.@type</th>\n",
       "      <th>itemReviewed.appearance.15.url</th>\n",
       "      <th>itemReviewed.appearance.15.@type</th>\n",
       "    </tr>\n",
       "  </thead>\n",
       "  <tbody>\n",
       "    <tr>\n",
       "      <th>0</th>\n",
       "      <td>cd8d5cf1-2474-45b9-a7af-b1f825c5ba55</td>\n",
       "      <td>https://schema.org</td>\n",
       "      <td>ClaimReview</td>\n",
       "      <td>Governo Lula isenta as empresas de recolherem ...</td>\n",
       "      <td>2023-05-22 00:00:00 UTC</td>\n",
       "      <td>https://www.boatos.org/politica/lula-isenta-em...</td>\n",
       "      <td>Organization</td>\n",
       "      <td>Boatos.org</td>\n",
       "      <td>https://www.boatos.org/</td>\n",
       "      <td>Claim</td>\n",
       "      <td>...</td>\n",
       "      <td>NaN</td>\n",
       "      <td>NaN</td>\n",
       "      <td>NaN</td>\n",
       "      <td>NaN</td>\n",
       "      <td>NaN</td>\n",
       "      <td>NaN</td>\n",
       "      <td>NaN</td>\n",
       "      <td>NaN</td>\n",
       "      <td>NaN</td>\n",
       "      <td>NaN</td>\n",
       "    </tr>\n",
       "    <tr>\n",
       "      <th>1</th>\n",
       "      <td>9b847434-dc35-4e15-aa4c-d822eaff1900</td>\n",
       "      <td>https://schema.org</td>\n",
       "      <td>ClaimReview</td>\n",
       "      <td>Veículo do MST envolvido em acidente, carregan...</td>\n",
       "      <td>2023-05-22 00:00:00 UTC</td>\n",
       "      <td>https://www.boatos.org/politica/veiculo-mst-ch...</td>\n",
       "      <td>Organization</td>\n",
       "      <td>Boatos.org</td>\n",
       "      <td>https://www.boatos.org/</td>\n",
       "      <td>Claim</td>\n",
       "      <td>...</td>\n",
       "      <td>NaN</td>\n",
       "      <td>NaN</td>\n",
       "      <td>NaN</td>\n",
       "      <td>NaN</td>\n",
       "      <td>NaN</td>\n",
       "      <td>NaN</td>\n",
       "      <td>NaN</td>\n",
       "      <td>NaN</td>\n",
       "      <td>NaN</td>\n",
       "      <td>NaN</td>\n",
       "    </tr>\n",
       "    <tr>\n",
       "      <th>2</th>\n",
       "      <td>e74002af-7ca3-4071-917c-0585430d459d</td>\n",
       "      <td>https://schema.org</td>\n",
       "      <td>ClaimReview</td>\n",
       "      <td>Benjamin Netanyahu não atendeu Lula ao telefon...</td>\n",
       "      <td>2023-10-19 00:00:00 UTC</td>\n",
       "      <td>https://lupa.uol.com.br/jornalismo/2023/10/19/...</td>\n",
       "      <td>Organization</td>\n",
       "      <td>Lupa</td>\n",
       "      <td>https://lupa.uol.com.br/</td>\n",
       "      <td>Claim</td>\n",
       "      <td>...</td>\n",
       "      <td>NaN</td>\n",
       "      <td>NaN</td>\n",
       "      <td>NaN</td>\n",
       "      <td>NaN</td>\n",
       "      <td>NaN</td>\n",
       "      <td>NaN</td>\n",
       "      <td>NaN</td>\n",
       "      <td>NaN</td>\n",
       "      <td>NaN</td>\n",
       "      <td>NaN</td>\n",
       "    </tr>\n",
       "    <tr>\n",
       "      <th>3</th>\n",
       "      <td>7fa85432-ef67-4edb-b60c-b3342d39db42</td>\n",
       "      <td>https://schema.org</td>\n",
       "      <td>ClaimReview</td>\n",
       "      <td>Vom 3. November an durfte sich die österreichi...</td>\n",
       "      <td>2020-11-19 00:00:00 UTC</td>\n",
       "      <td>https://dpa-factchecking.com/austria/200921-99...</td>\n",
       "      <td>Organization</td>\n",
       "      <td>Deutsche Presse-Agentur</td>\n",
       "      <td>https://dpa-factchecking.com/</td>\n",
       "      <td>Claim</td>\n",
       "      <td>...</td>\n",
       "      <td>NaN</td>\n",
       "      <td>NaN</td>\n",
       "      <td>NaN</td>\n",
       "      <td>NaN</td>\n",
       "      <td>NaN</td>\n",
       "      <td>NaN</td>\n",
       "      <td>NaN</td>\n",
       "      <td>NaN</td>\n",
       "      <td>NaN</td>\n",
       "      <td>NaN</td>\n",
       "    </tr>\n",
       "    <tr>\n",
       "      <th>4</th>\n",
       "      <td>4c323a0f-f67b-4ace-b77e-cf573ff8ba00</td>\n",
       "      <td>https://schema.org</td>\n",
       "      <td>ClaimReview</td>\n",
       "      <td>Das Video zeigt ein brennendes Polizeiauto in ...</td>\n",
       "      <td>2023-10-19 00:00:00 UTC</td>\n",
       "      <td>https://dpa-factchecking.com/germany/231017-99...</td>\n",
       "      <td>Organization</td>\n",
       "      <td>dpa-factchecking</td>\n",
       "      <td>https://dpa-factchecking.com/</td>\n",
       "      <td>Claim</td>\n",
       "      <td>...</td>\n",
       "      <td>NaN</td>\n",
       "      <td>NaN</td>\n",
       "      <td>NaN</td>\n",
       "      <td>NaN</td>\n",
       "      <td>NaN</td>\n",
       "      <td>NaN</td>\n",
       "      <td>NaN</td>\n",
       "      <td>NaN</td>\n",
       "      <td>NaN</td>\n",
       "      <td>NaN</td>\n",
       "    </tr>\n",
       "  </tbody>\n",
       "</table>\n",
       "<p>5 rows × 57 columns</p>\n",
       "</div>"
      ],
      "text/plain": [
       "                                     id            @context        @type  \\\n",
       "0  cd8d5cf1-2474-45b9-a7af-b1f825c5ba55  https://schema.org  ClaimReview   \n",
       "1  9b847434-dc35-4e15-aa4c-d822eaff1900  https://schema.org  ClaimReview   \n",
       "2  e74002af-7ca3-4071-917c-0585430d459d  https://schema.org  ClaimReview   \n",
       "3  7fa85432-ef67-4edb-b60c-b3342d39db42  https://schema.org  ClaimReview   \n",
       "4  4c323a0f-f67b-4ace-b77e-cf573ff8ba00  https://schema.org  ClaimReview   \n",
       "\n",
       "                                       claimReviewed            datePublished  \\\n",
       "0  Governo Lula isenta as empresas de recolherem ...  2023-05-22 00:00:00 UTC   \n",
       "1  Veículo do MST envolvido em acidente, carregan...  2023-05-22 00:00:00 UTC   \n",
       "2  Benjamin Netanyahu não atendeu Lula ao telefon...  2023-10-19 00:00:00 UTC   \n",
       "3  Vom 3. November an durfte sich die österreichi...  2020-11-19 00:00:00 UTC   \n",
       "4  Das Video zeigt ein brennendes Polizeiauto in ...  2023-10-19 00:00:00 UTC   \n",
       "\n",
       "                                                 url  author.@type  \\\n",
       "0  https://www.boatos.org/politica/lula-isenta-em...  Organization   \n",
       "1  https://www.boatos.org/politica/veiculo-mst-ch...  Organization   \n",
       "2  https://lupa.uol.com.br/jornalismo/2023/10/19/...  Organization   \n",
       "3  https://dpa-factchecking.com/austria/200921-99...  Organization   \n",
       "4  https://dpa-factchecking.com/germany/231017-99...  Organization   \n",
       "\n",
       "               author.name                     author.url itemReviewed.@type  \\\n",
       "0               Boatos.org        https://www.boatos.org/              Claim   \n",
       "1               Boatos.org        https://www.boatos.org/              Claim   \n",
       "2                     Lupa       https://lupa.uol.com.br/              Claim   \n",
       "3  Deutsche Presse-Agentur  https://dpa-factchecking.com/              Claim   \n",
       "4         dpa-factchecking  https://dpa-factchecking.com/              Claim   \n",
       "\n",
       "   ... itemReviewed.appearance.11.url itemReviewed.appearance.11.@type  \\\n",
       "0  ...                            NaN                              NaN   \n",
       "1  ...                            NaN                              NaN   \n",
       "2  ...                            NaN                              NaN   \n",
       "3  ...                            NaN                              NaN   \n",
       "4  ...                            NaN                              NaN   \n",
       "\n",
       "  itemReviewed.appearance.12.url itemReviewed.appearance.12.@type  \\\n",
       "0                            NaN                              NaN   \n",
       "1                            NaN                              NaN   \n",
       "2                            NaN                              NaN   \n",
       "3                            NaN                              NaN   \n",
       "4                            NaN                              NaN   \n",
       "\n",
       "  itemReviewed.appearance.13.url itemReviewed.appearance.13.@type  \\\n",
       "0                            NaN                              NaN   \n",
       "1                            NaN                              NaN   \n",
       "2                            NaN                              NaN   \n",
       "3                            NaN                              NaN   \n",
       "4                            NaN                              NaN   \n",
       "\n",
       "  itemReviewed.appearance.14.url itemReviewed.appearance.14.@type  \\\n",
       "0                            NaN                              NaN   \n",
       "1                            NaN                              NaN   \n",
       "2                            NaN                              NaN   \n",
       "3                            NaN                              NaN   \n",
       "4                            NaN                              NaN   \n",
       "\n",
       "  itemReviewed.appearance.15.url itemReviewed.appearance.15.@type  \n",
       "0                            NaN                              NaN  \n",
       "1                            NaN                              NaN  \n",
       "2                            NaN                              NaN  \n",
       "3                            NaN                              NaN  \n",
       "4                            NaN                              NaN  \n",
       "\n",
       "[5 rows x 57 columns]"
      ]
     },
     "execution_count": 9,
     "metadata": {},
     "output_type": "execute_result"
    }
   ],
   "source": [
    "df.head()"
   ]
  },
  {
   "cell_type": "code",
   "execution_count": null,
   "metadata": {},
   "outputs": [
    {
     "data": {
      "text/plain": [
       "['Governo Lula isenta as empresas de recolherem o FGTS dos empregados',\n",
       " 'Veículo do MST envolvido em acidente, carregando várias caixas de munição.',\n",
       " 'Benjamin Netanyahu não atendeu Lula ao telefone, indignado com a simpatia do brasileiro ao Hamas, segundo o Embaixador de Israel no Brasil, Daniel Zonshine. O embaixador ainda disse que o Brasil governado por Lula está incluso na lista negra de Países que apoiam o Terrorismo.',\n",
       " 'Vom 3. November an durfte sich die österreichische Bevölkerung nur noch in Ausnahmefällen zwischen 20 und 6 Uhr außerhalb des eigenen Heims aufhalten. Bei der Sporthilfe-Gala am 10. November sollen die Anwesenden diese Regel angeblich missachtet haben. Dies sei live ab 20.15 Uhr im Fernsehen beobachtbar gewesen, wird in Facebook-Postings (hier archiviert) behauptet.',\n",
       " 'Das Video zeigt ein brennendes Polizeiauto in Schweden.',\n",
       " 'Auf Facebook wird derzeit ein Video verbreitet (hier archiviert), das angeblich eine Polizeiaktion in der Pariser U-Bahn zeigen soll. Der Grund war dem User zufolge, dass «Moslem [sic] ohne Masken andere bespuckten».',\n",
       " 'Viele Gegner der Maßnahmen zur Eindämmung der Ausbreitung von Covid-19 sehen die Polizei prinzipiell auf ihrer Seite. Deshalb sind vor allem Videoclips beliebt, in dem sich Polizisten mit Demonstranten scheinbar solidarisieren. Zu so einer Aktion soll es im italienischen Genua gekommen sein. «Über 2 Wochen gingen die Italiener für ihr Überleben auf die Straße, jetzt setzen die Polizisten die Helme symbolisch ab!», heißt es etwa in einem Posting auf Facebook (hier archiviert), das auch von einer «Fake-Pandemie» spricht.',\n",
       " 'Trotz Corona-Krise soll Gesundheitsminister Rudolf Anschober (Grüne) einem Mann die Hand geschüttelt haben - angeblich ohne eine Maske zu tragen. Das zumindest behauptet ein auf Facebook verbreiteter Screenshot eines Videos von «oe24» (hier archiviert). «ANSCHOBER HEUTE: alle mit Maske und natürlich mit CORONA-Begrüssung» (sic!)», ist zu lesen.',\n",
       " 'Wann dürfen Beschäftigte nach einer Corona-Infektion wieder zur Arbeit? Diese Frage wird in Österreich kontrovers diskutiert. Im Internet wird in einem oft geteilten Posting (hier archiviert) nun behauptet, «\"leicht\" positiv Getestete» dürften wieder arbeiten gehen. Nach der Arbeit müssten sie aber zu Hause eine Quarantäne einhalten. Diese Vorgabe wird Gesundheitsminister Rudolf Anschober (Grüne) zugeschrieben.',\n",
       " 'LULA APROVA O USO DE PAU DE ARARA PRA TRANSPORTAR PESSOAS. COM BOLSONARO ELES ANDAVAM DE UBER, MAS TAVA RUIM',\n",
       " 'Líder palestino defende Israel na ONU e deixa todos assustados 18/10/2023',\n",
       " 'Un hombre sospechoso o un musulmán camina en una torre de Notre Dame durante el incendio',\n",
       " 'Novos cupons de R$ 150, R$ 250 e R$ 500 do Kwai. Confira. Kwai liberou novos bônus em dinheiro de até R$ 500,00',\n",
       " 'Casa caiu Ong de Luciano Huck estoca armas e financia o tráfico',\n",
       " 'Un musulmán agrediendo a dos mujeres en un centro de salud en España',\n",
       " 'صور لحرائق الأمازون في شهر آب/أغسطس 2019',\n",
       " 'Angel Locsin will be imprisoned after Quezon City Mayor Joy Belmonte made sure the actress will be held responsible for a community event mishap',\n",
       " 'Angel Locsin paid a member of GMA News to secure media coverage of her community pantry initiative',\n",
       " 'Los cinco tripulantes del sumergible Titan “estan vivos”.',\n",
       " 'Relatório oficial afirma: respiradores mataram quase todos os pacientes com COVID',\n",
       " 'Argentina em crise: Mega produtora de vinhos na argentina declara falência. E é obrigada a vender seus vinhos a preço de custo. Melhores vinhos do mundo com 90%off.',\n",
       " 'Após falência no Brasil, Pernambucanas se vê com grande estoque de produtos importados ainda parados. O novo dono da rede não se interessou pelos produtos, então a varejista faz hoje uma grande queima de estoque com 70% de desconto.',\n",
       " 'Líder do Hamas, com Haddad e Gleise,Aliados?você ainda tem alguma dúvida? Precisa dizer mais alguma coisa?',\n",
       " 'حبة طماطم علئ شكل وجه الإنسان لو اول المره تشوفها',\n",
       " 'MEPA stated no chemical leakage from Xpress Pearl !!',\n",
       " 'Laut ORF-Artikel wurde Siegfried Meryn in einer ORF-Sendung von Gesundheitsminister Johannes Rauch zusammengeschlagen, weil er die Absprachen zwischen Pharmaunternehmen und deren absichtliches Unterschlagen wirksamer Medikamente gegen Herz-Kreislauf-Erkrankungen aufgedeckt hat. ',\n",
       " 'Slapping The Inner Elbow Is  A Recommended Treatment During A Heart Attack!',\n",
       " 'Sweden declared sex as a sport !',\n",
       " 'حالة اغماء علي حداد من محكمة سيدي محمد بعد سماعه النطق بالحكم 18. سنة نافذة',\n",
       " '\"O saldo natural acumulado nos últimos quatro anos foi de -134 mil\".',\n",
       " 'An image shows a woman standing in front of riot police in Lahore during protests against the arrest of Imran Khan.',\n",
       " 'A partir de segunda-feira, esses criminosos — nós estamos falando de sociopatas, serial killers, de pessoas que estupram crianças [...] —, eles passarão a cumprir, segundo o artigo primeiro da resolução, pena ou medida de segurança em prisão domiciliar com tratamento nos hospitais',\n",
       " 'Este video es de un lanzamiento de cohetes de Hezbollah contra Israel durante la guerra actual.',\n",
       " 'נתונים בישראל מראים שהיו אפס מתים מקורונה שהיו מתחת לגיל 50 וגם בלי מחלות רקע',\n",
       " 'KARL BOX - Estojo de Aniversário Art & Graphic [QUEIMA DE ESTOQUE ] KARL BOX - Estojo de Aniversário Art & Graphic Celebrando o monumental 255º aniversário da Faber-Castell',\n",
       " 'Costa Silva diz que o PIB aumentou para \"mais 13.200 milhões de euros do que em 2021\".',\n",
       " 'An diesem tatarischen Gebäude sind Stromleitungen und Steckdosen aus dem Jahr 692 oder 1692 zu sehen.',\n",
       " \"Horecabaas verkocht zijn stoelen incl. twee bier. Boa's konden niets doen.\",\n",
       " 'Balão com foto de Lula, para comemorar o STF, cai num presídio. Não adianta, a prisão é o destino natural de Lula. Nem de balão escapa..',\n",
       " 'Vacina da Pfizer causa câncer porque vem com sequência SV40 descoberta por professor Murakami',\n",
       " 'Terrorista francês do Estado Islâmico ameaça o Brasil',\n",
       " 'Cette vidéo montre une scène récente à la frontière entre les États-Unis et le Mexique.',\n",
       " 'Il n’y a pas eu d’épidémie.',\n",
       " '2.000 manifestants à Londres le 24 avril, sur une photo.',\n",
       " 'Ein Vergleich dieser Fotos ist geeignet, um den Stand des Meeresspiegels zu erkennen.',\n",
       " 'Apeel-Beschichtung birgt Sicherheitsrisiken und Allergiegefahr.',\n",
       " 'Microsoft memasukkan chip ke dalam vaksin Covid-19 Pfizer',\n",
       " 'Bei Ausgangssperre darf man nicht in den eigenen Garten',\n",
       " 'Portugal registou a maior carga fiscal de sempre em 2022.',\n",
       " '\"Credit card debt is above $1 trillion for the FIRST TIME EVER.\"',\n",
       " 'Projeto de lei 2469/2021 autoria do deputado João Flores PT-BA, cria descontos e benefícios especiais para homens que se declararem oficialmente gays.',\n",
       " 'Video yang diklaim menunnjukkan tumpukan jenazah pasien Covid-19 yang memenuhi rumah sakit di India',\n",
       " 'هل نسبة المصابين بكورونا تُعدّ معياراً عند احتساب معدّل \"مناعة القطيع\"؟',\n",
       " 'Rudal asal Cina merupakan dalang tenggelamnya KRI Nanggala 402',\n",
       " 'Filipino citizens above 70 years old are not in the priority list for COVID-19 vaccination.',\n",
       " '“Donald Trump called up Putin today and made a new deal that will save America.”',\n",
       " 'హిందూ దేవుడైన గణేశుని ప్రతిమను కలిగి ఉన్న ఇండోనేషియా కరెన్సీ నోటు యొక్క చిత్రం',\n",
       " '“Cristiano Ronaldo bersama [junto] Palestina”',\n",
       " 'The Central Government allocated funds to the States on 05 January 2021 from the PM CARES fund, but the States failed to install the required oxygen plants',\n",
       " 'Niño intenta limpiar las calles de la basura de los falsos manifestantes en Estados Unidos.',\n",
       " 'East Palestine, Ohio train derailment alters chemical make-up of snow',\n",
       " 'A video shows the February 2023 train derailment in East Palestine, Ohio',\n",
       " 'The Ohio train derailment was planned or intentional',\n",
       " 'Images show a Baphomet book club for children',\n",
       " ' ‘The Kerala Story’ actress Devoleena Bhattacharjee married a Muslim man after the release of her film',\n",
       " '10 mil óbitos de mal súbito em caraguatatuba\\xa0 por causa da vacina ! Todas as prostitutas (mídia Globalistas e políticos) estão calados diante desse extermínio a longo prazo ! POR QUANTOS MILHÕES ELES VENDERAM AS PESSOAS ???',\n",
       " 'Volodymyr Zelensky a acheté la Highgrove House du roi Charles III pour 20 millions de livres',\n",
       " 'PT DEVOLVENDO O CARINHO DO NORDESTINO. ABASTECIMENTO DE ÁGUA PAROU NO NORDESTE',\n",
       " 'మధ్యప్రదేశ్ ఇండోర్ నగరంలో దేశంలోనే 2వ అతి పెద్ద కోవిడ్ సంరక్షణ కేంద్రాన్ని RSS నిర్మించింది',\n",
       " '\"Liberal politicians block access to medicine based on skin color.\"',\n",
       " 'Origami Hearts Display at Angkor Wat.',\n",
       " 'Executive Order 23 abolished anti-insurgency task force',\n",
       " 'Decreto assinado! Governo libera saques para quem utilizou pix e cartão de crédito entre 2019 e 2022. Está disponível a consulta do saldo retido no CPF dos brasileiros',\n",
       " 'కేరళ తీరంలో పట్టుబడిన రూ. 25 వేల కోట్లు విలువైన మాదకద్రవ్యాల సరఫరాలో కేరళ కమ్యూనిస్ట్ ప్రభుత్వం హస్తం ఉంది',\n",
       " '“The Inflation Reduction Act led to higher taxes.”',\n",
       " 'Visuals of dead bodies waiting for cremation outside the crematoriums in Maharashtra',\n",
       " '\"Ces\" policiers ne pouvaient rien faire contre la ruse d\\'un cafetier aux Pays-Bas qui a vendu ses chaises 5 euros à des clients (avec une bière dessus)',\n",
       " 'Corona-Nasentests ähneln altägyptischen Strafpraxen - und sind lebensgefährlich',\n",
       " 'Presentes grátis da Nescafe para apoiadores Café instantâneo Nescafe Gold Blend grátis (200gx5), uma chance para todo',\n",
       " 'Video clips of Bollywood celebrities Hrithik Roshan, Salman Khan, and Akshay Kumar supporting Imran Khan after his arrest',\n",
       " 'Foto yang diklaim menunjukkan parahnya Covid-19 di India hingga membuat warga mesti memakai masker oksigen di jalanan',\n",
       " 'A Muslim boy attacked a Hindu girl in Seoni, Madhya Pradesh, in yet another Love Jihad incident',\n",
       " 'Grünen-Chefin Annalena Baerbock will die Hundehaltung verbieten, da die Tiere zu viel klimaschädliches CO2 verursachen.',\n",
       " 'Een coronavaccinatie verstoort de menstruatiecyclus van vrouwen. Ook niet-gevaccineerde vrouwen hebben een verstoorde cyclus na contact met gevaccineerde mensen.',\n",
       " \" Un repas de l'OMS organisé le 18 mars 2021, sans masque, en pleine pandémie de coronavirus.\",\n",
       " 'Bild zeigt einen Einsatz des australischen Militärs gegen ein Schlepperboot.',\n",
       " '2020 gab es keine Grippetoten. Grippetote werden als Corona-Tote bezeichnet. Grippe wurde ausgerottet. Grippe-Impfung gibt es seit 100 Jahren.',\n",
       " 'السفير الفرنسي يلوّح بتدخّل عسكري لحماية إنتاج النفط في الجنوب',\n",
       " 'Bij deze online raadsels van de AH en Lidl valt iets te winnen.',\n",
       " 'Fatih Portakal’ın Sözcü TV’den ayrılma kararı aldığı iddiası',\n",
       " 'Mahsa Amini’nin mezarına yapılan anma yürüyüşünde “Tek Yol Atatürk” sloganının atıldığı iddiası',\n",
       " 'Disinfo',\n",
       " 'No RS, policiais da Ativa e da Reserva, sendo massacrados financeiramente por um governador ..... . ENQUANTO ISSO, em SÃO PAULO:  \\n*Veículos Super Blindados Adquiridos Pelo Governador TARCÍSIO GOMES DE FREITAS, de São Paulo. São 6 Blindados, Para Reforçar a Batalhão de Choque... Um Governo Que Se Preocupa Com a Segurança da População, Só Merece Gratidão!!! 💪🏽👮🏽🇧🇷👍🏽*👏👏',\n",
       " \"EXAME REPRESENTATIVIDADE 'Cota GAY' em quartéis APROVADA O congresso aprovou ontem a Cota LGBT em quartéis, a PL 6734/2017 do deputado Edmilson Rodrigues (PSOL-PA) passou com a maioria de votos favoráveis no congresso As cotas terão validade a partir do período de alistamento militar do ano que vem\",\n",
       " 'Dia Nacional do Estupro de Tik Tok, 24 de abril de 2021 Desafio assustador do Tik Tok quer promover a prática de abusos',\n",
       " 'O AGIR DE DEUS.. Motoboy teve moto apreendida, recebeu água na face, doou lanche a um pai e seu filho que catava lixo para comer e final se torna SURPREENDENTE',\n",
       " 'Video orang-orang yang bergelimpangan di jalanan yang diklaim menunjukkan kondisi terkini India yang sedang mengalami \"tsunami Covid-19\"',\n",
       " 'Somalia pernah mencetak uang koin bergambar wajah pendiri NU, KH Hasyim Asyari',\n",
       " 'هل قال رئيس الوزراء الإيطالي: لقد انتهت حلول الأرض والأمر متروك للسماء؟',\n",
       " 'Videonun Elon Musk’ın Twitter çalışanını canlı yayında kovduğunu gösterdiği iddiası']"
      ]
     },
     "execution_count": 7,
     "metadata": {},
     "output_type": "execute_result"
    }
   ],
   "source": [
    "df.head(100).claimReviewed.tolist()"
   ]
  }
 ],
 "metadata": {
  "kernelspec": {
   "display_name": ".venv",
   "language": "python",
   "name": "python3"
  },
  "language_info": {
   "codemirror_mode": {
    "name": "ipython",
    "version": 3
   },
   "file_extension": ".py",
   "mimetype": "text/x-python",
   "name": "python",
   "nbconvert_exporter": "python",
   "pygments_lexer": "ipython3",
   "version": "3.12.3"
  }
 },
 "nbformat": 4,
 "nbformat_minor": 2
}
