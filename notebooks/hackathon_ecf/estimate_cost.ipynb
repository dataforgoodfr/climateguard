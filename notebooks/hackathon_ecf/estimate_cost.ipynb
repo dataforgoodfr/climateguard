{
 "cells": [
  {
   "cell_type": "markdown",
   "metadata": {},
   "source": [
    "# Estimate the cost of using closed-source models on the MediaTree dataset"
   ]
  },
  {
   "cell_type": "code",
   "execution_count": 2,
   "metadata": {},
   "outputs": [],
   "source": [
    "import pandas as pd"
   ]
  },
  {
   "cell_type": "code",
   "execution_count": 16,
   "metadata": {},
   "outputs": [],
   "source": [
    "# https://openai.com/api/pricing/\n",
    "# https://www.anthropic.com/pricing#anthropic-api\n",
    "pricing = {\n",
    "    'gpt-4o-mini': {\n",
    "        'input': 0.15,\n",
    "        'output': 0.6,\n",
    "        'cache_discount': 0.5\n",
    "    },\n",
    "    'claude-3.5-haiku': {\n",
    "        'input': 0.25,\n",
    "        'output': 1.25,\n",
    "        'cache_discount': 0.1\n",
    "    },\n",
    "}"
   ]
  },
  {
   "cell_type": "code",
   "execution_count": 3,
   "metadata": {},
   "outputs": [
    {
     "data": {
      "text/html": [
       "<div>\n",
       "<style scoped>\n",
       "    .dataframe tbody tr th:only-of-type {\n",
       "        vertical-align: middle;\n",
       "    }\n",
       "\n",
       "    .dataframe tbody tr th {\n",
       "        vertical-align: top;\n",
       "    }\n",
       "\n",
       "    .dataframe thead th {\n",
       "        text-align: right;\n",
       "    }\n",
       "</style>\n",
       "<table border=\"1\" class=\"dataframe\">\n",
       "  <thead>\n",
       "    <tr style=\"text-align: right;\">\n",
       "      <th></th>\n",
       "      <th>start</th>\n",
       "      <th>plaintext</th>\n",
       "      <th>channel_name</th>\n",
       "      <th>channel_title</th>\n",
       "      <th>channel_radio</th>\n",
       "      <th>num_characters</th>\n",
       "      <th>num_words</th>\n",
       "      <th>num_tokens</th>\n",
       "      <th>num_tokens_approx</th>\n",
       "    </tr>\n",
       "  </thead>\n",
       "  <tbody>\n",
       "    <tr>\n",
       "      <th>0</th>\n",
       "      <td>2023-09-13 06:02:00</td>\n",
       "      <td>avec un pronostic vital plus que engagé l' inc...</td>\n",
       "      <td>itele</td>\n",
       "      <td>i&gt;Télé</td>\n",
       "      <td>False</td>\n",
       "      <td>2317</td>\n",
       "      <td>443</td>\n",
       "      <td>516</td>\n",
       "      <td>590</td>\n",
       "    </tr>\n",
       "    <tr>\n",
       "      <th>1</th>\n",
       "      <td>2023-09-13 04:58:00</td>\n",
       "      <td>amour un peu de love et de tendresse finalemen...</td>\n",
       "      <td>itele</td>\n",
       "      <td>i&gt;Télé</td>\n",
       "      <td>False</td>\n",
       "      <td>1804</td>\n",
       "      <td>341</td>\n",
       "      <td>398</td>\n",
       "      <td>454</td>\n",
       "    </tr>\n",
       "    <tr>\n",
       "      <th>2</th>\n",
       "      <td>2023-09-13 06:04:00</td>\n",
       "      <td>autre sont en réanimation suite à des cas de b...</td>\n",
       "      <td>itele</td>\n",
       "      <td>i&gt;Télé</td>\n",
       "      <td>False</td>\n",
       "      <td>2264</td>\n",
       "      <td>431</td>\n",
       "      <td>506</td>\n",
       "      <td>574</td>\n",
       "    </tr>\n",
       "    <tr>\n",
       "      <th>3</th>\n",
       "      <td>2023-09-13 04:14:00</td>\n",
       "      <td>d' être avec nous dans un instant valeo au euh...</td>\n",
       "      <td>itele</td>\n",
       "      <td>i&gt;Télé</td>\n",
       "      <td>False</td>\n",
       "      <td>1418</td>\n",
       "      <td>285</td>\n",
       "      <td>322</td>\n",
       "      <td>380</td>\n",
       "    </tr>\n",
       "    <tr>\n",
       "      <th>4</th>\n",
       "      <td>2023-09-13 06:42:00</td>\n",
       "      <td>un gros tiers aux élections professionnelles m...</td>\n",
       "      <td>itele</td>\n",
       "      <td>i&gt;Télé</td>\n",
       "      <td>False</td>\n",
       "      <td>2199</td>\n",
       "      <td>407</td>\n",
       "      <td>472</td>\n",
       "      <td>542</td>\n",
       "    </tr>\n",
       "  </tbody>\n",
       "</table>\n",
       "</div>"
      ],
      "text/plain": [
       "                start                                          plaintext  \\\n",
       "0 2023-09-13 06:02:00  avec un pronostic vital plus que engagé l' inc...   \n",
       "1 2023-09-13 04:58:00  amour un peu de love et de tendresse finalemen...   \n",
       "2 2023-09-13 06:04:00  autre sont en réanimation suite à des cas de b...   \n",
       "3 2023-09-13 04:14:00  d' être avec nous dans un instant valeo au euh...   \n",
       "4 2023-09-13 06:42:00  un gros tiers aux élections professionnelles m...   \n",
       "\n",
       "  channel_name channel_title  channel_radio  num_characters  num_words  \\\n",
       "0        itele        i>Télé          False            2317        443   \n",
       "1        itele        i>Télé          False            1804        341   \n",
       "2        itele        i>Télé          False            2264        431   \n",
       "3        itele        i>Télé          False            1418        285   \n",
       "4        itele        i>Télé          False            2199        407   \n",
       "\n",
       "   num_tokens  num_tokens_approx  \n",
       "0         516                590  \n",
       "1         398                454  \n",
       "2         506                574  \n",
       "3         322                380  \n",
       "4         472                542  "
      ]
     },
     "execution_count": 3,
     "metadata": {},
     "output_type": "execute_result"
    }
   ],
   "source": [
    "df = pd.read_parquet('mediatree_raw_1year.parquet') # download from https://drive.google.com/drive/folders/1d0idkOmMIXabj7ajYhvkitMMHnH_woSN\n",
    "df.head()"
   ]
  },
  {
   "cell_type": "code",
   "execution_count": 4,
   "metadata": {},
   "outputs": [
    {
     "name": "stdout",
     "output_type": "stream",
     "text": [
      "Nombres de passages de 2 min : 354189\n",
      "Nombre de chaînes : 2\n"
     ]
    },
    {
     "data": {
      "text/plain": [
       "array(['itele', 'sud-radio'], dtype=object)"
      ]
     },
     "execution_count": 4,
     "metadata": {},
     "output_type": "execute_result"
    }
   ],
   "source": [
    "print(\"Nombres de passages de 2 min :\", len(df))\n",
    "print(\"Nombre de chaînes :\", df.channel_name.nunique())\n",
    "df.channel_name.unique()"
   ]
  },
  {
   "cell_type": "code",
   "execution_count": 5,
   "metadata": {},
   "outputs": [
    {
     "name": "stdout",
     "output_type": "stream",
     "text": [
      "Nombre moyen de tokens : 474.4648676271708\n"
     ]
    }
   ],
   "source": [
    "avg_tokens = df.num_tokens.mean()\n",
    "print(\"Nombre moyen de tokens :\", avg_tokens)"
   ]
  },
  {
   "cell_type": "code",
   "execution_count": 21,
   "metadata": {},
   "outputs": [],
   "source": [
    "def get_cost(input_tokens: int, output_tokens: int, prompt_tokens: int, model: str) -> dict:\n",
    "    prices = pricing[model]\n",
    "    it_cost = input_tokens * prices['input'] / 1e6\n",
    "    ot_cost = output_tokens * prices['output'] / 1e6\n",
    "    prompt_cost = prompt_tokens * prices['input'] * prices['cache_discount'] / 1e6\n",
    "    return {\n",
    "        'total_cost': it_cost + ot_cost + prompt_cost,\n",
    "        'input_cost': it_cost,\n",
    "        'output_cost': ot_cost,\n",
    "        'prompt_cost': prompt_cost,\n",
    "        'model': model\n",
    "    }"
   ]
  },
  {
   "cell_type": "code",
   "execution_count": 7,
   "metadata": {},
   "outputs": [],
   "source": [
    "import tiktoken\n",
    "encoding = tiktoken.encoding_for_model('gpt-4o-mini')"
   ]
  },
  {
   "cell_type": "code",
   "execution_count": 8,
   "metadata": {},
   "outputs": [
    {
     "data": {
      "text/plain": [
       "636"
      ]
     },
     "execution_count": 8,
     "metadata": {},
     "output_type": "execute_result"
    }
   ],
   "source": [
    "EXAMPLE_PROMPT = \"\"\"\n",
    "Tu es expert en désinformation sur les sujets environnementaux, expert en science climatique et sachant tout sur le GIEC. Je vais te donner un extrait d'une retranscription de 2 minutes d'un flux TV ou Radio. \n",
    "A partir de cet extrait liste moi tous les faits/opinions environnementaux (claim) uniques qu'il faudrait factchecker. Et pour chaque claim, donne une première analyse si c'est de la désinformation ou non, un score si c'est de la désinformation, ainsi qu'une catégorisation de cette allégation.\n",
    "Ne sélectionne que les claims sur les thématiques environnementales (changement climatique, transition écologique, énergie, biodiversité, pollution, pesticides, ressources (eau, minéraux, ..) et pas sur les thématiques sociales et/ou économiques\n",
    "Renvoie le résultat en json sans autre phrase d'introduction ou de conclusion avec à chaque fois les champs suivants : \n",
    "\n",
    "- \"claim\" - l'allégation à potentiellement vérifier\n",
    "- \"context\" - reformulation du contexte dans laquelle cette allégation a été prononcée (maximum 1 paragraphe)\n",
    "- \"analysis\" - première analyse du point de vue de l'expert sur le potentiel de désinformation de cette allégation en fonction du contexte\n",
    "- \"disinformation_score\" - le score de désinformation (voir plus bas)\n",
    "- \"disinformation_category\" - la catégorie de désinformation (voir plus bas)\n",
    "- \"pro_anti\" - si l'allégation est plutôt anti-écologie ou pro-écologie\n",
    "- \"speaker\" - nom et fonction de la personne qui a prononcé l'allégation si on a l'information (sinon \"N/A\")\n",
    "- \"contradiction\" - si l'allégation a été contestée dans un dialogue, résume la contradiction (sinon \"N/A\")\n",
    "- \"quote\" - la citation exacte qui correspond à l'allégation\n",
    "\n",
    "Pour les scores \"disinformation_score\"\n",
    "- \"very low\" = pas de problème, l'allégation n'est pas trompeuse ou à risque. pas besoin d'investiguer plus loin\n",
    "- \"low\" = allégation qui nécessiterait une vérification et une interrogation, mais sur un sujet peu important et significatif dans le contexte des enjeux écologiques (exemple : les tondeuses à gazon, \n",
    "- \"medium\" = allégation problématique sur un sujet écologique important (scientifique, impacts, élections, politique, transport, agriculture, énergie, alimentation, démocratie ...) , qui nécessiterait vraiment d'être vérifiée, déconstruite, débunkée et interrogée. En particulier pour les opinions fallacieuses\n",
    "- \"high\" = allégation grave, en particulier si elle nie le consensus scientifique\n",
    "\n",
    "Pour les catégories de désinformation \"disinformation_category\": \n",
    "- \"consensus\" = négation du consensus scientifique\n",
    "- \"facts\" = fait à vérifier, à préciser ou contextualiser\n",
    "- \"narrative\" = narratif fallacieux ou opinion qui sème le doute (par exemple : \"les écolos veulent nous enlever nos libertés\")\n",
    "- \"other\"\n",
    "\n",
    "\"\"\"\n",
    "\n",
    "prompt_tokens = len(encoding.encode(EXAMPLE_PROMPT))\n",
    "prompt_tokens"
   ]
  },
  {
   "cell_type": "code",
   "execution_count": 9,
   "metadata": {},
   "outputs": [
    {
     "data": {
      "text/plain": [
       "216355980"
      ]
     },
     "execution_count": 9,
     "metadata": {},
     "output_type": "execute_result"
    }
   ],
   "source": [
    "N_CHANNELS = 19\n",
    "N_HOURS = 800\n",
    "SAMPLE_LENGTH_MIN = 2\n",
    "\n",
    "n_samples_per_hour = 60 / SAMPLE_LENGTH_MIN\n",
    "total_samples = N_CHANNELS * N_HOURS * n_samples_per_hour\n",
    "total_input_tokens = round(total_samples * avg_tokens)\n",
    "total_input_tokens"
   ]
  },
  {
   "cell_type": "code",
   "execution_count": 33,
   "metadata": {},
   "outputs": [
    {
     "data": {
      "text/html": [
       "<div>\n",
       "<style scoped>\n",
       "    .dataframe tbody tr th:only-of-type {\n",
       "        vertical-align: middle;\n",
       "    }\n",
       "\n",
       "    .dataframe tbody tr th {\n",
       "        vertical-align: top;\n",
       "    }\n",
       "\n",
       "    .dataframe thead th {\n",
       "        text-align: right;\n",
       "    }\n",
       "</style>\n",
       "<table border=\"1\" class=\"dataframe\">\n",
       "  <thead>\n",
       "    <tr style=\"text-align: right;\">\n",
       "      <th></th>\n",
       "      <th>total_cost</th>\n",
       "      <th>input_cost</th>\n",
       "      <th>output_cost</th>\n",
       "      <th>prompt_cost</th>\n",
       "      <th>model</th>\n",
       "    </tr>\n",
       "  </thead>\n",
       "  <tbody>\n",
       "    <tr>\n",
       "      <th>0</th>\n",
       "      <td>56.940597</td>\n",
       "      <td>32.453397</td>\n",
       "      <td>2.736</td>\n",
       "      <td>21.7512</td>\n",
       "      <td>gpt-4o-mini</td>\n",
       "    </tr>\n",
       "    <tr>\n",
       "      <th>1</th>\n",
       "      <td>67.039395</td>\n",
       "      <td>54.088995</td>\n",
       "      <td>5.700</td>\n",
       "      <td>7.2504</td>\n",
       "      <td>claude-3.5-haiku</td>\n",
       "    </tr>\n",
       "    <tr>\n",
       "      <th>2</th>\n",
       "      <td>67.884597</td>\n",
       "      <td>32.453397</td>\n",
       "      <td>13.680</td>\n",
       "      <td>21.7512</td>\n",
       "      <td>gpt-4o-mini</td>\n",
       "    </tr>\n",
       "    <tr>\n",
       "      <th>3</th>\n",
       "      <td>89.839395</td>\n",
       "      <td>54.088995</td>\n",
       "      <td>28.500</td>\n",
       "      <td>7.2504</td>\n",
       "      <td>claude-3.5-haiku</td>\n",
       "    </tr>\n",
       "    <tr>\n",
       "      <th>4</th>\n",
       "      <td>81.564597</td>\n",
       "      <td>32.453397</td>\n",
       "      <td>27.360</td>\n",
       "      <td>21.7512</td>\n",
       "      <td>gpt-4o-mini</td>\n",
       "    </tr>\n",
       "    <tr>\n",
       "      <th>5</th>\n",
       "      <td>118.339395</td>\n",
       "      <td>54.088995</td>\n",
       "      <td>57.000</td>\n",
       "      <td>7.2504</td>\n",
       "      <td>claude-3.5-haiku</td>\n",
       "    </tr>\n",
       "    <tr>\n",
       "      <th>6</th>\n",
       "      <td>108.924597</td>\n",
       "      <td>32.453397</td>\n",
       "      <td>54.720</td>\n",
       "      <td>21.7512</td>\n",
       "      <td>gpt-4o-mini</td>\n",
       "    </tr>\n",
       "    <tr>\n",
       "      <th>7</th>\n",
       "      <td>175.339395</td>\n",
       "      <td>54.088995</td>\n",
       "      <td>114.000</td>\n",
       "      <td>7.2504</td>\n",
       "      <td>claude-3.5-haiku</td>\n",
       "    </tr>\n",
       "    <tr>\n",
       "      <th>8</th>\n",
       "      <td>191.004597</td>\n",
       "      <td>32.453397</td>\n",
       "      <td>136.800</td>\n",
       "      <td>21.7512</td>\n",
       "      <td>gpt-4o-mini</td>\n",
       "    </tr>\n",
       "    <tr>\n",
       "      <th>9</th>\n",
       "      <td>346.339395</td>\n",
       "      <td>54.088995</td>\n",
       "      <td>285.000</td>\n",
       "      <td>7.2504</td>\n",
       "      <td>claude-3.5-haiku</td>\n",
       "    </tr>\n",
       "    <tr>\n",
       "      <th>10</th>\n",
       "      <td>273.084597</td>\n",
       "      <td>32.453397</td>\n",
       "      <td>218.880</td>\n",
       "      <td>21.7512</td>\n",
       "      <td>gpt-4o-mini</td>\n",
       "    </tr>\n",
       "    <tr>\n",
       "      <th>11</th>\n",
       "      <td>517.339395</td>\n",
       "      <td>54.088995</td>\n",
       "      <td>456.000</td>\n",
       "      <td>7.2504</td>\n",
       "      <td>claude-3.5-haiku</td>\n",
       "    </tr>\n",
       "    <tr>\n",
       "      <th>12</th>\n",
       "      <td>327.804597</td>\n",
       "      <td>32.453397</td>\n",
       "      <td>273.600</td>\n",
       "      <td>21.7512</td>\n",
       "      <td>gpt-4o-mini</td>\n",
       "    </tr>\n",
       "    <tr>\n",
       "      <th>13</th>\n",
       "      <td>631.339395</td>\n",
       "      <td>54.088995</td>\n",
       "      <td>570.000</td>\n",
       "      <td>7.2504</td>\n",
       "      <td>claude-3.5-haiku</td>\n",
       "    </tr>\n",
       "  </tbody>\n",
       "</table>\n",
       "</div>"
      ],
      "text/plain": [
       "    total_cost  input_cost  output_cost  prompt_cost             model\n",
       "0    56.940597   32.453397        2.736      21.7512       gpt-4o-mini\n",
       "1    67.039395   54.088995        5.700       7.2504  claude-3.5-haiku\n",
       "2    67.884597   32.453397       13.680      21.7512       gpt-4o-mini\n",
       "3    89.839395   54.088995       28.500       7.2504  claude-3.5-haiku\n",
       "4    81.564597   32.453397       27.360      21.7512       gpt-4o-mini\n",
       "5   118.339395   54.088995       57.000       7.2504  claude-3.5-haiku\n",
       "6   108.924597   32.453397       54.720      21.7512       gpt-4o-mini\n",
       "7   175.339395   54.088995      114.000       7.2504  claude-3.5-haiku\n",
       "8   191.004597   32.453397      136.800      21.7512       gpt-4o-mini\n",
       "9   346.339395   54.088995      285.000       7.2504  claude-3.5-haiku\n",
       "10  273.084597   32.453397      218.880      21.7512       gpt-4o-mini\n",
       "11  517.339395   54.088995      456.000       7.2504  claude-3.5-haiku\n",
       "12  327.804597   32.453397      273.600      21.7512       gpt-4o-mini\n",
       "13  631.339395   54.088995      570.000       7.2504  claude-3.5-haiku"
      ]
     },
     "execution_count": 33,
     "metadata": {},
     "output_type": "execute_result"
    }
   ],
   "source": [
    "output_tokens_range = [10, 50, 100, 200, 500, 800, 1000]\n",
    "costs = [get_cost(total_input_tokens, ot * total_samples, prompt_tokens * total_samples, model) for ot in output_tokens_range for model in pricing.keys()]\n",
    "costs = pd.DataFrame(costs)\n",
    "costs"
   ]
  },
  {
   "cell_type": "code",
   "execution_count": 10,
   "metadata": {},
   "outputs": [],
   "source": [
    "import matplotlib.pyplot as plt"
   ]
  },
  {
   "cell_type": "code",
   "execution_count": 34,
   "metadata": {},
   "outputs": [
    {
     "data": {
      "image/png": "[encoded data removed]",
      "text/plain": [
       "<Figure size 1800x600 with 2 Axes>"
      ]
     },
     "metadata": {},
     "output_type": "display_data"
    }
   ],
   "source": [
    "fig, axes = plt.subplots(1, 2, figsize=(18, 6))\n",
    "\n",
    "for ax, model in zip(axes, pricing.keys()):\n",
    "    tmp = costs[costs.model == model]\n",
    "    ax.stackplot(output_tokens_range, tmp.prompt_cost, tmp.input_cost, tmp.output_cost, labels=[\"Prompt\", \"Input\", \"Output\"])\n",
    "    ax.set_xlabel(\"Number of output tokens\")\n",
    "    ax.set_ylabel('Cost in USD')\n",
    "    ax.set_title(model)\n",
    "    ax.set_ylim(0, costs.total_cost.max())\n",
    "    ax.legend()\n",
    "\n",
    "plt.show()"
   ]
  },
  {
   "cell_type": "code",
   "execution_count": null,
   "metadata": {},
   "outputs": [],
   "source": []
  }
 ],
 "metadata": {
  "kernelspec": {
   "display_name": ".venv",
   "language": "python",
   "name": "python3"
  },
  "language_info": {
   "codemirror_mode": {
    "name": "ipython",
    "version": 3
   },
   "file_extension": ".py",
   "mimetype": "text/x-python",
   "name": "python",
   "nbconvert_exporter": "python",
   "pygments_lexer": "ipython3",
   "version": "3.12.6"
  }
 },
 "nbformat": 4,
 "nbformat_minor": 2
}
