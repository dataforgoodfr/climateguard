{
 "cells": [
  {
   "cell_type": "markdown",
   "id": "72054664-a3f2-4c71-a0fe-0cc726922d03",
   "metadata": {},
   "source": [
    "- https://huggingface.co/oliverguhr/fullstop-punctuation-multilang-large\n",
    "- https://huggingface.co/HuggingFaceTB/SmolLM-360M-Instruct\n",
    "- "
   ]
  },
  {
   "cell_type": "code",
   "execution_count": null,
   "id": "cacaa0df-0833-4774-a8ec-8b7d4057c9bd",
   "metadata": {},
   "outputs": [],
   "source": []
  },
  {
   "cell_type": "code",
   "execution_count": 2,
   "id": "135902e5-894c-4cc6-99ef-24a230d2794e",
   "metadata": {},
   "outputs": [
    {
     "name": "stderr",
     "output_type": "stream",
     "text": [
      "The attention mask is not set and cannot be inferred from input because pad token is same as eos token. As a consequence, you may observe unexpected behavior. Please pass your input's `attention_mask` to obtain reliable results.\n"
     ]
    },
    {
     "name": "stdout",
     "output_type": "stream",
     "text": [
      "<|im_start|>user\n",
      "What is the capital of France.<|im_end|>\n",
      "\n",
      "<|im_start|>user\n",
      "What is the capital of France.<|im_end|>\n",
      "<|im_start|>assistant\n",
      "Paris, the capital of France!\n",
      "\n",
      "Paris is the capital and most populous city of France, located in the Île-de-France region. It is the seat of the French government, the national capital, and\n"
     ]
    }
   ],
   "source": [
    "# pip install transformers\n",
    "from transformers import AutoModelForCausalLM, AutoTokenizer\n",
    "checkpoint = \"HuggingFaceTB/SmolLM-360M-Instruct\"\n",
    "\n",
    "device = \"cpu\" # for GPU usage or \"cpu\" for CPU usage\n",
    "tokenizer = AutoTokenizer.from_pretrained(checkpoint)\n",
    "# for multiple GPUs install accelerate and do `model = AutoModelForCausalLM.from_pretrained(checkpoint, device_map=\"auto\")`\n",
    "model = AutoModelForCausalLM.from_pretrained(checkpoint).to(device)\n",
    "\n",
    "messages = [{\"role\": \"user\", \"content\": \"What is the capital of France.\"}]\n",
    "input_text=tokenizer.apply_chat_template(messages, tokenize=False)\n",
    "print(input_text)\n",
    "inputs = tokenizer.encode(input_text, return_tensors=\"pt\").to(device)\n",
    "outputs = model.generate(inputs, max_new_tokens=50, temperature=0.2, top_p=0.9, do_sample=True)\n",
    "print(tokenizer.decode(outputs[0]))"
   ]
  },
  {
   "cell_type": "code",
   "execution_count": 3,
   "id": "12589881-7064-4202-a2cb-c9f4035125f1",
   "metadata": {},
   "outputs": [],
   "source": [
    "sample_text = \"\"\"\n",
    "\"est il est à peu près une heure et demie sur la côte est des etats-unis ont rejoint elisabeth guédel notre correspondant re bonjour elisabeth on imagine l' état de sidération au jeu à l' heure où je où on se parle des américains en pleine nuit aux etats-unis mais les américains se sont couchées avec ces images convoi en boucle de sept de cet ancien président le candidat républicain donald trump interrompue en plein meeting par des coups de feu se mettre la main droite sur l' oreille l' droite oreille manifestement droite surpris manifestement il amal et s' écrouler c' est effectivement ce sont des images qui passent en boucle vont se réveiller les américains avec ses images puissent cette grande question comment c' est seulement possible que quelqu' un ait pu comme ça armés montés sur un bâtiment tout près du lieu de meeting juste à côté du périmètre de <unk> sécurité et échapper complètement aux agents du service non seulement donald trump est un candidat à la présidentielle s' est déjà très protéger il protéger y il a y vraiment a vraiment beaucoup beaucoup de protection mais c' est un ancien président des etats-unis il a encore plus de protection avec le site press service et donc beaucoup de questions évidemment tourne autour de comment cet homme a pu échapper montée sur trois vraiment c' est le premier bâtiment juste sur la droite du podium de donald trump à l' extérieur des <unk> barrière de périmètre de sécurité du meeting mais vraiment juste à côté c' est vraiment les élus du congrès républicains ont déjà dit qu' ils allaient ouvrir leur propre enquête beaucoup merci euh beaucoup elisabeth euh guédel elisabeth c' guédel est c' vrai est il y vrai a beaucoup d' interrogations sur la façon avec laquelle ce tireur a pu se placer sur ce bâtiment qui était à proximité du meeting de donald trump les questions ne font que commencer on l' a bien compris de l' autre côté de l' atlantique il est quasiment sept heures trente si vous nous rejoignez vous avez dit couvrir cette photo qui va rentrer dans les livres d' histoire donald trump le poing levé le visage ensanglanté entouré par le secret service avec en fond le drapeau américain\"\n",
    "\"\"\""
   ]
  },
  {
   "cell_type": "code",
   "execution_count": 4,
   "id": "892182fe-f946-4204-a32e-22ce285d7baa",
   "metadata": {},
   "outputs": [],
   "source": [
    "from dotenv import load_dotenv"
   ]
  },
  {
   "cell_type": "code",
   "execution_count": 5,
   "id": "1862b694-41ec-4dbd-950f-08d815d90dc1",
   "metadata": {},
   "outputs": [
    {
     "data": {
      "text/plain": [
       "True"
      ]
     },
     "execution_count": 5,
     "metadata": {},
     "output_type": "execute_result"
    }
   ],
   "source": [
    "load_dotenv()"
   ]
  },
  {
   "cell_type": "code",
   "execution_count": 6,
   "id": "f3c291ba-1d95-472d-a105-7e9772a991ad",
   "metadata": {},
   "outputs": [],
   "source": [
    "from langchain_google_genai import ChatGoogleGenerativeAI\n",
    "\n",
    "llm = ChatGoogleGenerativeAI(\n",
    "    model=\"gemini-1.5-pro\",\n",
    "    temperature=0,\n",
    "    max_tokens=None,\n",
    "    timeout=None,\n",
    "    max_retries=2,\n",
    "    # other params...\n",
    ")"
   ]
  },
  {
   "cell_type": "code",
   "execution_count": null,
   "id": "4950b12e-d547-4451-bf53-e467013362ea",
   "metadata": {},
   "outputs": [],
   "source": []
  }
 ],
 "metadata": {
  "kernelspec": {
   "display_name": "Python 3 (ipykernel)",
   "language": "python",
   "name": "python3"
  },
  "language_info": {
   "codemirror_mode": {
    "name": "ipython",
    "version": 3
   },
   "file_extension": ".py",
   "mimetype": "text/x-python",
   "name": "python",
   "nbconvert_exporter": "python",
   "pygments_lexer": "ipython3",
   "version": "3.12.4"
  }
 },
 "nbformat": 4,
 "nbformat_minor": 5
}
