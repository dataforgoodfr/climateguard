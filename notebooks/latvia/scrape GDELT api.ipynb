{
 "cells": [
  {
   "cell_type": "code",
   "execution_count": 1,
   "metadata": {
    "id": "C2H7hlVkt_ep"
   },
   "outputs": [],
   "source": [
    "from urllib.request import urlopen\n",
    "import pandas as pd\n",
    "from gdeltdoc import GdeltDoc, Filters"
   ]
  },
  {
   "cell_type": "markdown",
   "metadata": {},
   "source": [
    "## Get list off all GDELT themes\n",
    "We need the list of predefined themes to be able to filter"
   ]
  },
  {
   "cell_type": "code",
   "execution_count": 2,
   "metadata": {},
   "outputs": [
    {
     "data": {
      "text/html": [
       "<div>\n",
       "<style scoped>\n",
       "    .dataframe tbody tr th:only-of-type {\n",
       "        vertical-align: middle;\n",
       "    }\n",
       "\n",
       "    .dataframe tbody tr th {\n",
       "        vertical-align: top;\n",
       "    }\n",
       "\n",
       "    .dataframe thead th {\n",
       "        text-align: right;\n",
       "    }\n",
       "</style>\n",
       "<table border=\"1\" class=\"dataframe\">\n",
       "  <thead>\n",
       "    <tr style=\"text-align: right;\">\n",
       "      <th></th>\n",
       "      <th>theme</th>\n",
       "      <th>count</th>\n",
       "    </tr>\n",
       "  </thead>\n",
       "  <tbody>\n",
       "    <tr>\n",
       "      <th>0</th>\n",
       "      <td>TAX_FNCACT</td>\n",
       "      <td>999601552</td>\n",
       "    </tr>\n",
       "    <tr>\n",
       "      <th>1</th>\n",
       "      <td>TAX_ETHNICITY</td>\n",
       "      <td>410780218</td>\n",
       "    </tr>\n",
       "    <tr>\n",
       "      <th>2</th>\n",
       "      <td>EPU_POLICY</td>\n",
       "      <td>384818230</td>\n",
       "    </tr>\n",
       "    <tr>\n",
       "      <th>3</th>\n",
       "      <td>CRISISLEX_CRISISLEXREC</td>\n",
       "      <td>373229208</td>\n",
       "    </tr>\n",
       "    <tr>\n",
       "      <th>4</th>\n",
       "      <td>TAX_WORLDLANGUAGES</td>\n",
       "      <td>348186680</td>\n",
       "    </tr>\n",
       "    <tr>\n",
       "      <th>...</th>\n",
       "      <td>...</td>\n",
       "      <td>...</td>\n",
       "    </tr>\n",
       "    <tr>\n",
       "      <th>59310</th>\n",
       "      <td>TAX_WORLDLANGUAGES_PUNAPA</td>\n",
       "      <td>1</td>\n",
       "    </tr>\n",
       "    <tr>\n",
       "      <th>59311</th>\n",
       "      <td>TAX_WORLDBIRDS_SWALLOWTAILED_HUMMINGBIRDS</td>\n",
       "      <td>1</td>\n",
       "    </tr>\n",
       "    <tr>\n",
       "      <th>59312</th>\n",
       "      <td>TAX_WORLDMAMMALS_PACIFIC_DEGU</td>\n",
       "      <td>1</td>\n",
       "    </tr>\n",
       "    <tr>\n",
       "      <th>59313</th>\n",
       "      <td>TAX_WORLDBIRDS_FLAMECRESTED_TANAGER</td>\n",
       "      <td>1</td>\n",
       "    </tr>\n",
       "    <tr>\n",
       "      <th>59314</th>\n",
       "      <td>TAX_WORLDLANGUAGES_BOROAS</td>\n",
       "      <td>1</td>\n",
       "    </tr>\n",
       "  </tbody>\n",
       "</table>\n",
       "<p>59315 rows × 2 columns</p>\n",
       "</div>"
      ],
      "text/plain": [
       "                                           theme      count\n",
       "0                                     TAX_FNCACT  999601552\n",
       "1                                  TAX_ETHNICITY  410780218\n",
       "2                                     EPU_POLICY  384818230\n",
       "3                         CRISISLEX_CRISISLEXREC  373229208\n",
       "4                             TAX_WORLDLANGUAGES  348186680\n",
       "...                                          ...        ...\n",
       "59310                  TAX_WORLDLANGUAGES_PUNAPA          1\n",
       "59311  TAX_WORLDBIRDS_SWALLOWTAILED_HUMMINGBIRDS          1\n",
       "59312              TAX_WORLDMAMMALS_PACIFIC_DEGU          1\n",
       "59313        TAX_WORLDBIRDS_FLAMECRESTED_TANAGER          1\n",
       "59314                  TAX_WORLDLANGUAGES_BOROAS          1\n",
       "\n",
       "[59315 rows x 2 columns]"
      ]
     },
     "execution_count": 2,
     "metadata": {},
     "output_type": "execute_result"
    }
   ],
   "source": [
    "THEMES_URL = \"http://data.gdeltproject.org/api/v2/guides/LOOKUP-GKGTHEMES.TXT\"\n",
    "\n",
    "\n",
    "def get_themes(url: str) -> pd.DataFrame:    \n",
    "    # Fetch the content using urllib\n",
    "    with urlopen(url) as response:\n",
    "        data = response.read().decode()\n",
    "    \n",
    "    # Split the data into lines\n",
    "    lines = data.strip().split(\"\\n\")\n",
    "    \n",
    "    # Split each line into key-value pairs\n",
    "    rows = [line.split(\"\\t\") for line in lines]\n",
    "    \n",
    "    # Create a DataFrame from the rows\n",
    "    df = pd.DataFrame(rows, columns=['theme', 'count'])\n",
    "    df['count'] = df['count'].astype(int)\n",
    "    \n",
    "    return df\n",
    "\n",
    "def get_climate_themes(themes_df) -> list[str] : \n",
    "    return themes_df[themes_df[\"theme\"].str.contains(\"CLIMATE\")][\"theme\"].to_list()\n",
    "\n",
    "themes_df = get_themes(THEMES_URL)\n",
    "themes_df"
   ]
  },
  {
   "cell_type": "code",
   "execution_count": 3,
   "metadata": {},
   "outputs": [
    {
     "data": {
      "text/plain": [
       "['WB_405_BUSINESS_CLIMATE',\n",
       " 'WB_567_CLIMATE_CHANGE',\n",
       " 'ENV_CLIMATECHANGE',\n",
       " 'UNGP_CLIMATE_CHANGE_ACTION',\n",
       " 'WB_1949_CLIMATE_SMART_AGRICULTURE',\n",
       " 'WB_568_CLIMATE_SERVICES',\n",
       " 'WB_579_CLIMATE_CHANGE_MITIGATION',\n",
       " 'WB_571_CLIMATE_SCIENCE',\n",
       " 'WB_1841_SHORT_LIVED_CLIMATE_POLLUTANTS',\n",
       " 'WB_1844_MARKET_BASED_CLIMATE_CHANGE_MITIGATION',\n",
       " 'WB_1773_CLIMATE_CHANGE_IMPACTS',\n",
       " 'WB_1847_CLIMATE_FINANCE',\n",
       " 'WB_574_CLIMATE_CHANGE_ADAPTATION',\n",
       " 'WB_959_CLIMATE_CHANGE_LAW',\n",
       " 'WB_747_SOCIAL_RESILIENCE_AND_CLIMATE_CHANGE',\n",
       " 'WB_1774_CLIMATE_FORECASTING',\n",
       " 'WB_2673_JOBS_AND_CLIMATE_CHANGE',\n",
       " 'TAX_AIDGROUPS_CLIMATE_ACTION_NETWORK',\n",
       " 'WB_572_CLIMATE_RESILIENT_DEVELOPMENT',\n",
       " 'WB_2639_CLIMATE_EFFICIENT_INDUSTRIES',\n",
       " 'WB_573_CLIMATE_RISK_MANAGEMENT',\n",
       " 'WB_1849_PUBLIC_CLIMATE_FINANCE',\n",
       " 'WB_1838_CLIMATE_RISK_SCREENING',\n",
       " 'WB_1850_PRIVATE_CLIMATE_FINANCE',\n",
       " 'WB_1839_OZONE_LAYER_DEPLETION_AND_CLIMATE_CHANGE',\n",
       " 'WB_575_COMMUNITY_BASED_CLIMATE_ADAPTATION',\n",
       " 'WB_1750_CLIMATE_CHANGE_ADAPTATION_IMPACTS']"
      ]
     },
     "execution_count": 3,
     "metadata": {},
     "output_type": "execute_result"
    }
   ],
   "source": [
    "climate_themes = get_climate_themes(themes_df)\n",
    "climate_themes"
   ]
  },
  {
   "cell_type": "markdown",
   "metadata": {},
   "source": [
    "## Scrape gdlet api fo latvian climate articles\n",
    "We will use this wrapper around the GDELT api : https://github.com/alex9smith/gdelt-doc-api"
   ]
  },
  {
   "cell_type": "code",
   "execution_count": 4,
   "metadata": {},
   "outputs": [
    {
     "name": "stdout",
     "output_type": "stream",
     "text": [
      "250 articles found for theme WB_405_BUSINESS_CLIMATE, in 2022\n",
      "250 articles found for theme WB_405_BUSINESS_CLIMATE, in 2023\n",
      "250 articles found for theme WB_405_BUSINESS_CLIMATE, in 2024\n",
      "250 articles found for theme WB_567_CLIMATE_CHANGE, in 2022\n",
      "205 articles found for theme WB_567_CLIMATE_CHANGE, in 2023\n",
      "250 articles found for theme WB_567_CLIMATE_CHANGE, in 2024\n",
      "250 articles found for theme ENV_CLIMATECHANGE, in 2022\n",
      "151 articles found for theme ENV_CLIMATECHANGE, in 2023\n",
      "150 articles found for theme ENV_CLIMATECHANGE, in 2024\n",
      "250 articles found for theme UNGP_CLIMATE_CHANGE_ACTION, in 2022\n",
      "156 articles found for theme UNGP_CLIMATE_CHANGE_ACTION, in 2023\n",
      "159 articles found for theme UNGP_CLIMATE_CHANGE_ACTION, in 2024\n",
      "149 articles found for theme WB_1949_CLIMATE_SMART_AGRICULTURE, in 2022\n",
      "73 articles found for theme WB_1949_CLIMATE_SMART_AGRICULTURE, in 2023\n",
      "78 articles found for theme WB_1949_CLIMATE_SMART_AGRICULTURE, in 2024\n",
      "126 articles found for theme WB_568_CLIMATE_SERVICES, in 2022\n",
      "70 articles found for theme WB_568_CLIMATE_SERVICES, in 2023\n",
      "124 articles found for theme WB_568_CLIMATE_SERVICES, in 2024\n",
      "26 articles found for theme WB_579_CLIMATE_CHANGE_MITIGATION, in 2022\n",
      "9 articles found for theme WB_579_CLIMATE_CHANGE_MITIGATION, in 2023\n",
      "7 articles found for theme WB_579_CLIMATE_CHANGE_MITIGATION, in 2024\n",
      "7 articles found for theme WB_571_CLIMATE_SCIENCE, in 2022\n",
      "14 articles found for theme WB_571_CLIMATE_SCIENCE, in 2023\n",
      "6 articles found for theme WB_571_CLIMATE_SCIENCE, in 2024\n",
      "10 articles found for theme WB_1841_SHORT_LIVED_CLIMATE_POLLUTANTS, in 2022\n",
      "4 articles found for theme WB_1841_SHORT_LIVED_CLIMATE_POLLUTANTS, in 2023\n",
      "3 articles found for theme WB_1841_SHORT_LIVED_CLIMATE_POLLUTANTS, in 2024\n",
      "7 articles found for theme WB_1844_MARKET_BASED_CLIMATE_CHANGE_MITIGATION, in 2022\n",
      "2 articles found for theme WB_1844_MARKET_BASED_CLIMATE_CHANGE_MITIGATION, in 2023\n",
      "0 articles found for theme WB_1844_MARKET_BASED_CLIMATE_CHANGE_MITIGATION, in 2024\n",
      "6 articles found for theme WB_1773_CLIMATE_CHANGE_IMPACTS, in 2022\n",
      "12 articles found for theme WB_1773_CLIMATE_CHANGE_IMPACTS, in 2023\n",
      "5 articles found for theme WB_1773_CLIMATE_CHANGE_IMPACTS, in 2024\n",
      "4 articles found for theme WB_1847_CLIMATE_FINANCE, in 2022\n",
      "1 articles found for theme WB_1847_CLIMATE_FINANCE, in 2023\n",
      "0 articles found for theme WB_1847_CLIMATE_FINANCE, in 2024\n",
      "5 articles found for theme WB_574_CLIMATE_CHANGE_ADAPTATION, in 2022\n",
      "2 articles found for theme WB_574_CLIMATE_CHANGE_ADAPTATION, in 2023\n",
      "0 articles found for theme WB_574_CLIMATE_CHANGE_ADAPTATION, in 2024\n",
      "0 articles found for theme WB_959_CLIMATE_CHANGE_LAW, in 2022\n",
      "2 articles found for theme WB_959_CLIMATE_CHANGE_LAW, in 2023\n",
      "0 articles found for theme WB_959_CLIMATE_CHANGE_LAW, in 2024\n",
      "1 articles found for theme WB_747_SOCIAL_RESILIENCE_AND_CLIMATE_CHANGE, in 2022\n",
      "0 articles found for theme WB_747_SOCIAL_RESILIENCE_AND_CLIMATE_CHANGE, in 2023\n",
      "1 articles found for theme WB_747_SOCIAL_RESILIENCE_AND_CLIMATE_CHANGE, in 2024\n",
      "0 articles found for theme WB_1774_CLIMATE_FORECASTING, in 2022\n",
      "1 articles found for theme WB_1774_CLIMATE_FORECASTING, in 2023\n",
      "0 articles found for theme WB_1774_CLIMATE_FORECASTING, in 2024\n",
      "2 articles found for theme WB_2673_JOBS_AND_CLIMATE_CHANGE, in 2022\n",
      "0 articles found for theme WB_2673_JOBS_AND_CLIMATE_CHANGE, in 2023\n",
      "0 articles found for theme WB_2673_JOBS_AND_CLIMATE_CHANGE, in 2024\n",
      "2 articles found for theme TAX_AIDGROUPS_CLIMATE_ACTION_NETWORK, in 2022\n",
      "0 articles found for theme TAX_AIDGROUPS_CLIMATE_ACTION_NETWORK, in 2023\n",
      "0 articles found for theme TAX_AIDGROUPS_CLIMATE_ACTION_NETWORK, in 2024\n",
      "0 articles found for theme WB_572_CLIMATE_RESILIENT_DEVELOPMENT, in 2022\n",
      "0 articles found for theme WB_572_CLIMATE_RESILIENT_DEVELOPMENT, in 2023\n",
      "0 articles found for theme WB_572_CLIMATE_RESILIENT_DEVELOPMENT, in 2024\n",
      "0 articles found for theme WB_2639_CLIMATE_EFFICIENT_INDUSTRIES, in 2022\n",
      "0 articles found for theme WB_2639_CLIMATE_EFFICIENT_INDUSTRIES, in 2023\n",
      "0 articles found for theme WB_2639_CLIMATE_EFFICIENT_INDUSTRIES, in 2024\n",
      "0 articles found for theme WB_573_CLIMATE_RISK_MANAGEMENT, in 2022\n",
      "0 articles found for theme WB_573_CLIMATE_RISK_MANAGEMENT, in 2023\n",
      "0 articles found for theme WB_573_CLIMATE_RISK_MANAGEMENT, in 2024\n",
      "2 articles found for theme WB_1849_PUBLIC_CLIMATE_FINANCE, in 2022\n",
      "0 articles found for theme WB_1849_PUBLIC_CLIMATE_FINANCE, in 2023\n",
      "0 articles found for theme WB_1849_PUBLIC_CLIMATE_FINANCE, in 2024\n",
      "0 articles found for theme WB_1838_CLIMATE_RISK_SCREENING, in 2022\n",
      "0 articles found for theme WB_1838_CLIMATE_RISK_SCREENING, in 2023\n",
      "0 articles found for theme WB_1838_CLIMATE_RISK_SCREENING, in 2024\n",
      "0 articles found for theme WB_1850_PRIVATE_CLIMATE_FINANCE, in 2022\n",
      "0 articles found for theme WB_1850_PRIVATE_CLIMATE_FINANCE, in 2023\n",
      "0 articles found for theme WB_1850_PRIVATE_CLIMATE_FINANCE, in 2024\n",
      "0 articles found for theme WB_1839_OZONE_LAYER_DEPLETION_AND_CLIMATE_CHANGE, in 2022\n",
      "0 articles found for theme WB_1839_OZONE_LAYER_DEPLETION_AND_CLIMATE_CHANGE, in 2023\n",
      "0 articles found for theme WB_1839_OZONE_LAYER_DEPLETION_AND_CLIMATE_CHANGE, in 2024\n",
      "0 articles found for theme WB_575_COMMUNITY_BASED_CLIMATE_ADAPTATION, in 2022\n",
      "0 articles found for theme WB_575_COMMUNITY_BASED_CLIMATE_ADAPTATION, in 2023\n",
      "0 articles found for theme WB_575_COMMUNITY_BASED_CLIMATE_ADAPTATION, in 2024\n",
      "0 articles found for theme WB_1750_CLIMATE_CHANGE_ADAPTATION_IMPACTS, in 2022\n",
      "0 articles found for theme WB_1750_CLIMATE_CHANGE_ADAPTATION_IMPACTS, in 2023\n",
      "0 articles found for theme WB_1750_CLIMATE_CHANGE_ADAPTATION_IMPACTS, in 2024\n"
     ]
    }
   ],
   "source": [
    "partial_articles_dfs = []\n",
    "\n",
    "for theme in climate_themes: \n",
    "    for year in [2022, 2023, 2024]: \n",
    "        f = Filters(\n",
    "            #keyword = \"climate change\",\n",
    "            start_date = f\"{year}-01-01\",\n",
    "            end_date = f\"{year}-12-31\", \n",
    "            theme = theme, \n",
    "            country = \"LG\", \n",
    "        )\n",
    "    \n",
    "        gd = GdeltDoc()\n",
    "    \n",
    "        # Search for articles matching the filters\n",
    "        partial_articles_df = gd.article_search(f)\n",
    "        print(f\"{len(partial_articles_df)} articles found for theme {theme}, in {year}\")\n",
    "        if partial_articles_df.empty: \n",
    "            continue\n",
    "        partial_articles_dfs.append(partial_articles_df)\n",
    "\n",
    "articles_df = pd.concat(partial_articles_dfs)"
   ]
  },
  {
   "cell_type": "code",
   "execution_count": 5,
   "metadata": {},
   "outputs": [
    {
     "name": "stdout",
     "output_type": "stream",
     "text": [
      "Deleting 1191 duplicates\n",
      "1683 unique articles found\n"
     ]
    }
   ],
   "source": [
    "articles_df = articles_df[articles_df[\"language\"] == \"Latvian\"]\n",
    "articles_df[\"seendate\"] = pd.to_datetime(articles_df[\"seendate\"])\n",
    "\n",
    "print(f\"Deleting {articles_df[\"url\"].duplicated().sum()} duplicates\")\n",
    "articles_df = articles_df.drop_duplicates(\"url\")\n",
    "print(f\"{len(articles_df)} unique articles found\")\n",
    "    "
   ]
  },
  {
   "cell_type": "code",
   "execution_count": 6,
   "metadata": {},
   "outputs": [
    {
     "data": {
      "text/plain": [
       "domain\n",
       "nra.lv              459\n",
       "lsm.lv              388\n",
       "delfi.lv            351\n",
       "la.lv               225\n",
       "diena.lv             65\n",
       "reitingi.lv          60\n",
       "ogrenet.lv           30\n",
       "bnn.lv               20\n",
       "tvnet.lv             19\n",
       "ventasbalss.lv       19\n",
       "ir.lv                17\n",
       "mfa.gov.lv           13\n",
       "ntz.lv                5\n",
       "president.lv          5\n",
       "latgaleslaiks.lv      3\n",
       "vm.gov.lv             2\n",
       "220.lv                1\n",
       "brivalatvija.lv       1\n",
       "Name: count, dtype: int64"
      ]
     },
     "execution_count": 6,
     "metadata": {},
     "output_type": "execute_result"
    }
   ],
   "source": [
    "articles_df[\"domain\"].value_counts()"
   ]
  },
  {
   "cell_type": "code",
   "execution_count": 9,
   "metadata": {},
   "outputs": [],
   "source": [
    "articles_df.to_csv(\"../data/latvian_article_links.csv\")"
   ]
  },
  {
   "cell_type": "code",
   "execution_count": null,
   "metadata": {},
   "outputs": [],
   "source": []
  },
  {
   "cell_type": "code",
   "execution_count": null,
   "metadata": {},
   "outputs": [],
   "source": []
  },
  {
   "cell_type": "code",
   "execution_count": null,
   "metadata": {},
   "outputs": [],
   "source": []
  }
 ],
 "metadata": {
  "colab": {
   "provenance": []
  },
  "kernelspec": {
   "display_name": "Python 3 (ipykernel)",
   "language": "python",
   "name": "python3"
  },
  "language_info": {
   "codemirror_mode": {
    "name": "ipython",
    "version": 3
   },
   "file_extension": ".py",
   "mimetype": "text/x-python",
   "name": "python",
   "nbconvert_exporter": "python",
   "pygments_lexer": "ipython3",
   "version": "3.12.6"
  }
 },
 "nbformat": 4,
 "nbformat_minor": 4
}
