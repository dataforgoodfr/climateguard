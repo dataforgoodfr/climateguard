{
 "cells": [
  {
   "cell_type": "code",
   "execution_count": null,
   "id": "0378c296",
   "metadata": {},
   "outputs": [],
   "source": [
    "from transformers import AutoModelForSequenceClassification, AutoTokenizer\n",
    "\n",
    "model_id = \"gmguarino/camembertav2-base-climateguard\"\n",
    "\n",
    "model = AutoModelForSequenceClassification.from_pretrained(model_id)\n",
    "tokenizer = AutoTokenizer.from_pretrained(\"almanach/camembertav2-base\")\n",
    "model.eval()"
   ]
  },
  {
   "cell_type": "code",
   "execution_count": null,
   "id": "3217e850",
   "metadata": {},
   "outputs": [],
   "source": [
    "from datasets import load_dataset\n",
    "\n",
    "dataset_id = \"DataForGood/climateguard\"\n",
    "# Load raw dataset\n",
    "dataset = load_dataset(dataset_id, split=\"test\")\n",
    "\n",
    "# Tokenize helper function\n",
    "def tokenize(batch):\n",
    "    return tokenizer(\n",
    "        batch[\"plaintext\"], padding=True, truncation=True, return_tensors=\"pt\"\n",
    "    )\n",
    "\n",
    "\n",
    "def format_labels(example):\n",
    "    return {\"label\": int(example[\"misinformation\"])}\n",
    "\n",
    "\n",
    "# Tokenize dataset\n",
    "# if \"misinformation\" in split_dataset[\"train\"].features.keys():\n",
    "#     split_dataset =  split_dataset.rename_column(\"misinformation\", \"labels\") # to match Trainer\n",
    "tokenized_dataset = dataset.map(\n",
    "    tokenize, batched=True\n",
    ")\n",
    "tokenized_dataset = tokenized_dataset.map(format_labels, batched=False)\n",
    "\n"
   ]
  },
  {
   "cell_type": "code",
   "execution_count": null,
   "id": "7e07e7cb",
   "metadata": {},
   "outputs": [],
   "source": [
    "import torch\n",
    "from tqdm.notebook import tqdm\n",
    "\n",
    "predictions = []\n",
    "labels = []\n",
    "\n",
    "with torch.no_grad():\n",
    "    # for record in tokenized_dataset:\n",
    "    inputs = tokenizer(dataset[\"plaintext\"], return_tensors=\"pt\", padding=\"longest\", truncation=True)\n",
    "    outputs = model(inputs[\"input_ids\"], inputs[\"attention_mask\"])\n",
    "    print(outputs.logits.numpy().argmax())\n",
    "    # predictions.append(outputs.logits.numpy().argmax())\n",
    "    # labels.append(int(dataset[\"misinformation\"]))"
   ]
  },
  {
   "cell_type": "code",
   "execution_count": null,
   "id": "e35eb13f",
   "metadata": {},
   "outputs": [],
   "source": [
    "labels = outputs.logits.argmax(1)\n",
    "predictions = list(map(int, dataset[\"misinformation\"]))"
   ]
  },
  {
   "cell_type": "code",
   "execution_count": null,
   "id": "8ecdf754",
   "metadata": {},
   "outputs": [],
   "source": [
    "from sklearn.metrics import classification_report\n",
    "\n",
    "print(classification_report(labels, predictions))"
   ]
  },
  {
   "cell_type": "code",
   "execution_count": null,
   "id": "15cd9931",
   "metadata": {},
   "outputs": [],
   "source": [
    "              precision    recall  f1-score   support\n",
    "\n",
    "           0       0.85      0.65      0.74        97\n",
    "           1       0.24      0.50      0.33        22\n",
    "\n",
    "    accuracy                           0.62       119\n",
    "   macro avg       0.55      0.57      0.53       119\n",
    "weighted avg       0.74      0.62      0.66       119\n"
   ]
  }
 ],
 "metadata": {
  "kernelspec": {
   "display_name": ".venv",
   "language": "python",
   "name": "python3"
  },
  "language_info": {
   "codemirror_mode": {
    "name": "ipython",
    "version": 3
   },
   "file_extension": ".py",
   "mimetype": "text/x-python",
   "name": "python",
   "nbconvert_exporter": "python",
   "pygments_lexer": "ipython3",
   "version": "3.12.8"
  }
 },
 "nbformat": 4,
 "nbformat_minor": 5
}
