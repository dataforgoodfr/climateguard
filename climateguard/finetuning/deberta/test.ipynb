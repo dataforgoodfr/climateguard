{
 "cells": [
  {
   "cell_type": "code",
   "execution_count": null,
   "id": "0378c296",
   "metadata": {},
   "outputs": [],
   "source": [
    "from transformers import AutoModelForSequenceClassification, AutoTokenizer\n",
    "\n",
    "model_id = \"./models/camembertav2-base-climateguard\"\n",
    "\n",
    "model = AutoModelForSequenceClassification.from_pretrained(model_id)\n",
    "tokenizer = AutoTokenizer.from_pretrained(model_id)\n"
   ]
  },
  {
   "cell_type": "code",
   "execution_count": null,
   "id": "2f8ca3ca",
   "metadata": {},
   "outputs": [],
   "source": [
    "for parameter in model.parameters():\n",
    "    parameter.requires_grad = False"
   ]
  },
  {
   "cell_type": "code",
   "execution_count": null,
   "id": "3217e850",
   "metadata": {},
   "outputs": [],
   "source": [
    "import pandas as pd\n",
    "from datasets import load_dataset, Dataset\n",
    "from llama_index.core.node_parser import SentenceSplitter\n",
    "\n",
    "splitter = SentenceSplitter(\n",
    "    chunk_size=256,\n",
    "    chunk_overlap=64,\n",
    ")\n",
    "\n",
    "dataset_id = \"DataForGood/climateguard\"\n",
    "# Load raw dataset\n",
    "dataset = load_dataset(dataset_id, split=\"test\")\n",
    "\n",
    "records = []\n",
    "for idx, record in enumerate(dataset):\n",
    "    chunks = splitter.split_text(record[\"plaintext_whisper\"].lower().replace(\".\", \"\").replace(\",\", \"\"))\n",
    "    for chunk in chunks:\n",
    "        records.append(\n",
    "            {\n",
    "                \"id\": idx,\n",
    "                \"text\": chunk,\n",
    "                \"label\": int(record[\"misinformation\"]),\n",
    "            }\n",
    "        )\n",
    "\n",
    "claims_dataset = Dataset.from_pandas(pd.DataFrame.from_records(records))"
   ]
  },
  {
   "cell_type": "code",
   "execution_count": null,
   "id": "044c16f6",
   "metadata": {},
   "outputs": [],
   "source": [
    "claims_dataset[0]"
   ]
  },
  {
   "cell_type": "code",
   "execution_count": null,
   "id": "66dba1f1",
   "metadata": {},
   "outputs": [],
   "source": [
    "# Tokenize helper function\n",
    "def tokenize(batch):\n",
    "    return tokenizer(\n",
    "        batch[\"text\"],\n",
    "        padding=\"max_length\",\n",
    "        truncation=True,\n",
    "        max_length=512,\n",
    "        return_tensors=\"pt\",\n",
    "    )\n",
    "\n",
    "\n",
    "def format_labels(example):\n",
    "    return {\"label\": int(example[\"label\"])}\n",
    "\n",
    "\n",
    "claims_dataset = claims_dataset.map(format_labels, batched=False)\n",
    "\n"
   ]
  },
  {
   "cell_type": "code",
   "execution_count": null,
   "id": "7e07e7cb",
   "metadata": {},
   "outputs": [],
   "source": [
    "import torch\n",
    "from tqdm.notebook import tqdm\n",
    "\n",
    "predictions = []\n",
    "labels = []\n",
    "outputs = []\n",
    "\n",
    "with torch.no_grad():\n",
    "    # for record in tokenized_dataset:\n",
    "    for record in tqdm(claims_dataset):\n",
    "        inputs = tokenizer(\n",
    "            record[\"text\"],\n",
    "            padding=\"max_length\",\n",
    "            truncation=True,\n",
    "            max_length=512,\n",
    "            return_tensors=\"pt\",\n",
    "        )\n",
    "        output = model(inputs[\"input_ids\"], inputs[\"attention_mask\"])\n",
    "        outputs.append(output.logits[0])\n",
    "        predictions.append(output.logits.numpy().argmax(1)[0])\n"
   ]
  },
  {
   "cell_type": "code",
   "execution_count": null,
   "id": "4d2afd18",
   "metadata": {},
   "outputs": [],
   "source": [
    "df = claims_dataset.to_pandas()\n",
    "df[\"predictions\"] = predictions\n",
    "df = df.groupby([\"id\"]).agg(\"max\").drop(columns=\"text\")"
   ]
  },
  {
   "cell_type": "code",
   "execution_count": null,
   "id": "8ecdf754",
   "metadata": {},
   "outputs": [],
   "source": [
    "from sklearn.metrics import classification_report\n",
    "\n",
    "print(classification_report(df.label, df.predictions))"
   ]
  },
  {
   "cell_type": "code",
   "execution_count": null,
   "id": "b9ae05ee",
   "metadata": {},
   "outputs": [],
   "source": []
  }
 ],
 "metadata": {
  "kernelspec": {
   "display_name": ".venv",
   "language": "python",
   "name": "python3"
  },
  "language_info": {
   "codemirror_mode": {
    "name": "ipython",
    "version": 3
   },
   "file_extension": ".py",
   "mimetype": "text/x-python",
   "name": "python",
   "nbconvert_exporter": "python",
   "pygments_lexer": "ipython3",
   "version": "3.12.8"
  }
 },
 "nbformat": 4,
 "nbformat_minor": 5
}
