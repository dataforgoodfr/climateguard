{
 "cells": [
  {
   "cell_type": "code",
   "execution_count": 77,
   "id": "0378c296",
   "metadata": {},
   "outputs": [],
   "source": [
    "from transformers import AutoModelForSequenceClassification, AutoTokenizer\n",
    "\n",
    "model_id = \"gmguarino/ModernBERT-large-climateguard\"\n",
    "\n",
    "model = AutoModelForSequenceClassification.from_pretrained(model_id)\n",
    "tokenizer = AutoTokenizer.from_pretrained(model_id)\n"
   ]
  },
  {
   "cell_type": "code",
   "execution_count": 78,
   "id": "2c19f809",
   "metadata": {},
   "outputs": [],
   "source": [
    "CHUNK_SIZE = 512\n",
    "CHUNK_OVERLAP = 256"
   ]
  },
  {
   "cell_type": "code",
   "execution_count": 79,
   "id": "2f8ca3ca",
   "metadata": {},
   "outputs": [],
   "source": [
    "for parameter in model.parameters():\n",
    "    parameter.requires_grad = False"
   ]
  },
  {
   "cell_type": "code",
   "execution_count": 80,
   "id": "3217e850",
   "metadata": {},
   "outputs": [],
   "source": [
    "import pandas as pd\n",
    "from datasets import load_dataset, Dataset\n",
    "from llama_index.core.node_parser import SentenceSplitter\n",
    "\n",
    "splitter = SentenceSplitter(\n",
    "    chunk_size=CHUNK_SIZE,\n",
    "    chunk_overlap=CHUNK_OVERLAP,\n",
    ")\n",
    "\n",
    "dataset_id = \"DataForGood/climateguard\"\n",
    "# Load raw dataset\n",
    "dataset = load_dataset(dataset_id, split=\"test\")\n",
    "\n",
    "records = []\n",
    "for idx, record in enumerate(dataset):\n",
    "    chunks = splitter.split_text(record[\"plaintext\"].lower().replace(\".\", \"\").replace(\",\", \"\"))\n",
    "    for chunk in chunks:\n",
    "        records.append(\n",
    "            {\n",
    "                \"id\": idx,\n",
    "                \"text\": chunk,\n",
    "                \"label\": int(record[\"misinformation\"]),\n",
    "            }\n",
    "        )\n",
    "\n",
    "claims_dataset = Dataset.from_pandas(pd.DataFrame.from_records(records))"
   ]
  },
  {
   "cell_type": "code",
   "execution_count": 81,
   "id": "044c16f6",
   "metadata": {},
   "outputs": [
    {
     "data": {
      "text/plain": [
       "{'id': 0,\n",
       " 'text': \"alors on vous entend super mal donc je vous disais vous passez tous les jours à côté de changé la bad not les e allons aujourd' hui un niveau infrastructure si on ne veut pas de grosses grosses entreprises qui partiront comme des entreprises pharmaceutiques convoqué dans le cadre qui abordent aujourd' hui dès huit mille salariés pas de bêtise ça rit ça brise la ligne malheureusement allez sont allez mauvais un on enjeu est un économique enjeu très économique très fort et on peut parvenir on ne peut pas revenir en arrière on est désolés favorisant la ligne était trop mauvais on intervenait avec louis alors de senlis en haute-garonne il est conducteur d' engins bonjour louis un beau jour toute l' équipe conducteurs d' engins vous étiez sur euh sur le chantier d' autoroute justement louis non pas tout à fait sur des plateformes je produis des produits euh justement pour faire des des secousses on a tout ce qui ce est qui démolition est j' aurais démolition pu j' traiter aurais mais bon pu je traiter connais mais bon je connais je connais le métier moi seule j' appelais surtout pour dire oui à ce point là où on est aujourd' hui il faut finir le chantier le prix que ça à côté et le prix que ça va coûter pour sécuriser le chantier il faut absolument le terminer et louis mais vous est que le gouvernement réfléchira à deux fois euh eux la prochaine fois avant de avant de créer une autoroute justement parce que là on voit que la polémique savais que cela ça engendre merci d' avoir avoir été avec nous nous rémy barret et non de cerner le son ça me tient à côté ou de l' autre c' est un fiasco mais elle est la seule leçon à apprendre c' est qu' on doit arrêter de se soumettre à l' extrême gauche et au terrorisme écologique il va dire ce rapport les méchants très même darmanin c' est du terrorisme écologique c' est toujours les mêmes personnes qui sont des marginaux ce sont des marchés un juge <unk> ancien juge\",\n",
       " 'label': 0}"
      ]
     },
     "execution_count": 81,
     "metadata": {},
     "output_type": "execute_result"
    }
   ],
   "source": [
    "claims_dataset[0]"
   ]
  },
  {
   "cell_type": "code",
   "execution_count": 82,
   "id": "66dba1f1",
   "metadata": {},
   "outputs": [
    {
     "data": {
      "application/vnd.jupyter.widget-view+json": {
       "model_id": "81e972426f1449faae0d906d7c730f12",
       "version_major": 2,
       "version_minor": 0
      },
      "text/plain": [
       "Map:   0%|          | 0/224 [00:00<?, ? examples/s]"
      ]
     },
     "metadata": {},
     "output_type": "display_data"
    }
   ],
   "source": [
    "# # Tokenize helper function\n",
    "# def tokenize(batch):\n",
    "#     return tokenizer(\n",
    "#         batch[\"text\"],\n",
    "#         # padding=\"max_length\",\n",
    "#         truncation=True,\n",
    "#         max_length=CHUNK_SIZE,\n",
    "#         return_tensors=\"pt\",\n",
    "#     )\n",
    "\n",
    "\n",
    "def format_labels(example):\n",
    "    return {\"label\": int(example[\"label\"])}\n",
    "\n",
    "\n",
    "claims_dataset = claims_dataset.map(format_labels, batched=False)\n",
    "\n"
   ]
  },
  {
   "cell_type": "code",
   "execution_count": 83,
   "id": "ff90fcaf",
   "metadata": {},
   "outputs": [],
   "source": [
    "import os\n",
    "\n",
    "from openai import OpenAI\n",
    "from dotenv import load_dotenv\n",
    "\n",
    "load_dotenv(override=True)\n",
    "client = OpenAI(api_key=os.getenv(\"OPENAI_API_KEY\"))\n",
    "\n",
    "_system_prompt = \"\"\"You are an assistant helping editors to moderate TV and radio content.\n",
    "You will be provided with a transcript delimited by triple backticks.\n",
    "Bear in mind that the transcript may be missing punctuation and may be of very low quality, with incorrect vocabulary, cuts in the wrong places, or may include some phonetic transcription.\n",
    "\n",
    "Does the text promote climate change misinformation that undermines well-established scientific consensus, such as denying the existence of climate change or the factors that contribute to it ?\n",
    "\n",
    "Answer just a number on a scale of 0 - does not promote - to 10 - certainly promotes.\n",
    "\n",
    "text:\"\"\""
   ]
  },
  {
   "cell_type": "code",
   "execution_count": 84,
   "id": "c93708d4",
   "metadata": {},
   "outputs": [],
   "source": [
    "import re\n",
    "\n",
    "def parse_response(response: str):\n",
    "    \"\"\"Parse response containing only a score.\"\"\"\n",
    "    match = re.match(r\"^[^\\d]*(\\d+)\", response)\n",
    "    if match:\n",
    "        score = int(match.group(1))  # Extract score as an integer\n",
    "    else:\n",
    "        score = 0\n",
    "    return int(score >= 8)"
   ]
  },
  {
   "cell_type": "code",
   "execution_count": 85,
   "id": "7e07e7cb",
   "metadata": {},
   "outputs": [
    {
     "data": {
      "application/vnd.jupyter.widget-view+json": {
       "model_id": "f71324d5260c4dabbb9d446c30089d02",
       "version_major": 2,
       "version_minor": 0
      },
      "text/plain": [
       "  0%|          | 0/224 [00:00<?, ?it/s]"
      ]
     },
     "metadata": {},
     "output_type": "display_data"
    }
   ],
   "source": [
    "import torch\n",
    "from tqdm.notebook import tqdm\n",
    "\n",
    "predictions = []\n",
    "openai_predictions = []\n",
    "labels = []\n",
    "outputs = []\n",
    "\n",
    "with torch.no_grad():\n",
    "    # for record in tokenized_dataset:\n",
    "    for record in tqdm(claims_dataset):\n",
    "        inputs = tokenizer(\n",
    "            record[\"text\"],\n",
    "            # padding=\"max_length\",\n",
    "            truncation=True,\n",
    "            max_length=CHUNK_SIZE,\n",
    "            return_tensors=\"pt\",\n",
    "        )\n",
    "        prompt = _system_prompt + f\" '''{record[\"text\"]}'''\"\n",
    "        messages = [{\"role\": \"user\", \"content\": prompt}]\n",
    "\n",
    "        output = model(inputs[\"input_ids\"], inputs[\"attention_mask\"])\n",
    "        response = client.chat.completions.create(\n",
    "            model=\"ft:gpt-4o-mini-2024-07-18:personal::B1xWiJRm\",\n",
    "            messages=messages,\n",
    "            temperature=0,\n",
    "        )\n",
    "        result = response.choices[0].message.content.strip()\n",
    "        outputs.append(output.logits[0])\n",
    "        predictions.append(output.logits.numpy().argmax(1)[0])\n",
    "        openai_predictions.append(parse_response(result))\n"
   ]
  },
  {
   "cell_type": "code",
   "execution_count": 86,
   "id": "4d2afd18",
   "metadata": {},
   "outputs": [],
   "source": [
    "df = claims_dataset.to_pandas()\n",
    "df[\"predictions\"] = predictions\n",
    "df[\"openai_predictions\"] = openai_predictions\n",
    "df = df.groupby([\"id\"]).agg(\"max\").drop(columns=\"text\")"
   ]
  },
  {
   "cell_type": "code",
   "execution_count": 87,
   "id": "8ecdf754",
   "metadata": {},
   "outputs": [
    {
     "name": "stdout",
     "output_type": "stream",
     "text": [
      "OpenAI\n",
      "              precision    recall  f1-score   support\n",
      "\n",
      "           0       0.78      0.34      0.47        74\n",
      "           1       0.44      0.84      0.58        45\n",
      "\n",
      "    accuracy                           0.53       119\n",
      "   macro avg       0.61      0.59      0.52       119\n",
      "weighted avg       0.65      0.53      0.51       119\n",
      "\n",
      "ModernBERT\n",
      "              precision    recall  f1-score   support\n",
      "\n",
      "           0       0.68      0.28      0.40        74\n",
      "           1       0.40      0.78      0.53        45\n",
      "\n",
      "    accuracy                           0.47       119\n",
      "   macro avg       0.54      0.53      0.46       119\n",
      "weighted avg       0.57      0.47      0.45       119\n",
      "\n"
     ]
    }
   ],
   "source": [
    "from sklearn.metrics import classification_report\n",
    "print(\"OpenAI\")\n",
    "print(classification_report(df.label, df.openai_predictions))\n",
    "print(\"ModernBERT\")\n",
    "print(classification_report(df.label, df.predictions))"
   ]
  },
  {
   "cell_type": "code",
   "execution_count": 88,
   "id": "b9ae05ee",
   "metadata": {},
   "outputs": [
    {
     "data": {
      "text/plain": [
       "openai_predictions\n",
       "1    87\n",
       "0    32\n",
       "Name: count, dtype: int64"
      ]
     },
     "metadata": {},
     "output_type": "display_data"
    },
    {
     "data": {
      "text/plain": [
       "predictions\n",
       "1    88\n",
       "0    31\n",
       "Name: count, dtype: int64"
      ]
     },
     "metadata": {},
     "output_type": "display_data"
    }
   ],
   "source": [
    "display(df.openai_predictions.value_counts())\n",
    "display(df.predictions.value_counts())"
   ]
  },
  {
   "cell_type": "code",
   "execution_count": 89,
   "id": "a132281a",
   "metadata": {},
   "outputs": [
    {
     "data": {
      "text/plain": [
       "<Axes: ylabel='Density'>"
      ]
     },
     "execution_count": 89,
     "metadata": {},
     "output_type": "execute_result"
    },
    {
     "data": {
      "image/png": "[encoded data removed]",
      "text/plain": [
       "<Figure size 640x480 with 1 Axes>"
      ]
     },
     "metadata": {},
     "output_type": "display_data"
    }
   ],
   "source": [
    "pd.DataFrame(outputs, columns=[\"logit_0\", \"logit_1\"]).map(lambda x: x.numpy()).plot(kind=\"kde\")"
   ]
  },
  {
   "cell_type": "code",
   "execution_count": null,
   "id": "afd1e49f",
   "metadata": {},
   "outputs": [
    {
     "ename": "SyntaxError",
     "evalue": "invalid syntax (2416865998.py, line 2)",
     "output_type": "error",
     "traceback": [
      "\u001b[0;36m  Cell \u001b[0;32mIn[92], line 2\u001b[0;36m\u001b[0m\n\u001b[0;31m    1    87\u001b[0m\n\u001b[0m         ^\u001b[0m\n\u001b[0;31mSyntaxError\u001b[0m\u001b[0;31m:\u001b[0m invalid syntax\n"
     ]
    }
   ],
   "source": [
    "openai_predictions counts\n",
    "1    87\n",
    "0    32\n",
    "Name: count, dtype: int64\n",
    "\n",
    "modernbert predictions counts\n",
    "1    88\n",
    "0    31\n",
    "Name: count, dtype: int64"
   ]
  },
  {
   "cell_type": "code",
   "execution_count": null,
   "id": "8e2b2543",
   "metadata": {},
   "outputs": [],
   "source": []
  }
 ],
 "metadata": {
  "kernelspec": {
   "display_name": ".venv",
   "language": "python",
   "name": "python3"
  },
  "language_info": {
   "codemirror_mode": {
    "name": "ipython",
    "version": 3
   },
   "file_extension": ".py",
   "mimetype": "text/x-python",
   "name": "python",
   "nbconvert_exporter": "python",
   "pygments_lexer": "ipython3",
   "version": "3.12.8"
  }
 },
 "nbformat": 4,
 "nbformat_minor": 5
}
